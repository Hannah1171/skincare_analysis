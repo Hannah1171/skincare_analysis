{
 "cells": [
  {
   "cell_type": "code",
   "execution_count": 2,
   "id": "02afbf2c",
   "metadata": {},
   "outputs": [],
   "source": [
    "import pandas as pd\n",
    "import numpy as np\n",
    "import matplotlib.pyplot as plt\n",
    "df = pd.read_csv(\"../../data/comments_posts_transcripts.csv\")"
   ]
  },
  {
   "cell_type": "code",
   "execution_count": 3,
   "id": "5c159393",
   "metadata": {},
   "outputs": [
    {
     "data": {
      "text/plain": [
       "Index(['post_id', 'text', 'textLanguage', 'createTimeISO', 'isAd',\n",
       "       'author_nickName', 'author_signature', 'author_fans', 'video_duration',\n",
       "       'webVideoUrl', 'diggCount', 'shareCount', 'playCount', 'collectCount',\n",
       "       'commentCount', 'isSponsored', 'searchHashtag_name',\n",
       "       'searchHashtag_views', 'location_address', 'comment_id',\n",
       "       'comment_createTimeISO_comment', 'comment', 'diggCount_comment',\n",
       "       'replyCommentTotal_comment', 'uniqueId_comment', 'detected_language',\n",
       "       'transcribed_text', 'video_description', 'bucketUrl', 'date',\n",
       "       'comment_lang'],\n",
       "      dtype='object')"
      ]
     },
     "execution_count": 3,
     "metadata": {},
     "output_type": "execute_result"
    }
   ],
   "source": [
    "df.columns"
   ]
  },
  {
   "cell_type": "code",
   "execution_count": 32,
   "id": "037b3baf",
   "metadata": {},
   "outputs": [
    {
     "data": {
      "text/html": [
       "<div>\n",
       "<style scoped>\n",
       "    .dataframe tbody tr th:only-of-type {\n",
       "        vertical-align: middle;\n",
       "    }\n",
       "\n",
       "    .dataframe tbody tr th {\n",
       "        vertical-align: top;\n",
       "    }\n",
       "\n",
       "    .dataframe thead th {\n",
       "        text-align: right;\n",
       "    }\n",
       "</style>\n",
       "<table border=\"1\" class=\"dataframe\">\n",
       "  <thead>\n",
       "    <tr style=\"text-align: right;\">\n",
       "      <th></th>\n",
       "      <th>post_id</th>\n",
       "      <th>text</th>\n",
       "      <th>textLanguage</th>\n",
       "      <th>createTimeISO</th>\n",
       "      <th>isAd</th>\n",
       "      <th>author_nickName</th>\n",
       "      <th>author_signature</th>\n",
       "      <th>author_fans</th>\n",
       "      <th>video_duration</th>\n",
       "      <th>webVideoUrl</th>\n",
       "      <th>...</th>\n",
       "      <th>comment</th>\n",
       "      <th>diggCount_comment</th>\n",
       "      <th>replyCommentTotal_comment</th>\n",
       "      <th>uniqueId_comment</th>\n",
       "      <th>detected_language</th>\n",
       "      <th>transcribed_text</th>\n",
       "      <th>video_description</th>\n",
       "      <th>bucketUrl</th>\n",
       "      <th>date</th>\n",
       "      <th>comment_lang</th>\n",
       "    </tr>\n",
       "  </thead>\n",
       "  <tbody>\n",
       "    <tr>\n",
       "      <th>0</th>\n",
       "      <td>7479597326806371589</td>\n",
       "      <td>My skincare routine IG:paulinabussani #skincar...</td>\n",
       "      <td>en</td>\n",
       "      <td>2025-03-09 00:17:51+00:00</td>\n",
       "      <td>False</td>\n",
       "      <td>Paulina Bussani</td>\n",
       "      <td>🇲🇽📍🇦🇪\\nSu sobrecargo de confianza ✈️\\n📩: spaul...</td>\n",
       "      <td>216700</td>\n",
       "      <td>89</td>\n",
       "      <td>https://www.tiktok.com/@paulinabussani/video/7...</td>\n",
       "      <td>...</td>\n",
       "      <td>Do you have to have other work experience to b...</td>\n",
       "      <td>0</td>\n",
       "      <td>0.0</td>\n",
       "      <td>call1_me_lalie</td>\n",
       "      <td>en</td>\n",
       "      <td>[Music]</td>\n",
       "      <td>A woman shows her skincare routine in this vid...</td>\n",
       "      <td>https://storage.cloud.google.com/capstone-soci...</td>\n",
       "      <td>2025-03-09</td>\n",
       "      <td>en</td>\n",
       "    </tr>\n",
       "    <tr>\n",
       "      <th>1</th>\n",
       "      <td>7479597326806371589</td>\n",
       "      <td>My skincare routine IG:paulinabussani #skincar...</td>\n",
       "      <td>en</td>\n",
       "      <td>2025-03-09 00:17:51+00:00</td>\n",
       "      <td>False</td>\n",
       "      <td>Paulina Bussani</td>\n",
       "      <td>🇲🇽📍🇦🇪\\nSu sobrecargo de confianza ✈️\\n📩: spaul...</td>\n",
       "      <td>216700</td>\n",
       "      <td>89</td>\n",
       "      <td>https://www.tiktok.com/@paulinabussani/video/7...</td>\n",
       "      <td>...</td>\n",
       "      <td>😍😍😍 Amo</td>\n",
       "      <td>1</td>\n",
       "      <td>0.0</td>\n",
       "      <td>fatreyescantillo</td>\n",
       "      <td>en</td>\n",
       "      <td>[Music]</td>\n",
       "      <td>A woman shows her skincare routine in this vid...</td>\n",
       "      <td>https://storage.cloud.google.com/capstone-soci...</td>\n",
       "      <td>2025-03-09</td>\n",
       "      <td>en</td>\n",
       "    </tr>\n",
       "    <tr>\n",
       "      <th>2</th>\n",
       "      <td>7479597326806371589</td>\n",
       "      <td>My skincare routine IG:paulinabussani #skincar...</td>\n",
       "      <td>en</td>\n",
       "      <td>2025-03-09 00:17:51+00:00</td>\n",
       "      <td>False</td>\n",
       "      <td>Paulina Bussani</td>\n",
       "      <td>🇲🇽📍🇦🇪\\nSu sobrecargo de confianza ✈️\\n📩: spaul...</td>\n",
       "      <td>216700</td>\n",
       "      <td>89</td>\n",
       "      <td>https://www.tiktok.com/@paulinabussani/video/7...</td>\n",
       "      <td>...</td>\n",
       "      <td>Impressed by your content! For collaboration D...</td>\n",
       "      <td>0</td>\n",
       "      <td>0.0</td>\n",
       "      <td>gl_serina</td>\n",
       "      <td>en</td>\n",
       "      <td>[Music]</td>\n",
       "      <td>A woman shows her skincare routine in this vid...</td>\n",
       "      <td>https://storage.cloud.google.com/capstone-soci...</td>\n",
       "      <td>2025-03-09</td>\n",
       "      <td>en</td>\n",
       "    </tr>\n",
       "    <tr>\n",
       "      <th>3</th>\n",
       "      <td>7479597326806371589</td>\n",
       "      <td>My skincare routine IG:paulinabussani #skincar...</td>\n",
       "      <td>en</td>\n",
       "      <td>2025-03-09 00:17:51+00:00</td>\n",
       "      <td>False</td>\n",
       "      <td>Paulina Bussani</td>\n",
       "      <td>🇲🇽📍🇦🇪\\nSu sobrecargo de confianza ✈️\\n📩: spaul...</td>\n",
       "      <td>216700</td>\n",
       "      <td>89</td>\n",
       "      <td>https://www.tiktok.com/@paulinabussani/video/7...</td>\n",
       "      <td>...</td>\n",
       "      <td>hello prettyy, we're really impressed by your ...</td>\n",
       "      <td>0</td>\n",
       "      <td>0.0</td>\n",
       "      <td>eelry.elena</td>\n",
       "      <td>en</td>\n",
       "      <td>[Music]</td>\n",
       "      <td>A woman shows her skincare routine in this vid...</td>\n",
       "      <td>https://storage.cloud.google.com/capstone-soci...</td>\n",
       "      <td>2025-03-09</td>\n",
       "      <td>en</td>\n",
       "    </tr>\n",
       "    <tr>\n",
       "      <th>4</th>\n",
       "      <td>7479597326806371589</td>\n",
       "      <td>My skincare routine IG:paulinabussani #skincar...</td>\n",
       "      <td>en</td>\n",
       "      <td>2025-03-09 00:17:51+00:00</td>\n",
       "      <td>False</td>\n",
       "      <td>Paulina Bussani</td>\n",
       "      <td>🇲🇽📍🇦🇪\\nSu sobrecargo de confianza ✈️\\n📩: spaul...</td>\n",
       "      <td>216700</td>\n",
       "      <td>89</td>\n",
       "      <td>https://www.tiktok.com/@paulinabussani/video/7...</td>\n",
       "      <td>...</td>\n",
       "      <td>Wow , we love how you styled your outfit💎! Our...</td>\n",
       "      <td>0</td>\n",
       "      <td>0.0</td>\n",
       "      <td>brandmanager_sarah</td>\n",
       "      <td>en</td>\n",
       "      <td>[Music]</td>\n",
       "      <td>A woman shows her skincare routine in this vid...</td>\n",
       "      <td>https://storage.cloud.google.com/capstone-soci...</td>\n",
       "      <td>2025-03-09</td>\n",
       "      <td>en</td>\n",
       "    </tr>\n",
       "    <tr>\n",
       "      <th>...</th>\n",
       "      <td>...</td>\n",
       "      <td>...</td>\n",
       "      <td>...</td>\n",
       "      <td>...</td>\n",
       "      <td>...</td>\n",
       "      <td>...</td>\n",
       "      <td>...</td>\n",
       "      <td>...</td>\n",
       "      <td>...</td>\n",
       "      <td>...</td>\n",
       "      <td>...</td>\n",
       "      <td>...</td>\n",
       "      <td>...</td>\n",
       "      <td>...</td>\n",
       "      <td>...</td>\n",
       "      <td>...</td>\n",
       "      <td>...</td>\n",
       "      <td>...</td>\n",
       "      <td>...</td>\n",
       "      <td>...</td>\n",
       "      <td>...</td>\n",
       "    </tr>\n",
       "    <tr>\n",
       "      <th>30462</th>\n",
       "      <td>7507668384826379576</td>\n",
       "      <td>Its time to say bye bye to black heads 🧼 and h...</td>\n",
       "      <td>en</td>\n",
       "      <td>2025-05-23 15:47:47+00:00</td>\n",
       "      <td>False</td>\n",
       "      <td>Makeup Tutorials | Reviews</td>\n",
       "      <td>Makeup tutorials and reviews💄\\ndariia@caagency...</td>\n",
       "      <td>44600</td>\n",
       "      <td>21</td>\n",
       "      <td>https://www.tiktok.com/@idareen_/video/7507668...</td>\n",
       "      <td>...</td>\n",
       "      <td>Off topic but can I PLEASE know what your ligh...</td>\n",
       "      <td>4</td>\n",
       "      <td>3.0</td>\n",
       "      <td>sols00f_campus</td>\n",
       "      <td>NaN</td>\n",
       "      <td>NaN</td>\n",
       "      <td>NaN</td>\n",
       "      <td>NaN</td>\n",
       "      <td>2025-05-23</td>\n",
       "      <td>en</td>\n",
       "    </tr>\n",
       "    <tr>\n",
       "      <th>30463</th>\n",
       "      <td>7507668384826379576</td>\n",
       "      <td>Its time to say bye bye to black heads 🧼 and h...</td>\n",
       "      <td>en</td>\n",
       "      <td>2025-05-23 15:47:47+00:00</td>\n",
       "      <td>False</td>\n",
       "      <td>Makeup Tutorials | Reviews</td>\n",
       "      <td>Makeup tutorials and reviews💄\\ndariia@caagency...</td>\n",
       "      <td>44600</td>\n",
       "      <td>21</td>\n",
       "      <td>https://www.tiktok.com/@idareen_/video/7507668...</td>\n",
       "      <td>...</td>\n",
       "      <td>It works yall</td>\n",
       "      <td>63</td>\n",
       "      <td>1.0</td>\n",
       "      <td>sukkspooks</td>\n",
       "      <td>NaN</td>\n",
       "      <td>NaN</td>\n",
       "      <td>NaN</td>\n",
       "      <td>NaN</td>\n",
       "      <td>2025-05-23</td>\n",
       "      <td>en</td>\n",
       "    </tr>\n",
       "    <tr>\n",
       "      <th>30464</th>\n",
       "      <td>7507668384826379576</td>\n",
       "      <td>Its time to say bye bye to black heads 🧼 and h...</td>\n",
       "      <td>en</td>\n",
       "      <td>2025-05-23 15:47:47+00:00</td>\n",
       "      <td>False</td>\n",
       "      <td>Makeup Tutorials | Reviews</td>\n",
       "      <td>Makeup tutorials and reviews💄\\ndariia@caagency...</td>\n",
       "      <td>44600</td>\n",
       "      <td>21</td>\n",
       "      <td>https://www.tiktok.com/@idareen_/video/7507668...</td>\n",
       "      <td>...</td>\n",
       "      <td>Woww the difference 😍😍</td>\n",
       "      <td>31</td>\n",
       "      <td>1.0</td>\n",
       "      <td>sewargharz</td>\n",
       "      <td>NaN</td>\n",
       "      <td>NaN</td>\n",
       "      <td>NaN</td>\n",
       "      <td>NaN</td>\n",
       "      <td>2025-05-23</td>\n",
       "      <td>en</td>\n",
       "    </tr>\n",
       "    <tr>\n",
       "      <th>30465</th>\n",
       "      <td>7507668384826379576</td>\n",
       "      <td>Its time to say bye bye to black heads 🧼 and h...</td>\n",
       "      <td>en</td>\n",
       "      <td>2025-05-23 15:47:47+00:00</td>\n",
       "      <td>False</td>\n",
       "      <td>Makeup Tutorials | Reviews</td>\n",
       "      <td>Makeup tutorials and reviews💄\\ndariia@caagency...</td>\n",
       "      <td>44600</td>\n",
       "      <td>21</td>\n",
       "      <td>https://www.tiktok.com/@idareen_/video/7507668...</td>\n",
       "      <td>...</td>\n",
       "      <td>Possible picture outside the house, can please...</td>\n",
       "      <td>9</td>\n",
       "      <td>0.0</td>\n",
       "      <td>t.1zio9</td>\n",
       "      <td>NaN</td>\n",
       "      <td>NaN</td>\n",
       "      <td>NaN</td>\n",
       "      <td>NaN</td>\n",
       "      <td>2025-05-23</td>\n",
       "      <td>en</td>\n",
       "    </tr>\n",
       "    <tr>\n",
       "      <th>30466</th>\n",
       "      <td>7483717824050023698</td>\n",
       "      <td>Replying to @tbh skincare what other products ...</td>\n",
       "      <td>en</td>\n",
       "      <td>2025-03-20 02:47:24+00:00</td>\n",
       "      <td>False</td>\n",
       "      <td>bybryzz</td>\n",
       "      <td>26|Aus☀️\\nFoundr of @iLLRUGS \\nbryz@illicitrug...</td>\n",
       "      <td>135</td>\n",
       "      <td>41</td>\n",
       "      <td>https://www.tiktok.com/@bybryzz/video/74837178...</td>\n",
       "      <td>...</td>\n",
       "      <td>Tbh patches are top tier</td>\n",
       "      <td>1</td>\n",
       "      <td>3.0</td>\n",
       "      <td>itssammiebaby_</td>\n",
       "      <td>English</td>\n",
       "      <td>tbh my skincare is level zero. But lucky for m...</td>\n",
       "      <td>In a TikTok video, a shirtless man uses an acn...</td>\n",
       "      <td>https://storage.cloud.google.com/capstone-soci...</td>\n",
       "      <td>2025-03-20</td>\n",
       "      <td>en</td>\n",
       "    </tr>\n",
       "  </tbody>\n",
       "</table>\n",
       "<p>30467 rows × 31 columns</p>\n",
       "</div>"
      ],
      "text/plain": [
       "                   post_id                                               text  \\\n",
       "0      7479597326806371589  My skincare routine IG:paulinabussani #skincar...   \n",
       "1      7479597326806371589  My skincare routine IG:paulinabussani #skincar...   \n",
       "2      7479597326806371589  My skincare routine IG:paulinabussani #skincar...   \n",
       "3      7479597326806371589  My skincare routine IG:paulinabussani #skincar...   \n",
       "4      7479597326806371589  My skincare routine IG:paulinabussani #skincar...   \n",
       "...                    ...                                                ...   \n",
       "30462  7507668384826379576  Its time to say bye bye to black heads 🧼 and h...   \n",
       "30463  7507668384826379576  Its time to say bye bye to black heads 🧼 and h...   \n",
       "30464  7507668384826379576  Its time to say bye bye to black heads 🧼 and h...   \n",
       "30465  7507668384826379576  Its time to say bye bye to black heads 🧼 and h...   \n",
       "30466  7483717824050023698  Replying to @tbh skincare what other products ...   \n",
       "\n",
       "      textLanguage             createTimeISO   isAd  \\\n",
       "0               en 2025-03-09 00:17:51+00:00  False   \n",
       "1               en 2025-03-09 00:17:51+00:00  False   \n",
       "2               en 2025-03-09 00:17:51+00:00  False   \n",
       "3               en 2025-03-09 00:17:51+00:00  False   \n",
       "4               en 2025-03-09 00:17:51+00:00  False   \n",
       "...            ...                       ...    ...   \n",
       "30462           en 2025-05-23 15:47:47+00:00  False   \n",
       "30463           en 2025-05-23 15:47:47+00:00  False   \n",
       "30464           en 2025-05-23 15:47:47+00:00  False   \n",
       "30465           en 2025-05-23 15:47:47+00:00  False   \n",
       "30466           en 2025-03-20 02:47:24+00:00  False   \n",
       "\n",
       "                  author_nickName  \\\n",
       "0                 Paulina Bussani   \n",
       "1                 Paulina Bussani   \n",
       "2                 Paulina Bussani   \n",
       "3                 Paulina Bussani   \n",
       "4                 Paulina Bussani   \n",
       "...                           ...   \n",
       "30462  Makeup Tutorials | Reviews   \n",
       "30463  Makeup Tutorials | Reviews   \n",
       "30464  Makeup Tutorials | Reviews   \n",
       "30465  Makeup Tutorials | Reviews   \n",
       "30466                     bybryzz   \n",
       "\n",
       "                                        author_signature  author_fans  \\\n",
       "0      🇲🇽📍🇦🇪\\nSu sobrecargo de confianza ✈️\\n📩: spaul...       216700   \n",
       "1      🇲🇽📍🇦🇪\\nSu sobrecargo de confianza ✈️\\n📩: spaul...       216700   \n",
       "2      🇲🇽📍🇦🇪\\nSu sobrecargo de confianza ✈️\\n📩: spaul...       216700   \n",
       "3      🇲🇽📍🇦🇪\\nSu sobrecargo de confianza ✈️\\n📩: spaul...       216700   \n",
       "4      🇲🇽📍🇦🇪\\nSu sobrecargo de confianza ✈️\\n📩: spaul...       216700   \n",
       "...                                                  ...          ...   \n",
       "30462  Makeup tutorials and reviews💄\\ndariia@caagency...        44600   \n",
       "30463  Makeup tutorials and reviews💄\\ndariia@caagency...        44600   \n",
       "30464  Makeup tutorials and reviews💄\\ndariia@caagency...        44600   \n",
       "30465  Makeup tutorials and reviews💄\\ndariia@caagency...        44600   \n",
       "30466  26|Aus☀️\\nFoundr of @iLLRUGS \\nbryz@illicitrug...          135   \n",
       "\n",
       "       video_duration                                        webVideoUrl  ...  \\\n",
       "0                  89  https://www.tiktok.com/@paulinabussani/video/7...  ...   \n",
       "1                  89  https://www.tiktok.com/@paulinabussani/video/7...  ...   \n",
       "2                  89  https://www.tiktok.com/@paulinabussani/video/7...  ...   \n",
       "3                  89  https://www.tiktok.com/@paulinabussani/video/7...  ...   \n",
       "4                  89  https://www.tiktok.com/@paulinabussani/video/7...  ...   \n",
       "...               ...                                                ...  ...   \n",
       "30462              21  https://www.tiktok.com/@idareen_/video/7507668...  ...   \n",
       "30463              21  https://www.tiktok.com/@idareen_/video/7507668...  ...   \n",
       "30464              21  https://www.tiktok.com/@idareen_/video/7507668...  ...   \n",
       "30465              21  https://www.tiktok.com/@idareen_/video/7507668...  ...   \n",
       "30466              41  https://www.tiktok.com/@bybryzz/video/74837178...  ...   \n",
       "\n",
       "                                                 comment  diggCount_comment  \\\n",
       "0      Do you have to have other work experience to b...                  0   \n",
       "1                                                😍😍😍 Amo                  1   \n",
       "2      Impressed by your content! For collaboration D...                  0   \n",
       "3      hello prettyy, we're really impressed by your ...                  0   \n",
       "4      Wow , we love how you styled your outfit💎! Our...                  0   \n",
       "...                                                  ...                ...   \n",
       "30462  Off topic but can I PLEASE know what your ligh...                  4   \n",
       "30463                                      It works yall                 63   \n",
       "30464                             Woww the difference 😍😍                 31   \n",
       "30465  Possible picture outside the house, can please...                  9   \n",
       "30466                           Tbh patches are top tier                  1   \n",
       "\n",
       "       replyCommentTotal_comment    uniqueId_comment  detected_language  \\\n",
       "0                            0.0      call1_me_lalie                 en   \n",
       "1                            0.0    fatreyescantillo                 en   \n",
       "2                            0.0           gl_serina                 en   \n",
       "3                            0.0         eelry.elena                 en   \n",
       "4                            0.0  brandmanager_sarah                 en   \n",
       "...                          ...                 ...                ...   \n",
       "30462                        3.0      sols00f_campus                NaN   \n",
       "30463                        1.0          sukkspooks                NaN   \n",
       "30464                        1.0          sewargharz                NaN   \n",
       "30465                        0.0             t.1zio9                NaN   \n",
       "30466                        3.0      itssammiebaby_            English   \n",
       "\n",
       "                                        transcribed_text  \\\n",
       "0                                                [Music]   \n",
       "1                                                [Music]   \n",
       "2                                                [Music]   \n",
       "3                                                [Music]   \n",
       "4                                                [Music]   \n",
       "...                                                  ...   \n",
       "30462                                                NaN   \n",
       "30463                                                NaN   \n",
       "30464                                                NaN   \n",
       "30465                                                NaN   \n",
       "30466  tbh my skincare is level zero. But lucky for m...   \n",
       "\n",
       "                                       video_description  \\\n",
       "0      A woman shows her skincare routine in this vid...   \n",
       "1      A woman shows her skincare routine in this vid...   \n",
       "2      A woman shows her skincare routine in this vid...   \n",
       "3      A woman shows her skincare routine in this vid...   \n",
       "4      A woman shows her skincare routine in this vid...   \n",
       "...                                                  ...   \n",
       "30462                                                NaN   \n",
       "30463                                                NaN   \n",
       "30464                                                NaN   \n",
       "30465                                                NaN   \n",
       "30466  In a TikTok video, a shirtless man uses an acn...   \n",
       "\n",
       "                                               bucketUrl        date  \\\n",
       "0      https://storage.cloud.google.com/capstone-soci...  2025-03-09   \n",
       "1      https://storage.cloud.google.com/capstone-soci...  2025-03-09   \n",
       "2      https://storage.cloud.google.com/capstone-soci...  2025-03-09   \n",
       "3      https://storage.cloud.google.com/capstone-soci...  2025-03-09   \n",
       "4      https://storage.cloud.google.com/capstone-soci...  2025-03-09   \n",
       "...                                                  ...         ...   \n",
       "30462                                                NaN  2025-05-23   \n",
       "30463                                                NaN  2025-05-23   \n",
       "30464                                                NaN  2025-05-23   \n",
       "30465                                                NaN  2025-05-23   \n",
       "30466  https://storage.cloud.google.com/capstone-soci...  2025-03-20   \n",
       "\n",
       "       comment_lang  \n",
       "0                en  \n",
       "1                en  \n",
       "2                en  \n",
       "3                en  \n",
       "4                en  \n",
       "...             ...  \n",
       "30462            en  \n",
       "30463            en  \n",
       "30464            en  \n",
       "30465            en  \n",
       "30466            en  \n",
       "\n",
       "[30467 rows x 31 columns]"
      ]
     },
     "execution_count": 32,
     "metadata": {},
     "output_type": "execute_result"
    }
   ],
   "source": [
    "df"
   ]
  },
  {
   "cell_type": "code",
   "execution_count": 4,
   "id": "ca7490cc",
   "metadata": {},
   "outputs": [
    {
     "data": {
      "image/png": "[encoded data removed]",
      "text/plain": [
       "<Figure size 1200x500 with 1 Axes>"
      ]
     },
     "metadata": {},
     "output_type": "display_data"
    }
   ],
   "source": [
    "# Ensure createTimeISO is UTC-aware\n",
    "df[\"createTimeISO\"] = pd.to_datetime(df[\"createTimeISO\"], utc=True, errors=\"coerce\")\n",
    "\n",
    "# Use UTC-aware filter date\n",
    "start_date = pd.Timestamp(\"2025-01-01\", tz=\"UTC\")\n",
    "\n",
    "# Filter\n",
    "mask = df[\"createTimeISO\"] >= start_date\n",
    "\n",
    "# Count posts per day\n",
    "posts_per_day = df.loc[mask, \"createTimeISO\"].dt.date.value_counts().sort_index()\n",
    "\n",
    "# Plot\n",
    "plt.figure(figsize=(12, 5))\n",
    "posts_per_day.plot()\n",
    "plt.title(\"Number of Posts Per Day\")\n",
    "plt.xlabel(\"Date\")\n",
    "plt.ylabel(\"Post Count\")\n",
    "plt.xticks(rotation=45)\n",
    "plt.tight_layout()\n",
    "plt.show()\n"
   ]
  },
  {
   "cell_type": "code",
   "execution_count": 5,
   "id": "179adc44",
   "metadata": {},
   "outputs": [],
   "source": [
    "df2 = pd.read_csv(\"../../data/posts_transcripts.csv\")"
   ]
  },
  {
   "cell_type": "code",
   "execution_count": 6,
   "id": "b64e0ff7",
   "metadata": {},
   "outputs": [
    {
     "data": {
      "text/plain": [
       "Index(['post_id', 'text', 'textLanguage', 'createTimeISO', 'isAd',\n",
       "       'author_nickName', 'author_signature', 'author_fans', 'video_duration',\n",
       "       'webVideoUrl', 'diggCount', 'shareCount', 'playCount', 'collectCount',\n",
       "       'commentCount', 'isSponsored', 'searchHashtag_name',\n",
       "       'searchHashtag_views', 'location_address', 'detected_language',\n",
       "       'transcribed_text', 'video_description', 'bucketUrl', 'date'],\n",
       "      dtype='object')"
      ]
     },
     "execution_count": 6,
     "metadata": {},
     "output_type": "execute_result"
    }
   ],
   "source": [
    "df2.columns\n",
    "\n",
    "\n"
   ]
  },
  {
   "cell_type": "code",
   "execution_count": 7,
   "id": "fe33f325",
   "metadata": {},
   "outputs": [
    {
     "data": {
      "text/html": [
       "<div>\n",
       "<style scoped>\n",
       "    .dataframe tbody tr th:only-of-type {\n",
       "        vertical-align: middle;\n",
       "    }\n",
       "\n",
       "    .dataframe tbody tr th {\n",
       "        vertical-align: top;\n",
       "    }\n",
       "\n",
       "    .dataframe thead th {\n",
       "        text-align: right;\n",
       "    }\n",
       "</style>\n",
       "<table border=\"1\" class=\"dataframe\">\n",
       "  <thead>\n",
       "    <tr style=\"text-align: right;\">\n",
       "      <th></th>\n",
       "      <th>post_id</th>\n",
       "      <th>text</th>\n",
       "      <th>textLanguage</th>\n",
       "      <th>createTimeISO</th>\n",
       "      <th>isAd</th>\n",
       "      <th>author_nickName</th>\n",
       "      <th>author_signature</th>\n",
       "      <th>author_fans</th>\n",
       "      <th>video_duration</th>\n",
       "      <th>webVideoUrl</th>\n",
       "      <th>...</th>\n",
       "      <th>searchHashtag_views</th>\n",
       "      <th>location_address</th>\n",
       "      <th>detected_language</th>\n",
       "      <th>transcribed_text</th>\n",
       "      <th>video_description</th>\n",
       "      <th>bucketUrl</th>\n",
       "      <th>date</th>\n",
       "      <th>week</th>\n",
       "      <th>month</th>\n",
       "      <th>engagement</th>\n",
       "    </tr>\n",
       "  </thead>\n",
       "  <tbody>\n",
       "    <tr>\n",
       "      <th>0</th>\n",
       "      <td>7474632602004065558</td>\n",
       "      <td>actual results :                              ...</td>\n",
       "      <td>en</td>\n",
       "      <td>2025-02-23 15:12:05+00:00</td>\n",
       "      <td>False</td>\n",
       "      <td>manel</td>\n",
       "      <td>pigeonne, bronzée, parle trop, vite\\n\\nmanel_m...</td>\n",
       "      <td>358500</td>\n",
       "      <td>87</td>\n",
       "      <td>https://www.tiktok.com/@manelparletrop/video/7...</td>\n",
       "      <td>...</td>\n",
       "      <td>598900000000</td>\n",
       "      <td>NaN</td>\n",
       "      <td>No</td>\n",
       "      <td>No transcription.</td>\n",
       "      <td>Watch a woman go through a detailed process, s...</td>\n",
       "      <td>https://storage.cloud.google.com/capstone-soci...</td>\n",
       "      <td>2025-02-23</td>\n",
       "      <td>8</td>\n",
       "      <td>2025-02</td>\n",
       "      <td>2862800</td>\n",
       "    </tr>\n",
       "    <tr>\n",
       "      <th>1</th>\n",
       "      <td>7473230663089622318</td>\n",
       "      <td>In 2 weeks?????🥹 Product name : @SKIN1004 US T...</td>\n",
       "      <td>en</td>\n",
       "      <td>2025-02-19 20:32:14+00:00</td>\n",
       "      <td>False</td>\n",
       "      <td>Skincarebyshade</td>\n",
       "      <td>https://www.amazon.com/dp/B0DNMJDMTW</td>\n",
       "      <td>121500</td>\n",
       "      <td>21</td>\n",
       "      <td>https://www.tiktok.com/@skin_carebyshade/video...</td>\n",
       "      <td>...</td>\n",
       "      <td>656700000000</td>\n",
       "      <td>NaN</td>\n",
       "      <td>English</td>\n",
       "      <td>two steps ahead. I am always two steps ahead.</td>\n",
       "      <td>A woman with braided hair is applying a tone-b...</td>\n",
       "      <td>https://storage.cloud.google.com/capstone-soci...</td>\n",
       "      <td>2025-02-19</td>\n",
       "      <td>8</td>\n",
       "      <td>2025-02</td>\n",
       "      <td>1784000</td>\n",
       "    </tr>\n",
       "    <tr>\n",
       "      <th>2</th>\n",
       "      <td>7473877998098320662</td>\n",
       "      <td>Réponse à @🇹🇴 WHY ?  #morningroutine #mornings...</td>\n",
       "      <td>en</td>\n",
       "      <td>2025-02-21 14:23:51+00:00</td>\n",
       "      <td>False</td>\n",
       "      <td>𝐾’🪩</td>\n",
       "      <td>🫶🏼☁️🩰✨🧖🏽‍♀️🪩</td>\n",
       "      <td>37800</td>\n",
       "      <td>62</td>\n",
       "      <td>https://www.tiktok.com/@kalck9/video/747387799...</td>\n",
       "      <td>...</td>\n",
       "      <td>157300000000</td>\n",
       "      <td>NaN</td>\n",
       "      <td>NaN</td>\n",
       "      <td>NaN</td>\n",
       "      <td>NaN</td>\n",
       "      <td>NaN</td>\n",
       "      <td>2025-02-21</td>\n",
       "      <td>8</td>\n",
       "      <td>2025-02</td>\n",
       "      <td>2331700</td>\n",
       "    </tr>\n",
       "    <tr>\n",
       "      <th>3</th>\n",
       "      <td>7473529835084582152</td>\n",
       "      <td>Don't forget to add this ampoule to your routi...</td>\n",
       "      <td>en</td>\n",
       "      <td>2025-02-20 15:52:47+00:00</td>\n",
       "      <td>False</td>\n",
       "      <td>heylina</td>\n",
       "      <td>Beauty│Skincare│Lifestyle\\n\\n📍Seoul, Korea\\n💌h...</td>\n",
       "      <td>111300</td>\n",
       "      <td>16</td>\n",
       "      <td>https://www.tiktok.com/@heylina2484/video/7473...</td>\n",
       "      <td>...</td>\n",
       "      <td>251400000</td>\n",
       "      <td>NaN</td>\n",
       "      <td>English</td>\n",
       "      <td>two steps ahead. I am always two steps ahead.</td>\n",
       "      <td>A woman shares how she is using a clear serum ...</td>\n",
       "      <td>https://storage.cloud.google.com/capstone-soci...</td>\n",
       "      <td>2025-02-20</td>\n",
       "      <td>8</td>\n",
       "      <td>2025-02</td>\n",
       "      <td>954895</td>\n",
       "    </tr>\n",
       "    <tr>\n",
       "      <th>4</th>\n",
       "      <td>7472426157053349142</td>\n",
       "      <td>night routine ☁️ #skincare #skincareroutine #g...</td>\n",
       "      <td>en</td>\n",
       "      <td>2025-02-17 16:29:56+00:00</td>\n",
       "      <td>True</td>\n",
       "      <td>Fanny | skincare &amp; ASMR ☁️</td>\n",
       "      <td>contact: fanny@eliotmgmt.com 🫦</td>\n",
       "      <td>6100000</td>\n",
       "      <td>29</td>\n",
       "      <td>https://www.tiktok.com/@by.fannys/video/747242...</td>\n",
       "      <td>...</td>\n",
       "      <td>656700000000</td>\n",
       "      <td>NaN</td>\n",
       "      <td>English</td>\n",
       "      <td>[Music]</td>\n",
       "      <td>A woman with a towel wrapped around her hair d...</td>\n",
       "      <td>https://storage.cloud.google.com/capstone-soci...</td>\n",
       "      <td>2025-02-17</td>\n",
       "      <td>8</td>\n",
       "      <td>2025-02</td>\n",
       "      <td>258680</td>\n",
       "    </tr>\n",
       "  </tbody>\n",
       "</table>\n",
       "<p>5 rows × 27 columns</p>\n",
       "</div>"
      ],
      "text/plain": [
       "               post_id                                               text  \\\n",
       "0  7474632602004065558  actual results :                              ...   \n",
       "1  7473230663089622318  In 2 weeks?????🥹 Product name : @SKIN1004 US T...   \n",
       "2  7473877998098320662  Réponse à @🇹🇴 WHY ?  #morningroutine #mornings...   \n",
       "3  7473529835084582152  Don't forget to add this ampoule to your routi...   \n",
       "4  7472426157053349142  night routine ☁️ #skincare #skincareroutine #g...   \n",
       "\n",
       "  textLanguage              createTimeISO   isAd             author_nickName  \\\n",
       "0           en  2025-02-23 15:12:05+00:00  False                       manel   \n",
       "1           en  2025-02-19 20:32:14+00:00  False             Skincarebyshade   \n",
       "2           en  2025-02-21 14:23:51+00:00  False                         𝐾’🪩   \n",
       "3           en  2025-02-20 15:52:47+00:00  False                     heylina   \n",
       "4           en  2025-02-17 16:29:56+00:00   True  Fanny | skincare & ASMR ☁️   \n",
       "\n",
       "                                    author_signature  author_fans  \\\n",
       "0  pigeonne, bronzée, parle trop, vite\\n\\nmanel_m...       358500   \n",
       "1               https://www.amazon.com/dp/B0DNMJDMTW       121500   \n",
       "2                                       🫶🏼☁️🩰✨🧖🏽‍♀️🪩        37800   \n",
       "3  Beauty│Skincare│Lifestyle\\n\\n📍Seoul, Korea\\n💌h...       111300   \n",
       "4                     contact: fanny@eliotmgmt.com 🫦      6100000   \n",
       "\n",
       "   video_duration                                        webVideoUrl  ...  \\\n",
       "0              87  https://www.tiktok.com/@manelparletrop/video/7...  ...   \n",
       "1              21  https://www.tiktok.com/@skin_carebyshade/video...  ...   \n",
       "2              62  https://www.tiktok.com/@kalck9/video/747387799...  ...   \n",
       "3              16  https://www.tiktok.com/@heylina2484/video/7473...  ...   \n",
       "4              29  https://www.tiktok.com/@by.fannys/video/747242...  ...   \n",
       "\n",
       "   searchHashtag_views  location_address  detected_language  \\\n",
       "0         598900000000               NaN                 No   \n",
       "1         656700000000               NaN            English   \n",
       "2         157300000000               NaN                NaN   \n",
       "3            251400000               NaN            English   \n",
       "4         656700000000               NaN            English   \n",
       "\n",
       "                                transcribed_text  \\\n",
       "0                              No transcription.   \n",
       "1  two steps ahead. I am always two steps ahead.   \n",
       "2                                            NaN   \n",
       "3  two steps ahead. I am always two steps ahead.   \n",
       "4                                        [Music]   \n",
       "\n",
       "                                   video_description  \\\n",
       "0  Watch a woman go through a detailed process, s...   \n",
       "1  A woman with braided hair is applying a tone-b...   \n",
       "2                                                NaN   \n",
       "3  A woman shares how she is using a clear serum ...   \n",
       "4  A woman with a towel wrapped around her hair d...   \n",
       "\n",
       "                                           bucketUrl       date  week  \\\n",
       "0  https://storage.cloud.google.com/capstone-soci... 2025-02-23     8   \n",
       "1  https://storage.cloud.google.com/capstone-soci... 2025-02-19     8   \n",
       "2                                                NaN 2025-02-21     8   \n",
       "3  https://storage.cloud.google.com/capstone-soci... 2025-02-20     8   \n",
       "4  https://storage.cloud.google.com/capstone-soci... 2025-02-17     8   \n",
       "\n",
       "     month engagement  \n",
       "0  2025-02    2862800  \n",
       "1  2025-02    1784000  \n",
       "2  2025-02    2331700  \n",
       "3  2025-02     954895  \n",
       "4  2025-02     258680  \n",
       "\n",
       "[5 rows x 27 columns]"
      ]
     },
     "execution_count": 7,
     "metadata": {},
     "output_type": "execute_result"
    }
   ],
   "source": [
    "import pandas as pd\n",
    "\n",
    "# Step 1: Convert date to datetime\n",
    "df2['date'] = pd.to_datetime(df2['date'])\n",
    "\n",
    "# Step 2: Add week and month columns\n",
    "df2['week'] = df2['date'].dt.isocalendar().week\n",
    "df2['month'] = df2['date'].dt.to_period('M')\n",
    "\n",
    "# Step 3: Define an engagement score\n",
    "df2['engagement'] = df2['diggCount'] + df2['shareCount'] + df2['commentCount'] + df2['collectCount']\n",
    "\n",
    "# Step 4: Get top 5 videos per week\n",
    "top5_weekly = (\n",
    "    df2.sort_values(['week', 'playCount', 'engagement'], ascending=[True, False, False])\n",
    "      .groupby('week')\n",
    "      .head(5)\n",
    "      .reset_index(drop=True)\n",
    ")\n",
    "\n",
    "# Step 5: Get top 5 videos per month\n",
    "top5_monthly = (\n",
    "    df2.sort_values(['month', 'playCount', 'engagement'], ascending=[True, False, False])\n",
    "      .groupby('month')\n",
    "      .head(5)\n",
    "      .reset_index(drop=True)\n",
    ")\n",
    "\n",
    "\n",
    "top5_weekly[top5_weekly['week']==8]"
   ]
  },
  {
   "cell_type": "code",
   "execution_count": 8,
   "id": "975a1853",
   "metadata": {},
   "outputs": [],
   "source": [
    "df3=pd.read_csv(\"../../data/keywords.csv\")"
   ]
  },
  {
   "cell_type": "code",
   "execution_count": 9,
   "id": "21cab174",
   "metadata": {},
   "outputs": [
    {
     "data": {
      "text/plain": [
       "Index(['date', 'keyword', 'tfidf_score', 'mentions'], dtype='object')"
      ]
     },
     "execution_count": 9,
     "metadata": {},
     "output_type": "execute_result"
    }
   ],
   "source": [
    "df3.columns"
   ]
  },
  {
   "cell_type": "code",
   "execution_count": 10,
   "id": "d73b06ff",
   "metadata": {},
   "outputs": [
    {
     "data": {
      "text/html": [
       "<div>\n",
       "<style scoped>\n",
       "    .dataframe tbody tr th:only-of-type {\n",
       "        vertical-align: middle;\n",
       "    }\n",
       "\n",
       "    .dataframe tbody tr th {\n",
       "        vertical-align: top;\n",
       "    }\n",
       "\n",
       "    .dataframe thead th {\n",
       "        text-align: right;\n",
       "    }\n",
       "</style>\n",
       "<table border=\"1\" class=\"dataframe\">\n",
       "  <thead>\n",
       "    <tr style=\"text-align: right;\">\n",
       "      <th></th>\n",
       "      <th>date</th>\n",
       "      <th>keyword</th>\n",
       "      <th>tfidf_score</th>\n",
       "      <th>mentions</th>\n",
       "    </tr>\n",
       "  </thead>\n",
       "  <tbody>\n",
       "    <tr>\n",
       "      <th>0</th>\n",
       "      <td>2025-04-28/2025-05-04</td>\n",
       "      <td>skincare routine</td>\n",
       "      <td>1.0074</td>\n",
       "      <td>10</td>\n",
       "    </tr>\n",
       "    <tr>\n",
       "      <th>1</th>\n",
       "      <td>2025-04-28/2025-05-04</td>\n",
       "      <td>aloe vera</td>\n",
       "      <td>0.6469</td>\n",
       "      <td>6</td>\n",
       "    </tr>\n",
       "    <tr>\n",
       "      <th>2</th>\n",
       "      <td>2025-04-28/2025-05-04</td>\n",
       "      <td>skin skin</td>\n",
       "      <td>0.5538</td>\n",
       "      <td>6</td>\n",
       "    </tr>\n",
       "    <tr>\n",
       "      <th>3</th>\n",
       "      <td>2025-05-05/2025-05-11</td>\n",
       "      <td>skin care</td>\n",
       "      <td>1.8686</td>\n",
       "      <td>16</td>\n",
       "    </tr>\n",
       "    <tr>\n",
       "      <th>4</th>\n",
       "      <td>2025-05-05/2025-05-11</td>\n",
       "      <td>skincare routine</td>\n",
       "      <td>1.8643</td>\n",
       "      <td>28</td>\n",
       "    </tr>\n",
       "    <tr>\n",
       "      <th>5</th>\n",
       "      <td>2025-05-05/2025-05-11</td>\n",
       "      <td>type girl</td>\n",
       "      <td>1.7449</td>\n",
       "      <td>5</td>\n",
       "    </tr>\n",
       "    <tr>\n",
       "      <th>6</th>\n",
       "      <td>2025-05-05/2025-05-11</td>\n",
       "      <td>pretty baby</td>\n",
       "      <td>1.6402</td>\n",
       "      <td>8</td>\n",
       "    </tr>\n",
       "    <tr>\n",
       "      <th>7</th>\n",
       "      <td>2025-05-05/2025-05-11</td>\n",
       "      <td>hours telling</td>\n",
       "      <td>1.3726</td>\n",
       "      <td>7</td>\n",
       "    </tr>\n",
       "    <tr>\n",
       "      <th>8</th>\n",
       "      <td>2025-05-05/2025-05-11</td>\n",
       "      <td>sit hours telling</td>\n",
       "      <td>1.3726</td>\n",
       "      <td>7</td>\n",
       "    </tr>\n",
       "    <tr>\n",
       "      <th>9</th>\n",
       "      <td>2025-05-05/2025-05-11</td>\n",
       "      <td>flowers sit hours</td>\n",
       "      <td>1.3726</td>\n",
       "      <td>7</td>\n",
       "    </tr>\n",
       "    <tr>\n",
       "      <th>10</th>\n",
       "      <td>2025-05-05/2025-05-11</td>\n",
       "      <td>flowers sit</td>\n",
       "      <td>1.3726</td>\n",
       "      <td>7</td>\n",
       "    </tr>\n",
       "    <tr>\n",
       "      <th>11</th>\n",
       "      <td>2025-05-05/2025-05-11</td>\n",
       "      <td>sit hours</td>\n",
       "      <td>1.3726</td>\n",
       "      <td>7</td>\n",
       "    </tr>\n",
       "    <tr>\n",
       "      <th>12</th>\n",
       "      <td>2025-05-05/2025-05-11</td>\n",
       "      <td>morning routine</td>\n",
       "      <td>1.3248</td>\n",
       "      <td>6</td>\n",
       "    </tr>\n",
       "    <tr>\n",
       "      <th>13</th>\n",
       "      <td>2025-05-05/2025-05-11</td>\n",
       "      <td>korean skincare</td>\n",
       "      <td>1.3068</td>\n",
       "      <td>5</td>\n",
       "    </tr>\n",
       "    <tr>\n",
       "      <th>14</th>\n",
       "      <td>2025-05-05/2025-05-11</td>\n",
       "      <td>hours telling bluebirds</td>\n",
       "      <td>1.1665</td>\n",
       "      <td>6</td>\n",
       "    </tr>\n",
       "    <tr>\n",
       "      <th>15</th>\n",
       "      <td>2025-05-05/2025-05-11</td>\n",
       "      <td>telling bluebirds</td>\n",
       "      <td>1.1665</td>\n",
       "      <td>6</td>\n",
       "    </tr>\n",
       "    <tr>\n",
       "      <th>16</th>\n",
       "      <td>2025-05-05/2025-05-11</td>\n",
       "      <td>pretty baby love</td>\n",
       "      <td>1.1665</td>\n",
       "      <td>6</td>\n",
       "    </tr>\n",
       "    <tr>\n",
       "      <th>17</th>\n",
       "      <td>2025-05-05/2025-05-11</td>\n",
       "      <td>baby love</td>\n",
       "      <td>1.1665</td>\n",
       "      <td>6</td>\n",
       "    </tr>\n",
       "    <tr>\n",
       "      <th>18</th>\n",
       "      <td>2025-05-05/2025-05-11</td>\n",
       "      <td>birds pretty</td>\n",
       "      <td>1.1665</td>\n",
       "      <td>6</td>\n",
       "    </tr>\n",
       "    <tr>\n",
       "      <th>19</th>\n",
       "      <td>2025-05-05/2025-05-11</td>\n",
       "      <td>birds pretty baby</td>\n",
       "      <td>1.1665</td>\n",
       "      <td>6</td>\n",
       "    </tr>\n",
       "    <tr>\n",
       "      <th>20</th>\n",
       "      <td>2025-05-05/2025-05-11</td>\n",
       "      <td>eye cream</td>\n",
       "      <td>0.9662</td>\n",
       "      <td>11</td>\n",
       "    </tr>\n",
       "    <tr>\n",
       "      <th>21</th>\n",
       "      <td>2025-05-05/2025-05-11</td>\n",
       "      <td>skin barrier</td>\n",
       "      <td>0.7327</td>\n",
       "      <td>11</td>\n",
       "    </tr>\n",
       "    <tr>\n",
       "      <th>22</th>\n",
       "      <td>2025-05-05/2025-05-11</td>\n",
       "      <td>bye guys</td>\n",
       "      <td>0.6916</td>\n",
       "      <td>11</td>\n",
       "    </tr>\n",
       "    <tr>\n",
       "      <th>23</th>\n",
       "      <td>2025-05-05/2025-05-11</td>\n",
       "      <td>dry skin</td>\n",
       "      <td>0.6689</td>\n",
       "      <td>10</td>\n",
       "    </tr>\n",
       "    <tr>\n",
       "      <th>24</th>\n",
       "      <td>2025-05-12/2025-05-18</td>\n",
       "      <td>skincare routine</td>\n",
       "      <td>2.9726</td>\n",
       "      <td>45</td>\n",
       "    </tr>\n",
       "    <tr>\n",
       "      <th>25</th>\n",
       "      <td>2025-05-12/2025-05-18</td>\n",
       "      <td>pretty baby</td>\n",
       "      <td>1.5070</td>\n",
       "      <td>6</td>\n",
       "    </tr>\n",
       "    <tr>\n",
       "      <th>26</th>\n",
       "      <td>2025-05-12/2025-05-18</td>\n",
       "      <td>love love</td>\n",
       "      <td>1.3250</td>\n",
       "      <td>6</td>\n",
       "    </tr>\n",
       "    <tr>\n",
       "      <th>27</th>\n",
       "      <td>2025-05-12/2025-05-18</td>\n",
       "      <td>baby love</td>\n",
       "      <td>1.2527</td>\n",
       "      <td>8</td>\n",
       "    </tr>\n",
       "    <tr>\n",
       "      <th>28</th>\n",
       "      <td>2025-05-12/2025-05-18</td>\n",
       "      <td>pretty baby love</td>\n",
       "      <td>1.2172</td>\n",
       "      <td>6</td>\n",
       "    </tr>\n",
       "    <tr>\n",
       "      <th>29</th>\n",
       "      <td>2025-05-12/2025-05-18</td>\n",
       "      <td>skin care</td>\n",
       "      <td>1.1870</td>\n",
       "      <td>18</td>\n",
       "    </tr>\n",
       "    <tr>\n",
       "      <th>30</th>\n",
       "      <td>2025-05-12/2025-05-18</td>\n",
       "      <td>hyaluronic acid</td>\n",
       "      <td>1.0581</td>\n",
       "      <td>14</td>\n",
       "    </tr>\n",
       "    <tr>\n",
       "      <th>31</th>\n",
       "      <td>2025-05-12/2025-05-18</td>\n",
       "      <td>dead skin</td>\n",
       "      <td>1.0309</td>\n",
       "      <td>10</td>\n",
       "    </tr>\n",
       "    <tr>\n",
       "      <th>32</th>\n",
       "      <td>2025-05-12/2025-05-18</td>\n",
       "      <td>birds pretty</td>\n",
       "      <td>1.0298</td>\n",
       "      <td>5</td>\n",
       "    </tr>\n",
       "    <tr>\n",
       "      <th>33</th>\n",
       "      <td>2025-05-12/2025-05-18</td>\n",
       "      <td>hours telling</td>\n",
       "      <td>1.0156</td>\n",
       "      <td>6</td>\n",
       "    </tr>\n",
       "    <tr>\n",
       "      <th>34</th>\n",
       "      <td>2025-05-12/2025-05-18</td>\n",
       "      <td>eye cream</td>\n",
       "      <td>1.0020</td>\n",
       "      <td>14</td>\n",
       "    </tr>\n",
       "    <tr>\n",
       "      <th>35</th>\n",
       "      <td>2025-05-12/2025-05-18</td>\n",
       "      <td>cleansing oil</td>\n",
       "      <td>0.9633</td>\n",
       "      <td>12</td>\n",
       "    </tr>\n",
       "    <tr>\n",
       "      <th>36</th>\n",
       "      <td>2025-05-12/2025-05-18</td>\n",
       "      <td>dry skin</td>\n",
       "      <td>0.9067</td>\n",
       "      <td>18</td>\n",
       "    </tr>\n",
       "    <tr>\n",
       "      <th>37</th>\n",
       "      <td>2025-05-12/2025-05-18</td>\n",
       "      <td>sit hours</td>\n",
       "      <td>0.8244</td>\n",
       "      <td>5</td>\n",
       "    </tr>\n",
       "    <tr>\n",
       "      <th>38</th>\n",
       "      <td>2025-05-12/2025-05-18</td>\n",
       "      <td>sit hours telling</td>\n",
       "      <td>0.8244</td>\n",
       "      <td>5</td>\n",
       "    </tr>\n",
       "    <tr>\n",
       "      <th>39</th>\n",
       "      <td>2025-05-12/2025-05-18</td>\n",
       "      <td>flowers sit</td>\n",
       "      <td>0.8244</td>\n",
       "      <td>5</td>\n",
       "    </tr>\n",
       "    <tr>\n",
       "      <th>40</th>\n",
       "      <td>2025-05-12/2025-05-18</td>\n",
       "      <td>flowers sit hours</td>\n",
       "      <td>0.8244</td>\n",
       "      <td>5</td>\n",
       "    </tr>\n",
       "    <tr>\n",
       "      <th>41</th>\n",
       "      <td>2025-05-12/2025-05-18</td>\n",
       "      <td>acne prone</td>\n",
       "      <td>0.8016</td>\n",
       "      <td>10</td>\n",
       "    </tr>\n",
       "    <tr>\n",
       "      <th>42</th>\n",
       "      <td>2025-05-12/2025-05-18</td>\n",
       "      <td>trockene haut</td>\n",
       "      <td>0.7408</td>\n",
       "      <td>7</td>\n",
       "    </tr>\n",
       "    <tr>\n",
       "      <th>43</th>\n",
       "      <td>2025-05-12/2025-05-18</td>\n",
       "      <td>anti aging</td>\n",
       "      <td>0.7297</td>\n",
       "      <td>10</td>\n",
       "    </tr>\n",
       "    <tr>\n",
       "      <th>44</th>\n",
       "      <td>2025-05-12/2025-05-18</td>\n",
       "      <td>glass skin</td>\n",
       "      <td>0.7053</td>\n",
       "      <td>8</td>\n",
       "    </tr>\n",
       "    <tr>\n",
       "      <th>45</th>\n",
       "      <td>2025-05-12/2025-05-18</td>\n",
       "      <td>nighttime skincare</td>\n",
       "      <td>0.6898</td>\n",
       "      <td>7</td>\n",
       "    </tr>\n",
       "    <tr>\n",
       "      <th>46</th>\n",
       "      <td>2025-05-12/2025-05-18</td>\n",
       "      <td>nighttime skincare routine</td>\n",
       "      <td>0.6898</td>\n",
       "      <td>7</td>\n",
       "    </tr>\n",
       "    <tr>\n",
       "      <th>47</th>\n",
       "      <td>2025-05-19/2025-05-25</td>\n",
       "      <td>skincare routine</td>\n",
       "      <td>3.9859</td>\n",
       "      <td>28</td>\n",
       "    </tr>\n",
       "    <tr>\n",
       "      <th>48</th>\n",
       "      <td>2025-05-19/2025-05-25</td>\n",
       "      <td>skin care</td>\n",
       "      <td>1.5910</td>\n",
       "      <td>15</td>\n",
       "    </tr>\n",
       "    <tr>\n",
       "      <th>49</th>\n",
       "      <td>2025-05-19/2025-05-25</td>\n",
       "      <td>sensitive skin</td>\n",
       "      <td>0.9871</td>\n",
       "      <td>11</td>\n",
       "    </tr>\n",
       "    <tr>\n",
       "      <th>50</th>\n",
       "      <td>2025-05-19/2025-05-25</td>\n",
       "      <td>hyaluronic acid</td>\n",
       "      <td>0.8942</td>\n",
       "      <td>11</td>\n",
       "    </tr>\n",
       "    <tr>\n",
       "      <th>51</th>\n",
       "      <td>2025-05-19/2025-05-25</td>\n",
       "      <td>love love</td>\n",
       "      <td>0.8389</td>\n",
       "      <td>5</td>\n",
       "    </tr>\n",
       "    <tr>\n",
       "      <th>52</th>\n",
       "      <td>2025-05-19/2025-05-25</td>\n",
       "      <td>eye cream</td>\n",
       "      <td>0.6197</td>\n",
       "      <td>10</td>\n",
       "    </tr>\n",
       "    <tr>\n",
       "      <th>53</th>\n",
       "      <td>2025-05-19/2025-05-25</td>\n",
       "      <td>glass skin</td>\n",
       "      <td>0.6038</td>\n",
       "      <td>9</td>\n",
       "    </tr>\n",
       "  </tbody>\n",
       "</table>\n",
       "</div>"
      ],
      "text/plain": [
       "                     date                     keyword  tfidf_score  mentions\n",
       "0   2025-04-28/2025-05-04            skincare routine       1.0074        10\n",
       "1   2025-04-28/2025-05-04                   aloe vera       0.6469         6\n",
       "2   2025-04-28/2025-05-04                   skin skin       0.5538         6\n",
       "3   2025-05-05/2025-05-11                   skin care       1.8686        16\n",
       "4   2025-05-05/2025-05-11            skincare routine       1.8643        28\n",
       "5   2025-05-05/2025-05-11                   type girl       1.7449         5\n",
       "6   2025-05-05/2025-05-11                 pretty baby       1.6402         8\n",
       "7   2025-05-05/2025-05-11               hours telling       1.3726         7\n",
       "8   2025-05-05/2025-05-11           sit hours telling       1.3726         7\n",
       "9   2025-05-05/2025-05-11           flowers sit hours       1.3726         7\n",
       "10  2025-05-05/2025-05-11                 flowers sit       1.3726         7\n",
       "11  2025-05-05/2025-05-11                   sit hours       1.3726         7\n",
       "12  2025-05-05/2025-05-11             morning routine       1.3248         6\n",
       "13  2025-05-05/2025-05-11             korean skincare       1.3068         5\n",
       "14  2025-05-05/2025-05-11     hours telling bluebirds       1.1665         6\n",
       "15  2025-05-05/2025-05-11           telling bluebirds       1.1665         6\n",
       "16  2025-05-05/2025-05-11            pretty baby love       1.1665         6\n",
       "17  2025-05-05/2025-05-11                   baby love       1.1665         6\n",
       "18  2025-05-05/2025-05-11                birds pretty       1.1665         6\n",
       "19  2025-05-05/2025-05-11           birds pretty baby       1.1665         6\n",
       "20  2025-05-05/2025-05-11                   eye cream       0.9662        11\n",
       "21  2025-05-05/2025-05-11                skin barrier       0.7327        11\n",
       "22  2025-05-05/2025-05-11                    bye guys       0.6916        11\n",
       "23  2025-05-05/2025-05-11                    dry skin       0.6689        10\n",
       "24  2025-05-12/2025-05-18            skincare routine       2.9726        45\n",
       "25  2025-05-12/2025-05-18                 pretty baby       1.5070         6\n",
       "26  2025-05-12/2025-05-18                   love love       1.3250         6\n",
       "27  2025-05-12/2025-05-18                   baby love       1.2527         8\n",
       "28  2025-05-12/2025-05-18            pretty baby love       1.2172         6\n",
       "29  2025-05-12/2025-05-18                   skin care       1.1870        18\n",
       "30  2025-05-12/2025-05-18             hyaluronic acid       1.0581        14\n",
       "31  2025-05-12/2025-05-18                   dead skin       1.0309        10\n",
       "32  2025-05-12/2025-05-18                birds pretty       1.0298         5\n",
       "33  2025-05-12/2025-05-18               hours telling       1.0156         6\n",
       "34  2025-05-12/2025-05-18                   eye cream       1.0020        14\n",
       "35  2025-05-12/2025-05-18               cleansing oil       0.9633        12\n",
       "36  2025-05-12/2025-05-18                    dry skin       0.9067        18\n",
       "37  2025-05-12/2025-05-18                   sit hours       0.8244         5\n",
       "38  2025-05-12/2025-05-18           sit hours telling       0.8244         5\n",
       "39  2025-05-12/2025-05-18                 flowers sit       0.8244         5\n",
       "40  2025-05-12/2025-05-18           flowers sit hours       0.8244         5\n",
       "41  2025-05-12/2025-05-18                  acne prone       0.8016        10\n",
       "42  2025-05-12/2025-05-18               trockene haut       0.7408         7\n",
       "43  2025-05-12/2025-05-18                  anti aging       0.7297        10\n",
       "44  2025-05-12/2025-05-18                  glass skin       0.7053         8\n",
       "45  2025-05-12/2025-05-18          nighttime skincare       0.6898         7\n",
       "46  2025-05-12/2025-05-18  nighttime skincare routine       0.6898         7\n",
       "47  2025-05-19/2025-05-25            skincare routine       3.9859        28\n",
       "48  2025-05-19/2025-05-25                   skin care       1.5910        15\n",
       "49  2025-05-19/2025-05-25              sensitive skin       0.9871        11\n",
       "50  2025-05-19/2025-05-25             hyaluronic acid       0.8942        11\n",
       "51  2025-05-19/2025-05-25                   love love       0.8389         5\n",
       "52  2025-05-19/2025-05-25                   eye cream       0.6197        10\n",
       "53  2025-05-19/2025-05-25                  glass skin       0.6038         9"
      ]
     },
     "execution_count": 10,
     "metadata": {},
     "output_type": "execute_result"
    }
   ],
   "source": [
    "df3"
   ]
  },
  {
   "cell_type": "code",
   "execution_count": 11,
   "id": "a14613e8",
   "metadata": {},
   "outputs": [],
   "source": [
    "df4=pd.read_csv(\"/Users/ritushetkar/Downloads/dummy_topic.csv\")"
   ]
  },
  {
   "cell_type": "code",
   "execution_count": null,
   "id": "ebb639a2",
   "metadata": {},
   "outputs": [],
   "source": []
  },
  {
   "cell_type": "code",
   "execution_count": 12,
   "id": "c1d78755",
   "metadata": {},
   "outputs": [],
   "source": [
    "df6=pd.read_csv(\"/Users/ritushetkar/env_capstone/data/top5_weekly.csv\")"
   ]
  },
  {
   "cell_type": "code",
   "execution_count": 13,
   "id": "98b508d5",
   "metadata": {},
   "outputs": [
    {
     "data": {
      "text/plain": [
       "Index(['post_id', 'text', 'textLanguage', 'createTimeISO', 'isAd',\n",
       "       'author_nickName', 'author_signature', 'author_fans', 'video_duration',\n",
       "       'diggCount', 'shareCount', 'playCount', 'collectCount', 'commentCount',\n",
       "       'isSponsored', 'searchHashtag_name', 'searchHashtag_views',\n",
       "       'location_address', 'detected_language', 'transcribed_text',\n",
       "       'video_description', 'bucketUrl', 'date', 'week', 'month'],\n",
       "      dtype='object')"
      ]
     },
     "execution_count": 13,
     "metadata": {},
     "output_type": "execute_result"
    }
   ],
   "source": [
    "df6.columns"
   ]
  },
  {
   "cell_type": "code",
   "execution_count": null,
   "id": "63fb54a2",
   "metadata": {},
   "outputs": [],
   "source": []
  },
  {
   "cell_type": "code",
   "execution_count": 14,
   "id": "0322b785",
   "metadata": {},
   "outputs": [],
   "source": [
    "#caffinate it "
   ]
  },
  {
   "cell_type": "code",
   "execution_count": 15,
   "id": "d7b93c1b",
   "metadata": {},
   "outputs": [],
   "source": [
    "df7=pd.read_csv('/Users/ritushetkar/Downloads/dummy_topic.csv')"
   ]
  },
  {
   "cell_type": "code",
   "execution_count": 16,
   "id": "4c430c97",
   "metadata": {},
   "outputs": [
    {
     "data": {
      "text/plain": [
       "Index(['Unnamed: 0', 'Topic', 'Words', 'Frequency', 'Timestamp', 'TopicName',\n",
       "       'Keywords', 'ExampleComments', 'Time', 'Proportion'],\n",
       "      dtype='object')"
      ]
     },
     "execution_count": 16,
     "metadata": {},
     "output_type": "execute_result"
    }
   ],
   "source": [
    "df7.columns"
   ]
  },
  {
   "cell_type": "code",
   "execution_count": 18,
   "id": "34410739",
   "metadata": {},
   "outputs": [
    {
     "data": {
      "text/html": [
       "<div>\n",
       "<style scoped>\n",
       "    .dataframe tbody tr th:only-of-type {\n",
       "        vertical-align: middle;\n",
       "    }\n",
       "\n",
       "    .dataframe tbody tr th {\n",
       "        vertical-align: top;\n",
       "    }\n",
       "\n",
       "    .dataframe thead th {\n",
       "        text-align: right;\n",
       "    }\n",
       "</style>\n",
       "<table border=\"1\" class=\"dataframe\">\n",
       "  <thead>\n",
       "    <tr style=\"text-align: right;\">\n",
       "      <th></th>\n",
       "      <th>Unnamed: 0</th>\n",
       "      <th>Topic</th>\n",
       "      <th>Words</th>\n",
       "      <th>Frequency</th>\n",
       "      <th>Timestamp</th>\n",
       "      <th>TopicName</th>\n",
       "      <th>Keywords</th>\n",
       "      <th>ExampleComments</th>\n",
       "      <th>Time</th>\n",
       "      <th>Proportion</th>\n",
       "    </tr>\n",
       "  </thead>\n",
       "  <tbody>\n",
       "    <tr>\n",
       "      <th>0</th>\n",
       "      <td>68</td>\n",
       "      <td>0</td>\n",
       "      <td>hating, yall, 22, yall hating, njz</td>\n",
       "      <td>59</td>\n",
       "      <td>2025-02-24</td>\n",
       "      <td>yall hating beautiful girl lisa comments talki...</td>\n",
       "      <td>yall hating beautiful girl lisa comments talki...</td>\n",
       "      <td>['the way she’s just slowly losing clout …', '...</td>\n",
       "      <td>2025-02-17 00:00:00 – 2025-03-24 00:00:00</td>\n",
       "      <td>0.036020</td>\n",
       "    </tr>\n",
       "    <tr>\n",
       "      <th>1</th>\n",
       "      <td>69</td>\n",
       "      <td>1</td>\n",
       "      <td>wash, cleanser, oil, soap, body</td>\n",
       "      <td>53</td>\n",
       "      <td>2025-02-24</td>\n",
       "      <td>bath soap</td>\n",
       "      <td>cleanser oil cleansing wash oil cleanser clean...</td>\n",
       "      <td>['Should we wash our face first?', 'this video...</td>\n",
       "      <td>2025-02-17 00:00:00 – 2025-03-24 00:00:00</td>\n",
       "      <td>0.032357</td>\n",
       "    </tr>\n",
       "    <tr>\n",
       "      <th>2</th>\n",
       "      <td>196</td>\n",
       "      <td>0</td>\n",
       "      <td>augenbrauen, lilo, drops routine, troom, remin...</td>\n",
       "      <td>85</td>\n",
       "      <td>2025-03-03</td>\n",
       "      <td>yall hating beautiful girl lisa comments talki...</td>\n",
       "      <td>yall hating beautiful girl lisa comments talki...</td>\n",
       "      <td>['the way she’s just slowly losing clout …', '...</td>\n",
       "      <td>2025-02-17 00:00:00 – 2025-03-24 00:00:00</td>\n",
       "      <td>0.036765</td>\n",
       "    </tr>\n",
       "    <tr>\n",
       "      <th>3</th>\n",
       "      <td>197</td>\n",
       "      <td>1</td>\n",
       "      <td>bath, cleanser, wash, oil, oil cleanser</td>\n",
       "      <td>86</td>\n",
       "      <td>2025-03-03</td>\n",
       "      <td>bath soap</td>\n",
       "      <td>cleanser oil cleansing wash oil cleanser clean...</td>\n",
       "      <td>['Should we wash our face first?', 'this video...</td>\n",
       "      <td>2025-02-17 00:00:00 – 2025-03-24 00:00:00</td>\n",
       "      <td>0.037197</td>\n",
       "    </tr>\n",
       "    <tr>\n",
       "      <th>4</th>\n",
       "      <td>198</td>\n",
       "      <td>2</td>\n",
       "      <td>videos, video, vids, love videos, videos love</td>\n",
       "      <td>66</td>\n",
       "      <td>2025-03-03</td>\n",
       "      <td>I love your videos</td>\n",
       "      <td>videos video love videos vids love youtube wat...</td>\n",
       "      <td>['How do I find the videos with your mom? 55 h...</td>\n",
       "      <td>2025-02-17 00:00:00 – 2025-03-24 00:00:00</td>\n",
       "      <td>0.028547</td>\n",
       "    </tr>\n",
       "  </tbody>\n",
       "</table>\n",
       "</div>"
      ],
      "text/plain": [
       "   Unnamed: 0  Topic                                              Words  \\\n",
       "0          68      0                 hating, yall, 22, yall hating, njz   \n",
       "1          69      1                    wash, cleanser, oil, soap, body   \n",
       "2         196      0  augenbrauen, lilo, drops routine, troom, remin...   \n",
       "3         197      1            bath, cleanser, wash, oil, oil cleanser   \n",
       "4         198      2      videos, video, vids, love videos, videos love   \n",
       "\n",
       "   Frequency   Timestamp                                          TopicName  \\\n",
       "0         59  2025-02-24  yall hating beautiful girl lisa comments talki...   \n",
       "1         53  2025-02-24                                          bath soap   \n",
       "2         85  2025-03-03  yall hating beautiful girl lisa comments talki...   \n",
       "3         86  2025-03-03                                          bath soap   \n",
       "4         66  2025-03-03                                 I love your videos   \n",
       "\n",
       "                                            Keywords  \\\n",
       "0  yall hating beautiful girl lisa comments talki...   \n",
       "1  cleanser oil cleansing wash oil cleanser clean...   \n",
       "2  yall hating beautiful girl lisa comments talki...   \n",
       "3  cleanser oil cleansing wash oil cleanser clean...   \n",
       "4  videos video love videos vids love youtube wat...   \n",
       "\n",
       "                                     ExampleComments  \\\n",
       "0  ['the way she’s just slowly losing clout …', '...   \n",
       "1  ['Should we wash our face first?', 'this video...   \n",
       "2  ['the way she’s just slowly losing clout …', '...   \n",
       "3  ['Should we wash our face first?', 'this video...   \n",
       "4  ['How do I find the videos with your mom? 55 h...   \n",
       "\n",
       "                                        Time  Proportion  \n",
       "0  2025-02-17 00:00:00 – 2025-03-24 00:00:00    0.036020  \n",
       "1  2025-02-17 00:00:00 – 2025-03-24 00:00:00    0.032357  \n",
       "2  2025-02-17 00:00:00 – 2025-03-24 00:00:00    0.036765  \n",
       "3  2025-02-17 00:00:00 – 2025-03-24 00:00:00    0.037197  \n",
       "4  2025-02-17 00:00:00 – 2025-03-24 00:00:00    0.028547  "
      ]
     },
     "execution_count": 18,
     "metadata": {},
     "output_type": "execute_result"
    }
   ],
   "source": [
    "df7.head()"
   ]
  },
  {
   "cell_type": "code",
   "execution_count": 33,
   "id": "9cb05e33",
   "metadata": {},
   "outputs": [],
   "source": [
    "df5=pd.read_csv('/Users/ritushetkar/env_capstone/data/keywords.csv')"
   ]
  },
  {
   "cell_type": "code",
   "execution_count": 34,
   "id": "1e445956",
   "metadata": {},
   "outputs": [
    {
     "data": {
      "text/plain": [
       "Index(['date', 'keyword', 'tfidf_score', 'mentions'], dtype='object')"
      ]
     },
     "execution_count": 34,
     "metadata": {},
     "output_type": "execute_result"
    }
   ],
   "source": [
    "df5.columns"
   ]
  },
  {
   "cell_type": "code",
   "execution_count": 35,
   "id": "16710fb4",
   "metadata": {},
   "outputs": [
    {
     "data": {
      "text/html": [
       "<div>\n",
       "<style scoped>\n",
       "    .dataframe tbody tr th:only-of-type {\n",
       "        vertical-align: middle;\n",
       "    }\n",
       "\n",
       "    .dataframe tbody tr th {\n",
       "        vertical-align: top;\n",
       "    }\n",
       "\n",
       "    .dataframe thead th {\n",
       "        text-align: right;\n",
       "    }\n",
       "</style>\n",
       "<table border=\"1\" class=\"dataframe\">\n",
       "  <thead>\n",
       "    <tr style=\"text-align: right;\">\n",
       "      <th></th>\n",
       "      <th>date</th>\n",
       "      <th>keyword</th>\n",
       "      <th>tfidf_score</th>\n",
       "      <th>mentions</th>\n",
       "    </tr>\n",
       "  </thead>\n",
       "  <tbody>\n",
       "    <tr>\n",
       "      <th>0</th>\n",
       "      <td>2025-05-04</td>\n",
       "      <td>skincare routine</td>\n",
       "      <td>0.6298</td>\n",
       "      <td>5</td>\n",
       "    </tr>\n",
       "    <tr>\n",
       "      <th>1</th>\n",
       "      <td>2025-05-11</td>\n",
       "      <td>skin care</td>\n",
       "      <td>1.8691</td>\n",
       "      <td>16</td>\n",
       "    </tr>\n",
       "    <tr>\n",
       "      <th>2</th>\n",
       "      <td>2025-05-11</td>\n",
       "      <td>skincare routine</td>\n",
       "      <td>1.8652</td>\n",
       "      <td>28</td>\n",
       "    </tr>\n",
       "    <tr>\n",
       "      <th>3</th>\n",
       "      <td>2025-05-11</td>\n",
       "      <td>type girl</td>\n",
       "      <td>1.7450</td>\n",
       "      <td>5</td>\n",
       "    </tr>\n",
       "    <tr>\n",
       "      <th>4</th>\n",
       "      <td>2025-05-11</td>\n",
       "      <td>pretty baby</td>\n",
       "      <td>1.6404</td>\n",
       "      <td>8</td>\n",
       "    </tr>\n",
       "  </tbody>\n",
       "</table>\n",
       "</div>"
      ],
      "text/plain": [
       "         date           keyword  tfidf_score  mentions\n",
       "0  2025-05-04  skincare routine       0.6298         5\n",
       "1  2025-05-11         skin care       1.8691        16\n",
       "2  2025-05-11  skincare routine       1.8652        28\n",
       "3  2025-05-11         type girl       1.7450         5\n",
       "4  2025-05-11       pretty baby       1.6404         8"
      ]
     },
     "execution_count": 35,
     "metadata": {},
     "output_type": "execute_result"
    }
   ],
   "source": [
    "df5.head()\n"
   ]
  },
  {
   "cell_type": "code",
   "execution_count": 25,
   "id": "cad58764",
   "metadata": {},
   "outputs": [
    {
     "data": {
      "application/vnd.plotly.v1+json": {
       "config": {
        "plotlyServerURL": "https://plot.ly"
       },
       "data": [
        {
         "customdata": [
          [
           "yall hating beautiful girl lisa comments talking woman guys pretty",
           "['the way she’s just slowly losing clout …', 'what is that blue stuff on her lips 😭', 'Wie gemein sind hier die Leute in den Kommentaren 😳gönnt ihr doch , sie ist hübsch und hat so einen glow up Tipp gegeben!']"
          ],
          [
           "yall hating beautiful girl lisa comments talking woman guys pretty",
           "['the way she’s just slowly losing clout …', 'what is that blue stuff on her lips 😭', 'Wie gemein sind hier die Leute in den Kommentaren 😳gönnt ihr doch , sie ist hübsch und hat so einen glow up Tipp gegeben!']"
          ],
          [
           "yall hating beautiful girl lisa comments talking woman guys pretty",
           "['the way she’s just slowly losing clout …', 'what is that blue stuff on her lips 😭', 'Wie gemein sind hier die Leute in den Kommentaren 😳gönnt ihr doch , sie ist hübsch und hat so einen glow up Tipp gegeben!']"
          ],
          [
           "yall hating beautiful girl lisa comments talking woman guys pretty",
           "['the way she’s just slowly losing clout …', 'what is that blue stuff on her lips 😭', 'Wie gemein sind hier die Leute in den Kommentaren 😳gönnt ihr doch , sie ist hübsch und hat so einen glow up Tipp gegeben!']"
          ],
          [
           "yall hating beautiful girl lisa comments talking woman guys pretty",
           "['the way she’s just slowly losing clout …', 'what is that blue stuff on her lips 😭', 'Wie gemein sind hier die Leute in den Kommentaren 😳gönnt ihr doch , sie ist hübsch und hat so einen glow up Tipp gegeben!']"
          ]
         ],
         "hovertemplate": "TopicName=yall hating beautiful girl lisa comments talking woman guys pretty<br>Timestamp=%{x}<br>Proportion=%{y}<br>Keywords=%{customdata[0]}<br>ExampleComments=%{customdata[1]}<extra></extra>",
         "legendgroup": "yall hating beautiful girl lisa comments talking woman guys pretty",
         "line": {
          "color": "#636efa",
          "dash": "solid"
         },
         "marker": {
          "symbol": "circle"
         },
         "mode": "lines",
         "name": "yall hating beautiful girl lisa comments talking woman guys pretty",
         "orientation": "v",
         "showlegend": true,
         "type": "scatter",
         "x": [
          "2025-02-24T00:00:00.000000000",
          "2025-03-03T00:00:00.000000000",
          "2025-03-10T00:00:00.000000000",
          "2025-03-17T00:00:00.000000000",
          "2025-03-24T00:00:00.000000000"
         ],
         "xaxis": "x",
         "y": {
          "bdata": "ECdxEidxoj/N0tLS0tKiP2/RalwdIqQ/QlEURVEUpT9cQWUcXSuhPw==",
          "dtype": "f8"
         },
         "yaxis": "y"
        },
        {
         "customdata": [
          [
           "cleanser oil cleansing wash oil cleanser cleansing oil water bath soap cleanse",
           "['Should we wash our face first?', 'this video was soo relaxing.. the water sounds .. I did not think watching someone bath would be relaxing', 'My fyp is telling me to take a bath 😭😭']"
          ],
          [
           "cleanser oil cleansing wash oil cleanser cleansing oil water bath soap cleanse",
           "['Should we wash our face first?', 'this video was soo relaxing.. the water sounds .. I did not think watching someone bath would be relaxing', 'My fyp is telling me to take a bath 😭😭']"
          ],
          [
           "cleanser oil cleansing wash oil cleanser cleansing oil water bath soap cleanse",
           "['Should we wash our face first?', 'this video was soo relaxing.. the water sounds .. I did not think watching someone bath would be relaxing', 'My fyp is telling me to take a bath 😭😭']"
          ],
          [
           "cleanser oil cleansing wash oil cleanser cleansing oil water bath soap cleanse",
           "['Should we wash our face first?', 'this video was soo relaxing.. the water sounds .. I did not think watching someone bath would be relaxing', 'My fyp is telling me to take a bath 😭😭']"
          ],
          [
           "cleanser oil cleansing wash oil cleanser cleansing oil water bath soap cleanse",
           "['Should we wash our face first?', 'this video was soo relaxing.. the water sounds .. I did not think watching someone bath would be relaxing', 'My fyp is telling me to take a bath 😭😭']"
          ]
         ],
         "hovertemplate": "TopicName=bath soap<br>Timestamp=%{x}<br>Proportion=%{y}<br>Keywords=%{customdata[0]}<br>ExampleComments=%{customdata[1]}<extra></extra>",
         "legendgroup": "bath soap",
         "line": {
          "color": "#EF553B",
          "dash": "solid"
         },
         "marker": {
          "symbol": "circle"
         },
         "mode": "lines",
         "name": "bath soap",
         "orientation": "v",
         "showlegend": true,
         "type": "scatter",
         "x": [
          "2025-02-24T00:00:00.000000000",
          "2025-03-03T00:00:00.000000000",
          "2025-03-10T00:00:00.000000000",
          "2025-03-17T00:00:00.000000000",
          "2025-03-24T00:00:00.000000000"
         ],
         "xaxis": "x",
         "y": {
          "bdata": "CAmREAmRoD9h7XT8gwujP7Ta5UyW650/BsdxHMdxnD//XIwnxeGbPw==",
          "dtype": "f8"
         },
         "yaxis": "y"
        },
        {
         "customdata": [
          [
           "videos video love videos vids love youtube watching videos love watch watching videos",
           "['How do I find the videos with your mom? 55 here and I love your duperonies!!!', 'I love these videos sm!!💗', 'Pls say hello I love your videos']"
          ],
          [
           "videos video love videos vids love youtube watching videos love watch watching videos",
           "['How do I find the videos with your mom? 55 here and I love your duperonies!!!', 'I love these videos sm!!💗', 'Pls say hello I love your videos']"
          ],
          [
           "videos video love videos vids love youtube watching videos love watch watching videos",
           "['How do I find the videos with your mom? 55 here and I love your duperonies!!!', 'I love these videos sm!!💗', 'Pls say hello I love your videos']"
          ],
          [
           "videos video love videos vids love youtube watching videos love watch watching videos",
           "['How do I find the videos with your mom? 55 here and I love your duperonies!!!', 'I love these videos sm!!💗', 'Pls say hello I love your videos']"
          ]
         ],
         "hovertemplate": "TopicName=I love your videos<br>Timestamp=%{x}<br>Proportion=%{y}<br>Keywords=%{customdata[0]}<br>ExampleComments=%{customdata[1]}<extra></extra>",
         "legendgroup": "I love your videos",
         "line": {
          "color": "#00cc96",
          "dash": "solid"
         },
         "marker": {
          "symbol": "circle"
         },
         "mode": "lines",
         "name": "I love your videos",
         "orientation": "v",
         "showlegend": true,
         "type": "scatter",
         "x": [
          "2025-03-03T00:00:00.000000000",
          "2025-03-10T00:00:00.000000000",
          "2025-03-17T00:00:00.000000000",
          "2025-03-24T00:00:00.000000000"
         ],
         "xaxis": "x",
         "y": {
          "bdata": "v7OVd1k7nT/n3xJf6K6bP2ye53me55k/WAOS+gl4nD8=",
          "dtype": "f8"
         },
         "yaxis": "y"
        },
        {
         "customdata": [
          [
           "acne acne prone prone rid fungal prone skin scars fungal acne acne safe safe",
           "['I started accutane 5 days ago. This was very helpful ❤️', 'Remember when u took advice from a stranger before and ur acne got worse…STOP LISTENING TO UR INTRUSIVE THOUGHTS😭', 'If you still have trouble with acne you could go to a chemist or doctor and they would prescribe you some steroid cream and antibiotics and they work really well']"
          ],
          [
           "acne acne prone prone rid fungal prone skin scars fungal acne acne safe safe",
           "['I started accutane 5 days ago. This was very helpful ❤️', 'Remember when u took advice from a stranger before and ur acne got worse…STOP LISTENING TO UR INTRUSIVE THOUGHTS😭', 'If you still have trouble with acne you could go to a chemist or doctor and they would prescribe you some steroid cream and antibiotics and they work really well']"
          ],
          [
           "acne acne prone prone rid fungal prone skin scars fungal acne acne safe safe",
           "['I started accutane 5 days ago. This was very helpful ❤️', 'Remember when u took advice from a stranger before and ur acne got worse…STOP LISTENING TO UR INTRUSIVE THOUGHTS😭', 'If you still have trouble with acne you could go to a chemist or doctor and they would prescribe you some steroid cream and antibiotics and they work really well']"
          ],
          [
           "acne acne prone prone rid fungal prone skin scars fungal acne acne safe safe",
           "['I started accutane 5 days ago. This was very helpful ❤️', 'Remember when u took advice from a stranger before and ur acne got worse…STOP LISTENING TO UR INTRUSIVE THOUGHTS😭', 'If you still have trouble with acne you could go to a chemist or doctor and they would prescribe you some steroid cream and antibiotics and they work really well']"
          ]
         ],
         "hovertemplate": "TopicName=acne prone prone<br>Timestamp=%{x}<br>Proportion=%{y}<br>Keywords=%{customdata[0]}<br>ExampleComments=%{customdata[1]}<extra></extra>",
         "legendgroup": "acne prone prone",
         "line": {
          "color": "#ab63fa",
          "dash": "solid"
         },
         "marker": {
          "symbol": "circle"
         },
         "mode": "lines",
         "name": "acne prone prone",
         "orientation": "v",
         "showlegend": true,
         "type": "scatter",
         "x": [
          "2025-03-03T00:00:00.000000000",
          "2025-03-10T00:00:00.000000000",
          "2025-03-17T00:00:00.000000000",
          "2025-03-24T00:00:00.000000000"
         ],
         "xaxis": "x",
         "y": {
          "bdata": "DPfJnG9ClT9+RPou0LmZPxGKoiiKopg/RjdOFtBslT8=",
          "dtype": "f8"
         },
         "yaxis": "y"
        },
        {
         "customdata": [
          [
           "skincare skincare routine routine skin care care care routine skin love skincare skincare products products",
           "['I love watching your videos, you’re so talented. What is your suggestion for melasma', '@Dr Adel | Dermatologist 💕 any tips for Melasma moustache ? 😔', 'Achdumeinegüte... da brauche ich wohl das Buch \"Beautybehandlungen für Dummies\" 😵\\u200d💫😳']"
          ],
          [
           "skincare skincare routine routine skin care care care routine skin love skincare skincare products products",
           "['I love watching your videos, you’re so talented. What is your suggestion for melasma', '@Dr Adel | Dermatologist 💕 any tips for Melasma moustache ? 😔', 'Achdumeinegüte... da brauche ich wohl das Buch \"Beautybehandlungen für Dummies\" 😵\\u200d💫😳']"
          ],
          [
           "skincare skincare routine routine skin care care care routine skin love skincare skincare products products",
           "['I love watching your videos, you’re so talented. What is your suggestion for melasma', '@Dr Adel | Dermatologist 💕 any tips for Melasma moustache ? 😔', 'Achdumeinegüte... da brauche ich wohl das Buch \"Beautybehandlungen für Dummies\" 😵\\u200d💫😳']"
          ],
          [
           "skincare skincare routine routine skin care care care routine skin love skincare skincare products products",
           "['I love watching your videos, you’re so talented. What is your suggestion for melasma', '@Dr Adel | Dermatologist 💕 any tips for Melasma moustache ? 😔', 'Achdumeinegüte... da brauche ich wohl das Buch \"Beautybehandlungen für Dummies\" 😵\\u200d💫😳']"
          ]
         ],
         "hovertemplate": "TopicName=Melasma<br>Timestamp=%{x}<br>Proportion=%{y}<br>Keywords=%{customdata[0]}<br>ExampleComments=%{customdata[1]}<extra></extra>",
         "legendgroup": "Melasma",
         "line": {
          "color": "#FFA15A",
          "dash": "solid"
         },
         "marker": {
          "symbol": "circle"
         },
         "mode": "lines",
         "name": "Melasma",
         "orientation": "v",
         "showlegend": true,
         "type": "scatter",
         "x": [
          "2025-03-03T00:00:00.000000000",
          "2025-03-10T00:00:00.000000000",
          "2025-03-17T00:00:00.000000000",
          "2025-03-24T00:00:00.000000000"
         ],
         "xaxis": "x",
         "y": {
          "bdata": "b0kN0ZRYnD8LcrCeh9qTPwhFURRFUZQ/QR1wCG3ymD8=",
          "dtype": "f8"
         },
         "yaxis": "y"
        }
       ],
       "layout": {
        "legend": {
         "title": {
          "text": "TopicName"
         },
         "tracegroupgap": 0
        },
        "template": {
         "data": {
          "bar": [
           {
            "error_x": {
             "color": "#2a3f5f"
            },
            "error_y": {
             "color": "#2a3f5f"
            },
            "marker": {
             "line": {
              "color": "#E5ECF6",
              "width": 0.5
             },
             "pattern": {
              "fillmode": "overlay",
              "size": 10,
              "solidity": 0.2
             }
            },
            "type": "bar"
           }
          ],
          "barpolar": [
           {
            "marker": {
             "line": {
              "color": "#E5ECF6",
              "width": 0.5
             },
             "pattern": {
              "fillmode": "overlay",
              "size": 10,
              "solidity": 0.2
             }
            },
            "type": "barpolar"
           }
          ],
          "carpet": [
           {
            "aaxis": {
             "endlinecolor": "#2a3f5f",
             "gridcolor": "white",
             "linecolor": "white",
             "minorgridcolor": "white",
             "startlinecolor": "#2a3f5f"
            },
            "baxis": {
             "endlinecolor": "#2a3f5f",
             "gridcolor": "white",
             "linecolor": "white",
             "minorgridcolor": "white",
             "startlinecolor": "#2a3f5f"
            },
            "type": "carpet"
           }
          ],
          "choropleth": [
           {
            "colorbar": {
             "outlinewidth": 0,
             "ticks": ""
            },
            "type": "choropleth"
           }
          ],
          "contour": [
           {
            "colorbar": {
             "outlinewidth": 0,
             "ticks": ""
            },
            "colorscale": [
             [
              0,
              "#0d0887"
             ],
             [
              0.1111111111111111,
              "#46039f"
             ],
             [
              0.2222222222222222,
              "#7201a8"
             ],
             [
              0.3333333333333333,
              "#9c179e"
             ],
             [
              0.4444444444444444,
              "#bd3786"
             ],
             [
              0.5555555555555556,
              "#d8576b"
             ],
             [
              0.6666666666666666,
              "#ed7953"
             ],
             [
              0.7777777777777778,
              "#fb9f3a"
             ],
             [
              0.8888888888888888,
              "#fdca26"
             ],
             [
              1,
              "#f0f921"
             ]
            ],
            "type": "contour"
           }
          ],
          "contourcarpet": [
           {
            "colorbar": {
             "outlinewidth": 0,
             "ticks": ""
            },
            "type": "contourcarpet"
           }
          ],
          "heatmap": [
           {
            "colorbar": {
             "outlinewidth": 0,
             "ticks": ""
            },
            "colorscale": [
             [
              0,
              "#0d0887"
             ],
             [
              0.1111111111111111,
              "#46039f"
             ],
             [
              0.2222222222222222,
              "#7201a8"
             ],
             [
              0.3333333333333333,
              "#9c179e"
             ],
             [
              0.4444444444444444,
              "#bd3786"
             ],
             [
              0.5555555555555556,
              "#d8576b"
             ],
             [
              0.6666666666666666,
              "#ed7953"
             ],
             [
              0.7777777777777778,
              "#fb9f3a"
             ],
             [
              0.8888888888888888,
              "#fdca26"
             ],
             [
              1,
              "#f0f921"
             ]
            ],
            "type": "heatmap"
           }
          ],
          "histogram": [
           {
            "marker": {
             "pattern": {
              "fillmode": "overlay",
              "size": 10,
              "solidity": 0.2
             }
            },
            "type": "histogram"
           }
          ],
          "histogram2d": [
           {
            "colorbar": {
             "outlinewidth": 0,
             "ticks": ""
            },
            "colorscale": [
             [
              0,
              "#0d0887"
             ],
             [
              0.1111111111111111,
              "#46039f"
             ],
             [
              0.2222222222222222,
              "#7201a8"
             ],
             [
              0.3333333333333333,
              "#9c179e"
             ],
             [
              0.4444444444444444,
              "#bd3786"
             ],
             [
              0.5555555555555556,
              "#d8576b"
             ],
             [
              0.6666666666666666,
              "#ed7953"
             ],
             [
              0.7777777777777778,
              "#fb9f3a"
             ],
             [
              0.8888888888888888,
              "#fdca26"
             ],
             [
              1,
              "#f0f921"
             ]
            ],
            "type": "histogram2d"
           }
          ],
          "histogram2dcontour": [
           {
            "colorbar": {
             "outlinewidth": 0,
             "ticks": ""
            },
            "colorscale": [
             [
              0,
              "#0d0887"
             ],
             [
              0.1111111111111111,
              "#46039f"
             ],
             [
              0.2222222222222222,
              "#7201a8"
             ],
             [
              0.3333333333333333,
              "#9c179e"
             ],
             [
              0.4444444444444444,
              "#bd3786"
             ],
             [
              0.5555555555555556,
              "#d8576b"
             ],
             [
              0.6666666666666666,
              "#ed7953"
             ],
             [
              0.7777777777777778,
              "#fb9f3a"
             ],
             [
              0.8888888888888888,
              "#fdca26"
             ],
             [
              1,
              "#f0f921"
             ]
            ],
            "type": "histogram2dcontour"
           }
          ],
          "mesh3d": [
           {
            "colorbar": {
             "outlinewidth": 0,
             "ticks": ""
            },
            "type": "mesh3d"
           }
          ],
          "parcoords": [
           {
            "line": {
             "colorbar": {
              "outlinewidth": 0,
              "ticks": ""
             }
            },
            "type": "parcoords"
           }
          ],
          "pie": [
           {
            "automargin": true,
            "type": "pie"
           }
          ],
          "scatter": [
           {
            "fillpattern": {
             "fillmode": "overlay",
             "size": 10,
             "solidity": 0.2
            },
            "type": "scatter"
           }
          ],
          "scatter3d": [
           {
            "line": {
             "colorbar": {
              "outlinewidth": 0,
              "ticks": ""
             }
            },
            "marker": {
             "colorbar": {
              "outlinewidth": 0,
              "ticks": ""
             }
            },
            "type": "scatter3d"
           }
          ],
          "scattercarpet": [
           {
            "marker": {
             "colorbar": {
              "outlinewidth": 0,
              "ticks": ""
             }
            },
            "type": "scattercarpet"
           }
          ],
          "scattergeo": [
           {
            "marker": {
             "colorbar": {
              "outlinewidth": 0,
              "ticks": ""
             }
            },
            "type": "scattergeo"
           }
          ],
          "scattergl": [
           {
            "marker": {
             "colorbar": {
              "outlinewidth": 0,
              "ticks": ""
             }
            },
            "type": "scattergl"
           }
          ],
          "scattermap": [
           {
            "marker": {
             "colorbar": {
              "outlinewidth": 0,
              "ticks": ""
             }
            },
            "type": "scattermap"
           }
          ],
          "scattermapbox": [
           {
            "marker": {
             "colorbar": {
              "outlinewidth": 0,
              "ticks": ""
             }
            },
            "type": "scattermapbox"
           }
          ],
          "scatterpolar": [
           {
            "marker": {
             "colorbar": {
              "outlinewidth": 0,
              "ticks": ""
             }
            },
            "type": "scatterpolar"
           }
          ],
          "scatterpolargl": [
           {
            "marker": {
             "colorbar": {
              "outlinewidth": 0,
              "ticks": ""
             }
            },
            "type": "scatterpolargl"
           }
          ],
          "scatterternary": [
           {
            "marker": {
             "colorbar": {
              "outlinewidth": 0,
              "ticks": ""
             }
            },
            "type": "scatterternary"
           }
          ],
          "surface": [
           {
            "colorbar": {
             "outlinewidth": 0,
             "ticks": ""
            },
            "colorscale": [
             [
              0,
              "#0d0887"
             ],
             [
              0.1111111111111111,
              "#46039f"
             ],
             [
              0.2222222222222222,
              "#7201a8"
             ],
             [
              0.3333333333333333,
              "#9c179e"
             ],
             [
              0.4444444444444444,
              "#bd3786"
             ],
             [
              0.5555555555555556,
              "#d8576b"
             ],
             [
              0.6666666666666666,
              "#ed7953"
             ],
             [
              0.7777777777777778,
              "#fb9f3a"
             ],
             [
              0.8888888888888888,
              "#fdca26"
             ],
             [
              1,
              "#f0f921"
             ]
            ],
            "type": "surface"
           }
          ],
          "table": [
           {
            "cells": {
             "fill": {
              "color": "#EBF0F8"
             },
             "line": {
              "color": "white"
             }
            },
            "header": {
             "fill": {
              "color": "#C8D4E3"
             },
             "line": {
              "color": "white"
             }
            },
            "type": "table"
           }
          ]
         },
         "layout": {
          "annotationdefaults": {
           "arrowcolor": "#2a3f5f",
           "arrowhead": 0,
           "arrowwidth": 1
          },
          "autotypenumbers": "strict",
          "coloraxis": {
           "colorbar": {
            "outlinewidth": 0,
            "ticks": ""
           }
          },
          "colorscale": {
           "diverging": [
            [
             0,
             "#8e0152"
            ],
            [
             0.1,
             "#c51b7d"
            ],
            [
             0.2,
             "#de77ae"
            ],
            [
             0.3,
             "#f1b6da"
            ],
            [
             0.4,
             "#fde0ef"
            ],
            [
             0.5,
             "#f7f7f7"
            ],
            [
             0.6,
             "#e6f5d0"
            ],
            [
             0.7,
             "#b8e186"
            ],
            [
             0.8,
             "#7fbc41"
            ],
            [
             0.9,
             "#4d9221"
            ],
            [
             1,
             "#276419"
            ]
           ],
           "sequential": [
            [
             0,
             "#0d0887"
            ],
            [
             0.1111111111111111,
             "#46039f"
            ],
            [
             0.2222222222222222,
             "#7201a8"
            ],
            [
             0.3333333333333333,
             "#9c179e"
            ],
            [
             0.4444444444444444,
             "#bd3786"
            ],
            [
             0.5555555555555556,
             "#d8576b"
            ],
            [
             0.6666666666666666,
             "#ed7953"
            ],
            [
             0.7777777777777778,
             "#fb9f3a"
            ],
            [
             0.8888888888888888,
             "#fdca26"
            ],
            [
             1,
             "#f0f921"
            ]
           ],
           "sequentialminus": [
            [
             0,
             "#0d0887"
            ],
            [
             0.1111111111111111,
             "#46039f"
            ],
            [
             0.2222222222222222,
             "#7201a8"
            ],
            [
             0.3333333333333333,
             "#9c179e"
            ],
            [
             0.4444444444444444,
             "#bd3786"
            ],
            [
             0.5555555555555556,
             "#d8576b"
            ],
            [
             0.6666666666666666,
             "#ed7953"
            ],
            [
             0.7777777777777778,
             "#fb9f3a"
            ],
            [
             0.8888888888888888,
             "#fdca26"
            ],
            [
             1,
             "#f0f921"
            ]
           ]
          },
          "colorway": [
           "#636efa",
           "#EF553B",
           "#00cc96",
           "#ab63fa",
           "#FFA15A",
           "#19d3f3",
           "#FF6692",
           "#B6E880",
           "#FF97FF",
           "#FECB52"
          ],
          "font": {
           "color": "#2a3f5f"
          },
          "geo": {
           "bgcolor": "white",
           "lakecolor": "white",
           "landcolor": "#E5ECF6",
           "showlakes": true,
           "showland": true,
           "subunitcolor": "white"
          },
          "hoverlabel": {
           "align": "left"
          },
          "hovermode": "closest",
          "mapbox": {
           "style": "light"
          },
          "paper_bgcolor": "white",
          "plot_bgcolor": "#E5ECF6",
          "polar": {
           "angularaxis": {
            "gridcolor": "white",
            "linecolor": "white",
            "ticks": ""
           },
           "bgcolor": "#E5ECF6",
           "radialaxis": {
            "gridcolor": "white",
            "linecolor": "white",
            "ticks": ""
           }
          },
          "scene": {
           "xaxis": {
            "backgroundcolor": "#E5ECF6",
            "gridcolor": "white",
            "gridwidth": 2,
            "linecolor": "white",
            "showbackground": true,
            "ticks": "",
            "zerolinecolor": "white"
           },
           "yaxis": {
            "backgroundcolor": "#E5ECF6",
            "gridcolor": "white",
            "gridwidth": 2,
            "linecolor": "white",
            "showbackground": true,
            "ticks": "",
            "zerolinecolor": "white"
           },
           "zaxis": {
            "backgroundcolor": "#E5ECF6",
            "gridcolor": "white",
            "gridwidth": 2,
            "linecolor": "white",
            "showbackground": true,
            "ticks": "",
            "zerolinecolor": "white"
           }
          },
          "shapedefaults": {
           "line": {
            "color": "#2a3f5f"
           }
          },
          "ternary": {
           "aaxis": {
            "gridcolor": "white",
            "linecolor": "white",
            "ticks": ""
           },
           "baxis": {
            "gridcolor": "white",
            "linecolor": "white",
            "ticks": ""
           },
           "bgcolor": "#E5ECF6",
           "caxis": {
            "gridcolor": "white",
            "linecolor": "white",
            "ticks": ""
           }
          },
          "title": {
           "x": 0.05
          },
          "xaxis": {
           "automargin": true,
           "gridcolor": "white",
           "linecolor": "white",
           "ticks": "",
           "title": {
            "standoff": 15
           },
           "zerolinecolor": "white",
           "zerolinewidth": 2
          },
          "yaxis": {
           "automargin": true,
           "gridcolor": "white",
           "linecolor": "white",
           "ticks": "",
           "title": {
            "standoff": 15
           },
           "zerolinecolor": "white",
           "zerolinewidth": 2
          }
         }
        },
        "title": {
         "text": "Topic Proportion Over Time"
        },
        "xaxis": {
         "anchor": "y",
         "domain": [
          0,
          1
         ],
         "title": {
          "text": "Timestamp"
         }
        },
        "yaxis": {
         "anchor": "x",
         "domain": [
          0,
          1
         ],
         "title": {
          "text": "Proportion"
         }
        }
       }
      }
     },
     "metadata": {},
     "output_type": "display_data"
    }
   ],
   "source": [
    "fig = px.line(\n",
    "    df7,\n",
    "    x=\"Timestamp\",\n",
    "    y=\"Proportion\",\n",
    "    color=\"TopicName\",\n",
    "    hover_data=[\"Keywords\", \"ExampleComments\"],\n",
    "    title=\"Topic Proportion Over Time\"\n",
    ")\n",
    "fig.show()\n"
   ]
  },
  {
   "cell_type": "code",
   "execution_count": 30,
   "id": "07a3a27a",
   "metadata": {},
   "outputs": [
    {
     "data": {
      "application/vnd.plotly.v1+json": {
       "config": {
        "plotlyServerURL": "https://plot.ly"
       },
       "data": [
        {
         "hovertemplate": "TopicName=yall hating beautiful girl lisa comments talking woman guys pretty<br>Timestamp=%{x}<br>Proportion=%{y}<extra></extra>",
         "legendgroup": "yall hating beautiful girl lisa comments talking woman guys pretty",
         "line": {
          "color": "#636efa",
          "dash": "solid"
         },
         "marker": {
          "symbol": "circle"
         },
         "mode": "lines+markers",
         "name": "yall hating beautiful girl lisa comments talking woman guys pretty",
         "orientation": "v",
         "showlegend": true,
         "type": "scatter",
         "x": [
          "2025-02-24T00:00:00.000000000",
          "2025-03-03T00:00:00.000000000",
          "2025-03-10T00:00:00.000000000",
          "2025-03-17T00:00:00.000000000",
          "2025-03-24T00:00:00.000000000"
         ],
         "xaxis": "x",
         "y": {
          "bdata": "ECdxEidxoj/N0tLS0tKiP2/RalwdIqQ/QlEURVEUpT9cQWUcXSuhPw==",
          "dtype": "f8"
         },
         "yaxis": "y"
        },
        {
         "hovertemplate": "TopicName=bath soap<br>Timestamp=%{x}<br>Proportion=%{y}<extra></extra>",
         "legendgroup": "bath soap",
         "line": {
          "color": "#EF553B",
          "dash": "solid"
         },
         "marker": {
          "symbol": "circle"
         },
         "mode": "lines+markers",
         "name": "bath soap",
         "orientation": "v",
         "showlegend": true,
         "type": "scatter",
         "x": [
          "2025-02-24T00:00:00.000000000",
          "2025-03-03T00:00:00.000000000",
          "2025-03-10T00:00:00.000000000",
          "2025-03-17T00:00:00.000000000",
          "2025-03-24T00:00:00.000000000"
         ],
         "xaxis": "x",
         "y": {
          "bdata": "CAmREAmRoD9h7XT8gwujP7Ta5UyW650/BsdxHMdxnD//XIwnxeGbPw==",
          "dtype": "f8"
         },
         "yaxis": "y"
        },
        {
         "hovertemplate": "TopicName=I love your videos<br>Timestamp=%{x}<br>Proportion=%{y}<extra></extra>",
         "legendgroup": "I love your videos",
         "line": {
          "color": "#00cc96",
          "dash": "solid"
         },
         "marker": {
          "symbol": "circle"
         },
         "mode": "lines+markers",
         "name": "I love your videos",
         "orientation": "v",
         "showlegend": true,
         "type": "scatter",
         "x": [
          "2025-03-03T00:00:00.000000000",
          "2025-03-10T00:00:00.000000000",
          "2025-03-17T00:00:00.000000000",
          "2025-03-24T00:00:00.000000000"
         ],
         "xaxis": "x",
         "y": {
          "bdata": "v7OVd1k7nT/n3xJf6K6bP2ye53me55k/WAOS+gl4nD8=",
          "dtype": "f8"
         },
         "yaxis": "y"
        },
        {
         "hovertemplate": "TopicName=acne prone prone<br>Timestamp=%{x}<br>Proportion=%{y}<extra></extra>",
         "legendgroup": "acne prone prone",
         "line": {
          "color": "#ab63fa",
          "dash": "solid"
         },
         "marker": {
          "symbol": "circle"
         },
         "mode": "lines+markers",
         "name": "acne prone prone",
         "orientation": "v",
         "showlegend": true,
         "type": "scatter",
         "x": [
          "2025-03-03T00:00:00.000000000",
          "2025-03-10T00:00:00.000000000",
          "2025-03-17T00:00:00.000000000",
          "2025-03-24T00:00:00.000000000"
         ],
         "xaxis": "x",
         "y": {
          "bdata": "DPfJnG9ClT9+RPou0LmZPxGKoiiKopg/RjdOFtBslT8=",
          "dtype": "f8"
         },
         "yaxis": "y"
        },
        {
         "hovertemplate": "TopicName=Melasma<br>Timestamp=%{x}<br>Proportion=%{y}<extra></extra>",
         "legendgroup": "Melasma",
         "line": {
          "color": "#FFA15A",
          "dash": "solid"
         },
         "marker": {
          "symbol": "circle"
         },
         "mode": "lines+markers",
         "name": "Melasma",
         "orientation": "v",
         "showlegend": true,
         "type": "scatter",
         "x": [
          "2025-03-03T00:00:00.000000000",
          "2025-03-10T00:00:00.000000000",
          "2025-03-17T00:00:00.000000000",
          "2025-03-24T00:00:00.000000000"
         ],
         "xaxis": "x",
         "y": {
          "bdata": "b0kN0ZRYnD8LcrCeh9qTPwhFURRFUZQ/QR1wCG3ymD8=",
          "dtype": "f8"
         },
         "yaxis": "y"
        }
       ],
       "layout": {
        "hovermode": "x unified",
        "legend": {
         "title": {
          "text": "TopicName"
         },
         "tracegroupgap": 0
        },
        "plot_bgcolor": "#f9f9f9",
        "template": {
         "data": {
          "bar": [
           {
            "error_x": {
             "color": "#2a3f5f"
            },
            "error_y": {
             "color": "#2a3f5f"
            },
            "marker": {
             "line": {
              "color": "#E5ECF6",
              "width": 0.5
             },
             "pattern": {
              "fillmode": "overlay",
              "size": 10,
              "solidity": 0.2
             }
            },
            "type": "bar"
           }
          ],
          "barpolar": [
           {
            "marker": {
             "line": {
              "color": "#E5ECF6",
              "width": 0.5
             },
             "pattern": {
              "fillmode": "overlay",
              "size": 10,
              "solidity": 0.2
             }
            },
            "type": "barpolar"
           }
          ],
          "carpet": [
           {
            "aaxis": {
             "endlinecolor": "#2a3f5f",
             "gridcolor": "white",
             "linecolor": "white",
             "minorgridcolor": "white",
             "startlinecolor": "#2a3f5f"
            },
            "baxis": {
             "endlinecolor": "#2a3f5f",
             "gridcolor": "white",
             "linecolor": "white",
             "minorgridcolor": "white",
             "startlinecolor": "#2a3f5f"
            },
            "type": "carpet"
           }
          ],
          "choropleth": [
           {
            "colorbar": {
             "outlinewidth": 0,
             "ticks": ""
            },
            "type": "choropleth"
           }
          ],
          "contour": [
           {
            "colorbar": {
             "outlinewidth": 0,
             "ticks": ""
            },
            "colorscale": [
             [
              0,
              "#0d0887"
             ],
             [
              0.1111111111111111,
              "#46039f"
             ],
             [
              0.2222222222222222,
              "#7201a8"
             ],
             [
              0.3333333333333333,
              "#9c179e"
             ],
             [
              0.4444444444444444,
              "#bd3786"
             ],
             [
              0.5555555555555556,
              "#d8576b"
             ],
             [
              0.6666666666666666,
              "#ed7953"
             ],
             [
              0.7777777777777778,
              "#fb9f3a"
             ],
             [
              0.8888888888888888,
              "#fdca26"
             ],
             [
              1,
              "#f0f921"
             ]
            ],
            "type": "contour"
           }
          ],
          "contourcarpet": [
           {
            "colorbar": {
             "outlinewidth": 0,
             "ticks": ""
            },
            "type": "contourcarpet"
           }
          ],
          "heatmap": [
           {
            "colorbar": {
             "outlinewidth": 0,
             "ticks": ""
            },
            "colorscale": [
             [
              0,
              "#0d0887"
             ],
             [
              0.1111111111111111,
              "#46039f"
             ],
             [
              0.2222222222222222,
              "#7201a8"
             ],
             [
              0.3333333333333333,
              "#9c179e"
             ],
             [
              0.4444444444444444,
              "#bd3786"
             ],
             [
              0.5555555555555556,
              "#d8576b"
             ],
             [
              0.6666666666666666,
              "#ed7953"
             ],
             [
              0.7777777777777778,
              "#fb9f3a"
             ],
             [
              0.8888888888888888,
              "#fdca26"
             ],
             [
              1,
              "#f0f921"
             ]
            ],
            "type": "heatmap"
           }
          ],
          "histogram": [
           {
            "marker": {
             "pattern": {
              "fillmode": "overlay",
              "size": 10,
              "solidity": 0.2
             }
            },
            "type": "histogram"
           }
          ],
          "histogram2d": [
           {
            "colorbar": {
             "outlinewidth": 0,
             "ticks": ""
            },
            "colorscale": [
             [
              0,
              "#0d0887"
             ],
             [
              0.1111111111111111,
              "#46039f"
             ],
             [
              0.2222222222222222,
              "#7201a8"
             ],
             [
              0.3333333333333333,
              "#9c179e"
             ],
             [
              0.4444444444444444,
              "#bd3786"
             ],
             [
              0.5555555555555556,
              "#d8576b"
             ],
             [
              0.6666666666666666,
              "#ed7953"
             ],
             [
              0.7777777777777778,
              "#fb9f3a"
             ],
             [
              0.8888888888888888,
              "#fdca26"
             ],
             [
              1,
              "#f0f921"
             ]
            ],
            "type": "histogram2d"
           }
          ],
          "histogram2dcontour": [
           {
            "colorbar": {
             "outlinewidth": 0,
             "ticks": ""
            },
            "colorscale": [
             [
              0,
              "#0d0887"
             ],
             [
              0.1111111111111111,
              "#46039f"
             ],
             [
              0.2222222222222222,
              "#7201a8"
             ],
             [
              0.3333333333333333,
              "#9c179e"
             ],
             [
              0.4444444444444444,
              "#bd3786"
             ],
             [
              0.5555555555555556,
              "#d8576b"
             ],
             [
              0.6666666666666666,
              "#ed7953"
             ],
             [
              0.7777777777777778,
              "#fb9f3a"
             ],
             [
              0.8888888888888888,
              "#fdca26"
             ],
             [
              1,
              "#f0f921"
             ]
            ],
            "type": "histogram2dcontour"
           }
          ],
          "mesh3d": [
           {
            "colorbar": {
             "outlinewidth": 0,
             "ticks": ""
            },
            "type": "mesh3d"
           }
          ],
          "parcoords": [
           {
            "line": {
             "colorbar": {
              "outlinewidth": 0,
              "ticks": ""
             }
            },
            "type": "parcoords"
           }
          ],
          "pie": [
           {
            "automargin": true,
            "type": "pie"
           }
          ],
          "scatter": [
           {
            "fillpattern": {
             "fillmode": "overlay",
             "size": 10,
             "solidity": 0.2
            },
            "type": "scatter"
           }
          ],
          "scatter3d": [
           {
            "line": {
             "colorbar": {
              "outlinewidth": 0,
              "ticks": ""
             }
            },
            "marker": {
             "colorbar": {
              "outlinewidth": 0,
              "ticks": ""
             }
            },
            "type": "scatter3d"
           }
          ],
          "scattercarpet": [
           {
            "marker": {
             "colorbar": {
              "outlinewidth": 0,
              "ticks": ""
             }
            },
            "type": "scattercarpet"
           }
          ],
          "scattergeo": [
           {
            "marker": {
             "colorbar": {
              "outlinewidth": 0,
              "ticks": ""
             }
            },
            "type": "scattergeo"
           }
          ],
          "scattergl": [
           {
            "marker": {
             "colorbar": {
              "outlinewidth": 0,
              "ticks": ""
             }
            },
            "type": "scattergl"
           }
          ],
          "scattermap": [
           {
            "marker": {
             "colorbar": {
              "outlinewidth": 0,
              "ticks": ""
             }
            },
            "type": "scattermap"
           }
          ],
          "scattermapbox": [
           {
            "marker": {
             "colorbar": {
              "outlinewidth": 0,
              "ticks": ""
             }
            },
            "type": "scattermapbox"
           }
          ],
          "scatterpolar": [
           {
            "marker": {
             "colorbar": {
              "outlinewidth": 0,
              "ticks": ""
             }
            },
            "type": "scatterpolar"
           }
          ],
          "scatterpolargl": [
           {
            "marker": {
             "colorbar": {
              "outlinewidth": 0,
              "ticks": ""
             }
            },
            "type": "scatterpolargl"
           }
          ],
          "scatterternary": [
           {
            "marker": {
             "colorbar": {
              "outlinewidth": 0,
              "ticks": ""
             }
            },
            "type": "scatterternary"
           }
          ],
          "surface": [
           {
            "colorbar": {
             "outlinewidth": 0,
             "ticks": ""
            },
            "colorscale": [
             [
              0,
              "#0d0887"
             ],
             [
              0.1111111111111111,
              "#46039f"
             ],
             [
              0.2222222222222222,
              "#7201a8"
             ],
             [
              0.3333333333333333,
              "#9c179e"
             ],
             [
              0.4444444444444444,
              "#bd3786"
             ],
             [
              0.5555555555555556,
              "#d8576b"
             ],
             [
              0.6666666666666666,
              "#ed7953"
             ],
             [
              0.7777777777777778,
              "#fb9f3a"
             ],
             [
              0.8888888888888888,
              "#fdca26"
             ],
             [
              1,
              "#f0f921"
             ]
            ],
            "type": "surface"
           }
          ],
          "table": [
           {
            "cells": {
             "fill": {
              "color": "#EBF0F8"
             },
             "line": {
              "color": "white"
             }
            },
            "header": {
             "fill": {
              "color": "#C8D4E3"
             },
             "line": {
              "color": "white"
             }
            },
            "type": "table"
           }
          ]
         },
         "layout": {
          "annotationdefaults": {
           "arrowcolor": "#2a3f5f",
           "arrowhead": 0,
           "arrowwidth": 1
          },
          "autotypenumbers": "strict",
          "coloraxis": {
           "colorbar": {
            "outlinewidth": 0,
            "ticks": ""
           }
          },
          "colorscale": {
           "diverging": [
            [
             0,
             "#8e0152"
            ],
            [
             0.1,
             "#c51b7d"
            ],
            [
             0.2,
             "#de77ae"
            ],
            [
             0.3,
             "#f1b6da"
            ],
            [
             0.4,
             "#fde0ef"
            ],
            [
             0.5,
             "#f7f7f7"
            ],
            [
             0.6,
             "#e6f5d0"
            ],
            [
             0.7,
             "#b8e186"
            ],
            [
             0.8,
             "#7fbc41"
            ],
            [
             0.9,
             "#4d9221"
            ],
            [
             1,
             "#276419"
            ]
           ],
           "sequential": [
            [
             0,
             "#0d0887"
            ],
            [
             0.1111111111111111,
             "#46039f"
            ],
            [
             0.2222222222222222,
             "#7201a8"
            ],
            [
             0.3333333333333333,
             "#9c179e"
            ],
            [
             0.4444444444444444,
             "#bd3786"
            ],
            [
             0.5555555555555556,
             "#d8576b"
            ],
            [
             0.6666666666666666,
             "#ed7953"
            ],
            [
             0.7777777777777778,
             "#fb9f3a"
            ],
            [
             0.8888888888888888,
             "#fdca26"
            ],
            [
             1,
             "#f0f921"
            ]
           ],
           "sequentialminus": [
            [
             0,
             "#0d0887"
            ],
            [
             0.1111111111111111,
             "#46039f"
            ],
            [
             0.2222222222222222,
             "#7201a8"
            ],
            [
             0.3333333333333333,
             "#9c179e"
            ],
            [
             0.4444444444444444,
             "#bd3786"
            ],
            [
             0.5555555555555556,
             "#d8576b"
            ],
            [
             0.6666666666666666,
             "#ed7953"
            ],
            [
             0.7777777777777778,
             "#fb9f3a"
            ],
            [
             0.8888888888888888,
             "#fdca26"
            ],
            [
             1,
             "#f0f921"
            ]
           ]
          },
          "colorway": [
           "#636efa",
           "#EF553B",
           "#00cc96",
           "#ab63fa",
           "#FFA15A",
           "#19d3f3",
           "#FF6692",
           "#B6E880",
           "#FF97FF",
           "#FECB52"
          ],
          "font": {
           "color": "#2a3f5f"
          },
          "geo": {
           "bgcolor": "white",
           "lakecolor": "white",
           "landcolor": "#E5ECF6",
           "showlakes": true,
           "showland": true,
           "subunitcolor": "white"
          },
          "hoverlabel": {
           "align": "left"
          },
          "hovermode": "closest",
          "mapbox": {
           "style": "light"
          },
          "paper_bgcolor": "white",
          "plot_bgcolor": "#E5ECF6",
          "polar": {
           "angularaxis": {
            "gridcolor": "white",
            "linecolor": "white",
            "ticks": ""
           },
           "bgcolor": "#E5ECF6",
           "radialaxis": {
            "gridcolor": "white",
            "linecolor": "white",
            "ticks": ""
           }
          },
          "scene": {
           "xaxis": {
            "backgroundcolor": "#E5ECF6",
            "gridcolor": "white",
            "gridwidth": 2,
            "linecolor": "white",
            "showbackground": true,
            "ticks": "",
            "zerolinecolor": "white"
           },
           "yaxis": {
            "backgroundcolor": "#E5ECF6",
            "gridcolor": "white",
            "gridwidth": 2,
            "linecolor": "white",
            "showbackground": true,
            "ticks": "",
            "zerolinecolor": "white"
           },
           "zaxis": {
            "backgroundcolor": "#E5ECF6",
            "gridcolor": "white",
            "gridwidth": 2,
            "linecolor": "white",
            "showbackground": true,
            "ticks": "",
            "zerolinecolor": "white"
           }
          },
          "shapedefaults": {
           "line": {
            "color": "#2a3f5f"
           }
          },
          "ternary": {
           "aaxis": {
            "gridcolor": "white",
            "linecolor": "white",
            "ticks": ""
           },
           "baxis": {
            "gridcolor": "white",
            "linecolor": "white",
            "ticks": ""
           },
           "bgcolor": "#E5ECF6",
           "caxis": {
            "gridcolor": "white",
            "linecolor": "white",
            "ticks": ""
           }
          },
          "title": {
           "x": 0.05
          },
          "xaxis": {
           "automargin": true,
           "gridcolor": "white",
           "linecolor": "white",
           "ticks": "",
           "title": {
            "standoff": 15
           },
           "zerolinecolor": "white",
           "zerolinewidth": 2
          },
          "yaxis": {
           "automargin": true,
           "gridcolor": "white",
           "linecolor": "white",
           "ticks": "",
           "title": {
            "standoff": 15
           },
           "zerolinecolor": "white",
           "zerolinewidth": 2
          }
         }
        },
        "title": {
         "font": {
          "size": 20
         },
         "text": "📈 Topic Share Over Time"
        },
        "xaxis": {
         "anchor": "y",
         "domain": [
          0,
          1
         ],
         "title": {
          "text": "Timestamp"
         }
        },
        "yaxis": {
         "anchor": "x",
         "domain": [
          0,
          1
         ],
         "title": {
          "text": "Proportion"
         }
        }
       }
      }
     },
     "metadata": {},
     "output_type": "display_data"
    }
   ],
   "source": [
    "df7['ShortKeywords'] = df7['Keywords'].apply(lambda x: x[:60] + \"...\" if len(str(x)) > 60 else x)\n",
    "df7['ShortExample'] = df7['ExampleComments'].apply(lambda x: x[:100] + \"...\" if len(str(x)) > 100 else x)\n",
    "\n",
    "fig_prop = px.line(\n",
    "    df7.sort_values(\"Timestamp\"),\n",
    "    x=\"Timestamp\",\n",
    "    y=\"Proportion\",\n",
    "    color=\"TopicName\",\n",
    "    title=\"📈 Topic Share Over Time\",\n",
    "    markers=True)\n",
    "fig_prop.update_layout(\n",
    "    title_font_size=20,\n",
    "    hovermode=\"x unified\",\n",
    "    plot_bgcolor=\"#f9f9f9\"\n",
    "\n",
    ")"
   ]
  },
  {
   "cell_type": "code",
   "execution_count": null,
   "id": "3d1c5883",
   "metadata": {},
   "outputs": [],
   "source": []
  }
 ],
 "metadata": {
  "kernelspec": {
   "display_name": ".venv",
   "language": "python",
   "name": "python3"
  },
  "language_info": {
   "codemirror_mode": {
    "name": "ipython",
    "version": 3
   },
   "file_extension": ".py",
   "mimetype": "text/x-python",
   "name": "python",
   "nbconvert_exporter": "python",
   "pygments_lexer": "ipython3",
   "version": "3.10.13"
  }
 },
 "nbformat": 4,
 "nbformat_minor": 5
}
