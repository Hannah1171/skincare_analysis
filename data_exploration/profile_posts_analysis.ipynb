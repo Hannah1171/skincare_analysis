{
 "cells": [
  {
   "cell_type": "code",
   "execution_count": 34,
   "metadata": {},
   "outputs": [
    {
     "data": {
      "text/html": [
       "<div>\n",
       "<style scoped>\n",
       "    .dataframe tbody tr th:only-of-type {\n",
       "        vertical-align: middle;\n",
       "    }\n",
       "\n",
       "    .dataframe tbody tr th {\n",
       "        vertical-align: top;\n",
       "    }\n",
       "\n",
       "    .dataframe thead th {\n",
       "        text-align: right;\n",
       "    }\n",
       "</style>\n",
       "<table border=\"1\" class=\"dataframe\">\n",
       "  <thead>\n",
       "    <tr style=\"text-align: right;\">\n",
       "      <th></th>\n",
       "      <th>input</th>\n",
       "      <th>main_ID</th>\n",
       "      <th>text</th>\n",
       "      <th>textLanguage</th>\n",
       "      <th>createTimeISO</th>\n",
       "      <th>diggCount</th>\n",
       "      <th>shareCount</th>\n",
       "      <th>playCount</th>\n",
       "      <th>collectCount</th>\n",
       "      <th>commentCount</th>\n",
       "      <th>...</th>\n",
       "      <th>fromProfileSection</th>\n",
       "      <th>isAd</th>\n",
       "      <th>authorMeta_nickName</th>\n",
       "      <th>authorMeta_following</th>\n",
       "      <th>authorMeta_friends</th>\n",
       "      <th>authorMeta_privateAccount</th>\n",
       "      <th>authorMeta_friends_1</th>\n",
       "      <th>authorMeta_region</th>\n",
       "      <th>location_cityCode</th>\n",
       "      <th>location_countryCode</th>\n",
       "    </tr>\n",
       "  </thead>\n",
       "  <tbody>\n",
       "    <tr>\n",
       "      <th>0</th>\n",
       "      <td>drmedemilie</td>\n",
       "      <td>7470649425426205974</td>\n",
       "      <td>Ohne Pflege kein Krankenhaus – ohne Euch keine...</td>\n",
       "      <td>de</td>\n",
       "      <td>2025-02-12T21:35:19.000Z</td>\n",
       "      <td>12900</td>\n",
       "      <td>173</td>\n",
       "      <td>134700</td>\n",
       "      <td>675</td>\n",
       "      <td>31</td>\n",
       "      <td>...</td>\n",
       "      <td>videos</td>\n",
       "      <td>False</td>\n",
       "      <td>Dr. medic. Emilie 🫀</td>\n",
       "      <td>551</td>\n",
       "      <td>95</td>\n",
       "      <td>False</td>\n",
       "      <td>95</td>\n",
       "      <td>TR</td>\n",
       "      <td>NaN</td>\n",
       "      <td>NaN</td>\n",
       "    </tr>\n",
       "    <tr>\n",
       "      <th>1</th>\n",
       "      <td>drmedemilie</td>\n",
       "      <td>7470649425426205974</td>\n",
       "      <td>Ohne Pflege kein Krankenhaus – ohne Euch keine...</td>\n",
       "      <td>de</td>\n",
       "      <td>2025-02-12T21:35:19.000Z</td>\n",
       "      <td>12900</td>\n",
       "      <td>173</td>\n",
       "      <td>134700</td>\n",
       "      <td>675</td>\n",
       "      <td>31</td>\n",
       "      <td>...</td>\n",
       "      <td>videos</td>\n",
       "      <td>False</td>\n",
       "      <td>Dr. medic. Emilie 🫀</td>\n",
       "      <td>551</td>\n",
       "      <td>95</td>\n",
       "      <td>False</td>\n",
       "      <td>95</td>\n",
       "      <td>TR</td>\n",
       "      <td>NaN</td>\n",
       "      <td>NaN</td>\n",
       "    </tr>\n",
       "    <tr>\n",
       "      <th>2</th>\n",
       "      <td>drmedemilie</td>\n",
       "      <td>7470649425426205974</td>\n",
       "      <td>Ohne Pflege kein Krankenhaus – ohne Euch keine...</td>\n",
       "      <td>de</td>\n",
       "      <td>2025-02-12T21:35:19.000Z</td>\n",
       "      <td>12900</td>\n",
       "      <td>173</td>\n",
       "      <td>134700</td>\n",
       "      <td>675</td>\n",
       "      <td>31</td>\n",
       "      <td>...</td>\n",
       "      <td>videos</td>\n",
       "      <td>False</td>\n",
       "      <td>Dr. medic. Emilie 🫀</td>\n",
       "      <td>551</td>\n",
       "      <td>95</td>\n",
       "      <td>False</td>\n",
       "      <td>95</td>\n",
       "      <td>TR</td>\n",
       "      <td>NaN</td>\n",
       "      <td>NaN</td>\n",
       "    </tr>\n",
       "    <tr>\n",
       "      <th>3</th>\n",
       "      <td>drmedemilie</td>\n",
       "      <td>7470649425426205974</td>\n",
       "      <td>Ohne Pflege kein Krankenhaus – ohne Euch keine...</td>\n",
       "      <td>de</td>\n",
       "      <td>2025-02-12T21:35:19.000Z</td>\n",
       "      <td>12900</td>\n",
       "      <td>173</td>\n",
       "      <td>134700</td>\n",
       "      <td>675</td>\n",
       "      <td>31</td>\n",
       "      <td>...</td>\n",
       "      <td>videos</td>\n",
       "      <td>False</td>\n",
       "      <td>Dr. medic. Emilie 🫀</td>\n",
       "      <td>551</td>\n",
       "      <td>95</td>\n",
       "      <td>False</td>\n",
       "      <td>95</td>\n",
       "      <td>TR</td>\n",
       "      <td>NaN</td>\n",
       "      <td>NaN</td>\n",
       "    </tr>\n",
       "    <tr>\n",
       "      <th>4</th>\n",
       "      <td>drmedemilie</td>\n",
       "      <td>7469126973957082390</td>\n",
       "      <td>Adrenalin, Teamwork und jede Sekunde zählt – m...</td>\n",
       "      <td>de</td>\n",
       "      <td>2025-02-08T19:07:25.000Z</td>\n",
       "      <td>2586</td>\n",
       "      <td>19</td>\n",
       "      <td>37600</td>\n",
       "      <td>76</td>\n",
       "      <td>23</td>\n",
       "      <td>...</td>\n",
       "      <td>videos</td>\n",
       "      <td>False</td>\n",
       "      <td>Dr. medic. Emilie 🫀</td>\n",
       "      <td>551</td>\n",
       "      <td>95</td>\n",
       "      <td>False</td>\n",
       "      <td>95</td>\n",
       "      <td>TR</td>\n",
       "      <td>NaN</td>\n",
       "      <td>NaN</td>\n",
       "    </tr>\n",
       "  </tbody>\n",
       "</table>\n",
       "<p>5 rows × 26 columns</p>\n",
       "</div>"
      ],
      "text/plain": [
       "         input              main_ID  \\\n",
       "0  drmedemilie  7470649425426205974   \n",
       "1  drmedemilie  7470649425426205974   \n",
       "2  drmedemilie  7470649425426205974   \n",
       "3  drmedemilie  7470649425426205974   \n",
       "4  drmedemilie  7469126973957082390   \n",
       "\n",
       "                                                text textLanguage  \\\n",
       "0  Ohne Pflege kein Krankenhaus – ohne Euch keine...           de   \n",
       "1  Ohne Pflege kein Krankenhaus – ohne Euch keine...           de   \n",
       "2  Ohne Pflege kein Krankenhaus – ohne Euch keine...           de   \n",
       "3  Ohne Pflege kein Krankenhaus – ohne Euch keine...           de   \n",
       "4  Adrenalin, Teamwork und jede Sekunde zählt – m...           de   \n",
       "\n",
       "              createTimeISO  diggCount  shareCount  playCount  collectCount  \\\n",
       "0  2025-02-12T21:35:19.000Z      12900         173     134700           675   \n",
       "1  2025-02-12T21:35:19.000Z      12900         173     134700           675   \n",
       "2  2025-02-12T21:35:19.000Z      12900         173     134700           675   \n",
       "3  2025-02-12T21:35:19.000Z      12900         173     134700           675   \n",
       "4  2025-02-08T19:07:25.000Z       2586          19      37600            76   \n",
       "\n",
       "   commentCount  ... fromProfileSection   isAd  authorMeta_nickName  \\\n",
       "0            31  ...             videos  False  Dr. medic. Emilie 🫀   \n",
       "1            31  ...             videos  False  Dr. medic. Emilie 🫀   \n",
       "2            31  ...             videos  False  Dr. medic. Emilie 🫀   \n",
       "3            31  ...             videos  False  Dr. medic. Emilie 🫀   \n",
       "4            23  ...             videos  False  Dr. medic. Emilie 🫀   \n",
       "\n",
       "   authorMeta_following  authorMeta_friends  authorMeta_privateAccount  \\\n",
       "0                   551                  95                      False   \n",
       "1                   551                  95                      False   \n",
       "2                   551                  95                      False   \n",
       "3                   551                  95                      False   \n",
       "4                   551                  95                      False   \n",
       "\n",
       "  authorMeta_friends_1 authorMeta_region location_cityCode  \\\n",
       "0                   95                TR               NaN   \n",
       "1                   95                TR               NaN   \n",
       "2                   95                TR               NaN   \n",
       "3                   95                TR               NaN   \n",
       "4                   95                TR               NaN   \n",
       "\n",
       "   location_countryCode  \n",
       "0                   NaN  \n",
       "1                   NaN  \n",
       "2                   NaN  \n",
       "3                   NaN  \n",
       "4                   NaN  \n",
       "\n",
       "[5 rows x 26 columns]"
      ]
     },
     "execution_count": 34,
     "metadata": {},
     "output_type": "execute_result"
    }
   ],
   "source": [
    "\n",
    "import pandas as pd\n",
    "\n",
    "df = pd.read_csv('../data/profile_posts.csv')\n",
    "\n",
    "\n",
    "df.head()\n",
    "\n",
    "\n"
   ]
  },
  {
   "cell_type": "code",
   "execution_count": 35,
   "metadata": {},
   "outputs": [
    {
     "data": {
      "text/plain": [
       "[]"
      ]
     },
     "execution_count": 35,
     "metadata": {},
     "output_type": "execute_result"
    }
   ],
   "source": [
    "df.columns\n",
    "def is_nested(column):\n",
    "    return isinstance(column.iloc[0], (list, tuple, dict))\n",
    "\n",
    "nested_columns = [col for col in df.columns if is_nested(df[col])]\n",
    "nested_columns\n"
   ]
  },
  {
   "cell_type": "code",
   "execution_count": 4,
   "metadata": {},
   "outputs": [
    {
     "name": "stdout",
     "output_type": "stream",
     "text": [
      "<class 'pandas.core.frame.DataFrame'>\n",
      "RangeIndex: 13703 entries, 0 to 13702\n",
      "Data columns (total 26 columns):\n",
      " #   Column                     Non-Null Count  Dtype  \n",
      "---  ------                     --------------  -----  \n",
      " 0   input                      13703 non-null  object \n",
      " 1   main_ID                    13703 non-null  int64  \n",
      " 2   text                       13564 non-null  object \n",
      " 3   textLanguage               13702 non-null  object \n",
      " 4   createTimeISO              13703 non-null  object \n",
      " 5   diggCount                  13703 non-null  int64  \n",
      " 6   shareCount                 13703 non-null  int64  \n",
      " 7   playCount                  13703 non-null  int64  \n",
      " 8   collectCount               13703 non-null  int64  \n",
      " 9   commentCount               13703 non-null  int64  \n",
      " 10  mentions                   13703 non-null  object \n",
      " 11  hashtag_name               11345 non-null  object \n",
      " 12  searchQuery                0 non-null      float64\n",
      " 13  isSlideshow                13703 non-null  bool   \n",
      " 14  isPinned                   13703 non-null  bool   \n",
      " 15  isSponsored                13703 non-null  bool   \n",
      " 16  fromProfileSection         13703 non-null  object \n",
      " 17  isAd                       8765 non-null   object \n",
      " 18  authorMeta_nickName        13703 non-null  object \n",
      " 19  authorMeta_following       13703 non-null  int64  \n",
      " 20  authorMeta_friends         13703 non-null  int64  \n",
      " 21  authorMeta_privateAccount  13703 non-null  bool   \n",
      " 22  authorMeta_friends_1       13703 non-null  int64  \n",
      " 23  authorMeta_region          13699 non-null  object \n",
      " 24  location_cityCode          1589 non-null   float64\n",
      " 25  location_countryCode       1589 non-null   float64\n",
      "dtypes: bool(4), float64(3), int64(9), object(10)\n",
      "memory usage: 2.4+ MB\n"
     ]
    }
   ],
   "source": [
    "df.info()"
   ]
  },
  {
   "cell_type": "code",
   "execution_count": 5,
   "metadata": {},
   "outputs": [
    {
     "data": {
      "text/plain": [
       "Index(['input', 'main_ID', 'text', 'textLanguage', 'createTimeISO',\n",
       "       'diggCount', 'shareCount', 'playCount', 'collectCount', 'commentCount',\n",
       "       'mentions', 'hashtag_name', 'searchQuery', 'isSlideshow', 'isPinned',\n",
       "       'isSponsored', 'fromProfileSection', 'isAd', 'authorMeta_nickName',\n",
       "       'authorMeta_following', 'authorMeta_friends',\n",
       "       'authorMeta_privateAccount', 'authorMeta_friends_1',\n",
       "       'authorMeta_region', 'location_cityCode', 'location_countryCode'],\n",
       "      dtype='object')"
      ]
     },
     "execution_count": 5,
     "metadata": {},
     "output_type": "execute_result"
    }
   ],
   "source": [
    "df.columns"
   ]
  },
  {
   "cell_type": "code",
   "execution_count": 6,
   "metadata": {},
   "outputs": [
    {
     "data": {
      "text/html": [
       "<div>\n",
       "<style scoped>\n",
       "    .dataframe tbody tr th:only-of-type {\n",
       "        vertical-align: middle;\n",
       "    }\n",
       "\n",
       "    .dataframe tbody tr th {\n",
       "        vertical-align: top;\n",
       "    }\n",
       "\n",
       "    .dataframe thead th {\n",
       "        text-align: right;\n",
       "    }\n",
       "</style>\n",
       "<table border=\"1\" class=\"dataframe\">\n",
       "  <thead>\n",
       "    <tr style=\"text-align: right;\">\n",
       "      <th></th>\n",
       "      <th>input</th>\n",
       "      <th>main_ID</th>\n",
       "      <th>text</th>\n",
       "      <th>createTimeISO</th>\n",
       "      <th>diggCount</th>\n",
       "      <th>shareCount</th>\n",
       "      <th>playCount</th>\n",
       "      <th>collectCount</th>\n",
       "      <th>commentCount</th>\n",
       "      <th>mentions</th>\n",
       "      <th>...</th>\n",
       "      <th>fromProfileSection</th>\n",
       "      <th>isAd</th>\n",
       "      <th>authorMeta_nickName</th>\n",
       "      <th>authorMeta_following</th>\n",
       "      <th>authorMeta_friends</th>\n",
       "      <th>authorMeta_privateAccount</th>\n",
       "      <th>authorMeta_friends_1</th>\n",
       "      <th>authorMeta_region</th>\n",
       "      <th>location_cityCode</th>\n",
       "      <th>location_countryCode</th>\n",
       "    </tr>\n",
       "    <tr>\n",
       "      <th>textLanguage</th>\n",
       "      <th></th>\n",
       "      <th></th>\n",
       "      <th></th>\n",
       "      <th></th>\n",
       "      <th></th>\n",
       "      <th></th>\n",
       "      <th></th>\n",
       "      <th></th>\n",
       "      <th></th>\n",
       "      <th></th>\n",
       "      <th></th>\n",
       "      <th></th>\n",
       "      <th></th>\n",
       "      <th></th>\n",
       "      <th></th>\n",
       "      <th></th>\n",
       "      <th></th>\n",
       "      <th></th>\n",
       "      <th></th>\n",
       "      <th></th>\n",
       "      <th></th>\n",
       "    </tr>\n",
       "  </thead>\n",
       "  <tbody>\n",
       "    <tr>\n",
       "      <th>ar</th>\n",
       "      <td>114</td>\n",
       "      <td>114</td>\n",
       "      <td>114</td>\n",
       "      <td>114</td>\n",
       "      <td>114</td>\n",
       "      <td>114</td>\n",
       "      <td>114</td>\n",
       "      <td>114</td>\n",
       "      <td>114</td>\n",
       "      <td>114</td>\n",
       "      <td>...</td>\n",
       "      <td>114</td>\n",
       "      <td>114</td>\n",
       "      <td>114</td>\n",
       "      <td>114</td>\n",
       "      <td>114</td>\n",
       "      <td>114</td>\n",
       "      <td>114</td>\n",
       "      <td>114</td>\n",
       "      <td>0</td>\n",
       "      <td>0</td>\n",
       "    </tr>\n",
       "    <tr>\n",
       "      <th>cs</th>\n",
       "      <td>1</td>\n",
       "      <td>1</td>\n",
       "      <td>1</td>\n",
       "      <td>1</td>\n",
       "      <td>1</td>\n",
       "      <td>1</td>\n",
       "      <td>1</td>\n",
       "      <td>1</td>\n",
       "      <td>1</td>\n",
       "      <td>1</td>\n",
       "      <td>...</td>\n",
       "      <td>1</td>\n",
       "      <td>0</td>\n",
       "      <td>1</td>\n",
       "      <td>1</td>\n",
       "      <td>1</td>\n",
       "      <td>1</td>\n",
       "      <td>1</td>\n",
       "      <td>1</td>\n",
       "      <td>1</td>\n",
       "      <td>1</td>\n",
       "    </tr>\n",
       "    <tr>\n",
       "      <th>cy</th>\n",
       "      <td>1</td>\n",
       "      <td>1</td>\n",
       "      <td>1</td>\n",
       "      <td>1</td>\n",
       "      <td>1</td>\n",
       "      <td>1</td>\n",
       "      <td>1</td>\n",
       "      <td>1</td>\n",
       "      <td>1</td>\n",
       "      <td>1</td>\n",
       "      <td>...</td>\n",
       "      <td>1</td>\n",
       "      <td>1</td>\n",
       "      <td>1</td>\n",
       "      <td>1</td>\n",
       "      <td>1</td>\n",
       "      <td>1</td>\n",
       "      <td>1</td>\n",
       "      <td>1</td>\n",
       "      <td>0</td>\n",
       "      <td>0</td>\n",
       "    </tr>\n",
       "    <tr>\n",
       "      <th>de</th>\n",
       "      <td>9211</td>\n",
       "      <td>9211</td>\n",
       "      <td>9208</td>\n",
       "      <td>9211</td>\n",
       "      <td>9211</td>\n",
       "      <td>9211</td>\n",
       "      <td>9211</td>\n",
       "      <td>9211</td>\n",
       "      <td>9211</td>\n",
       "      <td>9211</td>\n",
       "      <td>...</td>\n",
       "      <td>9211</td>\n",
       "      <td>5317</td>\n",
       "      <td>9211</td>\n",
       "      <td>9211</td>\n",
       "      <td>9211</td>\n",
       "      <td>9211</td>\n",
       "      <td>9211</td>\n",
       "      <td>9211</td>\n",
       "      <td>1104</td>\n",
       "      <td>1104</td>\n",
       "    </tr>\n",
       "    <tr>\n",
       "      <th>en</th>\n",
       "      <td>3580</td>\n",
       "      <td>3580</td>\n",
       "      <td>3577</td>\n",
       "      <td>3580</td>\n",
       "      <td>3580</td>\n",
       "      <td>3580</td>\n",
       "      <td>3580</td>\n",
       "      <td>3580</td>\n",
       "      <td>3580</td>\n",
       "      <td>3580</td>\n",
       "      <td>...</td>\n",
       "      <td>3580</td>\n",
       "      <td>2930</td>\n",
       "      <td>3580</td>\n",
       "      <td>3580</td>\n",
       "      <td>3580</td>\n",
       "      <td>3580</td>\n",
       "      <td>3580</td>\n",
       "      <td>3578</td>\n",
       "      <td>390</td>\n",
       "      <td>390</td>\n",
       "    </tr>\n",
       "    <tr>\n",
       "      <th>es</th>\n",
       "      <td>18</td>\n",
       "      <td>18</td>\n",
       "      <td>18</td>\n",
       "      <td>18</td>\n",
       "      <td>18</td>\n",
       "      <td>18</td>\n",
       "      <td>18</td>\n",
       "      <td>18</td>\n",
       "      <td>18</td>\n",
       "      <td>18</td>\n",
       "      <td>...</td>\n",
       "      <td>18</td>\n",
       "      <td>18</td>\n",
       "      <td>18</td>\n",
       "      <td>18</td>\n",
       "      <td>18</td>\n",
       "      <td>18</td>\n",
       "      <td>18</td>\n",
       "      <td>18</td>\n",
       "      <td>0</td>\n",
       "      <td>0</td>\n",
       "    </tr>\n",
       "    <tr>\n",
       "      <th>fi</th>\n",
       "      <td>8</td>\n",
       "      <td>8</td>\n",
       "      <td>8</td>\n",
       "      <td>8</td>\n",
       "      <td>8</td>\n",
       "      <td>8</td>\n",
       "      <td>8</td>\n",
       "      <td>8</td>\n",
       "      <td>8</td>\n",
       "      <td>8</td>\n",
       "      <td>...</td>\n",
       "      <td>8</td>\n",
       "      <td>1</td>\n",
       "      <td>8</td>\n",
       "      <td>8</td>\n",
       "      <td>8</td>\n",
       "      <td>8</td>\n",
       "      <td>8</td>\n",
       "      <td>8</td>\n",
       "      <td>1</td>\n",
       "      <td>1</td>\n",
       "    </tr>\n",
       "    <tr>\n",
       "      <th>fr</th>\n",
       "      <td>150</td>\n",
       "      <td>150</td>\n",
       "      <td>150</td>\n",
       "      <td>150</td>\n",
       "      <td>150</td>\n",
       "      <td>150</td>\n",
       "      <td>150</td>\n",
       "      <td>150</td>\n",
       "      <td>150</td>\n",
       "      <td>150</td>\n",
       "      <td>...</td>\n",
       "      <td>150</td>\n",
       "      <td>119</td>\n",
       "      <td>150</td>\n",
       "      <td>150</td>\n",
       "      <td>150</td>\n",
       "      <td>150</td>\n",
       "      <td>150</td>\n",
       "      <td>150</td>\n",
       "      <td>54</td>\n",
       "      <td>54</td>\n",
       "    </tr>\n",
       "    <tr>\n",
       "      <th>fy</th>\n",
       "      <td>2</td>\n",
       "      <td>2</td>\n",
       "      <td>2</td>\n",
       "      <td>2</td>\n",
       "      <td>2</td>\n",
       "      <td>2</td>\n",
       "      <td>2</td>\n",
       "      <td>2</td>\n",
       "      <td>2</td>\n",
       "      <td>2</td>\n",
       "      <td>...</td>\n",
       "      <td>2</td>\n",
       "      <td>0</td>\n",
       "      <td>2</td>\n",
       "      <td>2</td>\n",
       "      <td>2</td>\n",
       "      <td>2</td>\n",
       "      <td>2</td>\n",
       "      <td>2</td>\n",
       "      <td>0</td>\n",
       "      <td>0</td>\n",
       "    </tr>\n",
       "    <tr>\n",
       "      <th>hu</th>\n",
       "      <td>14</td>\n",
       "      <td>14</td>\n",
       "      <td>14</td>\n",
       "      <td>14</td>\n",
       "      <td>14</td>\n",
       "      <td>14</td>\n",
       "      <td>14</td>\n",
       "      <td>14</td>\n",
       "      <td>14</td>\n",
       "      <td>14</td>\n",
       "      <td>...</td>\n",
       "      <td>14</td>\n",
       "      <td>3</td>\n",
       "      <td>14</td>\n",
       "      <td>14</td>\n",
       "      <td>14</td>\n",
       "      <td>14</td>\n",
       "      <td>14</td>\n",
       "      <td>14</td>\n",
       "      <td>0</td>\n",
       "      <td>0</td>\n",
       "    </tr>\n",
       "    <tr>\n",
       "      <th>id</th>\n",
       "      <td>1</td>\n",
       "      <td>1</td>\n",
       "      <td>1</td>\n",
       "      <td>1</td>\n",
       "      <td>1</td>\n",
       "      <td>1</td>\n",
       "      <td>1</td>\n",
       "      <td>1</td>\n",
       "      <td>1</td>\n",
       "      <td>1</td>\n",
       "      <td>...</td>\n",
       "      <td>1</td>\n",
       "      <td>0</td>\n",
       "      <td>1</td>\n",
       "      <td>1</td>\n",
       "      <td>1</td>\n",
       "      <td>1</td>\n",
       "      <td>1</td>\n",
       "      <td>1</td>\n",
       "      <td>0</td>\n",
       "      <td>0</td>\n",
       "    </tr>\n",
       "    <tr>\n",
       "      <th>it</th>\n",
       "      <td>5</td>\n",
       "      <td>5</td>\n",
       "      <td>5</td>\n",
       "      <td>5</td>\n",
       "      <td>5</td>\n",
       "      <td>5</td>\n",
       "      <td>5</td>\n",
       "      <td>5</td>\n",
       "      <td>5</td>\n",
       "      <td>5</td>\n",
       "      <td>...</td>\n",
       "      <td>5</td>\n",
       "      <td>5</td>\n",
       "      <td>5</td>\n",
       "      <td>5</td>\n",
       "      <td>5</td>\n",
       "      <td>5</td>\n",
       "      <td>5</td>\n",
       "      <td>5</td>\n",
       "      <td>5</td>\n",
       "      <td>5</td>\n",
       "    </tr>\n",
       "    <tr>\n",
       "      <th>kmr</th>\n",
       "      <td>1</td>\n",
       "      <td>1</td>\n",
       "      <td>1</td>\n",
       "      <td>1</td>\n",
       "      <td>1</td>\n",
       "      <td>1</td>\n",
       "      <td>1</td>\n",
       "      <td>1</td>\n",
       "      <td>1</td>\n",
       "      <td>1</td>\n",
       "      <td>...</td>\n",
       "      <td>1</td>\n",
       "      <td>0</td>\n",
       "      <td>1</td>\n",
       "      <td>1</td>\n",
       "      <td>1</td>\n",
       "      <td>1</td>\n",
       "      <td>1</td>\n",
       "      <td>1</td>\n",
       "      <td>0</td>\n",
       "      <td>0</td>\n",
       "    </tr>\n",
       "    <tr>\n",
       "      <th>lb</th>\n",
       "      <td>1</td>\n",
       "      <td>1</td>\n",
       "      <td>1</td>\n",
       "      <td>1</td>\n",
       "      <td>1</td>\n",
       "      <td>1</td>\n",
       "      <td>1</td>\n",
       "      <td>1</td>\n",
       "      <td>1</td>\n",
       "      <td>1</td>\n",
       "      <td>...</td>\n",
       "      <td>1</td>\n",
       "      <td>1</td>\n",
       "      <td>1</td>\n",
       "      <td>1</td>\n",
       "      <td>1</td>\n",
       "      <td>1</td>\n",
       "      <td>1</td>\n",
       "      <td>1</td>\n",
       "      <td>0</td>\n",
       "      <td>0</td>\n",
       "    </tr>\n",
       "    <tr>\n",
       "      <th>lt</th>\n",
       "      <td>2</td>\n",
       "      <td>2</td>\n",
       "      <td>2</td>\n",
       "      <td>2</td>\n",
       "      <td>2</td>\n",
       "      <td>2</td>\n",
       "      <td>2</td>\n",
       "      <td>2</td>\n",
       "      <td>2</td>\n",
       "      <td>2</td>\n",
       "      <td>...</td>\n",
       "      <td>2</td>\n",
       "      <td>0</td>\n",
       "      <td>2</td>\n",
       "      <td>2</td>\n",
       "      <td>2</td>\n",
       "      <td>2</td>\n",
       "      <td>2</td>\n",
       "      <td>2</td>\n",
       "      <td>0</td>\n",
       "      <td>0</td>\n",
       "    </tr>\n",
       "    <tr>\n",
       "      <th>ml</th>\n",
       "      <td>15</td>\n",
       "      <td>15</td>\n",
       "      <td>15</td>\n",
       "      <td>15</td>\n",
       "      <td>15</td>\n",
       "      <td>15</td>\n",
       "      <td>15</td>\n",
       "      <td>15</td>\n",
       "      <td>15</td>\n",
       "      <td>15</td>\n",
       "      <td>...</td>\n",
       "      <td>15</td>\n",
       "      <td>0</td>\n",
       "      <td>15</td>\n",
       "      <td>15</td>\n",
       "      <td>15</td>\n",
       "      <td>15</td>\n",
       "      <td>15</td>\n",
       "      <td>15</td>\n",
       "      <td>2</td>\n",
       "      <td>2</td>\n",
       "    </tr>\n",
       "    <tr>\n",
       "      <th>mr</th>\n",
       "      <td>25</td>\n",
       "      <td>25</td>\n",
       "      <td>25</td>\n",
       "      <td>25</td>\n",
       "      <td>25</td>\n",
       "      <td>25</td>\n",
       "      <td>25</td>\n",
       "      <td>25</td>\n",
       "      <td>25</td>\n",
       "      <td>25</td>\n",
       "      <td>...</td>\n",
       "      <td>25</td>\n",
       "      <td>14</td>\n",
       "      <td>25</td>\n",
       "      <td>25</td>\n",
       "      <td>25</td>\n",
       "      <td>25</td>\n",
       "      <td>25</td>\n",
       "      <td>25</td>\n",
       "      <td>0</td>\n",
       "      <td>0</td>\n",
       "    </tr>\n",
       "    <tr>\n",
       "      <th>ms</th>\n",
       "      <td>3</td>\n",
       "      <td>3</td>\n",
       "      <td>3</td>\n",
       "      <td>3</td>\n",
       "      <td>3</td>\n",
       "      <td>3</td>\n",
       "      <td>3</td>\n",
       "      <td>3</td>\n",
       "      <td>3</td>\n",
       "      <td>3</td>\n",
       "      <td>...</td>\n",
       "      <td>3</td>\n",
       "      <td>0</td>\n",
       "      <td>3</td>\n",
       "      <td>3</td>\n",
       "      <td>3</td>\n",
       "      <td>3</td>\n",
       "      <td>3</td>\n",
       "      <td>3</td>\n",
       "      <td>0</td>\n",
       "      <td>0</td>\n",
       "    </tr>\n",
       "    <tr>\n",
       "      <th>nl</th>\n",
       "      <td>9</td>\n",
       "      <td>9</td>\n",
       "      <td>9</td>\n",
       "      <td>9</td>\n",
       "      <td>9</td>\n",
       "      <td>9</td>\n",
       "      <td>9</td>\n",
       "      <td>9</td>\n",
       "      <td>9</td>\n",
       "      <td>9</td>\n",
       "      <td>...</td>\n",
       "      <td>9</td>\n",
       "      <td>4</td>\n",
       "      <td>9</td>\n",
       "      <td>9</td>\n",
       "      <td>9</td>\n",
       "      <td>9</td>\n",
       "      <td>9</td>\n",
       "      <td>9</td>\n",
       "      <td>0</td>\n",
       "      <td>0</td>\n",
       "    </tr>\n",
       "    <tr>\n",
       "      <th>no</th>\n",
       "      <td>1</td>\n",
       "      <td>1</td>\n",
       "      <td>1</td>\n",
       "      <td>1</td>\n",
       "      <td>1</td>\n",
       "      <td>1</td>\n",
       "      <td>1</td>\n",
       "      <td>1</td>\n",
       "      <td>1</td>\n",
       "      <td>1</td>\n",
       "      <td>...</td>\n",
       "      <td>1</td>\n",
       "      <td>1</td>\n",
       "      <td>1</td>\n",
       "      <td>1</td>\n",
       "      <td>1</td>\n",
       "      <td>1</td>\n",
       "      <td>1</td>\n",
       "      <td>1</td>\n",
       "      <td>0</td>\n",
       "      <td>0</td>\n",
       "    </tr>\n",
       "    <tr>\n",
       "      <th>pl</th>\n",
       "      <td>6</td>\n",
       "      <td>6</td>\n",
       "      <td>6</td>\n",
       "      <td>6</td>\n",
       "      <td>6</td>\n",
       "      <td>6</td>\n",
       "      <td>6</td>\n",
       "      <td>6</td>\n",
       "      <td>6</td>\n",
       "      <td>6</td>\n",
       "      <td>...</td>\n",
       "      <td>6</td>\n",
       "      <td>1</td>\n",
       "      <td>6</td>\n",
       "      <td>6</td>\n",
       "      <td>6</td>\n",
       "      <td>6</td>\n",
       "      <td>6</td>\n",
       "      <td>6</td>\n",
       "      <td>0</td>\n",
       "      <td>0</td>\n",
       "    </tr>\n",
       "    <tr>\n",
       "      <th>pt</th>\n",
       "      <td>1</td>\n",
       "      <td>1</td>\n",
       "      <td>1</td>\n",
       "      <td>1</td>\n",
       "      <td>1</td>\n",
       "      <td>1</td>\n",
       "      <td>1</td>\n",
       "      <td>1</td>\n",
       "      <td>1</td>\n",
       "      <td>1</td>\n",
       "      <td>...</td>\n",
       "      <td>1</td>\n",
       "      <td>0</td>\n",
       "      <td>1</td>\n",
       "      <td>1</td>\n",
       "      <td>1</td>\n",
       "      <td>1</td>\n",
       "      <td>1</td>\n",
       "      <td>1</td>\n",
       "      <td>0</td>\n",
       "      <td>0</td>\n",
       "    </tr>\n",
       "    <tr>\n",
       "      <th>ro</th>\n",
       "      <td>1</td>\n",
       "      <td>1</td>\n",
       "      <td>1</td>\n",
       "      <td>1</td>\n",
       "      <td>1</td>\n",
       "      <td>1</td>\n",
       "      <td>1</td>\n",
       "      <td>1</td>\n",
       "      <td>1</td>\n",
       "      <td>1</td>\n",
       "      <td>...</td>\n",
       "      <td>1</td>\n",
       "      <td>1</td>\n",
       "      <td>1</td>\n",
       "      <td>1</td>\n",
       "      <td>1</td>\n",
       "      <td>1</td>\n",
       "      <td>1</td>\n",
       "      <td>1</td>\n",
       "      <td>0</td>\n",
       "      <td>0</td>\n",
       "    </tr>\n",
       "    <tr>\n",
       "      <th>sm</th>\n",
       "      <td>1</td>\n",
       "      <td>1</td>\n",
       "      <td>1</td>\n",
       "      <td>1</td>\n",
       "      <td>1</td>\n",
       "      <td>1</td>\n",
       "      <td>1</td>\n",
       "      <td>1</td>\n",
       "      <td>1</td>\n",
       "      <td>1</td>\n",
       "      <td>...</td>\n",
       "      <td>1</td>\n",
       "      <td>0</td>\n",
       "      <td>1</td>\n",
       "      <td>1</td>\n",
       "      <td>1</td>\n",
       "      <td>1</td>\n",
       "      <td>1</td>\n",
       "      <td>1</td>\n",
       "      <td>0</td>\n",
       "      <td>0</td>\n",
       "    </tr>\n",
       "    <tr>\n",
       "      <th>so</th>\n",
       "      <td>1</td>\n",
       "      <td>1</td>\n",
       "      <td>1</td>\n",
       "      <td>1</td>\n",
       "      <td>1</td>\n",
       "      <td>1</td>\n",
       "      <td>1</td>\n",
       "      <td>1</td>\n",
       "      <td>1</td>\n",
       "      <td>1</td>\n",
       "      <td>...</td>\n",
       "      <td>1</td>\n",
       "      <td>0</td>\n",
       "      <td>1</td>\n",
       "      <td>1</td>\n",
       "      <td>1</td>\n",
       "      <td>1</td>\n",
       "      <td>1</td>\n",
       "      <td>1</td>\n",
       "      <td>0</td>\n",
       "      <td>0</td>\n",
       "    </tr>\n",
       "    <tr>\n",
       "      <th>sq</th>\n",
       "      <td>4</td>\n",
       "      <td>4</td>\n",
       "      <td>4</td>\n",
       "      <td>4</td>\n",
       "      <td>4</td>\n",
       "      <td>4</td>\n",
       "      <td>4</td>\n",
       "      <td>4</td>\n",
       "      <td>4</td>\n",
       "      <td>4</td>\n",
       "      <td>...</td>\n",
       "      <td>4</td>\n",
       "      <td>4</td>\n",
       "      <td>4</td>\n",
       "      <td>4</td>\n",
       "      <td>4</td>\n",
       "      <td>4</td>\n",
       "      <td>4</td>\n",
       "      <td>4</td>\n",
       "      <td>0</td>\n",
       "      <td>0</td>\n",
       "    </tr>\n",
       "    <tr>\n",
       "      <th>sv</th>\n",
       "      <td>3</td>\n",
       "      <td>3</td>\n",
       "      <td>3</td>\n",
       "      <td>3</td>\n",
       "      <td>3</td>\n",
       "      <td>3</td>\n",
       "      <td>3</td>\n",
       "      <td>3</td>\n",
       "      <td>3</td>\n",
       "      <td>3</td>\n",
       "      <td>...</td>\n",
       "      <td>3</td>\n",
       "      <td>0</td>\n",
       "      <td>3</td>\n",
       "      <td>3</td>\n",
       "      <td>3</td>\n",
       "      <td>3</td>\n",
       "      <td>3</td>\n",
       "      <td>3</td>\n",
       "      <td>0</td>\n",
       "      <td>0</td>\n",
       "    </tr>\n",
       "    <tr>\n",
       "      <th>tl</th>\n",
       "      <td>1</td>\n",
       "      <td>1</td>\n",
       "      <td>1</td>\n",
       "      <td>1</td>\n",
       "      <td>1</td>\n",
       "      <td>1</td>\n",
       "      <td>1</td>\n",
       "      <td>1</td>\n",
       "      <td>1</td>\n",
       "      <td>1</td>\n",
       "      <td>...</td>\n",
       "      <td>1</td>\n",
       "      <td>1</td>\n",
       "      <td>1</td>\n",
       "      <td>1</td>\n",
       "      <td>1</td>\n",
       "      <td>1</td>\n",
       "      <td>1</td>\n",
       "      <td>1</td>\n",
       "      <td>0</td>\n",
       "      <td>0</td>\n",
       "    </tr>\n",
       "    <tr>\n",
       "      <th>un</th>\n",
       "      <td>519</td>\n",
       "      <td>519</td>\n",
       "      <td>386</td>\n",
       "      <td>519</td>\n",
       "      <td>519</td>\n",
       "      <td>519</td>\n",
       "      <td>519</td>\n",
       "      <td>519</td>\n",
       "      <td>519</td>\n",
       "      <td>519</td>\n",
       "      <td>...</td>\n",
       "      <td>519</td>\n",
       "      <td>229</td>\n",
       "      <td>519</td>\n",
       "      <td>519</td>\n",
       "      <td>519</td>\n",
       "      <td>519</td>\n",
       "      <td>519</td>\n",
       "      <td>517</td>\n",
       "      <td>32</td>\n",
       "      <td>32</td>\n",
       "    </tr>\n",
       "    <tr>\n",
       "      <th>vi</th>\n",
       "      <td>1</td>\n",
       "      <td>1</td>\n",
       "      <td>1</td>\n",
       "      <td>1</td>\n",
       "      <td>1</td>\n",
       "      <td>1</td>\n",
       "      <td>1</td>\n",
       "      <td>1</td>\n",
       "      <td>1</td>\n",
       "      <td>1</td>\n",
       "      <td>...</td>\n",
       "      <td>1</td>\n",
       "      <td>0</td>\n",
       "      <td>1</td>\n",
       "      <td>1</td>\n",
       "      <td>1</td>\n",
       "      <td>1</td>\n",
       "      <td>1</td>\n",
       "      <td>1</td>\n",
       "      <td>0</td>\n",
       "      <td>0</td>\n",
       "    </tr>\n",
       "    <tr>\n",
       "      <th>xh</th>\n",
       "      <td>2</td>\n",
       "      <td>2</td>\n",
       "      <td>2</td>\n",
       "      <td>2</td>\n",
       "      <td>2</td>\n",
       "      <td>2</td>\n",
       "      <td>2</td>\n",
       "      <td>2</td>\n",
       "      <td>2</td>\n",
       "      <td>2</td>\n",
       "      <td>...</td>\n",
       "      <td>2</td>\n",
       "      <td>0</td>\n",
       "      <td>2</td>\n",
       "      <td>2</td>\n",
       "      <td>2</td>\n",
       "      <td>2</td>\n",
       "      <td>2</td>\n",
       "      <td>2</td>\n",
       "      <td>0</td>\n",
       "      <td>0</td>\n",
       "    </tr>\n",
       "  </tbody>\n",
       "</table>\n",
       "<p>31 rows × 25 columns</p>\n",
       "</div>"
      ],
      "text/plain": [
       "              input  main_ID  text  createTimeISO  diggCount  shareCount  \\\n",
       "textLanguage                                                               \n",
       "ar              114      114   114            114        114         114   \n",
       "cs                1        1     1              1          1           1   \n",
       "cy                1        1     1              1          1           1   \n",
       "de             9211     9211  9208           9211       9211        9211   \n",
       "en             3580     3580  3577           3580       3580        3580   \n",
       "es               18       18    18             18         18          18   \n",
       "fi                8        8     8              8          8           8   \n",
       "fr              150      150   150            150        150         150   \n",
       "fy                2        2     2              2          2           2   \n",
       "hu               14       14    14             14         14          14   \n",
       "id                1        1     1              1          1           1   \n",
       "it                5        5     5              5          5           5   \n",
       "kmr               1        1     1              1          1           1   \n",
       "lb                1        1     1              1          1           1   \n",
       "lt                2        2     2              2          2           2   \n",
       "ml               15       15    15             15         15          15   \n",
       "mr               25       25    25             25         25          25   \n",
       "ms                3        3     3              3          3           3   \n",
       "nl                9        9     9              9          9           9   \n",
       "no                1        1     1              1          1           1   \n",
       "pl                6        6     6              6          6           6   \n",
       "pt                1        1     1              1          1           1   \n",
       "ro                1        1     1              1          1           1   \n",
       "sm                1        1     1              1          1           1   \n",
       "so                1        1     1              1          1           1   \n",
       "sq                4        4     4              4          4           4   \n",
       "sv                3        3     3              3          3           3   \n",
       "tl                1        1     1              1          1           1   \n",
       "un              519      519   386            519        519         519   \n",
       "vi                1        1     1              1          1           1   \n",
       "xh                2        2     2              2          2           2   \n",
       "\n",
       "              playCount  collectCount  commentCount  mentions  ...  \\\n",
       "textLanguage                                                   ...   \n",
       "ar                  114           114           114       114  ...   \n",
       "cs                    1             1             1         1  ...   \n",
       "cy                    1             1             1         1  ...   \n",
       "de                 9211          9211          9211      9211  ...   \n",
       "en                 3580          3580          3580      3580  ...   \n",
       "es                   18            18            18        18  ...   \n",
       "fi                    8             8             8         8  ...   \n",
       "fr                  150           150           150       150  ...   \n",
       "fy                    2             2             2         2  ...   \n",
       "hu                   14            14            14        14  ...   \n",
       "id                    1             1             1         1  ...   \n",
       "it                    5             5             5         5  ...   \n",
       "kmr                   1             1             1         1  ...   \n",
       "lb                    1             1             1         1  ...   \n",
       "lt                    2             2             2         2  ...   \n",
       "ml                   15            15            15        15  ...   \n",
       "mr                   25            25            25        25  ...   \n",
       "ms                    3             3             3         3  ...   \n",
       "nl                    9             9             9         9  ...   \n",
       "no                    1             1             1         1  ...   \n",
       "pl                    6             6             6         6  ...   \n",
       "pt                    1             1             1         1  ...   \n",
       "ro                    1             1             1         1  ...   \n",
       "sm                    1             1             1         1  ...   \n",
       "so                    1             1             1         1  ...   \n",
       "sq                    4             4             4         4  ...   \n",
       "sv                    3             3             3         3  ...   \n",
       "tl                    1             1             1         1  ...   \n",
       "un                  519           519           519       519  ...   \n",
       "vi                    1             1             1         1  ...   \n",
       "xh                    2             2             2         2  ...   \n",
       "\n",
       "              fromProfileSection  isAd  authorMeta_nickName  \\\n",
       "textLanguage                                                  \n",
       "ar                           114   114                  114   \n",
       "cs                             1     0                    1   \n",
       "cy                             1     1                    1   \n",
       "de                          9211  5317                 9211   \n",
       "en                          3580  2930                 3580   \n",
       "es                            18    18                   18   \n",
       "fi                             8     1                    8   \n",
       "fr                           150   119                  150   \n",
       "fy                             2     0                    2   \n",
       "hu                            14     3                   14   \n",
       "id                             1     0                    1   \n",
       "it                             5     5                    5   \n",
       "kmr                            1     0                    1   \n",
       "lb                             1     1                    1   \n",
       "lt                             2     0                    2   \n",
       "ml                            15     0                   15   \n",
       "mr                            25    14                   25   \n",
       "ms                             3     0                    3   \n",
       "nl                             9     4                    9   \n",
       "no                             1     1                    1   \n",
       "pl                             6     1                    6   \n",
       "pt                             1     0                    1   \n",
       "ro                             1     1                    1   \n",
       "sm                             1     0                    1   \n",
       "so                             1     0                    1   \n",
       "sq                             4     4                    4   \n",
       "sv                             3     0                    3   \n",
       "tl                             1     1                    1   \n",
       "un                           519   229                  519   \n",
       "vi                             1     0                    1   \n",
       "xh                             2     0                    2   \n",
       "\n",
       "              authorMeta_following  authorMeta_friends  \\\n",
       "textLanguage                                             \n",
       "ar                             114                 114   \n",
       "cs                               1                   1   \n",
       "cy                               1                   1   \n",
       "de                            9211                9211   \n",
       "en                            3580                3580   \n",
       "es                              18                  18   \n",
       "fi                               8                   8   \n",
       "fr                             150                 150   \n",
       "fy                               2                   2   \n",
       "hu                              14                  14   \n",
       "id                               1                   1   \n",
       "it                               5                   5   \n",
       "kmr                              1                   1   \n",
       "lb                               1                   1   \n",
       "lt                               2                   2   \n",
       "ml                              15                  15   \n",
       "mr                              25                  25   \n",
       "ms                               3                   3   \n",
       "nl                               9                   9   \n",
       "no                               1                   1   \n",
       "pl                               6                   6   \n",
       "pt                               1                   1   \n",
       "ro                               1                   1   \n",
       "sm                               1                   1   \n",
       "so                               1                   1   \n",
       "sq                               4                   4   \n",
       "sv                               3                   3   \n",
       "tl                               1                   1   \n",
       "un                             519                 519   \n",
       "vi                               1                   1   \n",
       "xh                               2                   2   \n",
       "\n",
       "              authorMeta_privateAccount  authorMeta_friends_1  \\\n",
       "textLanguage                                                    \n",
       "ar                                  114                   114   \n",
       "cs                                    1                     1   \n",
       "cy                                    1                     1   \n",
       "de                                 9211                  9211   \n",
       "en                                 3580                  3580   \n",
       "es                                   18                    18   \n",
       "fi                                    8                     8   \n",
       "fr                                  150                   150   \n",
       "fy                                    2                     2   \n",
       "hu                                   14                    14   \n",
       "id                                    1                     1   \n",
       "it                                    5                     5   \n",
       "kmr                                   1                     1   \n",
       "lb                                    1                     1   \n",
       "lt                                    2                     2   \n",
       "ml                                   15                    15   \n",
       "mr                                   25                    25   \n",
       "ms                                    3                     3   \n",
       "nl                                    9                     9   \n",
       "no                                    1                     1   \n",
       "pl                                    6                     6   \n",
       "pt                                    1                     1   \n",
       "ro                                    1                     1   \n",
       "sm                                    1                     1   \n",
       "so                                    1                     1   \n",
       "sq                                    4                     4   \n",
       "sv                                    3                     3   \n",
       "tl                                    1                     1   \n",
       "un                                  519                   519   \n",
       "vi                                    1                     1   \n",
       "xh                                    2                     2   \n",
       "\n",
       "              authorMeta_region  location_cityCode  location_countryCode  \n",
       "textLanguage                                                              \n",
       "ar                          114                  0                     0  \n",
       "cs                            1                  1                     1  \n",
       "cy                            1                  0                     0  \n",
       "de                         9211               1104                  1104  \n",
       "en                         3578                390                   390  \n",
       "es                           18                  0                     0  \n",
       "fi                            8                  1                     1  \n",
       "fr                          150                 54                    54  \n",
       "fy                            2                  0                     0  \n",
       "hu                           14                  0                     0  \n",
       "id                            1                  0                     0  \n",
       "it                            5                  5                     5  \n",
       "kmr                           1                  0                     0  \n",
       "lb                            1                  0                     0  \n",
       "lt                            2                  0                     0  \n",
       "ml                           15                  2                     2  \n",
       "mr                           25                  0                     0  \n",
       "ms                            3                  0                     0  \n",
       "nl                            9                  0                     0  \n",
       "no                            1                  0                     0  \n",
       "pl                            6                  0                     0  \n",
       "pt                            1                  0                     0  \n",
       "ro                            1                  0                     0  \n",
       "sm                            1                  0                     0  \n",
       "so                            1                  0                     0  \n",
       "sq                            4                  0                     0  \n",
       "sv                            3                  0                     0  \n",
       "tl                            1                  0                     0  \n",
       "un                          517                 32                    32  \n",
       "vi                            1                  0                     0  \n",
       "xh                            2                  0                     0  \n",
       "\n",
       "[31 rows x 25 columns]"
      ]
     },
     "execution_count": 6,
     "metadata": {},
     "output_type": "execute_result"
    }
   ],
   "source": [
    "df.groupby(df['textLanguage']).count()"
   ]
  },
  {
   "cell_type": "code",
   "execution_count": 7,
   "metadata": {},
   "outputs": [
    {
     "data": {
      "application/vnd.plotly.v1+json": {
       "config": {
        "plotlyServerURL": "https://plot.ly"
       },
       "data": [
        {
         "hovertemplate": "Language=%{x}<br>Count=%{text}<extra></extra>",
         "legendgroup": "Others",
         "marker": {
          "color": "#636efa",
          "pattern": {
           "shape": ""
          }
         },
         "name": "Others",
         "orientation": "v",
         "showlegend": true,
         "text": {
          "bdata": "AAAAAAAAYEA=",
          "dtype": "f8"
         },
         "textposition": "outside",
         "type": "bar",
         "x": [
          "Others"
         ],
         "xaxis": "x",
         "y": {
          "bdata": "gAA=",
          "dtype": "i2"
         },
         "yaxis": "y"
        },
        {
         "hovertemplate": "Language=%{x}<br>Count=%{text}<extra></extra>",
         "legendgroup": "ar",
         "marker": {
          "color": "#EF553B",
          "pattern": {
           "shape": ""
          }
         },
         "name": "ar",
         "orientation": "v",
         "showlegend": true,
         "text": {
          "bdata": "AAAAAACAXEA=",
          "dtype": "f8"
         },
         "textposition": "outside",
         "type": "bar",
         "x": [
          "ar"
         ],
         "xaxis": "x",
         "y": {
          "bdata": "cg==",
          "dtype": "i1"
         },
         "yaxis": "y"
        },
        {
         "hovertemplate": "Language=%{x}<br>Count=%{text}<extra></extra>",
         "legendgroup": "de",
         "marker": {
          "color": "#00cc96",
          "pattern": {
           "shape": ""
          }
         },
         "name": "de",
         "orientation": "v",
         "showlegend": true,
         "text": {
          "bdata": "AAAAAID9wUA=",
          "dtype": "f8"
         },
         "textposition": "outside",
         "type": "bar",
         "x": [
          "de"
         ],
         "xaxis": "x",
         "y": {
          "bdata": "+yM=",
          "dtype": "i2"
         },
         "yaxis": "y"
        },
        {
         "hovertemplate": "Language=%{x}<br>Count=%{text}<extra></extra>",
         "legendgroup": "en",
         "marker": {
          "color": "#ab63fa",
          "pattern": {
           "shape": ""
          }
         },
         "name": "en",
         "orientation": "v",
         "showlegend": true,
         "text": {
          "bdata": "AAAAAAD4q0A=",
          "dtype": "f8"
         },
         "textposition": "outside",
         "type": "bar",
         "x": [
          "en"
         ],
         "xaxis": "x",
         "y": {
          "bdata": "/A0=",
          "dtype": "i2"
         },
         "yaxis": "y"
        },
        {
         "hovertemplate": "Language=%{x}<br>Count=%{text}<extra></extra>",
         "legendgroup": "fr",
         "marker": {
          "color": "#FFA15A",
          "pattern": {
           "shape": ""
          }
         },
         "name": "fr",
         "orientation": "v",
         "showlegend": true,
         "text": {
          "bdata": "AAAAAADAYkA=",
          "dtype": "f8"
         },
         "textposition": "outside",
         "type": "bar",
         "x": [
          "fr"
         ],
         "xaxis": "x",
         "y": {
          "bdata": "lgA=",
          "dtype": "i2"
         },
         "yaxis": "y"
        },
        {
         "hovertemplate": "Language=%{x}<br>Count=%{text}<extra></extra>",
         "legendgroup": "un",
         "marker": {
          "color": "#19d3f3",
          "pattern": {
           "shape": ""
          }
         },
         "name": "un",
         "orientation": "v",
         "showlegend": true,
         "text": {
          "bdata": "AAAAAAA4gEA=",
          "dtype": "f8"
         },
         "textposition": "outside",
         "type": "bar",
         "x": [
          "un"
         ],
         "xaxis": "x",
         "y": {
          "bdata": "BwI=",
          "dtype": "i2"
         },
         "yaxis": "y"
        }
       ],
       "layout": {
        "barmode": "relative",
        "legend": {
         "title": {
          "text": "Language"
         },
         "tracegroupgap": 0
        },
        "showlegend": false,
        "template": {
         "data": {
          "bar": [
           {
            "error_x": {
             "color": "#2a3f5f"
            },
            "error_y": {
             "color": "#2a3f5f"
            },
            "marker": {
             "line": {
              "color": "#E5ECF6",
              "width": 0.5
             },
             "pattern": {
              "fillmode": "overlay",
              "size": 10,
              "solidity": 0.2
             }
            },
            "type": "bar"
           }
          ],
          "barpolar": [
           {
            "marker": {
             "line": {
              "color": "#E5ECF6",
              "width": 0.5
             },
             "pattern": {
              "fillmode": "overlay",
              "size": 10,
              "solidity": 0.2
             }
            },
            "type": "barpolar"
           }
          ],
          "carpet": [
           {
            "aaxis": {
             "endlinecolor": "#2a3f5f",
             "gridcolor": "white",
             "linecolor": "white",
             "minorgridcolor": "white",
             "startlinecolor": "#2a3f5f"
            },
            "baxis": {
             "endlinecolor": "#2a3f5f",
             "gridcolor": "white",
             "linecolor": "white",
             "minorgridcolor": "white",
             "startlinecolor": "#2a3f5f"
            },
            "type": "carpet"
           }
          ],
          "choropleth": [
           {
            "colorbar": {
             "outlinewidth": 0,
             "ticks": ""
            },
            "type": "choropleth"
           }
          ],
          "contour": [
           {
            "colorbar": {
             "outlinewidth": 0,
             "ticks": ""
            },
            "colorscale": [
             [
              0,
              "#0d0887"
             ],
             [
              0.1111111111111111,
              "#46039f"
             ],
             [
              0.2222222222222222,
              "#7201a8"
             ],
             [
              0.3333333333333333,
              "#9c179e"
             ],
             [
              0.4444444444444444,
              "#bd3786"
             ],
             [
              0.5555555555555556,
              "#d8576b"
             ],
             [
              0.6666666666666666,
              "#ed7953"
             ],
             [
              0.7777777777777778,
              "#fb9f3a"
             ],
             [
              0.8888888888888888,
              "#fdca26"
             ],
             [
              1,
              "#f0f921"
             ]
            ],
            "type": "contour"
           }
          ],
          "contourcarpet": [
           {
            "colorbar": {
             "outlinewidth": 0,
             "ticks": ""
            },
            "type": "contourcarpet"
           }
          ],
          "heatmap": [
           {
            "colorbar": {
             "outlinewidth": 0,
             "ticks": ""
            },
            "colorscale": [
             [
              0,
              "#0d0887"
             ],
             [
              0.1111111111111111,
              "#46039f"
             ],
             [
              0.2222222222222222,
              "#7201a8"
             ],
             [
              0.3333333333333333,
              "#9c179e"
             ],
             [
              0.4444444444444444,
              "#bd3786"
             ],
             [
              0.5555555555555556,
              "#d8576b"
             ],
             [
              0.6666666666666666,
              "#ed7953"
             ],
             [
              0.7777777777777778,
              "#fb9f3a"
             ],
             [
              0.8888888888888888,
              "#fdca26"
             ],
             [
              1,
              "#f0f921"
             ]
            ],
            "type": "heatmap"
           }
          ],
          "histogram": [
           {
            "marker": {
             "pattern": {
              "fillmode": "overlay",
              "size": 10,
              "solidity": 0.2
             }
            },
            "type": "histogram"
           }
          ],
          "histogram2d": [
           {
            "colorbar": {
             "outlinewidth": 0,
             "ticks": ""
            },
            "colorscale": [
             [
              0,
              "#0d0887"
             ],
             [
              0.1111111111111111,
              "#46039f"
             ],
             [
              0.2222222222222222,
              "#7201a8"
             ],
             [
              0.3333333333333333,
              "#9c179e"
             ],
             [
              0.4444444444444444,
              "#bd3786"
             ],
             [
              0.5555555555555556,
              "#d8576b"
             ],
             [
              0.6666666666666666,
              "#ed7953"
             ],
             [
              0.7777777777777778,
              "#fb9f3a"
             ],
             [
              0.8888888888888888,
              "#fdca26"
             ],
             [
              1,
              "#f0f921"
             ]
            ],
            "type": "histogram2d"
           }
          ],
          "histogram2dcontour": [
           {
            "colorbar": {
             "outlinewidth": 0,
             "ticks": ""
            },
            "colorscale": [
             [
              0,
              "#0d0887"
             ],
             [
              0.1111111111111111,
              "#46039f"
             ],
             [
              0.2222222222222222,
              "#7201a8"
             ],
             [
              0.3333333333333333,
              "#9c179e"
             ],
             [
              0.4444444444444444,
              "#bd3786"
             ],
             [
              0.5555555555555556,
              "#d8576b"
             ],
             [
              0.6666666666666666,
              "#ed7953"
             ],
             [
              0.7777777777777778,
              "#fb9f3a"
             ],
             [
              0.8888888888888888,
              "#fdca26"
             ],
             [
              1,
              "#f0f921"
             ]
            ],
            "type": "histogram2dcontour"
           }
          ],
          "mesh3d": [
           {
            "colorbar": {
             "outlinewidth": 0,
             "ticks": ""
            },
            "type": "mesh3d"
           }
          ],
          "parcoords": [
           {
            "line": {
             "colorbar": {
              "outlinewidth": 0,
              "ticks": ""
             }
            },
            "type": "parcoords"
           }
          ],
          "pie": [
           {
            "automargin": true,
            "type": "pie"
           }
          ],
          "scatter": [
           {
            "fillpattern": {
             "fillmode": "overlay",
             "size": 10,
             "solidity": 0.2
            },
            "type": "scatter"
           }
          ],
          "scatter3d": [
           {
            "line": {
             "colorbar": {
              "outlinewidth": 0,
              "ticks": ""
             }
            },
            "marker": {
             "colorbar": {
              "outlinewidth": 0,
              "ticks": ""
             }
            },
            "type": "scatter3d"
           }
          ],
          "scattercarpet": [
           {
            "marker": {
             "colorbar": {
              "outlinewidth": 0,
              "ticks": ""
             }
            },
            "type": "scattercarpet"
           }
          ],
          "scattergeo": [
           {
            "marker": {
             "colorbar": {
              "outlinewidth": 0,
              "ticks": ""
             }
            },
            "type": "scattergeo"
           }
          ],
          "scattergl": [
           {
            "marker": {
             "colorbar": {
              "outlinewidth": 0,
              "ticks": ""
             }
            },
            "type": "scattergl"
           }
          ],
          "scattermap": [
           {
            "marker": {
             "colorbar": {
              "outlinewidth": 0,
              "ticks": ""
             }
            },
            "type": "scattermap"
           }
          ],
          "scattermapbox": [
           {
            "marker": {
             "colorbar": {
              "outlinewidth": 0,
              "ticks": ""
             }
            },
            "type": "scattermapbox"
           }
          ],
          "scatterpolar": [
           {
            "marker": {
             "colorbar": {
              "outlinewidth": 0,
              "ticks": ""
             }
            },
            "type": "scatterpolar"
           }
          ],
          "scatterpolargl": [
           {
            "marker": {
             "colorbar": {
              "outlinewidth": 0,
              "ticks": ""
             }
            },
            "type": "scatterpolargl"
           }
          ],
          "scatterternary": [
           {
            "marker": {
             "colorbar": {
              "outlinewidth": 0,
              "ticks": ""
             }
            },
            "type": "scatterternary"
           }
          ],
          "surface": [
           {
            "colorbar": {
             "outlinewidth": 0,
             "ticks": ""
            },
            "colorscale": [
             [
              0,
              "#0d0887"
             ],
             [
              0.1111111111111111,
              "#46039f"
             ],
             [
              0.2222222222222222,
              "#7201a8"
             ],
             [
              0.3333333333333333,
              "#9c179e"
             ],
             [
              0.4444444444444444,
              "#bd3786"
             ],
             [
              0.5555555555555556,
              "#d8576b"
             ],
             [
              0.6666666666666666,
              "#ed7953"
             ],
             [
              0.7777777777777778,
              "#fb9f3a"
             ],
             [
              0.8888888888888888,
              "#fdca26"
             ],
             [
              1,
              "#f0f921"
             ]
            ],
            "type": "surface"
           }
          ],
          "table": [
           {
            "cells": {
             "fill": {
              "color": "#EBF0F8"
             },
             "line": {
              "color": "white"
             }
            },
            "header": {
             "fill": {
              "color": "#C8D4E3"
             },
             "line": {
              "color": "white"
             }
            },
            "type": "table"
           }
          ]
         },
         "layout": {
          "annotationdefaults": {
           "arrowcolor": "#2a3f5f",
           "arrowhead": 0,
           "arrowwidth": 1
          },
          "autotypenumbers": "strict",
          "coloraxis": {
           "colorbar": {
            "outlinewidth": 0,
            "ticks": ""
           }
          },
          "colorscale": {
           "diverging": [
            [
             0,
             "#8e0152"
            ],
            [
             0.1,
             "#c51b7d"
            ],
            [
             0.2,
             "#de77ae"
            ],
            [
             0.3,
             "#f1b6da"
            ],
            [
             0.4,
             "#fde0ef"
            ],
            [
             0.5,
             "#f7f7f7"
            ],
            [
             0.6,
             "#e6f5d0"
            ],
            [
             0.7,
             "#b8e186"
            ],
            [
             0.8,
             "#7fbc41"
            ],
            [
             0.9,
             "#4d9221"
            ],
            [
             1,
             "#276419"
            ]
           ],
           "sequential": [
            [
             0,
             "#0d0887"
            ],
            [
             0.1111111111111111,
             "#46039f"
            ],
            [
             0.2222222222222222,
             "#7201a8"
            ],
            [
             0.3333333333333333,
             "#9c179e"
            ],
            [
             0.4444444444444444,
             "#bd3786"
            ],
            [
             0.5555555555555556,
             "#d8576b"
            ],
            [
             0.6666666666666666,
             "#ed7953"
            ],
            [
             0.7777777777777778,
             "#fb9f3a"
            ],
            [
             0.8888888888888888,
             "#fdca26"
            ],
            [
             1,
             "#f0f921"
            ]
           ],
           "sequentialminus": [
            [
             0,
             "#0d0887"
            ],
            [
             0.1111111111111111,
             "#46039f"
            ],
            [
             0.2222222222222222,
             "#7201a8"
            ],
            [
             0.3333333333333333,
             "#9c179e"
            ],
            [
             0.4444444444444444,
             "#bd3786"
            ],
            [
             0.5555555555555556,
             "#d8576b"
            ],
            [
             0.6666666666666666,
             "#ed7953"
            ],
            [
             0.7777777777777778,
             "#fb9f3a"
            ],
            [
             0.8888888888888888,
             "#fdca26"
            ],
            [
             1,
             "#f0f921"
            ]
           ]
          },
          "colorway": [
           "#636efa",
           "#EF553B",
           "#00cc96",
           "#ab63fa",
           "#FFA15A",
           "#19d3f3",
           "#FF6692",
           "#B6E880",
           "#FF97FF",
           "#FECB52"
          ],
          "font": {
           "color": "#2a3f5f"
          },
          "geo": {
           "bgcolor": "white",
           "lakecolor": "white",
           "landcolor": "#E5ECF6",
           "showlakes": true,
           "showland": true,
           "subunitcolor": "white"
          },
          "hoverlabel": {
           "align": "left"
          },
          "hovermode": "closest",
          "mapbox": {
           "style": "light"
          },
          "paper_bgcolor": "white",
          "plot_bgcolor": "#E5ECF6",
          "polar": {
           "angularaxis": {
            "gridcolor": "white",
            "linecolor": "white",
            "ticks": ""
           },
           "bgcolor": "#E5ECF6",
           "radialaxis": {
            "gridcolor": "white",
            "linecolor": "white",
            "ticks": ""
           }
          },
          "scene": {
           "xaxis": {
            "backgroundcolor": "#E5ECF6",
            "gridcolor": "white",
            "gridwidth": 2,
            "linecolor": "white",
            "showbackground": true,
            "ticks": "",
            "zerolinecolor": "white"
           },
           "yaxis": {
            "backgroundcolor": "#E5ECF6",
            "gridcolor": "white",
            "gridwidth": 2,
            "linecolor": "white",
            "showbackground": true,
            "ticks": "",
            "zerolinecolor": "white"
           },
           "zaxis": {
            "backgroundcolor": "#E5ECF6",
            "gridcolor": "white",
            "gridwidth": 2,
            "linecolor": "white",
            "showbackground": true,
            "ticks": "",
            "zerolinecolor": "white"
           }
          },
          "shapedefaults": {
           "line": {
            "color": "#2a3f5f"
           }
          },
          "ternary": {
           "aaxis": {
            "gridcolor": "white",
            "linecolor": "white",
            "ticks": ""
           },
           "baxis": {
            "gridcolor": "white",
            "linecolor": "white",
            "ticks": ""
           },
           "bgcolor": "#E5ECF6",
           "caxis": {
            "gridcolor": "white",
            "linecolor": "white",
            "ticks": ""
           }
          },
          "title": {
           "x": 0.05
          },
          "xaxis": {
           "automargin": true,
           "gridcolor": "white",
           "linecolor": "white",
           "ticks": "",
           "title": {
            "standoff": 15
           },
           "zerolinecolor": "white",
           "zerolinewidth": 2
          },
          "yaxis": {
           "automargin": true,
           "gridcolor": "white",
           "linecolor": "white",
           "ticks": "",
           "title": {
            "standoff": 15
           },
           "zerolinecolor": "white",
           "zerolinewidth": 2
          }
         }
        },
        "title": {
         "text": "Text Language Distribution (Grouped)"
        },
        "xaxis": {
         "anchor": "y",
         "categoryarray": [
          "Others",
          "ar",
          "de",
          "en",
          "fr",
          "un"
         ],
         "categoryorder": "array",
         "domain": [
          0,
          1
         ],
         "title": {
          "text": "Language"
         }
        },
        "yaxis": {
         "anchor": "x",
         "domain": [
          0,
          1
         ],
         "title": {
          "text": "Number of Posts"
         }
        }
       }
      }
     },
     "metadata": {},
     "output_type": "display_data"
    }
   ],
   "source": [
    "\n",
    "import plotly.express as px\n",
    "\n",
    "# Group and count by textLanguage\n",
    "lang_counts = df['textLanguage'].value_counts().reset_index()\n",
    "lang_counts.columns = ['textLanguage', 'count']\n",
    "\n",
    "# Group languages with count less than 100 as 'Others'\n",
    "lang_counts['textLanguage'] = lang_counts.apply(\n",
    "    lambda row: 'Others' if row['count'] < 100 else row['textLanguage'],\n",
    "    axis=1\n",
    ")\n",
    "\n",
    "# Recalculate the counts for the 'Others' group\n",
    "lang_counts_grouped = lang_counts.groupby('textLanguage').sum().reset_index()\n",
    "\n",
    "# Plotly bar chart\n",
    "fig = px.bar(\n",
    "    lang_counts_grouped,\n",
    "    x='textLanguage',\n",
    "    y='count',\n",
    "    text='count',\n",
    "    title='Text Language Distribution (Grouped)',\n",
    "    labels={'textLanguage': 'Language', 'count': 'Count'},\n",
    "    color='textLanguage'  # Optional: color by language\n",
    ")\n",
    "\n",
    "fig.update_traces(textposition='outside')\n",
    "fig.update_layout(xaxis_title='Language', yaxis_title='Number of Posts', showlegend=False)\n",
    "\n",
    "fig.show()\n"
   ]
  },
  {
   "cell_type": "code",
   "execution_count": 8,
   "metadata": {},
   "outputs": [
    {
     "data": {
      "text/html": [
       "<div>\n",
       "<style scoped>\n",
       "    .dataframe tbody tr th:only-of-type {\n",
       "        vertical-align: middle;\n",
       "    }\n",
       "\n",
       "    .dataframe tbody tr th {\n",
       "        vertical-align: top;\n",
       "    }\n",
       "\n",
       "    .dataframe thead th {\n",
       "        text-align: right;\n",
       "    }\n",
       "</style>\n",
       "<table border=\"1\" class=\"dataframe\">\n",
       "  <thead>\n",
       "    <tr style=\"text-align: right;\">\n",
       "      <th></th>\n",
       "      <th>input</th>\n",
       "      <th>main_ID</th>\n",
       "      <th>text</th>\n",
       "      <th>textLanguage</th>\n",
       "      <th>createTimeISO</th>\n",
       "      <th>diggCount</th>\n",
       "      <th>shareCount</th>\n",
       "      <th>playCount</th>\n",
       "      <th>collectCount</th>\n",
       "      <th>commentCount</th>\n",
       "      <th>...</th>\n",
       "      <th>fromProfileSection</th>\n",
       "      <th>isAd</th>\n",
       "      <th>authorMeta_nickName</th>\n",
       "      <th>authorMeta_following</th>\n",
       "      <th>authorMeta_friends</th>\n",
       "      <th>authorMeta_privateAccount</th>\n",
       "      <th>authorMeta_friends_1</th>\n",
       "      <th>authorMeta_region</th>\n",
       "      <th>location_cityCode</th>\n",
       "      <th>location_countryCode</th>\n",
       "    </tr>\n",
       "  </thead>\n",
       "  <tbody>\n",
       "    <tr>\n",
       "      <th>88</th>\n",
       "      <td>drmedemilie</td>\n",
       "      <td>7474387547897203990</td>\n",
       "      <td>Gracie Abrams Berlin 22.02.2025 &lt;3 \\n\\n#gracie...</td>\n",
       "      <td>en</td>\n",
       "      <td>2025-02-22T23:21:08.000Z</td>\n",
       "      <td>1459</td>\n",
       "      <td>12</td>\n",
       "      <td>14300</td>\n",
       "      <td>75</td>\n",
       "      <td>43</td>\n",
       "      <td>...</td>\n",
       "      <td>videos</td>\n",
       "      <td>False</td>\n",
       "      <td>Dr. medic. Emilie 🫀</td>\n",
       "      <td>551</td>\n",
       "      <td>95</td>\n",
       "      <td>False</td>\n",
       "      <td>95</td>\n",
       "      <td>DE</td>\n",
       "      <td>NaN</td>\n",
       "      <td>NaN</td>\n",
       "    </tr>\n",
       "    <tr>\n",
       "      <th>89</th>\n",
       "      <td>drmedemilie</td>\n",
       "      <td>7474387547897203990</td>\n",
       "      <td>Gracie Abrams Berlin 22.02.2025 &lt;3 \\n\\n#gracie...</td>\n",
       "      <td>en</td>\n",
       "      <td>2025-02-22T23:21:08.000Z</td>\n",
       "      <td>1459</td>\n",
       "      <td>12</td>\n",
       "      <td>14300</td>\n",
       "      <td>75</td>\n",
       "      <td>43</td>\n",
       "      <td>...</td>\n",
       "      <td>videos</td>\n",
       "      <td>False</td>\n",
       "      <td>Dr. medic. Emilie 🫀</td>\n",
       "      <td>551</td>\n",
       "      <td>95</td>\n",
       "      <td>False</td>\n",
       "      <td>95</td>\n",
       "      <td>DE</td>\n",
       "      <td>NaN</td>\n",
       "      <td>NaN</td>\n",
       "    </tr>\n",
       "    <tr>\n",
       "      <th>90</th>\n",
       "      <td>drmedemilie</td>\n",
       "      <td>7474387547897203990</td>\n",
       "      <td>Gracie Abrams Berlin 22.02.2025 &lt;3 \\n\\n#gracie...</td>\n",
       "      <td>en</td>\n",
       "      <td>2025-02-22T23:21:08.000Z</td>\n",
       "      <td>1459</td>\n",
       "      <td>12</td>\n",
       "      <td>14300</td>\n",
       "      <td>75</td>\n",
       "      <td>43</td>\n",
       "      <td>...</td>\n",
       "      <td>videos</td>\n",
       "      <td>False</td>\n",
       "      <td>Dr. medic. Emilie 🫀</td>\n",
       "      <td>551</td>\n",
       "      <td>95</td>\n",
       "      <td>False</td>\n",
       "      <td>95</td>\n",
       "      <td>DE</td>\n",
       "      <td>NaN</td>\n",
       "      <td>NaN</td>\n",
       "    </tr>\n",
       "    <tr>\n",
       "      <th>91</th>\n",
       "      <td>drmedemilie</td>\n",
       "      <td>7474387547897203990</td>\n",
       "      <td>Gracie Abrams Berlin 22.02.2025 &lt;3 \\n\\n#gracie...</td>\n",
       "      <td>en</td>\n",
       "      <td>2025-02-22T23:21:08.000Z</td>\n",
       "      <td>1459</td>\n",
       "      <td>12</td>\n",
       "      <td>14300</td>\n",
       "      <td>75</td>\n",
       "      <td>43</td>\n",
       "      <td>...</td>\n",
       "      <td>videos</td>\n",
       "      <td>False</td>\n",
       "      <td>Dr. medic. Emilie 🫀</td>\n",
       "      <td>551</td>\n",
       "      <td>95</td>\n",
       "      <td>False</td>\n",
       "      <td>95</td>\n",
       "      <td>DE</td>\n",
       "      <td>NaN</td>\n",
       "      <td>NaN</td>\n",
       "    </tr>\n",
       "    <tr>\n",
       "      <th>92</th>\n",
       "      <td>drmedemilie</td>\n",
       "      <td>7474387547897203990</td>\n",
       "      <td>Gracie Abrams Berlin 22.02.2025 &lt;3 \\n\\n#gracie...</td>\n",
       "      <td>en</td>\n",
       "      <td>2025-02-22T23:21:08.000Z</td>\n",
       "      <td>1459</td>\n",
       "      <td>12</td>\n",
       "      <td>14300</td>\n",
       "      <td>75</td>\n",
       "      <td>43</td>\n",
       "      <td>...</td>\n",
       "      <td>videos</td>\n",
       "      <td>False</td>\n",
       "      <td>Dr. medic. Emilie 🫀</td>\n",
       "      <td>551</td>\n",
       "      <td>95</td>\n",
       "      <td>False</td>\n",
       "      <td>95</td>\n",
       "      <td>DE</td>\n",
       "      <td>NaN</td>\n",
       "      <td>NaN</td>\n",
       "    </tr>\n",
       "    <tr>\n",
       "      <th>...</th>\n",
       "      <td>...</td>\n",
       "      <td>...</td>\n",
       "      <td>...</td>\n",
       "      <td>...</td>\n",
       "      <td>...</td>\n",
       "      <td>...</td>\n",
       "      <td>...</td>\n",
       "      <td>...</td>\n",
       "      <td>...</td>\n",
       "      <td>...</td>\n",
       "      <td>...</td>\n",
       "      <td>...</td>\n",
       "      <td>...</td>\n",
       "      <td>...</td>\n",
       "      <td>...</td>\n",
       "      <td>...</td>\n",
       "      <td>...</td>\n",
       "      <td>...</td>\n",
       "      <td>...</td>\n",
       "      <td>...</td>\n",
       "      <td>...</td>\n",
       "    </tr>\n",
       "    <tr>\n",
       "      <th>13679</th>\n",
       "      <td>rebecca.blank</td>\n",
       "      <td>7470942855339592982</td>\n",
       "      <td>In Germany we don’t say UNGESCHMINKT. We say B...</td>\n",
       "      <td>en</td>\n",
       "      <td>2025-02-13T16:33:57.000Z</td>\n",
       "      <td>83</td>\n",
       "      <td>0</td>\n",
       "      <td>1484</td>\n",
       "      <td>1</td>\n",
       "      <td>8</td>\n",
       "      <td>...</td>\n",
       "      <td>videos</td>\n",
       "      <td>NaN</td>\n",
       "      <td>Rebecca YouTube</td>\n",
       "      <td>415</td>\n",
       "      <td>28</td>\n",
       "      <td>False</td>\n",
       "      <td>28</td>\n",
       "      <td>AE</td>\n",
       "      <td>NaN</td>\n",
       "      <td>NaN</td>\n",
       "    </tr>\n",
       "    <tr>\n",
       "      <th>13699</th>\n",
       "      <td>rebecca.blank</td>\n",
       "      <td>7468987449511857430</td>\n",
       "      <td>Elf Liquid Blush im Test #drogeriemakeup</td>\n",
       "      <td>en</td>\n",
       "      <td>2025-02-08T10:06:01.000Z</td>\n",
       "      <td>388</td>\n",
       "      <td>4</td>\n",
       "      <td>4041</td>\n",
       "      <td>18</td>\n",
       "      <td>10</td>\n",
       "      <td>...</td>\n",
       "      <td>videos</td>\n",
       "      <td>NaN</td>\n",
       "      <td>Rebecca YouTube</td>\n",
       "      <td>415</td>\n",
       "      <td>28</td>\n",
       "      <td>False</td>\n",
       "      <td>28</td>\n",
       "      <td>AE</td>\n",
       "      <td>NaN</td>\n",
       "      <td>NaN</td>\n",
       "    </tr>\n",
       "    <tr>\n",
       "      <th>13700</th>\n",
       "      <td>rebecca.blank</td>\n",
       "      <td>7464946849321848086</td>\n",
       "      <td>Glow Up with me 💅✨ #duschroutine #glowup #schm...</td>\n",
       "      <td>en</td>\n",
       "      <td>2025-01-28T12:46:26.000Z</td>\n",
       "      <td>462</td>\n",
       "      <td>0</td>\n",
       "      <td>4449</td>\n",
       "      <td>24</td>\n",
       "      <td>7</td>\n",
       "      <td>...</td>\n",
       "      <td>videos</td>\n",
       "      <td>NaN</td>\n",
       "      <td>Rebecca YouTube</td>\n",
       "      <td>415</td>\n",
       "      <td>28</td>\n",
       "      <td>False</td>\n",
       "      <td>28</td>\n",
       "      <td>AE</td>\n",
       "      <td>NaN</td>\n",
       "      <td>NaN</td>\n",
       "    </tr>\n",
       "    <tr>\n",
       "      <th>13701</th>\n",
       "      <td>rebecca.blank</td>\n",
       "      <td>7464946849321848086</td>\n",
       "      <td>Glow Up with me 💅✨ #duschroutine #glowup #schm...</td>\n",
       "      <td>en</td>\n",
       "      <td>2025-01-28T12:46:26.000Z</td>\n",
       "      <td>462</td>\n",
       "      <td>0</td>\n",
       "      <td>4449</td>\n",
       "      <td>24</td>\n",
       "      <td>7</td>\n",
       "      <td>...</td>\n",
       "      <td>videos</td>\n",
       "      <td>NaN</td>\n",
       "      <td>Rebecca YouTube</td>\n",
       "      <td>415</td>\n",
       "      <td>28</td>\n",
       "      <td>False</td>\n",
       "      <td>28</td>\n",
       "      <td>AE</td>\n",
       "      <td>NaN</td>\n",
       "      <td>NaN</td>\n",
       "    </tr>\n",
       "    <tr>\n",
       "      <th>13702</th>\n",
       "      <td>rebecca.blank</td>\n",
       "      <td>7464946849321848086</td>\n",
       "      <td>Glow Up with me 💅✨ #duschroutine #glowup #schm...</td>\n",
       "      <td>en</td>\n",
       "      <td>2025-01-28T12:46:26.000Z</td>\n",
       "      <td>462</td>\n",
       "      <td>0</td>\n",
       "      <td>4449</td>\n",
       "      <td>24</td>\n",
       "      <td>7</td>\n",
       "      <td>...</td>\n",
       "      <td>videos</td>\n",
       "      <td>NaN</td>\n",
       "      <td>Rebecca YouTube</td>\n",
       "      <td>415</td>\n",
       "      <td>28</td>\n",
       "      <td>False</td>\n",
       "      <td>28</td>\n",
       "      <td>AE</td>\n",
       "      <td>NaN</td>\n",
       "      <td>NaN</td>\n",
       "    </tr>\n",
       "  </tbody>\n",
       "</table>\n",
       "<p>3580 rows × 26 columns</p>\n",
       "</div>"
      ],
      "text/plain": [
       "               input              main_ID  \\\n",
       "88       drmedemilie  7474387547897203990   \n",
       "89       drmedemilie  7474387547897203990   \n",
       "90       drmedemilie  7474387547897203990   \n",
       "91       drmedemilie  7474387547897203990   \n",
       "92       drmedemilie  7474387547897203990   \n",
       "...              ...                  ...   \n",
       "13679  rebecca.blank  7470942855339592982   \n",
       "13699  rebecca.blank  7468987449511857430   \n",
       "13700  rebecca.blank  7464946849321848086   \n",
       "13701  rebecca.blank  7464946849321848086   \n",
       "13702  rebecca.blank  7464946849321848086   \n",
       "\n",
       "                                                    text textLanguage  \\\n",
       "88     Gracie Abrams Berlin 22.02.2025 <3 \\n\\n#gracie...           en   \n",
       "89     Gracie Abrams Berlin 22.02.2025 <3 \\n\\n#gracie...           en   \n",
       "90     Gracie Abrams Berlin 22.02.2025 <3 \\n\\n#gracie...           en   \n",
       "91     Gracie Abrams Berlin 22.02.2025 <3 \\n\\n#gracie...           en   \n",
       "92     Gracie Abrams Berlin 22.02.2025 <3 \\n\\n#gracie...           en   \n",
       "...                                                  ...          ...   \n",
       "13679  In Germany we don’t say UNGESCHMINKT. We say B...           en   \n",
       "13699          Elf Liquid Blush im Test #drogeriemakeup            en   \n",
       "13700  Glow Up with me 💅✨ #duschroutine #glowup #schm...           en   \n",
       "13701  Glow Up with me 💅✨ #duschroutine #glowup #schm...           en   \n",
       "13702  Glow Up with me 💅✨ #duschroutine #glowup #schm...           en   \n",
       "\n",
       "                  createTimeISO  diggCount  shareCount  playCount  \\\n",
       "88     2025-02-22T23:21:08.000Z       1459          12      14300   \n",
       "89     2025-02-22T23:21:08.000Z       1459          12      14300   \n",
       "90     2025-02-22T23:21:08.000Z       1459          12      14300   \n",
       "91     2025-02-22T23:21:08.000Z       1459          12      14300   \n",
       "92     2025-02-22T23:21:08.000Z       1459          12      14300   \n",
       "...                         ...        ...         ...        ...   \n",
       "13679  2025-02-13T16:33:57.000Z         83           0       1484   \n",
       "13699  2025-02-08T10:06:01.000Z        388           4       4041   \n",
       "13700  2025-01-28T12:46:26.000Z        462           0       4449   \n",
       "13701  2025-01-28T12:46:26.000Z        462           0       4449   \n",
       "13702  2025-01-28T12:46:26.000Z        462           0       4449   \n",
       "\n",
       "       collectCount  commentCount  ... fromProfileSection   isAd  \\\n",
       "88               75            43  ...             videos  False   \n",
       "89               75            43  ...             videos  False   \n",
       "90               75            43  ...             videos  False   \n",
       "91               75            43  ...             videos  False   \n",
       "92               75            43  ...             videos  False   \n",
       "...             ...           ...  ...                ...    ...   \n",
       "13679             1             8  ...             videos    NaN   \n",
       "13699            18            10  ...             videos    NaN   \n",
       "13700            24             7  ...             videos    NaN   \n",
       "13701            24             7  ...             videos    NaN   \n",
       "13702            24             7  ...             videos    NaN   \n",
       "\n",
       "       authorMeta_nickName  authorMeta_following  authorMeta_friends  \\\n",
       "88     Dr. medic. Emilie 🫀                   551                  95   \n",
       "89     Dr. medic. Emilie 🫀                   551                  95   \n",
       "90     Dr. medic. Emilie 🫀                   551                  95   \n",
       "91     Dr. medic. Emilie 🫀                   551                  95   \n",
       "92     Dr. medic. Emilie 🫀                   551                  95   \n",
       "...                    ...                   ...                 ...   \n",
       "13679      Rebecca YouTube                   415                  28   \n",
       "13699      Rebecca YouTube                   415                  28   \n",
       "13700      Rebecca YouTube                   415                  28   \n",
       "13701      Rebecca YouTube                   415                  28   \n",
       "13702      Rebecca YouTube                   415                  28   \n",
       "\n",
       "       authorMeta_privateAccount authorMeta_friends_1 authorMeta_region  \\\n",
       "88                         False                   95                DE   \n",
       "89                         False                   95                DE   \n",
       "90                         False                   95                DE   \n",
       "91                         False                   95                DE   \n",
       "92                         False                   95                DE   \n",
       "...                          ...                  ...               ...   \n",
       "13679                      False                   28                AE   \n",
       "13699                      False                   28                AE   \n",
       "13700                      False                   28                AE   \n",
       "13701                      False                   28                AE   \n",
       "13702                      False                   28                AE   \n",
       "\n",
       "      location_cityCode  location_countryCode  \n",
       "88                  NaN                   NaN  \n",
       "89                  NaN                   NaN  \n",
       "90                  NaN                   NaN  \n",
       "91                  NaN                   NaN  \n",
       "92                  NaN                   NaN  \n",
       "...                 ...                   ...  \n",
       "13679               NaN                   NaN  \n",
       "13699               NaN                   NaN  \n",
       "13700               NaN                   NaN  \n",
       "13701               NaN                   NaN  \n",
       "13702               NaN                   NaN  \n",
       "\n",
       "[3580 rows x 26 columns]"
      ]
     },
     "execution_count": 8,
     "metadata": {},
     "output_type": "execute_result"
    }
   ],
   "source": [
    "df_hashtag_name_en = df[df['textLanguage']=='en']\n",
    "\n",
    "df_hashtag_name_en"
   ]
  },
  {
   "cell_type": "code",
   "execution_count": 9,
   "metadata": {},
   "outputs": [
    {
     "data": {
      "text/html": [
       "<div>\n",
       "<style scoped>\n",
       "    .dataframe tbody tr th:only-of-type {\n",
       "        vertical-align: middle;\n",
       "    }\n",
       "\n",
       "    .dataframe tbody tr th {\n",
       "        vertical-align: top;\n",
       "    }\n",
       "\n",
       "    .dataframe thead th {\n",
       "        text-align: right;\n",
       "    }\n",
       "</style>\n",
       "<table border=\"1\" class=\"dataframe\">\n",
       "  <thead>\n",
       "    <tr style=\"text-align: right;\">\n",
       "      <th></th>\n",
       "      <th>input</th>\n",
       "      <th>main_ID</th>\n",
       "      <th>text</th>\n",
       "      <th>textLanguage</th>\n",
       "      <th>createTimeISO</th>\n",
       "      <th>diggCount</th>\n",
       "      <th>shareCount</th>\n",
       "      <th>playCount</th>\n",
       "      <th>collectCount</th>\n",
       "      <th>commentCount</th>\n",
       "      <th>...</th>\n",
       "      <th>fromProfileSection</th>\n",
       "      <th>isAd</th>\n",
       "      <th>authorMeta_nickName</th>\n",
       "      <th>authorMeta_following</th>\n",
       "      <th>authorMeta_friends</th>\n",
       "      <th>authorMeta_privateAccount</th>\n",
       "      <th>authorMeta_friends_1</th>\n",
       "      <th>authorMeta_region</th>\n",
       "      <th>location_cityCode</th>\n",
       "      <th>location_countryCode</th>\n",
       "    </tr>\n",
       "    <tr>\n",
       "      <th>hashtag_name</th>\n",
       "      <th></th>\n",
       "      <th></th>\n",
       "      <th></th>\n",
       "      <th></th>\n",
       "      <th></th>\n",
       "      <th></th>\n",
       "      <th></th>\n",
       "      <th></th>\n",
       "      <th></th>\n",
       "      <th></th>\n",
       "      <th></th>\n",
       "      <th></th>\n",
       "      <th></th>\n",
       "      <th></th>\n",
       "      <th></th>\n",
       "      <th></th>\n",
       "      <th></th>\n",
       "      <th></th>\n",
       "      <th></th>\n",
       "      <th></th>\n",
       "      <th></th>\n",
       "    </tr>\n",
       "  </thead>\n",
       "  <tbody>\n",
       "    <tr>\n",
       "      <th>fyp</th>\n",
       "      <td>80</td>\n",
       "      <td>80</td>\n",
       "      <td>80</td>\n",
       "      <td>80</td>\n",
       "      <td>80</td>\n",
       "      <td>80</td>\n",
       "      <td>80</td>\n",
       "      <td>80</td>\n",
       "      <td>80</td>\n",
       "      <td>80</td>\n",
       "      <td>...</td>\n",
       "      <td>80</td>\n",
       "      <td>66</td>\n",
       "      <td>80</td>\n",
       "      <td>80</td>\n",
       "      <td>80</td>\n",
       "      <td>80</td>\n",
       "      <td>80</td>\n",
       "      <td>80</td>\n",
       "      <td>10</td>\n",
       "      <td>10</td>\n",
       "    </tr>\n",
       "    <tr>\n",
       "      <th>makeup</th>\n",
       "      <td>33</td>\n",
       "      <td>33</td>\n",
       "      <td>33</td>\n",
       "      <td>33</td>\n",
       "      <td>33</td>\n",
       "      <td>33</td>\n",
       "      <td>33</td>\n",
       "      <td>33</td>\n",
       "      <td>33</td>\n",
       "      <td>33</td>\n",
       "      <td>...</td>\n",
       "      <td>33</td>\n",
       "      <td>31</td>\n",
       "      <td>33</td>\n",
       "      <td>33</td>\n",
       "      <td>33</td>\n",
       "      <td>33</td>\n",
       "      <td>33</td>\n",
       "      <td>33</td>\n",
       "      <td>0</td>\n",
       "      <td>0</td>\n",
       "    </tr>\n",
       "    <tr>\n",
       "      <th>hair</th>\n",
       "      <td>31</td>\n",
       "      <td>31</td>\n",
       "      <td>31</td>\n",
       "      <td>31</td>\n",
       "      <td>31</td>\n",
       "      <td>31</td>\n",
       "      <td>31</td>\n",
       "      <td>31</td>\n",
       "      <td>31</td>\n",
       "      <td>31</td>\n",
       "      <td>...</td>\n",
       "      <td>31</td>\n",
       "      <td>31</td>\n",
       "      <td>31</td>\n",
       "      <td>31</td>\n",
       "      <td>31</td>\n",
       "      <td>31</td>\n",
       "      <td>31</td>\n",
       "      <td>31</td>\n",
       "      <td>0</td>\n",
       "      <td>0</td>\n",
       "    </tr>\n",
       "    <tr>\n",
       "      <th>foryou</th>\n",
       "      <td>31</td>\n",
       "      <td>31</td>\n",
       "      <td>31</td>\n",
       "      <td>31</td>\n",
       "      <td>31</td>\n",
       "      <td>31</td>\n",
       "      <td>31</td>\n",
       "      <td>31</td>\n",
       "      <td>31</td>\n",
       "      <td>31</td>\n",
       "      <td>...</td>\n",
       "      <td>31</td>\n",
       "      <td>20</td>\n",
       "      <td>31</td>\n",
       "      <td>31</td>\n",
       "      <td>31</td>\n",
       "      <td>31</td>\n",
       "      <td>31</td>\n",
       "      <td>31</td>\n",
       "      <td>4</td>\n",
       "      <td>4</td>\n",
       "    </tr>\n",
       "    <tr>\n",
       "      <th>foryoupage</th>\n",
       "      <td>29</td>\n",
       "      <td>29</td>\n",
       "      <td>29</td>\n",
       "      <td>29</td>\n",
       "      <td>29</td>\n",
       "      <td>29</td>\n",
       "      <td>29</td>\n",
       "      <td>29</td>\n",
       "      <td>29</td>\n",
       "      <td>29</td>\n",
       "      <td>...</td>\n",
       "      <td>29</td>\n",
       "      <td>28</td>\n",
       "      <td>29</td>\n",
       "      <td>29</td>\n",
       "      <td>29</td>\n",
       "      <td>29</td>\n",
       "      <td>29</td>\n",
       "      <td>29</td>\n",
       "      <td>3</td>\n",
       "      <td>3</td>\n",
       "    </tr>\n",
       "    <tr>\n",
       "      <th>hairtransformation</th>\n",
       "      <td>29</td>\n",
       "      <td>29</td>\n",
       "      <td>29</td>\n",
       "      <td>29</td>\n",
       "      <td>29</td>\n",
       "      <td>29</td>\n",
       "      <td>29</td>\n",
       "      <td>29</td>\n",
       "      <td>29</td>\n",
       "      <td>29</td>\n",
       "      <td>...</td>\n",
       "      <td>29</td>\n",
       "      <td>29</td>\n",
       "      <td>29</td>\n",
       "      <td>29</td>\n",
       "      <td>29</td>\n",
       "      <td>29</td>\n",
       "      <td>29</td>\n",
       "      <td>29</td>\n",
       "      <td>0</td>\n",
       "      <td>0</td>\n",
       "    </tr>\n",
       "    <tr>\n",
       "      <th>easyrecipes</th>\n",
       "      <td>29</td>\n",
       "      <td>29</td>\n",
       "      <td>29</td>\n",
       "      <td>29</td>\n",
       "      <td>29</td>\n",
       "      <td>29</td>\n",
       "      <td>29</td>\n",
       "      <td>29</td>\n",
       "      <td>29</td>\n",
       "      <td>29</td>\n",
       "      <td>...</td>\n",
       "      <td>29</td>\n",
       "      <td>29</td>\n",
       "      <td>29</td>\n",
       "      <td>29</td>\n",
       "      <td>29</td>\n",
       "      <td>29</td>\n",
       "      <td>29</td>\n",
       "      <td>29</td>\n",
       "      <td>1</td>\n",
       "      <td>1</td>\n",
       "    </tr>\n",
       "    <tr>\n",
       "      <th>easyveganrecipes</th>\n",
       "      <td>26</td>\n",
       "      <td>26</td>\n",
       "      <td>26</td>\n",
       "      <td>26</td>\n",
       "      <td>26</td>\n",
       "      <td>26</td>\n",
       "      <td>26</td>\n",
       "      <td>26</td>\n",
       "      <td>26</td>\n",
       "      <td>26</td>\n",
       "      <td>...</td>\n",
       "      <td>26</td>\n",
       "      <td>26</td>\n",
       "      <td>26</td>\n",
       "      <td>26</td>\n",
       "      <td>26</td>\n",
       "      <td>26</td>\n",
       "      <td>26</td>\n",
       "      <td>26</td>\n",
       "      <td>0</td>\n",
       "      <td>0</td>\n",
       "    </tr>\n",
       "    <tr>\n",
       "      <th>outfitinspo</th>\n",
       "      <td>26</td>\n",
       "      <td>26</td>\n",
       "      <td>26</td>\n",
       "      <td>26</td>\n",
       "      <td>26</td>\n",
       "      <td>26</td>\n",
       "      <td>26</td>\n",
       "      <td>26</td>\n",
       "      <td>26</td>\n",
       "      <td>26</td>\n",
       "      <td>...</td>\n",
       "      <td>26</td>\n",
       "      <td>25</td>\n",
       "      <td>26</td>\n",
       "      <td>26</td>\n",
       "      <td>26</td>\n",
       "      <td>26</td>\n",
       "      <td>26</td>\n",
       "      <td>26</td>\n",
       "      <td>3</td>\n",
       "      <td>3</td>\n",
       "    </tr>\n",
       "    <tr>\n",
       "      <th>hairgrowth</th>\n",
       "      <td>25</td>\n",
       "      <td>25</td>\n",
       "      <td>25</td>\n",
       "      <td>25</td>\n",
       "      <td>25</td>\n",
       "      <td>25</td>\n",
       "      <td>25</td>\n",
       "      <td>25</td>\n",
       "      <td>25</td>\n",
       "      <td>25</td>\n",
       "      <td>...</td>\n",
       "      <td>25</td>\n",
       "      <td>25</td>\n",
       "      <td>25</td>\n",
       "      <td>25</td>\n",
       "      <td>25</td>\n",
       "      <td>25</td>\n",
       "      <td>25</td>\n",
       "      <td>25</td>\n",
       "      <td>0</td>\n",
       "      <td>0</td>\n",
       "    </tr>\n",
       "  </tbody>\n",
       "</table>\n",
       "<p>10 rows × 25 columns</p>\n",
       "</div>"
      ],
      "text/plain": [
       "                    input  main_ID  text  textLanguage  createTimeISO  \\\n",
       "hashtag_name                                                            \n",
       "fyp                    80       80    80            80             80   \n",
       "makeup                 33       33    33            33             33   \n",
       "hair                   31       31    31            31             31   \n",
       "foryou                 31       31    31            31             31   \n",
       "foryoupage             29       29    29            29             29   \n",
       "hairtransformation     29       29    29            29             29   \n",
       "easyrecipes            29       29    29            29             29   \n",
       "easyveganrecipes       26       26    26            26             26   \n",
       "outfitinspo            26       26    26            26             26   \n",
       "hairgrowth             25       25    25            25             25   \n",
       "\n",
       "                    diggCount  shareCount  playCount  collectCount  \\\n",
       "hashtag_name                                                         \n",
       "fyp                        80          80         80            80   \n",
       "makeup                     33          33         33            33   \n",
       "hair                       31          31         31            31   \n",
       "foryou                     31          31         31            31   \n",
       "foryoupage                 29          29         29            29   \n",
       "hairtransformation         29          29         29            29   \n",
       "easyrecipes                29          29         29            29   \n",
       "easyveganrecipes           26          26         26            26   \n",
       "outfitinspo                26          26         26            26   \n",
       "hairgrowth                 25          25         25            25   \n",
       "\n",
       "                    commentCount  ...  fromProfileSection  isAd  \\\n",
       "hashtag_name                      ...                             \n",
       "fyp                           80  ...                  80    66   \n",
       "makeup                        33  ...                  33    31   \n",
       "hair                          31  ...                  31    31   \n",
       "foryou                        31  ...                  31    20   \n",
       "foryoupage                    29  ...                  29    28   \n",
       "hairtransformation            29  ...                  29    29   \n",
       "easyrecipes                   29  ...                  29    29   \n",
       "easyveganrecipes              26  ...                  26    26   \n",
       "outfitinspo                   26  ...                  26    25   \n",
       "hairgrowth                    25  ...                  25    25   \n",
       "\n",
       "                    authorMeta_nickName  authorMeta_following  \\\n",
       "hashtag_name                                                    \n",
       "fyp                                  80                    80   \n",
       "makeup                               33                    33   \n",
       "hair                                 31                    31   \n",
       "foryou                               31                    31   \n",
       "foryoupage                           29                    29   \n",
       "hairtransformation                   29                    29   \n",
       "easyrecipes                          29                    29   \n",
       "easyveganrecipes                     26                    26   \n",
       "outfitinspo                          26                    26   \n",
       "hairgrowth                           25                    25   \n",
       "\n",
       "                    authorMeta_friends  authorMeta_privateAccount  \\\n",
       "hashtag_name                                                        \n",
       "fyp                                 80                         80   \n",
       "makeup                              33                         33   \n",
       "hair                                31                         31   \n",
       "foryou                              31                         31   \n",
       "foryoupage                          29                         29   \n",
       "hairtransformation                  29                         29   \n",
       "easyrecipes                         29                         29   \n",
       "easyveganrecipes                    26                         26   \n",
       "outfitinspo                         26                         26   \n",
       "hairgrowth                          25                         25   \n",
       "\n",
       "                    authorMeta_friends_1  authorMeta_region  \\\n",
       "hashtag_name                                                  \n",
       "fyp                                   80                 80   \n",
       "makeup                                33                 33   \n",
       "hair                                  31                 31   \n",
       "foryou                                31                 31   \n",
       "foryoupage                            29                 29   \n",
       "hairtransformation                    29                 29   \n",
       "easyrecipes                           29                 29   \n",
       "easyveganrecipes                      26                 26   \n",
       "outfitinspo                           26                 26   \n",
       "hairgrowth                            25                 25   \n",
       "\n",
       "                    location_cityCode  location_countryCode  \n",
       "hashtag_name                                                 \n",
       "fyp                                10                    10  \n",
       "makeup                              0                     0  \n",
       "hair                                0                     0  \n",
       "foryou                              4                     4  \n",
       "foryoupage                          3                     3  \n",
       "hairtransformation                  0                     0  \n",
       "easyrecipes                         1                     1  \n",
       "easyveganrecipes                    0                     0  \n",
       "outfitinspo                         3                     3  \n",
       "hairgrowth                          0                     0  \n",
       "\n",
       "[10 rows x 25 columns]"
      ]
     },
     "execution_count": 9,
     "metadata": {},
     "output_type": "execute_result"
    }
   ],
   "source": [
    "df_hastags_count_en_text=df_hashtag_name_en.groupby('hashtag_name').count().sort_values(by='main_ID', ascending=False)\n",
    "\n",
    "\n",
    "df_hastags_count_en_text.head(10)\n",
    "\n"
   ]
  },
  {
   "cell_type": "code",
   "execution_count": 10,
   "metadata": {},
   "outputs": [
    {
     "data": {
      "text/html": [
       "<div>\n",
       "<style scoped>\n",
       "    .dataframe tbody tr th:only-of-type {\n",
       "        vertical-align: middle;\n",
       "    }\n",
       "\n",
       "    .dataframe tbody tr th {\n",
       "        vertical-align: top;\n",
       "    }\n",
       "\n",
       "    .dataframe thead th {\n",
       "        text-align: right;\n",
       "    }\n",
       "</style>\n",
       "<table border=\"1\" class=\"dataframe\">\n",
       "  <thead>\n",
       "    <tr style=\"text-align: right;\">\n",
       "      <th></th>\n",
       "      <th>input</th>\n",
       "      <th>main_ID</th>\n",
       "      <th>text</th>\n",
       "      <th>textLanguage</th>\n",
       "      <th>createTimeISO</th>\n",
       "      <th>diggCount</th>\n",
       "      <th>shareCount</th>\n",
       "      <th>playCount</th>\n",
       "      <th>collectCount</th>\n",
       "      <th>commentCount</th>\n",
       "      <th>...</th>\n",
       "      <th>fromProfileSection</th>\n",
       "      <th>isAd</th>\n",
       "      <th>authorMeta_nickName</th>\n",
       "      <th>authorMeta_following</th>\n",
       "      <th>authorMeta_friends</th>\n",
       "      <th>authorMeta_privateAccount</th>\n",
       "      <th>authorMeta_friends_1</th>\n",
       "      <th>authorMeta_region</th>\n",
       "      <th>location_cityCode</th>\n",
       "      <th>location_countryCode</th>\n",
       "    </tr>\n",
       "    <tr>\n",
       "      <th>hashtag_name</th>\n",
       "      <th></th>\n",
       "      <th></th>\n",
       "      <th></th>\n",
       "      <th></th>\n",
       "      <th></th>\n",
       "      <th></th>\n",
       "      <th></th>\n",
       "      <th></th>\n",
       "      <th></th>\n",
       "      <th></th>\n",
       "      <th></th>\n",
       "      <th></th>\n",
       "      <th></th>\n",
       "      <th></th>\n",
       "      <th></th>\n",
       "      <th></th>\n",
       "      <th></th>\n",
       "      <th></th>\n",
       "      <th></th>\n",
       "      <th></th>\n",
       "      <th></th>\n",
       "    </tr>\n",
       "  </thead>\n",
       "  <tbody>\n",
       "    <tr>\n",
       "      <th>fyp</th>\n",
       "      <td>255</td>\n",
       "      <td>255</td>\n",
       "      <td>255</td>\n",
       "      <td>255</td>\n",
       "      <td>255</td>\n",
       "      <td>255</td>\n",
       "      <td>255</td>\n",
       "      <td>255</td>\n",
       "      <td>255</td>\n",
       "      <td>255</td>\n",
       "      <td>...</td>\n",
       "      <td>255</td>\n",
       "      <td>165</td>\n",
       "      <td>255</td>\n",
       "      <td>255</td>\n",
       "      <td>255</td>\n",
       "      <td>255</td>\n",
       "      <td>255</td>\n",
       "      <td>255</td>\n",
       "      <td>47</td>\n",
       "      <td>47</td>\n",
       "    </tr>\n",
       "    <tr>\n",
       "      <th>fürdich</th>\n",
       "      <td>163</td>\n",
       "      <td>163</td>\n",
       "      <td>163</td>\n",
       "      <td>163</td>\n",
       "      <td>163</td>\n",
       "      <td>163</td>\n",
       "      <td>163</td>\n",
       "      <td>163</td>\n",
       "      <td>163</td>\n",
       "      <td>163</td>\n",
       "      <td>...</td>\n",
       "      <td>163</td>\n",
       "      <td>106</td>\n",
       "      <td>163</td>\n",
       "      <td>163</td>\n",
       "      <td>163</td>\n",
       "      <td>163</td>\n",
       "      <td>163</td>\n",
       "      <td>163</td>\n",
       "      <td>31</td>\n",
       "      <td>31</td>\n",
       "    </tr>\n",
       "    <tr>\n",
       "      <th>fy</th>\n",
       "      <td>108</td>\n",
       "      <td>108</td>\n",
       "      <td>108</td>\n",
       "      <td>108</td>\n",
       "      <td>108</td>\n",
       "      <td>108</td>\n",
       "      <td>108</td>\n",
       "      <td>108</td>\n",
       "      <td>108</td>\n",
       "      <td>108</td>\n",
       "      <td>...</td>\n",
       "      <td>108</td>\n",
       "      <td>57</td>\n",
       "      <td>108</td>\n",
       "      <td>108</td>\n",
       "      <td>108</td>\n",
       "      <td>108</td>\n",
       "      <td>108</td>\n",
       "      <td>108</td>\n",
       "      <td>29</td>\n",
       "      <td>29</td>\n",
       "    </tr>\n",
       "    <tr>\n",
       "      <th>foryou</th>\n",
       "      <td>104</td>\n",
       "      <td>104</td>\n",
       "      <td>104</td>\n",
       "      <td>104</td>\n",
       "      <td>104</td>\n",
       "      <td>104</td>\n",
       "      <td>104</td>\n",
       "      <td>104</td>\n",
       "      <td>104</td>\n",
       "      <td>104</td>\n",
       "      <td>...</td>\n",
       "      <td>104</td>\n",
       "      <td>49</td>\n",
       "      <td>104</td>\n",
       "      <td>104</td>\n",
       "      <td>104</td>\n",
       "      <td>104</td>\n",
       "      <td>104</td>\n",
       "      <td>104</td>\n",
       "      <td>3</td>\n",
       "      <td>3</td>\n",
       "    </tr>\n",
       "    <tr>\n",
       "      <th>skincare</th>\n",
       "      <td>85</td>\n",
       "      <td>85</td>\n",
       "      <td>85</td>\n",
       "      <td>85</td>\n",
       "      <td>85</td>\n",
       "      <td>85</td>\n",
       "      <td>85</td>\n",
       "      <td>85</td>\n",
       "      <td>85</td>\n",
       "      <td>85</td>\n",
       "      <td>...</td>\n",
       "      <td>85</td>\n",
       "      <td>62</td>\n",
       "      <td>85</td>\n",
       "      <td>85</td>\n",
       "      <td>85</td>\n",
       "      <td>85</td>\n",
       "      <td>85</td>\n",
       "      <td>85</td>\n",
       "      <td>10</td>\n",
       "      <td>10</td>\n",
       "    </tr>\n",
       "    <tr>\n",
       "      <th>viral</th>\n",
       "      <td>82</td>\n",
       "      <td>82</td>\n",
       "      <td>82</td>\n",
       "      <td>82</td>\n",
       "      <td>82</td>\n",
       "      <td>82</td>\n",
       "      <td>82</td>\n",
       "      <td>82</td>\n",
       "      <td>82</td>\n",
       "      <td>82</td>\n",
       "      <td>...</td>\n",
       "      <td>82</td>\n",
       "      <td>12</td>\n",
       "      <td>82</td>\n",
       "      <td>82</td>\n",
       "      <td>82</td>\n",
       "      <td>82</td>\n",
       "      <td>82</td>\n",
       "      <td>82</td>\n",
       "      <td>0</td>\n",
       "      <td>0</td>\n",
       "    </tr>\n",
       "    <tr>\n",
       "      <th>haarpflege</th>\n",
       "      <td>78</td>\n",
       "      <td>78</td>\n",
       "      <td>78</td>\n",
       "      <td>78</td>\n",
       "      <td>78</td>\n",
       "      <td>78</td>\n",
       "      <td>78</td>\n",
       "      <td>78</td>\n",
       "      <td>78</td>\n",
       "      <td>78</td>\n",
       "      <td>...</td>\n",
       "      <td>78</td>\n",
       "      <td>51</td>\n",
       "      <td>78</td>\n",
       "      <td>78</td>\n",
       "      <td>78</td>\n",
       "      <td>78</td>\n",
       "      <td>78</td>\n",
       "      <td>78</td>\n",
       "      <td>3</td>\n",
       "      <td>3</td>\n",
       "    </tr>\n",
       "    <tr>\n",
       "      <th>hautpflege</th>\n",
       "      <td>77</td>\n",
       "      <td>77</td>\n",
       "      <td>77</td>\n",
       "      <td>77</td>\n",
       "      <td>77</td>\n",
       "      <td>77</td>\n",
       "      <td>77</td>\n",
       "      <td>77</td>\n",
       "      <td>77</td>\n",
       "      <td>77</td>\n",
       "      <td>...</td>\n",
       "      <td>77</td>\n",
       "      <td>62</td>\n",
       "      <td>77</td>\n",
       "      <td>77</td>\n",
       "      <td>77</td>\n",
       "      <td>77</td>\n",
       "      <td>77</td>\n",
       "      <td>77</td>\n",
       "      <td>8</td>\n",
       "      <td>8</td>\n",
       "    </tr>\n",
       "    <tr>\n",
       "      <th>drogerie</th>\n",
       "      <td>60</td>\n",
       "      <td>60</td>\n",
       "      <td>60</td>\n",
       "      <td>60</td>\n",
       "      <td>60</td>\n",
       "      <td>60</td>\n",
       "      <td>60</td>\n",
       "      <td>60</td>\n",
       "      <td>60</td>\n",
       "      <td>60</td>\n",
       "      <td>...</td>\n",
       "      <td>60</td>\n",
       "      <td>36</td>\n",
       "      <td>60</td>\n",
       "      <td>60</td>\n",
       "      <td>60</td>\n",
       "      <td>60</td>\n",
       "      <td>60</td>\n",
       "      <td>60</td>\n",
       "      <td>12</td>\n",
       "      <td>12</td>\n",
       "    </tr>\n",
       "    <tr>\n",
       "      <th>drogerieneuheiten</th>\n",
       "      <td>48</td>\n",
       "      <td>48</td>\n",
       "      <td>48</td>\n",
       "      <td>48</td>\n",
       "      <td>48</td>\n",
       "      <td>48</td>\n",
       "      <td>48</td>\n",
       "      <td>48</td>\n",
       "      <td>48</td>\n",
       "      <td>48</td>\n",
       "      <td>...</td>\n",
       "      <td>48</td>\n",
       "      <td>40</td>\n",
       "      <td>48</td>\n",
       "      <td>48</td>\n",
       "      <td>48</td>\n",
       "      <td>48</td>\n",
       "      <td>48</td>\n",
       "      <td>48</td>\n",
       "      <td>18</td>\n",
       "      <td>18</td>\n",
       "    </tr>\n",
       "  </tbody>\n",
       "</table>\n",
       "<p>10 rows × 25 columns</p>\n",
       "</div>"
      ],
      "text/plain": [
       "                   input  main_ID  text  textLanguage  createTimeISO  \\\n",
       "hashtag_name                                                           \n",
       "fyp                  255      255   255           255            255   \n",
       "fürdich              163      163   163           163            163   \n",
       "fy                   108      108   108           108            108   \n",
       "foryou               104      104   104           104            104   \n",
       "skincare              85       85    85            85             85   \n",
       "viral                 82       82    82            82             82   \n",
       "haarpflege            78       78    78            78             78   \n",
       "hautpflege            77       77    77            77             77   \n",
       "drogerie              60       60    60            60             60   \n",
       "drogerieneuheiten     48       48    48            48             48   \n",
       "\n",
       "                   diggCount  shareCount  playCount  collectCount  \\\n",
       "hashtag_name                                                        \n",
       "fyp                      255         255        255           255   \n",
       "fürdich                  163         163        163           163   \n",
       "fy                       108         108        108           108   \n",
       "foryou                   104         104        104           104   \n",
       "skincare                  85          85         85            85   \n",
       "viral                     82          82         82            82   \n",
       "haarpflege                78          78         78            78   \n",
       "hautpflege                77          77         77            77   \n",
       "drogerie                  60          60         60            60   \n",
       "drogerieneuheiten         48          48         48            48   \n",
       "\n",
       "                   commentCount  ...  fromProfileSection  isAd  \\\n",
       "hashtag_name                     ...                             \n",
       "fyp                         255  ...                 255   165   \n",
       "fürdich                     163  ...                 163   106   \n",
       "fy                          108  ...                 108    57   \n",
       "foryou                      104  ...                 104    49   \n",
       "skincare                     85  ...                  85    62   \n",
       "viral                        82  ...                  82    12   \n",
       "haarpflege                   78  ...                  78    51   \n",
       "hautpflege                   77  ...                  77    62   \n",
       "drogerie                     60  ...                  60    36   \n",
       "drogerieneuheiten            48  ...                  48    40   \n",
       "\n",
       "                   authorMeta_nickName  authorMeta_following  \\\n",
       "hashtag_name                                                   \n",
       "fyp                                255                   255   \n",
       "fürdich                            163                   163   \n",
       "fy                                 108                   108   \n",
       "foryou                             104                   104   \n",
       "skincare                            85                    85   \n",
       "viral                               82                    82   \n",
       "haarpflege                          78                    78   \n",
       "hautpflege                          77                    77   \n",
       "drogerie                            60                    60   \n",
       "drogerieneuheiten                   48                    48   \n",
       "\n",
       "                   authorMeta_friends  authorMeta_privateAccount  \\\n",
       "hashtag_name                                                       \n",
       "fyp                               255                        255   \n",
       "fürdich                           163                        163   \n",
       "fy                                108                        108   \n",
       "foryou                            104                        104   \n",
       "skincare                           85                         85   \n",
       "viral                              82                         82   \n",
       "haarpflege                         78                         78   \n",
       "hautpflege                         77                         77   \n",
       "drogerie                           60                         60   \n",
       "drogerieneuheiten                  48                         48   \n",
       "\n",
       "                   authorMeta_friends_1  authorMeta_region  location_cityCode  \\\n",
       "hashtag_name                                                                    \n",
       "fyp                                 255                255                 47   \n",
       "fürdich                             163                163                 31   \n",
       "fy                                  108                108                 29   \n",
       "foryou                              104                104                  3   \n",
       "skincare                             85                 85                 10   \n",
       "viral                                82                 82                  0   \n",
       "haarpflege                           78                 78                  3   \n",
       "hautpflege                           77                 77                  8   \n",
       "drogerie                             60                 60                 12   \n",
       "drogerieneuheiten                    48                 48                 18   \n",
       "\n",
       "                   location_countryCode  \n",
       "hashtag_name                             \n",
       "fyp                                  47  \n",
       "fürdich                              31  \n",
       "fy                                   29  \n",
       "foryou                                3  \n",
       "skincare                             10  \n",
       "viral                                 0  \n",
       "haarpflege                            3  \n",
       "hautpflege                            8  \n",
       "drogerie                             12  \n",
       "drogerieneuheiten                    18  \n",
       "\n",
       "[10 rows x 25 columns]"
      ]
     },
     "execution_count": 10,
     "metadata": {},
     "output_type": "execute_result"
    }
   ],
   "source": [
    "df_hashtag_name_de = df[df['textLanguage']=='de']\n",
    "df_hastags_count_de_text=df_hashtag_name_de.groupby('hashtag_name').count().sort_values(by='main_ID', ascending=False)\n",
    "df_hastags_count_de_text.head(10)"
   ]
  },
  {
   "cell_type": "code",
   "execution_count": 11,
   "metadata": {},
   "outputs": [
    {
     "data": {
      "text/html": [
       "<div>\n",
       "<style scoped>\n",
       "    .dataframe tbody tr th:only-of-type {\n",
       "        vertical-align: middle;\n",
       "    }\n",
       "\n",
       "    .dataframe tbody tr th {\n",
       "        vertical-align: top;\n",
       "    }\n",
       "\n",
       "    .dataframe thead th {\n",
       "        text-align: right;\n",
       "    }\n",
       "</style>\n",
       "<table border=\"1\" class=\"dataframe\">\n",
       "  <thead>\n",
       "    <tr style=\"text-align: right;\">\n",
       "      <th></th>\n",
       "      <th>input</th>\n",
       "      <th>main_ID</th>\n",
       "      <th>text</th>\n",
       "      <th>textLanguage</th>\n",
       "      <th>createTimeISO</th>\n",
       "      <th>diggCount</th>\n",
       "      <th>shareCount</th>\n",
       "      <th>playCount</th>\n",
       "      <th>collectCount</th>\n",
       "      <th>commentCount</th>\n",
       "      <th>...</th>\n",
       "      <th>fromProfileSection</th>\n",
       "      <th>isAd</th>\n",
       "      <th>authorMeta_nickName</th>\n",
       "      <th>authorMeta_following</th>\n",
       "      <th>authorMeta_friends</th>\n",
       "      <th>authorMeta_privateAccount</th>\n",
       "      <th>authorMeta_friends_1</th>\n",
       "      <th>authorMeta_region</th>\n",
       "      <th>location_cityCode</th>\n",
       "      <th>location_countryCode</th>\n",
       "    </tr>\n",
       "  </thead>\n",
       "  <tbody>\n",
       "    <tr>\n",
       "      <th>5201</th>\n",
       "      <td>highsnobiety</td>\n",
       "      <td>7483908675103509791</td>\n",
       "      <td>Don’t ever say I don’t put you guys on 🤷‍♀️\\n\\...</td>\n",
       "      <td>en</td>\n",
       "      <td>2025-03-20T15:08:13.000Z</td>\n",
       "      <td>80</td>\n",
       "      <td>2</td>\n",
       "      <td>1697</td>\n",
       "      <td>9</td>\n",
       "      <td>1</td>\n",
       "      <td>...</td>\n",
       "      <td>videos</td>\n",
       "      <td>False</td>\n",
       "      <td>highsnobiety</td>\n",
       "      <td>206</td>\n",
       "      <td>87</td>\n",
       "      <td>False</td>\n",
       "      <td>87</td>\n",
       "      <td>US</td>\n",
       "      <td>NaN</td>\n",
       "      <td>NaN</td>\n",
       "    </tr>\n",
       "    <tr>\n",
       "      <th>5237</th>\n",
       "      <td>highsnobiety</td>\n",
       "      <td>7484372234669215006</td>\n",
       "      <td>thank you @Calvin Klein \\n\\n#icanfixhim #icanf...</td>\n",
       "      <td>en</td>\n",
       "      <td>2025-03-21T21:07:14.000Z</td>\n",
       "      <td>31</td>\n",
       "      <td>2</td>\n",
       "      <td>453</td>\n",
       "      <td>2</td>\n",
       "      <td>2</td>\n",
       "      <td>...</td>\n",
       "      <td>videos</td>\n",
       "      <td>False</td>\n",
       "      <td>highsnobiety</td>\n",
       "      <td>206</td>\n",
       "      <td>87</td>\n",
       "      <td>False</td>\n",
       "      <td>87</td>\n",
       "      <td>US</td>\n",
       "      <td>NaN</td>\n",
       "      <td>NaN</td>\n",
       "    </tr>\n",
       "    <tr>\n",
       "      <th>5268</th>\n",
       "      <td>highsnobiety</td>\n",
       "      <td>7483223991365258526</td>\n",
       "      <td>#labubu is taking your girl, @A$AP ROCKY . \\n\\...</td>\n",
       "      <td>en</td>\n",
       "      <td>2025-03-18T18:51:41.000Z</td>\n",
       "      <td>324</td>\n",
       "      <td>44</td>\n",
       "      <td>6152</td>\n",
       "      <td>20</td>\n",
       "      <td>5</td>\n",
       "      <td>...</td>\n",
       "      <td>videos</td>\n",
       "      <td>False</td>\n",
       "      <td>highsnobiety</td>\n",
       "      <td>206</td>\n",
       "      <td>87</td>\n",
       "      <td>False</td>\n",
       "      <td>87</td>\n",
       "      <td>US</td>\n",
       "      <td>NaN</td>\n",
       "      <td>NaN</td>\n",
       "    </tr>\n",
       "    <tr>\n",
       "      <th>5273</th>\n",
       "      <td>highsnobiety</td>\n",
       "      <td>7484355206663212319</td>\n",
       "      <td>… now I’m hungry 🫠\\n\\n#cheesecake #applepie #f...</td>\n",
       "      <td>en</td>\n",
       "      <td>2025-03-21T20:01:17.000Z</td>\n",
       "      <td>19</td>\n",
       "      <td>1</td>\n",
       "      <td>861</td>\n",
       "      <td>1</td>\n",
       "      <td>2</td>\n",
       "      <td>...</td>\n",
       "      <td>videos</td>\n",
       "      <td>False</td>\n",
       "      <td>highsnobiety</td>\n",
       "      <td>206</td>\n",
       "      <td>87</td>\n",
       "      <td>False</td>\n",
       "      <td>87</td>\n",
       "      <td>US</td>\n",
       "      <td>NaN</td>\n",
       "      <td>NaN</td>\n",
       "    </tr>\n",
       "    <tr>\n",
       "      <th>5293</th>\n",
       "      <td>highsnobiety</td>\n",
       "      <td>7482995389155626270</td>\n",
       "      <td>Why is this video 5 hours long….. \\n\\n#badbunn...</td>\n",
       "      <td>en</td>\n",
       "      <td>2025-03-18T04:04:28.000Z</td>\n",
       "      <td>157</td>\n",
       "      <td>36</td>\n",
       "      <td>1755</td>\n",
       "      <td>13</td>\n",
       "      <td>5</td>\n",
       "      <td>...</td>\n",
       "      <td>videos</td>\n",
       "      <td>False</td>\n",
       "      <td>highsnobiety</td>\n",
       "      <td>206</td>\n",
       "      <td>87</td>\n",
       "      <td>False</td>\n",
       "      <td>87</td>\n",
       "      <td>US</td>\n",
       "      <td>NaN</td>\n",
       "      <td>NaN</td>\n",
       "    </tr>\n",
       "    <tr>\n",
       "      <th>5321</th>\n",
       "      <td>highsnobiety</td>\n",
       "      <td>7482428697673272607</td>\n",
       "      <td>When @Chloe Kim and @Alton Mason get a call to...</td>\n",
       "      <td>en</td>\n",
       "      <td>2025-03-16T15:25:35.000Z</td>\n",
       "      <td>63</td>\n",
       "      <td>3</td>\n",
       "      <td>2384</td>\n",
       "      <td>2</td>\n",
       "      <td>3</td>\n",
       "      <td>...</td>\n",
       "      <td>videos</td>\n",
       "      <td>False</td>\n",
       "      <td>highsnobiety</td>\n",
       "      <td>206</td>\n",
       "      <td>87</td>\n",
       "      <td>False</td>\n",
       "      <td>87</td>\n",
       "      <td>US</td>\n",
       "      <td>NaN</td>\n",
       "      <td>NaN</td>\n",
       "    </tr>\n",
       "    <tr>\n",
       "      <th>5374</th>\n",
       "      <td>highsnobiety</td>\n",
       "      <td>7482108276486737198</td>\n",
       "      <td>Been waiting for this one 👀 \\n\\n#freshprince #...</td>\n",
       "      <td>en</td>\n",
       "      <td>2025-03-15T18:41:50.000Z</td>\n",
       "      <td>399</td>\n",
       "      <td>13</td>\n",
       "      <td>18000</td>\n",
       "      <td>19</td>\n",
       "      <td>8</td>\n",
       "      <td>...</td>\n",
       "      <td>videos</td>\n",
       "      <td>False</td>\n",
       "      <td>highsnobiety</td>\n",
       "      <td>206</td>\n",
       "      <td>87</td>\n",
       "      <td>False</td>\n",
       "      <td>87</td>\n",
       "      <td>US</td>\n",
       "      <td>NaN</td>\n",
       "      <td>NaN</td>\n",
       "    </tr>\n",
       "    <tr>\n",
       "      <th>5390</th>\n",
       "      <td>highsnobiety</td>\n",
       "      <td>7482154089367751966</td>\n",
       "      <td>The matching #monclerbubbleup to camera about ...</td>\n",
       "      <td>en</td>\n",
       "      <td>2025-03-15T21:39:38.000Z</td>\n",
       "      <td>73</td>\n",
       "      <td>6</td>\n",
       "      <td>2692</td>\n",
       "      <td>6</td>\n",
       "      <td>3</td>\n",
       "      <td>...</td>\n",
       "      <td>videos</td>\n",
       "      <td>False</td>\n",
       "      <td>highsnobiety</td>\n",
       "      <td>206</td>\n",
       "      <td>87</td>\n",
       "      <td>False</td>\n",
       "      <td>87</td>\n",
       "      <td>US</td>\n",
       "      <td>NaN</td>\n",
       "      <td>NaN</td>\n",
       "    </tr>\n",
       "    <tr>\n",
       "      <th>5400</th>\n",
       "      <td>highsnobiety</td>\n",
       "      <td>7479865478375116063</td>\n",
       "      <td>The CDG FW25 show attendees did not come to pl...</td>\n",
       "      <td>en</td>\n",
       "      <td>2025-03-09T17:38:46.000Z</td>\n",
       "      <td>57</td>\n",
       "      <td>0</td>\n",
       "      <td>1609</td>\n",
       "      <td>1</td>\n",
       "      <td>4</td>\n",
       "      <td>...</td>\n",
       "      <td>videos</td>\n",
       "      <td>False</td>\n",
       "      <td>highsnobiety</td>\n",
       "      <td>209</td>\n",
       "      <td>87</td>\n",
       "      <td>False</td>\n",
       "      <td>87</td>\n",
       "      <td>US</td>\n",
       "      <td>NaN</td>\n",
       "      <td>NaN</td>\n",
       "    </tr>\n",
       "    <tr>\n",
       "      <th>5415</th>\n",
       "      <td>highsnobiety</td>\n",
       "      <td>7480307232089935134</td>\n",
       "      <td>THIS is what I mean when I say I want a design...</td>\n",
       "      <td>en</td>\n",
       "      <td>2025-03-10T22:13:01.000Z</td>\n",
       "      <td>123</td>\n",
       "      <td>3</td>\n",
       "      <td>2393</td>\n",
       "      <td>5</td>\n",
       "      <td>7</td>\n",
       "      <td>...</td>\n",
       "      <td>videos</td>\n",
       "      <td>False</td>\n",
       "      <td>highsnobiety</td>\n",
       "      <td>209</td>\n",
       "      <td>87</td>\n",
       "      <td>False</td>\n",
       "      <td>87</td>\n",
       "      <td>US</td>\n",
       "      <td>NaN</td>\n",
       "      <td>NaN</td>\n",
       "    </tr>\n",
       "    <tr>\n",
       "      <th>5432</th>\n",
       "      <td>highsnobiety</td>\n",
       "      <td>7480276158421028126</td>\n",
       "      <td>IRL what I bought vs what I ordered🧍‍♂️\\n\\nAn ...</td>\n",
       "      <td>en</td>\n",
       "      <td>2025-03-10T20:12:31.000Z</td>\n",
       "      <td>3931</td>\n",
       "      <td>1094</td>\n",
       "      <td>83700</td>\n",
       "      <td>251</td>\n",
       "      <td>69</td>\n",
       "      <td>...</td>\n",
       "      <td>videos</td>\n",
       "      <td>False</td>\n",
       "      <td>highsnobiety</td>\n",
       "      <td>209</td>\n",
       "      <td>87</td>\n",
       "      <td>False</td>\n",
       "      <td>87</td>\n",
       "      <td>US</td>\n",
       "      <td>NaN</td>\n",
       "      <td>NaN</td>\n",
       "    </tr>\n",
       "    <tr>\n",
       "      <th>5467</th>\n",
       "      <td>highsnobiety</td>\n",
       "      <td>7480755862693301535</td>\n",
       "      <td>#nettspend’s runway walk is my current Roman E...</td>\n",
       "      <td>en</td>\n",
       "      <td>2025-03-12T03:14:01.000Z</td>\n",
       "      <td>424</td>\n",
       "      <td>37</td>\n",
       "      <td>6182</td>\n",
       "      <td>33</td>\n",
       "      <td>15</td>\n",
       "      <td>...</td>\n",
       "      <td>videos</td>\n",
       "      <td>False</td>\n",
       "      <td>highsnobiety</td>\n",
       "      <td>209</td>\n",
       "      <td>87</td>\n",
       "      <td>False</td>\n",
       "      <td>87</td>\n",
       "      <td>US</td>\n",
       "      <td>NaN</td>\n",
       "      <td>NaN</td>\n",
       "    </tr>\n",
       "    <tr>\n",
       "      <th>5537</th>\n",
       "      <td>highsnobiety</td>\n",
       "      <td>7484665410646838571</td>\n",
       "      <td>Gotta love #puertorican pride\\n\\n#icanfixhim #...</td>\n",
       "      <td>en</td>\n",
       "      <td>2025-03-22T16:04:57.000Z</td>\n",
       "      <td>65</td>\n",
       "      <td>12</td>\n",
       "      <td>923</td>\n",
       "      <td>4</td>\n",
       "      <td>2</td>\n",
       "      <td>...</td>\n",
       "      <td>videos</td>\n",
       "      <td>False</td>\n",
       "      <td>highsnobiety</td>\n",
       "      <td>206</td>\n",
       "      <td>87</td>\n",
       "      <td>False</td>\n",
       "      <td>87</td>\n",
       "      <td>US</td>\n",
       "      <td>NaN</td>\n",
       "      <td>NaN</td>\n",
       "    </tr>\n",
       "    <tr>\n",
       "      <th>5565</th>\n",
       "      <td>highsnobiety</td>\n",
       "      <td>7484709169291971871</td>\n",
       "      <td>This jacket turns white in the heat and blue i...</td>\n",
       "      <td>en</td>\n",
       "      <td>2025-03-22T18:54:47.000Z</td>\n",
       "      <td>50</td>\n",
       "      <td>4</td>\n",
       "      <td>1498</td>\n",
       "      <td>5</td>\n",
       "      <td>3</td>\n",
       "      <td>...</td>\n",
       "      <td>videos</td>\n",
       "      <td>False</td>\n",
       "      <td>highsnobiety</td>\n",
       "      <td>206</td>\n",
       "      <td>87</td>\n",
       "      <td>False</td>\n",
       "      <td>87</td>\n",
       "      <td>US</td>\n",
       "      <td>NaN</td>\n",
       "      <td>NaN</td>\n",
       "    </tr>\n",
       "    <tr>\n",
       "      <th>9409</th>\n",
       "      <td>_byneri</td>\n",
       "      <td>7466824554229320982</td>\n",
       "      <td>🍊Orangen Biskuitrolle🍊 follow on Instagram (re...</td>\n",
       "      <td>en</td>\n",
       "      <td>2025-02-02T14:12:52.000Z</td>\n",
       "      <td>1184</td>\n",
       "      <td>80</td>\n",
       "      <td>25600</td>\n",
       "      <td>525</td>\n",
       "      <td>10</td>\n",
       "      <td>...</td>\n",
       "      <td>videos</td>\n",
       "      <td>False</td>\n",
       "      <td>_byNeri</td>\n",
       "      <td>19</td>\n",
       "      <td>13</td>\n",
       "      <td>False</td>\n",
       "      <td>13</td>\n",
       "      <td>DE</td>\n",
       "      <td>NaN</td>\n",
       "      <td>NaN</td>\n",
       "    </tr>\n",
       "  </tbody>\n",
       "</table>\n",
       "<p>15 rows × 26 columns</p>\n",
       "</div>"
      ],
      "text/plain": [
       "             input              main_ID  \\\n",
       "5201  highsnobiety  7483908675103509791   \n",
       "5237  highsnobiety  7484372234669215006   \n",
       "5268  highsnobiety  7483223991365258526   \n",
       "5273  highsnobiety  7484355206663212319   \n",
       "5293  highsnobiety  7482995389155626270   \n",
       "5321  highsnobiety  7482428697673272607   \n",
       "5374  highsnobiety  7482108276486737198   \n",
       "5390  highsnobiety  7482154089367751966   \n",
       "5400  highsnobiety  7479865478375116063   \n",
       "5415  highsnobiety  7480307232089935134   \n",
       "5432  highsnobiety  7480276158421028126   \n",
       "5467  highsnobiety  7480755862693301535   \n",
       "5537  highsnobiety  7484665410646838571   \n",
       "5565  highsnobiety  7484709169291971871   \n",
       "9409       _byneri  7466824554229320982   \n",
       "\n",
       "                                                   text textLanguage  \\\n",
       "5201  Don’t ever say I don’t put you guys on 🤷‍♀️\\n\\...           en   \n",
       "5237  thank you @Calvin Klein \\n\\n#icanfixhim #icanf...           en   \n",
       "5268  #labubu is taking your girl, @A$AP ROCKY . \\n\\...           en   \n",
       "5273  … now I’m hungry 🫠\\n\\n#cheesecake #applepie #f...           en   \n",
       "5293  Why is this video 5 hours long….. \\n\\n#badbunn...           en   \n",
       "5321  When @Chloe Kim and @Alton Mason get a call to...           en   \n",
       "5374  Been waiting for this one 👀 \\n\\n#freshprince #...           en   \n",
       "5390  The matching #monclerbubbleup to camera about ...           en   \n",
       "5400  The CDG FW25 show attendees did not come to pl...           en   \n",
       "5415  THIS is what I mean when I say I want a design...           en   \n",
       "5432  IRL what I bought vs what I ordered🧍‍♂️\\n\\nAn ...           en   \n",
       "5467  #nettspend’s runway walk is my current Roman E...           en   \n",
       "5537  Gotta love #puertorican pride\\n\\n#icanfixhim #...           en   \n",
       "5565  This jacket turns white in the heat and blue i...           en   \n",
       "9409  🍊Orangen Biskuitrolle🍊 follow on Instagram (re...           en   \n",
       "\n",
       "                 createTimeISO  diggCount  shareCount  playCount  \\\n",
       "5201  2025-03-20T15:08:13.000Z         80           2       1697   \n",
       "5237  2025-03-21T21:07:14.000Z         31           2        453   \n",
       "5268  2025-03-18T18:51:41.000Z        324          44       6152   \n",
       "5273  2025-03-21T20:01:17.000Z         19           1        861   \n",
       "5293  2025-03-18T04:04:28.000Z        157          36       1755   \n",
       "5321  2025-03-16T15:25:35.000Z         63           3       2384   \n",
       "5374  2025-03-15T18:41:50.000Z        399          13      18000   \n",
       "5390  2025-03-15T21:39:38.000Z         73           6       2692   \n",
       "5400  2025-03-09T17:38:46.000Z         57           0       1609   \n",
       "5415  2025-03-10T22:13:01.000Z        123           3       2393   \n",
       "5432  2025-03-10T20:12:31.000Z       3931        1094      83700   \n",
       "5467  2025-03-12T03:14:01.000Z        424          37       6182   \n",
       "5537  2025-03-22T16:04:57.000Z         65          12        923   \n",
       "5565  2025-03-22T18:54:47.000Z         50           4       1498   \n",
       "9409  2025-02-02T14:12:52.000Z       1184          80      25600   \n",
       "\n",
       "      collectCount  commentCount  ... fromProfileSection   isAd  \\\n",
       "5201             9             1  ...             videos  False   \n",
       "5237             2             2  ...             videos  False   \n",
       "5268            20             5  ...             videos  False   \n",
       "5273             1             2  ...             videos  False   \n",
       "5293            13             5  ...             videos  False   \n",
       "5321             2             3  ...             videos  False   \n",
       "5374            19             8  ...             videos  False   \n",
       "5390             6             3  ...             videos  False   \n",
       "5400             1             4  ...             videos  False   \n",
       "5415             5             7  ...             videos  False   \n",
       "5432           251            69  ...             videos  False   \n",
       "5467            33            15  ...             videos  False   \n",
       "5537             4             2  ...             videos  False   \n",
       "5565             5             3  ...             videos  False   \n",
       "9409           525            10  ...             videos  False   \n",
       "\n",
       "      authorMeta_nickName  authorMeta_following  authorMeta_friends  \\\n",
       "5201         highsnobiety                   206                  87   \n",
       "5237         highsnobiety                   206                  87   \n",
       "5268         highsnobiety                   206                  87   \n",
       "5273         highsnobiety                   206                  87   \n",
       "5293         highsnobiety                   206                  87   \n",
       "5321         highsnobiety                   206                  87   \n",
       "5374         highsnobiety                   206                  87   \n",
       "5390         highsnobiety                   206                  87   \n",
       "5400         highsnobiety                   209                  87   \n",
       "5415         highsnobiety                   209                  87   \n",
       "5432         highsnobiety                   209                  87   \n",
       "5467         highsnobiety                   209                  87   \n",
       "5537         highsnobiety                   206                  87   \n",
       "5565         highsnobiety                   206                  87   \n",
       "9409              _byNeri                    19                  13   \n",
       "\n",
       "      authorMeta_privateAccount authorMeta_friends_1 authorMeta_region  \\\n",
       "5201                      False                   87                US   \n",
       "5237                      False                   87                US   \n",
       "5268                      False                   87                US   \n",
       "5273                      False                   87                US   \n",
       "5293                      False                   87                US   \n",
       "5321                      False                   87                US   \n",
       "5374                      False                   87                US   \n",
       "5390                      False                   87                US   \n",
       "5400                      False                   87                US   \n",
       "5415                      False                   87                US   \n",
       "5432                      False                   87                US   \n",
       "5467                      False                   87                US   \n",
       "5537                      False                   87                US   \n",
       "5565                      False                   87                US   \n",
       "9409                      False                   13                DE   \n",
       "\n",
       "     location_cityCode  location_countryCode  \n",
       "5201               NaN                   NaN  \n",
       "5237               NaN                   NaN  \n",
       "5268               NaN                   NaN  \n",
       "5273               NaN                   NaN  \n",
       "5293               NaN                   NaN  \n",
       "5321               NaN                   NaN  \n",
       "5374               NaN                   NaN  \n",
       "5390               NaN                   NaN  \n",
       "5400               NaN                   NaN  \n",
       "5415               NaN                   NaN  \n",
       "5432               NaN                   NaN  \n",
       "5467               NaN                   NaN  \n",
       "5537               NaN                   NaN  \n",
       "5565               NaN                   NaN  \n",
       "9409               NaN                   NaN  \n",
       "\n",
       "[15 rows x 26 columns]"
      ]
     },
     "execution_count": 11,
     "metadata": {},
     "output_type": "execute_result"
    }
   ],
   "source": [
    "df[df['hashtag_name']=='fypシ'] #within the hashtag we also have a Japanese character"
   ]
  },
  {
   "cell_type": "code",
   "execution_count": 12,
   "metadata": {},
   "outputs": [
    {
     "data": {
      "text/plain": [
       "212"
      ]
     },
     "execution_count": 12,
     "metadata": {},
     "output_type": "execute_result"
    }
   ],
   "source": [
    "#How many posts are sponsered \n",
    "len(df[df['isSponsored']==1])\n"
   ]
  },
  {
   "cell_type": "code",
   "execution_count": 13,
   "metadata": {},
   "outputs": [
    {
     "data": {
      "text/html": [
       "<div>\n",
       "<style scoped>\n",
       "    .dataframe tbody tr th:only-of-type {\n",
       "        vertical-align: middle;\n",
       "    }\n",
       "\n",
       "    .dataframe tbody tr th {\n",
       "        vertical-align: top;\n",
       "    }\n",
       "\n",
       "    .dataframe thead th {\n",
       "        text-align: right;\n",
       "    }\n",
       "</style>\n",
       "<table border=\"1\" class=\"dataframe\">\n",
       "  <thead>\n",
       "    <tr style=\"text-align: right;\">\n",
       "      <th></th>\n",
       "      <th>input</th>\n",
       "      <th>main_ID</th>\n",
       "      <th>text</th>\n",
       "      <th>textLanguage</th>\n",
       "      <th>createTimeISO</th>\n",
       "      <th>diggCount</th>\n",
       "      <th>shareCount</th>\n",
       "      <th>playCount</th>\n",
       "      <th>collectCount</th>\n",
       "      <th>commentCount</th>\n",
       "      <th>...</th>\n",
       "      <th>fromProfileSection</th>\n",
       "      <th>isAd</th>\n",
       "      <th>authorMeta_nickName</th>\n",
       "      <th>authorMeta_following</th>\n",
       "      <th>authorMeta_friends</th>\n",
       "      <th>authorMeta_privateAccount</th>\n",
       "      <th>authorMeta_friends_1</th>\n",
       "      <th>authorMeta_region</th>\n",
       "      <th>location_cityCode</th>\n",
       "      <th>location_countryCode</th>\n",
       "    </tr>\n",
       "    <tr>\n",
       "      <th>hashtag_name</th>\n",
       "      <th></th>\n",
       "      <th></th>\n",
       "      <th></th>\n",
       "      <th></th>\n",
       "      <th></th>\n",
       "      <th></th>\n",
       "      <th></th>\n",
       "      <th></th>\n",
       "      <th></th>\n",
       "      <th></th>\n",
       "      <th></th>\n",
       "      <th></th>\n",
       "      <th></th>\n",
       "      <th></th>\n",
       "      <th></th>\n",
       "      <th></th>\n",
       "      <th></th>\n",
       "      <th></th>\n",
       "      <th></th>\n",
       "      <th></th>\n",
       "      <th></th>\n",
       "    </tr>\n",
       "  </thead>\n",
       "  <tbody>\n",
       "    <tr>\n",
       "      <th>ad</th>\n",
       "      <td>11</td>\n",
       "      <td>11</td>\n",
       "      <td>11</td>\n",
       "      <td>11</td>\n",
       "      <td>11</td>\n",
       "      <td>11</td>\n",
       "      <td>11</td>\n",
       "      <td>11</td>\n",
       "      <td>11</td>\n",
       "      <td>11</td>\n",
       "      <td>...</td>\n",
       "      <td>11</td>\n",
       "      <td>6</td>\n",
       "      <td>11</td>\n",
       "      <td>11</td>\n",
       "      <td>11</td>\n",
       "      <td>11</td>\n",
       "      <td>11</td>\n",
       "      <td>11</td>\n",
       "      <td>4</td>\n",
       "      <td>4</td>\n",
       "    </tr>\n",
       "    <tr>\n",
       "      <th>skincare</th>\n",
       "      <td>7</td>\n",
       "      <td>7</td>\n",
       "      <td>7</td>\n",
       "      <td>7</td>\n",
       "      <td>7</td>\n",
       "      <td>7</td>\n",
       "      <td>7</td>\n",
       "      <td>7</td>\n",
       "      <td>7</td>\n",
       "      <td>7</td>\n",
       "      <td>...</td>\n",
       "      <td>7</td>\n",
       "      <td>6</td>\n",
       "      <td>7</td>\n",
       "      <td>7</td>\n",
       "      <td>7</td>\n",
       "      <td>7</td>\n",
       "      <td>7</td>\n",
       "      <td>7</td>\n",
       "      <td>0</td>\n",
       "      <td>0</td>\n",
       "    </tr>\n",
       "    <tr>\n",
       "      <th>sheglam</th>\n",
       "      <td>6</td>\n",
       "      <td>6</td>\n",
       "      <td>6</td>\n",
       "      <td>6</td>\n",
       "      <td>6</td>\n",
       "      <td>6</td>\n",
       "      <td>6</td>\n",
       "      <td>6</td>\n",
       "      <td>6</td>\n",
       "      <td>6</td>\n",
       "      <td>...</td>\n",
       "      <td>6</td>\n",
       "      <td>5</td>\n",
       "      <td>6</td>\n",
       "      <td>6</td>\n",
       "      <td>6</td>\n",
       "      <td>6</td>\n",
       "      <td>6</td>\n",
       "      <td>6</td>\n",
       "      <td>0</td>\n",
       "      <td>0</td>\n",
       "    </tr>\n",
       "    <tr>\n",
       "      <th>fyp</th>\n",
       "      <td>4</td>\n",
       "      <td>4</td>\n",
       "      <td>4</td>\n",
       "      <td>4</td>\n",
       "      <td>4</td>\n",
       "      <td>4</td>\n",
       "      <td>4</td>\n",
       "      <td>4</td>\n",
       "      <td>4</td>\n",
       "      <td>4</td>\n",
       "      <td>...</td>\n",
       "      <td>4</td>\n",
       "      <td>3</td>\n",
       "      <td>4</td>\n",
       "      <td>4</td>\n",
       "      <td>4</td>\n",
       "      <td>4</td>\n",
       "      <td>4</td>\n",
       "      <td>4</td>\n",
       "      <td>1</td>\n",
       "      <td>1</td>\n",
       "    </tr>\n",
       "    <tr>\n",
       "      <th>slowaging</th>\n",
       "      <td>2</td>\n",
       "      <td>2</td>\n",
       "      <td>2</td>\n",
       "      <td>2</td>\n",
       "      <td>2</td>\n",
       "      <td>2</td>\n",
       "      <td>2</td>\n",
       "      <td>2</td>\n",
       "      <td>2</td>\n",
       "      <td>2</td>\n",
       "      <td>...</td>\n",
       "      <td>2</td>\n",
       "      <td>2</td>\n",
       "      <td>2</td>\n",
       "      <td>2</td>\n",
       "      <td>2</td>\n",
       "      <td>2</td>\n",
       "      <td>2</td>\n",
       "      <td>2</td>\n",
       "      <td>1</td>\n",
       "      <td>1</td>\n",
       "    </tr>\n",
       "    <tr>\n",
       "      <th>...</th>\n",
       "      <td>...</td>\n",
       "      <td>...</td>\n",
       "      <td>...</td>\n",
       "      <td>...</td>\n",
       "      <td>...</td>\n",
       "      <td>...</td>\n",
       "      <td>...</td>\n",
       "      <td>...</td>\n",
       "      <td>...</td>\n",
       "      <td>...</td>\n",
       "      <td>...</td>\n",
       "      <td>...</td>\n",
       "      <td>...</td>\n",
       "      <td>...</td>\n",
       "      <td>...</td>\n",
       "      <td>...</td>\n",
       "      <td>...</td>\n",
       "      <td>...</td>\n",
       "      <td>...</td>\n",
       "      <td>...</td>\n",
       "      <td>...</td>\n",
       "    </tr>\n",
       "    <tr>\n",
       "      <th>glowupcetaphil</th>\n",
       "      <td>1</td>\n",
       "      <td>1</td>\n",
       "      <td>1</td>\n",
       "      <td>1</td>\n",
       "      <td>1</td>\n",
       "      <td>1</td>\n",
       "      <td>1</td>\n",
       "      <td>1</td>\n",
       "      <td>1</td>\n",
       "      <td>1</td>\n",
       "      <td>...</td>\n",
       "      <td>1</td>\n",
       "      <td>0</td>\n",
       "      <td>1</td>\n",
       "      <td>1</td>\n",
       "      <td>1</td>\n",
       "      <td>1</td>\n",
       "      <td>1</td>\n",
       "      <td>1</td>\n",
       "      <td>0</td>\n",
       "      <td>0</td>\n",
       "    </tr>\n",
       "    <tr>\n",
       "      <th>glow</th>\n",
       "      <td>1</td>\n",
       "      <td>1</td>\n",
       "      <td>1</td>\n",
       "      <td>1</td>\n",
       "      <td>1</td>\n",
       "      <td>1</td>\n",
       "      <td>1</td>\n",
       "      <td>1</td>\n",
       "      <td>1</td>\n",
       "      <td>1</td>\n",
       "      <td>...</td>\n",
       "      <td>1</td>\n",
       "      <td>1</td>\n",
       "      <td>1</td>\n",
       "      <td>1</td>\n",
       "      <td>1</td>\n",
       "      <td>1</td>\n",
       "      <td>1</td>\n",
       "      <td>1</td>\n",
       "      <td>0</td>\n",
       "      <td>0</td>\n",
       "    </tr>\n",
       "    <tr>\n",
       "      <th>gesichtspflege</th>\n",
       "      <td>1</td>\n",
       "      <td>1</td>\n",
       "      <td>1</td>\n",
       "      <td>1</td>\n",
       "      <td>1</td>\n",
       "      <td>1</td>\n",
       "      <td>1</td>\n",
       "      <td>1</td>\n",
       "      <td>1</td>\n",
       "      <td>1</td>\n",
       "      <td>...</td>\n",
       "      <td>1</td>\n",
       "      <td>1</td>\n",
       "      <td>1</td>\n",
       "      <td>1</td>\n",
       "      <td>1</td>\n",
       "      <td>1</td>\n",
       "      <td>1</td>\n",
       "      <td>1</td>\n",
       "      <td>0</td>\n",
       "      <td>0</td>\n",
       "    </tr>\n",
       "    <tr>\n",
       "      <th>genifiqueultimate</th>\n",
       "      <td>1</td>\n",
       "      <td>1</td>\n",
       "      <td>1</td>\n",
       "      <td>1</td>\n",
       "      <td>1</td>\n",
       "      <td>1</td>\n",
       "      <td>1</td>\n",
       "      <td>1</td>\n",
       "      <td>1</td>\n",
       "      <td>1</td>\n",
       "      <td>...</td>\n",
       "      <td>1</td>\n",
       "      <td>1</td>\n",
       "      <td>1</td>\n",
       "      <td>1</td>\n",
       "      <td>1</td>\n",
       "      <td>1</td>\n",
       "      <td>1</td>\n",
       "      <td>1</td>\n",
       "      <td>1</td>\n",
       "      <td>1</td>\n",
       "    </tr>\n",
       "    <tr>\n",
       "      <th>yslmakeup</th>\n",
       "      <td>1</td>\n",
       "      <td>1</td>\n",
       "      <td>1</td>\n",
       "      <td>1</td>\n",
       "      <td>1</td>\n",
       "      <td>1</td>\n",
       "      <td>1</td>\n",
       "      <td>1</td>\n",
       "      <td>1</td>\n",
       "      <td>1</td>\n",
       "      <td>...</td>\n",
       "      <td>1</td>\n",
       "      <td>0</td>\n",
       "      <td>1</td>\n",
       "      <td>1</td>\n",
       "      <td>1</td>\n",
       "      <td>1</td>\n",
       "      <td>1</td>\n",
       "      <td>1</td>\n",
       "      <td>0</td>\n",
       "      <td>0</td>\n",
       "    </tr>\n",
       "  </tbody>\n",
       "</table>\n",
       "<p>119 rows × 25 columns</p>\n",
       "</div>"
      ],
      "text/plain": [
       "                   input  main_ID  text  textLanguage  createTimeISO  \\\n",
       "hashtag_name                                                           \n",
       "ad                    11       11    11            11             11   \n",
       "skincare               7        7     7             7              7   \n",
       "sheglam                6        6     6             6              6   \n",
       "fyp                    4        4     4             4              4   \n",
       "slowaging              2        2     2             2              2   \n",
       "...                  ...      ...   ...           ...            ...   \n",
       "glowupcetaphil         1        1     1             1              1   \n",
       "glow                   1        1     1             1              1   \n",
       "gesichtspflege         1        1     1             1              1   \n",
       "genifiqueultimate      1        1     1             1              1   \n",
       "yslmakeup              1        1     1             1              1   \n",
       "\n",
       "                   diggCount  shareCount  playCount  collectCount  \\\n",
       "hashtag_name                                                        \n",
       "ad                        11          11         11            11   \n",
       "skincare                   7           7          7             7   \n",
       "sheglam                    6           6          6             6   \n",
       "fyp                        4           4          4             4   \n",
       "slowaging                  2           2          2             2   \n",
       "...                      ...         ...        ...           ...   \n",
       "glowupcetaphil             1           1          1             1   \n",
       "glow                       1           1          1             1   \n",
       "gesichtspflege             1           1          1             1   \n",
       "genifiqueultimate          1           1          1             1   \n",
       "yslmakeup                  1           1          1             1   \n",
       "\n",
       "                   commentCount  ...  fromProfileSection  isAd  \\\n",
       "hashtag_name                     ...                             \n",
       "ad                           11  ...                  11     6   \n",
       "skincare                      7  ...                   7     6   \n",
       "sheglam                       6  ...                   6     5   \n",
       "fyp                           4  ...                   4     3   \n",
       "slowaging                     2  ...                   2     2   \n",
       "...                         ...  ...                 ...   ...   \n",
       "glowupcetaphil                1  ...                   1     0   \n",
       "glow                          1  ...                   1     1   \n",
       "gesichtspflege                1  ...                   1     1   \n",
       "genifiqueultimate             1  ...                   1     1   \n",
       "yslmakeup                     1  ...                   1     0   \n",
       "\n",
       "                   authorMeta_nickName  authorMeta_following  \\\n",
       "hashtag_name                                                   \n",
       "ad                                  11                    11   \n",
       "skincare                             7                     7   \n",
       "sheglam                              6                     6   \n",
       "fyp                                  4                     4   \n",
       "slowaging                            2                     2   \n",
       "...                                ...                   ...   \n",
       "glowupcetaphil                       1                     1   \n",
       "glow                                 1                     1   \n",
       "gesichtspflege                       1                     1   \n",
       "genifiqueultimate                    1                     1   \n",
       "yslmakeup                            1                     1   \n",
       "\n",
       "                   authorMeta_friends  authorMeta_privateAccount  \\\n",
       "hashtag_name                                                       \n",
       "ad                                 11                         11   \n",
       "skincare                            7                          7   \n",
       "sheglam                             6                          6   \n",
       "fyp                                 4                          4   \n",
       "slowaging                           2                          2   \n",
       "...                               ...                        ...   \n",
       "glowupcetaphil                      1                          1   \n",
       "glow                                1                          1   \n",
       "gesichtspflege                      1                          1   \n",
       "genifiqueultimate                   1                          1   \n",
       "yslmakeup                           1                          1   \n",
       "\n",
       "                   authorMeta_friends_1  authorMeta_region  location_cityCode  \\\n",
       "hashtag_name                                                                    \n",
       "ad                                   11                 11                  4   \n",
       "skincare                              7                  7                  0   \n",
       "sheglam                               6                  6                  0   \n",
       "fyp                                   4                  4                  1   \n",
       "slowaging                             2                  2                  1   \n",
       "...                                 ...                ...                ...   \n",
       "glowupcetaphil                        1                  1                  0   \n",
       "glow                                  1                  1                  0   \n",
       "gesichtspflege                        1                  1                  0   \n",
       "genifiqueultimate                     1                  1                  1   \n",
       "yslmakeup                             1                  1                  0   \n",
       "\n",
       "                   location_countryCode  \n",
       "hashtag_name                             \n",
       "ad                                    4  \n",
       "skincare                              0  \n",
       "sheglam                               0  \n",
       "fyp                                   1  \n",
       "slowaging                             1  \n",
       "...                                 ...  \n",
       "glowupcetaphil                        0  \n",
       "glow                                  0  \n",
       "gesichtspflege                        0  \n",
       "genifiqueultimate                     1  \n",
       "yslmakeup                             0  \n",
       "\n",
       "[119 rows x 25 columns]"
      ]
     },
     "execution_count": 13,
     "metadata": {},
     "output_type": "execute_result"
    }
   ],
   "source": [
    "#In the sponsered what are the top hastags\n",
    "\n",
    "df_sponsered=df[df['isSponsored']==1]\n",
    "df_sponsered.groupby('hashtag_name').count().sort_values(by='main_ID', ascending=False)"
   ]
  },
  {
   "cell_type": "code",
   "execution_count": 14,
   "metadata": {},
   "outputs": [
    {
     "data": {
      "text/html": [
       "<div>\n",
       "<style scoped>\n",
       "    .dataframe tbody tr th:only-of-type {\n",
       "        vertical-align: middle;\n",
       "    }\n",
       "\n",
       "    .dataframe tbody tr th {\n",
       "        vertical-align: top;\n",
       "    }\n",
       "\n",
       "    .dataframe thead th {\n",
       "        text-align: right;\n",
       "    }\n",
       "</style>\n",
       "<table border=\"1\" class=\"dataframe\">\n",
       "  <thead>\n",
       "    <tr style=\"text-align: right;\">\n",
       "      <th></th>\n",
       "      <th>input</th>\n",
       "      <th>main_ID</th>\n",
       "      <th>text</th>\n",
       "      <th>textLanguage</th>\n",
       "      <th>createTimeISO</th>\n",
       "      <th>diggCount</th>\n",
       "      <th>shareCount</th>\n",
       "      <th>playCount</th>\n",
       "      <th>collectCount</th>\n",
       "      <th>commentCount</th>\n",
       "      <th>...</th>\n",
       "      <th>fromProfileSection</th>\n",
       "      <th>isAd</th>\n",
       "      <th>authorMeta_nickName</th>\n",
       "      <th>authorMeta_following</th>\n",
       "      <th>authorMeta_friends</th>\n",
       "      <th>authorMeta_privateAccount</th>\n",
       "      <th>authorMeta_friends_1</th>\n",
       "      <th>authorMeta_region</th>\n",
       "      <th>location_cityCode</th>\n",
       "      <th>location_countryCode</th>\n",
       "    </tr>\n",
       "    <tr>\n",
       "      <th>hashtag_name</th>\n",
       "      <th></th>\n",
       "      <th></th>\n",
       "      <th></th>\n",
       "      <th></th>\n",
       "      <th></th>\n",
       "      <th></th>\n",
       "      <th></th>\n",
       "      <th></th>\n",
       "      <th></th>\n",
       "      <th></th>\n",
       "      <th></th>\n",
       "      <th></th>\n",
       "      <th></th>\n",
       "      <th></th>\n",
       "      <th></th>\n",
       "      <th></th>\n",
       "      <th></th>\n",
       "      <th></th>\n",
       "      <th></th>\n",
       "      <th></th>\n",
       "      <th></th>\n",
       "    </tr>\n",
       "  </thead>\n",
       "  <tbody>\n",
       "    <tr>\n",
       "      <th>fyp</th>\n",
       "      <td>357</td>\n",
       "      <td>357</td>\n",
       "      <td>357</td>\n",
       "      <td>357</td>\n",
       "      <td>357</td>\n",
       "      <td>357</td>\n",
       "      <td>357</td>\n",
       "      <td>357</td>\n",
       "      <td>357</td>\n",
       "      <td>357</td>\n",
       "      <td>...</td>\n",
       "      <td>357</td>\n",
       "      <td>235</td>\n",
       "      <td>357</td>\n",
       "      <td>357</td>\n",
       "      <td>357</td>\n",
       "      <td>357</td>\n",
       "      <td>357</td>\n",
       "      <td>357</td>\n",
       "      <td>59</td>\n",
       "      <td>59</td>\n",
       "    </tr>\n",
       "    <tr>\n",
       "      <th>fürdich</th>\n",
       "      <td>182</td>\n",
       "      <td>182</td>\n",
       "      <td>182</td>\n",
       "      <td>182</td>\n",
       "      <td>182</td>\n",
       "      <td>182</td>\n",
       "      <td>182</td>\n",
       "      <td>182</td>\n",
       "      <td>182</td>\n",
       "      <td>182</td>\n",
       "      <td>...</td>\n",
       "      <td>182</td>\n",
       "      <td>119</td>\n",
       "      <td>182</td>\n",
       "      <td>182</td>\n",
       "      <td>182</td>\n",
       "      <td>182</td>\n",
       "      <td>182</td>\n",
       "      <td>182</td>\n",
       "      <td>34</td>\n",
       "      <td>34</td>\n",
       "    </tr>\n",
       "    <tr>\n",
       "      <th>foryou</th>\n",
       "      <td>153</td>\n",
       "      <td>153</td>\n",
       "      <td>153</td>\n",
       "      <td>153</td>\n",
       "      <td>153</td>\n",
       "      <td>153</td>\n",
       "      <td>153</td>\n",
       "      <td>153</td>\n",
       "      <td>153</td>\n",
       "      <td>153</td>\n",
       "      <td>...</td>\n",
       "      <td>153</td>\n",
       "      <td>77</td>\n",
       "      <td>153</td>\n",
       "      <td>153</td>\n",
       "      <td>153</td>\n",
       "      <td>153</td>\n",
       "      <td>153</td>\n",
       "      <td>153</td>\n",
       "      <td>7</td>\n",
       "      <td>7</td>\n",
       "    </tr>\n",
       "    <tr>\n",
       "      <th>fy</th>\n",
       "      <td>129</td>\n",
       "      <td>129</td>\n",
       "      <td>129</td>\n",
       "      <td>129</td>\n",
       "      <td>129</td>\n",
       "      <td>129</td>\n",
       "      <td>129</td>\n",
       "      <td>129</td>\n",
       "      <td>129</td>\n",
       "      <td>129</td>\n",
       "      <td>...</td>\n",
       "      <td>129</td>\n",
       "      <td>70</td>\n",
       "      <td>129</td>\n",
       "      <td>129</td>\n",
       "      <td>129</td>\n",
       "      <td>129</td>\n",
       "      <td>129</td>\n",
       "      <td>129</td>\n",
       "      <td>32</td>\n",
       "      <td>32</td>\n",
       "    </tr>\n",
       "    <tr>\n",
       "      <th>viral</th>\n",
       "      <td>108</td>\n",
       "      <td>108</td>\n",
       "      <td>108</td>\n",
       "      <td>108</td>\n",
       "      <td>108</td>\n",
       "      <td>108</td>\n",
       "      <td>108</td>\n",
       "      <td>108</td>\n",
       "      <td>108</td>\n",
       "      <td>108</td>\n",
       "      <td>...</td>\n",
       "      <td>108</td>\n",
       "      <td>32</td>\n",
       "      <td>108</td>\n",
       "      <td>108</td>\n",
       "      <td>108</td>\n",
       "      <td>108</td>\n",
       "      <td>108</td>\n",
       "      <td>108</td>\n",
       "      <td>0</td>\n",
       "      <td>0</td>\n",
       "    </tr>\n",
       "    <tr>\n",
       "      <th>...</th>\n",
       "      <td>...</td>\n",
       "      <td>...</td>\n",
       "      <td>...</td>\n",
       "      <td>...</td>\n",
       "      <td>...</td>\n",
       "      <td>...</td>\n",
       "      <td>...</td>\n",
       "      <td>...</td>\n",
       "      <td>...</td>\n",
       "      <td>...</td>\n",
       "      <td>...</td>\n",
       "      <td>...</td>\n",
       "      <td>...</td>\n",
       "      <td>...</td>\n",
       "      <td>...</td>\n",
       "      <td>...</td>\n",
       "      <td>...</td>\n",
       "      <td>...</td>\n",
       "      <td>...</td>\n",
       "      <td>...</td>\n",
       "      <td>...</td>\n",
       "    </tr>\n",
       "    <tr>\n",
       "      <th>haarverdichtung</th>\n",
       "      <td>1</td>\n",
       "      <td>1</td>\n",
       "      <td>1</td>\n",
       "      <td>1</td>\n",
       "      <td>1</td>\n",
       "      <td>1</td>\n",
       "      <td>1</td>\n",
       "      <td>1</td>\n",
       "      <td>1</td>\n",
       "      <td>1</td>\n",
       "      <td>...</td>\n",
       "      <td>1</td>\n",
       "      <td>0</td>\n",
       "      <td>1</td>\n",
       "      <td>1</td>\n",
       "      <td>1</td>\n",
       "      <td>1</td>\n",
       "      <td>1</td>\n",
       "      <td>1</td>\n",
       "      <td>0</td>\n",
       "      <td>0</td>\n",
       "    </tr>\n",
       "    <tr>\n",
       "      <th>haarverlängerung</th>\n",
       "      <td>1</td>\n",
       "      <td>1</td>\n",
       "      <td>1</td>\n",
       "      <td>1</td>\n",
       "      <td>1</td>\n",
       "      <td>1</td>\n",
       "      <td>1</td>\n",
       "      <td>1</td>\n",
       "      <td>1</td>\n",
       "      <td>1</td>\n",
       "      <td>...</td>\n",
       "      <td>1</td>\n",
       "      <td>0</td>\n",
       "      <td>1</td>\n",
       "      <td>1</td>\n",
       "      <td>1</td>\n",
       "      <td>1</td>\n",
       "      <td>1</td>\n",
       "      <td>1</td>\n",
       "      <td>0</td>\n",
       "      <td>0</td>\n",
       "    </tr>\n",
       "    <tr>\n",
       "      <th>haarvlog</th>\n",
       "      <td>1</td>\n",
       "      <td>1</td>\n",
       "      <td>1</td>\n",
       "      <td>1</td>\n",
       "      <td>1</td>\n",
       "      <td>1</td>\n",
       "      <td>1</td>\n",
       "      <td>1</td>\n",
       "      <td>1</td>\n",
       "      <td>1</td>\n",
       "      <td>...</td>\n",
       "      <td>1</td>\n",
       "      <td>0</td>\n",
       "      <td>1</td>\n",
       "      <td>1</td>\n",
       "      <td>1</td>\n",
       "      <td>1</td>\n",
       "      <td>1</td>\n",
       "      <td>1</td>\n",
       "      <td>1</td>\n",
       "      <td>1</td>\n",
       "    </tr>\n",
       "    <tr>\n",
       "      <th>haarwachstumsmittel</th>\n",
       "      <td>1</td>\n",
       "      <td>1</td>\n",
       "      <td>1</td>\n",
       "      <td>1</td>\n",
       "      <td>1</td>\n",
       "      <td>1</td>\n",
       "      <td>1</td>\n",
       "      <td>1</td>\n",
       "      <td>1</td>\n",
       "      <td>1</td>\n",
       "      <td>...</td>\n",
       "      <td>1</td>\n",
       "      <td>0</td>\n",
       "      <td>1</td>\n",
       "      <td>1</td>\n",
       "      <td>1</td>\n",
       "      <td>1</td>\n",
       "      <td>1</td>\n",
       "      <td>1</td>\n",
       "      <td>0</td>\n",
       "      <td>0</td>\n",
       "    </tr>\n",
       "    <tr>\n",
       "      <th>ドイツ語</th>\n",
       "      <td>1</td>\n",
       "      <td>1</td>\n",
       "      <td>1</td>\n",
       "      <td>1</td>\n",
       "      <td>1</td>\n",
       "      <td>1</td>\n",
       "      <td>1</td>\n",
       "      <td>1</td>\n",
       "      <td>1</td>\n",
       "      <td>1</td>\n",
       "      <td>...</td>\n",
       "      <td>1</td>\n",
       "      <td>1</td>\n",
       "      <td>1</td>\n",
       "      <td>1</td>\n",
       "      <td>1</td>\n",
       "      <td>1</td>\n",
       "      <td>1</td>\n",
       "      <td>1</td>\n",
       "      <td>0</td>\n",
       "      <td>0</td>\n",
       "    </tr>\n",
       "  </tbody>\n",
       "</table>\n",
       "<p>3907 rows × 25 columns</p>\n",
       "</div>"
      ],
      "text/plain": [
       "                     input  main_ID  text  textLanguage  createTimeISO  \\\n",
       "hashtag_name                                                             \n",
       "fyp                    357      357   357           357            357   \n",
       "fürdich                182      182   182           182            182   \n",
       "foryou                 153      153   153           153            153   \n",
       "fy                     129      129   129           129            129   \n",
       "viral                  108      108   108           108            108   \n",
       "...                    ...      ...   ...           ...            ...   \n",
       "haarverdichtung          1        1     1             1              1   \n",
       "haarverlängerung         1        1     1             1              1   \n",
       "haarvlog                 1        1     1             1              1   \n",
       "haarwachstumsmittel      1        1     1             1              1   \n",
       "ドイツ語                     1        1     1             1              1   \n",
       "\n",
       "                     diggCount  shareCount  playCount  collectCount  \\\n",
       "hashtag_name                                                          \n",
       "fyp                        357         357        357           357   \n",
       "fürdich                    182         182        182           182   \n",
       "foryou                     153         153        153           153   \n",
       "fy                         129         129        129           129   \n",
       "viral                      108         108        108           108   \n",
       "...                        ...         ...        ...           ...   \n",
       "haarverdichtung              1           1          1             1   \n",
       "haarverlängerung             1           1          1             1   \n",
       "haarvlog                     1           1          1             1   \n",
       "haarwachstumsmittel          1           1          1             1   \n",
       "ドイツ語                         1           1          1             1   \n",
       "\n",
       "                     commentCount  ...  fromProfileSection  isAd  \\\n",
       "hashtag_name                       ...                             \n",
       "fyp                           357  ...                 357   235   \n",
       "fürdich                       182  ...                 182   119   \n",
       "foryou                        153  ...                 153    77   \n",
       "fy                            129  ...                 129    70   \n",
       "viral                         108  ...                 108    32   \n",
       "...                           ...  ...                 ...   ...   \n",
       "haarverdichtung                 1  ...                   1     0   \n",
       "haarverlängerung                1  ...                   1     0   \n",
       "haarvlog                        1  ...                   1     0   \n",
       "haarwachstumsmittel             1  ...                   1     0   \n",
       "ドイツ語                            1  ...                   1     1   \n",
       "\n",
       "                     authorMeta_nickName  authorMeta_following  \\\n",
       "hashtag_name                                                     \n",
       "fyp                                  357                   357   \n",
       "fürdich                              182                   182   \n",
       "foryou                               153                   153   \n",
       "fy                                   129                   129   \n",
       "viral                                108                   108   \n",
       "...                                  ...                   ...   \n",
       "haarverdichtung                        1                     1   \n",
       "haarverlängerung                       1                     1   \n",
       "haarvlog                               1                     1   \n",
       "haarwachstumsmittel                    1                     1   \n",
       "ドイツ語                                   1                     1   \n",
       "\n",
       "                     authorMeta_friends  authorMeta_privateAccount  \\\n",
       "hashtag_name                                                         \n",
       "fyp                                 357                        357   \n",
       "fürdich                             182                        182   \n",
       "foryou                              153                        153   \n",
       "fy                                  129                        129   \n",
       "viral                               108                        108   \n",
       "...                                 ...                        ...   \n",
       "haarverdichtung                       1                          1   \n",
       "haarverlängerung                      1                          1   \n",
       "haarvlog                              1                          1   \n",
       "haarwachstumsmittel                   1                          1   \n",
       "ドイツ語                                  1                          1   \n",
       "\n",
       "                     authorMeta_friends_1  authorMeta_region  \\\n",
       "hashtag_name                                                   \n",
       "fyp                                   357                357   \n",
       "fürdich                               182                182   \n",
       "foryou                                153                153   \n",
       "fy                                    129                129   \n",
       "viral                                 108                108   \n",
       "...                                   ...                ...   \n",
       "haarverdichtung                         1                  1   \n",
       "haarverlängerung                        1                  1   \n",
       "haarvlog                                1                  1   \n",
       "haarwachstumsmittel                     1                  1   \n",
       "ドイツ語                                    1                  1   \n",
       "\n",
       "                     location_cityCode  location_countryCode  \n",
       "hashtag_name                                                  \n",
       "fyp                                 59                    59  \n",
       "fürdich                             34                    34  \n",
       "foryou                               7                     7  \n",
       "fy                                  32                    32  \n",
       "viral                                0                     0  \n",
       "...                                ...                   ...  \n",
       "haarverdichtung                      0                     0  \n",
       "haarverlängerung                     0                     0  \n",
       "haarvlog                             1                     1  \n",
       "haarwachstumsmittel                  0                     0  \n",
       "ドイツ語                                 0                     0  \n",
       "\n",
       "[3907 rows x 25 columns]"
      ]
     },
     "execution_count": 14,
     "metadata": {},
     "output_type": "execute_result"
    }
   ],
   "source": [
    "#How many posts are not sponsered \n",
    "df_not_sponsered=df[df['isSponsored']==0]\n",
    "df_not_sponsered.groupby('hashtag_name').count().sort_values(by='main_ID', ascending=False)"
   ]
  },
  {
   "cell_type": "code",
   "execution_count": 15,
   "metadata": {},
   "outputs": [
    {
     "data": {
      "application/vnd.plotly.v1+json": {
       "config": {
        "plotlyServerURL": "https://plot.ly"
       },
       "data": [
        {
         "hovertemplate": "Hashtag=%{x}<br>Count=%{text}<extra></extra>",
         "legendgroup": "Other",
         "marker": {
          "color": "#636efa",
          "pattern": {
           "shape": ""
          }
         },
         "name": "Other",
         "orientation": "v",
         "showlegend": true,
         "text": {
          "bdata": "AAAAAIAfwkA=",
          "dtype": "f8"
         },
         "textposition": "outside",
         "type": "bar",
         "x": [
          "Other"
         ],
         "xaxis": "x",
         "y": {
          "bdata": "PyQ=",
          "dtype": "i2"
         },
         "yaxis": "y"
        },
        {
         "hovertemplate": "Hashtag=%{x}<br>Count=%{text}<extra></extra>",
         "legendgroup": "arzt",
         "marker": {
          "color": "#EF553B",
          "pattern": {
           "shape": ""
          }
         },
         "name": "arzt",
         "orientation": "v",
         "showlegend": true,
         "text": {
          "bdata": "AAAAAACARUA=",
          "dtype": "f8"
         },
         "textposition": "outside",
         "type": "bar",
         "x": [
          "arzt"
         ],
         "xaxis": "x",
         "y": {
          "bdata": "Kw==",
          "dtype": "i1"
         },
         "yaxis": "y"
        },
        {
         "hovertemplate": "Hashtag=%{x}<br>Count=%{text}<extra></extra>",
         "legendgroup": "drogerie",
         "marker": {
          "color": "#00cc96",
          "pattern": {
           "shape": ""
          }
         },
         "name": "drogerie",
         "orientation": "v",
         "showlegend": true,
         "text": {
          "bdata": "AAAAAAAAT0A=",
          "dtype": "f8"
         },
         "textposition": "outside",
         "type": "bar",
         "x": [
          "drogerie"
         ],
         "xaxis": "x",
         "y": {
          "bdata": "Pg==",
          "dtype": "i1"
         },
         "yaxis": "y"
        },
        {
         "hovertemplate": "Hashtag=%{x}<br>Count=%{text}<extra></extra>",
         "legendgroup": "drogerieneuheiten",
         "marker": {
          "color": "#ab63fa",
          "pattern": {
           "shape": ""
          }
         },
         "name": "drogerieneuheiten",
         "orientation": "v",
         "showlegend": true,
         "text": {
          "bdata": "AAAAAAAASEA=",
          "dtype": "f8"
         },
         "textposition": "outside",
         "type": "bar",
         "x": [
          "drogerieneuheiten"
         ],
         "xaxis": "x",
         "y": {
          "bdata": "MA==",
          "dtype": "i1"
         },
         "yaxis": "y"
        },
        {
         "hovertemplate": "Hashtag=%{x}<br>Count=%{text}<extra></extra>",
         "legendgroup": "drogerieprodukte",
         "marker": {
          "color": "#FFA15A",
          "pattern": {
           "shape": ""
          }
         },
         "name": "drogerieprodukte",
         "orientation": "v",
         "showlegend": true,
         "text": {
          "bdata": "AAAAAACAREA=",
          "dtype": "f8"
         },
         "textposition": "outside",
         "type": "bar",
         "x": [
          "drogerieprodukte"
         ],
         "xaxis": "x",
         "y": {
          "bdata": "KQ==",
          "dtype": "i1"
         },
         "yaxis": "y"
        },
        {
         "hovertemplate": "Hashtag=%{x}<br>Count=%{text}<extra></extra>",
         "legendgroup": "foryou",
         "marker": {
          "color": "#19d3f3",
          "pattern": {
           "shape": ""
          }
         },
         "name": "foryou",
         "orientation": "v",
         "showlegend": true,
         "text": {
          "bdata": "AAAAAAAgY0A=",
          "dtype": "f8"
         },
         "textposition": "outside",
         "type": "bar",
         "x": [
          "foryou"
         ],
         "xaxis": "x",
         "y": {
          "bdata": "mQA=",
          "dtype": "i2"
         },
         "yaxis": "y"
        },
        {
         "hovertemplate": "Hashtag=%{x}<br>Count=%{text}<extra></extra>",
         "legendgroup": "foryoupage",
         "marker": {
          "color": "#FF6692",
          "pattern": {
           "shape": ""
          }
         },
         "name": "foryoupage",
         "orientation": "v",
         "showlegend": true,
         "text": {
          "bdata": "AAAAAABAUkA=",
          "dtype": "f8"
         },
         "textposition": "outside",
         "type": "bar",
         "x": [
          "foryoupage"
         ],
         "xaxis": "x",
         "y": {
          "bdata": "SQ==",
          "dtype": "i1"
         },
         "yaxis": "y"
        },
        {
         "hovertemplate": "Hashtag=%{x}<br>Count=%{text}<extra></extra>",
         "legendgroup": "fy",
         "marker": {
          "color": "#B6E880",
          "pattern": {
           "shape": ""
          }
         },
         "name": "fy",
         "orientation": "v",
         "showlegend": true,
         "text": {
          "bdata": "AAAAAAAgYEA=",
          "dtype": "f8"
         },
         "textposition": "outside",
         "type": "bar",
         "x": [
          "fy"
         ],
         "xaxis": "x",
         "y": {
          "bdata": "gQA=",
          "dtype": "i2"
         },
         "yaxis": "y"
        },
        {
         "hovertemplate": "Hashtag=%{x}<br>Count=%{text}<extra></extra>",
         "legendgroup": "fyp",
         "marker": {
          "color": "#FF97FF",
          "pattern": {
           "shape": ""
          }
         },
         "name": "fyp",
         "orientation": "v",
         "showlegend": true,
         "text": {
          "bdata": "AAAAAABQdkA=",
          "dtype": "f8"
         },
         "textposition": "outside",
         "type": "bar",
         "x": [
          "fyp"
         ],
         "xaxis": "x",
         "y": {
          "bdata": "ZQE=",
          "dtype": "i2"
         },
         "yaxis": "y"
        },
        {
         "hovertemplate": "Hashtag=%{x}<br>Count=%{text}<extra></extra>",
         "legendgroup": "fürdich",
         "marker": {
          "color": "#FECB52",
          "pattern": {
           "shape": ""
          }
         },
         "name": "fürdich",
         "orientation": "v",
         "showlegend": true,
         "text": {
          "bdata": "AAAAAADAZkA=",
          "dtype": "f8"
         },
         "textposition": "outside",
         "type": "bar",
         "x": [
          "fürdich"
         ],
         "xaxis": "x",
         "y": {
          "bdata": "tgA=",
          "dtype": "i2"
         },
         "yaxis": "y"
        },
        {
         "hovertemplate": "Hashtag=%{x}<br>Count=%{text}<extra></extra>",
         "legendgroup": "girlssupportgirls",
         "marker": {
          "color": "#636efa",
          "pattern": {
           "shape": ""
          }
         },
         "name": "girlssupportgirls",
         "orientation": "v",
         "showlegend": true,
         "text": {
          "bdata": "AAAAAAAASEA=",
          "dtype": "f8"
         },
         "textposition": "outside",
         "type": "bar",
         "x": [
          "girlssupportgirls"
         ],
         "xaxis": "x",
         "y": {
          "bdata": "MA==",
          "dtype": "i1"
         },
         "yaxis": "y"
        },
        {
         "hovertemplate": "Hashtag=%{x}<br>Count=%{text}<extra></extra>",
         "legendgroup": "haarpflege",
         "marker": {
          "color": "#EF553B",
          "pattern": {
           "shape": ""
          }
         },
         "name": "haarpflege",
         "orientation": "v",
         "showlegend": true,
         "text": {
          "bdata": "AAAAAACAU0A=",
          "dtype": "f8"
         },
         "textposition": "outside",
         "type": "bar",
         "x": [
          "haarpflege"
         ],
         "xaxis": "x",
         "y": {
          "bdata": "Tg==",
          "dtype": "i1"
         },
         "yaxis": "y"
        },
        {
         "hovertemplate": "Hashtag=%{x}<br>Count=%{text}<extra></extra>",
         "legendgroup": "haarpflegetipps",
         "marker": {
          "color": "#00cc96",
          "pattern": {
           "shape": ""
          }
         },
         "name": "haarpflegetipps",
         "orientation": "v",
         "showlegend": true,
         "text": {
          "bdata": "AAAAAAAARkA=",
          "dtype": "f8"
         },
         "textposition": "outside",
         "type": "bar",
         "x": [
          "haarpflegetipps"
         ],
         "xaxis": "x",
         "y": {
          "bdata": "LA==",
          "dtype": "i1"
         },
         "yaxis": "y"
        },
        {
         "hovertemplate": "Hashtag=%{x}<br>Count=%{text}<extra></extra>",
         "legendgroup": "hair",
         "marker": {
          "color": "#ab63fa",
          "pattern": {
           "shape": ""
          }
         },
         "name": "hair",
         "orientation": "v",
         "showlegend": true,
         "text": {
          "bdata": "AAAAAACASUA=",
          "dtype": "f8"
         },
         "textposition": "outside",
         "type": "bar",
         "x": [
          "hair"
         ],
         "xaxis": "x",
         "y": {
          "bdata": "Mw==",
          "dtype": "i1"
         },
         "yaxis": "y"
        },
        {
         "hovertemplate": "Hashtag=%{x}<br>Count=%{text}<extra></extra>",
         "legendgroup": "hautpflege",
         "marker": {
          "color": "#FFA15A",
          "pattern": {
           "shape": ""
          }
         },
         "name": "hautpflege",
         "orientation": "v",
         "showlegend": true,
         "text": {
          "bdata": "AAAAAABAVEA=",
          "dtype": "f8"
         },
         "textposition": "outside",
         "type": "bar",
         "x": [
          "hautpflege"
         ],
         "xaxis": "x",
         "y": {
          "bdata": "UQ==",
          "dtype": "i1"
         },
         "yaxis": "y"
        },
        {
         "hovertemplate": "Hashtag=%{x}<br>Count=%{text}<extra></extra>",
         "legendgroup": "makeup",
         "marker": {
          "color": "#19d3f3",
          "pattern": {
           "shape": ""
          }
         },
         "name": "makeup",
         "orientation": "v",
         "showlegend": true,
         "text": {
          "bdata": "AAAAAADAUkA=",
          "dtype": "f8"
         },
         "textposition": "outside",
         "type": "bar",
         "x": [
          "makeup"
         ],
         "xaxis": "x",
         "y": {
          "bdata": "Sw==",
          "dtype": "i1"
         },
         "yaxis": "y"
        },
        {
         "hovertemplate": "Hashtag=%{x}<br>Count=%{text}<extra></extra>",
         "legendgroup": "medizin",
         "marker": {
          "color": "#FF6692",
          "pattern": {
           "shape": ""
          }
         },
         "name": "medizin",
         "orientation": "v",
         "showlegend": true,
         "text": {
          "bdata": "AAAAAACASEA=",
          "dtype": "f8"
         },
         "textposition": "outside",
         "type": "bar",
         "x": [
          "medizin"
         ],
         "xaxis": "x",
         "y": {
          "bdata": "MQ==",
          "dtype": "i1"
         },
         "yaxis": "y"
        },
        {
         "hovertemplate": "Hashtag=%{x}<br>Count=%{text}<extra></extra>",
         "legendgroup": "schwanger",
         "marker": {
          "color": "#B6E880",
          "pattern": {
           "shape": ""
          }
         },
         "name": "schwanger",
         "orientation": "v",
         "showlegend": true,
         "text": {
          "bdata": "AAAAAACARUA=",
          "dtype": "f8"
         },
         "textposition": "outside",
         "type": "bar",
         "x": [
          "schwanger"
         ],
         "xaxis": "x",
         "y": {
          "bdata": "Kw==",
          "dtype": "i1"
         },
         "yaxis": "y"
        },
        {
         "hovertemplate": "Hashtag=%{x}<br>Count=%{text}<extra></extra>",
         "legendgroup": "skincare",
         "marker": {
          "color": "#FF97FF",
          "pattern": {
           "shape": ""
          }
         },
         "name": "skincare",
         "orientation": "v",
         "showlegend": true,
         "text": {
          "bdata": "AAAAAABAV0A=",
          "dtype": "f8"
         },
         "textposition": "outside",
         "type": "bar",
         "x": [
          "skincare"
         ],
         "xaxis": "x",
         "y": {
          "bdata": "XQ==",
          "dtype": "i1"
         },
         "yaxis": "y"
        },
        {
         "hovertemplate": "Hashtag=%{x}<br>Count=%{text}<extra></extra>",
         "legendgroup": "spreadlove",
         "marker": {
          "color": "#FECB52",
          "pattern": {
           "shape": ""
          }
         },
         "name": "spreadlove",
         "orientation": "v",
         "showlegend": true,
         "text": {
          "bdata": "AAAAAAAASEA=",
          "dtype": "f8"
         },
         "textposition": "outside",
         "type": "bar",
         "x": [
          "spreadlove"
         ],
         "xaxis": "x",
         "y": {
          "bdata": "MA==",
          "dtype": "i1"
         },
         "yaxis": "y"
        },
        {
         "hovertemplate": "Hashtag=%{x}<br>Count=%{text}<extra></extra>",
         "legendgroup": "trend",
         "marker": {
          "color": "#636efa",
          "pattern": {
           "shape": ""
          }
         },
         "name": "trend",
         "orientation": "v",
         "showlegend": true,
         "text": {
          "bdata": "AAAAAACASUA=",
          "dtype": "f8"
         },
         "textposition": "outside",
         "type": "bar",
         "x": [
          "trend"
         ],
         "xaxis": "x",
         "y": {
          "bdata": "Mw==",
          "dtype": "i1"
         },
         "yaxis": "y"
        },
        {
         "hovertemplate": "Hashtag=%{x}<br>Count=%{text}<extra></extra>",
         "legendgroup": "viral",
         "marker": {
          "color": "#EF553B",
          "pattern": {
           "shape": ""
          }
         },
         "name": "viral",
         "orientation": "v",
         "showlegend": true,
         "text": {
          "bdata": "AAAAAAAAW0A=",
          "dtype": "f8"
         },
         "textposition": "outside",
         "type": "bar",
         "x": [
          "viral"
         ],
         "xaxis": "x",
         "y": {
          "bdata": "bA==",
          "dtype": "i1"
         },
         "yaxis": "y"
        },
        {
         "hovertemplate": "Hashtag=%{x}<br>Count=%{text}<extra></extra>",
         "legendgroup": "vlog",
         "marker": {
          "color": "#00cc96",
          "pattern": {
           "shape": ""
          }
         },
         "name": "vlog",
         "orientation": "v",
         "showlegend": true,
         "text": {
          "bdata": "AAAAAACASEA=",
          "dtype": "f8"
         },
         "textposition": "outside",
         "type": "bar",
         "x": [
          "vlog"
         ],
         "xaxis": "x",
         "y": {
          "bdata": "MQ==",
          "dtype": "i1"
         },
         "yaxis": "y"
        }
       ],
       "layout": {
        "barmode": "relative",
        "legend": {
         "title": {
          "text": "Hashtag"
         },
         "tracegroupgap": 0
        },
        "showlegend": false,
        "template": {
         "data": {
          "bar": [
           {
            "error_x": {
             "color": "#2a3f5f"
            },
            "error_y": {
             "color": "#2a3f5f"
            },
            "marker": {
             "line": {
              "color": "#E5ECF6",
              "width": 0.5
             },
             "pattern": {
              "fillmode": "overlay",
              "size": 10,
              "solidity": 0.2
             }
            },
            "type": "bar"
           }
          ],
          "barpolar": [
           {
            "marker": {
             "line": {
              "color": "#E5ECF6",
              "width": 0.5
             },
             "pattern": {
              "fillmode": "overlay",
              "size": 10,
              "solidity": 0.2
             }
            },
            "type": "barpolar"
           }
          ],
          "carpet": [
           {
            "aaxis": {
             "endlinecolor": "#2a3f5f",
             "gridcolor": "white",
             "linecolor": "white",
             "minorgridcolor": "white",
             "startlinecolor": "#2a3f5f"
            },
            "baxis": {
             "endlinecolor": "#2a3f5f",
             "gridcolor": "white",
             "linecolor": "white",
             "minorgridcolor": "white",
             "startlinecolor": "#2a3f5f"
            },
            "type": "carpet"
           }
          ],
          "choropleth": [
           {
            "colorbar": {
             "outlinewidth": 0,
             "ticks": ""
            },
            "type": "choropleth"
           }
          ],
          "contour": [
           {
            "colorbar": {
             "outlinewidth": 0,
             "ticks": ""
            },
            "colorscale": [
             [
              0,
              "#0d0887"
             ],
             [
              0.1111111111111111,
              "#46039f"
             ],
             [
              0.2222222222222222,
              "#7201a8"
             ],
             [
              0.3333333333333333,
              "#9c179e"
             ],
             [
              0.4444444444444444,
              "#bd3786"
             ],
             [
              0.5555555555555556,
              "#d8576b"
             ],
             [
              0.6666666666666666,
              "#ed7953"
             ],
             [
              0.7777777777777778,
              "#fb9f3a"
             ],
             [
              0.8888888888888888,
              "#fdca26"
             ],
             [
              1,
              "#f0f921"
             ]
            ],
            "type": "contour"
           }
          ],
          "contourcarpet": [
           {
            "colorbar": {
             "outlinewidth": 0,
             "ticks": ""
            },
            "type": "contourcarpet"
           }
          ],
          "heatmap": [
           {
            "colorbar": {
             "outlinewidth": 0,
             "ticks": ""
            },
            "colorscale": [
             [
              0,
              "#0d0887"
             ],
             [
              0.1111111111111111,
              "#46039f"
             ],
             [
              0.2222222222222222,
              "#7201a8"
             ],
             [
              0.3333333333333333,
              "#9c179e"
             ],
             [
              0.4444444444444444,
              "#bd3786"
             ],
             [
              0.5555555555555556,
              "#d8576b"
             ],
             [
              0.6666666666666666,
              "#ed7953"
             ],
             [
              0.7777777777777778,
              "#fb9f3a"
             ],
             [
              0.8888888888888888,
              "#fdca26"
             ],
             [
              1,
              "#f0f921"
             ]
            ],
            "type": "heatmap"
           }
          ],
          "histogram": [
           {
            "marker": {
             "pattern": {
              "fillmode": "overlay",
              "size": 10,
              "solidity": 0.2
             }
            },
            "type": "histogram"
           }
          ],
          "histogram2d": [
           {
            "colorbar": {
             "outlinewidth": 0,
             "ticks": ""
            },
            "colorscale": [
             [
              0,
              "#0d0887"
             ],
             [
              0.1111111111111111,
              "#46039f"
             ],
             [
              0.2222222222222222,
              "#7201a8"
             ],
             [
              0.3333333333333333,
              "#9c179e"
             ],
             [
              0.4444444444444444,
              "#bd3786"
             ],
             [
              0.5555555555555556,
              "#d8576b"
             ],
             [
              0.6666666666666666,
              "#ed7953"
             ],
             [
              0.7777777777777778,
              "#fb9f3a"
             ],
             [
              0.8888888888888888,
              "#fdca26"
             ],
             [
              1,
              "#f0f921"
             ]
            ],
            "type": "histogram2d"
           }
          ],
          "histogram2dcontour": [
           {
            "colorbar": {
             "outlinewidth": 0,
             "ticks": ""
            },
            "colorscale": [
             [
              0,
              "#0d0887"
             ],
             [
              0.1111111111111111,
              "#46039f"
             ],
             [
              0.2222222222222222,
              "#7201a8"
             ],
             [
              0.3333333333333333,
              "#9c179e"
             ],
             [
              0.4444444444444444,
              "#bd3786"
             ],
             [
              0.5555555555555556,
              "#d8576b"
             ],
             [
              0.6666666666666666,
              "#ed7953"
             ],
             [
              0.7777777777777778,
              "#fb9f3a"
             ],
             [
              0.8888888888888888,
              "#fdca26"
             ],
             [
              1,
              "#f0f921"
             ]
            ],
            "type": "histogram2dcontour"
           }
          ],
          "mesh3d": [
           {
            "colorbar": {
             "outlinewidth": 0,
             "ticks": ""
            },
            "type": "mesh3d"
           }
          ],
          "parcoords": [
           {
            "line": {
             "colorbar": {
              "outlinewidth": 0,
              "ticks": ""
             }
            },
            "type": "parcoords"
           }
          ],
          "pie": [
           {
            "automargin": true,
            "type": "pie"
           }
          ],
          "scatter": [
           {
            "fillpattern": {
             "fillmode": "overlay",
             "size": 10,
             "solidity": 0.2
            },
            "type": "scatter"
           }
          ],
          "scatter3d": [
           {
            "line": {
             "colorbar": {
              "outlinewidth": 0,
              "ticks": ""
             }
            },
            "marker": {
             "colorbar": {
              "outlinewidth": 0,
              "ticks": ""
             }
            },
            "type": "scatter3d"
           }
          ],
          "scattercarpet": [
           {
            "marker": {
             "colorbar": {
              "outlinewidth": 0,
              "ticks": ""
             }
            },
            "type": "scattercarpet"
           }
          ],
          "scattergeo": [
           {
            "marker": {
             "colorbar": {
              "outlinewidth": 0,
              "ticks": ""
             }
            },
            "type": "scattergeo"
           }
          ],
          "scattergl": [
           {
            "marker": {
             "colorbar": {
              "outlinewidth": 0,
              "ticks": ""
             }
            },
            "type": "scattergl"
           }
          ],
          "scattermap": [
           {
            "marker": {
             "colorbar": {
              "outlinewidth": 0,
              "ticks": ""
             }
            },
            "type": "scattermap"
           }
          ],
          "scattermapbox": [
           {
            "marker": {
             "colorbar": {
              "outlinewidth": 0,
              "ticks": ""
             }
            },
            "type": "scattermapbox"
           }
          ],
          "scatterpolar": [
           {
            "marker": {
             "colorbar": {
              "outlinewidth": 0,
              "ticks": ""
             }
            },
            "type": "scatterpolar"
           }
          ],
          "scatterpolargl": [
           {
            "marker": {
             "colorbar": {
              "outlinewidth": 0,
              "ticks": ""
             }
            },
            "type": "scatterpolargl"
           }
          ],
          "scatterternary": [
           {
            "marker": {
             "colorbar": {
              "outlinewidth": 0,
              "ticks": ""
             }
            },
            "type": "scatterternary"
           }
          ],
          "surface": [
           {
            "colorbar": {
             "outlinewidth": 0,
             "ticks": ""
            },
            "colorscale": [
             [
              0,
              "#0d0887"
             ],
             [
              0.1111111111111111,
              "#46039f"
             ],
             [
              0.2222222222222222,
              "#7201a8"
             ],
             [
              0.3333333333333333,
              "#9c179e"
             ],
             [
              0.4444444444444444,
              "#bd3786"
             ],
             [
              0.5555555555555556,
              "#d8576b"
             ],
             [
              0.6666666666666666,
              "#ed7953"
             ],
             [
              0.7777777777777778,
              "#fb9f3a"
             ],
             [
              0.8888888888888888,
              "#fdca26"
             ],
             [
              1,
              "#f0f921"
             ]
            ],
            "type": "surface"
           }
          ],
          "table": [
           {
            "cells": {
             "fill": {
              "color": "#EBF0F8"
             },
             "line": {
              "color": "white"
             }
            },
            "header": {
             "fill": {
              "color": "#C8D4E3"
             },
             "line": {
              "color": "white"
             }
            },
            "type": "table"
           }
          ]
         },
         "layout": {
          "annotationdefaults": {
           "arrowcolor": "#2a3f5f",
           "arrowhead": 0,
           "arrowwidth": 1
          },
          "autotypenumbers": "strict",
          "coloraxis": {
           "colorbar": {
            "outlinewidth": 0,
            "ticks": ""
           }
          },
          "colorscale": {
           "diverging": [
            [
             0,
             "#8e0152"
            ],
            [
             0.1,
             "#c51b7d"
            ],
            [
             0.2,
             "#de77ae"
            ],
            [
             0.3,
             "#f1b6da"
            ],
            [
             0.4,
             "#fde0ef"
            ],
            [
             0.5,
             "#f7f7f7"
            ],
            [
             0.6,
             "#e6f5d0"
            ],
            [
             0.7,
             "#b8e186"
            ],
            [
             0.8,
             "#7fbc41"
            ],
            [
             0.9,
             "#4d9221"
            ],
            [
             1,
             "#276419"
            ]
           ],
           "sequential": [
            [
             0,
             "#0d0887"
            ],
            [
             0.1111111111111111,
             "#46039f"
            ],
            [
             0.2222222222222222,
             "#7201a8"
            ],
            [
             0.3333333333333333,
             "#9c179e"
            ],
            [
             0.4444444444444444,
             "#bd3786"
            ],
            [
             0.5555555555555556,
             "#d8576b"
            ],
            [
             0.6666666666666666,
             "#ed7953"
            ],
            [
             0.7777777777777778,
             "#fb9f3a"
            ],
            [
             0.8888888888888888,
             "#fdca26"
            ],
            [
             1,
             "#f0f921"
            ]
           ],
           "sequentialminus": [
            [
             0,
             "#0d0887"
            ],
            [
             0.1111111111111111,
             "#46039f"
            ],
            [
             0.2222222222222222,
             "#7201a8"
            ],
            [
             0.3333333333333333,
             "#9c179e"
            ],
            [
             0.4444444444444444,
             "#bd3786"
            ],
            [
             0.5555555555555556,
             "#d8576b"
            ],
            [
             0.6666666666666666,
             "#ed7953"
            ],
            [
             0.7777777777777778,
             "#fb9f3a"
            ],
            [
             0.8888888888888888,
             "#fdca26"
            ],
            [
             1,
             "#f0f921"
            ]
           ]
          },
          "colorway": [
           "#636efa",
           "#EF553B",
           "#00cc96",
           "#ab63fa",
           "#FFA15A",
           "#19d3f3",
           "#FF6692",
           "#B6E880",
           "#FF97FF",
           "#FECB52"
          ],
          "font": {
           "color": "#2a3f5f"
          },
          "geo": {
           "bgcolor": "white",
           "lakecolor": "white",
           "landcolor": "#E5ECF6",
           "showlakes": true,
           "showland": true,
           "subunitcolor": "white"
          },
          "hoverlabel": {
           "align": "left"
          },
          "hovermode": "closest",
          "mapbox": {
           "style": "light"
          },
          "paper_bgcolor": "white",
          "plot_bgcolor": "#E5ECF6",
          "polar": {
           "angularaxis": {
            "gridcolor": "white",
            "linecolor": "white",
            "ticks": ""
           },
           "bgcolor": "#E5ECF6",
           "radialaxis": {
            "gridcolor": "white",
            "linecolor": "white",
            "ticks": ""
           }
          },
          "scene": {
           "xaxis": {
            "backgroundcolor": "#E5ECF6",
            "gridcolor": "white",
            "gridwidth": 2,
            "linecolor": "white",
            "showbackground": true,
            "ticks": "",
            "zerolinecolor": "white"
           },
           "yaxis": {
            "backgroundcolor": "#E5ECF6",
            "gridcolor": "white",
            "gridwidth": 2,
            "linecolor": "white",
            "showbackground": true,
            "ticks": "",
            "zerolinecolor": "white"
           },
           "zaxis": {
            "backgroundcolor": "#E5ECF6",
            "gridcolor": "white",
            "gridwidth": 2,
            "linecolor": "white",
            "showbackground": true,
            "ticks": "",
            "zerolinecolor": "white"
           }
          },
          "shapedefaults": {
           "line": {
            "color": "#2a3f5f"
           }
          },
          "ternary": {
           "aaxis": {
            "gridcolor": "white",
            "linecolor": "white",
            "ticks": ""
           },
           "baxis": {
            "gridcolor": "white",
            "linecolor": "white",
            "ticks": ""
           },
           "bgcolor": "#E5ECF6",
           "caxis": {
            "gridcolor": "white",
            "linecolor": "white",
            "ticks": ""
           }
          },
          "title": {
           "x": 0.05
          },
          "xaxis": {
           "automargin": true,
           "gridcolor": "white",
           "linecolor": "white",
           "ticks": "",
           "title": {
            "standoff": 15
           },
           "zerolinecolor": "white",
           "zerolinewidth": 2
          },
          "yaxis": {
           "automargin": true,
           "gridcolor": "white",
           "linecolor": "white",
           "ticks": "",
           "title": {
            "standoff": 15
           },
           "zerolinecolor": "white",
           "zerolinewidth": 2
          }
         }
        },
        "title": {
         "text": "Hashtag Distribution for isSponsered = 0"
        },
        "xaxis": {
         "anchor": "y",
         "categoryarray": [
          "Other",
          "arzt",
          "drogerie",
          "drogerieneuheiten",
          "drogerieprodukte",
          "foryou",
          "foryoupage",
          "fy",
          "fyp",
          "fürdich",
          "girlssupportgirls",
          "haarpflege",
          "haarpflegetipps",
          "hair",
          "hautpflege",
          "makeup",
          "medizin",
          "schwanger",
          "skincare",
          "spreadlove",
          "trend",
          "viral",
          "vlog"
         ],
         "categoryorder": "array",
         "domain": [
          0,
          1
         ],
         "title": {
          "text": "Hashtag"
         }
        },
        "yaxis": {
         "anchor": "x",
         "domain": [
          0,
          1
         ],
         "title": {
          "text": "Number of Posts"
         }
        }
       }
      }
     },
     "metadata": {},
     "output_type": "display_data"
    },
    {
     "data": {
      "application/vnd.plotly.v1+json": {
       "config": {
        "plotlyServerURL": "https://plot.ly"
       },
       "data": [
        {
         "hovertemplate": "Hashtag=%{x}<br>Count=%{text}<extra></extra>",
         "legendgroup": "Other",
         "marker": {
          "color": "#636efa",
          "pattern": {
           "shape": ""
          }
         },
         "name": "Other",
         "orientation": "v",
         "showlegend": true,
         "text": {
          "bdata": "AAAAAACAYEA=",
          "dtype": "f8"
         },
         "textposition": "outside",
         "type": "bar",
         "x": [
          "Other"
         ],
         "xaxis": "x",
         "y": {
          "bdata": "hAA=",
          "dtype": "i2"
         },
         "yaxis": "y"
        },
        {
         "hovertemplate": "Hashtag=%{x}<br>Count=%{text}<extra></extra>",
         "legendgroup": "ad",
         "marker": {
          "color": "#EF553B",
          "pattern": {
           "shape": ""
          }
         },
         "name": "ad",
         "orientation": "v",
         "showlegend": true,
         "text": {
          "bdata": "AAAAAAAAJkA=",
          "dtype": "f8"
         },
         "textposition": "outside",
         "type": "bar",
         "x": [
          "ad"
         ],
         "xaxis": "x",
         "y": {
          "bdata": "Cw==",
          "dtype": "i1"
         },
         "yaxis": "y"
        },
        {
         "hovertemplate": "Hashtag=%{x}<br>Count=%{text}<extra></extra>",
         "legendgroup": "fyp",
         "marker": {
          "color": "#00cc96",
          "pattern": {
           "shape": ""
          }
         },
         "name": "fyp",
         "orientation": "v",
         "showlegend": true,
         "text": {
          "bdata": "AAAAAAAAEEA=",
          "dtype": "f8"
         },
         "textposition": "outside",
         "type": "bar",
         "x": [
          "fyp"
         ],
         "xaxis": "x",
         "y": {
          "bdata": "BA==",
          "dtype": "i1"
         },
         "yaxis": "y"
        },
        {
         "hovertemplate": "Hashtag=%{x}<br>Count=%{text}<extra></extra>",
         "legendgroup": "sheglam",
         "marker": {
          "color": "#ab63fa",
          "pattern": {
           "shape": ""
          }
         },
         "name": "sheglam",
         "orientation": "v",
         "showlegend": true,
         "text": {
          "bdata": "AAAAAAAAGEA=",
          "dtype": "f8"
         },
         "textposition": "outside",
         "type": "bar",
         "x": [
          "sheglam"
         ],
         "xaxis": "x",
         "y": {
          "bdata": "Bg==",
          "dtype": "i1"
         },
         "yaxis": "y"
        },
        {
         "hovertemplate": "Hashtag=%{x}<br>Count=%{text}<extra></extra>",
         "legendgroup": "skincare",
         "marker": {
          "color": "#FFA15A",
          "pattern": {
           "shape": ""
          }
         },
         "name": "skincare",
         "orientation": "v",
         "showlegend": true,
         "text": {
          "bdata": "AAAAAAAAHEA=",
          "dtype": "f8"
         },
         "textposition": "outside",
         "type": "bar",
         "x": [
          "skincare"
         ],
         "xaxis": "x",
         "y": {
          "bdata": "Bw==",
          "dtype": "i1"
         },
         "yaxis": "y"
        }
       ],
       "layout": {
        "barmode": "relative",
        "legend": {
         "title": {
          "text": "Hashtag"
         },
         "tracegroupgap": 0
        },
        "showlegend": false,
        "template": {
         "data": {
          "bar": [
           {
            "error_x": {
             "color": "#2a3f5f"
            },
            "error_y": {
             "color": "#2a3f5f"
            },
            "marker": {
             "line": {
              "color": "#E5ECF6",
              "width": 0.5
             },
             "pattern": {
              "fillmode": "overlay",
              "size": 10,
              "solidity": 0.2
             }
            },
            "type": "bar"
           }
          ],
          "barpolar": [
           {
            "marker": {
             "line": {
              "color": "#E5ECF6",
              "width": 0.5
             },
             "pattern": {
              "fillmode": "overlay",
              "size": 10,
              "solidity": 0.2
             }
            },
            "type": "barpolar"
           }
          ],
          "carpet": [
           {
            "aaxis": {
             "endlinecolor": "#2a3f5f",
             "gridcolor": "white",
             "linecolor": "white",
             "minorgridcolor": "white",
             "startlinecolor": "#2a3f5f"
            },
            "baxis": {
             "endlinecolor": "#2a3f5f",
             "gridcolor": "white",
             "linecolor": "white",
             "minorgridcolor": "white",
             "startlinecolor": "#2a3f5f"
            },
            "type": "carpet"
           }
          ],
          "choropleth": [
           {
            "colorbar": {
             "outlinewidth": 0,
             "ticks": ""
            },
            "type": "choropleth"
           }
          ],
          "contour": [
           {
            "colorbar": {
             "outlinewidth": 0,
             "ticks": ""
            },
            "colorscale": [
             [
              0,
              "#0d0887"
             ],
             [
              0.1111111111111111,
              "#46039f"
             ],
             [
              0.2222222222222222,
              "#7201a8"
             ],
             [
              0.3333333333333333,
              "#9c179e"
             ],
             [
              0.4444444444444444,
              "#bd3786"
             ],
             [
              0.5555555555555556,
              "#d8576b"
             ],
             [
              0.6666666666666666,
              "#ed7953"
             ],
             [
              0.7777777777777778,
              "#fb9f3a"
             ],
             [
              0.8888888888888888,
              "#fdca26"
             ],
             [
              1,
              "#f0f921"
             ]
            ],
            "type": "contour"
           }
          ],
          "contourcarpet": [
           {
            "colorbar": {
             "outlinewidth": 0,
             "ticks": ""
            },
            "type": "contourcarpet"
           }
          ],
          "heatmap": [
           {
            "colorbar": {
             "outlinewidth": 0,
             "ticks": ""
            },
            "colorscale": [
             [
              0,
              "#0d0887"
             ],
             [
              0.1111111111111111,
              "#46039f"
             ],
             [
              0.2222222222222222,
              "#7201a8"
             ],
             [
              0.3333333333333333,
              "#9c179e"
             ],
             [
              0.4444444444444444,
              "#bd3786"
             ],
             [
              0.5555555555555556,
              "#d8576b"
             ],
             [
              0.6666666666666666,
              "#ed7953"
             ],
             [
              0.7777777777777778,
              "#fb9f3a"
             ],
             [
              0.8888888888888888,
              "#fdca26"
             ],
             [
              1,
              "#f0f921"
             ]
            ],
            "type": "heatmap"
           }
          ],
          "histogram": [
           {
            "marker": {
             "pattern": {
              "fillmode": "overlay",
              "size": 10,
              "solidity": 0.2
             }
            },
            "type": "histogram"
           }
          ],
          "histogram2d": [
           {
            "colorbar": {
             "outlinewidth": 0,
             "ticks": ""
            },
            "colorscale": [
             [
              0,
              "#0d0887"
             ],
             [
              0.1111111111111111,
              "#46039f"
             ],
             [
              0.2222222222222222,
              "#7201a8"
             ],
             [
              0.3333333333333333,
              "#9c179e"
             ],
             [
              0.4444444444444444,
              "#bd3786"
             ],
             [
              0.5555555555555556,
              "#d8576b"
             ],
             [
              0.6666666666666666,
              "#ed7953"
             ],
             [
              0.7777777777777778,
              "#fb9f3a"
             ],
             [
              0.8888888888888888,
              "#fdca26"
             ],
             [
              1,
              "#f0f921"
             ]
            ],
            "type": "histogram2d"
           }
          ],
          "histogram2dcontour": [
           {
            "colorbar": {
             "outlinewidth": 0,
             "ticks": ""
            },
            "colorscale": [
             [
              0,
              "#0d0887"
             ],
             [
              0.1111111111111111,
              "#46039f"
             ],
             [
              0.2222222222222222,
              "#7201a8"
             ],
             [
              0.3333333333333333,
              "#9c179e"
             ],
             [
              0.4444444444444444,
              "#bd3786"
             ],
             [
              0.5555555555555556,
              "#d8576b"
             ],
             [
              0.6666666666666666,
              "#ed7953"
             ],
             [
              0.7777777777777778,
              "#fb9f3a"
             ],
             [
              0.8888888888888888,
              "#fdca26"
             ],
             [
              1,
              "#f0f921"
             ]
            ],
            "type": "histogram2dcontour"
           }
          ],
          "mesh3d": [
           {
            "colorbar": {
             "outlinewidth": 0,
             "ticks": ""
            },
            "type": "mesh3d"
           }
          ],
          "parcoords": [
           {
            "line": {
             "colorbar": {
              "outlinewidth": 0,
              "ticks": ""
             }
            },
            "type": "parcoords"
           }
          ],
          "pie": [
           {
            "automargin": true,
            "type": "pie"
           }
          ],
          "scatter": [
           {
            "fillpattern": {
             "fillmode": "overlay",
             "size": 10,
             "solidity": 0.2
            },
            "type": "scatter"
           }
          ],
          "scatter3d": [
           {
            "line": {
             "colorbar": {
              "outlinewidth": 0,
              "ticks": ""
             }
            },
            "marker": {
             "colorbar": {
              "outlinewidth": 0,
              "ticks": ""
             }
            },
            "type": "scatter3d"
           }
          ],
          "scattercarpet": [
           {
            "marker": {
             "colorbar": {
              "outlinewidth": 0,
              "ticks": ""
             }
            },
            "type": "scattercarpet"
           }
          ],
          "scattergeo": [
           {
            "marker": {
             "colorbar": {
              "outlinewidth": 0,
              "ticks": ""
             }
            },
            "type": "scattergeo"
           }
          ],
          "scattergl": [
           {
            "marker": {
             "colorbar": {
              "outlinewidth": 0,
              "ticks": ""
             }
            },
            "type": "scattergl"
           }
          ],
          "scattermap": [
           {
            "marker": {
             "colorbar": {
              "outlinewidth": 0,
              "ticks": ""
             }
            },
            "type": "scattermap"
           }
          ],
          "scattermapbox": [
           {
            "marker": {
             "colorbar": {
              "outlinewidth": 0,
              "ticks": ""
             }
            },
            "type": "scattermapbox"
           }
          ],
          "scatterpolar": [
           {
            "marker": {
             "colorbar": {
              "outlinewidth": 0,
              "ticks": ""
             }
            },
            "type": "scatterpolar"
           }
          ],
          "scatterpolargl": [
           {
            "marker": {
             "colorbar": {
              "outlinewidth": 0,
              "ticks": ""
             }
            },
            "type": "scatterpolargl"
           }
          ],
          "scatterternary": [
           {
            "marker": {
             "colorbar": {
              "outlinewidth": 0,
              "ticks": ""
             }
            },
            "type": "scatterternary"
           }
          ],
          "surface": [
           {
            "colorbar": {
             "outlinewidth": 0,
             "ticks": ""
            },
            "colorscale": [
             [
              0,
              "#0d0887"
             ],
             [
              0.1111111111111111,
              "#46039f"
             ],
             [
              0.2222222222222222,
              "#7201a8"
             ],
             [
              0.3333333333333333,
              "#9c179e"
             ],
             [
              0.4444444444444444,
              "#bd3786"
             ],
             [
              0.5555555555555556,
              "#d8576b"
             ],
             [
              0.6666666666666666,
              "#ed7953"
             ],
             [
              0.7777777777777778,
              "#fb9f3a"
             ],
             [
              0.8888888888888888,
              "#fdca26"
             ],
             [
              1,
              "#f0f921"
             ]
            ],
            "type": "surface"
           }
          ],
          "table": [
           {
            "cells": {
             "fill": {
              "color": "#EBF0F8"
             },
             "line": {
              "color": "white"
             }
            },
            "header": {
             "fill": {
              "color": "#C8D4E3"
             },
             "line": {
              "color": "white"
             }
            },
            "type": "table"
           }
          ]
         },
         "layout": {
          "annotationdefaults": {
           "arrowcolor": "#2a3f5f",
           "arrowhead": 0,
           "arrowwidth": 1
          },
          "autotypenumbers": "strict",
          "coloraxis": {
           "colorbar": {
            "outlinewidth": 0,
            "ticks": ""
           }
          },
          "colorscale": {
           "diverging": [
            [
             0,
             "#8e0152"
            ],
            [
             0.1,
             "#c51b7d"
            ],
            [
             0.2,
             "#de77ae"
            ],
            [
             0.3,
             "#f1b6da"
            ],
            [
             0.4,
             "#fde0ef"
            ],
            [
             0.5,
             "#f7f7f7"
            ],
            [
             0.6,
             "#e6f5d0"
            ],
            [
             0.7,
             "#b8e186"
            ],
            [
             0.8,
             "#7fbc41"
            ],
            [
             0.9,
             "#4d9221"
            ],
            [
             1,
             "#276419"
            ]
           ],
           "sequential": [
            [
             0,
             "#0d0887"
            ],
            [
             0.1111111111111111,
             "#46039f"
            ],
            [
             0.2222222222222222,
             "#7201a8"
            ],
            [
             0.3333333333333333,
             "#9c179e"
            ],
            [
             0.4444444444444444,
             "#bd3786"
            ],
            [
             0.5555555555555556,
             "#d8576b"
            ],
            [
             0.6666666666666666,
             "#ed7953"
            ],
            [
             0.7777777777777778,
             "#fb9f3a"
            ],
            [
             0.8888888888888888,
             "#fdca26"
            ],
            [
             1,
             "#f0f921"
            ]
           ],
           "sequentialminus": [
            [
             0,
             "#0d0887"
            ],
            [
             0.1111111111111111,
             "#46039f"
            ],
            [
             0.2222222222222222,
             "#7201a8"
            ],
            [
             0.3333333333333333,
             "#9c179e"
            ],
            [
             0.4444444444444444,
             "#bd3786"
            ],
            [
             0.5555555555555556,
             "#d8576b"
            ],
            [
             0.6666666666666666,
             "#ed7953"
            ],
            [
             0.7777777777777778,
             "#fb9f3a"
            ],
            [
             0.8888888888888888,
             "#fdca26"
            ],
            [
             1,
             "#f0f921"
            ]
           ]
          },
          "colorway": [
           "#636efa",
           "#EF553B",
           "#00cc96",
           "#ab63fa",
           "#FFA15A",
           "#19d3f3",
           "#FF6692",
           "#B6E880",
           "#FF97FF",
           "#FECB52"
          ],
          "font": {
           "color": "#2a3f5f"
          },
          "geo": {
           "bgcolor": "white",
           "lakecolor": "white",
           "landcolor": "#E5ECF6",
           "showlakes": true,
           "showland": true,
           "subunitcolor": "white"
          },
          "hoverlabel": {
           "align": "left"
          },
          "hovermode": "closest",
          "mapbox": {
           "style": "light"
          },
          "paper_bgcolor": "white",
          "plot_bgcolor": "#E5ECF6",
          "polar": {
           "angularaxis": {
            "gridcolor": "white",
            "linecolor": "white",
            "ticks": ""
           },
           "bgcolor": "#E5ECF6",
           "radialaxis": {
            "gridcolor": "white",
            "linecolor": "white",
            "ticks": ""
           }
          },
          "scene": {
           "xaxis": {
            "backgroundcolor": "#E5ECF6",
            "gridcolor": "white",
            "gridwidth": 2,
            "linecolor": "white",
            "showbackground": true,
            "ticks": "",
            "zerolinecolor": "white"
           },
           "yaxis": {
            "backgroundcolor": "#E5ECF6",
            "gridcolor": "white",
            "gridwidth": 2,
            "linecolor": "white",
            "showbackground": true,
            "ticks": "",
            "zerolinecolor": "white"
           },
           "zaxis": {
            "backgroundcolor": "#E5ECF6",
            "gridcolor": "white",
            "gridwidth": 2,
            "linecolor": "white",
            "showbackground": true,
            "ticks": "",
            "zerolinecolor": "white"
           }
          },
          "shapedefaults": {
           "line": {
            "color": "#2a3f5f"
           }
          },
          "ternary": {
           "aaxis": {
            "gridcolor": "white",
            "linecolor": "white",
            "ticks": ""
           },
           "baxis": {
            "gridcolor": "white",
            "linecolor": "white",
            "ticks": ""
           },
           "bgcolor": "#E5ECF6",
           "caxis": {
            "gridcolor": "white",
            "linecolor": "white",
            "ticks": ""
           }
          },
          "title": {
           "x": 0.05
          },
          "xaxis": {
           "automargin": true,
           "gridcolor": "white",
           "linecolor": "white",
           "ticks": "",
           "title": {
            "standoff": 15
           },
           "zerolinecolor": "white",
           "zerolinewidth": 2
          },
          "yaxis": {
           "automargin": true,
           "gridcolor": "white",
           "linecolor": "white",
           "ticks": "",
           "title": {
            "standoff": 15
           },
           "zerolinecolor": "white",
           "zerolinewidth": 2
          }
         }
        },
        "title": {
         "text": "Hashtag Distribution for isSponsered = 1"
        },
        "xaxis": {
         "anchor": "y",
         "categoryarray": [
          "Other",
          "ad",
          "fyp",
          "sheglam",
          "skincare"
         ],
         "categoryorder": "array",
         "domain": [
          0,
          1
         ],
         "title": {
          "text": "Hashtag"
         }
        },
        "yaxis": {
         "anchor": "x",
         "domain": [
          0,
          1
         ],
         "title": {
          "text": "Number of Posts"
         }
        }
       }
      }
     },
     "metadata": {},
     "output_type": "display_data"
    }
   ],
   "source": [
    "import plotly.express as px\n",
    "\n",
    "df_sponsored_0 = df[df['isSponsored'] == 0]\n",
    "df_sponsored_1 = df[df['isSponsored'] == 1]\n",
    "def group_hashtags(df, threshold, label):\n",
    "    hashtag_counts = df['hashtag_name'].value_counts().reset_index()\n",
    "    hashtag_counts.columns = ['hashtag_name', 'count']\n",
    "    hashtag_counts['hashtag_name'] = hashtag_counts.apply(\n",
    "        lambda row: label if row['count'] < threshold else row['hashtag_name'],\n",
    "        axis=1\n",
    "    )\n",
    "    hashtag_counts_grouped = hashtag_counts.groupby('hashtag_name').sum().reset_index()\n",
    "    return hashtag_counts_grouped\n",
    "\n",
    "df_sponsored_0_grouped = group_hashtags(df_sponsored_0,40 , 'Other')\n",
    "df_sponsored_1_grouped = group_hashtags(df_sponsored_1, 3, 'Other')\n",
    "\n",
    "fig_0 = px.bar(\n",
    "    df_sponsored_0_grouped,\n",
    "    x='hashtag_name',\n",
    "    y='count',\n",
    "    text='count',\n",
    "    title='Hashtag Distribution for isSponsered = 0',\n",
    "    labels={'hashtag_name': 'Hashtag', 'count': 'Count'},\n",
    "    color='hashtag_name'\n",
    ")\n",
    "fig_0.update_traces(textposition='outside')\n",
    "fig_0.update_layout(xaxis_title='Hashtag', yaxis_title='Number of Posts', showlegend=False)\n",
    "fig_1 = px.bar(\n",
    "    df_sponsored_1_grouped,\n",
    "    x='hashtag_name',\n",
    "    y='count',\n",
    "    text='count',\n",
    "    title='Hashtag Distribution for isSponsered = 1',\n",
    "    labels={'hashtag_name': 'Hashtag', 'count': 'Count'},\n",
    "    color='hashtag_name'\n",
    ")\n",
    "fig_1.update_traces(textposition='outside')\n",
    "fig_1.update_layout(xaxis_title='Hashtag', yaxis_title='Number of Posts', showlegend=False)\n",
    "fig_0.show()\n",
    "fig_1.show()\n"
   ]
  },
  {
   "cell_type": "code",
   "execution_count": 16,
   "metadata": {},
   "outputs": [
    {
     "data": {
      "application/vnd.plotly.v1+json": {
       "config": {
        "plotlyServerURL": "https://plot.ly"
       },
       "data": [
        {
         "hovertemplate": "Hashtag=%{x}<br>Count=%{text}<extra></extra>",
         "legendgroup": "Other",
         "marker": {
          "color": "#636efa",
          "pattern": {
           "shape": ""
          }
         },
         "name": "Other",
         "orientation": "v",
         "showlegend": true,
         "text": {
          "bdata": "AAAAAABYuEA=",
          "dtype": "f8"
         },
         "textposition": "outside",
         "type": "bar",
         "x": [
          "Other"
         ],
         "xaxis": "x",
         "y": {
          "bdata": "WBg=",
          "dtype": "i2"
         },
         "yaxis": "y"
        },
        {
         "hovertemplate": "Hashtag=%{x}<br>Count=%{text}<extra></extra>",
         "legendgroup": "arzt",
         "marker": {
          "color": "#EF553B",
          "pattern": {
           "shape": ""
          }
         },
         "name": "arzt",
         "orientation": "v",
         "showlegend": true,
         "text": {
          "bdata": "AAAAAACARUA=",
          "dtype": "f8"
         },
         "textposition": "outside",
         "type": "bar",
         "x": [
          "arzt"
         ],
         "xaxis": "x",
         "y": {
          "bdata": "Kw==",
          "dtype": "i1"
         },
         "yaxis": "y"
        },
        {
         "hovertemplate": "Hashtag=%{x}<br>Count=%{text}<extra></extra>",
         "legendgroup": "foryou",
         "marker": {
          "color": "#00cc96",
          "pattern": {
           "shape": ""
          }
         },
         "name": "foryou",
         "orientation": "v",
         "showlegend": true,
         "text": {
          "bdata": "AAAAAABAU0A=",
          "dtype": "f8"
         },
         "textposition": "outside",
         "type": "bar",
         "x": [
          "foryou"
         ],
         "xaxis": "x",
         "y": {
          "bdata": "TQ==",
          "dtype": "i1"
         },
         "yaxis": "y"
        },
        {
         "hovertemplate": "Hashtag=%{x}<br>Count=%{text}<extra></extra>",
         "legendgroup": "foryoupage",
         "marker": {
          "color": "#ab63fa",
          "pattern": {
           "shape": ""
          }
         },
         "name": "foryoupage",
         "orientation": "v",
         "showlegend": true,
         "text": {
          "bdata": "AAAAAACAS0A=",
          "dtype": "f8"
         },
         "textposition": "outside",
         "type": "bar",
         "x": [
          "foryoupage"
         ],
         "xaxis": "x",
         "y": {
          "bdata": "Nw==",
          "dtype": "i1"
         },
         "yaxis": "y"
        },
        {
         "hovertemplate": "Hashtag=%{x}<br>Count=%{text}<extra></extra>",
         "legendgroup": "fy",
         "marker": {
          "color": "#FFA15A",
          "pattern": {
           "shape": ""
          }
         },
         "name": "fy",
         "orientation": "v",
         "showlegend": true,
         "text": {
          "bdata": "AAAAAACAUUA=",
          "dtype": "f8"
         },
         "textposition": "outside",
         "type": "bar",
         "x": [
          "fy"
         ],
         "xaxis": "x",
         "y": {
          "bdata": "Rg==",
          "dtype": "i1"
         },
         "yaxis": "y"
        },
        {
         "hovertemplate": "Hashtag=%{x}<br>Count=%{text}<extra></extra>",
         "legendgroup": "fyp",
         "marker": {
          "color": "#19d3f3",
          "pattern": {
           "shape": ""
          }
         },
         "name": "fyp",
         "orientation": "v",
         "showlegend": true,
         "text": {
          "bdata": "AAAAAACAbUA=",
          "dtype": "f8"
         },
         "textposition": "outside",
         "type": "bar",
         "x": [
          "fyp"
         ],
         "xaxis": "x",
         "y": {
          "bdata": "7AA=",
          "dtype": "i2"
         },
         "yaxis": "y"
        },
        {
         "hovertemplate": "Hashtag=%{x}<br>Count=%{text}<extra></extra>",
         "legendgroup": "fürdich",
         "marker": {
          "color": "#FF6692",
          "pattern": {
           "shape": ""
          }
         },
         "name": "fürdich",
         "orientation": "v",
         "showlegend": true,
         "text": {
          "bdata": "AAAAAACAXUA=",
          "dtype": "f8"
         },
         "textposition": "outside",
         "type": "bar",
         "x": [
          "fürdich"
         ],
         "xaxis": "x",
         "y": {
          "bdata": "dg==",
          "dtype": "i1"
         },
         "yaxis": "y"
        },
        {
         "hovertemplate": "Hashtag=%{x}<br>Count=%{text}<extra></extra>",
         "legendgroup": "haarpflege",
         "marker": {
          "color": "#B6E880",
          "pattern": {
           "shape": ""
          }
         },
         "name": "haarpflege",
         "orientation": "v",
         "showlegend": true,
         "text": {
          "bdata": "AAAAAACAR0A=",
          "dtype": "f8"
         },
         "textposition": "outside",
         "type": "bar",
         "x": [
          "haarpflege"
         ],
         "xaxis": "x",
         "y": {
          "bdata": "Lw==",
          "dtype": "i1"
         },
         "yaxis": "y"
        },
        {
         "hovertemplate": "Hashtag=%{x}<br>Count=%{text}<extra></extra>",
         "legendgroup": "hair",
         "marker": {
          "color": "#FF97FF",
          "pattern": {
           "shape": ""
          }
         },
         "name": "hair",
         "orientation": "v",
         "showlegend": true,
         "text": {
          "bdata": "AAAAAAAARkA=",
          "dtype": "f8"
         },
         "textposition": "outside",
         "type": "bar",
         "x": [
          "hair"
         ],
         "xaxis": "x",
         "y": {
          "bdata": "LA==",
          "dtype": "i1"
         },
         "yaxis": "y"
        },
        {
         "hovertemplate": "Hashtag=%{x}<br>Count=%{text}<extra></extra>",
         "legendgroup": "hautpflege",
         "marker": {
          "color": "#FECB52",
          "pattern": {
           "shape": ""
          }
         },
         "name": "hautpflege",
         "orientation": "v",
         "showlegend": true,
         "text": {
          "bdata": "AAAAAAAAUEA=",
          "dtype": "f8"
         },
         "textposition": "outside",
         "type": "bar",
         "x": [
          "hautpflege"
         ],
         "xaxis": "x",
         "y": {
          "bdata": "QA==",
          "dtype": "i1"
         },
         "yaxis": "y"
        },
        {
         "hovertemplate": "Hashtag=%{x}<br>Count=%{text}<extra></extra>",
         "legendgroup": "makeup",
         "marker": {
          "color": "#636efa",
          "pattern": {
           "shape": ""
          }
         },
         "name": "makeup",
         "orientation": "v",
         "showlegend": true,
         "text": {
          "bdata": "AAAAAAAATEA=",
          "dtype": "f8"
         },
         "textposition": "outside",
         "type": "bar",
         "x": [
          "makeup"
         ],
         "xaxis": "x",
         "y": {
          "bdata": "OA==",
          "dtype": "i1"
         },
         "yaxis": "y"
        },
        {
         "hovertemplate": "Hashtag=%{x}<br>Count=%{text}<extra></extra>",
         "legendgroup": "medizin",
         "marker": {
          "color": "#EF553B",
          "pattern": {
           "shape": ""
          }
         },
         "name": "medizin",
         "orientation": "v",
         "showlegend": true,
         "text": {
          "bdata": "AAAAAAAASEA=",
          "dtype": "f8"
         },
         "textposition": "outside",
         "type": "bar",
         "x": [
          "medizin"
         ],
         "xaxis": "x",
         "y": {
          "bdata": "MA==",
          "dtype": "i1"
         },
         "yaxis": "y"
        },
        {
         "hovertemplate": "Hashtag=%{x}<br>Count=%{text}<extra></extra>",
         "legendgroup": "skincare",
         "marker": {
          "color": "#00cc96",
          "pattern": {
           "shape": ""
          }
         },
         "name": "skincare",
         "orientation": "v",
         "showlegend": true,
         "text": {
          "bdata": "AAAAAACAT0A=",
          "dtype": "f8"
         },
         "textposition": "outside",
         "type": "bar",
         "x": [
          "skincare"
         ],
         "xaxis": "x",
         "y": {
          "bdata": "Pw==",
          "dtype": "i1"
         },
         "yaxis": "y"
        }
       ],
       "layout": {
        "barmode": "relative",
        "legend": {
         "title": {
          "text": "Hashtag"
         },
         "tracegroupgap": 0
        },
        "showlegend": false,
        "template": {
         "data": {
          "bar": [
           {
            "error_x": {
             "color": "#2a3f5f"
            },
            "error_y": {
             "color": "#2a3f5f"
            },
            "marker": {
             "line": {
              "color": "#E5ECF6",
              "width": 0.5
             },
             "pattern": {
              "fillmode": "overlay",
              "size": 10,
              "solidity": 0.2
             }
            },
            "type": "bar"
           }
          ],
          "barpolar": [
           {
            "marker": {
             "line": {
              "color": "#E5ECF6",
              "width": 0.5
             },
             "pattern": {
              "fillmode": "overlay",
              "size": 10,
              "solidity": 0.2
             }
            },
            "type": "barpolar"
           }
          ],
          "carpet": [
           {
            "aaxis": {
             "endlinecolor": "#2a3f5f",
             "gridcolor": "white",
             "linecolor": "white",
             "minorgridcolor": "white",
             "startlinecolor": "#2a3f5f"
            },
            "baxis": {
             "endlinecolor": "#2a3f5f",
             "gridcolor": "white",
             "linecolor": "white",
             "minorgridcolor": "white",
             "startlinecolor": "#2a3f5f"
            },
            "type": "carpet"
           }
          ],
          "choropleth": [
           {
            "colorbar": {
             "outlinewidth": 0,
             "ticks": ""
            },
            "type": "choropleth"
           }
          ],
          "contour": [
           {
            "colorbar": {
             "outlinewidth": 0,
             "ticks": ""
            },
            "colorscale": [
             [
              0,
              "#0d0887"
             ],
             [
              0.1111111111111111,
              "#46039f"
             ],
             [
              0.2222222222222222,
              "#7201a8"
             ],
             [
              0.3333333333333333,
              "#9c179e"
             ],
             [
              0.4444444444444444,
              "#bd3786"
             ],
             [
              0.5555555555555556,
              "#d8576b"
             ],
             [
              0.6666666666666666,
              "#ed7953"
             ],
             [
              0.7777777777777778,
              "#fb9f3a"
             ],
             [
              0.8888888888888888,
              "#fdca26"
             ],
             [
              1,
              "#f0f921"
             ]
            ],
            "type": "contour"
           }
          ],
          "contourcarpet": [
           {
            "colorbar": {
             "outlinewidth": 0,
             "ticks": ""
            },
            "type": "contourcarpet"
           }
          ],
          "heatmap": [
           {
            "colorbar": {
             "outlinewidth": 0,
             "ticks": ""
            },
            "colorscale": [
             [
              0,
              "#0d0887"
             ],
             [
              0.1111111111111111,
              "#46039f"
             ],
             [
              0.2222222222222222,
              "#7201a8"
             ],
             [
              0.3333333333333333,
              "#9c179e"
             ],
             [
              0.4444444444444444,
              "#bd3786"
             ],
             [
              0.5555555555555556,
              "#d8576b"
             ],
             [
              0.6666666666666666,
              "#ed7953"
             ],
             [
              0.7777777777777778,
              "#fb9f3a"
             ],
             [
              0.8888888888888888,
              "#fdca26"
             ],
             [
              1,
              "#f0f921"
             ]
            ],
            "type": "heatmap"
           }
          ],
          "histogram": [
           {
            "marker": {
             "pattern": {
              "fillmode": "overlay",
              "size": 10,
              "solidity": 0.2
             }
            },
            "type": "histogram"
           }
          ],
          "histogram2d": [
           {
            "colorbar": {
             "outlinewidth": 0,
             "ticks": ""
            },
            "colorscale": [
             [
              0,
              "#0d0887"
             ],
             [
              0.1111111111111111,
              "#46039f"
             ],
             [
              0.2222222222222222,
              "#7201a8"
             ],
             [
              0.3333333333333333,
              "#9c179e"
             ],
             [
              0.4444444444444444,
              "#bd3786"
             ],
             [
              0.5555555555555556,
              "#d8576b"
             ],
             [
              0.6666666666666666,
              "#ed7953"
             ],
             [
              0.7777777777777778,
              "#fb9f3a"
             ],
             [
              0.8888888888888888,
              "#fdca26"
             ],
             [
              1,
              "#f0f921"
             ]
            ],
            "type": "histogram2d"
           }
          ],
          "histogram2dcontour": [
           {
            "colorbar": {
             "outlinewidth": 0,
             "ticks": ""
            },
            "colorscale": [
             [
              0,
              "#0d0887"
             ],
             [
              0.1111111111111111,
              "#46039f"
             ],
             [
              0.2222222222222222,
              "#7201a8"
             ],
             [
              0.3333333333333333,
              "#9c179e"
             ],
             [
              0.4444444444444444,
              "#bd3786"
             ],
             [
              0.5555555555555556,
              "#d8576b"
             ],
             [
              0.6666666666666666,
              "#ed7953"
             ],
             [
              0.7777777777777778,
              "#fb9f3a"
             ],
             [
              0.8888888888888888,
              "#fdca26"
             ],
             [
              1,
              "#f0f921"
             ]
            ],
            "type": "histogram2dcontour"
           }
          ],
          "mesh3d": [
           {
            "colorbar": {
             "outlinewidth": 0,
             "ticks": ""
            },
            "type": "mesh3d"
           }
          ],
          "parcoords": [
           {
            "line": {
             "colorbar": {
              "outlinewidth": 0,
              "ticks": ""
             }
            },
            "type": "parcoords"
           }
          ],
          "pie": [
           {
            "automargin": true,
            "type": "pie"
           }
          ],
          "scatter": [
           {
            "fillpattern": {
             "fillmode": "overlay",
             "size": 10,
             "solidity": 0.2
            },
            "type": "scatter"
           }
          ],
          "scatter3d": [
           {
            "line": {
             "colorbar": {
              "outlinewidth": 0,
              "ticks": ""
             }
            },
            "marker": {
             "colorbar": {
              "outlinewidth": 0,
              "ticks": ""
             }
            },
            "type": "scatter3d"
           }
          ],
          "scattercarpet": [
           {
            "marker": {
             "colorbar": {
              "outlinewidth": 0,
              "ticks": ""
             }
            },
            "type": "scattercarpet"
           }
          ],
          "scattergeo": [
           {
            "marker": {
             "colorbar": {
              "outlinewidth": 0,
              "ticks": ""
             }
            },
            "type": "scattergeo"
           }
          ],
          "scattergl": [
           {
            "marker": {
             "colorbar": {
              "outlinewidth": 0,
              "ticks": ""
             }
            },
            "type": "scattergl"
           }
          ],
          "scattermap": [
           {
            "marker": {
             "colorbar": {
              "outlinewidth": 0,
              "ticks": ""
             }
            },
            "type": "scattermap"
           }
          ],
          "scattermapbox": [
           {
            "marker": {
             "colorbar": {
              "outlinewidth": 0,
              "ticks": ""
             }
            },
            "type": "scattermapbox"
           }
          ],
          "scatterpolar": [
           {
            "marker": {
             "colorbar": {
              "outlinewidth": 0,
              "ticks": ""
             }
            },
            "type": "scatterpolar"
           }
          ],
          "scatterpolargl": [
           {
            "marker": {
             "colorbar": {
              "outlinewidth": 0,
              "ticks": ""
             }
            },
            "type": "scatterpolargl"
           }
          ],
          "scatterternary": [
           {
            "marker": {
             "colorbar": {
              "outlinewidth": 0,
              "ticks": ""
             }
            },
            "type": "scatterternary"
           }
          ],
          "surface": [
           {
            "colorbar": {
             "outlinewidth": 0,
             "ticks": ""
            },
            "colorscale": [
             [
              0,
              "#0d0887"
             ],
             [
              0.1111111111111111,
              "#46039f"
             ],
             [
              0.2222222222222222,
              "#7201a8"
             ],
             [
              0.3333333333333333,
              "#9c179e"
             ],
             [
              0.4444444444444444,
              "#bd3786"
             ],
             [
              0.5555555555555556,
              "#d8576b"
             ],
             [
              0.6666666666666666,
              "#ed7953"
             ],
             [
              0.7777777777777778,
              "#fb9f3a"
             ],
             [
              0.8888888888888888,
              "#fdca26"
             ],
             [
              1,
              "#f0f921"
             ]
            ],
            "type": "surface"
           }
          ],
          "table": [
           {
            "cells": {
             "fill": {
              "color": "#EBF0F8"
             },
             "line": {
              "color": "white"
             }
            },
            "header": {
             "fill": {
              "color": "#C8D4E3"
             },
             "line": {
              "color": "white"
             }
            },
            "type": "table"
           }
          ]
         },
         "layout": {
          "annotationdefaults": {
           "arrowcolor": "#2a3f5f",
           "arrowhead": 0,
           "arrowwidth": 1
          },
          "autotypenumbers": "strict",
          "coloraxis": {
           "colorbar": {
            "outlinewidth": 0,
            "ticks": ""
           }
          },
          "colorscale": {
           "diverging": [
            [
             0,
             "#8e0152"
            ],
            [
             0.1,
             "#c51b7d"
            ],
            [
             0.2,
             "#de77ae"
            ],
            [
             0.3,
             "#f1b6da"
            ],
            [
             0.4,
             "#fde0ef"
            ],
            [
             0.5,
             "#f7f7f7"
            ],
            [
             0.6,
             "#e6f5d0"
            ],
            [
             0.7,
             "#b8e186"
            ],
            [
             0.8,
             "#7fbc41"
            ],
            [
             0.9,
             "#4d9221"
            ],
            [
             1,
             "#276419"
            ]
           ],
           "sequential": [
            [
             0,
             "#0d0887"
            ],
            [
             0.1111111111111111,
             "#46039f"
            ],
            [
             0.2222222222222222,
             "#7201a8"
            ],
            [
             0.3333333333333333,
             "#9c179e"
            ],
            [
             0.4444444444444444,
             "#bd3786"
            ],
            [
             0.5555555555555556,
             "#d8576b"
            ],
            [
             0.6666666666666666,
             "#ed7953"
            ],
            [
             0.7777777777777778,
             "#fb9f3a"
            ],
            [
             0.8888888888888888,
             "#fdca26"
            ],
            [
             1,
             "#f0f921"
            ]
           ],
           "sequentialminus": [
            [
             0,
             "#0d0887"
            ],
            [
             0.1111111111111111,
             "#46039f"
            ],
            [
             0.2222222222222222,
             "#7201a8"
            ],
            [
             0.3333333333333333,
             "#9c179e"
            ],
            [
             0.4444444444444444,
             "#bd3786"
            ],
            [
             0.5555555555555556,
             "#d8576b"
            ],
            [
             0.6666666666666666,
             "#ed7953"
            ],
            [
             0.7777777777777778,
             "#fb9f3a"
            ],
            [
             0.8888888888888888,
             "#fdca26"
            ],
            [
             1,
             "#f0f921"
            ]
           ]
          },
          "colorway": [
           "#636efa",
           "#EF553B",
           "#00cc96",
           "#ab63fa",
           "#FFA15A",
           "#19d3f3",
           "#FF6692",
           "#B6E880",
           "#FF97FF",
           "#FECB52"
          ],
          "font": {
           "color": "#2a3f5f"
          },
          "geo": {
           "bgcolor": "white",
           "lakecolor": "white",
           "landcolor": "#E5ECF6",
           "showlakes": true,
           "showland": true,
           "subunitcolor": "white"
          },
          "hoverlabel": {
           "align": "left"
          },
          "hovermode": "closest",
          "mapbox": {
           "style": "light"
          },
          "paper_bgcolor": "white",
          "plot_bgcolor": "#E5ECF6",
          "polar": {
           "angularaxis": {
            "gridcolor": "white",
            "linecolor": "white",
            "ticks": ""
           },
           "bgcolor": "#E5ECF6",
           "radialaxis": {
            "gridcolor": "white",
            "linecolor": "white",
            "ticks": ""
           }
          },
          "scene": {
           "xaxis": {
            "backgroundcolor": "#E5ECF6",
            "gridcolor": "white",
            "gridwidth": 2,
            "linecolor": "white",
            "showbackground": true,
            "ticks": "",
            "zerolinecolor": "white"
           },
           "yaxis": {
            "backgroundcolor": "#E5ECF6",
            "gridcolor": "white",
            "gridwidth": 2,
            "linecolor": "white",
            "showbackground": true,
            "ticks": "",
            "zerolinecolor": "white"
           },
           "zaxis": {
            "backgroundcolor": "#E5ECF6",
            "gridcolor": "white",
            "gridwidth": 2,
            "linecolor": "white",
            "showbackground": true,
            "ticks": "",
            "zerolinecolor": "white"
           }
          },
          "shapedefaults": {
           "line": {
            "color": "#2a3f5f"
           }
          },
          "ternary": {
           "aaxis": {
            "gridcolor": "white",
            "linecolor": "white",
            "ticks": ""
           },
           "baxis": {
            "gridcolor": "white",
            "linecolor": "white",
            "ticks": ""
           },
           "bgcolor": "#E5ECF6",
           "caxis": {
            "gridcolor": "white",
            "linecolor": "white",
            "ticks": ""
           }
          },
          "title": {
           "x": 0.05
          },
          "xaxis": {
           "automargin": true,
           "gridcolor": "white",
           "linecolor": "white",
           "ticks": "",
           "title": {
            "standoff": 15
           },
           "zerolinecolor": "white",
           "zerolinewidth": 2
          },
          "yaxis": {
           "automargin": true,
           "gridcolor": "white",
           "linecolor": "white",
           "ticks": "",
           "title": {
            "standoff": 15
           },
           "zerolinecolor": "white",
           "zerolinewidth": 2
          }
         }
        },
        "title": {
         "text": "Hashtag Distribution for isSponsered = 0"
        },
        "xaxis": {
         "anchor": "y",
         "categoryarray": [
          "Other",
          "arzt",
          "foryou",
          "foryoupage",
          "fy",
          "fyp",
          "fürdich",
          "haarpflege",
          "hair",
          "hautpflege",
          "makeup",
          "medizin",
          "skincare"
         ],
         "categoryorder": "array",
         "domain": [
          0,
          1
         ],
         "title": {
          "text": "Hashtag"
         }
        },
        "yaxis": {
         "anchor": "x",
         "domain": [
          0,
          1
         ],
         "title": {
          "text": "Number of Posts"
         }
        }
       }
      }
     },
     "metadata": {},
     "output_type": "display_data"
    },
    {
     "data": {
      "application/vnd.plotly.v1+json": {
       "config": {
        "plotlyServerURL": "https://plot.ly"
       },
       "data": [
        {
         "hovertemplate": "Hashtag=%{x}<br>Count=%{text}<extra></extra>",
         "legendgroup": "Other",
         "marker": {
          "color": "#636efa",
          "pattern": {
           "shape": ""
          }
         },
         "name": "Other",
         "orientation": "v",
         "showlegend": true,
         "text": {
          "bdata": "AAAAAABQcEA=",
          "dtype": "f8"
         },
         "textposition": "outside",
         "type": "bar",
         "x": [
          "Other"
         ],
         "xaxis": "x",
         "y": {
          "bdata": "BQE=",
          "dtype": "i2"
         },
         "yaxis": "y"
        },
        {
         "hovertemplate": "Hashtag=%{x}<br>Count=%{text}<extra></extra>",
         "legendgroup": "ad",
         "marker": {
          "color": "#EF553B",
          "pattern": {
           "shape": ""
          }
         },
         "name": "ad",
         "orientation": "v",
         "showlegend": true,
         "text": {
          "bdata": "AAAAAAAAGEA=",
          "dtype": "f8"
         },
         "textposition": "outside",
         "type": "bar",
         "x": [
          "ad"
         ],
         "xaxis": "x",
         "y": {
          "bdata": "Bg==",
          "dtype": "i1"
         },
         "yaxis": "y"
        },
        {
         "hovertemplate": "Hashtag=%{x}<br>Count=%{text}<extra></extra>",
         "legendgroup": "blushhacks",
         "marker": {
          "color": "#00cc96",
          "pattern": {
           "shape": ""
          }
         },
         "name": "blushhacks",
         "orientation": "v",
         "showlegend": true,
         "text": {
          "bdata": "AAAAAAAACEA=",
          "dtype": "f8"
         },
         "textposition": "outside",
         "type": "bar",
         "x": [
          "blushhacks"
         ],
         "xaxis": "x",
         "y": {
          "bdata": "Aw==",
          "dtype": "i1"
         },
         "yaxis": "y"
        },
        {
         "hovertemplate": "Hashtag=%{x}<br>Count=%{text}<extra></extra>",
         "legendgroup": "boosthairandconfidence",
         "marker": {
          "color": "#ab63fa",
          "pattern": {
           "shape": ""
          }
         },
         "name": "boosthairandconfidence",
         "orientation": "v",
         "showlegend": true,
         "text": {
          "bdata": "AAAAAAAAFEA=",
          "dtype": "f8"
         },
         "textposition": "outside",
         "type": "bar",
         "x": [
          "boosthairandconfidence"
         ],
         "xaxis": "x",
         "y": {
          "bdata": "BQ==",
          "dtype": "i1"
         },
         "yaxis": "y"
        },
        {
         "hovertemplate": "Hashtag=%{x}<br>Count=%{text}<extra></extra>",
         "legendgroup": "boostitup",
         "marker": {
          "color": "#FFA15A",
          "pattern": {
           "shape": ""
          }
         },
         "name": "boostitup",
         "orientation": "v",
         "showlegend": true,
         "text": {
          "bdata": "AAAAAAAAEEA=",
          "dtype": "f8"
         },
         "textposition": "outside",
         "type": "bar",
         "x": [
          "boostitup"
         ],
         "xaxis": "x",
         "y": {
          "bdata": "BA==",
          "dtype": "i1"
         },
         "yaxis": "y"
        },
        {
         "hovertemplate": "Hashtag=%{x}<br>Count=%{text}<extra></extra>",
         "legendgroup": "bringbackmycollagen",
         "marker": {
          "color": "#19d3f3",
          "pattern": {
           "shape": ""
          }
         },
         "name": "bringbackmycollagen",
         "orientation": "v",
         "showlegend": true,
         "text": {
          "bdata": "AAAAAAAACEA=",
          "dtype": "f8"
         },
         "textposition": "outside",
         "type": "bar",
         "x": [
          "bringbackmycollagen"
         ],
         "xaxis": "x",
         "y": {
          "bdata": "Aw==",
          "dtype": "i1"
         },
         "yaxis": "y"
        },
        {
         "hovertemplate": "Hashtag=%{x}<br>Count=%{text}<extra></extra>",
         "legendgroup": "drogerie",
         "marker": {
          "color": "#FF6692",
          "pattern": {
           "shape": ""
          }
         },
         "name": "drogerie",
         "orientation": "v",
         "showlegend": true,
         "text": {
          "bdata": "AAAAAAAACEA=",
          "dtype": "f8"
         },
         "textposition": "outside",
         "type": "bar",
         "x": [
          "drogerie"
         ],
         "xaxis": "x",
         "y": {
          "bdata": "Aw==",
          "dtype": "i1"
         },
         "yaxis": "y"
        },
        {
         "hovertemplate": "Hashtag=%{x}<br>Count=%{text}<extra></extra>",
         "legendgroup": "drogerieneuheiten",
         "marker": {
          "color": "#B6E880",
          "pattern": {
           "shape": ""
          }
         },
         "name": "drogerieneuheiten",
         "orientation": "v",
         "showlegend": true,
         "text": {
          "bdata": "AAAAAAAAFEA=",
          "dtype": "f8"
         },
         "textposition": "outside",
         "type": "bar",
         "x": [
          "drogerieneuheiten"
         ],
         "xaxis": "x",
         "y": {
          "bdata": "BQ==",
          "dtype": "i1"
         },
         "yaxis": "y"
        },
        {
         "hovertemplate": "Hashtag=%{x}<br>Count=%{text}<extra></extra>",
         "legendgroup": "drogerieprodukte",
         "marker": {
          "color": "#FF97FF",
          "pattern": {
           "shape": ""
          }
         },
         "name": "drogerieprodukte",
         "orientation": "v",
         "showlegend": true,
         "text": {
          "bdata": "AAAAAAAAEEA=",
          "dtype": "f8"
         },
         "textposition": "outside",
         "type": "bar",
         "x": [
          "drogerieprodukte"
         ],
         "xaxis": "x",
         "y": {
          "bdata": "BA==",
          "dtype": "i1"
         },
         "yaxis": "y"
        },
        {
         "hovertemplate": "Hashtag=%{x}<br>Count=%{text}<extra></extra>",
         "legendgroup": "elvitalfiberbooster",
         "marker": {
          "color": "#FECB52",
          "pattern": {
           "shape": ""
          }
         },
         "name": "elvitalfiberbooster",
         "orientation": "v",
         "showlegend": true,
         "text": {
          "bdata": "AAAAAAAAFEA=",
          "dtype": "f8"
         },
         "textposition": "outside",
         "type": "bar",
         "x": [
          "elvitalfiberbooster"
         ],
         "xaxis": "x",
         "y": {
          "bdata": "BQ==",
          "dtype": "i1"
         },
         "yaxis": "y"
        },
        {
         "hovertemplate": "Hashtag=%{x}<br>Count=%{text}<extra></extra>",
         "legendgroup": "garnierskincare",
         "marker": {
          "color": "#636efa",
          "pattern": {
           "shape": ""
          }
         },
         "name": "garnierskincare",
         "orientation": "v",
         "showlegend": true,
         "text": {
          "bdata": "AAAAAAAACEA=",
          "dtype": "f8"
         },
         "textposition": "outside",
         "type": "bar",
         "x": [
          "garnierskincare"
         ],
         "xaxis": "x",
         "y": {
          "bdata": "Aw==",
          "dtype": "i1"
         },
         "yaxis": "y"
        },
        {
         "hovertemplate": "Hashtag=%{x}<br>Count=%{text}<extra></extra>",
         "legendgroup": "glassskin",
         "marker": {
          "color": "#EF553B",
          "pattern": {
           "shape": ""
          }
         },
         "name": "glassskin",
         "orientation": "v",
         "showlegend": true,
         "text": {
          "bdata": "AAAAAAAAFEA=",
          "dtype": "f8"
         },
         "textposition": "outside",
         "type": "bar",
         "x": [
          "glassskin"
         ],
         "xaxis": "x",
         "y": {
          "bdata": "BQ==",
          "dtype": "i1"
         },
         "yaxis": "y"
        },
        {
         "hovertemplate": "Hashtag=%{x}<br>Count=%{text}<extra></extra>",
         "legendgroup": "glowyskin",
         "marker": {
          "color": "#00cc96",
          "pattern": {
           "shape": ""
          }
         },
         "name": "glowyskin",
         "orientation": "v",
         "showlegend": true,
         "text": {
          "bdata": "AAAAAAAAFEA=",
          "dtype": "f8"
         },
         "textposition": "outside",
         "type": "bar",
         "x": [
          "glowyskin"
         ],
         "xaxis": "x",
         "y": {
          "bdata": "BQ==",
          "dtype": "i1"
         },
         "yaxis": "y"
        },
        {
         "hovertemplate": "Hashtag=%{x}<br>Count=%{text}<extra></extra>",
         "legendgroup": "haarpflege",
         "marker": {
          "color": "#ab63fa",
          "pattern": {
           "shape": ""
          }
         },
         "name": "haarpflege",
         "orientation": "v",
         "showlegend": true,
         "text": {
          "bdata": "AAAAAAAAEEA=",
          "dtype": "f8"
         },
         "textposition": "outside",
         "type": "bar",
         "x": [
          "haarpflege"
         ],
         "xaxis": "x",
         "y": {
          "bdata": "BA==",
          "dtype": "i1"
         },
         "yaxis": "y"
        },
        {
         "hovertemplate": "Hashtag=%{x}<br>Count=%{text}<extra></extra>",
         "legendgroup": "headandshoulders",
         "marker": {
          "color": "#FFA15A",
          "pattern": {
           "shape": ""
          }
         },
         "name": "headandshoulders",
         "orientation": "v",
         "showlegend": true,
         "text": {
          "bdata": "AAAAAAAACEA=",
          "dtype": "f8"
         },
         "textposition": "outside",
         "type": "bar",
         "x": [
          "headandshoulders"
         ],
         "xaxis": "x",
         "y": {
          "bdata": "Aw==",
          "dtype": "i1"
         },
         "yaxis": "y"
        },
        {
         "hovertemplate": "Hashtag=%{x}<br>Count=%{text}<extra></extra>",
         "legendgroup": "larocheposay",
         "marker": {
          "color": "#19d3f3",
          "pattern": {
           "shape": ""
          }
         },
         "name": "larocheposay",
         "orientation": "v",
         "showlegend": true,
         "text": {
          "bdata": "AAAAAAAAEEA=",
          "dtype": "f8"
         },
         "textposition": "outside",
         "type": "bar",
         "x": [
          "larocheposay"
         ],
         "xaxis": "x",
         "y": {
          "bdata": "BA==",
          "dtype": "i1"
         },
         "yaxis": "y"
        },
        {
         "hovertemplate": "Hashtag=%{x}<br>Count=%{text}<extra></extra>",
         "legendgroup": "larocheposayskincare",
         "marker": {
          "color": "#FF6692",
          "pattern": {
           "shape": ""
          }
         },
         "name": "larocheposayskincare",
         "orientation": "v",
         "showlegend": true,
         "text": {
          "bdata": "AAAAAAAAEEA=",
          "dtype": "f8"
         },
         "textposition": "outside",
         "type": "bar",
         "x": [
          "larocheposayskincare"
         ],
         "xaxis": "x",
         "y": {
          "bdata": "BA==",
          "dtype": "i1"
         },
         "yaxis": "y"
        },
        {
         "hovertemplate": "Hashtag=%{x}<br>Count=%{text}<extra></extra>",
         "legendgroup": "lorealparis",
         "marker": {
          "color": "#B6E880",
          "pattern": {
           "shape": ""
          }
         },
         "name": "lorealparis",
         "orientation": "v",
         "showlegend": true,
         "text": {
          "bdata": "AAAAAAAAGEA=",
          "dtype": "f8"
         },
         "textposition": "outside",
         "type": "bar",
         "x": [
          "lorealparis"
         ],
         "xaxis": "x",
         "y": {
          "bdata": "Bg==",
          "dtype": "i1"
         },
         "yaxis": "y"
        },
        {
         "hovertemplate": "Hashtag=%{x}<br>Count=%{text}<extra></extra>",
         "legendgroup": "lorealparismakeup",
         "marker": {
          "color": "#FF97FF",
          "pattern": {
           "shape": ""
          }
         },
         "name": "lorealparismakeup",
         "orientation": "v",
         "showlegend": true,
         "text": {
          "bdata": "AAAAAAAAJEA=",
          "dtype": "f8"
         },
         "textposition": "outside",
         "type": "bar",
         "x": [
          "lorealparismakeup"
         ],
         "xaxis": "x",
         "y": {
          "bdata": "Cg==",
          "dtype": "i1"
         },
         "yaxis": "y"
        },
        {
         "hovertemplate": "Hashtag=%{x}<br>Count=%{text}<extra></extra>",
         "legendgroup": "lorealparispartner",
         "marker": {
          "color": "#FECB52",
          "pattern": {
           "shape": ""
          }
         },
         "name": "lorealparispartner",
         "orientation": "v",
         "showlegend": true,
         "text": {
          "bdata": "AAAAAAAAEEA=",
          "dtype": "f8"
         },
         "textposition": "outside",
         "type": "bar",
         "x": [
          "lorealparispartner"
         ],
         "xaxis": "x",
         "y": {
          "bdata": "BA==",
          "dtype": "i1"
         },
         "yaxis": "y"
        },
        {
         "hovertemplate": "Hashtag=%{x}<br>Count=%{text}<extra></extra>",
         "legendgroup": "makeup",
         "marker": {
          "color": "#636efa",
          "pattern": {
           "shape": ""
          }
         },
         "name": "makeup",
         "orientation": "v",
         "showlegend": true,
         "text": {
          "bdata": "AAAAAAAACEA=",
          "dtype": "f8"
         },
         "textposition": "outside",
         "type": "bar",
         "x": [
          "makeup"
         ],
         "xaxis": "x",
         "y": {
          "bdata": "Aw==",
          "dtype": "i1"
         },
         "yaxis": "y"
        },
        {
         "hovertemplate": "Hashtag=%{x}<br>Count=%{text}<extra></extra>",
         "legendgroup": "meandmycollagen",
         "marker": {
          "color": "#EF553B",
          "pattern": {
           "shape": ""
          }
         },
         "name": "meandmycollagen",
         "orientation": "v",
         "showlegend": true,
         "text": {
          "bdata": "AAAAAAAACEA=",
          "dtype": "f8"
         },
         "textposition": "outside",
         "type": "bar",
         "x": [
          "meandmycollagen"
         ],
         "xaxis": "x",
         "y": {
          "bdata": "Aw==",
          "dtype": "i1"
         },
         "yaxis": "y"
        },
        {
         "hovertemplate": "Hashtag=%{x}<br>Count=%{text}<extra></extra>",
         "legendgroup": "neutrogena",
         "marker": {
          "color": "#00cc96",
          "pattern": {
           "shape": ""
          }
         },
         "name": "neutrogena",
         "orientation": "v",
         "showlegend": true,
         "text": {
          "bdata": "AAAAAAAACEA=",
          "dtype": "f8"
         },
         "textposition": "outside",
         "type": "bar",
         "x": [
          "neutrogena"
         ],
         "xaxis": "x",
         "y": {
          "bdata": "Aw==",
          "dtype": "i1"
         },
         "yaxis": "y"
        },
        {
         "hovertemplate": "Hashtag=%{x}<br>Count=%{text}<extra></extra>",
         "legendgroup": "nivea",
         "marker": {
          "color": "#ab63fa",
          "pattern": {
           "shape": ""
          }
         },
         "name": "nivea",
         "orientation": "v",
         "showlegend": true,
         "text": {
          "bdata": "AAAAAAAACEA=",
          "dtype": "f8"
         },
         "textposition": "outside",
         "type": "bar",
         "x": [
          "nivea"
         ],
         "xaxis": "x",
         "y": {
          "bdata": "Aw==",
          "dtype": "i1"
         },
         "yaxis": "y"
        },
        {
         "hovertemplate": "Hashtag=%{x}<br>Count=%{text}<extra></extra>",
         "legendgroup": "rootine",
         "marker": {
          "color": "#FFA15A",
          "pattern": {
           "shape": ""
          }
         },
         "name": "rootine",
         "orientation": "v",
         "showlegend": true,
         "text": {
          "bdata": "AAAAAAAAFEA=",
          "dtype": "f8"
         },
         "textposition": "outside",
         "type": "bar",
         "x": [
          "rootine"
         ],
         "xaxis": "x",
         "y": {
          "bdata": "BQ==",
          "dtype": "i1"
         },
         "yaxis": "y"
        },
        {
         "hovertemplate": "Hashtag=%{x}<br>Count=%{text}<extra></extra>",
         "legendgroup": "skincare",
         "marker": {
          "color": "#19d3f3",
          "pattern": {
           "shape": ""
          }
         },
         "name": "skincare",
         "orientation": "v",
         "showlegend": true,
         "text": {
          "bdata": "AAAAAAAAJkA=",
          "dtype": "f8"
         },
         "textposition": "outside",
         "type": "bar",
         "x": [
          "skincare"
         ],
         "xaxis": "x",
         "y": {
          "bdata": "Cw==",
          "dtype": "i1"
         },
         "yaxis": "y"
        },
        {
         "hovertemplate": "Hashtag=%{x}<br>Count=%{text}<extra></extra>",
         "legendgroup": "skinmoments",
         "marker": {
          "color": "#FF6692",
          "pattern": {
           "shape": ""
          }
         },
         "name": "skinmoments",
         "orientation": "v",
         "showlegend": true,
         "text": {
          "bdata": "AAAAAAAACEA=",
          "dtype": "f8"
         },
         "textposition": "outside",
         "type": "bar",
         "x": [
          "skinmoments"
         ],
         "xaxis": "x",
         "y": {
          "bdata": "Aw==",
          "dtype": "i1"
         },
         "yaxis": "y"
        },
        {
         "hovertemplate": "Hashtag=%{x}<br>Count=%{text}<extra></extra>",
         "legendgroup": "vichyskincare",
         "marker": {
          "color": "#B6E880",
          "pattern": {
           "shape": ""
          }
         },
         "name": "vichyskincare",
         "orientation": "v",
         "showlegend": true,
         "text": {
          "bdata": "AAAAAAAACEA=",
          "dtype": "f8"
         },
         "textposition": "outside",
         "type": "bar",
         "x": [
          "vichyskincare"
         ],
         "xaxis": "x",
         "y": {
          "bdata": "Aw==",
          "dtype": "i1"
         },
         "yaxis": "y"
        }
       ],
       "layout": {
        "barmode": "relative",
        "legend": {
         "title": {
          "text": "Hashtag"
         },
         "tracegroupgap": 0
        },
        "showlegend": false,
        "template": {
         "data": {
          "bar": [
           {
            "error_x": {
             "color": "#2a3f5f"
            },
            "error_y": {
             "color": "#2a3f5f"
            },
            "marker": {
             "line": {
              "color": "#E5ECF6",
              "width": 0.5
             },
             "pattern": {
              "fillmode": "overlay",
              "size": 10,
              "solidity": 0.2
             }
            },
            "type": "bar"
           }
          ],
          "barpolar": [
           {
            "marker": {
             "line": {
              "color": "#E5ECF6",
              "width": 0.5
             },
             "pattern": {
              "fillmode": "overlay",
              "size": 10,
              "solidity": 0.2
             }
            },
            "type": "barpolar"
           }
          ],
          "carpet": [
           {
            "aaxis": {
             "endlinecolor": "#2a3f5f",
             "gridcolor": "white",
             "linecolor": "white",
             "minorgridcolor": "white",
             "startlinecolor": "#2a3f5f"
            },
            "baxis": {
             "endlinecolor": "#2a3f5f",
             "gridcolor": "white",
             "linecolor": "white",
             "minorgridcolor": "white",
             "startlinecolor": "#2a3f5f"
            },
            "type": "carpet"
           }
          ],
          "choropleth": [
           {
            "colorbar": {
             "outlinewidth": 0,
             "ticks": ""
            },
            "type": "choropleth"
           }
          ],
          "contour": [
           {
            "colorbar": {
             "outlinewidth": 0,
             "ticks": ""
            },
            "colorscale": [
             [
              0,
              "#0d0887"
             ],
             [
              0.1111111111111111,
              "#46039f"
             ],
             [
              0.2222222222222222,
              "#7201a8"
             ],
             [
              0.3333333333333333,
              "#9c179e"
             ],
             [
              0.4444444444444444,
              "#bd3786"
             ],
             [
              0.5555555555555556,
              "#d8576b"
             ],
             [
              0.6666666666666666,
              "#ed7953"
             ],
             [
              0.7777777777777778,
              "#fb9f3a"
             ],
             [
              0.8888888888888888,
              "#fdca26"
             ],
             [
              1,
              "#f0f921"
             ]
            ],
            "type": "contour"
           }
          ],
          "contourcarpet": [
           {
            "colorbar": {
             "outlinewidth": 0,
             "ticks": ""
            },
            "type": "contourcarpet"
           }
          ],
          "heatmap": [
           {
            "colorbar": {
             "outlinewidth": 0,
             "ticks": ""
            },
            "colorscale": [
             [
              0,
              "#0d0887"
             ],
             [
              0.1111111111111111,
              "#46039f"
             ],
             [
              0.2222222222222222,
              "#7201a8"
             ],
             [
              0.3333333333333333,
              "#9c179e"
             ],
             [
              0.4444444444444444,
              "#bd3786"
             ],
             [
              0.5555555555555556,
              "#d8576b"
             ],
             [
              0.6666666666666666,
              "#ed7953"
             ],
             [
              0.7777777777777778,
              "#fb9f3a"
             ],
             [
              0.8888888888888888,
              "#fdca26"
             ],
             [
              1,
              "#f0f921"
             ]
            ],
            "type": "heatmap"
           }
          ],
          "histogram": [
           {
            "marker": {
             "pattern": {
              "fillmode": "overlay",
              "size": 10,
              "solidity": 0.2
             }
            },
            "type": "histogram"
           }
          ],
          "histogram2d": [
           {
            "colorbar": {
             "outlinewidth": 0,
             "ticks": ""
            },
            "colorscale": [
             [
              0,
              "#0d0887"
             ],
             [
              0.1111111111111111,
              "#46039f"
             ],
             [
              0.2222222222222222,
              "#7201a8"
             ],
             [
              0.3333333333333333,
              "#9c179e"
             ],
             [
              0.4444444444444444,
              "#bd3786"
             ],
             [
              0.5555555555555556,
              "#d8576b"
             ],
             [
              0.6666666666666666,
              "#ed7953"
             ],
             [
              0.7777777777777778,
              "#fb9f3a"
             ],
             [
              0.8888888888888888,
              "#fdca26"
             ],
             [
              1,
              "#f0f921"
             ]
            ],
            "type": "histogram2d"
           }
          ],
          "histogram2dcontour": [
           {
            "colorbar": {
             "outlinewidth": 0,
             "ticks": ""
            },
            "colorscale": [
             [
              0,
              "#0d0887"
             ],
             [
              0.1111111111111111,
              "#46039f"
             ],
             [
              0.2222222222222222,
              "#7201a8"
             ],
             [
              0.3333333333333333,
              "#9c179e"
             ],
             [
              0.4444444444444444,
              "#bd3786"
             ],
             [
              0.5555555555555556,
              "#d8576b"
             ],
             [
              0.6666666666666666,
              "#ed7953"
             ],
             [
              0.7777777777777778,
              "#fb9f3a"
             ],
             [
              0.8888888888888888,
              "#fdca26"
             ],
             [
              1,
              "#f0f921"
             ]
            ],
            "type": "histogram2dcontour"
           }
          ],
          "mesh3d": [
           {
            "colorbar": {
             "outlinewidth": 0,
             "ticks": ""
            },
            "type": "mesh3d"
           }
          ],
          "parcoords": [
           {
            "line": {
             "colorbar": {
              "outlinewidth": 0,
              "ticks": ""
             }
            },
            "type": "parcoords"
           }
          ],
          "pie": [
           {
            "automargin": true,
            "type": "pie"
           }
          ],
          "scatter": [
           {
            "fillpattern": {
             "fillmode": "overlay",
             "size": 10,
             "solidity": 0.2
            },
            "type": "scatter"
           }
          ],
          "scatter3d": [
           {
            "line": {
             "colorbar": {
              "outlinewidth": 0,
              "ticks": ""
             }
            },
            "marker": {
             "colorbar": {
              "outlinewidth": 0,
              "ticks": ""
             }
            },
            "type": "scatter3d"
           }
          ],
          "scattercarpet": [
           {
            "marker": {
             "colorbar": {
              "outlinewidth": 0,
              "ticks": ""
             }
            },
            "type": "scattercarpet"
           }
          ],
          "scattergeo": [
           {
            "marker": {
             "colorbar": {
              "outlinewidth": 0,
              "ticks": ""
             }
            },
            "type": "scattergeo"
           }
          ],
          "scattergl": [
           {
            "marker": {
             "colorbar": {
              "outlinewidth": 0,
              "ticks": ""
             }
            },
            "type": "scattergl"
           }
          ],
          "scattermap": [
           {
            "marker": {
             "colorbar": {
              "outlinewidth": 0,
              "ticks": ""
             }
            },
            "type": "scattermap"
           }
          ],
          "scattermapbox": [
           {
            "marker": {
             "colorbar": {
              "outlinewidth": 0,
              "ticks": ""
             }
            },
            "type": "scattermapbox"
           }
          ],
          "scatterpolar": [
           {
            "marker": {
             "colorbar": {
              "outlinewidth": 0,
              "ticks": ""
             }
            },
            "type": "scatterpolar"
           }
          ],
          "scatterpolargl": [
           {
            "marker": {
             "colorbar": {
              "outlinewidth": 0,
              "ticks": ""
             }
            },
            "type": "scatterpolargl"
           }
          ],
          "scatterternary": [
           {
            "marker": {
             "colorbar": {
              "outlinewidth": 0,
              "ticks": ""
             }
            },
            "type": "scatterternary"
           }
          ],
          "surface": [
           {
            "colorbar": {
             "outlinewidth": 0,
             "ticks": ""
            },
            "colorscale": [
             [
              0,
              "#0d0887"
             ],
             [
              0.1111111111111111,
              "#46039f"
             ],
             [
              0.2222222222222222,
              "#7201a8"
             ],
             [
              0.3333333333333333,
              "#9c179e"
             ],
             [
              0.4444444444444444,
              "#bd3786"
             ],
             [
              0.5555555555555556,
              "#d8576b"
             ],
             [
              0.6666666666666666,
              "#ed7953"
             ],
             [
              0.7777777777777778,
              "#fb9f3a"
             ],
             [
              0.8888888888888888,
              "#fdca26"
             ],
             [
              1,
              "#f0f921"
             ]
            ],
            "type": "surface"
           }
          ],
          "table": [
           {
            "cells": {
             "fill": {
              "color": "#EBF0F8"
             },
             "line": {
              "color": "white"
             }
            },
            "header": {
             "fill": {
              "color": "#C8D4E3"
             },
             "line": {
              "color": "white"
             }
            },
            "type": "table"
           }
          ]
         },
         "layout": {
          "annotationdefaults": {
           "arrowcolor": "#2a3f5f",
           "arrowhead": 0,
           "arrowwidth": 1
          },
          "autotypenumbers": "strict",
          "coloraxis": {
           "colorbar": {
            "outlinewidth": 0,
            "ticks": ""
           }
          },
          "colorscale": {
           "diverging": [
            [
             0,
             "#8e0152"
            ],
            [
             0.1,
             "#c51b7d"
            ],
            [
             0.2,
             "#de77ae"
            ],
            [
             0.3,
             "#f1b6da"
            ],
            [
             0.4,
             "#fde0ef"
            ],
            [
             0.5,
             "#f7f7f7"
            ],
            [
             0.6,
             "#e6f5d0"
            ],
            [
             0.7,
             "#b8e186"
            ],
            [
             0.8,
             "#7fbc41"
            ],
            [
             0.9,
             "#4d9221"
            ],
            [
             1,
             "#276419"
            ]
           ],
           "sequential": [
            [
             0,
             "#0d0887"
            ],
            [
             0.1111111111111111,
             "#46039f"
            ],
            [
             0.2222222222222222,
             "#7201a8"
            ],
            [
             0.3333333333333333,
             "#9c179e"
            ],
            [
             0.4444444444444444,
             "#bd3786"
            ],
            [
             0.5555555555555556,
             "#d8576b"
            ],
            [
             0.6666666666666666,
             "#ed7953"
            ],
            [
             0.7777777777777778,
             "#fb9f3a"
            ],
            [
             0.8888888888888888,
             "#fdca26"
            ],
            [
             1,
             "#f0f921"
            ]
           ],
           "sequentialminus": [
            [
             0,
             "#0d0887"
            ],
            [
             0.1111111111111111,
             "#46039f"
            ],
            [
             0.2222222222222222,
             "#7201a8"
            ],
            [
             0.3333333333333333,
             "#9c179e"
            ],
            [
             0.4444444444444444,
             "#bd3786"
            ],
            [
             0.5555555555555556,
             "#d8576b"
            ],
            [
             0.6666666666666666,
             "#ed7953"
            ],
            [
             0.7777777777777778,
             "#fb9f3a"
            ],
            [
             0.8888888888888888,
             "#fdca26"
            ],
            [
             1,
             "#f0f921"
            ]
           ]
          },
          "colorway": [
           "#636efa",
           "#EF553B",
           "#00cc96",
           "#ab63fa",
           "#FFA15A",
           "#19d3f3",
           "#FF6692",
           "#B6E880",
           "#FF97FF",
           "#FECB52"
          ],
          "font": {
           "color": "#2a3f5f"
          },
          "geo": {
           "bgcolor": "white",
           "lakecolor": "white",
           "landcolor": "#E5ECF6",
           "showlakes": true,
           "showland": true,
           "subunitcolor": "white"
          },
          "hoverlabel": {
           "align": "left"
          },
          "hovermode": "closest",
          "mapbox": {
           "style": "light"
          },
          "paper_bgcolor": "white",
          "plot_bgcolor": "#E5ECF6",
          "polar": {
           "angularaxis": {
            "gridcolor": "white",
            "linecolor": "white",
            "ticks": ""
           },
           "bgcolor": "#E5ECF6",
           "radialaxis": {
            "gridcolor": "white",
            "linecolor": "white",
            "ticks": ""
           }
          },
          "scene": {
           "xaxis": {
            "backgroundcolor": "#E5ECF6",
            "gridcolor": "white",
            "gridwidth": 2,
            "linecolor": "white",
            "showbackground": true,
            "ticks": "",
            "zerolinecolor": "white"
           },
           "yaxis": {
            "backgroundcolor": "#E5ECF6",
            "gridcolor": "white",
            "gridwidth": 2,
            "linecolor": "white",
            "showbackground": true,
            "ticks": "",
            "zerolinecolor": "white"
           },
           "zaxis": {
            "backgroundcolor": "#E5ECF6",
            "gridcolor": "white",
            "gridwidth": 2,
            "linecolor": "white",
            "showbackground": true,
            "ticks": "",
            "zerolinecolor": "white"
           }
          },
          "shapedefaults": {
           "line": {
            "color": "#2a3f5f"
           }
          },
          "ternary": {
           "aaxis": {
            "gridcolor": "white",
            "linecolor": "white",
            "ticks": ""
           },
           "baxis": {
            "gridcolor": "white",
            "linecolor": "white",
            "ticks": ""
           },
           "bgcolor": "#E5ECF6",
           "caxis": {
            "gridcolor": "white",
            "linecolor": "white",
            "ticks": ""
           }
          },
          "title": {
           "x": 0.05
          },
          "xaxis": {
           "automargin": true,
           "gridcolor": "white",
           "linecolor": "white",
           "ticks": "",
           "title": {
            "standoff": 15
           },
           "zerolinecolor": "white",
           "zerolinewidth": 2
          },
          "yaxis": {
           "automargin": true,
           "gridcolor": "white",
           "linecolor": "white",
           "ticks": "",
           "title": {
            "standoff": 15
           },
           "zerolinecolor": "white",
           "zerolinewidth": 2
          }
         }
        },
        "title": {
         "text": "Hashtag Distribution for isSponsered = 1"
        },
        "xaxis": {
         "anchor": "y",
         "categoryarray": [
          "Other",
          "ad",
          "blushhacks",
          "boosthairandconfidence",
          "boostitup",
          "bringbackmycollagen",
          "drogerie",
          "drogerieneuheiten",
          "drogerieprodukte",
          "elvitalfiberbooster",
          "garnierskincare",
          "glassskin",
          "glowyskin",
          "haarpflege",
          "headandshoulders",
          "larocheposay",
          "larocheposayskincare",
          "lorealparis",
          "lorealparismakeup",
          "lorealparispartner",
          "makeup",
          "meandmycollagen",
          "neutrogena",
          "nivea",
          "rootine",
          "skincare",
          "skinmoments",
          "vichyskincare"
         ],
         "categoryorder": "array",
         "domain": [
          0,
          1
         ],
         "title": {
          "text": "Hashtag"
         }
        },
        "yaxis": {
         "anchor": "x",
         "domain": [
          0,
          1
         ],
         "title": {
          "text": "Number of Posts"
         }
        }
       }
      }
     },
     "metadata": {},
     "output_type": "display_data"
    }
   ],
   "source": [
    "import plotly.express as px\n",
    "\n",
    "df_Ad_0 = df[df['isAd'] == 0]\n",
    "df_Ad_1 = df[df['isAd'] == 1]\n",
    "def group_hashtags(df, threshold, label):\n",
    "    hashtag_counts = df['hashtag_name'].value_counts().reset_index()\n",
    "    hashtag_counts.columns = ['hashtag_name', 'count']\n",
    "    hashtag_counts['hashtag_name'] = hashtag_counts.apply(\n",
    "        lambda row: label if row['count'] < threshold else row['hashtag_name'],\n",
    "        axis=1\n",
    "    )\n",
    "    hashtag_counts_grouped = hashtag_counts.groupby('hashtag_name').sum().reset_index()\n",
    "    return hashtag_counts_grouped\n",
    "\n",
    "df_Ad_0_grouped = group_hashtags(df_Ad_0,40 , 'Other')\n",
    "df_Ad_1_grouped = group_hashtags(df_Ad_1, 3, 'Other')\n",
    "\n",
    "fig_0 = px.bar(\n",
    "    df_Ad_0_grouped,\n",
    "    x='hashtag_name',\n",
    "    y='count',\n",
    "    text='count',\n",
    "    title='Hashtag Distribution for isSponsered = 0',\n",
    "    labels={'hashtag_name': 'Hashtag', 'count': 'Count'},\n",
    "    color='hashtag_name'\n",
    ")\n",
    "fig_0.update_traces(textposition='outside')\n",
    "fig_0.update_layout(xaxis_title='Hashtag', yaxis_title='Number of Posts', showlegend=False)\n",
    "fig_1 = px.bar(\n",
    "    df_Ad_1_grouped,\n",
    "    x='hashtag_name',\n",
    "    y='count',\n",
    "    text='count',\n",
    "    title='Hashtag Distribution for isSponsered = 1',\n",
    "    labels={'hashtag_name': 'Hashtag', 'count': 'Count'},\n",
    "    color='hashtag_name'\n",
    ")\n",
    "fig_1.update_traces(textposition='outside')\n",
    "fig_1.update_layout(xaxis_title='Hashtag', yaxis_title='Number of Posts', showlegend=False)\n",
    "fig_0.show()\n",
    "fig_1.show()\n"
   ]
  },
  {
   "cell_type": "code",
   "execution_count": 17,
   "metadata": {},
   "outputs": [
    {
     "data": {
      "text/plain": [
       "Index(['input', 'main_ID', 'text', 'textLanguage', 'createTimeISO',\n",
       "       'diggCount', 'shareCount', 'playCount', 'collectCount', 'commentCount',\n",
       "       'mentions', 'hashtag_name', 'searchQuery', 'isSlideshow', 'isPinned',\n",
       "       'isSponsored', 'fromProfileSection', 'isAd', 'authorMeta_nickName',\n",
       "       'authorMeta_following', 'authorMeta_friends',\n",
       "       'authorMeta_privateAccount', 'authorMeta_friends_1',\n",
       "       'authorMeta_region', 'location_cityCode', 'location_countryCode'],\n",
       "      dtype='object')"
      ]
     },
     "execution_count": 17,
     "metadata": {},
     "output_type": "execute_result"
    }
   ],
   "source": [
    "df.columns"
   ]
  },
  {
   "cell_type": "code",
   "execution_count": 18,
   "metadata": {},
   "outputs": [
    {
     "data": {
      "text/plain": [
       "array(['TR', 'DE', 'IT', 'MT', 'JM', 'CH', 'DO', 'AT', 'AU', 'MX', 'NL',\n",
       "       'AE', 'ES', 'MV', 'US', 'DK', 'FR', 'HU', 'SE', 'PL', 'CY', 'VN',\n",
       "       nan, 'GB'], dtype=object)"
      ]
     },
     "execution_count": 18,
     "metadata": {},
     "output_type": "execute_result"
    }
   ],
   "source": [
    "df['authorMeta_region'].unique()\n"
   ]
  },
  {
   "cell_type": "code",
   "execution_count": 19,
   "metadata": {},
   "outputs": [
    {
     "data": {
      "text/plain": [
       "24"
      ]
     },
     "execution_count": 19,
     "metadata": {},
     "output_type": "execute_result"
    }
   ],
   "source": [
    "len(df['authorMeta_region'].unique())"
   ]
  },
  {
   "cell_type": "code",
   "execution_count": 20,
   "metadata": {},
   "outputs": [
    {
     "data": {
      "text/html": [
       "<div>\n",
       "<style scoped>\n",
       "    .dataframe tbody tr th:only-of-type {\n",
       "        vertical-align: middle;\n",
       "    }\n",
       "\n",
       "    .dataframe tbody tr th {\n",
       "        vertical-align: top;\n",
       "    }\n",
       "\n",
       "    .dataframe thead th {\n",
       "        text-align: right;\n",
       "    }\n",
       "</style>\n",
       "<table border=\"1\" class=\"dataframe\">\n",
       "  <thead>\n",
       "    <tr style=\"text-align: right;\">\n",
       "      <th></th>\n",
       "      <th>input</th>\n",
       "      <th>main_ID</th>\n",
       "      <th>text</th>\n",
       "      <th>textLanguage</th>\n",
       "      <th>createTimeISO</th>\n",
       "      <th>diggCount</th>\n",
       "      <th>shareCount</th>\n",
       "      <th>playCount</th>\n",
       "      <th>collectCount</th>\n",
       "      <th>commentCount</th>\n",
       "      <th>...</th>\n",
       "      <th>isSponsored</th>\n",
       "      <th>fromProfileSection</th>\n",
       "      <th>isAd</th>\n",
       "      <th>authorMeta_nickName</th>\n",
       "      <th>authorMeta_following</th>\n",
       "      <th>authorMeta_friends</th>\n",
       "      <th>authorMeta_privateAccount</th>\n",
       "      <th>authorMeta_friends_1</th>\n",
       "      <th>location_cityCode</th>\n",
       "      <th>location_countryCode</th>\n",
       "    </tr>\n",
       "    <tr>\n",
       "      <th>authorMeta_region</th>\n",
       "      <th></th>\n",
       "      <th></th>\n",
       "      <th></th>\n",
       "      <th></th>\n",
       "      <th></th>\n",
       "      <th></th>\n",
       "      <th></th>\n",
       "      <th></th>\n",
       "      <th></th>\n",
       "      <th></th>\n",
       "      <th></th>\n",
       "      <th></th>\n",
       "      <th></th>\n",
       "      <th></th>\n",
       "      <th></th>\n",
       "      <th></th>\n",
       "      <th></th>\n",
       "      <th></th>\n",
       "      <th></th>\n",
       "      <th></th>\n",
       "      <th></th>\n",
       "    </tr>\n",
       "  </thead>\n",
       "  <tbody>\n",
       "    <tr>\n",
       "      <th>AE</th>\n",
       "      <td>122</td>\n",
       "      <td>122</td>\n",
       "      <td>120</td>\n",
       "      <td>122</td>\n",
       "      <td>122</td>\n",
       "      <td>122</td>\n",
       "      <td>122</td>\n",
       "      <td>122</td>\n",
       "      <td>122</td>\n",
       "      <td>122</td>\n",
       "      <td>...</td>\n",
       "      <td>122</td>\n",
       "      <td>122</td>\n",
       "      <td>3</td>\n",
       "      <td>122</td>\n",
       "      <td>122</td>\n",
       "      <td>122</td>\n",
       "      <td>122</td>\n",
       "      <td>122</td>\n",
       "      <td>4</td>\n",
       "      <td>4</td>\n",
       "    </tr>\n",
       "    <tr>\n",
       "      <th>AT</th>\n",
       "      <td>405</td>\n",
       "      <td>405</td>\n",
       "      <td>403</td>\n",
       "      <td>405</td>\n",
       "      <td>405</td>\n",
       "      <td>405</td>\n",
       "      <td>405</td>\n",
       "      <td>405</td>\n",
       "      <td>405</td>\n",
       "      <td>405</td>\n",
       "      <td>...</td>\n",
       "      <td>405</td>\n",
       "      <td>405</td>\n",
       "      <td>89</td>\n",
       "      <td>405</td>\n",
       "      <td>405</td>\n",
       "      <td>405</td>\n",
       "      <td>405</td>\n",
       "      <td>405</td>\n",
       "      <td>53</td>\n",
       "      <td>53</td>\n",
       "    </tr>\n",
       "    <tr>\n",
       "      <th>AU</th>\n",
       "      <td>174</td>\n",
       "      <td>174</td>\n",
       "      <td>173</td>\n",
       "      <td>174</td>\n",
       "      <td>174</td>\n",
       "      <td>174</td>\n",
       "      <td>174</td>\n",
       "      <td>174</td>\n",
       "      <td>174</td>\n",
       "      <td>174</td>\n",
       "      <td>...</td>\n",
       "      <td>174</td>\n",
       "      <td>174</td>\n",
       "      <td>0</td>\n",
       "      <td>174</td>\n",
       "      <td>174</td>\n",
       "      <td>174</td>\n",
       "      <td>174</td>\n",
       "      <td>174</td>\n",
       "      <td>0</td>\n",
       "      <td>0</td>\n",
       "    </tr>\n",
       "    <tr>\n",
       "      <th>CH</th>\n",
       "      <td>1028</td>\n",
       "      <td>1028</td>\n",
       "      <td>1023</td>\n",
       "      <td>1028</td>\n",
       "      <td>1028</td>\n",
       "      <td>1028</td>\n",
       "      <td>1028</td>\n",
       "      <td>1028</td>\n",
       "      <td>1028</td>\n",
       "      <td>1028</td>\n",
       "      <td>...</td>\n",
       "      <td>1028</td>\n",
       "      <td>1028</td>\n",
       "      <td>581</td>\n",
       "      <td>1028</td>\n",
       "      <td>1028</td>\n",
       "      <td>1028</td>\n",
       "      <td>1028</td>\n",
       "      <td>1028</td>\n",
       "      <td>287</td>\n",
       "      <td>287</td>\n",
       "    </tr>\n",
       "    <tr>\n",
       "      <th>CY</th>\n",
       "      <td>120</td>\n",
       "      <td>120</td>\n",
       "      <td>120</td>\n",
       "      <td>120</td>\n",
       "      <td>120</td>\n",
       "      <td>120</td>\n",
       "      <td>120</td>\n",
       "      <td>120</td>\n",
       "      <td>120</td>\n",
       "      <td>120</td>\n",
       "      <td>...</td>\n",
       "      <td>120</td>\n",
       "      <td>120</td>\n",
       "      <td>120</td>\n",
       "      <td>120</td>\n",
       "      <td>120</td>\n",
       "      <td>120</td>\n",
       "      <td>120</td>\n",
       "      <td>120</td>\n",
       "      <td>5</td>\n",
       "      <td>5</td>\n",
       "    </tr>\n",
       "    <tr>\n",
       "      <th>DE</th>\n",
       "      <td>10207</td>\n",
       "      <td>10207</td>\n",
       "      <td>10116</td>\n",
       "      <td>10206</td>\n",
       "      <td>10207</td>\n",
       "      <td>10207</td>\n",
       "      <td>10207</td>\n",
       "      <td>10207</td>\n",
       "      <td>10207</td>\n",
       "      <td>10207</td>\n",
       "      <td>...</td>\n",
       "      <td>10207</td>\n",
       "      <td>10207</td>\n",
       "      <td>6728</td>\n",
       "      <td>10207</td>\n",
       "      <td>10207</td>\n",
       "      <td>10207</td>\n",
       "      <td>10207</td>\n",
       "      <td>10207</td>\n",
       "      <td>1202</td>\n",
       "      <td>1202</td>\n",
       "    </tr>\n",
       "    <tr>\n",
       "      <th>DK</th>\n",
       "      <td>5</td>\n",
       "      <td>5</td>\n",
       "      <td>5</td>\n",
       "      <td>5</td>\n",
       "      <td>5</td>\n",
       "      <td>5</td>\n",
       "      <td>5</td>\n",
       "      <td>5</td>\n",
       "      <td>5</td>\n",
       "      <td>5</td>\n",
       "      <td>...</td>\n",
       "      <td>5</td>\n",
       "      <td>5</td>\n",
       "      <td>5</td>\n",
       "      <td>5</td>\n",
       "      <td>5</td>\n",
       "      <td>5</td>\n",
       "      <td>5</td>\n",
       "      <td>5</td>\n",
       "      <td>0</td>\n",
       "      <td>0</td>\n",
       "    </tr>\n",
       "    <tr>\n",
       "      <th>DO</th>\n",
       "      <td>91</td>\n",
       "      <td>91</td>\n",
       "      <td>91</td>\n",
       "      <td>91</td>\n",
       "      <td>91</td>\n",
       "      <td>91</td>\n",
       "      <td>91</td>\n",
       "      <td>91</td>\n",
       "      <td>91</td>\n",
       "      <td>91</td>\n",
       "      <td>...</td>\n",
       "      <td>91</td>\n",
       "      <td>91</td>\n",
       "      <td>91</td>\n",
       "      <td>91</td>\n",
       "      <td>91</td>\n",
       "      <td>91</td>\n",
       "      <td>91</td>\n",
       "      <td>91</td>\n",
       "      <td>0</td>\n",
       "      <td>0</td>\n",
       "    </tr>\n",
       "    <tr>\n",
       "      <th>ES</th>\n",
       "      <td>113</td>\n",
       "      <td>113</td>\n",
       "      <td>112</td>\n",
       "      <td>113</td>\n",
       "      <td>113</td>\n",
       "      <td>113</td>\n",
       "      <td>113</td>\n",
       "      <td>113</td>\n",
       "      <td>113</td>\n",
       "      <td>113</td>\n",
       "      <td>...</td>\n",
       "      <td>113</td>\n",
       "      <td>113</td>\n",
       "      <td>84</td>\n",
       "      <td>113</td>\n",
       "      <td>113</td>\n",
       "      <td>113</td>\n",
       "      <td>113</td>\n",
       "      <td>113</td>\n",
       "      <td>4</td>\n",
       "      <td>4</td>\n",
       "    </tr>\n",
       "    <tr>\n",
       "      <th>FR</th>\n",
       "      <td>228</td>\n",
       "      <td>228</td>\n",
       "      <td>228</td>\n",
       "      <td>228</td>\n",
       "      <td>228</td>\n",
       "      <td>228</td>\n",
       "      <td>228</td>\n",
       "      <td>228</td>\n",
       "      <td>228</td>\n",
       "      <td>228</td>\n",
       "      <td>...</td>\n",
       "      <td>228</td>\n",
       "      <td>228</td>\n",
       "      <td>163</td>\n",
       "      <td>228</td>\n",
       "      <td>228</td>\n",
       "      <td>228</td>\n",
       "      <td>228</td>\n",
       "      <td>228</td>\n",
       "      <td>9</td>\n",
       "      <td>9</td>\n",
       "    </tr>\n",
       "    <tr>\n",
       "      <th>GB</th>\n",
       "      <td>81</td>\n",
       "      <td>81</td>\n",
       "      <td>81</td>\n",
       "      <td>81</td>\n",
       "      <td>81</td>\n",
       "      <td>81</td>\n",
       "      <td>81</td>\n",
       "      <td>81</td>\n",
       "      <td>81</td>\n",
       "      <td>81</td>\n",
       "      <td>...</td>\n",
       "      <td>81</td>\n",
       "      <td>81</td>\n",
       "      <td>81</td>\n",
       "      <td>81</td>\n",
       "      <td>81</td>\n",
       "      <td>81</td>\n",
       "      <td>81</td>\n",
       "      <td>81</td>\n",
       "      <td>0</td>\n",
       "      <td>0</td>\n",
       "    </tr>\n",
       "    <tr>\n",
       "      <th>HU</th>\n",
       "      <td>5</td>\n",
       "      <td>5</td>\n",
       "      <td>5</td>\n",
       "      <td>5</td>\n",
       "      <td>5</td>\n",
       "      <td>5</td>\n",
       "      <td>5</td>\n",
       "      <td>5</td>\n",
       "      <td>5</td>\n",
       "      <td>5</td>\n",
       "      <td>...</td>\n",
       "      <td>5</td>\n",
       "      <td>5</td>\n",
       "      <td>5</td>\n",
       "      <td>5</td>\n",
       "      <td>5</td>\n",
       "      <td>5</td>\n",
       "      <td>5</td>\n",
       "      <td>5</td>\n",
       "      <td>4</td>\n",
       "      <td>4</td>\n",
       "    </tr>\n",
       "    <tr>\n",
       "      <th>IT</th>\n",
       "      <td>100</td>\n",
       "      <td>100</td>\n",
       "      <td>100</td>\n",
       "      <td>100</td>\n",
       "      <td>100</td>\n",
       "      <td>100</td>\n",
       "      <td>100</td>\n",
       "      <td>100</td>\n",
       "      <td>100</td>\n",
       "      <td>100</td>\n",
       "      <td>...</td>\n",
       "      <td>100</td>\n",
       "      <td>100</td>\n",
       "      <td>3</td>\n",
       "      <td>100</td>\n",
       "      <td>100</td>\n",
       "      <td>100</td>\n",
       "      <td>100</td>\n",
       "      <td>100</td>\n",
       "      <td>1</td>\n",
       "      <td>1</td>\n",
       "    </tr>\n",
       "    <tr>\n",
       "      <th>JM</th>\n",
       "      <td>20</td>\n",
       "      <td>20</td>\n",
       "      <td>2</td>\n",
       "      <td>20</td>\n",
       "      <td>20</td>\n",
       "      <td>20</td>\n",
       "      <td>20</td>\n",
       "      <td>20</td>\n",
       "      <td>20</td>\n",
       "      <td>20</td>\n",
       "      <td>...</td>\n",
       "      <td>20</td>\n",
       "      <td>20</td>\n",
       "      <td>0</td>\n",
       "      <td>20</td>\n",
       "      <td>20</td>\n",
       "      <td>20</td>\n",
       "      <td>20</td>\n",
       "      <td>20</td>\n",
       "      <td>0</td>\n",
       "      <td>0</td>\n",
       "    </tr>\n",
       "    <tr>\n",
       "      <th>MT</th>\n",
       "      <td>27</td>\n",
       "      <td>27</td>\n",
       "      <td>24</td>\n",
       "      <td>27</td>\n",
       "      <td>27</td>\n",
       "      <td>27</td>\n",
       "      <td>27</td>\n",
       "      <td>27</td>\n",
       "      <td>27</td>\n",
       "      <td>27</td>\n",
       "      <td>...</td>\n",
       "      <td>27</td>\n",
       "      <td>27</td>\n",
       "      <td>27</td>\n",
       "      <td>27</td>\n",
       "      <td>27</td>\n",
       "      <td>27</td>\n",
       "      <td>27</td>\n",
       "      <td>27</td>\n",
       "      <td>0</td>\n",
       "      <td>0</td>\n",
       "    </tr>\n",
       "    <tr>\n",
       "      <th>MV</th>\n",
       "      <td>38</td>\n",
       "      <td>38</td>\n",
       "      <td>36</td>\n",
       "      <td>38</td>\n",
       "      <td>38</td>\n",
       "      <td>38</td>\n",
       "      <td>38</td>\n",
       "      <td>38</td>\n",
       "      <td>38</td>\n",
       "      <td>38</td>\n",
       "      <td>...</td>\n",
       "      <td>38</td>\n",
       "      <td>38</td>\n",
       "      <td>11</td>\n",
       "      <td>38</td>\n",
       "      <td>38</td>\n",
       "      <td>38</td>\n",
       "      <td>38</td>\n",
       "      <td>38</td>\n",
       "      <td>0</td>\n",
       "      <td>0</td>\n",
       "    </tr>\n",
       "    <tr>\n",
       "      <th>MX</th>\n",
       "      <td>22</td>\n",
       "      <td>22</td>\n",
       "      <td>22</td>\n",
       "      <td>22</td>\n",
       "      <td>22</td>\n",
       "      <td>22</td>\n",
       "      <td>22</td>\n",
       "      <td>22</td>\n",
       "      <td>22</td>\n",
       "      <td>22</td>\n",
       "      <td>...</td>\n",
       "      <td>22</td>\n",
       "      <td>22</td>\n",
       "      <td>0</td>\n",
       "      <td>22</td>\n",
       "      <td>22</td>\n",
       "      <td>22</td>\n",
       "      <td>22</td>\n",
       "      <td>22</td>\n",
       "      <td>1</td>\n",
       "      <td>1</td>\n",
       "    </tr>\n",
       "    <tr>\n",
       "      <th>NL</th>\n",
       "      <td>177</td>\n",
       "      <td>177</td>\n",
       "      <td>177</td>\n",
       "      <td>177</td>\n",
       "      <td>177</td>\n",
       "      <td>177</td>\n",
       "      <td>177</td>\n",
       "      <td>177</td>\n",
       "      <td>177</td>\n",
       "      <td>177</td>\n",
       "      <td>...</td>\n",
       "      <td>177</td>\n",
       "      <td>177</td>\n",
       "      <td>100</td>\n",
       "      <td>177</td>\n",
       "      <td>177</td>\n",
       "      <td>177</td>\n",
       "      <td>177</td>\n",
       "      <td>177</td>\n",
       "      <td>5</td>\n",
       "      <td>5</td>\n",
       "    </tr>\n",
       "    <tr>\n",
       "      <th>PL</th>\n",
       "      <td>11</td>\n",
       "      <td>11</td>\n",
       "      <td>11</td>\n",
       "      <td>11</td>\n",
       "      <td>11</td>\n",
       "      <td>11</td>\n",
       "      <td>11</td>\n",
       "      <td>11</td>\n",
       "      <td>11</td>\n",
       "      <td>11</td>\n",
       "      <td>...</td>\n",
       "      <td>11</td>\n",
       "      <td>11</td>\n",
       "      <td>11</td>\n",
       "      <td>11</td>\n",
       "      <td>11</td>\n",
       "      <td>11</td>\n",
       "      <td>11</td>\n",
       "      <td>11</td>\n",
       "      <td>0</td>\n",
       "      <td>0</td>\n",
       "    </tr>\n",
       "    <tr>\n",
       "      <th>SE</th>\n",
       "      <td>46</td>\n",
       "      <td>46</td>\n",
       "      <td>37</td>\n",
       "      <td>46</td>\n",
       "      <td>46</td>\n",
       "      <td>46</td>\n",
       "      <td>46</td>\n",
       "      <td>46</td>\n",
       "      <td>46</td>\n",
       "      <td>46</td>\n",
       "      <td>...</td>\n",
       "      <td>46</td>\n",
       "      <td>46</td>\n",
       "      <td>26</td>\n",
       "      <td>46</td>\n",
       "      <td>46</td>\n",
       "      <td>46</td>\n",
       "      <td>46</td>\n",
       "      <td>46</td>\n",
       "      <td>0</td>\n",
       "      <td>0</td>\n",
       "    </tr>\n",
       "    <tr>\n",
       "      <th>TR</th>\n",
       "      <td>10</td>\n",
       "      <td>10</td>\n",
       "      <td>10</td>\n",
       "      <td>10</td>\n",
       "      <td>10</td>\n",
       "      <td>10</td>\n",
       "      <td>10</td>\n",
       "      <td>10</td>\n",
       "      <td>10</td>\n",
       "      <td>10</td>\n",
       "      <td>...</td>\n",
       "      <td>10</td>\n",
       "      <td>10</td>\n",
       "      <td>10</td>\n",
       "      <td>10</td>\n",
       "      <td>10</td>\n",
       "      <td>10</td>\n",
       "      <td>10</td>\n",
       "      <td>10</td>\n",
       "      <td>0</td>\n",
       "      <td>0</td>\n",
       "    </tr>\n",
       "    <tr>\n",
       "      <th>US</th>\n",
       "      <td>639</td>\n",
       "      <td>639</td>\n",
       "      <td>634</td>\n",
       "      <td>639</td>\n",
       "      <td>639</td>\n",
       "      <td>639</td>\n",
       "      <td>639</td>\n",
       "      <td>639</td>\n",
       "      <td>639</td>\n",
       "      <td>639</td>\n",
       "      <td>...</td>\n",
       "      <td>639</td>\n",
       "      <td>639</td>\n",
       "      <td>597</td>\n",
       "      <td>639</td>\n",
       "      <td>639</td>\n",
       "      <td>639</td>\n",
       "      <td>639</td>\n",
       "      <td>639</td>\n",
       "      <td>0</td>\n",
       "      <td>0</td>\n",
       "    </tr>\n",
       "    <tr>\n",
       "      <th>VN</th>\n",
       "      <td>30</td>\n",
       "      <td>30</td>\n",
       "      <td>30</td>\n",
       "      <td>30</td>\n",
       "      <td>30</td>\n",
       "      <td>30</td>\n",
       "      <td>30</td>\n",
       "      <td>30</td>\n",
       "      <td>30</td>\n",
       "      <td>30</td>\n",
       "      <td>...</td>\n",
       "      <td>30</td>\n",
       "      <td>30</td>\n",
       "      <td>30</td>\n",
       "      <td>30</td>\n",
       "      <td>30</td>\n",
       "      <td>30</td>\n",
       "      <td>30</td>\n",
       "      <td>30</td>\n",
       "      <td>14</td>\n",
       "      <td>14</td>\n",
       "    </tr>\n",
       "  </tbody>\n",
       "</table>\n",
       "<p>23 rows × 25 columns</p>\n",
       "</div>"
      ],
      "text/plain": [
       "                   input  main_ID   text  textLanguage  createTimeISO  \\\n",
       "authorMeta_region                                                       \n",
       "AE                   122      122    120           122            122   \n",
       "AT                   405      405    403           405            405   \n",
       "AU                   174      174    173           174            174   \n",
       "CH                  1028     1028   1023          1028           1028   \n",
       "CY                   120      120    120           120            120   \n",
       "DE                 10207    10207  10116         10206          10207   \n",
       "DK                     5        5      5             5              5   \n",
       "DO                    91       91     91            91             91   \n",
       "ES                   113      113    112           113            113   \n",
       "FR                   228      228    228           228            228   \n",
       "GB                    81       81     81            81             81   \n",
       "HU                     5        5      5             5              5   \n",
       "IT                   100      100    100           100            100   \n",
       "JM                    20       20      2            20             20   \n",
       "MT                    27       27     24            27             27   \n",
       "MV                    38       38     36            38             38   \n",
       "MX                    22       22     22            22             22   \n",
       "NL                   177      177    177           177            177   \n",
       "PL                    11       11     11            11             11   \n",
       "SE                    46       46     37            46             46   \n",
       "TR                    10       10     10            10             10   \n",
       "US                   639      639    634           639            639   \n",
       "VN                    30       30     30            30             30   \n",
       "\n",
       "                   diggCount  shareCount  playCount  collectCount  \\\n",
       "authorMeta_region                                                   \n",
       "AE                       122         122        122           122   \n",
       "AT                       405         405        405           405   \n",
       "AU                       174         174        174           174   \n",
       "CH                      1028        1028       1028          1028   \n",
       "CY                       120         120        120           120   \n",
       "DE                     10207       10207      10207         10207   \n",
       "DK                         5           5          5             5   \n",
       "DO                        91          91         91            91   \n",
       "ES                       113         113        113           113   \n",
       "FR                       228         228        228           228   \n",
       "GB                        81          81         81            81   \n",
       "HU                         5           5          5             5   \n",
       "IT                       100         100        100           100   \n",
       "JM                        20          20         20            20   \n",
       "MT                        27          27         27            27   \n",
       "MV                        38          38         38            38   \n",
       "MX                        22          22         22            22   \n",
       "NL                       177         177        177           177   \n",
       "PL                        11          11         11            11   \n",
       "SE                        46          46         46            46   \n",
       "TR                        10          10         10            10   \n",
       "US                       639         639        639           639   \n",
       "VN                        30          30         30            30   \n",
       "\n",
       "                   commentCount  ...  isSponsored  fromProfileSection  isAd  \\\n",
       "authorMeta_region                ...                                          \n",
       "AE                          122  ...          122                 122     3   \n",
       "AT                          405  ...          405                 405    89   \n",
       "AU                          174  ...          174                 174     0   \n",
       "CH                         1028  ...         1028                1028   581   \n",
       "CY                          120  ...          120                 120   120   \n",
       "DE                        10207  ...        10207               10207  6728   \n",
       "DK                            5  ...            5                   5     5   \n",
       "DO                           91  ...           91                  91    91   \n",
       "ES                          113  ...          113                 113    84   \n",
       "FR                          228  ...          228                 228   163   \n",
       "GB                           81  ...           81                  81    81   \n",
       "HU                            5  ...            5                   5     5   \n",
       "IT                          100  ...          100                 100     3   \n",
       "JM                           20  ...           20                  20     0   \n",
       "MT                           27  ...           27                  27    27   \n",
       "MV                           38  ...           38                  38    11   \n",
       "MX                           22  ...           22                  22     0   \n",
       "NL                          177  ...          177                 177   100   \n",
       "PL                           11  ...           11                  11    11   \n",
       "SE                           46  ...           46                  46    26   \n",
       "TR                           10  ...           10                  10    10   \n",
       "US                          639  ...          639                 639   597   \n",
       "VN                           30  ...           30                  30    30   \n",
       "\n",
       "                   authorMeta_nickName  authorMeta_following  \\\n",
       "authorMeta_region                                              \n",
       "AE                                 122                   122   \n",
       "AT                                 405                   405   \n",
       "AU                                 174                   174   \n",
       "CH                                1028                  1028   \n",
       "CY                                 120                   120   \n",
       "DE                               10207                 10207   \n",
       "DK                                   5                     5   \n",
       "DO                                  91                    91   \n",
       "ES                                 113                   113   \n",
       "FR                                 228                   228   \n",
       "GB                                  81                    81   \n",
       "HU                                   5                     5   \n",
       "IT                                 100                   100   \n",
       "JM                                  20                    20   \n",
       "MT                                  27                    27   \n",
       "MV                                  38                    38   \n",
       "MX                                  22                    22   \n",
       "NL                                 177                   177   \n",
       "PL                                  11                    11   \n",
       "SE                                  46                    46   \n",
       "TR                                  10                    10   \n",
       "US                                 639                   639   \n",
       "VN                                  30                    30   \n",
       "\n",
       "                   authorMeta_friends  authorMeta_privateAccount  \\\n",
       "authorMeta_region                                                  \n",
       "AE                                122                        122   \n",
       "AT                                405                        405   \n",
       "AU                                174                        174   \n",
       "CH                               1028                       1028   \n",
       "CY                                120                        120   \n",
       "DE                              10207                      10207   \n",
       "DK                                  5                          5   \n",
       "DO                                 91                         91   \n",
       "ES                                113                        113   \n",
       "FR                                228                        228   \n",
       "GB                                 81                         81   \n",
       "HU                                  5                          5   \n",
       "IT                                100                        100   \n",
       "JM                                 20                         20   \n",
       "MT                                 27                         27   \n",
       "MV                                 38                         38   \n",
       "MX                                 22                         22   \n",
       "NL                                177                        177   \n",
       "PL                                 11                         11   \n",
       "SE                                 46                         46   \n",
       "TR                                 10                         10   \n",
       "US                                639                        639   \n",
       "VN                                 30                         30   \n",
       "\n",
       "                   authorMeta_friends_1  location_cityCode  \\\n",
       "authorMeta_region                                            \n",
       "AE                                  122                  4   \n",
       "AT                                  405                 53   \n",
       "AU                                  174                  0   \n",
       "CH                                 1028                287   \n",
       "CY                                  120                  5   \n",
       "DE                                10207               1202   \n",
       "DK                                    5                  0   \n",
       "DO                                   91                  0   \n",
       "ES                                  113                  4   \n",
       "FR                                  228                  9   \n",
       "GB                                   81                  0   \n",
       "HU                                    5                  4   \n",
       "IT                                  100                  1   \n",
       "JM                                   20                  0   \n",
       "MT                                   27                  0   \n",
       "MV                                   38                  0   \n",
       "MX                                   22                  1   \n",
       "NL                                  177                  5   \n",
       "PL                                   11                  0   \n",
       "SE                                   46                  0   \n",
       "TR                                   10                  0   \n",
       "US                                  639                  0   \n",
       "VN                                   30                 14   \n",
       "\n",
       "                   location_countryCode  \n",
       "authorMeta_region                        \n",
       "AE                                    4  \n",
       "AT                                   53  \n",
       "AU                                    0  \n",
       "CH                                  287  \n",
       "CY                                    5  \n",
       "DE                                 1202  \n",
       "DK                                    0  \n",
       "DO                                    0  \n",
       "ES                                    4  \n",
       "FR                                    9  \n",
       "GB                                    0  \n",
       "HU                                    4  \n",
       "IT                                    1  \n",
       "JM                                    0  \n",
       "MT                                    0  \n",
       "MV                                    0  \n",
       "MX                                    1  \n",
       "NL                                    5  \n",
       "PL                                    0  \n",
       "SE                                    0  \n",
       "TR                                    0  \n",
       "US                                    0  \n",
       "VN                                   14  \n",
       "\n",
       "[23 rows x 25 columns]"
      ]
     },
     "execution_count": 20,
     "metadata": {},
     "output_type": "execute_result"
    }
   ],
   "source": [
    "df.groupby(['authorMeta_region']).count()\n",
    "\n"
   ]
  },
  {
   "cell_type": "code",
   "execution_count": 21,
   "metadata": {},
   "outputs": [
    {
     "data": {
      "text/html": [
       "<div>\n",
       "<style scoped>\n",
       "    .dataframe tbody tr th:only-of-type {\n",
       "        vertical-align: middle;\n",
       "    }\n",
       "\n",
       "    .dataframe tbody tr th {\n",
       "        vertical-align: top;\n",
       "    }\n",
       "\n",
       "    .dataframe thead th {\n",
       "        text-align: right;\n",
       "    }\n",
       "</style>\n",
       "<table border=\"1\" class=\"dataframe\">\n",
       "  <thead>\n",
       "    <tr style=\"text-align: right;\">\n",
       "      <th></th>\n",
       "      <th></th>\n",
       "      <th>input</th>\n",
       "      <th>main_ID</th>\n",
       "      <th>text</th>\n",
       "      <th>createTimeISO</th>\n",
       "      <th>diggCount</th>\n",
       "      <th>shareCount</th>\n",
       "      <th>playCount</th>\n",
       "      <th>collectCount</th>\n",
       "      <th>commentCount</th>\n",
       "      <th>mentions</th>\n",
       "      <th>...</th>\n",
       "      <th>isSponsored</th>\n",
       "      <th>fromProfileSection</th>\n",
       "      <th>isAd</th>\n",
       "      <th>authorMeta_nickName</th>\n",
       "      <th>authorMeta_following</th>\n",
       "      <th>authorMeta_friends</th>\n",
       "      <th>authorMeta_privateAccount</th>\n",
       "      <th>authorMeta_friends_1</th>\n",
       "      <th>location_cityCode</th>\n",
       "      <th>location_countryCode</th>\n",
       "    </tr>\n",
       "    <tr>\n",
       "      <th>authorMeta_region</th>\n",
       "      <th>textLanguage</th>\n",
       "      <th></th>\n",
       "      <th></th>\n",
       "      <th></th>\n",
       "      <th></th>\n",
       "      <th></th>\n",
       "      <th></th>\n",
       "      <th></th>\n",
       "      <th></th>\n",
       "      <th></th>\n",
       "      <th></th>\n",
       "      <th></th>\n",
       "      <th></th>\n",
       "      <th></th>\n",
       "      <th></th>\n",
       "      <th></th>\n",
       "      <th></th>\n",
       "      <th></th>\n",
       "      <th></th>\n",
       "      <th></th>\n",
       "      <th></th>\n",
       "      <th></th>\n",
       "    </tr>\n",
       "  </thead>\n",
       "  <tbody>\n",
       "    <tr>\n",
       "      <th rowspan=\"5\" valign=\"top\">AE</th>\n",
       "      <th>de</th>\n",
       "      <td>99</td>\n",
       "      <td>99</td>\n",
       "      <td>99</td>\n",
       "      <td>99</td>\n",
       "      <td>99</td>\n",
       "      <td>99</td>\n",
       "      <td>99</td>\n",
       "      <td>99</td>\n",
       "      <td>99</td>\n",
       "      <td>99</td>\n",
       "      <td>...</td>\n",
       "      <td>99</td>\n",
       "      <td>99</td>\n",
       "      <td>2</td>\n",
       "      <td>99</td>\n",
       "      <td>99</td>\n",
       "      <td>99</td>\n",
       "      <td>99</td>\n",
       "      <td>99</td>\n",
       "      <td>4</td>\n",
       "      <td>4</td>\n",
       "    </tr>\n",
       "    <tr>\n",
       "      <th>en</th>\n",
       "      <td>9</td>\n",
       "      <td>9</td>\n",
       "      <td>9</td>\n",
       "      <td>9</td>\n",
       "      <td>9</td>\n",
       "      <td>9</td>\n",
       "      <td>9</td>\n",
       "      <td>9</td>\n",
       "      <td>9</td>\n",
       "      <td>9</td>\n",
       "      <td>...</td>\n",
       "      <td>9</td>\n",
       "      <td>9</td>\n",
       "      <td>0</td>\n",
       "      <td>9</td>\n",
       "      <td>9</td>\n",
       "      <td>9</td>\n",
       "      <td>9</td>\n",
       "      <td>9</td>\n",
       "      <td>0</td>\n",
       "      <td>0</td>\n",
       "    </tr>\n",
       "    <tr>\n",
       "      <th>hu</th>\n",
       "      <td>10</td>\n",
       "      <td>10</td>\n",
       "      <td>10</td>\n",
       "      <td>10</td>\n",
       "      <td>10</td>\n",
       "      <td>10</td>\n",
       "      <td>10</td>\n",
       "      <td>10</td>\n",
       "      <td>10</td>\n",
       "      <td>10</td>\n",
       "      <td>...</td>\n",
       "      <td>10</td>\n",
       "      <td>10</td>\n",
       "      <td>0</td>\n",
       "      <td>10</td>\n",
       "      <td>10</td>\n",
       "      <td>10</td>\n",
       "      <td>10</td>\n",
       "      <td>10</td>\n",
       "      <td>0</td>\n",
       "      <td>0</td>\n",
       "    </tr>\n",
       "    <tr>\n",
       "      <th>pt</th>\n",
       "      <td>1</td>\n",
       "      <td>1</td>\n",
       "      <td>1</td>\n",
       "      <td>1</td>\n",
       "      <td>1</td>\n",
       "      <td>1</td>\n",
       "      <td>1</td>\n",
       "      <td>1</td>\n",
       "      <td>1</td>\n",
       "      <td>1</td>\n",
       "      <td>...</td>\n",
       "      <td>1</td>\n",
       "      <td>1</td>\n",
       "      <td>0</td>\n",
       "      <td>1</td>\n",
       "      <td>1</td>\n",
       "      <td>1</td>\n",
       "      <td>1</td>\n",
       "      <td>1</td>\n",
       "      <td>0</td>\n",
       "      <td>0</td>\n",
       "    </tr>\n",
       "    <tr>\n",
       "      <th>un</th>\n",
       "      <td>3</td>\n",
       "      <td>3</td>\n",
       "      <td>1</td>\n",
       "      <td>3</td>\n",
       "      <td>3</td>\n",
       "      <td>3</td>\n",
       "      <td>3</td>\n",
       "      <td>3</td>\n",
       "      <td>3</td>\n",
       "      <td>3</td>\n",
       "      <td>...</td>\n",
       "      <td>3</td>\n",
       "      <td>3</td>\n",
       "      <td>1</td>\n",
       "      <td>3</td>\n",
       "      <td>3</td>\n",
       "      <td>3</td>\n",
       "      <td>3</td>\n",
       "      <td>3</td>\n",
       "      <td>0</td>\n",
       "      <td>0</td>\n",
       "    </tr>\n",
       "    <tr>\n",
       "      <th>...</th>\n",
       "      <th>...</th>\n",
       "      <td>...</td>\n",
       "      <td>...</td>\n",
       "      <td>...</td>\n",
       "      <td>...</td>\n",
       "      <td>...</td>\n",
       "      <td>...</td>\n",
       "      <td>...</td>\n",
       "      <td>...</td>\n",
       "      <td>...</td>\n",
       "      <td>...</td>\n",
       "      <td>...</td>\n",
       "      <td>...</td>\n",
       "      <td>...</td>\n",
       "      <td>...</td>\n",
       "      <td>...</td>\n",
       "      <td>...</td>\n",
       "      <td>...</td>\n",
       "      <td>...</td>\n",
       "      <td>...</td>\n",
       "      <td>...</td>\n",
       "      <td>...</td>\n",
       "    </tr>\n",
       "    <tr>\n",
       "      <th rowspan=\"3\" valign=\"top\">US</th>\n",
       "      <th>en</th>\n",
       "      <td>597</td>\n",
       "      <td>597</td>\n",
       "      <td>595</td>\n",
       "      <td>597</td>\n",
       "      <td>597</td>\n",
       "      <td>597</td>\n",
       "      <td>597</td>\n",
       "      <td>597</td>\n",
       "      <td>597</td>\n",
       "      <td>597</td>\n",
       "      <td>...</td>\n",
       "      <td>597</td>\n",
       "      <td>597</td>\n",
       "      <td>585</td>\n",
       "      <td>597</td>\n",
       "      <td>597</td>\n",
       "      <td>597</td>\n",
       "      <td>597</td>\n",
       "      <td>597</td>\n",
       "      <td>0</td>\n",
       "      <td>0</td>\n",
       "    </tr>\n",
       "    <tr>\n",
       "      <th>sm</th>\n",
       "      <td>1</td>\n",
       "      <td>1</td>\n",
       "      <td>1</td>\n",
       "      <td>1</td>\n",
       "      <td>1</td>\n",
       "      <td>1</td>\n",
       "      <td>1</td>\n",
       "      <td>1</td>\n",
       "      <td>1</td>\n",
       "      <td>1</td>\n",
       "      <td>...</td>\n",
       "      <td>1</td>\n",
       "      <td>1</td>\n",
       "      <td>0</td>\n",
       "      <td>1</td>\n",
       "      <td>1</td>\n",
       "      <td>1</td>\n",
       "      <td>1</td>\n",
       "      <td>1</td>\n",
       "      <td>0</td>\n",
       "      <td>0</td>\n",
       "    </tr>\n",
       "    <tr>\n",
       "      <th>un</th>\n",
       "      <td>5</td>\n",
       "      <td>5</td>\n",
       "      <td>2</td>\n",
       "      <td>5</td>\n",
       "      <td>5</td>\n",
       "      <td>5</td>\n",
       "      <td>5</td>\n",
       "      <td>5</td>\n",
       "      <td>5</td>\n",
       "      <td>5</td>\n",
       "      <td>...</td>\n",
       "      <td>5</td>\n",
       "      <td>5</td>\n",
       "      <td>0</td>\n",
       "      <td>5</td>\n",
       "      <td>5</td>\n",
       "      <td>5</td>\n",
       "      <td>5</td>\n",
       "      <td>5</td>\n",
       "      <td>0</td>\n",
       "      <td>0</td>\n",
       "    </tr>\n",
       "    <tr>\n",
       "      <th rowspan=\"2\" valign=\"top\">VN</th>\n",
       "      <th>cy</th>\n",
       "      <td>1</td>\n",
       "      <td>1</td>\n",
       "      <td>1</td>\n",
       "      <td>1</td>\n",
       "      <td>1</td>\n",
       "      <td>1</td>\n",
       "      <td>1</td>\n",
       "      <td>1</td>\n",
       "      <td>1</td>\n",
       "      <td>1</td>\n",
       "      <td>...</td>\n",
       "      <td>1</td>\n",
       "      <td>1</td>\n",
       "      <td>1</td>\n",
       "      <td>1</td>\n",
       "      <td>1</td>\n",
       "      <td>1</td>\n",
       "      <td>1</td>\n",
       "      <td>1</td>\n",
       "      <td>0</td>\n",
       "      <td>0</td>\n",
       "    </tr>\n",
       "    <tr>\n",
       "      <th>en</th>\n",
       "      <td>29</td>\n",
       "      <td>29</td>\n",
       "      <td>29</td>\n",
       "      <td>29</td>\n",
       "      <td>29</td>\n",
       "      <td>29</td>\n",
       "      <td>29</td>\n",
       "      <td>29</td>\n",
       "      <td>29</td>\n",
       "      <td>29</td>\n",
       "      <td>...</td>\n",
       "      <td>29</td>\n",
       "      <td>29</td>\n",
       "      <td>29</td>\n",
       "      <td>29</td>\n",
       "      <td>29</td>\n",
       "      <td>29</td>\n",
       "      <td>29</td>\n",
       "      <td>29</td>\n",
       "      <td>14</td>\n",
       "      <td>14</td>\n",
       "    </tr>\n",
       "  </tbody>\n",
       "</table>\n",
       "<p>88 rows × 24 columns</p>\n",
       "</div>"
      ],
      "text/plain": [
       "                                input  main_ID  text  createTimeISO  \\\n",
       "authorMeta_region textLanguage                                        \n",
       "AE                de               99       99    99             99   \n",
       "                  en                9        9     9              9   \n",
       "                  hu               10       10    10             10   \n",
       "                  pt                1        1     1              1   \n",
       "                  un                3        3     1              3   \n",
       "...                               ...      ...   ...            ...   \n",
       "US                en              597      597   595            597   \n",
       "                  sm                1        1     1              1   \n",
       "                  un                5        5     2              5   \n",
       "VN                cy                1        1     1              1   \n",
       "                  en               29       29    29             29   \n",
       "\n",
       "                                diggCount  shareCount  playCount  \\\n",
       "authorMeta_region textLanguage                                     \n",
       "AE                de                   99          99         99   \n",
       "                  en                    9           9          9   \n",
       "                  hu                   10          10         10   \n",
       "                  pt                    1           1          1   \n",
       "                  un                    3           3          3   \n",
       "...                                   ...         ...        ...   \n",
       "US                en                  597         597        597   \n",
       "                  sm                    1           1          1   \n",
       "                  un                    5           5          5   \n",
       "VN                cy                    1           1          1   \n",
       "                  en                   29          29         29   \n",
       "\n",
       "                                collectCount  commentCount  mentions  ...  \\\n",
       "authorMeta_region textLanguage                                        ...   \n",
       "AE                de                      99            99        99  ...   \n",
       "                  en                       9             9         9  ...   \n",
       "                  hu                      10            10        10  ...   \n",
       "                  pt                       1             1         1  ...   \n",
       "                  un                       3             3         3  ...   \n",
       "...                                      ...           ...       ...  ...   \n",
       "US                en                     597           597       597  ...   \n",
       "                  sm                       1             1         1  ...   \n",
       "                  un                       5             5         5  ...   \n",
       "VN                cy                       1             1         1  ...   \n",
       "                  en                      29            29        29  ...   \n",
       "\n",
       "                                isSponsored  fromProfileSection  isAd  \\\n",
       "authorMeta_region textLanguage                                          \n",
       "AE                de                     99                  99     2   \n",
       "                  en                      9                   9     0   \n",
       "                  hu                     10                  10     0   \n",
       "                  pt                      1                   1     0   \n",
       "                  un                      3                   3     1   \n",
       "...                                     ...                 ...   ...   \n",
       "US                en                    597                 597   585   \n",
       "                  sm                      1                   1     0   \n",
       "                  un                      5                   5     0   \n",
       "VN                cy                      1                   1     1   \n",
       "                  en                     29                  29    29   \n",
       "\n",
       "                                authorMeta_nickName  authorMeta_following  \\\n",
       "authorMeta_region textLanguage                                              \n",
       "AE                de                             99                    99   \n",
       "                  en                              9                     9   \n",
       "                  hu                             10                    10   \n",
       "                  pt                              1                     1   \n",
       "                  un                              3                     3   \n",
       "...                                             ...                   ...   \n",
       "US                en                            597                   597   \n",
       "                  sm                              1                     1   \n",
       "                  un                              5                     5   \n",
       "VN                cy                              1                     1   \n",
       "                  en                             29                    29   \n",
       "\n",
       "                                authorMeta_friends  authorMeta_privateAccount  \\\n",
       "authorMeta_region textLanguage                                                  \n",
       "AE                de                            99                         99   \n",
       "                  en                             9                          9   \n",
       "                  hu                            10                         10   \n",
       "                  pt                             1                          1   \n",
       "                  un                             3                          3   \n",
       "...                                            ...                        ...   \n",
       "US                en                           597                        597   \n",
       "                  sm                             1                          1   \n",
       "                  un                             5                          5   \n",
       "VN                cy                             1                          1   \n",
       "                  en                            29                         29   \n",
       "\n",
       "                                authorMeta_friends_1  location_cityCode  \\\n",
       "authorMeta_region textLanguage                                            \n",
       "AE                de                              99                  4   \n",
       "                  en                               9                  0   \n",
       "                  hu                              10                  0   \n",
       "                  pt                               1                  0   \n",
       "                  un                               3                  0   \n",
       "...                                              ...                ...   \n",
       "US                en                             597                  0   \n",
       "                  sm                               1                  0   \n",
       "                  un                               5                  0   \n",
       "VN                cy                               1                  0   \n",
       "                  en                              29                 14   \n",
       "\n",
       "                                location_countryCode  \n",
       "authorMeta_region textLanguage                        \n",
       "AE                de                               4  \n",
       "                  en                               0  \n",
       "                  hu                               0  \n",
       "                  pt                               0  \n",
       "                  un                               0  \n",
       "...                                              ...  \n",
       "US                en                               0  \n",
       "                  sm                               0  \n",
       "                  un                               0  \n",
       "VN                cy                               0  \n",
       "                  en                              14  \n",
       "\n",
       "[88 rows x 24 columns]"
      ]
     },
     "execution_count": 21,
     "metadata": {},
     "output_type": "execute_result"
    }
   ],
   "source": [
    "df.groupby(['authorMeta_region','textLanguage']).count()"
   ]
  },
  {
   "cell_type": "code",
   "execution_count": 22,
   "metadata": {},
   "outputs": [
    {
     "data": {
      "application/vnd.plotly.v1+json": {
       "config": {
        "plotlyServerURL": "https://plot.ly"
       },
       "data": [
        {
         "hovertemplate": "authorMeta_nickName=%{x}<br>count=%{y}<extra></extra>",
         "legendgroup": "",
         "marker": {
          "color": "#636efa",
          "pattern": {
           "shape": ""
          }
         },
         "name": "",
         "orientation": "v",
         "showlegend": false,
         "textposition": "auto",
         "type": "bar",
         "x": [
          "Nana Beauty",
          "Dr. Katharina Brüggemann",
          "Neschro",
          "dr.emi",
          "Papaundpapi",
          "Basti & Flori",
          "Luisa Crash",
          "Maya Leinenbach",
          "Doc Alina 👩🏽‍⚕️",
          "shiaknowsbest"
         ],
         "xaxis": "x",
         "y": {
          "bdata": "qQILAQgB+gD1AOIAzADGAL8AvAA=",
          "dtype": "i2"
         },
         "yaxis": "y"
        }
       ],
       "layout": {
        "barmode": "relative",
        "legend": {
         "tracegroupgap": 0
        },
        "template": {
         "data": {
          "bar": [
           {
            "error_x": {
             "color": "#2a3f5f"
            },
            "error_y": {
             "color": "#2a3f5f"
            },
            "marker": {
             "line": {
              "color": "#E5ECF6",
              "width": 0.5
             },
             "pattern": {
              "fillmode": "overlay",
              "size": 10,
              "solidity": 0.2
             }
            },
            "type": "bar"
           }
          ],
          "barpolar": [
           {
            "marker": {
             "line": {
              "color": "#E5ECF6",
              "width": 0.5
             },
             "pattern": {
              "fillmode": "overlay",
              "size": 10,
              "solidity": 0.2
             }
            },
            "type": "barpolar"
           }
          ],
          "carpet": [
           {
            "aaxis": {
             "endlinecolor": "#2a3f5f",
             "gridcolor": "white",
             "linecolor": "white",
             "minorgridcolor": "white",
             "startlinecolor": "#2a3f5f"
            },
            "baxis": {
             "endlinecolor": "#2a3f5f",
             "gridcolor": "white",
             "linecolor": "white",
             "minorgridcolor": "white",
             "startlinecolor": "#2a3f5f"
            },
            "type": "carpet"
           }
          ],
          "choropleth": [
           {
            "colorbar": {
             "outlinewidth": 0,
             "ticks": ""
            },
            "type": "choropleth"
           }
          ],
          "contour": [
           {
            "colorbar": {
             "outlinewidth": 0,
             "ticks": ""
            },
            "colorscale": [
             [
              0,
              "#0d0887"
             ],
             [
              0.1111111111111111,
              "#46039f"
             ],
             [
              0.2222222222222222,
              "#7201a8"
             ],
             [
              0.3333333333333333,
              "#9c179e"
             ],
             [
              0.4444444444444444,
              "#bd3786"
             ],
             [
              0.5555555555555556,
              "#d8576b"
             ],
             [
              0.6666666666666666,
              "#ed7953"
             ],
             [
              0.7777777777777778,
              "#fb9f3a"
             ],
             [
              0.8888888888888888,
              "#fdca26"
             ],
             [
              1,
              "#f0f921"
             ]
            ],
            "type": "contour"
           }
          ],
          "contourcarpet": [
           {
            "colorbar": {
             "outlinewidth": 0,
             "ticks": ""
            },
            "type": "contourcarpet"
           }
          ],
          "heatmap": [
           {
            "colorbar": {
             "outlinewidth": 0,
             "ticks": ""
            },
            "colorscale": [
             [
              0,
              "#0d0887"
             ],
             [
              0.1111111111111111,
              "#46039f"
             ],
             [
              0.2222222222222222,
              "#7201a8"
             ],
             [
              0.3333333333333333,
              "#9c179e"
             ],
             [
              0.4444444444444444,
              "#bd3786"
             ],
             [
              0.5555555555555556,
              "#d8576b"
             ],
             [
              0.6666666666666666,
              "#ed7953"
             ],
             [
              0.7777777777777778,
              "#fb9f3a"
             ],
             [
              0.8888888888888888,
              "#fdca26"
             ],
             [
              1,
              "#f0f921"
             ]
            ],
            "type": "heatmap"
           }
          ],
          "histogram": [
           {
            "marker": {
             "pattern": {
              "fillmode": "overlay",
              "size": 10,
              "solidity": 0.2
             }
            },
            "type": "histogram"
           }
          ],
          "histogram2d": [
           {
            "colorbar": {
             "outlinewidth": 0,
             "ticks": ""
            },
            "colorscale": [
             [
              0,
              "#0d0887"
             ],
             [
              0.1111111111111111,
              "#46039f"
             ],
             [
              0.2222222222222222,
              "#7201a8"
             ],
             [
              0.3333333333333333,
              "#9c179e"
             ],
             [
              0.4444444444444444,
              "#bd3786"
             ],
             [
              0.5555555555555556,
              "#d8576b"
             ],
             [
              0.6666666666666666,
              "#ed7953"
             ],
             [
              0.7777777777777778,
              "#fb9f3a"
             ],
             [
              0.8888888888888888,
              "#fdca26"
             ],
             [
              1,
              "#f0f921"
             ]
            ],
            "type": "histogram2d"
           }
          ],
          "histogram2dcontour": [
           {
            "colorbar": {
             "outlinewidth": 0,
             "ticks": ""
            },
            "colorscale": [
             [
              0,
              "#0d0887"
             ],
             [
              0.1111111111111111,
              "#46039f"
             ],
             [
              0.2222222222222222,
              "#7201a8"
             ],
             [
              0.3333333333333333,
              "#9c179e"
             ],
             [
              0.4444444444444444,
              "#bd3786"
             ],
             [
              0.5555555555555556,
              "#d8576b"
             ],
             [
              0.6666666666666666,
              "#ed7953"
             ],
             [
              0.7777777777777778,
              "#fb9f3a"
             ],
             [
              0.8888888888888888,
              "#fdca26"
             ],
             [
              1,
              "#f0f921"
             ]
            ],
            "type": "histogram2dcontour"
           }
          ],
          "mesh3d": [
           {
            "colorbar": {
             "outlinewidth": 0,
             "ticks": ""
            },
            "type": "mesh3d"
           }
          ],
          "parcoords": [
           {
            "line": {
             "colorbar": {
              "outlinewidth": 0,
              "ticks": ""
             }
            },
            "type": "parcoords"
           }
          ],
          "pie": [
           {
            "automargin": true,
            "type": "pie"
           }
          ],
          "scatter": [
           {
            "fillpattern": {
             "fillmode": "overlay",
             "size": 10,
             "solidity": 0.2
            },
            "type": "scatter"
           }
          ],
          "scatter3d": [
           {
            "line": {
             "colorbar": {
              "outlinewidth": 0,
              "ticks": ""
             }
            },
            "marker": {
             "colorbar": {
              "outlinewidth": 0,
              "ticks": ""
             }
            },
            "type": "scatter3d"
           }
          ],
          "scattercarpet": [
           {
            "marker": {
             "colorbar": {
              "outlinewidth": 0,
              "ticks": ""
             }
            },
            "type": "scattercarpet"
           }
          ],
          "scattergeo": [
           {
            "marker": {
             "colorbar": {
              "outlinewidth": 0,
              "ticks": ""
             }
            },
            "type": "scattergeo"
           }
          ],
          "scattergl": [
           {
            "marker": {
             "colorbar": {
              "outlinewidth": 0,
              "ticks": ""
             }
            },
            "type": "scattergl"
           }
          ],
          "scattermap": [
           {
            "marker": {
             "colorbar": {
              "outlinewidth": 0,
              "ticks": ""
             }
            },
            "type": "scattermap"
           }
          ],
          "scattermapbox": [
           {
            "marker": {
             "colorbar": {
              "outlinewidth": 0,
              "ticks": ""
             }
            },
            "type": "scattermapbox"
           }
          ],
          "scatterpolar": [
           {
            "marker": {
             "colorbar": {
              "outlinewidth": 0,
              "ticks": ""
             }
            },
            "type": "scatterpolar"
           }
          ],
          "scatterpolargl": [
           {
            "marker": {
             "colorbar": {
              "outlinewidth": 0,
              "ticks": ""
             }
            },
            "type": "scatterpolargl"
           }
          ],
          "scatterternary": [
           {
            "marker": {
             "colorbar": {
              "outlinewidth": 0,
              "ticks": ""
             }
            },
            "type": "scatterternary"
           }
          ],
          "surface": [
           {
            "colorbar": {
             "outlinewidth": 0,
             "ticks": ""
            },
            "colorscale": [
             [
              0,
              "#0d0887"
             ],
             [
              0.1111111111111111,
              "#46039f"
             ],
             [
              0.2222222222222222,
              "#7201a8"
             ],
             [
              0.3333333333333333,
              "#9c179e"
             ],
             [
              0.4444444444444444,
              "#bd3786"
             ],
             [
              0.5555555555555556,
              "#d8576b"
             ],
             [
              0.6666666666666666,
              "#ed7953"
             ],
             [
              0.7777777777777778,
              "#fb9f3a"
             ],
             [
              0.8888888888888888,
              "#fdca26"
             ],
             [
              1,
              "#f0f921"
             ]
            ],
            "type": "surface"
           }
          ],
          "table": [
           {
            "cells": {
             "fill": {
              "color": "#EBF0F8"
             },
             "line": {
              "color": "white"
             }
            },
            "header": {
             "fill": {
              "color": "#C8D4E3"
             },
             "line": {
              "color": "white"
             }
            },
            "type": "table"
           }
          ]
         },
         "layout": {
          "annotationdefaults": {
           "arrowcolor": "#2a3f5f",
           "arrowhead": 0,
           "arrowwidth": 1
          },
          "autotypenumbers": "strict",
          "coloraxis": {
           "colorbar": {
            "outlinewidth": 0,
            "ticks": ""
           }
          },
          "colorscale": {
           "diverging": [
            [
             0,
             "#8e0152"
            ],
            [
             0.1,
             "#c51b7d"
            ],
            [
             0.2,
             "#de77ae"
            ],
            [
             0.3,
             "#f1b6da"
            ],
            [
             0.4,
             "#fde0ef"
            ],
            [
             0.5,
             "#f7f7f7"
            ],
            [
             0.6,
             "#e6f5d0"
            ],
            [
             0.7,
             "#b8e186"
            ],
            [
             0.8,
             "#7fbc41"
            ],
            [
             0.9,
             "#4d9221"
            ],
            [
             1,
             "#276419"
            ]
           ],
           "sequential": [
            [
             0,
             "#0d0887"
            ],
            [
             0.1111111111111111,
             "#46039f"
            ],
            [
             0.2222222222222222,
             "#7201a8"
            ],
            [
             0.3333333333333333,
             "#9c179e"
            ],
            [
             0.4444444444444444,
             "#bd3786"
            ],
            [
             0.5555555555555556,
             "#d8576b"
            ],
            [
             0.6666666666666666,
             "#ed7953"
            ],
            [
             0.7777777777777778,
             "#fb9f3a"
            ],
            [
             0.8888888888888888,
             "#fdca26"
            ],
            [
             1,
             "#f0f921"
            ]
           ],
           "sequentialminus": [
            [
             0,
             "#0d0887"
            ],
            [
             0.1111111111111111,
             "#46039f"
            ],
            [
             0.2222222222222222,
             "#7201a8"
            ],
            [
             0.3333333333333333,
             "#9c179e"
            ],
            [
             0.4444444444444444,
             "#bd3786"
            ],
            [
             0.5555555555555556,
             "#d8576b"
            ],
            [
             0.6666666666666666,
             "#ed7953"
            ],
            [
             0.7777777777777778,
             "#fb9f3a"
            ],
            [
             0.8888888888888888,
             "#fdca26"
            ],
            [
             1,
             "#f0f921"
            ]
           ]
          },
          "colorway": [
           "#636efa",
           "#EF553B",
           "#00cc96",
           "#ab63fa",
           "#FFA15A",
           "#19d3f3",
           "#FF6692",
           "#B6E880",
           "#FF97FF",
           "#FECB52"
          ],
          "font": {
           "color": "#2a3f5f"
          },
          "geo": {
           "bgcolor": "white",
           "lakecolor": "white",
           "landcolor": "#E5ECF6",
           "showlakes": true,
           "showland": true,
           "subunitcolor": "white"
          },
          "hoverlabel": {
           "align": "left"
          },
          "hovermode": "closest",
          "mapbox": {
           "style": "light"
          },
          "paper_bgcolor": "white",
          "plot_bgcolor": "#E5ECF6",
          "polar": {
           "angularaxis": {
            "gridcolor": "white",
            "linecolor": "white",
            "ticks": ""
           },
           "bgcolor": "#E5ECF6",
           "radialaxis": {
            "gridcolor": "white",
            "linecolor": "white",
            "ticks": ""
           }
          },
          "scene": {
           "xaxis": {
            "backgroundcolor": "#E5ECF6",
            "gridcolor": "white",
            "gridwidth": 2,
            "linecolor": "white",
            "showbackground": true,
            "ticks": "",
            "zerolinecolor": "white"
           },
           "yaxis": {
            "backgroundcolor": "#E5ECF6",
            "gridcolor": "white",
            "gridwidth": 2,
            "linecolor": "white",
            "showbackground": true,
            "ticks": "",
            "zerolinecolor": "white"
           },
           "zaxis": {
            "backgroundcolor": "#E5ECF6",
            "gridcolor": "white",
            "gridwidth": 2,
            "linecolor": "white",
            "showbackground": true,
            "ticks": "",
            "zerolinecolor": "white"
           }
          },
          "shapedefaults": {
           "line": {
            "color": "#2a3f5f"
           }
          },
          "ternary": {
           "aaxis": {
            "gridcolor": "white",
            "linecolor": "white",
            "ticks": ""
           },
           "baxis": {
            "gridcolor": "white",
            "linecolor": "white",
            "ticks": ""
           },
           "bgcolor": "#E5ECF6",
           "caxis": {
            "gridcolor": "white",
            "linecolor": "white",
            "ticks": ""
           }
          },
          "title": {
           "x": 0.05
          },
          "xaxis": {
           "automargin": true,
           "gridcolor": "white",
           "linecolor": "white",
           "ticks": "",
           "title": {
            "standoff": 15
           },
           "zerolinecolor": "white",
           "zerolinewidth": 2
          },
          "yaxis": {
           "automargin": true,
           "gridcolor": "white",
           "linecolor": "white",
           "ticks": "",
           "title": {
            "standoff": 15
           },
           "zerolinecolor": "white",
           "zerolinewidth": 2
          }
         }
        },
        "title": {
         "text": "Top 10 Authors "
        },
        "xaxis": {
         "anchor": "y",
         "domain": [
          0,
          1
         ],
         "title": {
          "text": "authorMeta_nickName"
         }
        },
        "yaxis": {
         "anchor": "x",
         "domain": [
          0,
          1
         ],
         "title": {
          "text": "count"
         }
        }
       }
      }
     },
     "metadata": {},
     "output_type": "display_data"
    }
   ],
   "source": [
    "df.groupby(['authorMeta_region', 'textLanguage'])['main_ID'].count()\n",
    "df.groupby(['authorMeta_region', 'textLanguage']).size()\n",
    "df.groupby(['authorMeta_region','authorMeta_nickName']).count().sort_values(by='main_ID', ascending=False)['input']\n",
    "# Count posts per (region, nickname) based on any column, e.g., 'id'\n",
    "nickname_counts = df.groupby(['authorMeta_region', 'authorMeta_nickName'])['main_ID'].count()\n",
    "\n",
    "# Sort descending by post count\n",
    "nickname_counts = nickname_counts.sort_values(ascending=False)\n",
    "\n",
    "# Reset index if you want a flat table\n",
    "nickname_counts = nickname_counts.reset_index(name='count')\n",
    "\n",
    "# View top contributors\n",
    "nickname_counts.head()\n",
    "import plotly.express as px\n",
    "\n",
    "top_authors = nickname_counts[nickname_counts['authorMeta_region'] == 'DE'].head(10)\n",
    "\n",
    "px.bar(top_authors, x='authorMeta_nickName', y='count', title='Top 10 Authors ')\n"
   ]
  },
  {
   "cell_type": "code",
   "execution_count": null,
   "metadata": {},
   "outputs": [],
   "source": []
  },
  {
   "cell_type": "code",
   "execution_count": 23,
   "metadata": {},
   "outputs": [
    {
     "data": {
      "text/plain": [
       "authorMeta_region  authorMeta_nickName        \n",
       "DE                 Nana Beauty                    681\n",
       "US                 highsnobiety                   406\n",
       "CH                 Priscilla🇨🇭Travel Creator      306\n",
       "                   Noemi Nikita                   282\n",
       "DE                 Dr. Katharina Brüggemann       267\n",
       "                                                 ... \n",
       "AE                 Biopharmazie | Zahra Rivan       3\n",
       "FR                 MrSkincare Son | Hautpflege      2\n",
       "ES                 Anahita Rehbein                  2\n",
       "DE                 growingannanas                   2\n",
       "CH                 sophie                           1\n",
       "Name: input, Length: 180, dtype: int64"
      ]
     },
     "execution_count": 23,
     "metadata": {},
     "output_type": "execute_result"
    }
   ],
   "source": [
    "df.groupby(['authorMeta_region','authorMeta_nickName']).count().sort_values(by='main_ID', ascending= False)['input']"
   ]
  },
  {
   "cell_type": "code",
   "execution_count": 24,
   "metadata": {},
   "outputs": [
    {
     "data": {
      "application/vnd.jupyter.widget-view+json": {
       "model_id": "3b58700422794ebba7e26893874ccf1a",
       "version_major": 2,
       "version_minor": 0
      },
      "text/plain": [
       "Dropdown(description='Region:', layout=Layout(width='50%'), options=('DE', 'CH', 'US', 'AT', 'FR', 'NL', 'AU',…"
      ]
     },
     "metadata": {},
     "output_type": "display_data"
    },
    {
     "data": {
      "application/vnd.jupyter.widget-view+json": {
       "model_id": "8152c0c86d0341deb7fc4dfdc881d414",
       "version_major": 2,
       "version_minor": 0
      },
      "text/plain": [
       "Output()"
      ]
     },
     "metadata": {},
     "output_type": "display_data"
    }
   ],
   "source": [
    "\n",
    "import ipywidgets as widgets\n",
    "from IPython.display import display\n",
    "\n",
    "\n",
    "region_counts = df.groupby('authorMeta_region')['main_ID'].count().reset_index().sort_values(by='main_ID', ascending=False)\n",
    "\n",
    "\n",
    "nickname_counts = df.groupby(['authorMeta_region', 'authorMeta_nickName'])['main_ID'].count().reset_index()\n",
    "nickname_counts.columns = ['region', 'nickname', 'count']\n",
    "\n",
    "\n",
    "region_dropdown = widgets.Dropdown(\n",
    "    options=region_counts['authorMeta_region'],\n",
    "    description='Region:',\n",
    "    layout=widgets.Layout(width='50%')\n",
    ")\n",
    "\n",
    "\n",
    "output = widgets.Output()\n",
    "\n",
    "def on_change(change):\n",
    "    if change['type'] == 'change' and change['name'] == 'value':\n",
    "        selected_region = change['new']\n",
    "        filtered = nickname_counts[nickname_counts['region'] == selected_region]\\\n",
    "                   .sort_values(by='count', ascending=False).head(10)\n",
    "\n",
    "        fig = px.bar(filtered, x='nickname', y='count', title=f\"Top Nicknames in Region: {selected_region}\")\n",
    "        output.clear_output()\n",
    "        with output:\n",
    "            display(fig)\n",
    "\n",
    "region_dropdown.observe(on_change)\n",
    "\n",
    "display(region_dropdown, output)\n",
    "\n",
    "\n",
    "region_dropdown.value = region_counts['authorMeta_region'].iloc[0]\n",
    "\n"
   ]
  },
  {
   "cell_type": "code",
   "execution_count": 25,
   "metadata": {},
   "outputs": [
    {
     "data": {
      "text/html": [
       "<div>\n",
       "<style scoped>\n",
       "    .dataframe tbody tr th:only-of-type {\n",
       "        vertical-align: middle;\n",
       "    }\n",
       "\n",
       "    .dataframe tbody tr th {\n",
       "        vertical-align: top;\n",
       "    }\n",
       "\n",
       "    .dataframe thead th {\n",
       "        text-align: right;\n",
       "    }\n",
       "</style>\n",
       "<table border=\"1\" class=\"dataframe\">\n",
       "  <thead>\n",
       "    <tr style=\"text-align: right;\">\n",
       "      <th></th>\n",
       "      <th>input</th>\n",
       "      <th>main_ID</th>\n",
       "      <th>text</th>\n",
       "      <th>textLanguage</th>\n",
       "      <th>createTimeISO</th>\n",
       "      <th>diggCount</th>\n",
       "      <th>shareCount</th>\n",
       "      <th>playCount</th>\n",
       "      <th>collectCount</th>\n",
       "      <th>commentCount</th>\n",
       "      <th>...</th>\n",
       "      <th>isSponsored</th>\n",
       "      <th>fromProfileSection</th>\n",
       "      <th>isAd</th>\n",
       "      <th>authorMeta_following</th>\n",
       "      <th>authorMeta_friends</th>\n",
       "      <th>authorMeta_privateAccount</th>\n",
       "      <th>authorMeta_friends_1</th>\n",
       "      <th>authorMeta_region</th>\n",
       "      <th>location_cityCode</th>\n",
       "      <th>location_countryCode</th>\n",
       "    </tr>\n",
       "    <tr>\n",
       "      <th>authorMeta_nickName</th>\n",
       "      <th></th>\n",
       "      <th></th>\n",
       "      <th></th>\n",
       "      <th></th>\n",
       "      <th></th>\n",
       "      <th></th>\n",
       "      <th></th>\n",
       "      <th></th>\n",
       "      <th></th>\n",
       "      <th></th>\n",
       "      <th></th>\n",
       "      <th></th>\n",
       "      <th></th>\n",
       "      <th></th>\n",
       "      <th></th>\n",
       "      <th></th>\n",
       "      <th></th>\n",
       "      <th></th>\n",
       "      <th></th>\n",
       "      <th></th>\n",
       "      <th></th>\n",
       "    </tr>\n",
       "  </thead>\n",
       "  <tbody>\n",
       "    <tr>\n",
       "      <th>Nana Beauty</th>\n",
       "      <td>671</td>\n",
       "      <td>671</td>\n",
       "      <td>670</td>\n",
       "      <td>671</td>\n",
       "      <td>671</td>\n",
       "      <td>671</td>\n",
       "      <td>671</td>\n",
       "      <td>671</td>\n",
       "      <td>671</td>\n",
       "      <td>671</td>\n",
       "      <td>...</td>\n",
       "      <td>671</td>\n",
       "      <td>671</td>\n",
       "      <td>671</td>\n",
       "      <td>671</td>\n",
       "      <td>671</td>\n",
       "      <td>671</td>\n",
       "      <td>671</td>\n",
       "      <td>671</td>\n",
       "      <td>32</td>\n",
       "      <td>32</td>\n",
       "    </tr>\n",
       "    <tr>\n",
       "      <th>highsnobiety</th>\n",
       "      <td>396</td>\n",
       "      <td>396</td>\n",
       "      <td>394</td>\n",
       "      <td>396</td>\n",
       "      <td>396</td>\n",
       "      <td>396</td>\n",
       "      <td>396</td>\n",
       "      <td>396</td>\n",
       "      <td>396</td>\n",
       "      <td>396</td>\n",
       "      <td>...</td>\n",
       "      <td>396</td>\n",
       "      <td>396</td>\n",
       "      <td>396</td>\n",
       "      <td>396</td>\n",
       "      <td>396</td>\n",
       "      <td>396</td>\n",
       "      <td>396</td>\n",
       "      <td>396</td>\n",
       "      <td>0</td>\n",
       "      <td>0</td>\n",
       "    </tr>\n",
       "    <tr>\n",
       "      <th>Priscilla🇨🇭Travel Creator</th>\n",
       "      <td>306</td>\n",
       "      <td>306</td>\n",
       "      <td>306</td>\n",
       "      <td>306</td>\n",
       "      <td>306</td>\n",
       "      <td>306</td>\n",
       "      <td>306</td>\n",
       "      <td>306</td>\n",
       "      <td>306</td>\n",
       "      <td>306</td>\n",
       "      <td>...</td>\n",
       "      <td>306</td>\n",
       "      <td>306</td>\n",
       "      <td>0</td>\n",
       "      <td>306</td>\n",
       "      <td>306</td>\n",
       "      <td>306</td>\n",
       "      <td>306</td>\n",
       "      <td>306</td>\n",
       "      <td>220</td>\n",
       "      <td>220</td>\n",
       "    </tr>\n",
       "    <tr>\n",
       "      <th>Neschro</th>\n",
       "      <td>264</td>\n",
       "      <td>264</td>\n",
       "      <td>264</td>\n",
       "      <td>264</td>\n",
       "      <td>264</td>\n",
       "      <td>264</td>\n",
       "      <td>264</td>\n",
       "      <td>264</td>\n",
       "      <td>264</td>\n",
       "      <td>264</td>\n",
       "      <td>...</td>\n",
       "      <td>264</td>\n",
       "      <td>264</td>\n",
       "      <td>176</td>\n",
       "      <td>264</td>\n",
       "      <td>264</td>\n",
       "      <td>264</td>\n",
       "      <td>264</td>\n",
       "      <td>264</td>\n",
       "      <td>3</td>\n",
       "      <td>3</td>\n",
       "    </tr>\n",
       "    <tr>\n",
       "      <th>dr.emi</th>\n",
       "      <td>250</td>\n",
       "      <td>250</td>\n",
       "      <td>250</td>\n",
       "      <td>250</td>\n",
       "      <td>250</td>\n",
       "      <td>250</td>\n",
       "      <td>250</td>\n",
       "      <td>250</td>\n",
       "      <td>250</td>\n",
       "      <td>250</td>\n",
       "      <td>...</td>\n",
       "      <td>250</td>\n",
       "      <td>250</td>\n",
       "      <td>250</td>\n",
       "      <td>250</td>\n",
       "      <td>250</td>\n",
       "      <td>250</td>\n",
       "      <td>250</td>\n",
       "      <td>250</td>\n",
       "      <td>250</td>\n",
       "      <td>250</td>\n",
       "    </tr>\n",
       "    <tr>\n",
       "      <th>...</th>\n",
       "      <td>...</td>\n",
       "      <td>...</td>\n",
       "      <td>...</td>\n",
       "      <td>...</td>\n",
       "      <td>...</td>\n",
       "      <td>...</td>\n",
       "      <td>...</td>\n",
       "      <td>...</td>\n",
       "      <td>...</td>\n",
       "      <td>...</td>\n",
       "      <td>...</td>\n",
       "      <td>...</td>\n",
       "      <td>...</td>\n",
       "      <td>...</td>\n",
       "      <td>...</td>\n",
       "      <td>...</td>\n",
       "      <td>...</td>\n",
       "      <td>...</td>\n",
       "      <td>...</td>\n",
       "      <td>...</td>\n",
       "      <td>...</td>\n",
       "    </tr>\n",
       "    <tr>\n",
       "      <th>PURE EBRU</th>\n",
       "      <td>7</td>\n",
       "      <td>7</td>\n",
       "      <td>7</td>\n",
       "      <td>7</td>\n",
       "      <td>7</td>\n",
       "      <td>7</td>\n",
       "      <td>7</td>\n",
       "      <td>7</td>\n",
       "      <td>7</td>\n",
       "      <td>7</td>\n",
       "      <td>...</td>\n",
       "      <td>7</td>\n",
       "      <td>7</td>\n",
       "      <td>6</td>\n",
       "      <td>7</td>\n",
       "      <td>7</td>\n",
       "      <td>7</td>\n",
       "      <td>7</td>\n",
       "      <td>7</td>\n",
       "      <td>0</td>\n",
       "      <td>0</td>\n",
       "    </tr>\n",
       "    <tr>\n",
       "      <th>Johanna</th>\n",
       "      <td>6</td>\n",
       "      <td>6</td>\n",
       "      <td>6</td>\n",
       "      <td>6</td>\n",
       "      <td>6</td>\n",
       "      <td>6</td>\n",
       "      <td>6</td>\n",
       "      <td>6</td>\n",
       "      <td>6</td>\n",
       "      <td>6</td>\n",
       "      <td>...</td>\n",
       "      <td>6</td>\n",
       "      <td>6</td>\n",
       "      <td>0</td>\n",
       "      <td>6</td>\n",
       "      <td>6</td>\n",
       "      <td>6</td>\n",
       "      <td>6</td>\n",
       "      <td>6</td>\n",
       "      <td>0</td>\n",
       "      <td>0</td>\n",
       "    </tr>\n",
       "    <tr>\n",
       "      <th>carinaspoon</th>\n",
       "      <td>6</td>\n",
       "      <td>6</td>\n",
       "      <td>6</td>\n",
       "      <td>6</td>\n",
       "      <td>6</td>\n",
       "      <td>6</td>\n",
       "      <td>6</td>\n",
       "      <td>6</td>\n",
       "      <td>6</td>\n",
       "      <td>6</td>\n",
       "      <td>...</td>\n",
       "      <td>6</td>\n",
       "      <td>6</td>\n",
       "      <td>0</td>\n",
       "      <td>6</td>\n",
       "      <td>6</td>\n",
       "      <td>6</td>\n",
       "      <td>6</td>\n",
       "      <td>6</td>\n",
       "      <td>2</td>\n",
       "      <td>2</td>\n",
       "    </tr>\n",
       "    <tr>\n",
       "      <th>JJEverettRose</th>\n",
       "      <td>4</td>\n",
       "      <td>4</td>\n",
       "      <td>4</td>\n",
       "      <td>4</td>\n",
       "      <td>4</td>\n",
       "      <td>4</td>\n",
       "      <td>4</td>\n",
       "      <td>4</td>\n",
       "      <td>4</td>\n",
       "      <td>4</td>\n",
       "      <td>...</td>\n",
       "      <td>4</td>\n",
       "      <td>4</td>\n",
       "      <td>0</td>\n",
       "      <td>4</td>\n",
       "      <td>4</td>\n",
       "      <td>4</td>\n",
       "      <td>4</td>\n",
       "      <td>0</td>\n",
       "      <td>0</td>\n",
       "      <td>0</td>\n",
       "    </tr>\n",
       "    <tr>\n",
       "      <th>Leni Bolt</th>\n",
       "      <td>3</td>\n",
       "      <td>3</td>\n",
       "      <td>3</td>\n",
       "      <td>3</td>\n",
       "      <td>3</td>\n",
       "      <td>3</td>\n",
       "      <td>3</td>\n",
       "      <td>3</td>\n",
       "      <td>3</td>\n",
       "      <td>3</td>\n",
       "      <td>...</td>\n",
       "      <td>3</td>\n",
       "      <td>3</td>\n",
       "      <td>0</td>\n",
       "      <td>3</td>\n",
       "      <td>3</td>\n",
       "      <td>3</td>\n",
       "      <td>3</td>\n",
       "      <td>3</td>\n",
       "      <td>0</td>\n",
       "      <td>0</td>\n",
       "    </tr>\n",
       "  </tbody>\n",
       "</table>\n",
       "<p>165 rows × 25 columns</p>\n",
       "</div>"
      ],
      "text/plain": [
       "                           input  main_ID  text  textLanguage  createTimeISO  \\\n",
       "authorMeta_nickName                                                            \n",
       "Nana Beauty                  671      671   670           671            671   \n",
       "highsnobiety                 396      396   394           396            396   \n",
       "Priscilla🇨🇭Travel Creator    306      306   306           306            306   \n",
       "Neschro                      264      264   264           264            264   \n",
       "dr.emi                       250      250   250           250            250   \n",
       "...                          ...      ...   ...           ...            ...   \n",
       "PURE EBRU                      7        7     7             7              7   \n",
       "Johanna                        6        6     6             6              6   \n",
       "carinaspoon                    6        6     6             6              6   \n",
       "JJEverettRose                  4        4     4             4              4   \n",
       "Leni Bolt                      3        3     3             3              3   \n",
       "\n",
       "                           diggCount  shareCount  playCount  collectCount  \\\n",
       "authorMeta_nickName                                                         \n",
       "Nana Beauty                      671         671        671           671   \n",
       "highsnobiety                     396         396        396           396   \n",
       "Priscilla🇨🇭Travel Creator        306         306        306           306   \n",
       "Neschro                          264         264        264           264   \n",
       "dr.emi                           250         250        250           250   \n",
       "...                              ...         ...        ...           ...   \n",
       "PURE EBRU                          7           7          7             7   \n",
       "Johanna                            6           6          6             6   \n",
       "carinaspoon                        6           6          6             6   \n",
       "JJEverettRose                      4           4          4             4   \n",
       "Leni Bolt                          3           3          3             3   \n",
       "\n",
       "                           commentCount  ...  isSponsored  fromProfileSection  \\\n",
       "authorMeta_nickName                      ...                                    \n",
       "Nana Beauty                         671  ...          671                 671   \n",
       "highsnobiety                        396  ...          396                 396   \n",
       "Priscilla🇨🇭Travel Creator           306  ...          306                 306   \n",
       "Neschro                             264  ...          264                 264   \n",
       "dr.emi                              250  ...          250                 250   \n",
       "...                                 ...  ...          ...                 ...   \n",
       "PURE EBRU                             7  ...            7                   7   \n",
       "Johanna                               6  ...            6                   6   \n",
       "carinaspoon                           6  ...            6                   6   \n",
       "JJEverettRose                         4  ...            4                   4   \n",
       "Leni Bolt                             3  ...            3                   3   \n",
       "\n",
       "                           isAd  authorMeta_following  authorMeta_friends  \\\n",
       "authorMeta_nickName                                                         \n",
       "Nana Beauty                 671                   671                 671   \n",
       "highsnobiety                396                   396                 396   \n",
       "Priscilla🇨🇭Travel Creator     0                   306                 306   \n",
       "Neschro                     176                   264                 264   \n",
       "dr.emi                      250                   250                 250   \n",
       "...                         ...                   ...                 ...   \n",
       "PURE EBRU                     6                     7                   7   \n",
       "Johanna                       0                     6                   6   \n",
       "carinaspoon                   0                     6                   6   \n",
       "JJEverettRose                 0                     4                   4   \n",
       "Leni Bolt                     0                     3                   3   \n",
       "\n",
       "                           authorMeta_privateAccount  authorMeta_friends_1  \\\n",
       "authorMeta_nickName                                                          \n",
       "Nana Beauty                                      671                   671   \n",
       "highsnobiety                                     396                   396   \n",
       "Priscilla🇨🇭Travel Creator                        306                   306   \n",
       "Neschro                                          264                   264   \n",
       "dr.emi                                           250                   250   \n",
       "...                                              ...                   ...   \n",
       "PURE EBRU                                          7                     7   \n",
       "Johanna                                            6                     6   \n",
       "carinaspoon                                        6                     6   \n",
       "JJEverettRose                                      4                     4   \n",
       "Leni Bolt                                          3                     3   \n",
       "\n",
       "                           authorMeta_region  location_cityCode  \\\n",
       "authorMeta_nickName                                               \n",
       "Nana Beauty                              671                 32   \n",
       "highsnobiety                             396                  0   \n",
       "Priscilla🇨🇭Travel Creator                306                220   \n",
       "Neschro                                  264                  3   \n",
       "dr.emi                                   250                250   \n",
       "...                                      ...                ...   \n",
       "PURE EBRU                                  7                  0   \n",
       "Johanna                                    6                  0   \n",
       "carinaspoon                                6                  2   \n",
       "JJEverettRose                              0                  0   \n",
       "Leni Bolt                                  3                  0   \n",
       "\n",
       "                           location_countryCode  \n",
       "authorMeta_nickName                              \n",
       "Nana Beauty                                  32  \n",
       "highsnobiety                                  0  \n",
       "Priscilla🇨🇭Travel Creator                   220  \n",
       "Neschro                                       3  \n",
       "dr.emi                                      250  \n",
       "...                                         ...  \n",
       "PURE EBRU                                     0  \n",
       "Johanna                                       0  \n",
       "carinaspoon                                   2  \n",
       "JJEverettRose                                 0  \n",
       "Leni Bolt                                     0  \n",
       "\n",
       "[165 rows x 25 columns]"
      ]
     },
     "execution_count": 25,
     "metadata": {},
     "output_type": "execute_result"
    }
   ],
   "source": [
    "# Posts per influencer in isSponsered ==0\n",
    "df_sponsored_0.groupby('authorMeta_nickName').count().sort_values(by='main_ID', ascending= False)"
   ]
  },
  {
   "cell_type": "code",
   "execution_count": 26,
   "metadata": {},
   "outputs": [
    {
     "data": {
      "text/html": [
       "<div>\n",
       "<style scoped>\n",
       "    .dataframe tbody tr th:only-of-type {\n",
       "        vertical-align: middle;\n",
       "    }\n",
       "\n",
       "    .dataframe tbody tr th {\n",
       "        vertical-align: top;\n",
       "    }\n",
       "\n",
       "    .dataframe thead th {\n",
       "        text-align: right;\n",
       "    }\n",
       "</style>\n",
       "<table border=\"1\" class=\"dataframe\">\n",
       "  <thead>\n",
       "    <tr style=\"text-align: right;\">\n",
       "      <th></th>\n",
       "      <th>input</th>\n",
       "      <th>main_ID</th>\n",
       "      <th>text</th>\n",
       "      <th>textLanguage</th>\n",
       "      <th>createTimeISO</th>\n",
       "      <th>diggCount</th>\n",
       "      <th>shareCount</th>\n",
       "      <th>playCount</th>\n",
       "      <th>collectCount</th>\n",
       "      <th>commentCount</th>\n",
       "      <th>...</th>\n",
       "      <th>isSponsored</th>\n",
       "      <th>fromProfileSection</th>\n",
       "      <th>isAd</th>\n",
       "      <th>authorMeta_following</th>\n",
       "      <th>authorMeta_friends</th>\n",
       "      <th>authorMeta_privateAccount</th>\n",
       "      <th>authorMeta_friends_1</th>\n",
       "      <th>authorMeta_region</th>\n",
       "      <th>location_cityCode</th>\n",
       "      <th>location_countryCode</th>\n",
       "    </tr>\n",
       "    <tr>\n",
       "      <th>authorMeta_nickName</th>\n",
       "      <th></th>\n",
       "      <th></th>\n",
       "      <th></th>\n",
       "      <th></th>\n",
       "      <th></th>\n",
       "      <th></th>\n",
       "      <th></th>\n",
       "      <th></th>\n",
       "      <th></th>\n",
       "      <th></th>\n",
       "      <th></th>\n",
       "      <th></th>\n",
       "      <th></th>\n",
       "      <th></th>\n",
       "      <th></th>\n",
       "      <th></th>\n",
       "      <th></th>\n",
       "      <th></th>\n",
       "      <th></th>\n",
       "      <th></th>\n",
       "      <th></th>\n",
       "    </tr>\n",
       "  </thead>\n",
       "  <tbody>\n",
       "    <tr>\n",
       "      <th>Noemi Nikita</th>\n",
       "      <td>36</td>\n",
       "      <td>36</td>\n",
       "      <td>36</td>\n",
       "      <td>36</td>\n",
       "      <td>36</td>\n",
       "      <td>36</td>\n",
       "      <td>36</td>\n",
       "      <td>36</td>\n",
       "      <td>36</td>\n",
       "      <td>36</td>\n",
       "      <td>...</td>\n",
       "      <td>36</td>\n",
       "      <td>36</td>\n",
       "      <td>36</td>\n",
       "      <td>36</td>\n",
       "      <td>36</td>\n",
       "      <td>36</td>\n",
       "      <td>36</td>\n",
       "      <td>36</td>\n",
       "      <td>0</td>\n",
       "      <td>0</td>\n",
       "    </tr>\n",
       "    <tr>\n",
       "      <th>Valentine Caporale</th>\n",
       "      <td>25</td>\n",
       "      <td>25</td>\n",
       "      <td>25</td>\n",
       "      <td>25</td>\n",
       "      <td>25</td>\n",
       "      <td>25</td>\n",
       "      <td>25</td>\n",
       "      <td>25</td>\n",
       "      <td>25</td>\n",
       "      <td>25</td>\n",
       "      <td>...</td>\n",
       "      <td>25</td>\n",
       "      <td>25</td>\n",
       "      <td>9</td>\n",
       "      <td>25</td>\n",
       "      <td>25</td>\n",
       "      <td>25</td>\n",
       "      <td>25</td>\n",
       "      <td>25</td>\n",
       "      <td>25</td>\n",
       "      <td>25</td>\n",
       "    </tr>\n",
       "    <tr>\n",
       "      <th>Ardiana.lee</th>\n",
       "      <td>24</td>\n",
       "      <td>24</td>\n",
       "      <td>24</td>\n",
       "      <td>24</td>\n",
       "      <td>24</td>\n",
       "      <td>24</td>\n",
       "      <td>24</td>\n",
       "      <td>24</td>\n",
       "      <td>24</td>\n",
       "      <td>24</td>\n",
       "      <td>...</td>\n",
       "      <td>24</td>\n",
       "      <td>24</td>\n",
       "      <td>13</td>\n",
       "      <td>24</td>\n",
       "      <td>24</td>\n",
       "      <td>24</td>\n",
       "      <td>24</td>\n",
       "      <td>24</td>\n",
       "      <td>0</td>\n",
       "      <td>0</td>\n",
       "    </tr>\n",
       "    <tr>\n",
       "      <th>Dr. Katharina Brüggemann</th>\n",
       "      <td>18</td>\n",
       "      <td>18</td>\n",
       "      <td>18</td>\n",
       "      <td>18</td>\n",
       "      <td>18</td>\n",
       "      <td>18</td>\n",
       "      <td>18</td>\n",
       "      <td>18</td>\n",
       "      <td>18</td>\n",
       "      <td>18</td>\n",
       "      <td>...</td>\n",
       "      <td>18</td>\n",
       "      <td>18</td>\n",
       "      <td>18</td>\n",
       "      <td>18</td>\n",
       "      <td>18</td>\n",
       "      <td>18</td>\n",
       "      <td>18</td>\n",
       "      <td>18</td>\n",
       "      <td>0</td>\n",
       "      <td>0</td>\n",
       "    </tr>\n",
       "    <tr>\n",
       "      <th>V J O S A</th>\n",
       "      <td>15</td>\n",
       "      <td>15</td>\n",
       "      <td>15</td>\n",
       "      <td>15</td>\n",
       "      <td>15</td>\n",
       "      <td>15</td>\n",
       "      <td>15</td>\n",
       "      <td>15</td>\n",
       "      <td>15</td>\n",
       "      <td>15</td>\n",
       "      <td>...</td>\n",
       "      <td>15</td>\n",
       "      <td>15</td>\n",
       "      <td>8</td>\n",
       "      <td>15</td>\n",
       "      <td>15</td>\n",
       "      <td>15</td>\n",
       "      <td>15</td>\n",
       "      <td>15</td>\n",
       "      <td>0</td>\n",
       "      <td>0</td>\n",
       "    </tr>\n",
       "    <tr>\n",
       "      <th>Lara Rúnarsson</th>\n",
       "      <td>11</td>\n",
       "      <td>11</td>\n",
       "      <td>11</td>\n",
       "      <td>11</td>\n",
       "      <td>11</td>\n",
       "      <td>11</td>\n",
       "      <td>11</td>\n",
       "      <td>11</td>\n",
       "      <td>11</td>\n",
       "      <td>11</td>\n",
       "      <td>...</td>\n",
       "      <td>11</td>\n",
       "      <td>11</td>\n",
       "      <td>11</td>\n",
       "      <td>11</td>\n",
       "      <td>11</td>\n",
       "      <td>11</td>\n",
       "      <td>11</td>\n",
       "      <td>11</td>\n",
       "      <td>5</td>\n",
       "      <td>5</td>\n",
       "    </tr>\n",
       "    <tr>\n",
       "      <th>Nana Beauty</th>\n",
       "      <td>10</td>\n",
       "      <td>10</td>\n",
       "      <td>10</td>\n",
       "      <td>10</td>\n",
       "      <td>10</td>\n",
       "      <td>10</td>\n",
       "      <td>10</td>\n",
       "      <td>10</td>\n",
       "      <td>10</td>\n",
       "      <td>10</td>\n",
       "      <td>...</td>\n",
       "      <td>10</td>\n",
       "      <td>10</td>\n",
       "      <td>10</td>\n",
       "      <td>10</td>\n",
       "      <td>10</td>\n",
       "      <td>10</td>\n",
       "      <td>10</td>\n",
       "      <td>10</td>\n",
       "      <td>10</td>\n",
       "      <td>10</td>\n",
       "    </tr>\n",
       "    <tr>\n",
       "      <th>highsnobiety</th>\n",
       "      <td>10</td>\n",
       "      <td>10</td>\n",
       "      <td>10</td>\n",
       "      <td>10</td>\n",
       "      <td>10</td>\n",
       "      <td>10</td>\n",
       "      <td>10</td>\n",
       "      <td>10</td>\n",
       "      <td>10</td>\n",
       "      <td>10</td>\n",
       "      <td>...</td>\n",
       "      <td>10</td>\n",
       "      <td>10</td>\n",
       "      <td>10</td>\n",
       "      <td>10</td>\n",
       "      <td>10</td>\n",
       "      <td>10</td>\n",
       "      <td>10</td>\n",
       "      <td>10</td>\n",
       "      <td>0</td>\n",
       "      <td>0</td>\n",
       "    </tr>\n",
       "    <tr>\n",
       "      <th>JohannaEinhorn 🦄</th>\n",
       "      <td>8</td>\n",
       "      <td>8</td>\n",
       "      <td>8</td>\n",
       "      <td>8</td>\n",
       "      <td>8</td>\n",
       "      <td>8</td>\n",
       "      <td>8</td>\n",
       "      <td>8</td>\n",
       "      <td>8</td>\n",
       "      <td>8</td>\n",
       "      <td>...</td>\n",
       "      <td>8</td>\n",
       "      <td>8</td>\n",
       "      <td>0</td>\n",
       "      <td>8</td>\n",
       "      <td>8</td>\n",
       "      <td>8</td>\n",
       "      <td>8</td>\n",
       "      <td>8</td>\n",
       "      <td>0</td>\n",
       "      <td>0</td>\n",
       "    </tr>\n",
       "    <tr>\n",
       "      <th>Alyssa_morgado</th>\n",
       "      <td>7</td>\n",
       "      <td>7</td>\n",
       "      <td>7</td>\n",
       "      <td>7</td>\n",
       "      <td>7</td>\n",
       "      <td>7</td>\n",
       "      <td>7</td>\n",
       "      <td>7</td>\n",
       "      <td>7</td>\n",
       "      <td>7</td>\n",
       "      <td>...</td>\n",
       "      <td>7</td>\n",
       "      <td>7</td>\n",
       "      <td>7</td>\n",
       "      <td>7</td>\n",
       "      <td>7</td>\n",
       "      <td>7</td>\n",
       "      <td>7</td>\n",
       "      <td>7</td>\n",
       "      <td>0</td>\n",
       "      <td>0</td>\n",
       "    </tr>\n",
       "    <tr>\n",
       "      <th>DieWolfs</th>\n",
       "      <td>7</td>\n",
       "      <td>7</td>\n",
       "      <td>7</td>\n",
       "      <td>7</td>\n",
       "      <td>7</td>\n",
       "      <td>7</td>\n",
       "      <td>7</td>\n",
       "      <td>7</td>\n",
       "      <td>7</td>\n",
       "      <td>7</td>\n",
       "      <td>...</td>\n",
       "      <td>7</td>\n",
       "      <td>7</td>\n",
       "      <td>3</td>\n",
       "      <td>7</td>\n",
       "      <td>7</td>\n",
       "      <td>7</td>\n",
       "      <td>7</td>\n",
       "      <td>7</td>\n",
       "      <td>0</td>\n",
       "      <td>0</td>\n",
       "    </tr>\n",
       "    <tr>\n",
       "      <th>Aylinwelkerling</th>\n",
       "      <td>7</td>\n",
       "      <td>7</td>\n",
       "      <td>7</td>\n",
       "      <td>7</td>\n",
       "      <td>7</td>\n",
       "      <td>7</td>\n",
       "      <td>7</td>\n",
       "      <td>7</td>\n",
       "      <td>7</td>\n",
       "      <td>7</td>\n",
       "      <td>...</td>\n",
       "      <td>7</td>\n",
       "      <td>7</td>\n",
       "      <td>7</td>\n",
       "      <td>7</td>\n",
       "      <td>7</td>\n",
       "      <td>7</td>\n",
       "      <td>7</td>\n",
       "      <td>7</td>\n",
       "      <td>0</td>\n",
       "      <td>0</td>\n",
       "    </tr>\n",
       "    <tr>\n",
       "      <th>Burcu Bloyd 🪐</th>\n",
       "      <td>6</td>\n",
       "      <td>6</td>\n",
       "      <td>6</td>\n",
       "      <td>6</td>\n",
       "      <td>6</td>\n",
       "      <td>6</td>\n",
       "      <td>6</td>\n",
       "      <td>6</td>\n",
       "      <td>6</td>\n",
       "      <td>6</td>\n",
       "      <td>...</td>\n",
       "      <td>6</td>\n",
       "      <td>6</td>\n",
       "      <td>6</td>\n",
       "      <td>6</td>\n",
       "      <td>6</td>\n",
       "      <td>6</td>\n",
       "      <td>6</td>\n",
       "      <td>6</td>\n",
       "      <td>0</td>\n",
       "      <td>0</td>\n",
       "    </tr>\n",
       "    <tr>\n",
       "      <th>LifeAsZeph</th>\n",
       "      <td>5</td>\n",
       "      <td>5</td>\n",
       "      <td>5</td>\n",
       "      <td>5</td>\n",
       "      <td>5</td>\n",
       "      <td>5</td>\n",
       "      <td>5</td>\n",
       "      <td>5</td>\n",
       "      <td>5</td>\n",
       "      <td>5</td>\n",
       "      <td>...</td>\n",
       "      <td>5</td>\n",
       "      <td>5</td>\n",
       "      <td>5</td>\n",
       "      <td>5</td>\n",
       "      <td>5</td>\n",
       "      <td>5</td>\n",
       "      <td>5</td>\n",
       "      <td>5</td>\n",
       "      <td>0</td>\n",
       "      <td>0</td>\n",
       "    </tr>\n",
       "    <tr>\n",
       "      <th>teichners_pizza_palace</th>\n",
       "      <td>5</td>\n",
       "      <td>5</td>\n",
       "      <td>5</td>\n",
       "      <td>5</td>\n",
       "      <td>5</td>\n",
       "      <td>5</td>\n",
       "      <td>5</td>\n",
       "      <td>5</td>\n",
       "      <td>5</td>\n",
       "      <td>5</td>\n",
       "      <td>...</td>\n",
       "      <td>5</td>\n",
       "      <td>5</td>\n",
       "      <td>5</td>\n",
       "      <td>5</td>\n",
       "      <td>5</td>\n",
       "      <td>5</td>\n",
       "      <td>5</td>\n",
       "      <td>5</td>\n",
       "      <td>0</td>\n",
       "      <td>0</td>\n",
       "    </tr>\n",
       "    <tr>\n",
       "      <th>✨Annabeautymaus✨</th>\n",
       "      <td>5</td>\n",
       "      <td>5</td>\n",
       "      <td>5</td>\n",
       "      <td>5</td>\n",
       "      <td>5</td>\n",
       "      <td>5</td>\n",
       "      <td>5</td>\n",
       "      <td>5</td>\n",
       "      <td>5</td>\n",
       "      <td>5</td>\n",
       "      <td>...</td>\n",
       "      <td>5</td>\n",
       "      <td>5</td>\n",
       "      <td>5</td>\n",
       "      <td>5</td>\n",
       "      <td>5</td>\n",
       "      <td>5</td>\n",
       "      <td>5</td>\n",
       "      <td>5</td>\n",
       "      <td>0</td>\n",
       "      <td>0</td>\n",
       "    </tr>\n",
       "    <tr>\n",
       "      <th>Samira Safi</th>\n",
       "      <td>4</td>\n",
       "      <td>4</td>\n",
       "      <td>4</td>\n",
       "      <td>4</td>\n",
       "      <td>4</td>\n",
       "      <td>4</td>\n",
       "      <td>4</td>\n",
       "      <td>4</td>\n",
       "      <td>4</td>\n",
       "      <td>4</td>\n",
       "      <td>...</td>\n",
       "      <td>4</td>\n",
       "      <td>4</td>\n",
       "      <td>4</td>\n",
       "      <td>4</td>\n",
       "      <td>4</td>\n",
       "      <td>4</td>\n",
       "      <td>4</td>\n",
       "      <td>4</td>\n",
       "      <td>0</td>\n",
       "      <td>0</td>\n",
       "    </tr>\n",
       "    <tr>\n",
       "      <th>Darya</th>\n",
       "      <td>3</td>\n",
       "      <td>3</td>\n",
       "      <td>3</td>\n",
       "      <td>3</td>\n",
       "      <td>3</td>\n",
       "      <td>3</td>\n",
       "      <td>3</td>\n",
       "      <td>3</td>\n",
       "      <td>3</td>\n",
       "      <td>3</td>\n",
       "      <td>...</td>\n",
       "      <td>3</td>\n",
       "      <td>3</td>\n",
       "      <td>3</td>\n",
       "      <td>3</td>\n",
       "      <td>3</td>\n",
       "      <td>3</td>\n",
       "      <td>3</td>\n",
       "      <td>3</td>\n",
       "      <td>0</td>\n",
       "      <td>0</td>\n",
       "    </tr>\n",
       "    <tr>\n",
       "      <th>janisyzoe</th>\n",
       "      <td>3</td>\n",
       "      <td>3</td>\n",
       "      <td>3</td>\n",
       "      <td>3</td>\n",
       "      <td>3</td>\n",
       "      <td>3</td>\n",
       "      <td>3</td>\n",
       "      <td>3</td>\n",
       "      <td>3</td>\n",
       "      <td>3</td>\n",
       "      <td>...</td>\n",
       "      <td>3</td>\n",
       "      <td>3</td>\n",
       "      <td>3</td>\n",
       "      <td>3</td>\n",
       "      <td>3</td>\n",
       "      <td>3</td>\n",
       "      <td>3</td>\n",
       "      <td>3</td>\n",
       "      <td>0</td>\n",
       "      <td>0</td>\n",
       "    </tr>\n",
       "    <tr>\n",
       "      <th>nastya</th>\n",
       "      <td>2</td>\n",
       "      <td>2</td>\n",
       "      <td>2</td>\n",
       "      <td>2</td>\n",
       "      <td>2</td>\n",
       "      <td>2</td>\n",
       "      <td>2</td>\n",
       "      <td>2</td>\n",
       "      <td>2</td>\n",
       "      <td>2</td>\n",
       "      <td>...</td>\n",
       "      <td>2</td>\n",
       "      <td>2</td>\n",
       "      <td>2</td>\n",
       "      <td>2</td>\n",
       "      <td>2</td>\n",
       "      <td>2</td>\n",
       "      <td>2</td>\n",
       "      <td>2</td>\n",
       "      <td>0</td>\n",
       "      <td>0</td>\n",
       "    </tr>\n",
       "    <tr>\n",
       "      <th>Selin</th>\n",
       "      <td>1</td>\n",
       "      <td>1</td>\n",
       "      <td>1</td>\n",
       "      <td>1</td>\n",
       "      <td>1</td>\n",
       "      <td>1</td>\n",
       "      <td>1</td>\n",
       "      <td>1</td>\n",
       "      <td>1</td>\n",
       "      <td>1</td>\n",
       "      <td>...</td>\n",
       "      <td>1</td>\n",
       "      <td>1</td>\n",
       "      <td>1</td>\n",
       "      <td>1</td>\n",
       "      <td>1</td>\n",
       "      <td>1</td>\n",
       "      <td>1</td>\n",
       "      <td>1</td>\n",
       "      <td>0</td>\n",
       "      <td>0</td>\n",
       "    </tr>\n",
       "  </tbody>\n",
       "</table>\n",
       "<p>21 rows × 25 columns</p>\n",
       "</div>"
      ],
      "text/plain": [
       "                          input  main_ID  text  textLanguage  createTimeISO  \\\n",
       "authorMeta_nickName                                                           \n",
       "Noemi Nikita                 36       36    36            36             36   \n",
       "Valentine Caporale           25       25    25            25             25   \n",
       "Ardiana.lee                  24       24    24            24             24   \n",
       "Dr. Katharina Brüggemann     18       18    18            18             18   \n",
       "V J O S A                    15       15    15            15             15   \n",
       "Lara Rúnarsson               11       11    11            11             11   \n",
       "Nana Beauty                  10       10    10            10             10   \n",
       "highsnobiety                 10       10    10            10             10   \n",
       "JohannaEinhorn 🦄              8        8     8             8              8   \n",
       "Alyssa_morgado                7        7     7             7              7   \n",
       "DieWolfs                      7        7     7             7              7   \n",
       "Aylinwelkerling               7        7     7             7              7   \n",
       "Burcu Bloyd 🪐                 6        6     6             6              6   \n",
       "LifeAsZeph                    5        5     5             5              5   \n",
       "teichners_pizza_palace        5        5     5             5              5   \n",
       "✨Annabeautymaus✨              5        5     5             5              5   \n",
       "Samira Safi                   4        4     4             4              4   \n",
       "Darya                         3        3     3             3              3   \n",
       "janisyzoe                     3        3     3             3              3   \n",
       "nastya                        2        2     2             2              2   \n",
       "Selin                         1        1     1             1              1   \n",
       "\n",
       "                          diggCount  shareCount  playCount  collectCount  \\\n",
       "authorMeta_nickName                                                        \n",
       "Noemi Nikita                     36          36         36            36   \n",
       "Valentine Caporale               25          25         25            25   \n",
       "Ardiana.lee                      24          24         24            24   \n",
       "Dr. Katharina Brüggemann         18          18         18            18   \n",
       "V J O S A                        15          15         15            15   \n",
       "Lara Rúnarsson                   11          11         11            11   \n",
       "Nana Beauty                      10          10         10            10   \n",
       "highsnobiety                     10          10         10            10   \n",
       "JohannaEinhorn 🦄                  8           8          8             8   \n",
       "Alyssa_morgado                    7           7          7             7   \n",
       "DieWolfs                          7           7          7             7   \n",
       "Aylinwelkerling                   7           7          7             7   \n",
       "Burcu Bloyd 🪐                     6           6          6             6   \n",
       "LifeAsZeph                        5           5          5             5   \n",
       "teichners_pizza_palace            5           5          5             5   \n",
       "✨Annabeautymaus✨                  5           5          5             5   \n",
       "Samira Safi                       4           4          4             4   \n",
       "Darya                             3           3          3             3   \n",
       "janisyzoe                         3           3          3             3   \n",
       "nastya                            2           2          2             2   \n",
       "Selin                             1           1          1             1   \n",
       "\n",
       "                          commentCount  ...  isSponsored  fromProfileSection  \\\n",
       "authorMeta_nickName                     ...                                    \n",
       "Noemi Nikita                        36  ...           36                  36   \n",
       "Valentine Caporale                  25  ...           25                  25   \n",
       "Ardiana.lee                         24  ...           24                  24   \n",
       "Dr. Katharina Brüggemann            18  ...           18                  18   \n",
       "V J O S A                           15  ...           15                  15   \n",
       "Lara Rúnarsson                      11  ...           11                  11   \n",
       "Nana Beauty                         10  ...           10                  10   \n",
       "highsnobiety                        10  ...           10                  10   \n",
       "JohannaEinhorn 🦄                     8  ...            8                   8   \n",
       "Alyssa_morgado                       7  ...            7                   7   \n",
       "DieWolfs                             7  ...            7                   7   \n",
       "Aylinwelkerling                      7  ...            7                   7   \n",
       "Burcu Bloyd 🪐                        6  ...            6                   6   \n",
       "LifeAsZeph                           5  ...            5                   5   \n",
       "teichners_pizza_palace               5  ...            5                   5   \n",
       "✨Annabeautymaus✨                     5  ...            5                   5   \n",
       "Samira Safi                          4  ...            4                   4   \n",
       "Darya                                3  ...            3                   3   \n",
       "janisyzoe                            3  ...            3                   3   \n",
       "nastya                               2  ...            2                   2   \n",
       "Selin                                1  ...            1                   1   \n",
       "\n",
       "                          isAd  authorMeta_following  authorMeta_friends  \\\n",
       "authorMeta_nickName                                                        \n",
       "Noemi Nikita                36                    36                  36   \n",
       "Valentine Caporale           9                    25                  25   \n",
       "Ardiana.lee                 13                    24                  24   \n",
       "Dr. Katharina Brüggemann    18                    18                  18   \n",
       "V J O S A                    8                    15                  15   \n",
       "Lara Rúnarsson              11                    11                  11   \n",
       "Nana Beauty                 10                    10                  10   \n",
       "highsnobiety                10                    10                  10   \n",
       "JohannaEinhorn 🦄             0                     8                   8   \n",
       "Alyssa_morgado               7                     7                   7   \n",
       "DieWolfs                     3                     7                   7   \n",
       "Aylinwelkerling              7                     7                   7   \n",
       "Burcu Bloyd 🪐                6                     6                   6   \n",
       "LifeAsZeph                   5                     5                   5   \n",
       "teichners_pizza_palace       5                     5                   5   \n",
       "✨Annabeautymaus✨             5                     5                   5   \n",
       "Samira Safi                  4                     4                   4   \n",
       "Darya                        3                     3                   3   \n",
       "janisyzoe                    3                     3                   3   \n",
       "nastya                       2                     2                   2   \n",
       "Selin                        1                     1                   1   \n",
       "\n",
       "                          authorMeta_privateAccount  authorMeta_friends_1  \\\n",
       "authorMeta_nickName                                                         \n",
       "Noemi Nikita                                     36                    36   \n",
       "Valentine Caporale                               25                    25   \n",
       "Ardiana.lee                                      24                    24   \n",
       "Dr. Katharina Brüggemann                         18                    18   \n",
       "V J O S A                                        15                    15   \n",
       "Lara Rúnarsson                                   11                    11   \n",
       "Nana Beauty                                      10                    10   \n",
       "highsnobiety                                     10                    10   \n",
       "JohannaEinhorn 🦄                                  8                     8   \n",
       "Alyssa_morgado                                    7                     7   \n",
       "DieWolfs                                          7                     7   \n",
       "Aylinwelkerling                                   7                     7   \n",
       "Burcu Bloyd 🪐                                     6                     6   \n",
       "LifeAsZeph                                        5                     5   \n",
       "teichners_pizza_palace                            5                     5   \n",
       "✨Annabeautymaus✨                                  5                     5   \n",
       "Samira Safi                                       4                     4   \n",
       "Darya                                             3                     3   \n",
       "janisyzoe                                         3                     3   \n",
       "nastya                                            2                     2   \n",
       "Selin                                             1                     1   \n",
       "\n",
       "                          authorMeta_region  location_cityCode  \\\n",
       "authorMeta_nickName                                              \n",
       "Noemi Nikita                             36                  0   \n",
       "Valentine Caporale                       25                 25   \n",
       "Ardiana.lee                              24                  0   \n",
       "Dr. Katharina Brüggemann                 18                  0   \n",
       "V J O S A                                15                  0   \n",
       "Lara Rúnarsson                           11                  5   \n",
       "Nana Beauty                              10                 10   \n",
       "highsnobiety                             10                  0   \n",
       "JohannaEinhorn 🦄                          8                  0   \n",
       "Alyssa_morgado                            7                  0   \n",
       "DieWolfs                                  7                  0   \n",
       "Aylinwelkerling                           7                  0   \n",
       "Burcu Bloyd 🪐                             6                  0   \n",
       "LifeAsZeph                                5                  0   \n",
       "teichners_pizza_palace                    5                  0   \n",
       "✨Annabeautymaus✨                          5                  0   \n",
       "Samira Safi                               4                  0   \n",
       "Darya                                     3                  0   \n",
       "janisyzoe                                 3                  0   \n",
       "nastya                                    2                  0   \n",
       "Selin                                     1                  0   \n",
       "\n",
       "                          location_countryCode  \n",
       "authorMeta_nickName                             \n",
       "Noemi Nikita                                 0  \n",
       "Valentine Caporale                          25  \n",
       "Ardiana.lee                                  0  \n",
       "Dr. Katharina Brüggemann                     0  \n",
       "V J O S A                                    0  \n",
       "Lara Rúnarsson                               5  \n",
       "Nana Beauty                                 10  \n",
       "highsnobiety                                 0  \n",
       "JohannaEinhorn 🦄                             0  \n",
       "Alyssa_morgado                               0  \n",
       "DieWolfs                                     0  \n",
       "Aylinwelkerling                              0  \n",
       "Burcu Bloyd 🪐                                0  \n",
       "LifeAsZeph                                   0  \n",
       "teichners_pizza_palace                       0  \n",
       "✨Annabeautymaus✨                             0  \n",
       "Samira Safi                                  0  \n",
       "Darya                                        0  \n",
       "janisyzoe                                    0  \n",
       "nastya                                       0  \n",
       "Selin                                        0  \n",
       "\n",
       "[21 rows x 25 columns]"
      ]
     },
     "execution_count": 26,
     "metadata": {},
     "output_type": "execute_result"
    }
   ],
   "source": [
    "df_sponsored_1.groupby('authorMeta_nickName').count().sort_values(by='main_ID', ascending= False)"
   ]
  },
  {
   "cell_type": "code",
   "execution_count": 27,
   "metadata": {},
   "outputs": [
    {
     "data": {
      "text/plain": [
       "array([nan])"
      ]
     },
     "execution_count": 27,
     "metadata": {},
     "output_type": "execute_result"
    }
   ],
   "source": [
    "df['searchQuery'].unique()"
   ]
  },
  {
   "cell_type": "code",
   "execution_count": 28,
   "metadata": {},
   "outputs": [],
   "source": [
    "df_no_meta=pd.read_csv('/Users/ritushetkar/Downloads/profile_posts_no_multi_level.csv')"
   ]
  },
  {
   "cell_type": "code",
   "execution_count": 29,
   "metadata": {},
   "outputs": [
    {
     "data": {
      "text/plain": [
       "Index(['url', 'bucketUrl', 'input', 'error', 'id', 'text', 'textLanguage',\n",
       "       'createTime', 'createTimeISO', 'webVideoUrl', 'mediaUrls', 'diggCount',\n",
       "       'shareCount', 'playCount', 'collectCount', 'commentCount', 'mentions',\n",
       "       'note', 'searchQuery', 'isSlideshow', 'isPinned', 'isSponsored',\n",
       "       'fromProfileSection', 'isAd', 'datasetId', 'sourceloaddatetime',\n",
       "       'created_at', 'updated_at'],\n",
       "      dtype='object')"
      ]
     },
     "execution_count": 29,
     "metadata": {},
     "output_type": "execute_result"
    }
   ],
   "source": [
    "df_no_meta.columns"
   ]
  },
  {
   "cell_type": "code",
   "execution_count": 30,
   "metadata": {},
   "outputs": [
    {
     "data": {
      "text/html": [
       "<div>\n",
       "<style scoped>\n",
       "    .dataframe tbody tr th:only-of-type {\n",
       "        vertical-align: middle;\n",
       "    }\n",
       "\n",
       "    .dataframe tbody tr th {\n",
       "        vertical-align: top;\n",
       "    }\n",
       "\n",
       "    .dataframe thead th {\n",
       "        text-align: right;\n",
       "    }\n",
       "</style>\n",
       "<table border=\"1\" class=\"dataframe\">\n",
       "  <thead>\n",
       "    <tr style=\"text-align: right;\">\n",
       "      <th></th>\n",
       "      <th>Column</th>\n",
       "      <th>Unique Count</th>\n",
       "      <th>Has NaN</th>\n",
       "      <th>Sample Values</th>\n",
       "    </tr>\n",
       "  </thead>\n",
       "  <tbody>\n",
       "    <tr>\n",
       "      <th>0</th>\n",
       "      <td>webVideoUrl</td>\n",
       "      <td>3721</td>\n",
       "      <td>False</td>\n",
       "      <td>https://www.tiktok.com/@drmedemilie/video/7470...</td>\n",
       "    </tr>\n",
       "    <tr>\n",
       "      <th>1</th>\n",
       "      <td>id</td>\n",
       "      <td>3721</td>\n",
       "      <td>False</td>\n",
       "      <td>7470649425426205974, 7469126973957082390, 7478...</td>\n",
       "    </tr>\n",
       "    <tr>\n",
       "      <th>2</th>\n",
       "      <td>createTime</td>\n",
       "      <td>3713</td>\n",
       "      <td>False</td>\n",
       "      <td>1739396119, 1739041645, 1741184831, 1740677206...</td>\n",
       "    </tr>\n",
       "    <tr>\n",
       "      <th>3</th>\n",
       "      <td>createTimeISO</td>\n",
       "      <td>3713</td>\n",
       "      <td>False</td>\n",
       "      <td>2025-02-12T21:35:19.000Z, 2025-02-08T19:07:25....</td>\n",
       "    </tr>\n",
       "    <tr>\n",
       "      <th>4</th>\n",
       "      <td>mediaUrls</td>\n",
       "      <td>3593</td>\n",
       "      <td>False</td>\n",
       "      <td>[], [https://api.apify.com/v2/key-value-stores...</td>\n",
       "    </tr>\n",
       "    <tr>\n",
       "      <th>5</th>\n",
       "      <td>text</td>\n",
       "      <td>3530</td>\n",
       "      <td>True</td>\n",
       "      <td>Ohne Pflege kein Krankenhaus – ohne Euch keine...</td>\n",
       "    </tr>\n",
       "    <tr>\n",
       "      <th>6</th>\n",
       "      <td>playCount</td>\n",
       "      <td>2551</td>\n",
       "      <td>False</td>\n",
       "      <td>134700, 37600, 38500, 4486, 34500...</td>\n",
       "    </tr>\n",
       "    <tr>\n",
       "      <th>7</th>\n",
       "      <td>diggCount</td>\n",
       "      <td>2529</td>\n",
       "      <td>False</td>\n",
       "      <td>12900, 2586, 3145, 114, 1519...</td>\n",
       "    </tr>\n",
       "    <tr>\n",
       "      <th>8</th>\n",
       "      <td>bucketUrl</td>\n",
       "      <td>1581</td>\n",
       "      <td>True</td>\n",
       "      <td>https://storage.cloud.google.com/capstone-soci...</td>\n",
       "    </tr>\n",
       "    <tr>\n",
       "      <th>9</th>\n",
       "      <td>collectCount</td>\n",
       "      <td>1522</td>\n",
       "      <td>False</td>\n",
       "      <td>675, 76, 53, 2, 7...</td>\n",
       "    </tr>\n",
       "    <tr>\n",
       "      <th>10</th>\n",
       "      <td>shareCount</td>\n",
       "      <td>1040</td>\n",
       "      <td>False</td>\n",
       "      <td>173, 19, 10, 1, 12...</td>\n",
       "    </tr>\n",
       "    <tr>\n",
       "      <th>11</th>\n",
       "      <td>commentCount</td>\n",
       "      <td>607</td>\n",
       "      <td>False</td>\n",
       "      <td>31, 23, 19, 4, 65...</td>\n",
       "    </tr>\n",
       "    <tr>\n",
       "      <th>12</th>\n",
       "      <td>mentions</td>\n",
       "      <td>576</td>\n",
       "      <td>False</td>\n",
       "      <td>[@Luisa], [], [@La Roche-Posay], [@travel4med]...</td>\n",
       "    </tr>\n",
       "    <tr>\n",
       "      <th>13</th>\n",
       "      <td>input</td>\n",
       "      <td>168</td>\n",
       "      <td>False</td>\n",
       "      <td>drmedemilie, valentinapahde, kathijunes, sophi...</td>\n",
       "    </tr>\n",
       "    <tr>\n",
       "      <th>14</th>\n",
       "      <td>textLanguage</td>\n",
       "      <td>31</td>\n",
       "      <td>True</td>\n",
       "      <td>de, en, un, it, fr...</td>\n",
       "    </tr>\n",
       "    <tr>\n",
       "      <th>15</th>\n",
       "      <td>datasetId</td>\n",
       "      <td>22</td>\n",
       "      <td>False</td>\n",
       "      <td>8wewaEGLgQr5EK8nT, rYWLV0SFYTZfVxkdC, eGuCTX7E...</td>\n",
       "    </tr>\n",
       "    <tr>\n",
       "      <th>16</th>\n",
       "      <td>sourceloaddatetime</td>\n",
       "      <td>22</td>\n",
       "      <td>False</td>\n",
       "      <td>2025-03-20 15:10:20.000000 UTC, 2025-04-01 19:...</td>\n",
       "    </tr>\n",
       "    <tr>\n",
       "      <th>17</th>\n",
       "      <td>created_at</td>\n",
       "      <td>5</td>\n",
       "      <td>False</td>\n",
       "      <td>2025-03-20 14:12:59.460549 UTC, 2025-04-02 08:...</td>\n",
       "    </tr>\n",
       "    <tr>\n",
       "      <th>18</th>\n",
       "      <td>updated_at</td>\n",
       "      <td>5</td>\n",
       "      <td>False</td>\n",
       "      <td>2025-03-20 14:12:59.460549 UTC, 2025-04-02 08:...</td>\n",
       "    </tr>\n",
       "    <tr>\n",
       "      <th>19</th>\n",
       "      <td>isSlideshow</td>\n",
       "      <td>2</td>\n",
       "      <td>False</td>\n",
       "      <td>True, False</td>\n",
       "    </tr>\n",
       "    <tr>\n",
       "      <th>20</th>\n",
       "      <td>isPinned</td>\n",
       "      <td>2</td>\n",
       "      <td>False</td>\n",
       "      <td>False, True</td>\n",
       "    </tr>\n",
       "    <tr>\n",
       "      <th>21</th>\n",
       "      <td>isSponsored</td>\n",
       "      <td>2</td>\n",
       "      <td>False</td>\n",
       "      <td>False, True</td>\n",
       "    </tr>\n",
       "    <tr>\n",
       "      <th>22</th>\n",
       "      <td>isAd</td>\n",
       "      <td>2</td>\n",
       "      <td>True</td>\n",
       "      <td>False, True</td>\n",
       "    </tr>\n",
       "    <tr>\n",
       "      <th>23</th>\n",
       "      <td>fromProfileSection</td>\n",
       "      <td>1</td>\n",
       "      <td>False</td>\n",
       "      <td>videos</td>\n",
       "    </tr>\n",
       "    <tr>\n",
       "      <th>24</th>\n",
       "      <td>searchQuery</td>\n",
       "      <td>0</td>\n",
       "      <td>True</td>\n",
       "      <td></td>\n",
       "    </tr>\n",
       "    <tr>\n",
       "      <th>25</th>\n",
       "      <td>note</td>\n",
       "      <td>0</td>\n",
       "      <td>True</td>\n",
       "      <td></td>\n",
       "    </tr>\n",
       "    <tr>\n",
       "      <th>26</th>\n",
       "      <td>error</td>\n",
       "      <td>0</td>\n",
       "      <td>True</td>\n",
       "      <td></td>\n",
       "    </tr>\n",
       "    <tr>\n",
       "      <th>27</th>\n",
       "      <td>url</td>\n",
       "      <td>0</td>\n",
       "      <td>True</td>\n",
       "      <td></td>\n",
       "    </tr>\n",
       "  </tbody>\n",
       "</table>\n",
       "</div>"
      ],
      "text/plain": [
       "                Column  Unique Count  Has NaN  \\\n",
       "0          webVideoUrl          3721    False   \n",
       "1                   id          3721    False   \n",
       "2           createTime          3713    False   \n",
       "3        createTimeISO          3713    False   \n",
       "4            mediaUrls          3593    False   \n",
       "5                 text          3530     True   \n",
       "6            playCount          2551    False   \n",
       "7            diggCount          2529    False   \n",
       "8            bucketUrl          1581     True   \n",
       "9         collectCount          1522    False   \n",
       "10          shareCount          1040    False   \n",
       "11        commentCount           607    False   \n",
       "12            mentions           576    False   \n",
       "13               input           168    False   \n",
       "14        textLanguage            31     True   \n",
       "15           datasetId            22    False   \n",
       "16  sourceloaddatetime            22    False   \n",
       "17          created_at             5    False   \n",
       "18          updated_at             5    False   \n",
       "19         isSlideshow             2    False   \n",
       "20            isPinned             2    False   \n",
       "21         isSponsored             2    False   \n",
       "22                isAd             2     True   \n",
       "23  fromProfileSection             1    False   \n",
       "24         searchQuery             0     True   \n",
       "25                note             0     True   \n",
       "26               error             0     True   \n",
       "27                 url             0     True   \n",
       "\n",
       "                                        Sample Values  \n",
       "0   https://www.tiktok.com/@drmedemilie/video/7470...  \n",
       "1   7470649425426205974, 7469126973957082390, 7478...  \n",
       "2   1739396119, 1739041645, 1741184831, 1740677206...  \n",
       "3   2025-02-12T21:35:19.000Z, 2025-02-08T19:07:25....  \n",
       "4   [], [https://api.apify.com/v2/key-value-stores...  \n",
       "5   Ohne Pflege kein Krankenhaus – ohne Euch keine...  \n",
       "6                134700, 37600, 38500, 4486, 34500...  \n",
       "7                     12900, 2586, 3145, 114, 1519...  \n",
       "8   https://storage.cloud.google.com/capstone-soci...  \n",
       "9                                675, 76, 53, 2, 7...  \n",
       "10                              173, 19, 10, 1, 12...  \n",
       "11                               31, 23, 19, 4, 65...  \n",
       "12  [@Luisa], [], [@La Roche-Posay], [@travel4med]...  \n",
       "13  drmedemilie, valentinapahde, kathijunes, sophi...  \n",
       "14                              de, en, un, it, fr...  \n",
       "15  8wewaEGLgQr5EK8nT, rYWLV0SFYTZfVxkdC, eGuCTX7E...  \n",
       "16  2025-03-20 15:10:20.000000 UTC, 2025-04-01 19:...  \n",
       "17  2025-03-20 14:12:59.460549 UTC, 2025-04-02 08:...  \n",
       "18  2025-03-20 14:12:59.460549 UTC, 2025-04-02 08:...  \n",
       "19                                        True, False  \n",
       "20                                        False, True  \n",
       "21                                        False, True  \n",
       "22                                        False, True  \n",
       "23                                             videos  \n",
       "24                                                     \n",
       "25                                                     \n",
       "26                                                     \n",
       "27                                                     "
      ]
     },
     "execution_count": 30,
     "metadata": {},
     "output_type": "execute_result"
    }
   ],
   "source": [
    "summary = []\n",
    "\n",
    "for col in df_no_meta.columns:\n",
    "    unique_vals = df_no_meta[col].dropna().unique()\n",
    "    n_unique = len(unique_vals)\n",
    "    has_nan = df_no_meta[col].isna().any()\n",
    "    sample_vals = ', '.join([str(val) for val in unique_vals[:5]])\n",
    "\n",
    "   \n",
    "    \n",
    "    summary.append({\n",
    "        'Column': col,\n",
    "        'Unique Count': n_unique,\n",
    "        'Has NaN': has_nan,\n",
    "        'Sample Values': sample_vals + ('...' if n_unique > 5 else '')\n",
    "    })\n",
    "\n",
    "summary_df = pd.DataFrame(summary)\n",
    "\n",
    "# Display summary\n",
    "summary_df.sort_values(by='Unique Count', ascending=False).reset_index(drop=True)"
   ]
  },
  {
   "cell_type": "code",
   "execution_count": 31,
   "metadata": {},
   "outputs": [
    {
     "data": {
      "text/html": [
       "<div>\n",
       "<style scoped>\n",
       "    .dataframe tbody tr th:only-of-type {\n",
       "        vertical-align: middle;\n",
       "    }\n",
       "\n",
       "    .dataframe tbody tr th {\n",
       "        vertical-align: top;\n",
       "    }\n",
       "\n",
       "    .dataframe thead th {\n",
       "        text-align: right;\n",
       "    }\n",
       "</style>\n",
       "<table border=\"1\" class=\"dataframe\">\n",
       "  <thead>\n",
       "    <tr style=\"text-align: right;\">\n",
       "      <th></th>\n",
       "      <th>input</th>\n",
       "      <th>main_ID</th>\n",
       "      <th>text</th>\n",
       "      <th>textLanguage</th>\n",
       "      <th>createTimeISO</th>\n",
       "      <th>diggCount</th>\n",
       "      <th>shareCount</th>\n",
       "      <th>playCount</th>\n",
       "      <th>collectCount</th>\n",
       "      <th>commentCount</th>\n",
       "      <th>...</th>\n",
       "      <th>fromProfileSection</th>\n",
       "      <th>isAd</th>\n",
       "      <th>authorMeta_nickName</th>\n",
       "      <th>authorMeta_following</th>\n",
       "      <th>authorMeta_friends</th>\n",
       "      <th>authorMeta_privateAccount</th>\n",
       "      <th>authorMeta_friends_1</th>\n",
       "      <th>authorMeta_region</th>\n",
       "      <th>location_cityCode</th>\n",
       "      <th>location_countryCode</th>\n",
       "    </tr>\n",
       "  </thead>\n",
       "  <tbody>\n",
       "    <tr>\n",
       "      <th>0</th>\n",
       "      <td>drmedemilie</td>\n",
       "      <td>7470649425426205974</td>\n",
       "      <td>Ohne Pflege kein Krankenhaus – ohne Euch keine...</td>\n",
       "      <td>de</td>\n",
       "      <td>2025-02-12T21:35:19.000Z</td>\n",
       "      <td>12900</td>\n",
       "      <td>173</td>\n",
       "      <td>134700</td>\n",
       "      <td>675</td>\n",
       "      <td>31</td>\n",
       "      <td>...</td>\n",
       "      <td>videos</td>\n",
       "      <td>False</td>\n",
       "      <td>Dr. medic. Emilie 🫀</td>\n",
       "      <td>551</td>\n",
       "      <td>95</td>\n",
       "      <td>False</td>\n",
       "      <td>95</td>\n",
       "      <td>TR</td>\n",
       "      <td>NaN</td>\n",
       "      <td>NaN</td>\n",
       "    </tr>\n",
       "    <tr>\n",
       "      <th>1</th>\n",
       "      <td>drmedemilie</td>\n",
       "      <td>7470649425426205974</td>\n",
       "      <td>Ohne Pflege kein Krankenhaus – ohne Euch keine...</td>\n",
       "      <td>de</td>\n",
       "      <td>2025-02-12T21:35:19.000Z</td>\n",
       "      <td>12900</td>\n",
       "      <td>173</td>\n",
       "      <td>134700</td>\n",
       "      <td>675</td>\n",
       "      <td>31</td>\n",
       "      <td>...</td>\n",
       "      <td>videos</td>\n",
       "      <td>False</td>\n",
       "      <td>Dr. medic. Emilie 🫀</td>\n",
       "      <td>551</td>\n",
       "      <td>95</td>\n",
       "      <td>False</td>\n",
       "      <td>95</td>\n",
       "      <td>TR</td>\n",
       "      <td>NaN</td>\n",
       "      <td>NaN</td>\n",
       "    </tr>\n",
       "    <tr>\n",
       "      <th>2</th>\n",
       "      <td>drmedemilie</td>\n",
       "      <td>7470649425426205974</td>\n",
       "      <td>Ohne Pflege kein Krankenhaus – ohne Euch keine...</td>\n",
       "      <td>de</td>\n",
       "      <td>2025-02-12T21:35:19.000Z</td>\n",
       "      <td>12900</td>\n",
       "      <td>173</td>\n",
       "      <td>134700</td>\n",
       "      <td>675</td>\n",
       "      <td>31</td>\n",
       "      <td>...</td>\n",
       "      <td>videos</td>\n",
       "      <td>False</td>\n",
       "      <td>Dr. medic. Emilie 🫀</td>\n",
       "      <td>551</td>\n",
       "      <td>95</td>\n",
       "      <td>False</td>\n",
       "      <td>95</td>\n",
       "      <td>TR</td>\n",
       "      <td>NaN</td>\n",
       "      <td>NaN</td>\n",
       "    </tr>\n",
       "    <tr>\n",
       "      <th>3</th>\n",
       "      <td>drmedemilie</td>\n",
       "      <td>7470649425426205974</td>\n",
       "      <td>Ohne Pflege kein Krankenhaus – ohne Euch keine...</td>\n",
       "      <td>de</td>\n",
       "      <td>2025-02-12T21:35:19.000Z</td>\n",
       "      <td>12900</td>\n",
       "      <td>173</td>\n",
       "      <td>134700</td>\n",
       "      <td>675</td>\n",
       "      <td>31</td>\n",
       "      <td>...</td>\n",
       "      <td>videos</td>\n",
       "      <td>False</td>\n",
       "      <td>Dr. medic. Emilie 🫀</td>\n",
       "      <td>551</td>\n",
       "      <td>95</td>\n",
       "      <td>False</td>\n",
       "      <td>95</td>\n",
       "      <td>TR</td>\n",
       "      <td>NaN</td>\n",
       "      <td>NaN</td>\n",
       "    </tr>\n",
       "    <tr>\n",
       "      <th>4</th>\n",
       "      <td>drmedemilie</td>\n",
       "      <td>7469126973957082390</td>\n",
       "      <td>Adrenalin, Teamwork und jede Sekunde zählt – m...</td>\n",
       "      <td>de</td>\n",
       "      <td>2025-02-08T19:07:25.000Z</td>\n",
       "      <td>2586</td>\n",
       "      <td>19</td>\n",
       "      <td>37600</td>\n",
       "      <td>76</td>\n",
       "      <td>23</td>\n",
       "      <td>...</td>\n",
       "      <td>videos</td>\n",
       "      <td>False</td>\n",
       "      <td>Dr. medic. Emilie 🫀</td>\n",
       "      <td>551</td>\n",
       "      <td>95</td>\n",
       "      <td>False</td>\n",
       "      <td>95</td>\n",
       "      <td>TR</td>\n",
       "      <td>NaN</td>\n",
       "      <td>NaN</td>\n",
       "    </tr>\n",
       "    <tr>\n",
       "      <th>...</th>\n",
       "      <td>...</td>\n",
       "      <td>...</td>\n",
       "      <td>...</td>\n",
       "      <td>...</td>\n",
       "      <td>...</td>\n",
       "      <td>...</td>\n",
       "      <td>...</td>\n",
       "      <td>...</td>\n",
       "      <td>...</td>\n",
       "      <td>...</td>\n",
       "      <td>...</td>\n",
       "      <td>...</td>\n",
       "      <td>...</td>\n",
       "      <td>...</td>\n",
       "      <td>...</td>\n",
       "      <td>...</td>\n",
       "      <td>...</td>\n",
       "      <td>...</td>\n",
       "      <td>...</td>\n",
       "      <td>...</td>\n",
       "      <td>...</td>\n",
       "    </tr>\n",
       "    <tr>\n",
       "      <th>13698</th>\n",
       "      <td>rebecca.blank</td>\n",
       "      <td>7470219963857489174</td>\n",
       "      <td>„Poste deine Entwürfe“ 🥲</td>\n",
       "      <td>de</td>\n",
       "      <td>2025-02-11T17:48:49.000Z</td>\n",
       "      <td>145</td>\n",
       "      <td>0</td>\n",
       "      <td>1793</td>\n",
       "      <td>6</td>\n",
       "      <td>10</td>\n",
       "      <td>...</td>\n",
       "      <td>videos</td>\n",
       "      <td>NaN</td>\n",
       "      <td>Rebecca YouTube</td>\n",
       "      <td>415</td>\n",
       "      <td>28</td>\n",
       "      <td>False</td>\n",
       "      <td>28</td>\n",
       "      <td>AE</td>\n",
       "      <td>NaN</td>\n",
       "      <td>NaN</td>\n",
       "    </tr>\n",
       "    <tr>\n",
       "      <th>13699</th>\n",
       "      <td>rebecca.blank</td>\n",
       "      <td>7468987449511857430</td>\n",
       "      <td>Elf Liquid Blush im Test #drogeriemakeup</td>\n",
       "      <td>en</td>\n",
       "      <td>2025-02-08T10:06:01.000Z</td>\n",
       "      <td>388</td>\n",
       "      <td>4</td>\n",
       "      <td>4041</td>\n",
       "      <td>18</td>\n",
       "      <td>10</td>\n",
       "      <td>...</td>\n",
       "      <td>videos</td>\n",
       "      <td>NaN</td>\n",
       "      <td>Rebecca YouTube</td>\n",
       "      <td>415</td>\n",
       "      <td>28</td>\n",
       "      <td>False</td>\n",
       "      <td>28</td>\n",
       "      <td>AE</td>\n",
       "      <td>NaN</td>\n",
       "      <td>NaN</td>\n",
       "    </tr>\n",
       "    <tr>\n",
       "      <th>13700</th>\n",
       "      <td>rebecca.blank</td>\n",
       "      <td>7464946849321848086</td>\n",
       "      <td>Glow Up with me 💅✨ #duschroutine #glowup #schm...</td>\n",
       "      <td>en</td>\n",
       "      <td>2025-01-28T12:46:26.000Z</td>\n",
       "      <td>462</td>\n",
       "      <td>0</td>\n",
       "      <td>4449</td>\n",
       "      <td>24</td>\n",
       "      <td>7</td>\n",
       "      <td>...</td>\n",
       "      <td>videos</td>\n",
       "      <td>NaN</td>\n",
       "      <td>Rebecca YouTube</td>\n",
       "      <td>415</td>\n",
       "      <td>28</td>\n",
       "      <td>False</td>\n",
       "      <td>28</td>\n",
       "      <td>AE</td>\n",
       "      <td>NaN</td>\n",
       "      <td>NaN</td>\n",
       "    </tr>\n",
       "    <tr>\n",
       "      <th>13701</th>\n",
       "      <td>rebecca.blank</td>\n",
       "      <td>7464946849321848086</td>\n",
       "      <td>Glow Up with me 💅✨ #duschroutine #glowup #schm...</td>\n",
       "      <td>en</td>\n",
       "      <td>2025-01-28T12:46:26.000Z</td>\n",
       "      <td>462</td>\n",
       "      <td>0</td>\n",
       "      <td>4449</td>\n",
       "      <td>24</td>\n",
       "      <td>7</td>\n",
       "      <td>...</td>\n",
       "      <td>videos</td>\n",
       "      <td>NaN</td>\n",
       "      <td>Rebecca YouTube</td>\n",
       "      <td>415</td>\n",
       "      <td>28</td>\n",
       "      <td>False</td>\n",
       "      <td>28</td>\n",
       "      <td>AE</td>\n",
       "      <td>NaN</td>\n",
       "      <td>NaN</td>\n",
       "    </tr>\n",
       "    <tr>\n",
       "      <th>13702</th>\n",
       "      <td>rebecca.blank</td>\n",
       "      <td>7464946849321848086</td>\n",
       "      <td>Glow Up with me 💅✨ #duschroutine #glowup #schm...</td>\n",
       "      <td>en</td>\n",
       "      <td>2025-01-28T12:46:26.000Z</td>\n",
       "      <td>462</td>\n",
       "      <td>0</td>\n",
       "      <td>4449</td>\n",
       "      <td>24</td>\n",
       "      <td>7</td>\n",
       "      <td>...</td>\n",
       "      <td>videos</td>\n",
       "      <td>NaN</td>\n",
       "      <td>Rebecca YouTube</td>\n",
       "      <td>415</td>\n",
       "      <td>28</td>\n",
       "      <td>False</td>\n",
       "      <td>28</td>\n",
       "      <td>AE</td>\n",
       "      <td>NaN</td>\n",
       "      <td>NaN</td>\n",
       "    </tr>\n",
       "  </tbody>\n",
       "</table>\n",
       "<p>13703 rows × 26 columns</p>\n",
       "</div>"
      ],
      "text/plain": [
       "               input              main_ID  \\\n",
       "0        drmedemilie  7470649425426205974   \n",
       "1        drmedemilie  7470649425426205974   \n",
       "2        drmedemilie  7470649425426205974   \n",
       "3        drmedemilie  7470649425426205974   \n",
       "4        drmedemilie  7469126973957082390   \n",
       "...              ...                  ...   \n",
       "13698  rebecca.blank  7470219963857489174   \n",
       "13699  rebecca.blank  7468987449511857430   \n",
       "13700  rebecca.blank  7464946849321848086   \n",
       "13701  rebecca.blank  7464946849321848086   \n",
       "13702  rebecca.blank  7464946849321848086   \n",
       "\n",
       "                                                    text textLanguage  \\\n",
       "0      Ohne Pflege kein Krankenhaus – ohne Euch keine...           de   \n",
       "1      Ohne Pflege kein Krankenhaus – ohne Euch keine...           de   \n",
       "2      Ohne Pflege kein Krankenhaus – ohne Euch keine...           de   \n",
       "3      Ohne Pflege kein Krankenhaus – ohne Euch keine...           de   \n",
       "4      Adrenalin, Teamwork und jede Sekunde zählt – m...           de   \n",
       "...                                                  ...          ...   \n",
       "13698                          „Poste deine Entwürfe“ 🥲            de   \n",
       "13699          Elf Liquid Blush im Test #drogeriemakeup            en   \n",
       "13700  Glow Up with me 💅✨ #duschroutine #glowup #schm...           en   \n",
       "13701  Glow Up with me 💅✨ #duschroutine #glowup #schm...           en   \n",
       "13702  Glow Up with me 💅✨ #duschroutine #glowup #schm...           en   \n",
       "\n",
       "                  createTimeISO  diggCount  shareCount  playCount  \\\n",
       "0      2025-02-12T21:35:19.000Z      12900         173     134700   \n",
       "1      2025-02-12T21:35:19.000Z      12900         173     134700   \n",
       "2      2025-02-12T21:35:19.000Z      12900         173     134700   \n",
       "3      2025-02-12T21:35:19.000Z      12900         173     134700   \n",
       "4      2025-02-08T19:07:25.000Z       2586          19      37600   \n",
       "...                         ...        ...         ...        ...   \n",
       "13698  2025-02-11T17:48:49.000Z        145           0       1793   \n",
       "13699  2025-02-08T10:06:01.000Z        388           4       4041   \n",
       "13700  2025-01-28T12:46:26.000Z        462           0       4449   \n",
       "13701  2025-01-28T12:46:26.000Z        462           0       4449   \n",
       "13702  2025-01-28T12:46:26.000Z        462           0       4449   \n",
       "\n",
       "       collectCount  commentCount  ... fromProfileSection   isAd  \\\n",
       "0               675            31  ...             videos  False   \n",
       "1               675            31  ...             videos  False   \n",
       "2               675            31  ...             videos  False   \n",
       "3               675            31  ...             videos  False   \n",
       "4                76            23  ...             videos  False   \n",
       "...             ...           ...  ...                ...    ...   \n",
       "13698             6            10  ...             videos    NaN   \n",
       "13699            18            10  ...             videos    NaN   \n",
       "13700            24             7  ...             videos    NaN   \n",
       "13701            24             7  ...             videos    NaN   \n",
       "13702            24             7  ...             videos    NaN   \n",
       "\n",
       "       authorMeta_nickName  authorMeta_following  authorMeta_friends  \\\n",
       "0      Dr. medic. Emilie 🫀                   551                  95   \n",
       "1      Dr. medic. Emilie 🫀                   551                  95   \n",
       "2      Dr. medic. Emilie 🫀                   551                  95   \n",
       "3      Dr. medic. Emilie 🫀                   551                  95   \n",
       "4      Dr. medic. Emilie 🫀                   551                  95   \n",
       "...                    ...                   ...                 ...   \n",
       "13698      Rebecca YouTube                   415                  28   \n",
       "13699      Rebecca YouTube                   415                  28   \n",
       "13700      Rebecca YouTube                   415                  28   \n",
       "13701      Rebecca YouTube                   415                  28   \n",
       "13702      Rebecca YouTube                   415                  28   \n",
       "\n",
       "       authorMeta_privateAccount authorMeta_friends_1 authorMeta_region  \\\n",
       "0                          False                   95                TR   \n",
       "1                          False                   95                TR   \n",
       "2                          False                   95                TR   \n",
       "3                          False                   95                TR   \n",
       "4                          False                   95                TR   \n",
       "...                          ...                  ...               ...   \n",
       "13698                      False                   28                AE   \n",
       "13699                      False                   28                AE   \n",
       "13700                      False                   28                AE   \n",
       "13701                      False                   28                AE   \n",
       "13702                      False                   28                AE   \n",
       "\n",
       "      location_cityCode  location_countryCode  \n",
       "0                   NaN                   NaN  \n",
       "1                   NaN                   NaN  \n",
       "2                   NaN                   NaN  \n",
       "3                   NaN                   NaN  \n",
       "4                   NaN                   NaN  \n",
       "...                 ...                   ...  \n",
       "13698               NaN                   NaN  \n",
       "13699               NaN                   NaN  \n",
       "13700               NaN                   NaN  \n",
       "13701               NaN                   NaN  \n",
       "13702               NaN                   NaN  \n",
       "\n",
       "[13703 rows x 26 columns]"
      ]
     },
     "execution_count": 31,
     "metadata": {},
     "output_type": "execute_result"
    }
   ],
   "source": [
    "df"
   ]
  },
  {
   "cell_type": "code",
   "execution_count": null,
   "metadata": {},
   "outputs": [],
   "source": []
  }
 ],
 "metadata": {
  "kernelspec": {
   "display_name": "env_capstone",
   "language": "python",
   "name": "python3"
  },
  "language_info": {
   "codemirror_mode": {
    "name": "ipython",
    "version": 3
   },
   "file_extension": ".py",
   "mimetype": "text/x-python",
   "name": "python",
   "nbconvert_exporter": "python",
   "pygments_lexer": "ipython3",
   "version": "3.9.6"
  }
 },
 "nbformat": 4,
 "nbformat_minor": 2
}
