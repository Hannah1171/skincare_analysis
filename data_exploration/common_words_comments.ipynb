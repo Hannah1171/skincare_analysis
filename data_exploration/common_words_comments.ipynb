{
 "cells": [
  {
   "cell_type": "code",
   "execution_count": 11,
   "id": "6578d19d",
   "metadata": {},
   "outputs": [
    {
     "name": "stderr",
     "output_type": "stream",
     "text": [
      "[nltk_data] Downloading package punkt to C:\\Users\\Surface/nltk_data...\n",
      "[nltk_data]   Package punkt is already up-to-date!\n",
      "[nltk_data] Downloading package punkt_tab to\n",
      "[nltk_data]     C:\\Users\\Surface/nltk_data...\n",
      "[nltk_data]   Package punkt_tab is already up-to-date!\n",
      "[nltk_data] Downloading package stopwords to\n",
      "[nltk_data]     C:\\Users\\Surface/nltk_data...\n",
      "[nltk_data]   Package stopwords is already up-to-date!\n"
     ]
    }
   ],
   "source": [
    "import pandas as pd\n",
    "import re\n",
    "from nltk.corpus import stopwords\n",
    "from nltk.tokenize import word_tokenize\n",
    "from nltk.util import ngrams\n",
    "from collections import Counter\n",
    "import matplotlib.pyplot as plt\n",
    "import nltk\n",
    "\n",
    "# Download NLTK resources (only needs to be run once)\n",
    "nltk.download(\"punkt\")\n",
    "nltk.download(\"punkt_tab\")\n",
    "nltk.download(\"stopwords\")\n",
    "\n",
    "# Load CSV file\n",
    "df = pd.read_csv(\"../data/post_comments.csv\")\n",
    "\n",
    "# Remove empty comments and hashtags\n",
    "df = df[df[\"text\"].notna()]\n",
    "df[\"text\"] = df[\"text\"].astype(str).apply(lambda x: re.sub(r\"#\\w+\", \"\", x).strip())\n",
    "\n",
    "# Convert timestamp column to datetime\n",
    "df[\"createTimeISO\"] = pd.to_datetime(df[\"createTimeISO\"])"
   ]
  },
  {
   "cell_type": "markdown",
   "id": "870f8fd6",
   "metadata": {},
   "source": [
    "Filtering and outliers"
   ]
  },
  {
   "cell_type": "code",
   "execution_count": 12,
   "id": "f7ac77da",
   "metadata": {},
   "outputs": [],
   "source": [
    "# Filter to last 6 months\n",
    "from datetime import datetime\n",
    "six_months_ago = pd.Timestamp(datetime.today() - pd.DateOffset(months=6), tz=\"UTC\")\n",
    "df = df[df[\"createTimeISO\"] >= six_months_ago]\n",
    "\n",
    "# Remove very long comments (e.g. spam or repeated text blocks)\n",
    "df = df[df[\"text\"].str.split().str.len() < 100]\n",
    "\n",
    "# Remove comments with excessive repetition of a single word\n",
    "def has_repeated_word(text, threshold=5):\n",
    "    words = text.lower().split()\n",
    "    word_counts = Counter(words)\n",
    "    return any(count >= threshold for count in word_counts.values())\n",
    "\n",
    "df = df[~df[\"text\"].apply(has_repeated_word)]"
   ]
  },
  {
   "cell_type": "markdown",
   "id": "3a3d7138",
   "metadata": {},
   "source": [
    "Stopwords and tokenization"
   ]
  },
  {
   "cell_type": "code",
   "execution_count": 13,
   "id": "44cec17f",
   "metadata": {},
   "outputs": [],
   "source": [
    "# Define standard and custom stopwords\n",
    "standard_stopwords = set(stopwords.words(\"german\")) | set(stopwords.words(\"english\"))\n",
    "custom_stopwords = {\n",
    "    \"i\", \"you\", \"it\", \"me\", \"this\", \"that\", \"we\", \"she\", \"he\", \"they\", \"u\", \"ur\",\n",
    "    \"my\", \"your\", \"yours\", \"ours\", \"their\", \"its\", \"use\", \"like\", \"get\", \"need\", \n",
    "    \"please\", \"one\", \"would\", \"watch\", \"want\", \"que\", \"tbh\", \"idk\", \"fr\", \n",
    "    \"literally\", \"actually\", \"honestly\", \"kinda\", \"thing\", \"stuff\", \n",
    "    \"😭\", \"😂\", \"✨\", \"💀\", \"💅\", \"🥰\", \"😩\", \"😅\", \"🥺\", \"😳\"\n",
    "}\n",
    "\n",
    "# Unigram-specific stopwords (standard + custom)\n",
    "combined_stopwords = standard_stopwords | custom_stopwords\n",
    "\n",
    "# Clean + tokenize for unigram analysis\n",
    "def clean_tokens_unigrams(text):\n",
    "    text = str(text).lower()\n",
    "    text = re.sub(r\"[^a-zA-Zäöüß]\", \" \", text)\n",
    "    tokens = word_tokenize(text)\n",
    "    return [w for w in tokens if w not in combined_stopwords and len(w) > 2]\n",
    "\n",
    "# Clean + tokenize for n-gram analysis (no custom stopwords)\n",
    "def clean_tokens_ngrams(text):\n",
    "    text = str(text).lower()\n",
    "    text = re.sub(r\"[^a-zA-Zäöüß]\", \" \", text)\n",
    "    tokens = word_tokenize(text)\n",
    "    return [w for w in tokens if w not in standard_stopwords and len(w) > 2]\n",
    "\n",
    "# Apply both tokenizations\n",
    "df[\"unigram_tokens\"] = df[\"text\"].apply(clean_tokens_unigrams)\n",
    "df[\"ngram_tokens\"] = df[\"text\"].apply(clean_tokens_ngrams)\n"
   ]
  },
  {
   "cell_type": "markdown",
   "id": "59b8717c",
   "metadata": {},
   "source": [
    "Most common words"
   ]
  },
  {
   "cell_type": "code",
   "execution_count": 14,
   "id": "7c1de5f8",
   "metadata": {},
   "outputs": [
    {
     "name": "stdout",
     "output_type": "stream",
     "text": [
      "Top 20 unigrams:\n",
      "skin: 6627\n",
      "love: 3629\n",
      "skincare: 2648\n",
      "face: 1869\n",
      "good: 1813\n",
      "acne: 1463\n",
      "routine: 1463\n",
      "products: 1439\n",
      "serum: 1249\n",
      "girl: 1177\n",
      "care: 1144\n",
      "much: 1138\n",
      "beautiful: 1101\n",
      "oil: 1068\n",
      "toner: 1035\n",
      "aku: 1020\n",
      "cleanser: 1018\n",
      "omg: 971\n",
      "cream: 955\n",
      "pretty: 944\n"
     ]
    }
   ],
   "source": [
    "all_unigrams = [word for tokens in df[\"unigram_tokens\"] for word in tokens]\n",
    "common_unigrams = Counter(all_unigrams).most_common(20)\n",
    "\n",
    "print(\"Top 20 unigrams:\")\n",
    "for word, count in common_unigrams:\n",
    "    print(f\"{word}: {count}\")"
   ]
  },
  {
   "cell_type": "markdown",
   "id": "ed71e5fb",
   "metadata": {},
   "source": [
    "Most common bigrams"
   ]
  },
  {
   "cell_type": "code",
   "execution_count": 15,
   "id": "02f729b0",
   "metadata": {},
   "outputs": [
    {
     "name": "stdout",
     "output_type": "stream",
     "text": [
      "\n",
      "Top 20 bigrams:\n",
      "skin care: 790\n",
      "skincare routine: 344\n",
      "cleansing oil: 330\n",
      "cleaning fyp: 314\n",
      "look like: 303\n",
      "oily skin: 299\n",
      "sensitive skin: 274\n",
      "korean skincare: 264\n",
      "commenting stay: 258\n",
      "dry skin: 243\n",
      "acne prone: 212\n",
      "oil cleanser: 204\n",
      "skin type: 196\n",
      "skin looks: 192\n",
      "wash face: 184\n",
      "get rid: 182\n",
      "care routine: 178\n",
      "feel like: 177\n",
      "looks like: 174\n",
      "prone skin: 161\n"
     ]
    }
   ],
   "source": [
    "all_bigrams = [bigram for tokens in df[\"ngram_tokens\"] for bigram in ngrams(tokens, 2)]\n",
    "common_bigrams = Counter([\" \".join(b) for b in all_bigrams]).most_common(20)\n",
    "\n",
    "print(\"\\nTop 20 bigrams:\")\n",
    "for phrase, count in common_bigrams:\n",
    "    print(f\"{phrase}: {count}\")"
   ]
  },
  {
   "cell_type": "markdown",
   "id": "03181df5",
   "metadata": {},
   "source": [
    "Most common trigrams"
   ]
  },
  {
   "cell_type": "code",
   "execution_count": 16,
   "id": "6cc75b6e",
   "metadata": {},
   "outputs": [
    {
     "name": "stdout",
     "output_type": "stream",
     "text": [
      "\n",
      "Top 20 Trigrams:\n",
      "acne prone skin: 149\n",
      "skin care routine: 140\n",
      "instagram sagajewels official: 72\n",
      "korean skin care: 69\n",
      "would anyone watch: 67\n",
      "anua cleansing oil: 62\n",
      "anyone watch grwm: 59\n",
      "oily acne prone: 55\n",
      "izin ambil post: 55\n",
      "skin looks amazing: 52\n",
      "fungal acne safe: 46\n",
      "good oily skin: 45\n",
      "speed made famous: 44\n",
      "commenting stay wonyoungism: 44\n",
      "commenting stay side: 42\n",
      "skin care products: 36\n",
      "stay side tiktok: 36\n",
      "commenting stay cleantok: 33\n",
      "consumerism final boss: 31\n",
      "get rid acne: 31\n"
     ]
    }
   ],
   "source": [
    "all_trigrams = [tg for tokens in df[\"ngram_tokens\"] for tg in ngrams(tokens, 3)]\n",
    "common_trigrams = Counter([\" \".join(tg) for tg in all_trigrams]).most_common(20)\n",
    "\n",
    "print(\"\\nTop 20 Trigrams:\")\n",
    "for phrase, count in common_trigrams:\n",
    "    print(f\"{phrase}: {count}\")"
   ]
  },
  {
   "cell_type": "markdown",
   "id": "63a44109",
   "metadata": {},
   "source": [
    "Word explanation\n",
    "\n",
    "\"izin ambil post\" is Indonesian and means \"Permission to take/use the post.\""
   ]
  },
  {
   "cell_type": "code",
   "execution_count": 17,
   "id": "8e08775d",
   "metadata": {},
   "outputs": [
    {
     "name": "stdout",
     "output_type": "stream",
     "text": [
      "               ngram  count     type\n",
      "0               skin   6627  unigram\n",
      "1               love   3629  unigram\n",
      "2           skincare   2648  unigram\n",
      "3               face   1869  unigram\n",
      "4               good   1813  unigram\n",
      "5               acne   1463  unigram\n",
      "6            routine   1463  unigram\n",
      "7           products   1439  unigram\n",
      "8              serum   1249  unigram\n",
      "9               girl   1177  unigram\n",
      "10              care   1144  unigram\n",
      "11              much   1138  unigram\n",
      "12         beautiful   1101  unigram\n",
      "13               oil   1068  unigram\n",
      "14             toner   1035  unigram\n",
      "15               aku   1020  unigram\n",
      "16          cleanser   1018  unigram\n",
      "17               omg    971  unigram\n",
      "18             cream    955  unigram\n",
      "19            pretty    944  unigram\n",
      "20         skin care    790   bigram\n",
      "21  skincare routine    344   bigram\n",
      "22     cleansing oil    330   bigram\n",
      "23      cleaning fyp    314   bigram\n",
      "24         look like    303   bigram\n",
      "25         oily skin    299   bigram\n",
      "26    sensitive skin    274   bigram\n",
      "27   korean skincare    264   bigram\n",
      "28   commenting stay    258   bigram\n",
      "29          dry skin    243   bigram\n"
     ]
    }
   ],
   "source": [
    "# Helper function to convert Counter results into DataFrame\n",
    "def counter_to_df(counter, ngram_type):\n",
    "    df = pd.DataFrame(counter, columns=[\"ngram\", \"count\"])\n",
    "    df[\"type\"] = ngram_type\n",
    "    return df\n",
    "\n",
    "# Create Counter objects\n",
    "unigram_counter = Counter(all_unigrams).most_common(20)\n",
    "bigram_counter = Counter([\" \".join(bg) for bg in all_bigrams]).most_common(20)\n",
    "trigram_counter = Counter([\" \".join(tg) for tg in all_trigrams]).most_common(20)\n",
    "\n",
    "# Convert to DataFrames\n",
    "df_unigrams = counter_to_df(unigram_counter, \"unigram\")\n",
    "df_bigrams = counter_to_df(bigram_counter, \"bigram\")\n",
    "df_trigrams = counter_to_df(trigram_counter, \"trigram\")\n",
    "\n",
    "# Combine all into one table\n",
    "df_ngrams = pd.concat([df_unigrams, df_bigrams, df_trigrams], ignore_index=True)\n",
    "\n",
    "# Sort by count if you want (optional)\n",
    "df_ngrams = df_ngrams.sort_values(by=\"count\", ascending=False)\n",
    "\n",
    "# Show the overview\n",
    "print(df_ngrams.head(30))"
   ]
  },
  {
   "cell_type": "markdown",
   "id": "9e957cb6",
   "metadata": {},
   "source": [
    "Keyword explanation (openAI)"
   ]
  },
  {
   "cell_type": "code",
   "execution_count": 18,
   "id": "56afbc8e",
   "metadata": {},
   "outputs": [],
   "source": [
    "#import openai\n",
    "#import os\n",
    "#from dotenv import load_dotenv\n",
    "\n",
    "#load_dotenv()\n",
    "#openai.api_key = os.getenv(\"OPENAI_API_KEY\")\n",
    "\n",
    "#from openai import OpenAI\n",
    "\n",
    "#client = OpenAI(api_key=openai.api_key)\n",
    "\n",
    "#keywords = [\n",
    "#    \"trop trop trop\",\n",
    "#    \"sangat sangat sangat\",\n",
    "#    \"skin care routine\",\n",
    "#    \"wonyoungism\"\n",
    "#]\n",
    "\n",
    "#for term in keywords:\n",
    "#    response = client.chat.completions.create(\n",
    "#        model=\"gpt-3.5-turbo\",\n",
    "#        messages=[\n",
    "#            {\"role\": \"system\", \"content\": \"You are a helpful assistant who explains slang and social media terms.\"},\n",
    "#            {\"role\": \"user\", \"content\": f\"Explain the term '{term}' as it appears in TikTok comments.\"}\n",
    "#        ],\n",
    "#        temperature=0.7\n",
    "#    )\n",
    "#    explanation = response.choices[0].message.content\n",
    "#    print(f\"{term}: {explanation}\\n\")"
   ]
  },
  {
   "cell_type": "markdown",
   "id": "08f56c08",
   "metadata": {},
   "source": [
    "Trends over time"
   ]
  },
  {
   "cell_type": "code",
   "execution_count": 19,
   "id": "4ee4fc52",
   "metadata": {},
   "outputs": [
    {
     "name": "stderr",
     "output_type": "stream",
     "text": [
      "C:\\Users\\Surface\\AppData\\Local\\Temp\\ipykernel_22252\\2635080391.py:1: UserWarning: Converting to PeriodArray/Index representation will drop timezone information.\n",
      "  df[\"week\"] = pd.to_datetime(df[\"createTimeISO\"]).dt.to_period(\"W\").dt.start_time\n"
     ]
    },
    {
     "data": {
      "text/plain": [
       "<Figure size 1400x600 with 0 Axes>"
      ]
     },
     "metadata": {},
     "output_type": "display_data"
    },
    {
     "data": {
      "image/png": "[encoded data removed]",
      "text/plain": [
       "<Figure size 640x480 with 1 Axes>"
      ]
     },
     "metadata": {},
     "output_type": "display_data"
    }
   ],
   "source": [
    "df[\"week\"] = pd.to_datetime(df[\"createTimeISO\"]).dt.to_period(\"W\").dt.start_time\n",
    "\n",
    "# Combine standard and custom stopwords (only for unigrams)\n",
    "stop_words = set(stopwords.words(\"english\")) | set(stopwords.words(\"german\"))\n",
    "custom_stopwords = {\"use\", \"like\", \"get\", \"need\", \"please\", \"one\", \"would\", \"watch\", \"want\", \"que\", \"good\", \"skin\", \"skincare\"}\n",
    "combined_stopwords = stop_words | custom_stopwords\n",
    "\n",
    "# Clean and tokenize text for unigrams\n",
    "def tokenize_unigrams(text):\n",
    "    text = str(text).lower()\n",
    "    text = re.sub(r\"[^a-zA-Zäöüß]\", \" \", text)\n",
    "    tokens = word_tokenize(text)\n",
    "    return [w for w in tokens if w not in combined_stopwords and len(w) > 2]\n",
    "\n",
    "# Clean and tokenize text for ngrams\n",
    "def tokenize_all(text):\n",
    "    text = str(text).lower()\n",
    "    text = re.sub(r\"[^a-zA-Zäöüß]\", \" \", text)\n",
    "    return [w for w in word_tokenize(text) if len(w) > 2]\n",
    "\n",
    "# Apply both types of tokenization\n",
    "df[\"unigrams\"] = df[\"text\"].apply(tokenize_unigrams)\n",
    "df[\"tokens\"] = df[\"text\"].apply(tokenize_all)\n",
    "\n",
    "# Generate bigrams and trigrams\n",
    "df[\"bigrams\"] = df[\"tokens\"].apply(lambda t: [\" \".join(g) for g in ngrams(t, 2)])\n",
    "df[\"trigrams\"] = df[\"tokens\"].apply(lambda t: [\" \".join(g) for g in ngrams(t, 3)])\n",
    "\n",
    "# Combine into one long format DataFrame: week + ngram\n",
    "records = []\n",
    "\n",
    "for _, row in df.iterrows():\n",
    "    for word in row[\"unigrams\"] + row[\"bigrams\"] + row[\"trigrams\"]:\n",
    "        records.append((row[\"week\"], word))\n",
    "\n",
    "df_all = pd.DataFrame(records, columns=[\"week\", \"ngram\"])\n",
    "\n",
    "# Count occurrences per week\n",
    "weekly_counts = df_all.groupby([\"week\", \"ngram\"]).size().reset_index(name=\"count\")\n",
    "\n",
    "# Identify top 5 ngrams overall\n",
    "top5 = (\n",
    "    weekly_counts.groupby(\"ngram\")[\"count\"]\n",
    "    .sum()\n",
    "    .sort_values(ascending=False)\n",
    "    .head(5)\n",
    "    .index\n",
    ")\n",
    "\n",
    "# Filter only top 5 for plotting\n",
    "top_weekly = weekly_counts[weekly_counts[\"ngram\"].isin(top5)]\n",
    "\n",
    "# Pivot to get ngrams as columns\n",
    "df_trend = top_weekly.pivot(index=\"week\", columns=\"ngram\", values=\"count\").fillna(0)\n",
    "\n",
    "# Plot\n",
    "plt.figure(figsize=(14, 6))\n",
    "df_trend.plot(marker=\"o\")\n",
    "plt.title(\"Top 5 Ngrams (Unigrams, Bigrams, Trigrams) Over Time\")\n",
    "plt.xlabel(\"Week\")\n",
    "plt.ylabel(\"Mentions\")\n",
    "plt.grid(True, linestyle=\"--\", alpha=0.5)\n",
    "plt.legend(title=\"Ngram\", bbox_to_anchor=(1.05, 1), loc=\"upper left\")\n",
    "plt.tight_layout()\n",
    "plt.show()"
   ]
  },
  {
   "cell_type": "markdown",
   "id": "0ca703cb",
   "metadata": {},
   "source": [
    "Most common chunks in comments"
   ]
  },
  {
   "cell_type": "code",
   "execution_count": 28,
   "id": "348168ae",
   "metadata": {},
   "outputs": [
    {
     "name": "stdout",
     "output_type": "stream",
     "text": [
      "\n",
      "Top 20 Chunks:\n",
      "hair removal cream: 7\n",
      "my fyp: 5\n",
      "my face: 4\n",
      "la roche posay: 4\n",
      "moots aku plss: 4\n",
      "your face: 3\n",
      "fungal acne: 3\n",
      "my life: 3\n",
      "a mi: 3\n",
      "onde comprar: 3\n",
      "this brand: 3\n",
      "a good boy: 3\n",
      "good boy: 3\n",
      "my car: 2\n",
      "this type: 2\n",
      "friendship attack: 2\n",
      "magic shaving powder: 2\n",
      "your winter shade: 2\n",
      "a lot: 2\n",
      "dark circles: 2\n"
     ]
    }
   ],
   "source": [
    "import spacy\n",
    "from collections import Counter\n",
    "from langdetect import detect\n",
    "import re\n",
    "\n",
    "# Load spaCy models\n",
    "nlp_de = spacy.load(\"de_core_news_sm\")\n",
    "nlp_en = spacy.load(\"en_core_web_sm\")\n",
    "\n",
    "# Emoji pattern\n",
    "emoji_pattern = re.compile(\"[\\U00010000-\\U0010ffff]\", flags=re.UNICODE)\n",
    "\n",
    "# Normalize stopwords\n",
    "combined_stopwords = {w.lower().strip() for w in combined_stopwords}\n",
    "\n",
    "# Function to extract valid multi-word noun chunks\n",
    "def extract_chunks(text, nlp_model):\n",
    "    doc = nlp_model(text)\n",
    "    chunks = []\n",
    "    for chunk in doc.noun_chunks:\n",
    "        chunk_text = chunk.text.lower().strip()\n",
    "        if emoji_pattern.search(chunk_text):\n",
    "            continue\n",
    "        words = chunk_text.split()\n",
    "        if len(words) < 2:\n",
    "            continue\n",
    "        if all(word in combined_stopwords for word in words):\n",
    "            continue\n",
    "        chunks.append(chunk_text)\n",
    "    return chunks\n",
    "\n",
    "# Collect chunks\n",
    "all_chunks = []\n",
    "\n",
    "# Analyze first 1000 comments\n",
    "for text in df[\"text\"].dropna().head(1000):\n",
    "    text = text.strip()\n",
    "    if not text:\n",
    "        continue\n",
    "    try:\n",
    "        lang = detect(text)\n",
    "    except:\n",
    "        continue\n",
    "    model = nlp_de if lang == \"de\" else nlp_en\n",
    "    chunks = extract_chunks(text, model)\n",
    "    all_chunks.extend(chunks)\n",
    "\n",
    "# Count and display top 20\n",
    "chunk_counter = Counter(all_chunks)\n",
    "\n",
    "print(\"\\nTop 20 Chunks:\")\n",
    "for chunk, count in chunk_counter.most_common(20):\n",
    "    print(f\"{chunk}: {count}\")\n",
    "\n"
   ]
  }
 ],
 "metadata": {
  "kernelspec": {
   "display_name": "skincare-analysis-6rggZTBS-py3.10",
   "language": "python",
   "name": "python3"
  },
  "language_info": {
   "codemirror_mode": {
    "name": "ipython",
    "version": 3
   },
   "file_extension": ".py",
   "mimetype": "text/x-python",
   "name": "python",
   "nbconvert_exporter": "python",
   "pygments_lexer": "ipython3",
   "version": "3.10.0"
  }
 },
 "nbformat": 4,
 "nbformat_minor": 5
}
