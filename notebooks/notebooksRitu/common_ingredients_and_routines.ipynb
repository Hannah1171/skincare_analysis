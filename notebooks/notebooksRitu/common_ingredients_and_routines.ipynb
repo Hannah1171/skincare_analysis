{
 "cells": [
  {
   "cell_type": "markdown",
   "metadata": {},
   "source": [
    "# Tiktok Transcript Analysis"
   ]
  },
  {
   "cell_type": "markdown",
   "metadata": {},
   "source": [
    "What does this notebook tell us:\n",
    "* Which ingredient is more popular?\n",
    "* Which Beiersdorf brand is more popular?\n",
    "* Which routine is more popular for evening or morning?\n",
    "\n"
   ]
  },
  {
   "cell_type": "markdown",
   "metadata": {},
   "source": [
    "We have a kaggle dataset for cosmetics brands and the categories"
   ]
  },
  {
   "cell_type": "code",
   "execution_count": 1,
   "metadata": {},
   "outputs": [],
   "source": [
    "import pandas as pd\n",
    "tiktok_transcrips = pd.read_csv('../data/comments_posts_transcripts.csv')\n"
   ]
  },
  {
   "cell_type": "code",
   "execution_count": 3,
   "metadata": {},
   "outputs": [
    {
     "ename": "FileNotFoundError",
     "evalue": "[Errno 2] No such file or directory: '/Users/ritushetkar/env_capstone/skincare_analysis/data/most_used_beauty_cosmetics_products_extended.csv'",
     "output_type": "error",
     "traceback": [
      "\u001b[0;31m---------------------------------------------------------------------------\u001b[0m",
      "\u001b[0;31mFileNotFoundError\u001b[0m                         Traceback (most recent call last)",
      "Cell \u001b[0;32mIn[3], line 4\u001b[0m\n\u001b[1;32m      1\u001b[0m \u001b[38;5;28;01mimport\u001b[39;00m\u001b[38;5;250m \u001b[39m\u001b[38;5;21;01mpandas\u001b[39;00m\u001b[38;5;250m \u001b[39m\u001b[38;5;28;01mas\u001b[39;00m\u001b[38;5;250m \u001b[39m\u001b[38;5;21;01mpd\u001b[39;00m\n\u001b[0;32m----> 4\u001b[0m cosmetics\u001b[38;5;241m=\u001b[39m\u001b[43mpd\u001b[49m\u001b[38;5;241;43m.\u001b[39;49m\u001b[43mread_csv\u001b[49m\u001b[43m(\u001b[49m\u001b[38;5;124;43m\"\u001b[39;49m\u001b[38;5;124;43m/Users/ritushetkar/env_capstone/skincare_analysis/data/most_used_beauty_cosmetics_products_extended.csv\u001b[39;49m\u001b[38;5;124;43m\"\u001b[39;49m\u001b[43m)\u001b[49m\n",
      "File \u001b[0;32m~/env_capstone/.venv/lib/python3.10/site-packages/pandas/io/parsers/readers.py:1026\u001b[0m, in \u001b[0;36mread_csv\u001b[0;34m(filepath_or_buffer, sep, delimiter, header, names, index_col, usecols, dtype, engine, converters, true_values, false_values, skipinitialspace, skiprows, skipfooter, nrows, na_values, keep_default_na, na_filter, verbose, skip_blank_lines, parse_dates, infer_datetime_format, keep_date_col, date_parser, date_format, dayfirst, cache_dates, iterator, chunksize, compression, thousands, decimal, lineterminator, quotechar, quoting, doublequote, escapechar, comment, encoding, encoding_errors, dialect, on_bad_lines, delim_whitespace, low_memory, memory_map, float_precision, storage_options, dtype_backend)\u001b[0m\n\u001b[1;32m   1013\u001b[0m kwds_defaults \u001b[38;5;241m=\u001b[39m _refine_defaults_read(\n\u001b[1;32m   1014\u001b[0m     dialect,\n\u001b[1;32m   1015\u001b[0m     delimiter,\n\u001b[0;32m   (...)\u001b[0m\n\u001b[1;32m   1022\u001b[0m     dtype_backend\u001b[38;5;241m=\u001b[39mdtype_backend,\n\u001b[1;32m   1023\u001b[0m )\n\u001b[1;32m   1024\u001b[0m kwds\u001b[38;5;241m.\u001b[39mupdate(kwds_defaults)\n\u001b[0;32m-> 1026\u001b[0m \u001b[38;5;28;01mreturn\u001b[39;00m \u001b[43m_read\u001b[49m\u001b[43m(\u001b[49m\u001b[43mfilepath_or_buffer\u001b[49m\u001b[43m,\u001b[49m\u001b[43m \u001b[49m\u001b[43mkwds\u001b[49m\u001b[43m)\u001b[49m\n",
      "File \u001b[0;32m~/env_capstone/.venv/lib/python3.10/site-packages/pandas/io/parsers/readers.py:620\u001b[0m, in \u001b[0;36m_read\u001b[0;34m(filepath_or_buffer, kwds)\u001b[0m\n\u001b[1;32m    617\u001b[0m _validate_names(kwds\u001b[38;5;241m.\u001b[39mget(\u001b[38;5;124m\"\u001b[39m\u001b[38;5;124mnames\u001b[39m\u001b[38;5;124m\"\u001b[39m, \u001b[38;5;28;01mNone\u001b[39;00m))\n\u001b[1;32m    619\u001b[0m \u001b[38;5;66;03m# Create the parser.\u001b[39;00m\n\u001b[0;32m--> 620\u001b[0m parser \u001b[38;5;241m=\u001b[39m \u001b[43mTextFileReader\u001b[49m\u001b[43m(\u001b[49m\u001b[43mfilepath_or_buffer\u001b[49m\u001b[43m,\u001b[49m\u001b[43m \u001b[49m\u001b[38;5;241;43m*\u001b[39;49m\u001b[38;5;241;43m*\u001b[39;49m\u001b[43mkwds\u001b[49m\u001b[43m)\u001b[49m\n\u001b[1;32m    622\u001b[0m \u001b[38;5;28;01mif\u001b[39;00m chunksize \u001b[38;5;129;01mor\u001b[39;00m iterator:\n\u001b[1;32m    623\u001b[0m     \u001b[38;5;28;01mreturn\u001b[39;00m parser\n",
      "File \u001b[0;32m~/env_capstone/.venv/lib/python3.10/site-packages/pandas/io/parsers/readers.py:1620\u001b[0m, in \u001b[0;36mTextFileReader.__init__\u001b[0;34m(self, f, engine, **kwds)\u001b[0m\n\u001b[1;32m   1617\u001b[0m     \u001b[38;5;28mself\u001b[39m\u001b[38;5;241m.\u001b[39moptions[\u001b[38;5;124m\"\u001b[39m\u001b[38;5;124mhas_index_names\u001b[39m\u001b[38;5;124m\"\u001b[39m] \u001b[38;5;241m=\u001b[39m kwds[\u001b[38;5;124m\"\u001b[39m\u001b[38;5;124mhas_index_names\u001b[39m\u001b[38;5;124m\"\u001b[39m]\n\u001b[1;32m   1619\u001b[0m \u001b[38;5;28mself\u001b[39m\u001b[38;5;241m.\u001b[39mhandles: IOHandles \u001b[38;5;241m|\u001b[39m \u001b[38;5;28;01mNone\u001b[39;00m \u001b[38;5;241m=\u001b[39m \u001b[38;5;28;01mNone\u001b[39;00m\n\u001b[0;32m-> 1620\u001b[0m \u001b[38;5;28mself\u001b[39m\u001b[38;5;241m.\u001b[39m_engine \u001b[38;5;241m=\u001b[39m \u001b[38;5;28;43mself\u001b[39;49m\u001b[38;5;241;43m.\u001b[39;49m\u001b[43m_make_engine\u001b[49m\u001b[43m(\u001b[49m\u001b[43mf\u001b[49m\u001b[43m,\u001b[49m\u001b[43m \u001b[49m\u001b[38;5;28;43mself\u001b[39;49m\u001b[38;5;241;43m.\u001b[39;49m\u001b[43mengine\u001b[49m\u001b[43m)\u001b[49m\n",
      "File \u001b[0;32m~/env_capstone/.venv/lib/python3.10/site-packages/pandas/io/parsers/readers.py:1880\u001b[0m, in \u001b[0;36mTextFileReader._make_engine\u001b[0;34m(self, f, engine)\u001b[0m\n\u001b[1;32m   1878\u001b[0m     \u001b[38;5;28;01mif\u001b[39;00m \u001b[38;5;124m\"\u001b[39m\u001b[38;5;124mb\u001b[39m\u001b[38;5;124m\"\u001b[39m \u001b[38;5;129;01mnot\u001b[39;00m \u001b[38;5;129;01min\u001b[39;00m mode:\n\u001b[1;32m   1879\u001b[0m         mode \u001b[38;5;241m+\u001b[39m\u001b[38;5;241m=\u001b[39m \u001b[38;5;124m\"\u001b[39m\u001b[38;5;124mb\u001b[39m\u001b[38;5;124m\"\u001b[39m\n\u001b[0;32m-> 1880\u001b[0m \u001b[38;5;28mself\u001b[39m\u001b[38;5;241m.\u001b[39mhandles \u001b[38;5;241m=\u001b[39m \u001b[43mget_handle\u001b[49m\u001b[43m(\u001b[49m\n\u001b[1;32m   1881\u001b[0m \u001b[43m    \u001b[49m\u001b[43mf\u001b[49m\u001b[43m,\u001b[49m\n\u001b[1;32m   1882\u001b[0m \u001b[43m    \u001b[49m\u001b[43mmode\u001b[49m\u001b[43m,\u001b[49m\n\u001b[1;32m   1883\u001b[0m \u001b[43m    \u001b[49m\u001b[43mencoding\u001b[49m\u001b[38;5;241;43m=\u001b[39;49m\u001b[38;5;28;43mself\u001b[39;49m\u001b[38;5;241;43m.\u001b[39;49m\u001b[43moptions\u001b[49m\u001b[38;5;241;43m.\u001b[39;49m\u001b[43mget\u001b[49m\u001b[43m(\u001b[49m\u001b[38;5;124;43m\"\u001b[39;49m\u001b[38;5;124;43mencoding\u001b[39;49m\u001b[38;5;124;43m\"\u001b[39;49m\u001b[43m,\u001b[49m\u001b[43m \u001b[49m\u001b[38;5;28;43;01mNone\u001b[39;49;00m\u001b[43m)\u001b[49m\u001b[43m,\u001b[49m\n\u001b[1;32m   1884\u001b[0m \u001b[43m    \u001b[49m\u001b[43mcompression\u001b[49m\u001b[38;5;241;43m=\u001b[39;49m\u001b[38;5;28;43mself\u001b[39;49m\u001b[38;5;241;43m.\u001b[39;49m\u001b[43moptions\u001b[49m\u001b[38;5;241;43m.\u001b[39;49m\u001b[43mget\u001b[49m\u001b[43m(\u001b[49m\u001b[38;5;124;43m\"\u001b[39;49m\u001b[38;5;124;43mcompression\u001b[39;49m\u001b[38;5;124;43m\"\u001b[39;49m\u001b[43m,\u001b[49m\u001b[43m \u001b[49m\u001b[38;5;28;43;01mNone\u001b[39;49;00m\u001b[43m)\u001b[49m\u001b[43m,\u001b[49m\n\u001b[1;32m   1885\u001b[0m \u001b[43m    \u001b[49m\u001b[43mmemory_map\u001b[49m\u001b[38;5;241;43m=\u001b[39;49m\u001b[38;5;28;43mself\u001b[39;49m\u001b[38;5;241;43m.\u001b[39;49m\u001b[43moptions\u001b[49m\u001b[38;5;241;43m.\u001b[39;49m\u001b[43mget\u001b[49m\u001b[43m(\u001b[49m\u001b[38;5;124;43m\"\u001b[39;49m\u001b[38;5;124;43mmemory_map\u001b[39;49m\u001b[38;5;124;43m\"\u001b[39;49m\u001b[43m,\u001b[49m\u001b[43m \u001b[49m\u001b[38;5;28;43;01mFalse\u001b[39;49;00m\u001b[43m)\u001b[49m\u001b[43m,\u001b[49m\n\u001b[1;32m   1886\u001b[0m \u001b[43m    \u001b[49m\u001b[43mis_text\u001b[49m\u001b[38;5;241;43m=\u001b[39;49m\u001b[43mis_text\u001b[49m\u001b[43m,\u001b[49m\n\u001b[1;32m   1887\u001b[0m \u001b[43m    \u001b[49m\u001b[43merrors\u001b[49m\u001b[38;5;241;43m=\u001b[39;49m\u001b[38;5;28;43mself\u001b[39;49m\u001b[38;5;241;43m.\u001b[39;49m\u001b[43moptions\u001b[49m\u001b[38;5;241;43m.\u001b[39;49m\u001b[43mget\u001b[49m\u001b[43m(\u001b[49m\u001b[38;5;124;43m\"\u001b[39;49m\u001b[38;5;124;43mencoding_errors\u001b[39;49m\u001b[38;5;124;43m\"\u001b[39;49m\u001b[43m,\u001b[49m\u001b[43m \u001b[49m\u001b[38;5;124;43m\"\u001b[39;49m\u001b[38;5;124;43mstrict\u001b[39;49m\u001b[38;5;124;43m\"\u001b[39;49m\u001b[43m)\u001b[49m\u001b[43m,\u001b[49m\n\u001b[1;32m   1888\u001b[0m \u001b[43m    \u001b[49m\u001b[43mstorage_options\u001b[49m\u001b[38;5;241;43m=\u001b[39;49m\u001b[38;5;28;43mself\u001b[39;49m\u001b[38;5;241;43m.\u001b[39;49m\u001b[43moptions\u001b[49m\u001b[38;5;241;43m.\u001b[39;49m\u001b[43mget\u001b[49m\u001b[43m(\u001b[49m\u001b[38;5;124;43m\"\u001b[39;49m\u001b[38;5;124;43mstorage_options\u001b[39;49m\u001b[38;5;124;43m\"\u001b[39;49m\u001b[43m,\u001b[49m\u001b[43m \u001b[49m\u001b[38;5;28;43;01mNone\u001b[39;49;00m\u001b[43m)\u001b[49m\u001b[43m,\u001b[49m\n\u001b[1;32m   1889\u001b[0m \u001b[43m\u001b[49m\u001b[43m)\u001b[49m\n\u001b[1;32m   1890\u001b[0m \u001b[38;5;28;01massert\u001b[39;00m \u001b[38;5;28mself\u001b[39m\u001b[38;5;241m.\u001b[39mhandles \u001b[38;5;129;01mis\u001b[39;00m \u001b[38;5;129;01mnot\u001b[39;00m \u001b[38;5;28;01mNone\u001b[39;00m\n\u001b[1;32m   1891\u001b[0m f \u001b[38;5;241m=\u001b[39m \u001b[38;5;28mself\u001b[39m\u001b[38;5;241m.\u001b[39mhandles\u001b[38;5;241m.\u001b[39mhandle\n",
      "File \u001b[0;32m~/env_capstone/.venv/lib/python3.10/site-packages/pandas/io/common.py:873\u001b[0m, in \u001b[0;36mget_handle\u001b[0;34m(path_or_buf, mode, encoding, compression, memory_map, is_text, errors, storage_options)\u001b[0m\n\u001b[1;32m    868\u001b[0m \u001b[38;5;28;01melif\u001b[39;00m \u001b[38;5;28misinstance\u001b[39m(handle, \u001b[38;5;28mstr\u001b[39m):\n\u001b[1;32m    869\u001b[0m     \u001b[38;5;66;03m# Check whether the filename is to be opened in binary mode.\u001b[39;00m\n\u001b[1;32m    870\u001b[0m     \u001b[38;5;66;03m# Binary mode does not support 'encoding' and 'newline'.\u001b[39;00m\n\u001b[1;32m    871\u001b[0m     \u001b[38;5;28;01mif\u001b[39;00m ioargs\u001b[38;5;241m.\u001b[39mencoding \u001b[38;5;129;01mand\u001b[39;00m \u001b[38;5;124m\"\u001b[39m\u001b[38;5;124mb\u001b[39m\u001b[38;5;124m\"\u001b[39m \u001b[38;5;129;01mnot\u001b[39;00m \u001b[38;5;129;01min\u001b[39;00m ioargs\u001b[38;5;241m.\u001b[39mmode:\n\u001b[1;32m    872\u001b[0m         \u001b[38;5;66;03m# Encoding\u001b[39;00m\n\u001b[0;32m--> 873\u001b[0m         handle \u001b[38;5;241m=\u001b[39m \u001b[38;5;28;43mopen\u001b[39;49m\u001b[43m(\u001b[49m\n\u001b[1;32m    874\u001b[0m \u001b[43m            \u001b[49m\u001b[43mhandle\u001b[49m\u001b[43m,\u001b[49m\n\u001b[1;32m    875\u001b[0m \u001b[43m            \u001b[49m\u001b[43mioargs\u001b[49m\u001b[38;5;241;43m.\u001b[39;49m\u001b[43mmode\u001b[49m\u001b[43m,\u001b[49m\n\u001b[1;32m    876\u001b[0m \u001b[43m            \u001b[49m\u001b[43mencoding\u001b[49m\u001b[38;5;241;43m=\u001b[39;49m\u001b[43mioargs\u001b[49m\u001b[38;5;241;43m.\u001b[39;49m\u001b[43mencoding\u001b[49m\u001b[43m,\u001b[49m\n\u001b[1;32m    877\u001b[0m \u001b[43m            \u001b[49m\u001b[43merrors\u001b[49m\u001b[38;5;241;43m=\u001b[39;49m\u001b[43merrors\u001b[49m\u001b[43m,\u001b[49m\n\u001b[1;32m    878\u001b[0m \u001b[43m            \u001b[49m\u001b[43mnewline\u001b[49m\u001b[38;5;241;43m=\u001b[39;49m\u001b[38;5;124;43m\"\u001b[39;49m\u001b[38;5;124;43m\"\u001b[39;49m\u001b[43m,\u001b[49m\n\u001b[1;32m    879\u001b[0m \u001b[43m        \u001b[49m\u001b[43m)\u001b[49m\n\u001b[1;32m    880\u001b[0m     \u001b[38;5;28;01melse\u001b[39;00m:\n\u001b[1;32m    881\u001b[0m         \u001b[38;5;66;03m# Binary mode\u001b[39;00m\n\u001b[1;32m    882\u001b[0m         handle \u001b[38;5;241m=\u001b[39m \u001b[38;5;28mopen\u001b[39m(handle, ioargs\u001b[38;5;241m.\u001b[39mmode)\n",
      "\u001b[0;31mFileNotFoundError\u001b[0m: [Errno 2] No such file or directory: '/Users/ritushetkar/env_capstone/skincare_analysis/data/most_used_beauty_cosmetics_products_extended.csv'"
     ]
    }
   ],
   "source": [
    "import pandas as pd\n",
    "\n",
    "\n",
    "cosmetics=pd.read_csv(\"/Users/ritushetkar/env_capstone/skincare_analysis/data/most_used_beauty_cosmetics_products_extended.csv\")"
   ]
  },
  {
   "cell_type": "code",
   "execution_count": 3,
   "metadata": {},
   "outputs": [
    {
     "data": {
      "text/plain": [
       "5489"
      ]
     },
     "execution_count": 3,
     "metadata": {},
     "output_type": "execute_result"
    }
   ],
   "source": [
    "len(tiktok_transcrips['id'].unique())"
   ]
  },
  {
   "cell_type": "markdown",
   "metadata": {},
   "source": [
    "Combining the transcripts and the video description. "
   ]
  },
  {
   "cell_type": "code",
   "execution_count": 4,
   "metadata": {},
   "outputs": [],
   "source": [
    "\n",
    "tiktok_transcrips['combined_text'] = tiktok_transcrips['transcribed_text'].fillna('') + \" \" + tiktok_transcrips['video_description'].fillna('')\n",
    "tiktok_transcrips['combined_text'] = tiktok_transcrips['combined_text'].str.lower()\n"
   ]
  },
  {
   "cell_type": "markdown",
   "metadata": {},
   "source": [
    "### BRANDS from Cosmetics (Kaggle Dataset)"
   ]
  },
  {
   "cell_type": "code",
   "execution_count": 5,
   "metadata": {},
   "outputs": [
    {
     "data": {
      "text/plain": [
       "Index(['Product_Name', 'Brand', 'Category', 'Usage_Frequency', 'Price_USD',\n",
       "       'Rating', 'Number_of_Reviews', 'Product_Size', 'Skin_Type',\n",
       "       'Gender_Target', 'Packaging_Type', 'Main_Ingredient', 'Cruelty_Free',\n",
       "       'Country_of_Origin'],\n",
       "      dtype='object')"
      ]
     },
     "execution_count": 5,
     "metadata": {},
     "output_type": "execute_result"
    }
   ],
   "source": [
    "cosmetics.columns"
   ]
  },
  {
   "cell_type": "code",
   "execution_count": 6,
   "metadata": {},
   "outputs": [
    {
     "name": "stdout",
     "output_type": "stream",
     "text": [
      "40\n"
     ]
    },
    {
     "data": {
      "text/plain": [
       "array(['Drunk Elephant', 'Laura Mercier', 'Natasha Denona', 'Ilia Beauty',\n",
       "       'Charlotte Tilbury', 'Danessa Myricks', 'Bourjois', 'IT Cosmetics',\n",
       "       'Fenty Beauty', 'Sisley', 'Juvia’s Place', 'NARS', 'ColourPop',\n",
       "       'Huda Beauty', 'Tatcha', 'Kiehl’s', 'Tarte', 'Glossier',\n",
       "       'Make Up For Ever', 'Anastasia Beverly Hills', 'E.l.f.',\n",
       "       'Hourglass', 'Pat McGrath Labs', 'Too Faced', 'Perricone MD',\n",
       "       'RMS Beauty', 'Urban Decay', 'Rare Beauty', 'Becca', 'Patrick Ta',\n",
       "       'Shiseido', 'Kylie Cosmetics', 'Bite Beauty', 'Yves Saint Laurent',\n",
       "       'Bobby Brown', 'Farsali', 'Morphe', 'Milk Makeup', 'Clinique',\n",
       "       'KVD Beauty'], dtype=object)"
      ]
     },
     "execution_count": 6,
     "metadata": {},
     "output_type": "execute_result"
    }
   ],
   "source": [
    "print(len(cosmetics['Brand'].unique())) #40 brands\n",
    "cosmetics['Brand'].unique()"
   ]
  },
  {
   "cell_type": "code",
   "execution_count": 7,
   "metadata": {},
   "outputs": [
    {
     "name": "stdout",
     "output_type": "stream",
     "text": [
      "24\n"
     ]
    },
    {
     "data": {
      "text/plain": [
       "array(['Blush', 'Makeup Remover', 'Highlighter', 'Face Mask',\n",
       "       'Foundation', 'Powder', 'Lip Gloss', 'CC Cream', 'Eye Shadow',\n",
       "       'Concealer', 'Eyeliner', 'Lipstick', 'Setting Spray', 'Cleanser',\n",
       "       'Bronzer', 'Primer', 'Face Oil', 'Contour', 'Mascara', 'Serum',\n",
       "       'BB Cream', 'Exfoliator', 'Lip Liner', 'Moisturizer'], dtype=object)"
      ]
     },
     "execution_count": 7,
     "metadata": {},
     "output_type": "execute_result"
    }
   ],
   "source": [
    "print(len(cosmetics['Category'].unique())) #24 categories\n",
    "cosmetics['Category'].unique()"
   ]
  },
  {
   "cell_type": "code",
   "execution_count": 8,
   "metadata": {},
   "outputs": [
    {
     "name": "stdout",
     "output_type": "stream",
     "text": [
      "5\n"
     ]
    },
    {
     "data": {
      "text/plain": [
       "array(['Sensitive', 'Dry', 'Normal', 'Oily', 'Combination'], dtype=object)"
      ]
     },
     "execution_count": 8,
     "metadata": {},
     "output_type": "execute_result"
    }
   ],
   "source": [
    "print(len(cosmetics['Skin_Type'].unique())) #5 categories\n",
    "cosmetics['Skin_Type'].unique()"
   ]
  },
  {
   "cell_type": "code",
   "execution_count": 9,
   "metadata": {},
   "outputs": [
    {
     "name": "stdout",
     "output_type": "stream",
     "text": [
      "7\n"
     ]
    },
    {
     "data": {
      "text/plain": [
       "array(['Retinol', 'Shea Butter', 'Aloe Vera', 'Glycerin',\n",
       "       'Hyaluronic Acid', 'Vitamin C', 'Salicylic Acid'], dtype=object)"
      ]
     },
     "execution_count": 9,
     "metadata": {},
     "output_type": "execute_result"
    }
   ],
   "source": [
    "print(len(cosmetics['Main_Ingredient'].unique())) #7 categories\n",
    "cosmetics['Main_Ingredient'].unique()"
   ]
  },
  {
   "cell_type": "markdown",
   "metadata": {},
   "source": [
    "### Tiktok_Transcripts"
   ]
  },
  {
   "cell_type": "code",
   "execution_count": 10,
   "metadata": {},
   "outputs": [
    {
     "name": "stdout",
     "output_type": "stream",
     "text": [
      "<class 'pandas.core.frame.DataFrame'>\n",
      "RangeIndex: 5489 entries, 0 to 5488\n",
      "Data columns (total 11 columns):\n",
      " #   Column             Non-Null Count  Dtype  \n",
      "---  ------             --------------  -----  \n",
      " 0   id                 5489 non-null   int64  \n",
      " 1   bucketUrl          5488 non-null   object \n",
      " 2   detected_language  5437 non-null   object \n",
      " 3   transcribed_text   5322 non-null   object \n",
      " 4   video_description  5488 non-null   object \n",
      " 5   status             5489 non-null   object \n",
      " 6   tokens_used        5488 non-null   float64\n",
      " 7   error_message      102 non-null    object \n",
      " 8   created_at         5489 non-null   object \n",
      " 9   updated_at         5489 non-null   object \n",
      " 10  combined_text      5489 non-null   object \n",
      "dtypes: float64(1), int64(1), object(9)\n",
      "memory usage: 471.8+ KB\n"
     ]
    }
   ],
   "source": [
    "tiktok_transcrips.info()"
   ]
  },
  {
   "cell_type": "code",
   "execution_count": 11,
   "metadata": {},
   "outputs": [
    {
     "data": {
      "text/html": [
       "<div>\n",
       "<style scoped>\n",
       "    .dataframe tbody tr th:only-of-type {\n",
       "        vertical-align: middle;\n",
       "    }\n",
       "\n",
       "    .dataframe tbody tr th {\n",
       "        vertical-align: top;\n",
       "    }\n",
       "\n",
       "    .dataframe thead th {\n",
       "        text-align: right;\n",
       "    }\n",
       "</style>\n",
       "<table border=\"1\" class=\"dataframe\">\n",
       "  <thead>\n",
       "    <tr style=\"text-align: right;\">\n",
       "      <th></th>\n",
       "      <th>id</th>\n",
       "      <th>bucketUrl</th>\n",
       "      <th>transcribed_text</th>\n",
       "      <th>video_description</th>\n",
       "      <th>status</th>\n",
       "      <th>tokens_used</th>\n",
       "      <th>error_message</th>\n",
       "      <th>created_at</th>\n",
       "      <th>updated_at</th>\n",
       "      <th>combined_text</th>\n",
       "    </tr>\n",
       "    <tr>\n",
       "      <th>detected_language</th>\n",
       "      <th></th>\n",
       "      <th></th>\n",
       "      <th></th>\n",
       "      <th></th>\n",
       "      <th></th>\n",
       "      <th></th>\n",
       "      <th></th>\n",
       "      <th></th>\n",
       "      <th></th>\n",
       "      <th></th>\n",
       "    </tr>\n",
       "  </thead>\n",
       "  <tbody>\n",
       "    <tr>\n",
       "      <th>English</th>\n",
       "      <td>2352</td>\n",
       "      <td>2352</td>\n",
       "      <td>2338</td>\n",
       "      <td>2352</td>\n",
       "      <td>2352</td>\n",
       "      <td>2352</td>\n",
       "      <td>2</td>\n",
       "      <td>2352</td>\n",
       "      <td>2352</td>\n",
       "      <td>2352</td>\n",
       "    </tr>\n",
       "    <tr>\n",
       "      <th>German</th>\n",
       "      <td>1719</td>\n",
       "      <td>1719</td>\n",
       "      <td>1708</td>\n",
       "      <td>1719</td>\n",
       "      <td>1719</td>\n",
       "      <td>1719</td>\n",
       "      <td>8</td>\n",
       "      <td>1719</td>\n",
       "      <td>1719</td>\n",
       "      <td>1719</td>\n",
       "    </tr>\n",
       "    <tr>\n",
       "      <th>en</th>\n",
       "      <td>223</td>\n",
       "      <td>223</td>\n",
       "      <td>221</td>\n",
       "      <td>223</td>\n",
       "      <td>223</td>\n",
       "      <td>223</td>\n",
       "      <td>1</td>\n",
       "      <td>223</td>\n",
       "      <td>223</td>\n",
       "      <td>223</td>\n",
       "    </tr>\n",
       "    <tr>\n",
       "      <th>Spanish</th>\n",
       "      <td>143</td>\n",
       "      <td>143</td>\n",
       "      <td>141</td>\n",
       "      <td>143</td>\n",
       "      <td>143</td>\n",
       "      <td>143</td>\n",
       "      <td>1</td>\n",
       "      <td>143</td>\n",
       "      <td>143</td>\n",
       "      <td>143</td>\n",
       "    </tr>\n",
       "    <tr>\n",
       "      <th>Indonesian</th>\n",
       "      <td>134</td>\n",
       "      <td>134</td>\n",
       "      <td>134</td>\n",
       "      <td>134</td>\n",
       "      <td>134</td>\n",
       "      <td>134</td>\n",
       "      <td>0</td>\n",
       "      <td>134</td>\n",
       "      <td>134</td>\n",
       "      <td>134</td>\n",
       "    </tr>\n",
       "    <tr>\n",
       "      <th>...</th>\n",
       "      <td>...</td>\n",
       "      <td>...</td>\n",
       "      <td>...</td>\n",
       "      <td>...</td>\n",
       "      <td>...</td>\n",
       "      <td>...</td>\n",
       "      <td>...</td>\n",
       "      <td>...</td>\n",
       "      <td>...</td>\n",
       "      <td>...</td>\n",
       "    </tr>\n",
       "    <tr>\n",
       "      <th>Tamil</th>\n",
       "      <td>1</td>\n",
       "      <td>1</td>\n",
       "      <td>1</td>\n",
       "      <td>1</td>\n",
       "      <td>1</td>\n",
       "      <td>1</td>\n",
       "      <td>0</td>\n",
       "      <td>1</td>\n",
       "      <td>1</td>\n",
       "      <td>1</td>\n",
       "    </tr>\n",
       "    <tr>\n",
       "      <th>Tagalog</th>\n",
       "      <td>1</td>\n",
       "      <td>1</td>\n",
       "      <td>1</td>\n",
       "      <td>1</td>\n",
       "      <td>1</td>\n",
       "      <td>1</td>\n",
       "      <td>0</td>\n",
       "      <td>1</td>\n",
       "      <td>1</td>\n",
       "      <td>1</td>\n",
       "    </tr>\n",
       "    <tr>\n",
       "      <th>Silence</th>\n",
       "      <td>1</td>\n",
       "      <td>1</td>\n",
       "      <td>1</td>\n",
       "      <td>1</td>\n",
       "      <td>1</td>\n",
       "      <td>1</td>\n",
       "      <td>0</td>\n",
       "      <td>1</td>\n",
       "      <td>1</td>\n",
       "      <td>1</td>\n",
       "    </tr>\n",
       "    <tr>\n",
       "      <th>Swahili</th>\n",
       "      <td>1</td>\n",
       "      <td>1</td>\n",
       "      <td>1</td>\n",
       "      <td>1</td>\n",
       "      <td>1</td>\n",
       "      <td>1</td>\n",
       "      <td>0</td>\n",
       "      <td>1</td>\n",
       "      <td>1</td>\n",
       "      <td>1</td>\n",
       "    </tr>\n",
       "    <tr>\n",
       "      <th>Multiple</th>\n",
       "      <td>1</td>\n",
       "      <td>1</td>\n",
       "      <td>1</td>\n",
       "      <td>1</td>\n",
       "      <td>1</td>\n",
       "      <td>1</td>\n",
       "      <td>0</td>\n",
       "      <td>1</td>\n",
       "      <td>1</td>\n",
       "      <td>1</td>\n",
       "    </tr>\n",
       "  </tbody>\n",
       "</table>\n",
       "<p>70 rows × 10 columns</p>\n",
       "</div>"
      ],
      "text/plain": [
       "                     id  bucketUrl  transcribed_text  video_description  \\\n",
       "detected_language                                                         \n",
       "English            2352       2352              2338               2352   \n",
       "German             1719       1719              1708               1719   \n",
       "en                  223        223               221                223   \n",
       "Spanish             143        143               141                143   \n",
       "Indonesian          134        134               134                134   \n",
       "...                 ...        ...               ...                ...   \n",
       "Tamil                 1          1                 1                  1   \n",
       "Tagalog               1          1                 1                  1   \n",
       "Silence               1          1                 1                  1   \n",
       "Swahili               1          1                 1                  1   \n",
       "Multiple              1          1                 1                  1   \n",
       "\n",
       "                   status  tokens_used  error_message  created_at  updated_at  \\\n",
       "detected_language                                                               \n",
       "English              2352         2352              2        2352        2352   \n",
       "German               1719         1719              8        1719        1719   \n",
       "en                    223          223              1         223         223   \n",
       "Spanish               143          143              1         143         143   \n",
       "Indonesian            134          134              0         134         134   \n",
       "...                   ...          ...            ...         ...         ...   \n",
       "Tamil                   1            1              0           1           1   \n",
       "Tagalog                 1            1              0           1           1   \n",
       "Silence                 1            1              0           1           1   \n",
       "Swahili                 1            1              0           1           1   \n",
       "Multiple                1            1              0           1           1   \n",
       "\n",
       "                   combined_text  \n",
       "detected_language                 \n",
       "English                     2352  \n",
       "German                      1719  \n",
       "en                           223  \n",
       "Spanish                      143  \n",
       "Indonesian                   134  \n",
       "...                          ...  \n",
       "Tamil                          1  \n",
       "Tagalog                        1  \n",
       "Silence                        1  \n",
       "Swahili                        1  \n",
       "Multiple                       1  \n",
       "\n",
       "[70 rows x 10 columns]"
      ]
     },
     "execution_count": 11,
     "metadata": {},
     "output_type": "execute_result"
    }
   ],
   "source": [
    "tiktok_transcrips.groupby('detected_language').count().sort_values(by ='id',ascending=False)"
   ]
  },
  {
   "cell_type": "markdown",
   "metadata": {},
   "source": [
    "### Cleaning the English to en and German to de"
   ]
  },
  {
   "cell_type": "code",
   "execution_count": 12,
   "metadata": {},
   "outputs": [],
   "source": [
    "tiktok_transcrips['detected_language'] = tiktok_transcrips['detected_language'].replace({'English': 'en'})\n",
    "tiktok_transcrips['detected_language'] = tiktok_transcrips['detected_language'].replace({'German': 'de'})"
   ]
  },
  {
   "cell_type": "code",
   "execution_count": 13,
   "metadata": {},
   "outputs": [
    {
     "data": {
      "text/plain": [
       "5489"
      ]
     },
     "execution_count": 13,
     "metadata": {},
     "output_type": "execute_result"
    }
   ],
   "source": [
    "len(tiktok_transcrips['id'].unique())"
   ]
  },
  {
   "cell_type": "markdown",
   "metadata": {},
   "source": [
    "If we filter out the languages we loose about 1000 transcripts"
   ]
  },
  {
   "cell_type": "code",
   "execution_count": 14,
   "metadata": {},
   "outputs": [
    {
     "data": {
      "text/plain": [
       "array(['Albanian', 'Arabic', 'Dutch', 'en', 'French', 'de', 'Indonesian',\n",
       "       'Korean', 'Music', 'No', nan, 'Portuguese', 'Russian', 'Shona',\n",
       "       'Spanish', 'Turkish', 'Undetermined', 'Unknown', 'Vietnamese',\n",
       "       'Polish', 'Urdu', 'Amharic', 'Azerbaijani', 'Bosnian', 'Chinese',\n",
       "       'Czech', 'Filipino', 'Instrumental', 'Thai', 'Bulgarian', 'Not',\n",
       "       'none', 'Bengali', 'Croatian', 'Danish', 'Greek', 'Hindi', 'Igbo',\n",
       "       'Italian', 'Japanese', 'Khmer', 'Mandarin', 'Multiple', 'N',\n",
       "       'Nepali', 'Persian', 'Romanian', 'Serbian', 'Silence', 'Somali',\n",
       "       'Soomaali', 'Swahili', 'Swedish', 'Swiss', 'Tamil', 'Ukrainian',\n",
       "       'Wolof', 'Yoruba', 'ar', 'es', 'ja', 'no', 'und', 'Uyghur',\n",
       "       'Georgian', 'Hungarian', 'Panjabi', 'Tagalog', 'fr'], dtype=object)"
      ]
     },
     "execution_count": 14,
     "metadata": {},
     "output_type": "execute_result"
    }
   ],
   "source": [
    "tiktok_transcrips['detected_language'].unique()"
   ]
  },
  {
   "cell_type": "code",
   "execution_count": 15,
   "metadata": {},
   "outputs": [
    {
     "data": {
      "text/html": [
       "<div>\n",
       "<style scoped>\n",
       "    .dataframe tbody tr th:only-of-type {\n",
       "        vertical-align: middle;\n",
       "    }\n",
       "\n",
       "    .dataframe tbody tr th {\n",
       "        vertical-align: top;\n",
       "    }\n",
       "\n",
       "    .dataframe thead th {\n",
       "        text-align: right;\n",
       "    }\n",
       "</style>\n",
       "<table border=\"1\" class=\"dataframe\">\n",
       "  <thead>\n",
       "    <tr style=\"text-align: right;\">\n",
       "      <th></th>\n",
       "      <th>id</th>\n",
       "      <th>bucketUrl</th>\n",
       "      <th>detected_language</th>\n",
       "      <th>transcribed_text</th>\n",
       "      <th>video_description</th>\n",
       "      <th>status</th>\n",
       "      <th>tokens_used</th>\n",
       "      <th>error_message</th>\n",
       "      <th>created_at</th>\n",
       "      <th>updated_at</th>\n",
       "      <th>combined_text</th>\n",
       "    </tr>\n",
       "  </thead>\n",
       "  <tbody>\n",
       "    <tr>\n",
       "      <th>96</th>\n",
       "      <td>7034893625821498630</td>\n",
       "      <td>https://storage.cloud.google.com/capstone-soci...</td>\n",
       "      <td>de</td>\n",
       "      <td>Hello, liebe Leute, heute gibt es meine Morgen...</td>\n",
       "      <td>In this video, a woman shares her morning rout...</td>\n",
       "      <td>completed</td>\n",
       "      <td>17313.0</td>\n",
       "      <td>NaN</td>\n",
       "      <td>2025-03-24 08:40:13.940018 UTC</td>\n",
       "      <td>2025-03-25 19:10:24.359129 UTC</td>\n",
       "      <td>hello, liebe leute, heute gibt es meine morgen...</td>\n",
       "    </tr>\n",
       "    <tr>\n",
       "      <th>97</th>\n",
       "      <td>7100544112897674502</td>\n",
       "      <td>https://storage.cloud.google.com/capstone-soci...</td>\n",
       "      <td>de</td>\n",
       "      <td>Skincare für Anfänger mit Sonne. Hi! Das hier ...</td>\n",
       "      <td>A man in a striped shirt talks about the impor...</td>\n",
       "      <td>completed</td>\n",
       "      <td>16894.0</td>\n",
       "      <td>NaN</td>\n",
       "      <td>2025-03-24 08:40:13.940018 UTC</td>\n",
       "      <td>2025-03-25 19:10:21.568615 UTC</td>\n",
       "      <td>skincare für anfänger mit sonne. hi! das hier ...</td>\n",
       "    </tr>\n",
       "  </tbody>\n",
       "</table>\n",
       "</div>"
      ],
      "text/plain": [
       "                     id                                          bucketUrl  \\\n",
       "96  7034893625821498630  https://storage.cloud.google.com/capstone-soci...   \n",
       "97  7100544112897674502  https://storage.cloud.google.com/capstone-soci...   \n",
       "\n",
       "   detected_language                                   transcribed_text  \\\n",
       "96                de  Hello, liebe Leute, heute gibt es meine Morgen...   \n",
       "97                de  Skincare für Anfänger mit Sonne. Hi! Das hier ...   \n",
       "\n",
       "                                    video_description     status  tokens_used  \\\n",
       "96  In this video, a woman shares her morning rout...  completed      17313.0   \n",
       "97  A man in a striped shirt talks about the impor...  completed      16894.0   \n",
       "\n",
       "   error_message                      created_at  \\\n",
       "96           NaN  2025-03-24 08:40:13.940018 UTC   \n",
       "97           NaN  2025-03-24 08:40:13.940018 UTC   \n",
       "\n",
       "                        updated_at  \\\n",
       "96  2025-03-25 19:10:24.359129 UTC   \n",
       "97  2025-03-25 19:10:21.568615 UTC   \n",
       "\n",
       "                                        combined_text  \n",
       "96  hello, liebe leute, heute gibt es meine morgen...  \n",
       "97  skincare für anfänger mit sonne. hi! das hier ...  "
      ]
     },
     "execution_count": 15,
     "metadata": {},
     "output_type": "execute_result"
    }
   ],
   "source": [
    "tiktok_transcrips[tiktok_transcrips['detected_language']=='de'].head(2)"
   ]
  },
  {
   "cell_type": "markdown",
   "metadata": {},
   "source": [
    "detected_language is the transcribed_text language which is not necessarily the same form that of video_description"
   ]
  },
  {
   "cell_type": "code",
   "execution_count": 16,
   "metadata": {},
   "outputs": [],
   "source": [
    "import langid\n",
    "tiktok_transcrips['video_description_lang'] = tiktok_transcrips['video_description'].apply(lambda x: langid.classify(x)[0] if isinstance(x, str) else 'unknown')"
   ]
  },
  {
   "cell_type": "code",
   "execution_count": 17,
   "metadata": {},
   "outputs": [
    {
     "data": {
      "text/plain": [
       "array(['sq', 'en', 'it', 'de', 'pt', 'es', 'pl', 'unknown', 'am', 'fr',\n",
       "       'id', 'ro', 'ru', 'tr', 'ar', 'ja', 'el', 'la'], dtype=object)"
      ]
     },
     "execution_count": 17,
     "metadata": {},
     "output_type": "execute_result"
    }
   ],
   "source": [
    "tiktok_transcrips['video_description_lang'].unique()"
   ]
  },
  {
   "cell_type": "code",
   "execution_count": 18,
   "metadata": {},
   "outputs": [
    {
     "data": {
      "text/plain": [
       "5337"
      ]
     },
     "execution_count": 18,
     "metadata": {},
     "output_type": "execute_result"
    }
   ],
   "source": [
    "tiktok_transcrips_filtered = tiktok_transcrips[tiktok_transcrips['detected_language'].isin(['en', 'de']) | tiktok_transcrips['video_description_lang'].isin(['en', 'de'])]\n",
    "len(tiktok_transcrips_filtered['id'].unique())"
   ]
  },
  {
   "cell_type": "code",
   "execution_count": 19,
   "metadata": {},
   "outputs": [
    {
     "data": {
      "text/html": [
       "<div>\n",
       "<style scoped>\n",
       "    .dataframe tbody tr th:only-of-type {\n",
       "        vertical-align: middle;\n",
       "    }\n",
       "\n",
       "    .dataframe tbody tr th {\n",
       "        vertical-align: top;\n",
       "    }\n",
       "\n",
       "    .dataframe thead th {\n",
       "        text-align: right;\n",
       "    }\n",
       "</style>\n",
       "<table border=\"1\" class=\"dataframe\">\n",
       "  <thead>\n",
       "    <tr style=\"text-align: right;\">\n",
       "      <th></th>\n",
       "      <th>id</th>\n",
       "      <th>bucketUrl</th>\n",
       "      <th>detected_language</th>\n",
       "      <th>transcribed_text</th>\n",
       "      <th>video_description</th>\n",
       "      <th>status</th>\n",
       "      <th>tokens_used</th>\n",
       "      <th>error_message</th>\n",
       "      <th>created_at</th>\n",
       "      <th>updated_at</th>\n",
       "      <th>combined_text</th>\n",
       "      <th>video_description_lang</th>\n",
       "    </tr>\n",
       "  </thead>\n",
       "  <tbody>\n",
       "    <tr>\n",
       "      <th>48</th>\n",
       "      <td>7406291048965672209</td>\n",
       "      <td>https://storage.cloud.google.com/capstone-soci...</td>\n",
       "      <td>en</td>\n",
       "      <td>don't need those other moisturizers... when I ...</td>\n",
       "      <td>No description available.</td>\n",
       "      <td>completed</td>\n",
       "      <td>3000.0</td>\n",
       "      <td>NaN</td>\n",
       "      <td>2025-03-24 08:40:13.940018 UTC</td>\n",
       "      <td>2025-03-25 17:10:15.294869 UTC</td>\n",
       "      <td>don't need those other moisturizers... when i ...</td>\n",
       "      <td>it</td>\n",
       "    </tr>\n",
       "    <tr>\n",
       "      <th>61</th>\n",
       "      <td>7330682186779135265</td>\n",
       "      <td>https://storage.cloud.google.com/capstone-soci...</td>\n",
       "      <td>en</td>\n",
       "      <td>But just know you never met somebody like me b...</td>\n",
       "      <td>No description available.</td>\n",
       "      <td>completed</td>\n",
       "      <td>4136.0</td>\n",
       "      <td>NaN</td>\n",
       "      <td>2025-03-24 08:40:13.940018 UTC</td>\n",
       "      <td>2025-03-25 19:11:11.412146 UTC</td>\n",
       "      <td>but just know you never met somebody like me b...</td>\n",
       "      <td>it</td>\n",
       "    </tr>\n",
       "  </tbody>\n",
       "</table>\n",
       "</div>"
      ],
      "text/plain": [
       "                     id                                          bucketUrl  \\\n",
       "48  7406291048965672209  https://storage.cloud.google.com/capstone-soci...   \n",
       "61  7330682186779135265  https://storage.cloud.google.com/capstone-soci...   \n",
       "\n",
       "   detected_language                                   transcribed_text  \\\n",
       "48                en  don't need those other moisturizers... when I ...   \n",
       "61                en  But just know you never met somebody like me b...   \n",
       "\n",
       "            video_description     status  tokens_used error_message  \\\n",
       "48  No description available.  completed       3000.0           NaN   \n",
       "61  No description available.  completed       4136.0           NaN   \n",
       "\n",
       "                        created_at                      updated_at  \\\n",
       "48  2025-03-24 08:40:13.940018 UTC  2025-03-25 17:10:15.294869 UTC   \n",
       "61  2025-03-24 08:40:13.940018 UTC  2025-03-25 19:11:11.412146 UTC   \n",
       "\n",
       "                                        combined_text video_description_lang  \n",
       "48  don't need those other moisturizers... when i ...                     it  \n",
       "61  but just know you never met somebody like me b...                     it  "
      ]
     },
     "execution_count": 19,
     "metadata": {},
     "output_type": "execute_result"
    }
   ],
   "source": [
    "tiktok_transcrips_filtered[tiktok_transcrips_filtered['video_description_lang']=='it'].head(2) #No description available. is stored as it\n"
   ]
  },
  {
   "cell_type": "markdown",
   "metadata": {},
   "source": [
    "Filtering out the status of completed ai transcriptions from failed"
   ]
  },
  {
   "cell_type": "code",
   "execution_count": 20,
   "metadata": {},
   "outputs": [],
   "source": [
    "transcripts_text_filtered=tiktok_transcrips_filtered[tiktok_transcrips_filtered['status']=='completed']"
   ]
  },
  {
   "cell_type": "code",
   "execution_count": 21,
   "metadata": {},
   "outputs": [
    {
     "data": {
      "text/plain": [
       "Index(['id', 'bucketUrl', 'detected_language', 'transcribed_text',\n",
       "       'video_description', 'status', 'tokens_used', 'error_message',\n",
       "       'created_at', 'updated_at', 'combined_text', 'video_description_lang'],\n",
       "      dtype='object')"
      ]
     },
     "execution_count": 21,
     "metadata": {},
     "output_type": "execute_result"
    }
   ],
   "source": [
    "transcripts_text_filtered.columns"
   ]
  },
  {
   "cell_type": "markdown",
   "metadata": {},
   "source": [
    "### Basic Ingredients"
   ]
  },
  {
   "cell_type": "code",
   "execution_count": 22,
   "metadata": {},
   "outputs": [],
   "source": [
    "basic_ingredients=ingredients = [\n",
    "    \"hyaluronic acid\", \"hyaluronsäure\",\n",
    "    \"glycerin\",\n",
    "    \"panthenol\",\n",
    "    \"squalane\", \"squalan\",\n",
    "    \"aloe vera\",\n",
    "    \"niacinamide\", \"niacinamid\",\n",
    "    \"vitamin c\",\n",
    "    \"alpha arbutin\", \"alpha-arbutin\",\n",
    "    \"licorice root\", \"lakritzextrakt\",\n",
    "    \"kojic acid\", \"kojicsäure\",\n",
    "    \"retinol\",\n",
    "    \"peptides\", \"peptide\",\n",
    "    \"bakuchiol\",\n",
    "    \"coenzyme q10\", \"coenzym q10\",\n",
    "    \"ceramides\", \"ceramide\",\n",
    "    \"salicylic acid\", \"salicylsäure\",\n",
    "    \"glycolic acid\", \"glycolsäure\",\n",
    "    \"lactic acid\", \"milchsäure\",\n",
    "    \"pha\",\n",
    "    \"benzoyl peroxide\", \"benzoylperoxid\",\n",
    "    \"centella asiatica\", \"tigergras\",\n",
    "    \"green tea\", \"grüner tee\",\n",
    "    \"allantoin\",\n",
    "    \"calendula\", \"ringelblume\",\n",
    "    \"chamomile\", \"kamille\"\n",
    "]\n",
    "\n"
   ]
  },
  {
   "cell_type": "markdown",
   "metadata": {},
   "source": [
    "### Beiersdorf Products"
   ]
  },
  {
   "cell_type": "code",
   "execution_count": 23,
   "metadata": {},
   "outputs": [],
   "source": [
    "beiersdorf_products=['nivea','eucerin','hansaplast','la prairie','chantecaille','coppertone','labello','8x4','hidrougal','tesa','florena','skin stories','gammon']\n",
    "\n"
   ]
  },
  {
   "cell_type": "markdown",
   "metadata": {},
   "source": [
    "# Text Analysis for Beiersdorf Brands, Brands, Ingredients, Categories (blush, creams etc) and SkinType"
   ]
  },
  {
   "cell_type": "markdown",
   "metadata": {},
   "source": [
    "Counting the instances of basic Paula Choice ingridients.\n"
   ]
  },
  {
   "cell_type": "code",
   "execution_count": 24,
   "metadata": {},
   "outputs": [
    {
     "data": {
      "text/plain": [
       "Index(['id', 'bucketUrl', 'detected_language', 'transcribed_text',\n",
       "       'video_description', 'status', 'tokens_used', 'error_message',\n",
       "       'created_at', 'updated_at', 'combined_text', 'video_description_lang'],\n",
       "      dtype='object')"
      ]
     },
     "execution_count": 24,
     "metadata": {},
     "output_type": "execute_result"
    }
   ],
   "source": [
    "tiktok_transcrips_filtered.columns"
   ]
  },
  {
   "cell_type": "code",
   "execution_count": 25,
   "metadata": {},
   "outputs": [
    {
     "name": "stderr",
     "output_type": "stream",
     "text": [
      "/var/folders/5k/b8_r8jw502n4zztm42zd76m80000gn/T/ipykernel_1022/2914450645.py:2: SettingWithCopyWarning: \n",
      "A value is trying to be set on a copy of a slice from a DataFrame.\n",
      "Try using .loc[row_indexer,col_indexer] = value instead\n",
      "\n",
      "See the caveats in the documentation: https://pandas.pydata.org/pandas-docs/stable/user_guide/indexing.html#returning-a-view-versus-a-copy\n",
      "  tiktok_transcrips_filtered['combined_text'] = tiktok_transcrips_filtered['video_description'].fillna('').astype(str).str.lower()\n"
     ]
    }
   ],
   "source": [
    "#convert to lowercase\n",
    "tiktok_transcrips_filtered['combined_text'] = tiktok_transcrips_filtered['video_description'].fillna('').astype(str).str.lower()"
   ]
  },
  {
   "cell_type": "code",
   "execution_count": 26,
   "metadata": {},
   "outputs": [],
   "source": [
    "def presence_col(text, keyword):\n",
    "    return int(keyword in text)\n"
   ]
  },
  {
   "cell_type": "markdown",
   "metadata": {},
   "source": [
    "## Beiersdorf products"
   ]
  },
  {
   "cell_type": "code",
   "execution_count": 27,
   "metadata": {},
   "outputs": [
    {
     "data": {
      "text/html": [
       "<div>\n",
       "<style scoped>\n",
       "    .dataframe tbody tr th:only-of-type {\n",
       "        vertical-align: middle;\n",
       "    }\n",
       "\n",
       "    .dataframe tbody tr th {\n",
       "        vertical-align: top;\n",
       "    }\n",
       "\n",
       "    .dataframe thead th {\n",
       "        text-align: right;\n",
       "    }\n",
       "</style>\n",
       "<table border=\"1\" class=\"dataframe\">\n",
       "  <thead>\n",
       "    <tr style=\"text-align: right;\">\n",
       "      <th></th>\n",
       "      <th>product</th>\n",
       "      <th>mention_count</th>\n",
       "    </tr>\n",
       "  </thead>\n",
       "  <tbody>\n",
       "    <tr>\n",
       "      <th>0</th>\n",
       "      <td>nivea</td>\n",
       "      <td>76</td>\n",
       "    </tr>\n",
       "    <tr>\n",
       "      <th>1</th>\n",
       "      <td>eucerin</td>\n",
       "      <td>18</td>\n",
       "    </tr>\n",
       "    <tr>\n",
       "      <th>3</th>\n",
       "      <td>la prairie</td>\n",
       "      <td>4</td>\n",
       "    </tr>\n",
       "    <tr>\n",
       "      <th>6</th>\n",
       "      <td>labello</td>\n",
       "      <td>3</td>\n",
       "    </tr>\n",
       "    <tr>\n",
       "      <th>2</th>\n",
       "      <td>hansaplast</td>\n",
       "      <td>1</td>\n",
       "    </tr>\n",
       "    <tr>\n",
       "      <th>4</th>\n",
       "      <td>chantecaille</td>\n",
       "      <td>0</td>\n",
       "    </tr>\n",
       "    <tr>\n",
       "      <th>5</th>\n",
       "      <td>coppertone</td>\n",
       "      <td>0</td>\n",
       "    </tr>\n",
       "    <tr>\n",
       "      <th>7</th>\n",
       "      <td>8x4</td>\n",
       "      <td>0</td>\n",
       "    </tr>\n",
       "    <tr>\n",
       "      <th>8</th>\n",
       "      <td>hidrougal</td>\n",
       "      <td>0</td>\n",
       "    </tr>\n",
       "    <tr>\n",
       "      <th>9</th>\n",
       "      <td>tesa</td>\n",
       "      <td>0</td>\n",
       "    </tr>\n",
       "    <tr>\n",
       "      <th>10</th>\n",
       "      <td>florena</td>\n",
       "      <td>0</td>\n",
       "    </tr>\n",
       "    <tr>\n",
       "      <th>11</th>\n",
       "      <td>skin stories</td>\n",
       "      <td>0</td>\n",
       "    </tr>\n",
       "    <tr>\n",
       "      <th>12</th>\n",
       "      <td>gammon</td>\n",
       "      <td>0</td>\n",
       "    </tr>\n",
       "  </tbody>\n",
       "</table>\n",
       "</div>"
      ],
      "text/plain": [
       "         product  mention_count\n",
       "0          nivea             76\n",
       "1        eucerin             18\n",
       "3     la prairie              4\n",
       "6        labello              3\n",
       "2     hansaplast              1\n",
       "4   chantecaille              0\n",
       "5     coppertone              0\n",
       "7            8x4              0\n",
       "8      hidrougal              0\n",
       "9           tesa              0\n",
       "10       florena              0\n",
       "11  skin stories              0\n",
       "12        gammon              0"
      ]
     },
     "execution_count": 27,
     "metadata": {},
     "output_type": "execute_result"
    }
   ],
   "source": [
    "product_mentions_df = pd.DataFrame()\n",
    "for product in beiersdorf_products:\n",
    "    product_mentions_df[product] = tiktok_transcrips_filtered['combined_text'].apply(lambda x: presence_col(x, product))\n",
    "\n",
    "product_counts = product_mentions_df.sum().reset_index()\n",
    "product_counts.columns = ['product', 'mention_count']\n",
    "\n",
    "product_counts.sort_values(by='mention_count', ascending=False)"
   ]
  },
  {
   "cell_type": "code",
   "execution_count": 110,
   "metadata": {},
   "outputs": [
    {
     "data": {
      "image/png": "[encoded data removed]",
      "text/plain": [
       "<Figure size 640x480 with 1 Axes>"
      ]
     },
     "metadata": {},
     "output_type": "display_data"
    }
   ],
   "source": [
    "import matplotlib.pyplot as plt\n",
    "import seaborn as sns\n",
    "\n",
    "sns.barplot(x='product', y='mention_count', data=product_counts)\n",
    "\n",
    "# Rotate x-axis labels for better readability\n",
    "plt.xticks(rotation=90)\n",
    "\n",
    "# Set plot labels and title\n",
    "plt.xlabel('Brand')\n",
    "plt.ylabel('Count')\n",
    "plt.title('Brands to their Frequency')\n",
    "\n",
    "# Set the y-axis limit to 100\n",
    "plt.ylim(0, 100\n",
    "         )\n",
    "\n",
    "# Display the plot\n",
    "plt.tight_layout()\n",
    "plt.show()"
   ]
  },
  {
   "cell_type": "markdown",
   "metadata": {},
   "source": [
    "## Ingredients Counts"
   ]
  },
  {
   "cell_type": "code",
   "execution_count": 29,
   "metadata": {},
   "outputs": [],
   "source": [
    "ingredient_mentions_df = pd.DataFrame()\n",
    "for ingredient in basic_ingredients:\n",
    "    ingredient_mentions_df[ingredient] = tiktok_transcrips_filtered['combined_text'].apply(lambda x: presence_col(x, ingredient))"
   ]
  },
  {
   "cell_type": "code",
   "execution_count": 30,
   "metadata": {},
   "outputs": [
    {
     "data": {
      "text/html": [
       "<div>\n",
       "<style scoped>\n",
       "    .dataframe tbody tr th:only-of-type {\n",
       "        vertical-align: middle;\n",
       "    }\n",
       "\n",
       "    .dataframe tbody tr th {\n",
       "        vertical-align: top;\n",
       "    }\n",
       "\n",
       "    .dataframe thead th {\n",
       "        text-align: right;\n",
       "    }\n",
       "</style>\n",
       "<table border=\"1\" class=\"dataframe\">\n",
       "  <thead>\n",
       "    <tr style=\"text-align: right;\">\n",
       "      <th></th>\n",
       "      <th>ingredient</th>\n",
       "      <th>mention_count</th>\n",
       "    </tr>\n",
       "  </thead>\n",
       "  <tbody>\n",
       "    <tr>\n",
       "      <th>9</th>\n",
       "      <td>vitamin c</td>\n",
       "      <td>280</td>\n",
       "    </tr>\n",
       "    <tr>\n",
       "      <th>30</th>\n",
       "      <td>pha</td>\n",
       "      <td>200</td>\n",
       "    </tr>\n",
       "    <tr>\n",
       "      <th>8</th>\n",
       "      <td>niacinamid</td>\n",
       "      <td>187</td>\n",
       "    </tr>\n",
       "    <tr>\n",
       "      <th>16</th>\n",
       "      <td>retinol</td>\n",
       "      <td>182</td>\n",
       "    </tr>\n",
       "    <tr>\n",
       "      <th>7</th>\n",
       "      <td>niacinamide</td>\n",
       "      <td>168</td>\n",
       "    </tr>\n",
       "    <tr>\n",
       "      <th>0</th>\n",
       "      <td>hyaluronic acid</td>\n",
       "      <td>154</td>\n",
       "    </tr>\n",
       "    <tr>\n",
       "      <th>18</th>\n",
       "      <td>peptide</td>\n",
       "      <td>105</td>\n",
       "    </tr>\n",
       "    <tr>\n",
       "      <th>3</th>\n",
       "      <td>panthenol</td>\n",
       "      <td>76</td>\n",
       "    </tr>\n",
       "    <tr>\n",
       "      <th>24</th>\n",
       "      <td>salicylic acid</td>\n",
       "      <td>70</td>\n",
       "    </tr>\n",
       "    <tr>\n",
       "      <th>23</th>\n",
       "      <td>ceramide</td>\n",
       "      <td>69</td>\n",
       "    </tr>\n",
       "    <tr>\n",
       "      <th>26</th>\n",
       "      <td>glycolic acid</td>\n",
       "      <td>47</td>\n",
       "    </tr>\n",
       "    <tr>\n",
       "      <th>6</th>\n",
       "      <td>aloe vera</td>\n",
       "      <td>40</td>\n",
       "    </tr>\n",
       "    <tr>\n",
       "      <th>2</th>\n",
       "      <td>glycerin</td>\n",
       "      <td>32</td>\n",
       "    </tr>\n",
       "    <tr>\n",
       "      <th>17</th>\n",
       "      <td>peptides</td>\n",
       "      <td>29</td>\n",
       "    </tr>\n",
       "    <tr>\n",
       "      <th>22</th>\n",
       "      <td>ceramides</td>\n",
       "      <td>25</td>\n",
       "    </tr>\n",
       "    <tr>\n",
       "      <th>33</th>\n",
       "      <td>centella asiatica</td>\n",
       "      <td>20</td>\n",
       "    </tr>\n",
       "    <tr>\n",
       "      <th>5</th>\n",
       "      <td>squalan</td>\n",
       "      <td>17</td>\n",
       "    </tr>\n",
       "    <tr>\n",
       "      <th>35</th>\n",
       "      <td>green tea</td>\n",
       "      <td>15</td>\n",
       "    </tr>\n",
       "    <tr>\n",
       "      <th>4</th>\n",
       "      <td>squalane</td>\n",
       "      <td>14</td>\n",
       "    </tr>\n",
       "    <tr>\n",
       "      <th>1</th>\n",
       "      <td>hyaluronsäure</td>\n",
       "      <td>14</td>\n",
       "    </tr>\n",
       "    <tr>\n",
       "      <th>19</th>\n",
       "      <td>bakuchiol</td>\n",
       "      <td>12</td>\n",
       "    </tr>\n",
       "    <tr>\n",
       "      <th>14</th>\n",
       "      <td>kojic acid</td>\n",
       "      <td>10</td>\n",
       "    </tr>\n",
       "    <tr>\n",
       "      <th>31</th>\n",
       "      <td>benzoyl peroxide</td>\n",
       "      <td>9</td>\n",
       "    </tr>\n",
       "    <tr>\n",
       "      <th>28</th>\n",
       "      <td>lactic acid</td>\n",
       "      <td>8</td>\n",
       "    </tr>\n",
       "    <tr>\n",
       "      <th>37</th>\n",
       "      <td>allantoin</td>\n",
       "      <td>8</td>\n",
       "    </tr>\n",
       "    <tr>\n",
       "      <th>25</th>\n",
       "      <td>salicylsäure</td>\n",
       "      <td>7</td>\n",
       "    </tr>\n",
       "    <tr>\n",
       "      <th>10</th>\n",
       "      <td>alpha arbutin</td>\n",
       "      <td>6</td>\n",
       "    </tr>\n",
       "    <tr>\n",
       "      <th>38</th>\n",
       "      <td>calendula</td>\n",
       "      <td>4</td>\n",
       "    </tr>\n",
       "    <tr>\n",
       "      <th>39</th>\n",
       "      <td>ringelblume</td>\n",
       "      <td>4</td>\n",
       "    </tr>\n",
       "    <tr>\n",
       "      <th>40</th>\n",
       "      <td>chamomile</td>\n",
       "      <td>4</td>\n",
       "    </tr>\n",
       "    <tr>\n",
       "      <th>41</th>\n",
       "      <td>kamille</td>\n",
       "      <td>3</td>\n",
       "    </tr>\n",
       "    <tr>\n",
       "      <th>29</th>\n",
       "      <td>milchsäure</td>\n",
       "      <td>2</td>\n",
       "    </tr>\n",
       "    <tr>\n",
       "      <th>12</th>\n",
       "      <td>licorice root</td>\n",
       "      <td>1</td>\n",
       "    </tr>\n",
       "    <tr>\n",
       "      <th>32</th>\n",
       "      <td>benzoylperoxid</td>\n",
       "      <td>0</td>\n",
       "    </tr>\n",
       "    <tr>\n",
       "      <th>27</th>\n",
       "      <td>glycolsäure</td>\n",
       "      <td>0</td>\n",
       "    </tr>\n",
       "    <tr>\n",
       "      <th>34</th>\n",
       "      <td>tigergras</td>\n",
       "      <td>0</td>\n",
       "    </tr>\n",
       "    <tr>\n",
       "      <th>20</th>\n",
       "      <td>coenzyme q10</td>\n",
       "      <td>0</td>\n",
       "    </tr>\n",
       "    <tr>\n",
       "      <th>36</th>\n",
       "      <td>grüner tee</td>\n",
       "      <td>0</td>\n",
       "    </tr>\n",
       "    <tr>\n",
       "      <th>15</th>\n",
       "      <td>kojicsäure</td>\n",
       "      <td>0</td>\n",
       "    </tr>\n",
       "    <tr>\n",
       "      <th>13</th>\n",
       "      <td>lakritzextrakt</td>\n",
       "      <td>0</td>\n",
       "    </tr>\n",
       "    <tr>\n",
       "      <th>11</th>\n",
       "      <td>alpha-arbutin</td>\n",
       "      <td>0</td>\n",
       "    </tr>\n",
       "    <tr>\n",
       "      <th>21</th>\n",
       "      <td>coenzym q10</td>\n",
       "      <td>0</td>\n",
       "    </tr>\n",
       "  </tbody>\n",
       "</table>\n",
       "</div>"
      ],
      "text/plain": [
       "           ingredient  mention_count\n",
       "9           vitamin c            280\n",
       "30                pha            200\n",
       "8          niacinamid            187\n",
       "16            retinol            182\n",
       "7         niacinamide            168\n",
       "0     hyaluronic acid            154\n",
       "18            peptide            105\n",
       "3           panthenol             76\n",
       "24     salicylic acid             70\n",
       "23           ceramide             69\n",
       "26      glycolic acid             47\n",
       "6           aloe vera             40\n",
       "2            glycerin             32\n",
       "17           peptides             29\n",
       "22          ceramides             25\n",
       "33  centella asiatica             20\n",
       "5             squalan             17\n",
       "35          green tea             15\n",
       "4            squalane             14\n",
       "1       hyaluronsäure             14\n",
       "19          bakuchiol             12\n",
       "14         kojic acid             10\n",
       "31   benzoyl peroxide              9\n",
       "28        lactic acid              8\n",
       "37          allantoin              8\n",
       "25       salicylsäure              7\n",
       "10      alpha arbutin              6\n",
       "38          calendula              4\n",
       "39        ringelblume              4\n",
       "40          chamomile              4\n",
       "41            kamille              3\n",
       "29         milchsäure              2\n",
       "12      licorice root              1\n",
       "32     benzoylperoxid              0\n",
       "27        glycolsäure              0\n",
       "34          tigergras              0\n",
       "20       coenzyme q10              0\n",
       "36         grüner tee              0\n",
       "15         kojicsäure              0\n",
       "13     lakritzextrakt              0\n",
       "11      alpha-arbutin              0\n",
       "21        coenzym q10              0"
      ]
     },
     "execution_count": 30,
     "metadata": {},
     "output_type": "execute_result"
    }
   ],
   "source": [
    "ingredient_counts = ingredient_mentions_df.sum().reset_index()\n",
    "ingredient_counts.columns = ['ingredient', 'mention_count']\n",
    "ingredient_counts.sort_values(by='mention_count', ascending=False)"
   ]
  },
  {
   "cell_type": "code",
   "execution_count": 111,
   "metadata": {},
   "outputs": [
    {
     "data": {
      "image/png": "[encoded data removed]",
      "text/plain": [
       "<Figure size 640x480 with 1 Axes>"
      ]
     },
     "metadata": {},
     "output_type": "display_data"
    }
   ],
   "source": [
    "\n",
    "sns.barplot(x='ingredient', y='mention_count', data=ingredient_counts)\n",
    "\n",
    "# Rotate x-axis labels for better readability\n",
    "plt.xticks(rotation=90)\n",
    "\n",
    "# Set plot labels and title\n",
    "plt.xlabel('Brand')\n",
    "plt.ylabel('Count')\n",
    "plt.title('Brands to their count')\n",
    "\n",
    "# Set the y-axis limit to 100\n",
    "plt.ylim(0, 250)\n",
    "\n",
    "# Display the plot\n",
    "plt.tight_layout()\n",
    "plt.show()\n",
    "\n"
   ]
  },
  {
   "cell_type": "markdown",
   "metadata": {},
   "source": [
    "### Using the Cosmetics dataset from Kaggle"
   ]
  },
  {
   "cell_type": "code",
   "execution_count": 32,
   "metadata": {},
   "outputs": [],
   "source": [
    "import numpy as np\n",
    "\n",
    "# Assume Categories is the array\n",
    "Categories = np.array([\n",
    "    'Blush', 'Makeup Remover', 'Highlighter', 'Face Mask',\n",
    "    'Foundation', 'Powder', 'Lip Gloss', 'CC Cream', 'Eye Shadow',\n",
    "    'Concealer', 'Eyeliner', 'Lipstick', 'Setting Spray', 'Cleanser',\n",
    "    'Bronzer', 'Primer', 'Face Oil', 'Contour', 'Mascara', 'Serum',\n",
    "    'BB Cream', 'Exfoliator', 'Lip Liner', 'Moisturizer'\n",
    "])\n",
    "\n",
    "# Convert all elements to lowercase\n",
    "Categories_lower = np.char.lower(Categories)\n",
    "\n",
    "Brands=np.array(['Drunk Elephant', 'Laura Mercier', 'Natasha Denona', 'Ilia Beauty',\n",
    "       'Charlotte Tilbury', 'Danessa Myricks', 'Bourjois', 'IT Cosmetics',\n",
    "       'Fenty Beauty', 'Sisley', 'Juvia’s Place', 'NARS', 'ColourPop',\n",
    "       'Huda Beauty', 'Tatcha', 'Kiehl’s', 'Tarte', 'Glossier',\n",
    "       'Make Up For Ever', 'Anastasia Beverly Hills', 'E.l.f.',\n",
    "       'Hourglass', 'Pat McGrath Labs', 'Too Faced', 'Perricone MD',\n",
    "       'RMS Beauty', 'Urban Decay', 'Rare Beauty', 'Becca', 'Patrick Ta',\n",
    "       'Shiseido', 'Kylie Cosmetics', 'Bite Beauty', 'Yves Saint Laurent',\n",
    "       'Bobby Brown', 'Farsali', 'Morphe', 'Milk Makeup', 'Clinique',\n",
    "       'KVD Beauty', 'La Roche Posay']\n",
    ")\n",
    "\n",
    "Brands_lower=np.char.lower(Brands)\n",
    "\n",
    "SkinType= np.array(['Sensitive', 'Dry', 'Normal', 'Oily', 'Combination'])\n",
    "SkinType_lower=np.char.lower(SkinType)\n",
    "\n",
    "\n"
   ]
  },
  {
   "cell_type": "markdown",
   "metadata": {},
   "source": [
    "#### Categories "
   ]
  },
  {
   "cell_type": "code",
   "execution_count": 33,
   "metadata": {},
   "outputs": [
    {
     "data": {
      "text/html": [
       "<div>\n",
       "<style scoped>\n",
       "    .dataframe tbody tr th:only-of-type {\n",
       "        vertical-align: middle;\n",
       "    }\n",
       "\n",
       "    .dataframe tbody tr th {\n",
       "        vertical-align: top;\n",
       "    }\n",
       "\n",
       "    .dataframe thead th {\n",
       "        text-align: right;\n",
       "    }\n",
       "</style>\n",
       "<table border=\"1\" class=\"dataframe\">\n",
       "  <thead>\n",
       "    <tr style=\"text-align: right;\">\n",
       "      <th></th>\n",
       "      <th>category</th>\n",
       "      <th>mention_count</th>\n",
       "    </tr>\n",
       "  </thead>\n",
       "  <tbody>\n",
       "    <tr>\n",
       "      <th>19</th>\n",
       "      <td>serum</td>\n",
       "      <td>1406</td>\n",
       "    </tr>\n",
       "    <tr>\n",
       "      <th>13</th>\n",
       "      <td>cleanser</td>\n",
       "      <td>790</td>\n",
       "    </tr>\n",
       "    <tr>\n",
       "      <th>23</th>\n",
       "      <td>moisturizer</td>\n",
       "      <td>732</td>\n",
       "    </tr>\n",
       "    <tr>\n",
       "      <th>3</th>\n",
       "      <td>face mask</td>\n",
       "      <td>256</td>\n",
       "    </tr>\n",
       "    <tr>\n",
       "      <th>5</th>\n",
       "      <td>powder</td>\n",
       "      <td>72</td>\n",
       "    </tr>\n",
       "    <tr>\n",
       "      <th>4</th>\n",
       "      <td>foundation</td>\n",
       "      <td>58</td>\n",
       "    </tr>\n",
       "    <tr>\n",
       "      <th>6</th>\n",
       "      <td>lip gloss</td>\n",
       "      <td>48</td>\n",
       "    </tr>\n",
       "    <tr>\n",
       "      <th>0</th>\n",
       "      <td>blush</td>\n",
       "      <td>34</td>\n",
       "    </tr>\n",
       "    <tr>\n",
       "      <th>9</th>\n",
       "      <td>concealer</td>\n",
       "      <td>33</td>\n",
       "    </tr>\n",
       "    <tr>\n",
       "      <th>1</th>\n",
       "      <td>makeup remover</td>\n",
       "      <td>31</td>\n",
       "    </tr>\n",
       "    <tr>\n",
       "      <th>18</th>\n",
       "      <td>mascara</td>\n",
       "      <td>29</td>\n",
       "    </tr>\n",
       "    <tr>\n",
       "      <th>15</th>\n",
       "      <td>primer</td>\n",
       "      <td>26</td>\n",
       "    </tr>\n",
       "    <tr>\n",
       "      <th>11</th>\n",
       "      <td>lipstick</td>\n",
       "      <td>25</td>\n",
       "    </tr>\n",
       "    <tr>\n",
       "      <th>16</th>\n",
       "      <td>face oil</td>\n",
       "      <td>22</td>\n",
       "    </tr>\n",
       "    <tr>\n",
       "      <th>21</th>\n",
       "      <td>exfoliator</td>\n",
       "      <td>19</td>\n",
       "    </tr>\n",
       "    <tr>\n",
       "      <th>17</th>\n",
       "      <td>contour</td>\n",
       "      <td>16</td>\n",
       "    </tr>\n",
       "    <tr>\n",
       "      <th>10</th>\n",
       "      <td>eyeliner</td>\n",
       "      <td>13</td>\n",
       "    </tr>\n",
       "    <tr>\n",
       "      <th>12</th>\n",
       "      <td>setting spray</td>\n",
       "      <td>12</td>\n",
       "    </tr>\n",
       "    <tr>\n",
       "      <th>14</th>\n",
       "      <td>bronzer</td>\n",
       "      <td>11</td>\n",
       "    </tr>\n",
       "    <tr>\n",
       "      <th>2</th>\n",
       "      <td>highlighter</td>\n",
       "      <td>11</td>\n",
       "    </tr>\n",
       "    <tr>\n",
       "      <th>22</th>\n",
       "      <td>lip liner</td>\n",
       "      <td>11</td>\n",
       "    </tr>\n",
       "    <tr>\n",
       "      <th>20</th>\n",
       "      <td>bb cream</td>\n",
       "      <td>6</td>\n",
       "    </tr>\n",
       "    <tr>\n",
       "      <th>7</th>\n",
       "      <td>cc cream</td>\n",
       "      <td>5</td>\n",
       "    </tr>\n",
       "    <tr>\n",
       "      <th>8</th>\n",
       "      <td>eye shadow</td>\n",
       "      <td>4</td>\n",
       "    </tr>\n",
       "  </tbody>\n",
       "</table>\n",
       "</div>"
      ],
      "text/plain": [
       "          category  mention_count\n",
       "19           serum           1406\n",
       "13        cleanser            790\n",
       "23     moisturizer            732\n",
       "3        face mask            256\n",
       "5           powder             72\n",
       "4       foundation             58\n",
       "6        lip gloss             48\n",
       "0            blush             34\n",
       "9        concealer             33\n",
       "1   makeup remover             31\n",
       "18         mascara             29\n",
       "15          primer             26\n",
       "11        lipstick             25\n",
       "16        face oil             22\n",
       "21      exfoliator             19\n",
       "17         contour             16\n",
       "10        eyeliner             13\n",
       "12   setting spray             12\n",
       "14         bronzer             11\n",
       "2      highlighter             11\n",
       "22       lip liner             11\n",
       "20        bb cream              6\n",
       "7         cc cream              5\n",
       "8       eye shadow              4"
      ]
     },
     "execution_count": 33,
     "metadata": {},
     "output_type": "execute_result"
    }
   ],
   "source": [
    "categoriries_df = pd.DataFrame()\n",
    "\n",
    "for category in Categories_lower:\n",
    "    categoriries_df[category] = tiktok_transcrips_filtered['combined_text'].apply(lambda x: presence_col(x, category))\n",
    "\n",
    "\n",
    "categories_count = categoriries_df.sum().reset_index()\n",
    "categories_count.columns = ['category', 'mention_count']\n",
    "categories_count.sort_values(by='mention_count', ascending=False)\n",
    "\n"
   ]
  },
  {
   "cell_type": "markdown",
   "metadata": {},
   "source": [
    "#### Brands"
   ]
  },
  {
   "cell_type": "code",
   "execution_count": 34,
   "metadata": {},
   "outputs": [
    {
     "data": {
      "text/html": [
       "<div>\n",
       "<style scoped>\n",
       "    .dataframe tbody tr th:only-of-type {\n",
       "        vertical-align: middle;\n",
       "    }\n",
       "\n",
       "    .dataframe tbody tr th {\n",
       "        vertical-align: top;\n",
       "    }\n",
       "\n",
       "    .dataframe thead th {\n",
       "        text-align: right;\n",
       "    }\n",
       "</style>\n",
       "<table border=\"1\" class=\"dataframe\">\n",
       "  <thead>\n",
       "    <tr style=\"text-align: right;\">\n",
       "      <th></th>\n",
       "      <th>brand</th>\n",
       "      <th>mention_count</th>\n",
       "    </tr>\n",
       "  </thead>\n",
       "  <tbody>\n",
       "    <tr>\n",
       "      <th>40</th>\n",
       "      <td>la roche posay</td>\n",
       "      <td>28</td>\n",
       "    </tr>\n",
       "    <tr>\n",
       "      <th>16</th>\n",
       "      <td>tarte</td>\n",
       "      <td>24</td>\n",
       "    </tr>\n",
       "    <tr>\n",
       "      <th>0</th>\n",
       "      <td>drunk elephant</td>\n",
       "      <td>24</td>\n",
       "    </tr>\n",
       "    <tr>\n",
       "      <th>38</th>\n",
       "      <td>clinique</td>\n",
       "      <td>14</td>\n",
       "    </tr>\n",
       "    <tr>\n",
       "      <th>14</th>\n",
       "      <td>tatcha</td>\n",
       "      <td>13</td>\n",
       "    </tr>\n",
       "    <tr>\n",
       "      <th>4</th>\n",
       "      <td>charlotte tilbury</td>\n",
       "      <td>9</td>\n",
       "    </tr>\n",
       "    <tr>\n",
       "      <th>27</th>\n",
       "      <td>rare beauty</td>\n",
       "      <td>6</td>\n",
       "    </tr>\n",
       "    <tr>\n",
       "      <th>37</th>\n",
       "      <td>milk makeup</td>\n",
       "      <td>5</td>\n",
       "    </tr>\n",
       "    <tr>\n",
       "      <th>30</th>\n",
       "      <td>shiseido</td>\n",
       "      <td>5</td>\n",
       "    </tr>\n",
       "    <tr>\n",
       "      <th>17</th>\n",
       "      <td>glossier</td>\n",
       "      <td>4</td>\n",
       "    </tr>\n",
       "    <tr>\n",
       "      <th>20</th>\n",
       "      <td>e.l.f.</td>\n",
       "      <td>4</td>\n",
       "    </tr>\n",
       "    <tr>\n",
       "      <th>13</th>\n",
       "      <td>huda beauty</td>\n",
       "      <td>3</td>\n",
       "    </tr>\n",
       "    <tr>\n",
       "      <th>9</th>\n",
       "      <td>sisley</td>\n",
       "      <td>3</td>\n",
       "    </tr>\n",
       "    <tr>\n",
       "      <th>15</th>\n",
       "      <td>kiehl’s</td>\n",
       "      <td>3</td>\n",
       "    </tr>\n",
       "    <tr>\n",
       "      <th>8</th>\n",
       "      <td>fenty beauty</td>\n",
       "      <td>3</td>\n",
       "    </tr>\n",
       "    <tr>\n",
       "      <th>7</th>\n",
       "      <td>it cosmetics</td>\n",
       "      <td>3</td>\n",
       "    </tr>\n",
       "    <tr>\n",
       "      <th>11</th>\n",
       "      <td>nars</td>\n",
       "      <td>3</td>\n",
       "    </tr>\n",
       "    <tr>\n",
       "      <th>21</th>\n",
       "      <td>hourglass</td>\n",
       "      <td>2</td>\n",
       "    </tr>\n",
       "    <tr>\n",
       "      <th>36</th>\n",
       "      <td>morphe</td>\n",
       "      <td>2</td>\n",
       "    </tr>\n",
       "    <tr>\n",
       "      <th>23</th>\n",
       "      <td>too faced</td>\n",
       "      <td>1</td>\n",
       "    </tr>\n",
       "    <tr>\n",
       "      <th>2</th>\n",
       "      <td>natasha denona</td>\n",
       "      <td>1</td>\n",
       "    </tr>\n",
       "    <tr>\n",
       "      <th>35</th>\n",
       "      <td>farsali</td>\n",
       "      <td>1</td>\n",
       "    </tr>\n",
       "    <tr>\n",
       "      <th>39</th>\n",
       "      <td>kvd beauty</td>\n",
       "      <td>1</td>\n",
       "    </tr>\n",
       "    <tr>\n",
       "      <th>28</th>\n",
       "      <td>becca</td>\n",
       "      <td>1</td>\n",
       "    </tr>\n",
       "    <tr>\n",
       "      <th>33</th>\n",
       "      <td>yves saint laurent</td>\n",
       "      <td>0</td>\n",
       "    </tr>\n",
       "    <tr>\n",
       "      <th>34</th>\n",
       "      <td>bobby brown</td>\n",
       "      <td>0</td>\n",
       "    </tr>\n",
       "    <tr>\n",
       "      <th>32</th>\n",
       "      <td>bite beauty</td>\n",
       "      <td>0</td>\n",
       "    </tr>\n",
       "    <tr>\n",
       "      <th>31</th>\n",
       "      <td>kylie cosmetics</td>\n",
       "      <td>0</td>\n",
       "    </tr>\n",
       "    <tr>\n",
       "      <th>29</th>\n",
       "      <td>patrick ta</td>\n",
       "      <td>0</td>\n",
       "    </tr>\n",
       "    <tr>\n",
       "      <th>3</th>\n",
       "      <td>ilia beauty</td>\n",
       "      <td>0</td>\n",
       "    </tr>\n",
       "    <tr>\n",
       "      <th>26</th>\n",
       "      <td>urban decay</td>\n",
       "      <td>0</td>\n",
       "    </tr>\n",
       "    <tr>\n",
       "      <th>25</th>\n",
       "      <td>rms beauty</td>\n",
       "      <td>0</td>\n",
       "    </tr>\n",
       "    <tr>\n",
       "      <th>24</th>\n",
       "      <td>perricone md</td>\n",
       "      <td>0</td>\n",
       "    </tr>\n",
       "    <tr>\n",
       "      <th>1</th>\n",
       "      <td>laura mercier</td>\n",
       "      <td>0</td>\n",
       "    </tr>\n",
       "    <tr>\n",
       "      <th>19</th>\n",
       "      <td>anastasia beverly hills</td>\n",
       "      <td>0</td>\n",
       "    </tr>\n",
       "    <tr>\n",
       "      <th>18</th>\n",
       "      <td>make up for ever</td>\n",
       "      <td>0</td>\n",
       "    </tr>\n",
       "    <tr>\n",
       "      <th>12</th>\n",
       "      <td>colourpop</td>\n",
       "      <td>0</td>\n",
       "    </tr>\n",
       "    <tr>\n",
       "      <th>10</th>\n",
       "      <td>juvia’s place</td>\n",
       "      <td>0</td>\n",
       "    </tr>\n",
       "    <tr>\n",
       "      <th>6</th>\n",
       "      <td>bourjois</td>\n",
       "      <td>0</td>\n",
       "    </tr>\n",
       "    <tr>\n",
       "      <th>5</th>\n",
       "      <td>danessa myricks</td>\n",
       "      <td>0</td>\n",
       "    </tr>\n",
       "    <tr>\n",
       "      <th>22</th>\n",
       "      <td>pat mcgrath labs</td>\n",
       "      <td>0</td>\n",
       "    </tr>\n",
       "  </tbody>\n",
       "</table>\n",
       "</div>"
      ],
      "text/plain": [
       "                      brand  mention_count\n",
       "40           la roche posay             28\n",
       "16                    tarte             24\n",
       "0            drunk elephant             24\n",
       "38                 clinique             14\n",
       "14                   tatcha             13\n",
       "4         charlotte tilbury              9\n",
       "27              rare beauty              6\n",
       "37              milk makeup              5\n",
       "30                 shiseido              5\n",
       "17                 glossier              4\n",
       "20                   e.l.f.              4\n",
       "13              huda beauty              3\n",
       "9                    sisley              3\n",
       "15                  kiehl’s              3\n",
       "8              fenty beauty              3\n",
       "7              it cosmetics              3\n",
       "11                     nars              3\n",
       "21                hourglass              2\n",
       "36                   morphe              2\n",
       "23                too faced              1\n",
       "2            natasha denona              1\n",
       "35                  farsali              1\n",
       "39               kvd beauty              1\n",
       "28                    becca              1\n",
       "33       yves saint laurent              0\n",
       "34              bobby brown              0\n",
       "32              bite beauty              0\n",
       "31          kylie cosmetics              0\n",
       "29               patrick ta              0\n",
       "3               ilia beauty              0\n",
       "26              urban decay              0\n",
       "25               rms beauty              0\n",
       "24             perricone md              0\n",
       "1             laura mercier              0\n",
       "19  anastasia beverly hills              0\n",
       "18         make up for ever              0\n",
       "12                colourpop              0\n",
       "10            juvia’s place              0\n",
       "6                  bourjois              0\n",
       "5           danessa myricks              0\n",
       "22         pat mcgrath labs              0"
      ]
     },
     "execution_count": 34,
     "metadata": {},
     "output_type": "execute_result"
    }
   ],
   "source": [
    "Brands_df = pd.DataFrame()\n",
    "\n",
    "for brand in Brands_lower:\n",
    "    Brands_df[brand] = tiktok_transcrips_filtered['combined_text'].apply(lambda x: presence_col(x, brand))\n",
    "\n",
    "\n",
    "brand_count = Brands_df.sum().reset_index()\n",
    "brand_count.columns = ['brand', 'mention_count']\n",
    "brand_count.sort_values(by='mention_count', ascending=False)\n",
    "\n"
   ]
  },
  {
   "cell_type": "markdown",
   "metadata": {},
   "source": [
    "#### Skintype"
   ]
  },
  {
   "cell_type": "code",
   "execution_count": 35,
   "metadata": {},
   "outputs": [
    {
     "data": {
      "text/html": [
       "<div>\n",
       "<style scoped>\n",
       "    .dataframe tbody tr th:only-of-type {\n",
       "        vertical-align: middle;\n",
       "    }\n",
       "\n",
       "    .dataframe tbody tr th {\n",
       "        vertical-align: top;\n",
       "    }\n",
       "\n",
       "    .dataframe thead th {\n",
       "        text-align: right;\n",
       "    }\n",
       "</style>\n",
       "<table border=\"1\" class=\"dataframe\">\n",
       "  <thead>\n",
       "    <tr style=\"text-align: right;\">\n",
       "      <th></th>\n",
       "      <th>SkinType</th>\n",
       "      <th>mention_count</th>\n",
       "    </tr>\n",
       "  </thead>\n",
       "  <tbody>\n",
       "    <tr>\n",
       "      <th>1</th>\n",
       "      <td>dry</td>\n",
       "      <td>358</td>\n",
       "    </tr>\n",
       "    <tr>\n",
       "      <th>0</th>\n",
       "      <td>sensitive</td>\n",
       "      <td>145</td>\n",
       "    </tr>\n",
       "    <tr>\n",
       "      <th>3</th>\n",
       "      <td>oily</td>\n",
       "      <td>124</td>\n",
       "    </tr>\n",
       "    <tr>\n",
       "      <th>2</th>\n",
       "      <td>normal</td>\n",
       "      <td>51</td>\n",
       "    </tr>\n",
       "    <tr>\n",
       "      <th>4</th>\n",
       "      <td>combination</td>\n",
       "      <td>51</td>\n",
       "    </tr>\n",
       "  </tbody>\n",
       "</table>\n",
       "</div>"
      ],
      "text/plain": [
       "      SkinType  mention_count\n",
       "1          dry            358\n",
       "0    sensitive            145\n",
       "3         oily            124\n",
       "2       normal             51\n",
       "4  combination             51"
      ]
     },
     "execution_count": 35,
     "metadata": {},
     "output_type": "execute_result"
    }
   ],
   "source": [
    "SkinType = pd.DataFrame()\n",
    "\n",
    "for skintype in SkinType_lower:\n",
    "    SkinType[skintype] = tiktok_transcrips_filtered['combined_text'].apply(lambda x: presence_col(x, skintype))\n",
    "\n",
    "\n",
    "skintype_count = SkinType.sum().reset_index()\n",
    "skintype_count.columns = ['SkinType', 'mention_count']\n",
    "skintype_count.sort_values(by='mention_count', ascending=False)"
   ]
  },
  {
   "cell_type": "code",
   "execution_count": 36,
   "metadata": {},
   "outputs": [
    {
     "data": {
      "image/png": "[encoded data removed]",
      "text/plain": [
       "<Figure size 640x480 with 1 Axes>"
      ]
     },
     "metadata": {},
     "output_type": "display_data"
    }
   ],
   "source": [
    "import matplotlib.pyplot as plt\n",
    "import seaborn as sns\n",
    "\n",
    "sns.barplot(x='SkinType', y='mention_count', data=skintype_count)\n",
    "\n",
    "# Rotate x-axis labels for better readability\n",
    "plt.xticks(rotation=90)\n",
    "\n",
    "# Set plot labels and title\n",
    "plt.xlabel('SkinType')\n",
    "plt.ylabel('Count')\n",
    "plt.title('Brands to their count')\n",
    "\n",
    "# Set the y-axis limit to 100\n",
    "plt.ylim(0, 400)\n",
    "\n",
    "# Display the plot\n",
    "plt.tight_layout()\n",
    "plt.show()\n",
    "\n"
   ]
  },
  {
   "cell_type": "markdown",
   "metadata": {},
   "source": [
    "## More Ingredient Analysis"
   ]
  },
  {
   "cell_type": "code",
   "execution_count": null,
   "metadata": {},
   "outputs": [
    {
     "name": "stderr",
     "output_type": "stream",
     "text": [
      "/var/folders/5k/b8_r8jw502n4zztm42zd76m80000gn/T/ipykernel_26566/765674746.py:30: UserWarning: Converting to PeriodArray/Index representation will drop timezone information.\n",
      "  df[\"week\"] = df[\"createTimeISO\"].dt.to_period(\"W\").dt.start_time\n"
     ]
    }
   ],
   "source": [
    "import pandas as pd\n",
    "import re\n",
    "import matplotlib.pyplot as plt\n",
    "import seaborn as sns\n",
    "import matplotlib.dates as mdates\n",
    "import locale\n",
    "from datetime import datetime\n",
    "from transformers import pipeline\n",
    "\n",
    "\n",
    "# Set matplotlib to use English for dates\n",
    "try:\n",
    "    locale.setlocale(locale.LC_TIME, 'en_US.UTF-8')\n",
    "except locale.Error:\n",
    "    locale.setlocale(locale.LC_TIME, 'C')\n",
    "\n",
    "# Load and Prepare Data\n",
    "df = pd.read_csv(\"../data/comments_posts_transcripts.csv\")\n",
    "\n",
    "# Basic cleaning and filtering\n",
    "df = df[df[\"comment\"].notna() & (df[\"playCount\"] > 0)].copy()\n",
    "df[\"comment\"] = df[\"comment\"].astype(str).str.lower()\n",
    "df[\"createTimeISO\"] = pd.to_datetime(df[\"createTimeISO\"])\n",
    "\n",
    "# Filter to last 6 months\n",
    "six_months_ago = pd.Timestamp(datetime.today() - pd.DateOffset(months=6), tz=\"UTC\")\n",
    "df = df[df[\"createTimeISO\"] >= six_months_ago]\n",
    "\n",
    "# Add week column\n",
    "df[\"week\"] = df[\"createTimeISO\"].dt.to_period(\"W\").dt.start_time"
   ]
  },
  {
   "cell_type": "markdown",
   "metadata": {},
   "source": [
    "Definition of ingredients"
   ]
  },
  {
   "cell_type": "code",
   "execution_count": null,
   "metadata": {},
   "outputs": [],
   "source": [
    "# Define a mapping of synonyms (EN/DE) to unified ingredient names from the file from Peaks & Pies\n",
    "ingredient_map = pd.read_csv(\"data/Ingredient Mapping.csv\")"
   ]
  },
  {
   "cell_type": "markdown",
   "metadata": {},
   "source": [
    "Matching ingredients in comments"
   ]
  },
  {
   "cell_type": "code",
   "execution_count": null,
   "metadata": {},
   "outputs": [],
   "source": [
    "def find_ingredient(comment_text):\n",
    "    if pd.isnull(comment_text):\n",
    "        return []\n",
    "    matched = set()\n",
    "    for canonical, synonyms in ingredient_map.items():\n",
    "        for term in synonyms:\n",
    "            if re.search(rf\"(?<!\\w){re.escape(term)}(?!\\w)\", comment_text):\n",
    "                matched.add(canonical)\n",
    "                break\n",
    "    return list(matched)\n",
    "\n",
    "df[\"matched_ingredients\"] = df[\"comment\"].apply(find_ingredient)"
   ]
  },
  {
   "cell_type": "markdown",
   "metadata": {},
   "source": [
    "Time Series Analysis - top ingredients in comments"
   ]
  },
  {
   "cell_type": "code",
   "execution_count": null,
   "metadata": {},
   "outputs": [
    {
     "data": {
      "text/plain": [
       "<Figure size 1400x600 with 0 Axes>"
      ]
     },
     "metadata": {},
     "output_type": "display_data"
    },
    {
     "data": {
      "image/png": "[encoded data removed]",
      "text/plain": [
       "<Figure size 640x480 with 1 Axes>"
      ]
     },
     "metadata": {},
     "output_type": "display_data"
    }
   ],
   "source": [
    "# Build flat list for ingredient/week counts\n",
    "ingredient_mentions = []\n",
    "for _, row in df[[\"week\", \"matched_ingredients\"]].dropna().iterrows():\n",
    "    for ingredient in row[\"matched_ingredients\"]:\n",
    "        ingredient_mentions.append((row[\"week\"], ingredient))\n",
    "\n",
    "df_mentions = pd.DataFrame(ingredient_mentions, columns=[\"week\", \"ingredient\"])\n",
    "\n",
    "# Weekly counts\n",
    "weekly_counts = df_mentions.groupby([\"week\", \"ingredient\"]).size().reset_index(name=\"mention_count\")\n",
    "\n",
    "# Total comments per week\n",
    "comments_per_week = df.groupby(\"week\")[\"comment\"].count().reset_index(name=\"total_comments\")\n",
    "\n",
    "# Merge and normalize\n",
    "weekly_counts = weekly_counts.merge(comments_per_week, on=\"week\", how=\"left\")\n",
    "weekly_counts[\"mention_percent\"] = (weekly_counts[\"mention_count\"] / weekly_counts[\"total_comments\"]) * 100\n",
    "\n",
    "# Pivot and plot top 5\n",
    "pivot_df = weekly_counts.pivot(index=\"week\", columns=\"ingredient\", values=\"mention_percent\").fillna(0)\n",
    "top_5 = pivot_df.sum().sort_values(ascending=False).head(5).index\n",
    "pivot_df = pivot_df[top_5]\n",
    "\n",
    "plt.figure(figsize=(14, 6))\n",
    "pivot_df.plot(marker=\"o\")\n",
    "plt.title(\"Weekly Mentions of Top 5 Skincare Ingredients (% of Comments)\")\n",
    "plt.xlabel(\"Week\")\n",
    "plt.ylabel(\"Mentions (%)\")\n",
    "plt.grid(True, linestyle=\"--\", alpha=0.6)\n",
    "plt.legend(title=\"Ingredient\", bbox_to_anchor=(1.05, 1), loc=\"upper left\")\n",
    "plt.tight_layout()\n",
    "plt.show()"
   ]
  },
  {
   "cell_type": "markdown",
   "metadata": {},
   "source": [
    "Aggregate Stats (absolute + normalized mentions)"
   ]
  },
  {
   "cell_type": "code",
   "execution_count": null,
   "metadata": {},
   "outputs": [
    {
     "name": "stdout",
     "output_type": "stream",
     "text": [
      "Normalized Ingredient Stats:\n",
      "           ingredient  mention_count  mention_percent_total\n",
      "0           vitamin c            108              12.815918\n",
      "1             retinol             71               7.038381\n",
      "2         niacinamide             29               3.688334\n",
      "3           aloe vera             14               1.730738\n",
      "4     hyaluronic acid             14               1.230049\n",
      "5           bakuchiol             10               1.451606\n",
      "6    benzoyl peroxide              9               1.547811\n",
      "7           ceramides              7               0.687046\n",
      "8           panthenol              7               1.177826\n",
      "9            peptides              7               0.760052\n",
      "10      glycolic acid              6               0.535915\n",
      "11          green tea              6               0.552503\n",
      "12     salicylic acid              6               0.647394\n",
      "13           glycerin              5               0.378624\n",
      "14                pha              4               0.355899\n",
      "15  centella asiatica              3               0.353320\n",
      "16         kojic acid              3               0.171135\n",
      "17           squalane              3               0.234772\n",
      "18          chamomile              2               0.172233\n",
      "19      alpha arbutin              1               0.118483\n"
     ]
    }
   ],
   "source": [
    "normalized_mentions = (\n",
    "    weekly_counts.groupby(\"ingredient\")[\"mention_percent\"]\n",
    "    .sum()\n",
    "    .reset_index()\n",
    "    .rename(columns={\"mention_percent\": \"mention_percent_total\"})\n",
    ")\n",
    "\n",
    "absolute_counts = (\n",
    "    df_mentions.groupby(\"ingredient\")\n",
    "    .size()\n",
    "    .reset_index(name=\"mention_count\")\n",
    ")\n",
    "\n",
    "ingredient_stats_full = pd.merge(absolute_counts, normalized_mentions, on=\"ingredient\", how=\"left\")\n",
    "ingredient_stats_full = ingredient_stats_full.sort_values(by=\"mention_count\", ascending=False).reset_index(drop=True)\n",
    "\n",
    "print(\"Normalized Ingredient Stats:\")\n",
    "print(ingredient_stats_full.head(20))"
   ]
  },
  {
   "cell_type": "markdown",
   "metadata": {},
   "source": [
    "Engagement Analysis (for ingredients with ≥20 mentions)"
   ]
  },
  {
   "cell_type": "code",
   "execution_count": null,
   "metadata": {},
   "outputs": [
    {
     "data": {
      "image/png": "[encoded data removed]",
      "text/plain": [
       "<Figure size 1000x600 with 1 Axes>"
      ]
     },
     "metadata": {},
     "output_type": "display_data"
    }
   ],
   "source": [
    "df_filtered = df[df[\"matched_ingredients\"].str.len() > 0].copy()\n",
    "df_filtered[\"engagement_rate\"] = (\n",
    "    df_filtered[\"diggCount\"] + df_filtered[\"commentCount\"] + df_filtered[\"shareCount\"]\n",
    ") / df_filtered[\"playCount\"]\n",
    "\n",
    "df_exploded = df_filtered.explode(\"matched_ingredients\")\n",
    "\n",
    "ingredient_counts = (\n",
    "    df_exploded.groupby(\"matched_ingredients\")\n",
    "    .size()\n",
    "    .reset_index(name=\"mention_count\")\n",
    ")\n",
    "\n",
    "valid_ingredients = ingredient_counts[ingredient_counts[\"mention_count\"] >= 20][\"matched_ingredients\"]\n",
    "df_exploded_filtered = df_exploded[df_exploded[\"matched_ingredients\"].isin(valid_ingredients)]\n",
    "\n",
    "ingredient_stats = (\n",
    "    df_exploded_filtered.groupby(\"matched_ingredients\")[\"engagement_rate\"]\n",
    "    .mean()\n",
    "    .sort_values(ascending=False)\n",
    "    .reset_index()\n",
    ")\n",
    "\n",
    "plt.figure(figsize=(10, 6))\n",
    "sns.barplot(data=ingredient_stats, x=\"engagement_rate\", y=\"matched_ingredients\")\n",
    "plt.title(\"Average Engagement Rate per Skincare Ingredient (Min. 20 Mentions in Comments)\")\n",
    "plt.xlabel(\"Engagement Rate\")\n",
    "plt.ylabel(\"Ingredient\")\n",
    "plt.tight_layout()\n",
    "plt.show()"
   ]
  },
  {
   "cell_type": "markdown",
   "metadata": {},
   "source": [
    "Sentiment analysis per ingredient"
   ]
  },
  {
   "cell_type": "code",
   "execution_count": null,
   "metadata": {},
   "outputs": [
    {
     "name": "stderr",
     "output_type": "stream",
     "text": [
      "Some weights of the model checkpoint at cardiffnlp/twitter-roberta-base-sentiment-latest were not used when initializing RobertaForSequenceClassification: ['roberta.pooler.dense.bias', 'roberta.pooler.dense.weight']\n",
      "- This IS expected if you are initializing RobertaForSequenceClassification from the checkpoint of a model trained on another task or with another architecture (e.g. initializing a BertForSequenceClassification model from a BertForPreTraining model).\n",
      "- This IS NOT expected if you are initializing RobertaForSequenceClassification from the checkpoint of a model that you expect to be exactly identical (initializing a BertForSequenceClassification model from a BertForSequenceClassification model).\n",
      "Device set to use cpu\n"
     ]
    },
    {
     "data": {
      "application/vnd.microsoft.datawrangler.viewer.v0+json": {
       "columns": [
        {
         "name": "matched_ingredients",
         "rawType": "object",
         "type": "string"
        },
        {
         "name": "negative",
         "rawType": "float64",
         "type": "float"
        },
        {
         "name": "neutral",
         "rawType": "float64",
         "type": "float"
        },
        {
         "name": "positive",
         "rawType": "float64",
         "type": "float"
        },
        {
         "name": "total_mentions",
         "rawType": "float64",
         "type": "float"
        }
       ],
       "conversionMethod": "pd.DataFrame",
       "ref": "72ac037a-72a2-4823-be60-f7ae5ac33c28",
       "rows": [
        [
         "vitamin c",
         "9.25925925925926",
         "61.111111111111114",
         "29.629629629629626",
         "108.0"
        ],
        [
         "retinol",
         "16.901408450704224",
         "64.7887323943662",
         "18.30985915492958",
         "71.0"
        ],
        [
         "niacinamide",
         "20.689655172413794",
         "72.41379310344827",
         "6.896551724137931",
         "29.0"
        ],
        [
         "aloe vera",
         "7.142857142857142",
         "42.857142857142854",
         "50.0",
         "14.0"
        ],
        [
         "hyaluronic acid",
         "35.714285714285715",
         "57.14285714285714",
         "7.142857142857142",
         "14.0"
        ],
        [
         "bakuchiol",
         "10.0",
         "30.0",
         "60.0",
         "10.0"
        ],
        [
         "benzoyl peroxide",
         "44.44444444444444",
         "33.33333333333333",
         "22.22222222222222",
         "9.0"
        ],
        [
         "ceramides",
         "0.0",
         "71.42857142857143",
         "28.57142857142857",
         "7.0"
        ],
        [
         "panthenol",
         "42.857142857142854",
         "42.857142857142854",
         "14.285714285714285",
         "7.0"
        ],
        [
         "peptides",
         "14.285714285714285",
         "42.857142857142854",
         "42.857142857142854",
         "7.0"
        ],
        [
         "glycolic acid",
         "0.0",
         "66.66666666666666",
         "33.33333333333333",
         "6.0"
        ],
        [
         "green tea",
         "16.666666666666664",
         "66.66666666666666",
         "16.666666666666664",
         "6.0"
        ],
        [
         "salicylic acid",
         "16.666666666666664",
         "33.33333333333333",
         "50.0",
         "6.0"
        ],
        [
         "glycerin",
         "20.0",
         "40.0",
         "40.0",
         "5.0"
        ],
        [
         "pha",
         "0.0",
         "75.0",
         "25.0",
         "4.0"
        ],
        [
         "centella asiatica",
         "66.66666666666666",
         "33.33333333333333",
         "0.0",
         "3.0"
        ],
        [
         "kojic acid",
         "66.66666666666666",
         "33.33333333333333",
         "0.0",
         "3.0"
        ],
        [
         "squalane",
         "0.0",
         "33.33333333333333",
         "66.66666666666666",
         "3.0"
        ],
        [
         "chamomile",
         "0.0",
         "50.0",
         "50.0",
         "2.0"
        ],
        [
         "alpha arbutin",
         "0.0",
         "100.0",
         "0.0",
         "1.0"
        ]
       ],
       "shape": {
        "columns": 4,
        "rows": 20
       }
      },
      "text/html": [
       "<div>\n",
       "<style scoped>\n",
       "    .dataframe tbody tr th:only-of-type {\n",
       "        vertical-align: middle;\n",
       "    }\n",
       "\n",
       "    .dataframe tbody tr th {\n",
       "        vertical-align: top;\n",
       "    }\n",
       "\n",
       "    .dataframe thead th {\n",
       "        text-align: right;\n",
       "    }\n",
       "</style>\n",
       "<table border=\"1\" class=\"dataframe\">\n",
       "  <thead>\n",
       "    <tr style=\"text-align: right;\">\n",
       "      <th>sentiment</th>\n",
       "      <th>negative</th>\n",
       "      <th>neutral</th>\n",
       "      <th>positive</th>\n",
       "      <th>total_mentions</th>\n",
       "    </tr>\n",
       "    <tr>\n",
       "      <th>matched_ingredients</th>\n",
       "      <th></th>\n",
       "      <th></th>\n",
       "      <th></th>\n",
       "      <th></th>\n",
       "    </tr>\n",
       "  </thead>\n",
       "  <tbody>\n",
       "    <tr>\n",
       "      <th>vitamin c</th>\n",
       "      <td>9.259259</td>\n",
       "      <td>61.111111</td>\n",
       "      <td>29.629630</td>\n",
       "      <td>108.0</td>\n",
       "    </tr>\n",
       "    <tr>\n",
       "      <th>retinol</th>\n",
       "      <td>16.901408</td>\n",
       "      <td>64.788732</td>\n",
       "      <td>18.309859</td>\n",
       "      <td>71.0</td>\n",
       "    </tr>\n",
       "    <tr>\n",
       "      <th>niacinamide</th>\n",
       "      <td>20.689655</td>\n",
       "      <td>72.413793</td>\n",
       "      <td>6.896552</td>\n",
       "      <td>29.0</td>\n",
       "    </tr>\n",
       "    <tr>\n",
       "      <th>aloe vera</th>\n",
       "      <td>7.142857</td>\n",
       "      <td>42.857143</td>\n",
       "      <td>50.000000</td>\n",
       "      <td>14.0</td>\n",
       "    </tr>\n",
       "    <tr>\n",
       "      <th>hyaluronic acid</th>\n",
       "      <td>35.714286</td>\n",
       "      <td>57.142857</td>\n",
       "      <td>7.142857</td>\n",
       "      <td>14.0</td>\n",
       "    </tr>\n",
       "    <tr>\n",
       "      <th>bakuchiol</th>\n",
       "      <td>10.000000</td>\n",
       "      <td>30.000000</td>\n",
       "      <td>60.000000</td>\n",
       "      <td>10.0</td>\n",
       "    </tr>\n",
       "    <tr>\n",
       "      <th>benzoyl peroxide</th>\n",
       "      <td>44.444444</td>\n",
       "      <td>33.333333</td>\n",
       "      <td>22.222222</td>\n",
       "      <td>9.0</td>\n",
       "    </tr>\n",
       "    <tr>\n",
       "      <th>ceramides</th>\n",
       "      <td>0.000000</td>\n",
       "      <td>71.428571</td>\n",
       "      <td>28.571429</td>\n",
       "      <td>7.0</td>\n",
       "    </tr>\n",
       "    <tr>\n",
       "      <th>panthenol</th>\n",
       "      <td>42.857143</td>\n",
       "      <td>42.857143</td>\n",
       "      <td>14.285714</td>\n",
       "      <td>7.0</td>\n",
       "    </tr>\n",
       "    <tr>\n",
       "      <th>peptides</th>\n",
       "      <td>14.285714</td>\n",
       "      <td>42.857143</td>\n",
       "      <td>42.857143</td>\n",
       "      <td>7.0</td>\n",
       "    </tr>\n",
       "    <tr>\n",
       "      <th>glycolic acid</th>\n",
       "      <td>0.000000</td>\n",
       "      <td>66.666667</td>\n",
       "      <td>33.333333</td>\n",
       "      <td>6.0</td>\n",
       "    </tr>\n",
       "    <tr>\n",
       "      <th>green tea</th>\n",
       "      <td>16.666667</td>\n",
       "      <td>66.666667</td>\n",
       "      <td>16.666667</td>\n",
       "      <td>6.0</td>\n",
       "    </tr>\n",
       "    <tr>\n",
       "      <th>salicylic acid</th>\n",
       "      <td>16.666667</td>\n",
       "      <td>33.333333</td>\n",
       "      <td>50.000000</td>\n",
       "      <td>6.0</td>\n",
       "    </tr>\n",
       "    <tr>\n",
       "      <th>glycerin</th>\n",
       "      <td>20.000000</td>\n",
       "      <td>40.000000</td>\n",
       "      <td>40.000000</td>\n",
       "      <td>5.0</td>\n",
       "    </tr>\n",
       "    <tr>\n",
       "      <th>pha</th>\n",
       "      <td>0.000000</td>\n",
       "      <td>75.000000</td>\n",
       "      <td>25.000000</td>\n",
       "      <td>4.0</td>\n",
       "    </tr>\n",
       "    <tr>\n",
       "      <th>centella asiatica</th>\n",
       "      <td>66.666667</td>\n",
       "      <td>33.333333</td>\n",
       "      <td>0.000000</td>\n",
       "      <td>3.0</td>\n",
       "    </tr>\n",
       "    <tr>\n",
       "      <th>kojic acid</th>\n",
       "      <td>66.666667</td>\n",
       "      <td>33.333333</td>\n",
       "      <td>0.000000</td>\n",
       "      <td>3.0</td>\n",
       "    </tr>\n",
       "    <tr>\n",
       "      <th>squalane</th>\n",
       "      <td>0.000000</td>\n",
       "      <td>33.333333</td>\n",
       "      <td>66.666667</td>\n",
       "      <td>3.0</td>\n",
       "    </tr>\n",
       "    <tr>\n",
       "      <th>chamomile</th>\n",
       "      <td>0.000000</td>\n",
       "      <td>50.000000</td>\n",
       "      <td>50.000000</td>\n",
       "      <td>2.0</td>\n",
       "    </tr>\n",
       "    <tr>\n",
       "      <th>alpha arbutin</th>\n",
       "      <td>0.000000</td>\n",
       "      <td>100.000000</td>\n",
       "      <td>0.000000</td>\n",
       "      <td>1.0</td>\n",
       "    </tr>\n",
       "  </tbody>\n",
       "</table>\n",
       "</div>"
      ],
      "text/plain": [
       "sentiment             negative     neutral   positive  total_mentions\n",
       "matched_ingredients                                                  \n",
       "vitamin c             9.259259   61.111111  29.629630           108.0\n",
       "retinol              16.901408   64.788732  18.309859            71.0\n",
       "niacinamide          20.689655   72.413793   6.896552            29.0\n",
       "aloe vera             7.142857   42.857143  50.000000            14.0\n",
       "hyaluronic acid      35.714286   57.142857   7.142857            14.0\n",
       "bakuchiol            10.000000   30.000000  60.000000            10.0\n",
       "benzoyl peroxide     44.444444   33.333333  22.222222             9.0\n",
       "ceramides             0.000000   71.428571  28.571429             7.0\n",
       "panthenol            42.857143   42.857143  14.285714             7.0\n",
       "peptides             14.285714   42.857143  42.857143             7.0\n",
       "glycolic acid         0.000000   66.666667  33.333333             6.0\n",
       "green tea            16.666667   66.666667  16.666667             6.0\n",
       "salicylic acid       16.666667   33.333333  50.000000             6.0\n",
       "glycerin             20.000000   40.000000  40.000000             5.0\n",
       "pha                   0.000000   75.000000  25.000000             4.0\n",
       "centella asiatica    66.666667   33.333333   0.000000             3.0\n",
       "kojic acid           66.666667   33.333333   0.000000             3.0\n",
       "squalane              0.000000   33.333333  66.666667             3.0\n",
       "chamomile             0.000000   50.000000  50.000000             2.0\n",
       "alpha arbutin         0.000000  100.000000   0.000000             1.0"
      ]
     },
     "metadata": {},
     "output_type": "display_data"
    }
   ],
   "source": [
    "sentiment_pipe = pipeline(\"text-classification\", model=\"cardiffnlp/twitter-roberta-base-sentiment-latest\", batch_size=32)\n",
    "\n",
    "# Sentiment function\n",
    "def analyze_sentiment(text):\n",
    "    try:\n",
    "        result = sentiment_pipe(text, truncation=True, max_length=512)[0]\n",
    "        return pd.Series({\n",
    "            \"sentiment\": result[\"label\"],\n",
    "            \"confidence\": result[\"score\"]\n",
    "        })\n",
    "    except Exception:\n",
    "        return pd.Series({\n",
    "            \"sentiment\": \"error\",\n",
    "            \"confidence\": 0.0\n",
    "        })\n",
    "\n",
    "# Apply only on rows with matched ingredients\n",
    "df_sentiment = df[df[\"matched_ingredients\"].str.len() > 0].copy()\n",
    "df_sentiment[[\"sentiment\", \"confidence\"]] = df_sentiment[\"comment\"].apply(analyze_sentiment)\n",
    "\n",
    "# Explode to 1 row per ingredient\n",
    "df_sentiment_exploded = df_sentiment.explode(\"matched_ingredients\")\n",
    "\n",
    "# Group by ingredient and sentiment\n",
    "ingredient_sentiment = (\n",
    "    df_sentiment_exploded.groupby([\"matched_ingredients\", \"sentiment\"])\n",
    "    .size()\n",
    "    .reset_index(name=\"count\")\n",
    ")\n",
    "\n",
    "# Pivot for wide format\n",
    "ingredient_sentiment_pivot = ingredient_sentiment.pivot(\n",
    "    index=\"matched_ingredients\", columns=\"sentiment\", values=\"count\"\n",
    ").fillna(0)\n",
    "\n",
    "# Absolute total mentions\n",
    "ingredient_sentiment_pivot[\"total_mentions\"] = ingredient_sentiment_pivot.sum(axis=1)\n",
    "\n",
    "# Normalize to percentage\n",
    "ingredient_sentiment_pct = ingredient_sentiment_pivot.div(ingredient_sentiment_pivot[\"total_mentions\"], axis=0) * 100\n",
    "\n",
    "# Re-attach the absolute counts as a column (not normalized)\n",
    "ingredient_sentiment_pct[\"total_mentions\"] = ingredient_sentiment_pivot[\"total_mentions\"]\n",
    "\n",
    "# Sort by total_mentions\n",
    "ingredient_sentiment_pct = ingredient_sentiment_pct.sort_values(by=\"total_mentions\", ascending=False)\n",
    "\n",
    "# Show top 30\n",
    "ingredient_sentiment_pct.head(30)"
   ]
  },
  {
   "cell_type": "markdown",
   "metadata": {},
   "source": [
    "Plot sentiment analysis"
   ]
  },
  {
   "cell_type": "code",
   "execution_count": null,
   "metadata": {},
   "outputs": [
    {
     "data": {
      "image/png": "[encoded data removed]",
      "text/plain": [
       "<Figure size 1000x600 with 1 Axes>"
      ]
     },
     "metadata": {},
     "output_type": "display_data"
    }
   ],
   "source": [
    "# Select top 10 ingredients based on total_mentions\n",
    "top_ingredients = ingredient_sentiment_pct.sort_values(by=\"total_mentions\", ascending=False).head(10)\n",
    "\n",
    "# Sort left-to-right by total_mentions\n",
    "top_ingredients = top_ingredients.sort_values(by=\"total_mentions\", ascending=True)\n",
    "\n",
    "# Create new index labels with total mention count\n",
    "renamed_index = [\n",
    "    f\"{ingredient} ({int(total)})\"\n",
    "    for ingredient, total in zip(top_ingredients.index, top_ingredients[\"total_mentions\"])\n",
    "]\n",
    "\n",
    "# Select only sentiment columns (exclude total_mentions)\n",
    "sentiment_cols = [col for col in top_ingredients.columns if col not in [\"total_mentions\"]]\n",
    "\n",
    "# Re-assign index to include mention count in labels\n",
    "top_ingredients_sentiments = top_ingredients[sentiment_cols]\n",
    "top_ingredients_sentiments.index = renamed_index\n",
    "\n",
    "# Plot stacked bar chart\n",
    "top_ingredients_sentiments.plot(kind=\"barh\", stacked=True, figsize=(10, 6))  # horizontal for better label fit\n",
    "plt.title(\"Sentiment Distribution per Ingredient (Top 10 by Mentions)\")\n",
    "plt.xlabel(\"Percentage of Comments\")\n",
    "plt.ylabel(\"Ingredient (Total Mentions)\")\n",
    "plt.legend(title=\"Sentiment\", bbox_to_anchor=(1.05, 1), loc=\"upper left\")\n",
    "plt.tight_layout()\n",
    "plt.show()\n"
   ]
  },
  {
   "cell_type": "markdown",
   "metadata": {},
   "source": [
    "Representative comments per sentiment and ingredient"
   ]
  },
  {
   "cell_type": "code",
   "execution_count": null,
   "metadata": {},
   "outputs": [
    {
     "data": {
      "application/vnd.microsoft.datawrangler.viewer.v0+json": {
       "columns": [
        {
         "name": "index",
         "rawType": "int64",
         "type": "integer"
        },
        {
         "name": "matched_ingredients",
         "rawType": "object",
         "type": "string"
        },
        {
         "name": "sentiment",
         "rawType": "object",
         "type": "string"
        },
        {
         "name": "text_comment",
         "rawType": "object",
         "type": "string"
        },
        {
         "name": "confidence",
         "rawType": "float64",
         "type": "float"
        }
       ],
       "conversionMethod": "pd.DataFrame",
       "ref": "09be1ebb-812a-4738-b136-ae1ca2d00d72",
       "rows": [
        [
         "0",
         "niacinamide",
         "negative",
         "my skin hate niacinamide 🧢",
         "0.9145442843437195"
        ],
        [
         "1",
         "niacinamide",
         "neutral",
         "can i use it with the ordinary niacinamide?",
         "0.924256443977356"
        ],
        [
         "2",
         "niacinamide",
         "positive",
         "i am using anua niacinamide and madacascar centella it works great on my face..i have combination acne skin and it heals fast ..",
         "0.9625213146209717"
        ],
        [
         "3",
         "retinol",
         "negative",
         "retinol damaged my skin barrier and gives me perioral dermatitis so what do i even do ab that 😭",
         "0.9185521602630615"
        ],
        [
         "4",
         "retinol",
         "neutral",
         "retinol??? which one do you rec?",
         "0.9488084316253662"
        ],
        [
         "5",
         "retinol",
         "positive",
         "so honored to be your retinol ❤️❤️❤️❤️",
         "0.9863384366035461"
        ],
        [
         "6",
         "vitamin c",
         "negative",
         "vitamin c is always way too expensive ☹️",
         "0.9187997579574585"
        ],
        [
         "7",
         "vitamin c",
         "neutral",
         "is it ok to have a vitamin c serum combined with hyaluronic acid in it aswell? or should they be applied separately",
         "0.934136152267456"
        ],
        [
         "8",
         "vitamin c",
         "positive",
         "that's vitamin c i will invest in 🌸🌸🌸 love it 🎀🎀🎀",
         "0.988166093826294"
        ]
       ],
       "shape": {
        "columns": 4,
        "rows": 9
       }
      },
      "text/html": [
       "<div>\n",
       "<style scoped>\n",
       "    .dataframe tbody tr th:only-of-type {\n",
       "        vertical-align: middle;\n",
       "    }\n",
       "\n",
       "    .dataframe tbody tr th {\n",
       "        vertical-align: top;\n",
       "    }\n",
       "\n",
       "    .dataframe thead th {\n",
       "        text-align: right;\n",
       "    }\n",
       "</style>\n",
       "<table border=\"1\" class=\"dataframe\">\n",
       "  <thead>\n",
       "    <tr style=\"text-align: right;\">\n",
       "      <th></th>\n",
       "      <th>matched_ingredients</th>\n",
       "      <th>sentiment</th>\n",
       "      <th>text_comment</th>\n",
       "      <th>confidence</th>\n",
       "    </tr>\n",
       "  </thead>\n",
       "  <tbody>\n",
       "    <tr>\n",
       "      <th>0</th>\n",
       "      <td>niacinamide</td>\n",
       "      <td>negative</td>\n",
       "      <td>my skin hate niacinamide 🧢</td>\n",
       "      <td>0.914544</td>\n",
       "    </tr>\n",
       "    <tr>\n",
       "      <th>1</th>\n",
       "      <td>niacinamide</td>\n",
       "      <td>neutral</td>\n",
       "      <td>can i use it with the ordinary niacinamide?</td>\n",
       "      <td>0.924256</td>\n",
       "    </tr>\n",
       "    <tr>\n",
       "      <th>2</th>\n",
       "      <td>niacinamide</td>\n",
       "      <td>positive</td>\n",
       "      <td>i am using anua niacinamide and madacascar cen...</td>\n",
       "      <td>0.962521</td>\n",
       "    </tr>\n",
       "    <tr>\n",
       "      <th>3</th>\n",
       "      <td>retinol</td>\n",
       "      <td>negative</td>\n",
       "      <td>retinol damaged my skin barrier and gives me p...</td>\n",
       "      <td>0.918552</td>\n",
       "    </tr>\n",
       "    <tr>\n",
       "      <th>4</th>\n",
       "      <td>retinol</td>\n",
       "      <td>neutral</td>\n",
       "      <td>retinol??? which one do you rec?</td>\n",
       "      <td>0.948808</td>\n",
       "    </tr>\n",
       "    <tr>\n",
       "      <th>5</th>\n",
       "      <td>retinol</td>\n",
       "      <td>positive</td>\n",
       "      <td>so honored to be your retinol ❤️❤️❤️❤️</td>\n",
       "      <td>0.986338</td>\n",
       "    </tr>\n",
       "    <tr>\n",
       "      <th>6</th>\n",
       "      <td>vitamin c</td>\n",
       "      <td>negative</td>\n",
       "      <td>vitamin c is always way too expensive ☹️</td>\n",
       "      <td>0.918800</td>\n",
       "    </tr>\n",
       "    <tr>\n",
       "      <th>7</th>\n",
       "      <td>vitamin c</td>\n",
       "      <td>neutral</td>\n",
       "      <td>is it ok to have a vitamin c serum combined wi...</td>\n",
       "      <td>0.934136</td>\n",
       "    </tr>\n",
       "    <tr>\n",
       "      <th>8</th>\n",
       "      <td>vitamin c</td>\n",
       "      <td>positive</td>\n",
       "      <td>that's vitamin c i will invest in 🌸🌸🌸 love it 🎀🎀🎀</td>\n",
       "      <td>0.988166</td>\n",
       "    </tr>\n",
       "  </tbody>\n",
       "</table>\n",
       "</div>"
      ],
      "text/plain": [
       "  matched_ingredients sentiment  \\\n",
       "0         niacinamide  negative   \n",
       "1         niacinamide   neutral   \n",
       "2         niacinamide  positive   \n",
       "3             retinol  negative   \n",
       "4             retinol   neutral   \n",
       "5             retinol  positive   \n",
       "6           vitamin c  negative   \n",
       "7           vitamin c   neutral   \n",
       "8           vitamin c  positive   \n",
       "\n",
       "                                        text_comment  confidence  \n",
       "0                         my skin hate niacinamide 🧢    0.914544  \n",
       "1        can i use it with the ordinary niacinamide?    0.924256  \n",
       "2  i am using anua niacinamide and madacascar cen...    0.962521  \n",
       "3  retinol damaged my skin barrier and gives me p...    0.918552  \n",
       "4                   retinol??? which one do you rec?    0.948808  \n",
       "5             so honored to be your retinol ❤️❤️❤️❤️    0.986338  \n",
       "6           vitamin c is always way too expensive ☹️    0.918800  \n",
       "7  is it ok to have a vitamin c serum combined wi...    0.934136  \n",
       "8  that's vitamin c i will invest in 🌸🌸🌸 love it 🎀🎀🎀    0.988166  "
      ]
     },
     "metadata": {},
     "output_type": "display_data"
    }
   ],
   "source": [
    "# Step 1: Filter to valid sentiments only\n",
    "df_sentiment_clean = df_sentiment_exploded[\n",
    "    df_sentiment_exploded[\"sentiment\"].isin([\"positive\", \"neutral\", \"negative\"])\n",
    "]\n",
    "\n",
    "# Step 2: Get ingredients with >20 mentions\n",
    "ingredient_counts = df_sentiment_clean[\"matched_ingredients\"].value_counts()\n",
    "frequent_ingredients = ingredient_counts[ingredient_counts > 20].index\n",
    "\n",
    "# Step 3: Filter to those frequent ingredients only\n",
    "df_sentiment_clean = df_sentiment_clean[df_sentiment_clean[\"matched_ingredients\"].isin(frequent_ingredients)]\n",
    "\n",
    "# Step 4: Select one top-confidence comment per ingredient & sentiment\n",
    "example_comments = (\n",
    "    df_sentiment_clean.sort_values(by=\"confidence\", ascending=False)\n",
    "    .groupby([\"matched_ingredients\", \"sentiment\"])\n",
    "    .first()\n",
    "    .reset_index()[[\"matched_ingredients\", \"sentiment\", \"comment\", \"confidence\"]]\n",
    ")\n",
    "\n",
    "# Optional: sort for easier readability\n",
    "example_comments = example_comments.sort_values(by=[\"matched_ingredients\", \"sentiment\"])\n",
    "\n",
    "# Show the result\n",
    "example_comments.head(30)\n"
   ]
  },
  {
   "cell_type": "markdown",
   "metadata": {},
   "source": [
    "# Common Routines"
   ]
  },
  {
   "cell_type": "markdown",
   "metadata": {},
   "source": [
    "##### Basic counts of routine_steps"
   ]
  },
  {
   "cell_type": "markdown",
   "metadata": {},
   "source": [
    "Here we have some routine steps that chatgpt and google defined. "
   ]
  },
  {
   "cell_type": "code",
   "execution_count": 37,
   "metadata": {},
   "outputs": [
    {
     "name": "stdout",
     "output_type": "stream",
     "text": [
      "\n",
      "Most common skincare steps mentioned:\n"
     ]
    },
    {
     "data": {
      "text/plain": [
       "found_routine_steps\n",
       "serum             1756\n",
       "cleanse           1103\n",
       "mask               933\n",
       "toner              911\n",
       "moisturizer        909\n",
       "oil                885\n",
       "sunscreen          504\n",
       "treatment          346\n",
       "eye cream          310\n",
       "essence            220\n",
       "exfoliate          136\n",
       "double cleanse      86\n",
       "primer              83\n",
       "spot treatment      41\n",
       "face massage        13\n",
       "Name: count, dtype: int64"
      ]
     },
     "execution_count": 37,
     "metadata": {},
     "output_type": "execute_result"
    }
   ],
   "source": [
    "\n",
    "\n",
    "routine_steps = [\n",
    "    'cleanse', 'double cleanse', 'toner', 'serum', 'moisturizer',\n",
    "    'eye cream', 'sunscreen', 'exfoliate', 'mask', 'face massage',\n",
    "    'treatment', 'essence', 'oil', 'spot treatment', 'primer'\n",
    "]\n",
    "\n",
    "# 4. Function to find routine steps mentioned in the text\n",
    "def find_routine_steps(text, routine_steps_list):\n",
    "    found = [step for step in routine_steps_list if step in text]\n",
    "    return found\n",
    "\n",
    "# 5. Apply the function to the combined text\n",
    "tiktok_transcrips['found_routine_steps'] = tiktok_transcrips['combined_text'].apply(lambda x: find_routine_steps(x, routine_steps))\n",
    "\n",
    "\n",
    "# 7. (Bonus) Create a frequency table of routine steps\n",
    "# Explode list into rows\n",
    "all_steps = tiktok_transcrips['found_routine_steps'].explode()\n",
    "\n",
    "# Count occurrences\n",
    "step_counts = all_steps.value_counts()\n",
    "\n",
    "# Print most common steps\n",
    "print(\"\\nMost common skincare steps mentioned:\")\n",
    "step_counts\n"
   ]
  },
  {
   "cell_type": "markdown",
   "metadata": {},
   "source": [
    "##### Finding out the timing of the transcription"
   ]
  },
  {
   "cell_type": "markdown",
   "metadata": {},
   "source": [
    "We try to find the time keywords in the transcripts based on some known keywords of time"
   ]
  },
  {
   "cell_type": "code",
   "execution_count": 60,
   "metadata": {},
   "outputs": [
    {
     "name": "stdout",
     "output_type": "stream",
     "text": [
      "Routine Step Percentages by Time of Day:\n"
     ]
    },
    {
     "data": {
      "text/html": [
       "<div>\n",
       "<style scoped>\n",
       "    .dataframe tbody tr th:only-of-type {\n",
       "        vertical-align: middle;\n",
       "    }\n",
       "\n",
       "    .dataframe tbody tr th {\n",
       "        vertical-align: top;\n",
       "    }\n",
       "\n",
       "    .dataframe thead th {\n",
       "        text-align: right;\n",
       "    }\n",
       "</style>\n",
       "<table border=\"1\" class=\"dataframe\">\n",
       "  <thead>\n",
       "    <tr style=\"text-align: right;\">\n",
       "      <th>found_routine_steps</th>\n",
       "      <th>cleanse</th>\n",
       "      <th>double cleanse</th>\n",
       "      <th>essence</th>\n",
       "      <th>exfoliate</th>\n",
       "      <th>eye cream</th>\n",
       "      <th>face massage</th>\n",
       "      <th>mask</th>\n",
       "      <th>moisturizer</th>\n",
       "      <th>oil</th>\n",
       "      <th>primer</th>\n",
       "      <th>serum</th>\n",
       "      <th>spot treatment</th>\n",
       "      <th>sunscreen</th>\n",
       "      <th>toner</th>\n",
       "      <th>treatment</th>\n",
       "    </tr>\n",
       "    <tr>\n",
       "      <th>time_of_day</th>\n",
       "      <th></th>\n",
       "      <th></th>\n",
       "      <th></th>\n",
       "      <th></th>\n",
       "      <th></th>\n",
       "      <th></th>\n",
       "      <th></th>\n",
       "      <th></th>\n",
       "      <th></th>\n",
       "      <th></th>\n",
       "      <th></th>\n",
       "      <th></th>\n",
       "      <th></th>\n",
       "      <th></th>\n",
       "      <th></th>\n",
       "    </tr>\n",
       "  </thead>\n",
       "  <tbody>\n",
       "    <tr>\n",
       "      <th>morning</th>\n",
       "      <td>13.870777</td>\n",
       "      <td>0.266746</td>\n",
       "      <td>3.200948</td>\n",
       "      <td>1.066983</td>\n",
       "      <td>5.720213</td>\n",
       "      <td>0.148192</td>\n",
       "      <td>10.254890</td>\n",
       "      <td>10.165975</td>\n",
       "      <td>9.958506</td>\n",
       "      <td>0.207469</td>\n",
       "      <td>22.554831</td>\n",
       "      <td>0.266746</td>\n",
       "      <td>7.053942</td>\n",
       "      <td>12.270302</td>\n",
       "      <td>2.993480</td>\n",
       "    </tr>\n",
       "    <tr>\n",
       "      <th>night</th>\n",
       "      <td>15.825170</td>\n",
       "      <td>0.979653</td>\n",
       "      <td>2.562170</td>\n",
       "      <td>0.828937</td>\n",
       "      <td>5.727204</td>\n",
       "      <td>0.301432</td>\n",
       "      <td>12.283346</td>\n",
       "      <td>12.057272</td>\n",
       "      <td>10.625471</td>\n",
       "      <td>0.000000</td>\n",
       "      <td>19.894499</td>\n",
       "      <td>0.527506</td>\n",
       "      <td>4.521477</td>\n",
       "      <td>10.474755</td>\n",
       "      <td>3.391108</td>\n",
       "    </tr>\n",
       "  </tbody>\n",
       "</table>\n",
       "</div>"
      ],
      "text/plain": [
       "found_routine_steps    cleanse  double cleanse   essence  exfoliate  \\\n",
       "time_of_day                                                           \n",
       "morning              13.870777        0.266746  3.200948   1.066983   \n",
       "night                15.825170        0.979653  2.562170   0.828937   \n",
       "\n",
       "found_routine_steps  eye cream  face massage       mask  moisturizer  \\\n",
       "time_of_day                                                            \n",
       "morning               5.720213      0.148192  10.254890    10.165975   \n",
       "night                 5.727204      0.301432  12.283346    12.057272   \n",
       "\n",
       "found_routine_steps        oil    primer      serum  spot treatment  \\\n",
       "time_of_day                                                           \n",
       "morning               9.958506  0.207469  22.554831        0.266746   \n",
       "night                10.625471  0.000000  19.894499        0.527506   \n",
       "\n",
       "found_routine_steps  sunscreen      toner  treatment  \n",
       "time_of_day                                           \n",
       "morning               7.053942  12.270302   2.993480  \n",
       "night                 4.521477  10.474755   3.391108  "
      ]
     },
     "execution_count": 60,
     "metadata": {},
     "output_type": "execute_result"
    }
   ],
   "source": [
    "# Step 1: Extract time-related keywords from the text\n",
    "def find_time_of_day(text):\n",
    "    time_keywords = ['morning', 'am', 'night', 'pm','start of the day', 'end of the day', 'evening']\n",
    "    time_of_day = None\n",
    "\n",
    "    # Check if any time-related keyword is in the text\n",
    "    for keyword in time_keywords:\n",
    "        if keyword in text:\n",
    "            if 'morning' in keyword or 'am' in keyword or 'start of the day' in keyword:\n",
    "                time_of_day = 'morning'\n",
    "            elif 'night' in keyword or 'pm'  in keyword or 'end of the day' in keyword or 'evening' in keyword:\n",
    "                time_of_day = 'night'\n",
    "    \n",
    "    return time_of_day\n",
    "\n",
    "# Step 2: Function to identify which skincare routine steps are mentioned\n",
    "def find_routine_steps(text, routine_steps_list):\n",
    "    found = [step for step in routine_steps_list if step in text]\n",
    "    return found\n",
    "\n",
    "\n",
    "# Extract time of day and routine steps\n",
    "tiktok_transcrips['time_of_day'] = tiktok_transcrips['combined_text'].apply(find_time_of_day)\n",
    "tiktok_transcrips['found_routine_steps'] = tiktok_transcrips['combined_text'].apply(lambda x: find_routine_steps(x, routine_steps))\n",
    "\n",
    "# Step 4: Exploding the found routine steps to count occurrences\n",
    "exploded_routine_steps = tiktok_transcrips.explode('found_routine_steps')\n",
    "\n",
    "# Step 5: Group by time of day and skincare routine step\n",
    "routine_by_time = exploded_routine_steps.groupby(['time_of_day', 'found_routine_steps']).size().unstack(fill_value=0)\n",
    "\n",
    "# Step 6: Calculate percentages for each routine step by time of day\n",
    "routine_percentage_by_time = routine_by_time.div(routine_by_time.sum(axis=1), axis=0) * 100\n",
    "\n",
    "# Print the percentage distribution of each routine step by time of day\n",
    "print(\"Routine Step Percentages by Time of Day:\")\n",
    "routine_percentage_by_time\n",
    "\n",
    "\n",
    "\n"
   ]
  },
  {
   "cell_type": "markdown",
   "metadata": {},
   "source": [
    "#### Using the sentence, step, time and sentiment"
   ]
  },
  {
   "cell_type": "markdown",
   "metadata": {},
   "source": [
    "Trying to separate the sentences within the transcripts\n"
   ]
  },
  {
   "cell_type": "code",
   "execution_count": 39,
   "metadata": {},
   "outputs": [
    {
     "name": "stderr",
     "output_type": "stream",
     "text": [
      "[nltk_data] Downloading package punkt to\n",
      "[nltk_data]     /Users/ritushetkar/nltk_data...\n",
      "[nltk_data]   Package punkt is already up-to-date!\n"
     ]
    },
    {
     "name": "stdout",
     "output_type": "stream",
     "text": [
      "                                            sentence       step time_of_day  \\\n",
      "0  she reviews a double cleansing technique, how ...  exfoliate        None   \n",
      "1  she reviews a double cleansing technique, how ...       mask        None   \n",
      "2  product recommendations include paula's choice...       mask        None   \n",
      "3  she shows before-and-after photos of her skin ...  treatment        None   \n",
      "4  in this video, a beauty professional is perfor...  treatment        None   \n",
      "\n",
      "  sentiment  \n",
      "0   neutral  \n",
      "1   neutral  \n",
      "2  negative  \n",
      "3   neutral  \n",
      "4   neutral  \n",
      "time_of_day\n",
      "morning    4511\n",
      "night       347\n",
      "Name: count, dtype: int64\n",
      "sentiment\n",
      "neutral     10329\n",
      "positive     3510\n",
      "negative      820\n",
      "Name: count, dtype: int64\n"
     ]
    }
   ],
   "source": [
    "import pandas as pd\n",
    "import nltk\n",
    "from nltk.tokenize import sent_tokenize\n",
    "from textblob import TextBlob\n",
    "\n",
    "# Download tokenizer if not already\n",
    "nltk.download('punkt')\n",
    "\n",
    "# Step 1: Define routine steps and time keywords\n",
    "routine_steps = [\n",
    "    'cleanse', 'double cleanse', 'toner', 'serum', 'moisturizer',\n",
    "    'eye cream', 'sunscreen', 'exfoliate', 'mask', 'face massage',\n",
    "    'treatment', 'essence', 'oil', 'spot treatment', 'primer'\n",
    "]\n",
    "\n",
    "time_keywords = ['morning', 'am', 'night', 'pm', 'start of the day', 'end of the day', 'evening']\n",
    "\n",
    "# Step 2: Combine and clean text\n",
    "tiktok_transcrips['combined_text'] = (\n",
    "    tiktok_transcrips['transcribed_text'].fillna('') + ' ' +\n",
    "    tiktok_transcrips['video_description'].fillna('')\n",
    ").str.lower()\n",
    "\n",
    "# Step 3: Split text into sentences\n",
    "tiktok_transcrips['sentences'] = tiktok_transcrips['combined_text'].apply(sent_tokenize)\n",
    "\n",
    "# Step 4: Analyze each sentence\n",
    "def analyze_sentence(sentence, routine_steps, time_keywords):\n",
    "    results = []\n",
    "    \n",
    "    # Detect time of day\n",
    "    time = None\n",
    "    for keyword in time_keywords:\n",
    "        if keyword in sentence:\n",
    "            if keyword in ['morning', 'am', 'start of the day', 'begin the day','wake up']:\n",
    "                time = 'morning'\n",
    "            elif keyword in ['night', 'pm', 'evening', 'end of the day', 'before sleeping']:\n",
    "                time = 'night'\n",
    "            break\n",
    "    \n",
    "    # Sentiment\n",
    "    sentiment_score = TextBlob(sentence).sentiment.polarity\n",
    "    sentiment = 'positive' if sentiment_score > 0.1 else 'negative' if sentiment_score < -0.1 else 'neutral'\n",
    "\n",
    "    # Routine steps\n",
    "    steps_found = [step for step in routine_steps if step in sentence]\n",
    "\n",
    "    for step in steps_found:\n",
    "        results.append({\n",
    "            'sentence': sentence,\n",
    "            'step': step,\n",
    "            'time_of_day': time,\n",
    "            'sentiment': sentiment\n",
    "        })\n",
    "    \n",
    "    return results\n",
    "\n",
    "# Step 5: Apply to all rows\n",
    "extracted_data = []\n",
    "\n",
    "for _, row in tiktok_transcrips.iterrows():\n",
    "    for sentence in row['sentences']:\n",
    "        extracted_data.extend(analyze_sentence(sentence, routine_steps, time_keywords))\n",
    "\n",
    "# Step 6: Create final DataFrame\n",
    "df_sentence_level = pd.DataFrame(extracted_data)\n",
    "\n",
    "# Optional: View counts\n",
    "print(df_sentence_level.head())\n",
    "print(df_sentence_level['time_of_day'].value_counts())\n",
    "print(df_sentence_level['sentiment'].value_counts())\n"
   ]
  },
  {
   "cell_type": "code",
   "execution_count": 40,
   "metadata": {},
   "outputs": [
    {
     "data": {
      "text/html": [
       "<div>\n",
       "<style scoped>\n",
       "    .dataframe tbody tr th:only-of-type {\n",
       "        vertical-align: middle;\n",
       "    }\n",
       "\n",
       "    .dataframe tbody tr th {\n",
       "        vertical-align: top;\n",
       "    }\n",
       "\n",
       "    .dataframe thead th {\n",
       "        text-align: right;\n",
       "    }\n",
       "</style>\n",
       "<table border=\"1\" class=\"dataframe\">\n",
       "  <thead>\n",
       "    <tr style=\"text-align: right;\">\n",
       "      <th></th>\n",
       "      <th>sentence</th>\n",
       "      <th>step</th>\n",
       "      <th>time_of_day</th>\n",
       "      <th>sentiment</th>\n",
       "    </tr>\n",
       "  </thead>\n",
       "  <tbody>\n",
       "    <tr>\n",
       "      <th>0</th>\n",
       "      <td>she reviews a double cleansing technique, how ...</td>\n",
       "      <td>exfoliate</td>\n",
       "      <td>None</td>\n",
       "      <td>neutral</td>\n",
       "    </tr>\n",
       "    <tr>\n",
       "      <th>1</th>\n",
       "      <td>she reviews a double cleansing technique, how ...</td>\n",
       "      <td>mask</td>\n",
       "      <td>None</td>\n",
       "      <td>neutral</td>\n",
       "    </tr>\n",
       "    <tr>\n",
       "      <th>2</th>\n",
       "      <td>product recommendations include paula's choice...</td>\n",
       "      <td>mask</td>\n",
       "      <td>None</td>\n",
       "      <td>negative</td>\n",
       "    </tr>\n",
       "    <tr>\n",
       "      <th>3</th>\n",
       "      <td>she shows before-and-after photos of her skin ...</td>\n",
       "      <td>treatment</td>\n",
       "      <td>None</td>\n",
       "      <td>neutral</td>\n",
       "    </tr>\n",
       "    <tr>\n",
       "      <th>4</th>\n",
       "      <td>in this video, a beauty professional is perfor...</td>\n",
       "      <td>treatment</td>\n",
       "      <td>None</td>\n",
       "      <td>neutral</td>\n",
       "    </tr>\n",
       "  </tbody>\n",
       "</table>\n",
       "</div>"
      ],
      "text/plain": [
       "                                            sentence       step time_of_day  \\\n",
       "0  she reviews a double cleansing technique, how ...  exfoliate        None   \n",
       "1  she reviews a double cleansing technique, how ...       mask        None   \n",
       "2  product recommendations include paula's choice...       mask        None   \n",
       "3  she shows before-and-after photos of her skin ...  treatment        None   \n",
       "4  in this video, a beauty professional is perfor...  treatment        None   \n",
       "\n",
       "  sentiment  \n",
       "0   neutral  \n",
       "1   neutral  \n",
       "2  negative  \n",
       "3   neutral  \n",
       "4   neutral  "
      ]
     },
     "execution_count": 40,
     "metadata": {},
     "output_type": "execute_result"
    }
   ],
   "source": [
    "df_sentence_level.head()"
   ]
  },
  {
   "cell_type": "code",
   "execution_count": 41,
   "metadata": {},
   "outputs": [
    {
     "data": {
      "text/plain": [
       "array([None, 'morning', 'night'], dtype=object)"
      ]
     },
     "execution_count": 41,
     "metadata": {},
     "output_type": "execute_result"
    }
   ],
   "source": [
    "df_sentence_level['time_of_day'].unique()\n"
   ]
  },
  {
   "cell_type": "markdown",
   "metadata": {},
   "source": [
    "Here we, see for sunscreen the basic sentiment. Morning is the most as postive (based on frequency). "
   ]
  },
  {
   "cell_type": "code",
   "execution_count": 42,
   "metadata": {},
   "outputs": [
    {
     "data": {
      "text/html": [
       "<div>\n",
       "<style scoped>\n",
       "    .dataframe tbody tr th:only-of-type {\n",
       "        vertical-align: middle;\n",
       "    }\n",
       "\n",
       "    .dataframe tbody tr th {\n",
       "        vertical-align: top;\n",
       "    }\n",
       "\n",
       "    .dataframe thead th {\n",
       "        text-align: right;\n",
       "    }\n",
       "</style>\n",
       "<table border=\"1\" class=\"dataframe\">\n",
       "  <thead>\n",
       "    <tr style=\"text-align: right;\">\n",
       "      <th></th>\n",
       "      <th>time_of_day</th>\n",
       "      <th>sentiment</th>\n",
       "      <th>step</th>\n",
       "      <th>sentence</th>\n",
       "    </tr>\n",
       "  </thead>\n",
       "  <tbody>\n",
       "    <tr>\n",
       "      <th>9</th>\n",
       "      <td>morning</td>\n",
       "      <td>negative</td>\n",
       "      <td>sunscreen</td>\n",
       "      <td>12</td>\n",
       "    </tr>\n",
       "    <tr>\n",
       "      <th>24</th>\n",
       "      <td>morning</td>\n",
       "      <td>neutral</td>\n",
       "      <td>sunscreen</td>\n",
       "      <td>189</td>\n",
       "    </tr>\n",
       "    <tr>\n",
       "      <th>39</th>\n",
       "      <td>morning</td>\n",
       "      <td>positive</td>\n",
       "      <td>sunscreen</td>\n",
       "      <td>64</td>\n",
       "    </tr>\n",
       "    <tr>\n",
       "      <th>57</th>\n",
       "      <td>night</td>\n",
       "      <td>neutral</td>\n",
       "      <td>sunscreen</td>\n",
       "      <td>4</td>\n",
       "    </tr>\n",
       "    <tr>\n",
       "      <th>66</th>\n",
       "      <td>night</td>\n",
       "      <td>positive</td>\n",
       "      <td>sunscreen</td>\n",
       "      <td>2</td>\n",
       "    </tr>\n",
       "  </tbody>\n",
       "</table>\n",
       "</div>"
      ],
      "text/plain": [
       "   time_of_day sentiment       step  sentence\n",
       "9      morning  negative  sunscreen        12\n",
       "24     morning   neutral  sunscreen       189\n",
       "39     morning  positive  sunscreen        64\n",
       "57       night   neutral  sunscreen         4\n",
       "66       night  positive  sunscreen         2"
      ]
     },
     "execution_count": 42,
     "metadata": {},
     "output_type": "execute_result"
    }
   ],
   "source": [
    "routines_transcripts_sentments=df_sentence_level.groupby(['time_of_day','sentiment','step']).count().reset_index()\n",
    "\n",
    "routines_transcripts_sentments[(routines_transcripts_sentments['step']=='sunscreen')]"
   ]
  },
  {
   "cell_type": "markdown",
   "metadata": {},
   "source": [
    "The occurences are not as many to continue this approach without having a labelled data for what could be routine steps."
   ]
  },
  {
   "cell_type": "code",
   "execution_count": 52,
   "metadata": {},
   "outputs": [
    {
     "name": "stderr",
     "output_type": "stream",
     "text": [
      "/Users/ritushetkar/env_capstone/lib/python3.9/site-packages/urllib3/__init__.py:35: NotOpenSSLWarning: urllib3 v2 only supports OpenSSL 1.1.1+, currently the 'ssl' module is compiled with 'LibreSSL 2.8.3'. See: https://github.com/urllib3/urllib3/issues/3020\n",
      "  warnings.warn(\n",
      "[nltk_data] Downloading package stopwords to\n",
      "[nltk_data]     /Users/ritushetkar/nltk_data...\n",
      "[nltk_data]   Package stopwords is already up-to-date!\n"
     ]
    },
    {
     "name": "stdout",
     "output_type": "stream",
     "text": [
      "\n",
      "✨ Top 20 Clean Bigrams:\n",
      "skincare routine - 1402\n",
      "skincare products - 618\n",
      "skin care - 376\n",
      "young woman - 350\n",
      "content creator - 267\n",
      "face mask - 259\n",
      "eye cream - 257\n",
      "woman shares - 225\n",
      "care routine - 188\n",
      "lip balm - 173\n",
      "hyaluronic acid - 168\n",
      "cleansing oil - 146\n",
      "morning skincare - 144\n",
      "description available - 141\n",
      "face wash - 139\n",
      "dry skin - 137\n",
      "korean skincare - 135\n",
      "products uses - 130\n",
      "face cream - 124\n",
      "routine using - 118\n",
      "care products - 118\n",
      "toner serum - 112\n",
      "routine starts - 111\n",
      "shares skincare - 108\n",
      "products including - 106\n",
      "washes face - 106\n",
      "nighttime skincare - 106\n",
      "serum moisturizer - 104\n",
      "cream face - 104\n",
      "woman demonstrates - 103\n"
     ]
    }
   ],
   "source": [
    "import spacy\n",
    "from sklearn.feature_extraction.text import CountVectorizer\n",
    "from collections import Counter\n",
    "from nltk.corpus import stopwords\n",
    "import re\n",
    "\n",
    "# Download stopwords if needed\n",
    "import nltk\n",
    "nltk.download('stopwords')\n",
    "\n",
    "# Load spacy\n",
    "nlp = spacy.load(\"en_core_web_sm\")\n",
    "\n",
    "# Combine English + German stopwords\n",
    "stop_words = set(stopwords.words('english') + stopwords.words('german'))\n",
    "\n",
    "# Add extra noise words manually\n",
    "custom_noise = {'la', 'ojo', '00', 'video', 'shows', 'und', 'ist', 'das', 'habe', 'ich', 'und', 'die', 'es', 'ein', 'bitte'}\n",
    "stop_words = stop_words.union(custom_noise)\n",
    "\n",
    "# Your dataframe\n",
    "df = tiktok_transcrips\n",
    "\n",
    "# Only use video_description if transcript is missing\n",
    "df['combined_text'] = df['video_description'].fillna('')\n",
    "\n",
    "# Lowercase everything\n",
    "df['combined_text'] = df['combined_text'].str.lower()\n",
    "\n",
    "# Remove numbers and extra symbols\n",
    "df['combined_text'] = df['combined_text'].apply(lambda x: re.sub(r'\\d+', '', x))\n",
    "df['combined_text'] = df['combined_text'].apply(lambda x: re.sub(r'[^\\w\\s]', '', x))\n",
    "\n",
    "# Now clean out stopwords\n",
    "def remove_stopwords(text):\n",
    "    return ' '.join([word for word in text.split() if word not in stop_words])\n",
    "\n",
    "df['clean_text'] = df['combined_text'].apply(remove_stopwords)\n",
    "\n",
    "# Find good bigrams\n",
    "vectorizer = CountVectorizer(ngram_range=(2, 2), stop_words='english')\n",
    "X = vectorizer.fit_transform(df['clean_text'])\n",
    "\n",
    "bigrams_freq = X.sum(axis=0)\n",
    "bigrams = [(word, bigrams_freq[0, idx]) for word, idx in vectorizer.vocabulary_.items()]\n",
    "bigrams_sorted = sorted(bigrams, key=lambda x: x[1], reverse=True)\n",
    "\n",
    "# Top 20 Clean Bigrams\n",
    "print(\"\\n✨ Top 20 Clean Bigrams:\")\n",
    "for phrase, freq in bigrams_sorted[:30]:\n",
    "    print(f\"{phrase} - {freq}\")\n"
   ]
  },
  {
   "cell_type": "markdown",
   "metadata": {},
   "source": [
    "Printing the routine steps "
   ]
  },
  {
   "cell_type": "code",
   "execution_count": 65,
   "metadata": {},
   "outputs": [
    {
     "name": "stdout",
     "output_type": "stream",
     "text": [
      "\n",
      "✨ Top Morning Routine Steps:\n",
      "serum: 1196\n",
      "cleanse: 635\n",
      "toner: 461\n",
      "eye cream: 445\n",
      "moisturizer: 439\n",
      "oil: 405\n",
      "mask: 379\n",
      "sunscreen: 265\n",
      "essence: 105\n",
      "treatment: 99\n",
      "primer: 25\n",
      "exfoliate: 23\n",
      "spot treatment: 16\n",
      "double cleanse: 15\n",
      "face massage: 3\n",
      "\n",
      "✨ Top Evening Routine Steps:\n",
      "mask: 86\n",
      "serum: 70\n",
      "cleanse: 46\n",
      "moisturizer: 40\n",
      "oil: 31\n",
      "toner: 28\n",
      "treatment: 25\n",
      "double cleanse: 8\n",
      "sunscreen: 6\n",
      "spot treatment: 4\n",
      "exfoliate: 2\n",
      "essence: 1\n"
     ]
    }
   ],
   "source": [
    "# Group steps by time_of_day\n",
    "morning_df = df_sentence_level[df_sentence_level['time_of_day'] == 'morning']\n",
    "evening_df = df_sentence_level[df_sentence_level['time_of_day'] == 'night']\n",
    "\n",
    "# Count frequency of each step\n",
    "from collections import Counter\n",
    "\n",
    "morning_step_counts = Counter(morning_df['step'])\n",
    "evening_step_counts = Counter(evening_df['step'])\n",
    "\n",
    "# View most common steps\n",
    "print(\"\\n✨ Top Morning Routine Steps:\")\n",
    "for step, count in morning_step_counts.most_common():\n",
    "    print(f\"{step}: {count}\")\n",
    "\n",
    "print(\"\\n✨ Top Evening Routine Steps:\")\n",
    "for step, count in evening_step_counts.most_common():\n",
    "    print(f\"{step}: {count}\")\n"
   ]
  },
  {
   "cell_type": "code",
   "execution_count": 107,
   "metadata": {},
   "outputs": [
    {
     "data": {
      "text/plain": [
       "0    she reviews a double cleansing technique, how ...\n",
       "Name: sentence, dtype: object"
      ]
     },
     "execution_count": 107,
     "metadata": {},
     "output_type": "execute_result"
    }
   ],
   "source": [
    "df_sentence_level['sentence'].head(1)"
   ]
  },
  {
   "cell_type": "code",
   "execution_count": 97,
   "metadata": {},
   "outputs": [
    {
     "data": {
      "text/plain": [
       "Index(['id', 'bucketUrl', 'detected_language', 'transcribed_text',\n",
       "       'video_description', 'status', 'tokens_used', 'error_message',\n",
       "       'created_at', 'updated_at', 'combined_text', 'video_description_lang'],\n",
       "      dtype='object')"
      ]
     },
     "execution_count": 97,
     "metadata": {},
     "output_type": "execute_result"
    }
   ],
   "source": [
    "tiktok_transcrips_filtered.columns"
   ]
  },
  {
   "cell_type": "code",
   "execution_count": null,
   "metadata": {},
   "outputs": [],
   "source": [
    "id_map = dict(zip(tiktok_transcrips_filtered['combined_text'], tiktok_transcrips_filtered['id']))\n",
    "df_sentence_level['video_id'] = df_sentence_level['sentence'].map(id_map)\n",
    "\n",
    "# Group by video_id and time_of_day to extract sequences\n",
    "morning_sequences = (\n",
    "    df_sentence_level[df_sentence_level['time_of_day'] == 'morning']\n",
    "    .groupby('video_id')['step'].apply(list)\n",
    "    .tolist()\n",
    ")\n",
    "\n",
    "evening_sequences = (\n",
    "    df_sentence_level[df_sentence_level['time_of_day'] == 'night']\n",
    "    .groupby('video_id')['step'].apply(list)\n",
    "    .tolist()\n",
    ")\n"
   ]
  },
  {
   "cell_type": "code",
   "execution_count": 99,
   "metadata": {},
   "outputs": [
    {
     "data": {
      "text/plain": [
       "{('toner', 'serum'): 14,\n",
       " ('serum', 'moisturizer'): 10,\n",
       " ('cleanse', 'serum'): 7,\n",
       " ('cleanse', 'toner'): 7,\n",
       " ('serum', 'sunscreen'): 5,\n",
       " ('moisturizer', 'eye cream'): 5,\n",
       " ('eye cream', 'sunscreen'): 4,\n",
       " ('moisturizer', 'sunscreen'): 4,\n",
       " ('serum', 'mask'): 4,\n",
       " ('mask', 'treatment'): 2,\n",
       " ('serum', 'eye cream'): 2,\n",
       " ('toner', 'oil'): 2,\n",
       " ('sunscreen', 'oil'): 2,\n",
       " ('cleanse', 'oil'): 2,\n",
       " ('sunscreen', 'essence'): 2,\n",
       " ('eye cream', 'essence'): 2,\n",
       " ('serum', 'exfoliate'): 1,\n",
       " ('exfoliate', 'mask'): 1,\n",
       " ('moisturizer', 'mask'): 1,\n",
       " ('cleanse', 'double cleanse'): 1,\n",
       " ('double cleanse', 'serum'): 1,\n",
       " ('moisturizer', 'oil'): 1,\n",
       " ('essence', 'oil'): 1,\n",
       " ('mask', 'oil'): 1,\n",
       " ('cleanse', 'mask'): 1,\n",
       " ('serum', 'oil'): 1,\n",
       " ('serum', 'essence'): 1}"
      ]
     },
     "execution_count": 99,
     "metadata": {},
     "output_type": "execute_result"
    }
   ],
   "source": [
    "def count_transitions(sequences):\n",
    "    from collections import defaultdict\n",
    "    transitions = defaultdict(int)\n",
    "    for seq in sequences:\n",
    "        for i in range(len(seq) - 1):\n",
    "            if seq[i] != seq[i + 1]:  # Avoid duplicates\n",
    "                transitions[(seq[i], seq[i + 1])] += 1\n",
    "    return transitions\n",
    "\n",
    "def remove_consecutive_duplicates(seq):\n",
    "    if not seq:\n",
    "        return []\n",
    "    filtered = [seq[0]]\n",
    "    for step in seq[1:]:\n",
    "        if step != filtered[-1]:\n",
    "            filtered.append(step)\n",
    "    return filtered\n",
    "\n",
    "# Clean sequences\n",
    "clean_morning_sequences = [remove_consecutive_duplicates(seq) for seq in morning_sequences]\n",
    "clean_evening_sequences = [remove_consecutive_duplicates(seq) for seq in evening_sequences]\n",
    "\n",
    "# Now count transitions using the cleaned sequences\n",
    "morning_transitions = count_transitions(clean_morning_sequences)\n",
    "evening_transitions = count_transitions(clean_evening_sequences)\n",
    "\n",
    "# Sort\n",
    "morning_transitions = dict(sorted(morning_transitions.items(), key=lambda x: x[1], reverse=True))\n",
    "evening_transitions = dict(sorted(evening_transitions.items(), key=lambda x: x[1], reverse=True))\n",
    "\n",
    "\n",
    "morning_transitions"
   ]
  },
  {
   "cell_type": "code",
   "execution_count": 108,
   "metadata": {},
   "outputs": [
    {
     "data": {
      "text/plain": [
       "{('serum', 'moisturizer'): 2,\n",
       " ('cleanse', 'serum'): 1,\n",
       " ('serum', 'mask'): 1,\n",
       " ('cleanse', 'toner'): 1,\n",
       " ('toner', 'serum'): 1,\n",
       " ('moisturizer', 'oil'): 1}"
      ]
     },
     "execution_count": 108,
     "metadata": {},
     "output_type": "execute_result"
    }
   ],
   "source": [
    "evening_transitions"
   ]
  },
  {
   "cell_type": "code",
   "execution_count": 100,
   "metadata": {},
   "outputs": [
    {
     "name": "stdout",
     "output_type": "stream",
     "text": [
      "\n",
      "🌅 Top Morning Step Transitions:\n",
      "toner → serum: 14\n",
      "serum → moisturizer: 10\n",
      "cleanse → serum: 7\n",
      "cleanse → toner: 7\n",
      "serum → sunscreen: 5\n",
      "moisturizer → eye cream: 5\n",
      "eye cream → sunscreen: 4\n",
      "moisturizer → sunscreen: 4\n",
      "serum → mask: 4\n",
      "mask → treatment: 2\n",
      "serum → eye cream: 2\n",
      "toner → oil: 2\n",
      "sunscreen → oil: 2\n",
      "cleanse → oil: 2\n",
      "sunscreen → essence: 2\n",
      "eye cream → essence: 2\n",
      "serum → exfoliate: 1\n",
      "exfoliate → mask: 1\n",
      "moisturizer → mask: 1\n",
      "cleanse → double cleanse: 1\n",
      "double cleanse → serum: 1\n",
      "moisturizer → oil: 1\n",
      "essence → oil: 1\n",
      "mask → oil: 1\n",
      "cleanse → mask: 1\n",
      "serum → oil: 1\n",
      "serum → essence: 1\n"
     ]
    }
   ],
   "source": [
    "\n",
    "# Display\n",
    "print(\"\\n🌅 Top Morning Step Transitions:\")\n",
    "for (step1, step2), count in morning_transitions.items():\n",
    "    print(f\"{step1} → {step2}: {count}\")\n"
   ]
  },
  {
   "cell_type": "code",
   "execution_count": 101,
   "metadata": {},
   "outputs": [
    {
     "name": "stdout",
     "output_type": "stream",
     "text": [
      "\n",
      "🌙 Top Evening Step Transitions:\n",
      "serum → moisturizer: 2\n",
      "cleanse → serum: 1\n",
      "serum → mask: 1\n",
      "cleanse → toner: 1\n",
      "toner → serum: 1\n",
      "moisturizer → oil: 1\n"
     ]
    }
   ],
   "source": [
    "print(\"\\n🌙 Top Evening Step Transitions:\")\n",
    "for (step1, step2), count in evening_transitions.items():\n",
    "    print(f\"{step1} → {step2}: {count}\")\n"
   ]
  },
  {
   "cell_type": "markdown",
   "metadata": {},
   "source": [
    "## #"
   ]
  },
  {
   "cell_type": "code",
   "execution_count": 103,
   "metadata": {},
   "outputs": [
    {
     "name": "stdout",
     "output_type": "stream",
     "text": [
      "\n",
      "✨ Top Evening Routine Sequences:\n",
      "serum → moisturizer: 2\n",
      "cleanse → serum: 1\n",
      "serum → mask: 1\n",
      "cleanse → toner: 1\n",
      "toner → serum: 1\n",
      "moisturizer → oil: 1\n"
     ]
    }
   ],
   "source": [
    "\n",
    "print(\"\\n✨ Top Evening Routine Sequences:\")\n",
    "for (r1, r2), count in evening_transitions.items():\n",
    "    print(f\"{r1} → {r2}: {count}\")"
   ]
  },
  {
   "cell_type": "code",
   "execution_count": 104,
   "metadata": {},
   "outputs": [
    {
     "data": {
      "text/plain": [
       "{('serum', 'moisturizer'): 2,\n",
       " ('cleanse', 'serum'): 1,\n",
       " ('serum', 'mask'): 1,\n",
       " ('cleanse', 'toner'): 1,\n",
       " ('toner', 'serum'): 1,\n",
       " ('moisturizer', 'oil'): 1}"
      ]
     },
     "execution_count": 104,
     "metadata": {},
     "output_type": "execute_result"
    }
   ],
   "source": [
    "evening_transitions"
   ]
  },
  {
   "cell_type": "code",
   "execution_count": 105,
   "metadata": {},
   "outputs": [
    {
     "name": "stderr",
     "output_type": "stream",
     "text": [
      "/var/folders/5k/b8_r8jw502n4zztm42zd76m80000gn/T/ipykernel_1022/4172225687.py:24: UserWarning: This figure includes Axes that are not compatible with tight_layout, so results might be incorrect.\n",
      "  plt.tight_layout()\n",
      "/Users/ritushetkar/env_capstone/lib/python3.9/site-packages/IPython/core/pylabtools.py:152: UserWarning: Glyph 127749 (\\N{SUNRISE}) missing from font(s) DejaVu Sans.\n",
      "  fig.canvas.print_figure(bytes_io, **kw)\n"
     ]
    },
    {
     "data": {
      "image/png": "[encoded data removed]",
      "text/plain": [
       "<Figure size 1000x600 with 1 Axes>"
      ]
     },
     "metadata": {},
     "output_type": "display_data"
    },
    {
     "name": "stderr",
     "output_type": "stream",
     "text": [
      "/Users/ritushetkar/env_capstone/lib/python3.9/site-packages/IPython/core/pylabtools.py:152: UserWarning: Glyph 127769 (\\N{CRESCENT MOON}) missing from font(s) DejaVu Sans.\n",
      "  fig.canvas.print_figure(bytes_io, **kw)\n"
     ]
    },
    {
     "data": {
      "image/png": "[encoded data removed]",
      "text/plain": [
       "<Figure size 1000x600 with 1 Axes>"
      ]
     },
     "metadata": {},
     "output_type": "display_data"
    }
   ],
   "source": [
    "import matplotlib.pyplot as plt\n",
    "import networkx as nx\n",
    "\n",
    "# For demo purposes, let's limit to top 10 transitions for clarity\n",
    "top_n = 5\n",
    "morning_edges = list(morning_transitions.items())[:top_n]\n",
    "evening_edges = list(evening_transitions.items())[:top_n]\n",
    "\n",
    "# Helper function to create a directed graph from transitions\n",
    "def create_graph(edges, title):\n",
    "    G = nx.DiGraph()\n",
    "    G.add_weighted_edges_from([(a, b, w) for (a, b), w in edges])\n",
    "    \n",
    "    plt.figure(figsize=(10, 6))\n",
    "    pos = nx.spring_layout(G, seed=42)\n",
    "    \n",
    "    # Draw nodes and edges\n",
    "    nx.draw(G, pos, with_labels=True, node_size=2000, node_color='lightblue', font_size=10, edge_color='gray')\n",
    "    edge_labels = nx.get_edge_attributes(G, 'weight')\n",
    "    nx.draw_networkx_edge_labels(G, pos, edge_labels=edge_labels)\n",
    "    \n",
    "    plt.title(title)\n",
    "    plt.axis('off')\n",
    "    plt.tight_layout()\n",
    "    plt.show()\n",
    "\n",
    "# Plot graphs\n",
    "create_graph(morning_edges, \"🌅 Top Morning Routine Transitions\")\n",
    "create_graph(evening_edges, \"🌙 Top Evening Routine Transitions\")\n"
   ]
  },
  {
   "cell_type": "code",
   "execution_count": 106,
   "metadata": {},
   "outputs": [
    {
     "data": {
      "text/html": [
       "<div>\n",
       "<style scoped>\n",
       "    .dataframe tbody tr th:only-of-type {\n",
       "        vertical-align: middle;\n",
       "    }\n",
       "\n",
       "    .dataframe tbody tr th {\n",
       "        vertical-align: top;\n",
       "    }\n",
       "\n",
       "    .dataframe thead th {\n",
       "        text-align: right;\n",
       "    }\n",
       "</style>\n",
       "<table border=\"1\" class=\"dataframe\">\n",
       "  <thead>\n",
       "    <tr style=\"text-align: right;\">\n",
       "      <th></th>\n",
       "      <th>sentence</th>\n",
       "      <th>step</th>\n",
       "      <th>time_of_day</th>\n",
       "      <th>sentiment</th>\n",
       "      <th>video_id</th>\n",
       "    </tr>\n",
       "  </thead>\n",
       "  <tbody>\n",
       "    <tr>\n",
       "      <th>24</th>\n",
       "      <td>the host says the oats will absorb excess oil ...</td>\n",
       "      <td>oil</td>\n",
       "      <td>morning</td>\n",
       "      <td>neutral</td>\n",
       "      <td>NaN</td>\n",
       "    </tr>\n",
       "    <tr>\n",
       "      <th>32</th>\n",
       "      <td>the video features a young woman named chiara ...</td>\n",
       "      <td>mask</td>\n",
       "      <td>morning</td>\n",
       "      <td>neutral</td>\n",
       "      <td>NaN</td>\n",
       "    </tr>\n",
       "    <tr>\n",
       "      <th>42</th>\n",
       "      <td>among her favorites are peach slices snail res...</td>\n",
       "      <td>toner</td>\n",
       "      <td>morning</td>\n",
       "      <td>negative</td>\n",
       "      <td>NaN</td>\n",
       "    </tr>\n",
       "    <tr>\n",
       "      <th>43</th>\n",
       "      <td>among her favorites are peach slices snail res...</td>\n",
       "      <td>serum</td>\n",
       "      <td>morning</td>\n",
       "      <td>negative</td>\n",
       "      <td>NaN</td>\n",
       "    </tr>\n",
       "    <tr>\n",
       "      <th>46</th>\n",
       "      <td>she uses la roche-posay toleriane purifying fo...</td>\n",
       "      <td>cleanse</td>\n",
       "      <td>morning</td>\n",
       "      <td>positive</td>\n",
       "      <td>NaN</td>\n",
       "    </tr>\n",
       "    <tr>\n",
       "      <th>...</th>\n",
       "      <td>...</td>\n",
       "      <td>...</td>\n",
       "      <td>...</td>\n",
       "      <td>...</td>\n",
       "      <td>...</td>\n",
       "    </tr>\n",
       "    <tr>\n",
       "      <th>14644</th>\n",
       "      <td>an esthetician shares an affordable morning sk...</td>\n",
       "      <td>sunscreen</td>\n",
       "      <td>morning</td>\n",
       "      <td>neutral</td>\n",
       "      <td>7.464319e+18</td>\n",
       "    </tr>\n",
       "    <tr>\n",
       "      <th>14645</th>\n",
       "      <td>an esthetician shares an affordable morning sk...</td>\n",
       "      <td>oil</td>\n",
       "      <td>morning</td>\n",
       "      <td>neutral</td>\n",
       "      <td>7.464319e+18</td>\n",
       "    </tr>\n",
       "    <tr>\n",
       "      <th>14652</th>\n",
       "      <td>she puts cream around her eyes and then uses t...</td>\n",
       "      <td>moisturizer</td>\n",
       "      <td>morning</td>\n",
       "      <td>neutral</td>\n",
       "      <td>NaN</td>\n",
       "    </tr>\n",
       "    <tr>\n",
       "      <th>14653</th>\n",
       "      <td>now, it's time for the famous pdrn jelly gel m...</td>\n",
       "      <td>mask</td>\n",
       "      <td>morning</td>\n",
       "      <td>positive</td>\n",
       "      <td>NaN</td>\n",
       "    </tr>\n",
       "    <tr>\n",
       "      <th>14655</th>\n",
       "      <td>this video shows how to treat your skin with m...</td>\n",
       "      <td>mask</td>\n",
       "      <td>morning</td>\n",
       "      <td>neutral</td>\n",
       "      <td>NaN</td>\n",
       "    </tr>\n",
       "  </tbody>\n",
       "</table>\n",
       "<p>4511 rows × 5 columns</p>\n",
       "</div>"
      ],
      "text/plain": [
       "                                                sentence         step  \\\n",
       "24     the host says the oats will absorb excess oil ...          oil   \n",
       "32     the video features a young woman named chiara ...         mask   \n",
       "42     among her favorites are peach slices snail res...        toner   \n",
       "43     among her favorites are peach slices snail res...        serum   \n",
       "46     she uses la roche-posay toleriane purifying fo...      cleanse   \n",
       "...                                                  ...          ...   \n",
       "14644  an esthetician shares an affordable morning sk...    sunscreen   \n",
       "14645  an esthetician shares an affordable morning sk...          oil   \n",
       "14652  she puts cream around her eyes and then uses t...  moisturizer   \n",
       "14653  now, it's time for the famous pdrn jelly gel m...         mask   \n",
       "14655  this video shows how to treat your skin with m...         mask   \n",
       "\n",
       "      time_of_day sentiment      video_id  \n",
       "24        morning   neutral           NaN  \n",
       "32        morning   neutral           NaN  \n",
       "42        morning  negative           NaN  \n",
       "43        morning  negative           NaN  \n",
       "46        morning  positive           NaN  \n",
       "...           ...       ...           ...  \n",
       "14644     morning   neutral  7.464319e+18  \n",
       "14645     morning   neutral  7.464319e+18  \n",
       "14652     morning   neutral           NaN  \n",
       "14653     morning  positive           NaN  \n",
       "14655     morning   neutral           NaN  \n",
       "\n",
       "[4511 rows x 5 columns]"
      ]
     },
     "execution_count": 106,
     "metadata": {},
     "output_type": "execute_result"
    }
   ],
   "source": [
    "\n",
    "# Display sample rows for morning and evening\n",
    "morning_examples = df_sentence_level[df_sentence_level['time_of_day'] == 'morning']\n",
    "evening_examples = df_sentence_level[df_sentence_level['time_of_day'] == 'night']\n",
    "\n",
    "morning_examples"
   ]
  },
  {
   "cell_type": "code",
   "execution_count": null,
   "metadata": {},
   "outputs": [
    {
     "data": {
      "text/html": [
       "<div>\n",
       "<style scoped>\n",
       "    .dataframe tbody tr th:only-of-type {\n",
       "        vertical-align: middle;\n",
       "    }\n",
       "\n",
       "    .dataframe tbody tr th {\n",
       "        vertical-align: top;\n",
       "    }\n",
       "\n",
       "    .dataframe thead th {\n",
       "        text-align: right;\n",
       "    }\n",
       "</style>\n",
       "<table border=\"1\" class=\"dataframe\">\n",
       "  <thead>\n",
       "    <tr style=\"text-align: right;\">\n",
       "      <th></th>\n",
       "      <th>sentence</th>\n",
       "      <th>step</th>\n",
       "      <th>time_of_day</th>\n",
       "      <th>sentiment</th>\n",
       "      <th>video_id</th>\n",
       "    </tr>\n",
       "  </thead>\n",
       "  <tbody>\n",
       "    <tr>\n",
       "      <th>24</th>\n",
       "      <td>the host says the oats will absorb excess oil ...</td>\n",
       "      <td>oil</td>\n",
       "      <td>morning</td>\n",
       "      <td>neutral</td>\n",
       "      <td>7483837390394559766</td>\n",
       "    </tr>\n",
       "    <tr>\n",
       "      <th>32</th>\n",
       "      <td>the video features a young woman named chiara ...</td>\n",
       "      <td>mask</td>\n",
       "      <td>morning</td>\n",
       "      <td>neutral</td>\n",
       "      <td>7483837390394559766</td>\n",
       "    </tr>\n",
       "  </tbody>\n",
       "</table>\n",
       "</div>"
      ],
      "text/plain": [
       "                                             sentence  step time_of_day  \\\n",
       "24  the host says the oats will absorb excess oil ...   oil     morning   \n",
       "32  the video features a young woman named chiara ...  mask     morning   \n",
       "\n",
       "   sentiment             video_id  \n",
       "24   neutral  7483837390394559766  \n",
       "32   neutral  7483837390394559766  "
      ]
     },
     "execution_count": 95,
     "metadata": {},
     "output_type": "execute_result"
    }
   ],
   "source": [
    "## \n",
    "morning_examples[morning_examples['video_id']==7483837390394559766]"
   ]
  },
  {
   "cell_type": "markdown",
   "metadata": {},
   "source": [
    "So the approach above was good to find routines, if from the data we could validate what really were the routine steps. After even the sentence level matching, the frequency of routine steps was really low to make the right interpretation."
   ]
  },
  {
   "cell_type": "code",
   "execution_count": null,
   "metadata": {},
   "outputs": [
    {
     "name": "stderr",
     "output_type": "stream",
     "text": [
      "C:\\Users\\Surface\\AppData\\Local\\Temp\\ipykernel_13756\\2911404079.py:11: DtypeWarning:\n",
      "\n",
      "Columns (12,34) have mixed types. Specify dtype option on import or set low_memory=False.\n",
      "\n"
     ]
    }
   ],
   "source": [
    "# Import libraries\n",
    "import pandas as pd\n",
    "import spacy\n",
    "from spacy.matcher import PhraseMatcher\n",
    "from collections import Counter\n",
    "from itertools import chain\n",
    "import plotly.graph_objects as go\n",
    "from tqdm import tqdm\n",
    "\n",
    "# Load csv file with comments\n",
    "df = pd.read_csv(\"../data/comments_post.csv\")\n",
    "comments = df['text_comment'].dropna().tolist()\n",
    "\n",
    "#SAMPLE_SIZE = 500  # Speed up for test\n",
    "#comments = comments[:SAMPLE_SIZE]"
   ]
  },
  {
   "cell_type": "markdown",
   "metadata": {},
   "source": [
    "Define product and ingredient synonyms"
   ]
  },
  {
   "cell_type": "code",
   "execution_count": null,
   "metadata": {},
   "outputs": [],
   "source": [
    "# Ingredient synonym groups (EN/DE) mapped to unified names\n",
    "ingredient_map = {\n",
    "    \"hyaluronic acid\": [\"hyaluronic acid\", \"hyaluronsäure\"],\n",
    "    \"glycerin\": [\"glycerin\"],\n",
    "    \"panthenol\": [\"panthenol\"],\n",
    "    \"squalane\": [\"squalane\", \"squalan\"],\n",
    "    \"aloe vera\": [\"aloe vera\"],\n",
    "    \"niacinamide\": [\"niacinamide\", \"niacinamid\"],\n",
    "    \"vitamin c\": [\"vitamin c\"],\n",
    "    \"alpha arbutin\": [\"alpha arbutin\", \"alpha-arbutin\"],\n",
    "    \"licorice root\": [\"licorice root\", \"lakritzextrakt\"],\n",
    "    \"kojic acid\": [\"kojic acid\", \"kojicsäure\"],\n",
    "    \"retinol\": [\"retinol\"],\n",
    "    \"peptides\": [\"peptides\", \"peptide\"],\n",
    "    \"bakuchiol\": [\"bakuchiol\"],\n",
    "    \"coenzyme q10\": [\"coenzyme q10\", \"coenzym q10\"],\n",
    "    \"ceramides\": [\"ceramides\", \"ceramide\"],\n",
    "    \"salicylic acid\": [\"salicylic acid\", \"salicylsäure\"],\n",
    "    \"glycolic acid\": [\"glycolic acid\", \"glycolsäure\"],\n",
    "    \"lactic acid\": [\"lactic acid\", \"milchsäure\"],\n",
    "    \"pha\": [\"pha\"],\n",
    "    \"benzoyl peroxide\": [\"benzoyl peroxide\", \"benzoylperoxid\"],\n",
    "    \"centella asiatica\": [\"centella asiatica\", \"tigergras\"],\n",
    "    \"green tea\": [\"green tea\", \"grüner tee\"],\n",
    "    \"allantoin\": [\"allantoin\"],\n",
    "    \"calendula\": [\"calendula\", \"ringelblume\"],\n",
    "    \"chamomile\": [\"chamomile\", \"kamille\"]\n",
    "}\n",
    "\n",
    "# Product synonym groups (EN/DE) mapped to unified names\n",
    "product_map = {\n",
    "    \"cleanser\": [\"cleanser\", \"reiniger\", \"gesichtsreinigung\", \"face wash\"],\n",
    "    \"toner\": [\"toner\", \"gesichtswasser\"],\n",
    "    \"serum\": [\"serum\"],\n",
    "    \"essence\": [\"essence\", \"essenz\"],\n",
    "    \"moisturizer\": [\"moisturizer\", \"feuchtigkeitscreme\"],\n",
    "    \"sunscreen\": [\"sunscreen\", \"sonnencreme\"],\n",
    "    \"eye cream\": [\"eye cream\", \"augencreme\"],\n",
    "    \"exfoliator\": [\"exfoliator\", \"peeling\"],\n",
    "    \"spot treatment\": [\"spot treatment\", \"punktbehandlung\"],\n",
    "    \"micellar water\": [\"micellar water\", \"mizellenwasser\"],\n",
    "    \"night cream\": [\"night cream\", \"nachtcreme\"],\n",
    "    \"face oil\": [\"face oil\", \"gesichtsöl\"],\n",
    "    \"mask\": [\"mask\", \"maske\"]\n",
    "}"
   ]
  },
  {
   "cell_type": "code",
   "execution_count": null,
   "metadata": {},
   "outputs": [
    {
     "name": "stderr",
     "output_type": "stream",
     "text": [
      "100%|██████████| 54237/54237 [00:17<00:00, 3097.69it/s]\n"
     ]
    },
    {
     "data": {
      "application/vnd.microsoft.datawrangler.viewer.v0+json": {
       "columns": [
        {
         "name": "index",
         "rawType": "int64",
         "type": "integer"
        },
        {
         "name": "Item",
         "rawType": "object",
         "type": "string"
        },
        {
         "name": "Frequency",
         "rawType": "int64",
         "type": "integer"
        }
       ],
       "conversionMethod": "pd.DataFrame",
       "ref": "18f0711c-5742-4892-aed6-fbaaca179ebb",
       "rows": [
        [
         "0",
         "cleanser",
         "1151"
        ],
        [
         "1",
         "serum",
         "980"
        ],
        [
         "2",
         "toner",
         "943"
        ],
        [
         "3",
         "moisturizer",
         "626"
        ],
        [
         "4",
         "sunscreen",
         "594"
        ],
        [
         "5",
         "mask",
         "579"
        ],
        [
         "6",
         "vitamin c",
         "379"
        ],
        [
         "7",
         "retinol",
         "321"
        ],
        [
         "8",
         "exfoliator",
         "152"
        ],
        [
         "9",
         "niacinamide",
         "140"
        ],
        [
         "10",
         "eye cream",
         "126"
        ],
        [
         "11",
         "essence",
         "106"
        ],
        [
         "12",
         "micellar water",
         "97"
        ],
        [
         "13",
         "salicylic acid",
         "82"
        ],
        [
         "14",
         "hyaluronic acid",
         "73"
        ],
        [
         "15",
         "aloe vera",
         "67"
        ],
        [
         "16",
         "glycolic acid",
         "42"
        ],
        [
         "17",
         "peptides",
         "41"
        ],
        [
         "18",
         "spot treatment",
         "28"
        ],
        [
         "19",
         "panthenol",
         "21"
        ],
        [
         "20",
         "ceramides",
         "20"
        ],
        [
         "21",
         "benzoyl peroxide",
         "20"
        ],
        [
         "22",
         "night cream",
         "16"
        ],
        [
         "23",
         "glycerin",
         "13"
        ],
        [
         "24",
         "bakuchiol",
         "10"
        ],
        [
         "25",
         "green tea",
         "8"
        ],
        [
         "26",
         "squalane",
         "8"
        ],
        [
         "27",
         "kojic acid",
         "8"
        ],
        [
         "28",
         "face oil",
         "7"
        ],
        [
         "29",
         "pha",
         "6"
        ]
       ],
       "shape": {
        "columns": 2,
        "rows": 30
       }
      },
      "text/html": [
       "<div>\n",
       "<style scoped>\n",
       "    .dataframe tbody tr th:only-of-type {\n",
       "        vertical-align: middle;\n",
       "    }\n",
       "\n",
       "    .dataframe tbody tr th {\n",
       "        vertical-align: top;\n",
       "    }\n",
       "\n",
       "    .dataframe thead th {\n",
       "        text-align: right;\n",
       "    }\n",
       "</style>\n",
       "<table border=\"1\" class=\"dataframe\">\n",
       "  <thead>\n",
       "    <tr style=\"text-align: right;\">\n",
       "      <th></th>\n",
       "      <th>Item</th>\n",
       "      <th>Frequency</th>\n",
       "    </tr>\n",
       "  </thead>\n",
       "  <tbody>\n",
       "    <tr>\n",
       "      <th>0</th>\n",
       "      <td>cleanser</td>\n",
       "      <td>1151</td>\n",
       "    </tr>\n",
       "    <tr>\n",
       "      <th>1</th>\n",
       "      <td>serum</td>\n",
       "      <td>980</td>\n",
       "    </tr>\n",
       "    <tr>\n",
       "      <th>2</th>\n",
       "      <td>toner</td>\n",
       "      <td>943</td>\n",
       "    </tr>\n",
       "    <tr>\n",
       "      <th>3</th>\n",
       "      <td>moisturizer</td>\n",
       "      <td>626</td>\n",
       "    </tr>\n",
       "    <tr>\n",
       "      <th>4</th>\n",
       "      <td>sunscreen</td>\n",
       "      <td>594</td>\n",
       "    </tr>\n",
       "    <tr>\n",
       "      <th>5</th>\n",
       "      <td>mask</td>\n",
       "      <td>579</td>\n",
       "    </tr>\n",
       "    <tr>\n",
       "      <th>6</th>\n",
       "      <td>vitamin c</td>\n",
       "      <td>379</td>\n",
       "    </tr>\n",
       "    <tr>\n",
       "      <th>7</th>\n",
       "      <td>retinol</td>\n",
       "      <td>321</td>\n",
       "    </tr>\n",
       "    <tr>\n",
       "      <th>8</th>\n",
       "      <td>exfoliator</td>\n",
       "      <td>152</td>\n",
       "    </tr>\n",
       "    <tr>\n",
       "      <th>9</th>\n",
       "      <td>niacinamide</td>\n",
       "      <td>140</td>\n",
       "    </tr>\n",
       "    <tr>\n",
       "      <th>10</th>\n",
       "      <td>eye cream</td>\n",
       "      <td>126</td>\n",
       "    </tr>\n",
       "    <tr>\n",
       "      <th>11</th>\n",
       "      <td>essence</td>\n",
       "      <td>106</td>\n",
       "    </tr>\n",
       "    <tr>\n",
       "      <th>12</th>\n",
       "      <td>micellar water</td>\n",
       "      <td>97</td>\n",
       "    </tr>\n",
       "    <tr>\n",
       "      <th>13</th>\n",
       "      <td>salicylic acid</td>\n",
       "      <td>82</td>\n",
       "    </tr>\n",
       "    <tr>\n",
       "      <th>14</th>\n",
       "      <td>hyaluronic acid</td>\n",
       "      <td>73</td>\n",
       "    </tr>\n",
       "    <tr>\n",
       "      <th>15</th>\n",
       "      <td>aloe vera</td>\n",
       "      <td>67</td>\n",
       "    </tr>\n",
       "    <tr>\n",
       "      <th>16</th>\n",
       "      <td>glycolic acid</td>\n",
       "      <td>42</td>\n",
       "    </tr>\n",
       "    <tr>\n",
       "      <th>17</th>\n",
       "      <td>peptides</td>\n",
       "      <td>41</td>\n",
       "    </tr>\n",
       "    <tr>\n",
       "      <th>18</th>\n",
       "      <td>spot treatment</td>\n",
       "      <td>28</td>\n",
       "    </tr>\n",
       "    <tr>\n",
       "      <th>19</th>\n",
       "      <td>panthenol</td>\n",
       "      <td>21</td>\n",
       "    </tr>\n",
       "    <tr>\n",
       "      <th>20</th>\n",
       "      <td>ceramides</td>\n",
       "      <td>20</td>\n",
       "    </tr>\n",
       "    <tr>\n",
       "      <th>21</th>\n",
       "      <td>benzoyl peroxide</td>\n",
       "      <td>20</td>\n",
       "    </tr>\n",
       "    <tr>\n",
       "      <th>22</th>\n",
       "      <td>night cream</td>\n",
       "      <td>16</td>\n",
       "    </tr>\n",
       "    <tr>\n",
       "      <th>23</th>\n",
       "      <td>glycerin</td>\n",
       "      <td>13</td>\n",
       "    </tr>\n",
       "    <tr>\n",
       "      <th>24</th>\n",
       "      <td>bakuchiol</td>\n",
       "      <td>10</td>\n",
       "    </tr>\n",
       "    <tr>\n",
       "      <th>25</th>\n",
       "      <td>green tea</td>\n",
       "      <td>8</td>\n",
       "    </tr>\n",
       "    <tr>\n",
       "      <th>26</th>\n",
       "      <td>squalane</td>\n",
       "      <td>8</td>\n",
       "    </tr>\n",
       "    <tr>\n",
       "      <th>27</th>\n",
       "      <td>kojic acid</td>\n",
       "      <td>8</td>\n",
       "    </tr>\n",
       "    <tr>\n",
       "      <th>28</th>\n",
       "      <td>face oil</td>\n",
       "      <td>7</td>\n",
       "    </tr>\n",
       "    <tr>\n",
       "      <th>29</th>\n",
       "      <td>pha</td>\n",
       "      <td>6</td>\n",
       "    </tr>\n",
       "  </tbody>\n",
       "</table>\n",
       "</div>"
      ],
      "text/plain": [
       "                Item  Frequency\n",
       "0           cleanser       1151\n",
       "1              serum        980\n",
       "2              toner        943\n",
       "3        moisturizer        626\n",
       "4          sunscreen        594\n",
       "5               mask        579\n",
       "6          vitamin c        379\n",
       "7            retinol        321\n",
       "8         exfoliator        152\n",
       "9        niacinamide        140\n",
       "10         eye cream        126\n",
       "11           essence        106\n",
       "12    micellar water         97\n",
       "13    salicylic acid         82\n",
       "14   hyaluronic acid         73\n",
       "15         aloe vera         67\n",
       "16     glycolic acid         42\n",
       "17          peptides         41\n",
       "18    spot treatment         28\n",
       "19         panthenol         21\n",
       "20         ceramides         20\n",
       "21  benzoyl peroxide         20\n",
       "22       night cream         16\n",
       "23          glycerin         13\n",
       "24         bakuchiol         10\n",
       "25         green tea          8\n",
       "26          squalane          8\n",
       "27        kojic acid          8\n",
       "28          face oil          7\n",
       "29               pha          6"
      ]
     },
     "metadata": {},
     "output_type": "display_data"
    }
   ],
   "source": [
    "# build a list of all terms for matching\n",
    "all_ingredient_terms = [term for group in ingredient_map.values() for term in group]\n",
    "all_product_terms = [term for group in product_map.values() for term in group]\n",
    "all_keywords = list(set(all_ingredient_terms + all_product_terms))\n",
    "\n",
    "nlp = spacy.blank(\"xx\")  # multilingual pipeline\n",
    "matcher = PhraseMatcher(nlp.vocab, attr=\"LOWER\")\n",
    "patterns = [nlp.make_doc(term) for term in all_keywords]\n",
    "matcher.add(\"SKINCARE\", patterns)\n",
    "\n",
    "# Normalize Matched Terms to Unified Names\n",
    "def normalize_term(term):\n",
    "    term_lower = term.lower()\n",
    "    for name, synonyms in {**ingredient_map, **product_map}.items():\n",
    "        if term_lower in synonyms:\n",
    "            return name\n",
    "    return term_lower\n",
    "\n",
    "# process all comments in batch (pipe)\n",
    "results = []\n",
    "\n",
    "for doc in tqdm(nlp.pipe(comments, batch_size=50), total=len(comments)):\n",
    "    matches = matcher(doc)\n",
    "    matched = [doc[start:end].text for _, start, end in matches]\n",
    "    normalized = [normalize_term(t) for t in matched]\n",
    "\n",
    "    sequence = [token.text for token in doc if token.text.lower() in all_keywords]\n",
    "    normalized_sequence = [normalize_term(t) for t in sequence]\n",
    "\n",
    "    results.append({\n",
    "        \"normalized_items\": normalized,\n",
    "        \"routine_sequence\": normalized_sequence\n",
    "    })\n",
    "\n",
    "results_df = pd.DataFrame(results)\n",
    "\n",
    "# Frequency analysis\n",
    "all_normalized = list(chain.from_iterable(results_df['normalized_items']))\n",
    "freq = Counter(all_normalized)\n",
    "top_items_df = pd.DataFrame(freq.most_common(30), columns=['Item', 'Frequency'])\n",
    "top_items_df.head(30)"
   ]
  },
  {
   "cell_type": "markdown",
   "metadata": {},
   "source": [
    "Sankey diagramm (common routines)"
   ]
  },
  {
   "cell_type": "code",
   "execution_count": null,
   "metadata": {},
   "outputs": [
    {
     "data": {
      "application/vnd.plotly.v1+json": {
       "config": {
        "plotlyServerURL": "https://plot.ly"
       },
       "data": [
        {
         "link": {
          "source": [
           6,
           22,
           18,
           5,
           4,
           15,
           12,
           6,
           19,
           5,
           5,
           15,
           13,
           14,
           13,
           22,
           7,
           5,
           22,
           11,
           6,
           18,
           5,
           22,
           4,
           5,
           24,
           13,
           22,
           4,
           22,
           4,
           5,
           4,
           22,
           22,
           2,
           20,
           18,
           21,
           14,
           20,
           24,
           23,
           24,
           18,
           5,
           4,
           24,
           24,
           24,
           5,
           13,
           6,
           24,
           4,
           13,
           5,
           20,
           7,
           2,
           18,
           23,
           2,
           0,
           10,
           16,
           16,
           15,
           24,
           7,
           4,
           24,
           12,
           4,
           13,
           18,
           23,
           7,
           4,
           12,
           12,
           5,
           18,
           5,
           23,
           1,
           2,
           6,
           20,
           12,
           6,
           8,
           23,
           4,
           24,
           13,
           18,
           13,
           18,
           11,
           5,
           23,
           2,
           1,
           6,
           19,
           19,
           24,
           9,
           20,
           22,
           20,
           22,
           4,
           18,
           7,
           22,
           7,
           3,
           23,
           10,
           1,
           2,
           0,
           12,
           24,
           20,
           2,
           2,
           10,
           4,
           20,
           5,
           0,
           5,
           11
          ],
          "target": [
           6,
           18,
           6,
           4,
           18,
           22,
           20,
           4,
           22,
           5,
           15,
           4,
           15,
           5,
           6,
           6,
           5,
           22,
           5,
           11,
           18,
           23,
           18,
           4,
           6,
           24,
           13,
           4,
           24,
           5,
           22,
           4,
           6,
           23,
           3,
           2,
           22,
           5,
           5,
           0,
           2,
           4,
           23,
           2,
           6,
           22,
           14,
           24,
           18,
           24,
           5,
           13,
           22,
           23,
           4,
           13,
           18,
           2,
           24,
           6,
           4,
           18,
           5,
           23,
           1,
           24,
           24,
           4,
           15,
           15,
           4,
           20,
           22,
           24,
           19,
           5,
           24,
           18,
           20,
           7,
           4,
           12,
           23,
           4,
           20,
           23,
           18,
           24,
           22,
           15,
           22,
           24,
           4,
           6,
           22,
           20,
           24,
           2,
           13,
           20,
           20,
           16,
           22,
           5,
           1,
           5,
           19,
           18,
           2,
           2,
           20,
           15,
           23,
           23,
           10,
           7,
           18,
           20,
           7,
           4,
           4,
           3,
           5,
           20,
           4,
           17,
           17,
           18,
           2,
           14,
           10,
           2,
           7,
           1,
           22,
           11,
           24
          ],
          "value": [
           26,
           52,
           68,
           74,
           49,
           1,
           1,
           5,
           4,
           44,
           2,
           7,
           1,
           1,
           2,
           17,
           1,
           16,
           63,
           1,
           23,
           4,
           28,
           18,
           13,
           4,
           1,
           10,
           4,
           20,
           80,
           51,
           10,
           6,
           1,
           5,
           12,
           6,
           7,
           1,
           1,
           27,
           1,
           1,
           2,
           2,
           1,
           15,
           6,
           12,
           2,
           12,
           5,
           4,
           23,
           6,
           3,
           14,
           4,
           1,
           6,
           15,
           4,
           3,
           1,
           1,
           1,
           5,
           1,
           1,
           11,
           10,
           2,
           1,
           1,
           7,
           4,
           5,
           1,
           1,
           1,
           1,
           3,
           5,
           2,
           8,
           1,
           2,
           5,
           1,
           1,
           2,
           1,
           1,
           8,
           6,
           1,
           2,
           5,
           2,
           1,
           1,
           2,
           10,
           2,
           5,
           1,
           1,
           1,
           1,
           4,
           1,
           1,
           2,
           1,
           2,
           1,
           2,
           2,
           1,
           2,
           1,
           1,
           1,
           2,
           1,
           1,
           1,
           3,
           1,
           1,
           2,
           1,
           1,
           1,
           1,
           1
          ]
         },
         "node": {
          "label": [
           "glycerin",
           "panthenol",
           "exfoliator",
           "eye cream",
           "serum",
           "toner",
           "sunscreen",
           "peptides",
           "face oil",
           "micellar water",
           "night cream",
           "hyaluronic acid",
           "salicylic acid",
           "essence",
           "pha",
           "ceramides",
           "bakuchiol",
           "benzoyl peroxide",
           "moisturizer",
           "squalane",
           "niacinamide",
           "chamomile",
           "cleanser",
           "mask",
           "retinol"
          ],
          "line": {
           "color": "gray",
           "width": 0.5
          },
          "pad": 15,
          "thickness": 20
         },
         "type": "sankey"
        }
       ],
       "layout": {
        "font": {
         "size": 12
        },
        "template": {
         "data": {
          "bar": [
           {
            "error_x": {
             "color": "#2a3f5f"
            },
            "error_y": {
             "color": "#2a3f5f"
            },
            "marker": {
             "line": {
              "color": "#E5ECF6",
              "width": 0.5
             },
             "pattern": {
              "fillmode": "overlay",
              "size": 10,
              "solidity": 0.2
             }
            },
            "type": "bar"
           }
          ],
          "barpolar": [
           {
            "marker": {
             "line": {
              "color": "#E5ECF6",
              "width": 0.5
             },
             "pattern": {
              "fillmode": "overlay",
              "size": 10,
              "solidity": 0.2
             }
            },
            "type": "barpolar"
           }
          ],
          "carpet": [
           {
            "aaxis": {
             "endlinecolor": "#2a3f5f",
             "gridcolor": "white",
             "linecolor": "white",
             "minorgridcolor": "white",
             "startlinecolor": "#2a3f5f"
            },
            "baxis": {
             "endlinecolor": "#2a3f5f",
             "gridcolor": "white",
             "linecolor": "white",
             "minorgridcolor": "white",
             "startlinecolor": "#2a3f5f"
            },
            "type": "carpet"
           }
          ],
          "choropleth": [
           {
            "colorbar": {
             "outlinewidth": 0,
             "ticks": ""
            },
            "type": "choropleth"
           }
          ],
          "contour": [
           {
            "colorbar": {
             "outlinewidth": 0,
             "ticks": ""
            },
            "colorscale": [
             [
              0,
              "#0d0887"
             ],
             [
              0.1111111111111111,
              "#46039f"
             ],
             [
              0.2222222222222222,
              "#7201a8"
             ],
             [
              0.3333333333333333,
              "#9c179e"
             ],
             [
              0.4444444444444444,
              "#bd3786"
             ],
             [
              0.5555555555555556,
              "#d8576b"
             ],
             [
              0.6666666666666666,
              "#ed7953"
             ],
             [
              0.7777777777777778,
              "#fb9f3a"
             ],
             [
              0.8888888888888888,
              "#fdca26"
             ],
             [
              1,
              "#f0f921"
             ]
            ],
            "type": "contour"
           }
          ],
          "contourcarpet": [
           {
            "colorbar": {
             "outlinewidth": 0,
             "ticks": ""
            },
            "type": "contourcarpet"
           }
          ],
          "heatmap": [
           {
            "colorbar": {
             "outlinewidth": 0,
             "ticks": ""
            },
            "colorscale": [
             [
              0,
              "#0d0887"
             ],
             [
              0.1111111111111111,
              "#46039f"
             ],
             [
              0.2222222222222222,
              "#7201a8"
             ],
             [
              0.3333333333333333,
              "#9c179e"
             ],
             [
              0.4444444444444444,
              "#bd3786"
             ],
             [
              0.5555555555555556,
              "#d8576b"
             ],
             [
              0.6666666666666666,
              "#ed7953"
             ],
             [
              0.7777777777777778,
              "#fb9f3a"
             ],
             [
              0.8888888888888888,
              "#fdca26"
             ],
             [
              1,
              "#f0f921"
             ]
            ],
            "type": "heatmap"
           }
          ],
          "histogram": [
           {
            "marker": {
             "pattern": {
              "fillmode": "overlay",
              "size": 10,
              "solidity": 0.2
             }
            },
            "type": "histogram"
           }
          ],
          "histogram2d": [
           {
            "colorbar": {
             "outlinewidth": 0,
             "ticks": ""
            },
            "colorscale": [
             [
              0,
              "#0d0887"
             ],
             [
              0.1111111111111111,
              "#46039f"
             ],
             [
              0.2222222222222222,
              "#7201a8"
             ],
             [
              0.3333333333333333,
              "#9c179e"
             ],
             [
              0.4444444444444444,
              "#bd3786"
             ],
             [
              0.5555555555555556,
              "#d8576b"
             ],
             [
              0.6666666666666666,
              "#ed7953"
             ],
             [
              0.7777777777777778,
              "#fb9f3a"
             ],
             [
              0.8888888888888888,
              "#fdca26"
             ],
             [
              1,
              "#f0f921"
             ]
            ],
            "type": "histogram2d"
           }
          ],
          "histogram2dcontour": [
           {
            "colorbar": {
             "outlinewidth": 0,
             "ticks": ""
            },
            "colorscale": [
             [
              0,
              "#0d0887"
             ],
             [
              0.1111111111111111,
              "#46039f"
             ],
             [
              0.2222222222222222,
              "#7201a8"
             ],
             [
              0.3333333333333333,
              "#9c179e"
             ],
             [
              0.4444444444444444,
              "#bd3786"
             ],
             [
              0.5555555555555556,
              "#d8576b"
             ],
             [
              0.6666666666666666,
              "#ed7953"
             ],
             [
              0.7777777777777778,
              "#fb9f3a"
             ],
             [
              0.8888888888888888,
              "#fdca26"
             ],
             [
              1,
              "#f0f921"
             ]
            ],
            "type": "histogram2dcontour"
           }
          ],
          "mesh3d": [
           {
            "colorbar": {
             "outlinewidth": 0,
             "ticks": ""
            },
            "type": "mesh3d"
           }
          ],
          "parcoords": [
           {
            "line": {
             "colorbar": {
              "outlinewidth": 0,
              "ticks": ""
             }
            },
            "type": "parcoords"
           }
          ],
          "pie": [
           {
            "automargin": true,
            "type": "pie"
           }
          ],
          "scatter": [
           {
            "fillpattern": {
             "fillmode": "overlay",
             "size": 10,
             "solidity": 0.2
            },
            "type": "scatter"
           }
          ],
          "scatter3d": [
           {
            "line": {
             "colorbar": {
              "outlinewidth": 0,
              "ticks": ""
             }
            },
            "marker": {
             "colorbar": {
              "outlinewidth": 0,
              "ticks": ""
             }
            },
            "type": "scatter3d"
           }
          ],
          "scattercarpet": [
           {
            "marker": {
             "colorbar": {
              "outlinewidth": 0,
              "ticks": ""
             }
            },
            "type": "scattercarpet"
           }
          ],
          "scattergeo": [
           {
            "marker": {
             "colorbar": {
              "outlinewidth": 0,
              "ticks": ""
             }
            },
            "type": "scattergeo"
           }
          ],
          "scattergl": [
           {
            "marker": {
             "colorbar": {
              "outlinewidth": 0,
              "ticks": ""
             }
            },
            "type": "scattergl"
           }
          ],
          "scattermap": [
           {
            "marker": {
             "colorbar": {
              "outlinewidth": 0,
              "ticks": ""
             }
            },
            "type": "scattermap"
           }
          ],
          "scattermapbox": [
           {
            "marker": {
             "colorbar": {
              "outlinewidth": 0,
              "ticks": ""
             }
            },
            "type": "scattermapbox"
           }
          ],
          "scatterpolar": [
           {
            "marker": {
             "colorbar": {
              "outlinewidth": 0,
              "ticks": ""
             }
            },
            "type": "scatterpolar"
           }
          ],
          "scatterpolargl": [
           {
            "marker": {
             "colorbar": {
              "outlinewidth": 0,
              "ticks": ""
             }
            },
            "type": "scatterpolargl"
           }
          ],
          "scatterternary": [
           {
            "marker": {
             "colorbar": {
              "outlinewidth": 0,
              "ticks": ""
             }
            },
            "type": "scatterternary"
           }
          ],
          "surface": [
           {
            "colorbar": {
             "outlinewidth": 0,
             "ticks": ""
            },
            "colorscale": [
             [
              0,
              "#0d0887"
             ],
             [
              0.1111111111111111,
              "#46039f"
             ],
             [
              0.2222222222222222,
              "#7201a8"
             ],
             [
              0.3333333333333333,
              "#9c179e"
             ],
             [
              0.4444444444444444,
              "#bd3786"
             ],
             [
              0.5555555555555556,
              "#d8576b"
             ],
             [
              0.6666666666666666,
              "#ed7953"
             ],
             [
              0.7777777777777778,
              "#fb9f3a"
             ],
             [
              0.8888888888888888,
              "#fdca26"
             ],
             [
              1,
              "#f0f921"
             ]
            ],
            "type": "surface"
           }
          ],
          "table": [
           {
            "cells": {
             "fill": {
              "color": "#EBF0F8"
             },
             "line": {
              "color": "white"
             }
            },
            "header": {
             "fill": {
              "color": "#C8D4E3"
             },
             "line": {
              "color": "white"
             }
            },
            "type": "table"
           }
          ]
         },
         "layout": {
          "annotationdefaults": {
           "arrowcolor": "#2a3f5f",
           "arrowhead": 0,
           "arrowwidth": 1
          },
          "autotypenumbers": "strict",
          "coloraxis": {
           "colorbar": {
            "outlinewidth": 0,
            "ticks": ""
           }
          },
          "colorscale": {
           "diverging": [
            [
             0,
             "#8e0152"
            ],
            [
             0.1,
             "#c51b7d"
            ],
            [
             0.2,
             "#de77ae"
            ],
            [
             0.3,
             "#f1b6da"
            ],
            [
             0.4,
             "#fde0ef"
            ],
            [
             0.5,
             "#f7f7f7"
            ],
            [
             0.6,
             "#e6f5d0"
            ],
            [
             0.7,
             "#b8e186"
            ],
            [
             0.8,
             "#7fbc41"
            ],
            [
             0.9,
             "#4d9221"
            ],
            [
             1,
             "#276419"
            ]
           ],
           "sequential": [
            [
             0,
             "#0d0887"
            ],
            [
             0.1111111111111111,
             "#46039f"
            ],
            [
             0.2222222222222222,
             "#7201a8"
            ],
            [
             0.3333333333333333,
             "#9c179e"
            ],
            [
             0.4444444444444444,
             "#bd3786"
            ],
            [
             0.5555555555555556,
             "#d8576b"
            ],
            [
             0.6666666666666666,
             "#ed7953"
            ],
            [
             0.7777777777777778,
             "#fb9f3a"
            ],
            [
             0.8888888888888888,
             "#fdca26"
            ],
            [
             1,
             "#f0f921"
            ]
           ],
           "sequentialminus": [
            [
             0,
             "#0d0887"
            ],
            [
             0.1111111111111111,
             "#46039f"
            ],
            [
             0.2222222222222222,
             "#7201a8"
            ],
            [
             0.3333333333333333,
             "#9c179e"
            ],
            [
             0.4444444444444444,
             "#bd3786"
            ],
            [
             0.5555555555555556,
             "#d8576b"
            ],
            [
             0.6666666666666666,
             "#ed7953"
            ],
            [
             0.7777777777777778,
             "#fb9f3a"
            ],
            [
             0.8888888888888888,
             "#fdca26"
            ],
            [
             1,
             "#f0f921"
            ]
           ]
          },
          "colorway": [
           "#636efa",
           "#EF553B",
           "#00cc96",
           "#ab63fa",
           "#FFA15A",
           "#19d3f3",
           "#FF6692",
           "#B6E880",
           "#FF97FF",
           "#FECB52"
          ],
          "font": {
           "color": "#2a3f5f"
          },
          "geo": {
           "bgcolor": "white",
           "lakecolor": "white",
           "landcolor": "#E5ECF6",
           "showlakes": true,
           "showland": true,
           "subunitcolor": "white"
          },
          "hoverlabel": {
           "align": "left"
          },
          "hovermode": "closest",
          "mapbox": {
           "style": "light"
          },
          "paper_bgcolor": "white",
          "plot_bgcolor": "#E5ECF6",
          "polar": {
           "angularaxis": {
            "gridcolor": "white",
            "linecolor": "white",
            "ticks": ""
           },
           "bgcolor": "#E5ECF6",
           "radialaxis": {
            "gridcolor": "white",
            "linecolor": "white",
            "ticks": ""
           }
          },
          "scene": {
           "xaxis": {
            "backgroundcolor": "#E5ECF6",
            "gridcolor": "white",
            "gridwidth": 2,
            "linecolor": "white",
            "showbackground": true,
            "ticks": "",
            "zerolinecolor": "white"
           },
           "yaxis": {
            "backgroundcolor": "#E5ECF6",
            "gridcolor": "white",
            "gridwidth": 2,
            "linecolor": "white",
            "showbackground": true,
            "ticks": "",
            "zerolinecolor": "white"
           },
           "zaxis": {
            "backgroundcolor": "#E5ECF6",
            "gridcolor": "white",
            "gridwidth": 2,
            "linecolor": "white",
            "showbackground": true,
            "ticks": "",
            "zerolinecolor": "white"
           }
          },
          "shapedefaults": {
           "line": {
            "color": "#2a3f5f"
           }
          },
          "ternary": {
           "aaxis": {
            "gridcolor": "white",
            "linecolor": "white",
            "ticks": ""
           },
           "baxis": {
            "gridcolor": "white",
            "linecolor": "white",
            "ticks": ""
           },
           "bgcolor": "#E5ECF6",
           "caxis": {
            "gridcolor": "white",
            "linecolor": "white",
            "ticks": ""
           }
          },
          "title": {
           "x": 0.05
          },
          "xaxis": {
           "automargin": true,
           "gridcolor": "white",
           "linecolor": "white",
           "ticks": "",
           "title": {
            "standoff": 15
           },
           "zerolinecolor": "white",
           "zerolinewidth": 2
          },
          "yaxis": {
           "automargin": true,
           "gridcolor": "white",
           "linecolor": "white",
           "ticks": "",
           "title": {
            "standoff": 15
           },
           "zerolinecolor": "white",
           "zerolinewidth": 2
          }
         }
        },
        "title": {
         "text": "Skincare Routine Flow (All Comments)"
        }
       }
      }
     },
     "metadata": {},
     "output_type": "display_data"
    }
   ],
   "source": [
    "# Extract 2-step transitions\n",
    "routine_sequences = results_df['routine_sequence'].dropna().tolist()\n",
    "routine_sequences = [tuple(seq) for seq in routine_sequences if len(seq) > 1]\n",
    "\n",
    "edges = []\n",
    "for routine in routine_sequences:\n",
    "    for i in range(len(routine) - 1):\n",
    "        edges.append((routine[i], routine[i + 1]))\n",
    "\n",
    "edge_counts = Counter(edges)\n",
    "\n",
    "# Sankey input\n",
    "labels = list(set([e[0] for e in edge_counts] + [e[1] for e in edge_counts]))\n",
    "label_to_index = {label: i for i, label in enumerate(labels)}\n",
    "source_indices = [label_to_index[src] for (src, tgt) in edge_counts]\n",
    "target_indices = [label_to_index[tgt] for (src, tgt) in edge_counts]\n",
    "values = list(edge_counts.values())\n",
    "\n",
    "# Plot Sankey\n",
    "fig = go.Figure(data=[go.Sankey(\n",
    "    node=dict(pad=15, thickness=20, line=dict(color=\"gray\", width=0.5), label=labels),\n",
    "    link=dict(source=source_indices, target=target_indices, value=values)\n",
    ")])\n",
    "fig.update_layout(title_text=\"Skincare Routine Flow (All Comments)\", font_size=12)\n",
    "fig.show()\n"
   ]
  },
  {
   "cell_type": "markdown",
   "metadata": {},
   "source": [
    "Common routines and example comment"
   ]
  },
  {
   "cell_type": "code",
   "execution_count": null,
   "metadata": {},
   "outputs": [
    {
     "name": "stdout",
     "output_type": "stream",
     "text": [
      "                               Routine  Frequency  \\\n",
      "0                        toner → serum         37   \n",
      "1               cleanser → moisturizer         27   \n",
      "2              moisturizer → sunscreen         25   \n",
      "3                  serum → moisturizer         24   \n",
      "4                  niacinamide → serum         21   \n",
      "5                     cleanser → toner         19   \n",
      "6                      retinol → serum         19   \n",
      "7   cleanser → moisturizer → sunscreen         15   \n",
      "8                     toner → cleanser         14   \n",
      "9              sunscreen → moisturizer         13   \n",
      "10                       serum → toner         12   \n",
      "11            cleanser → toner → serum         11   \n",
      "12                     serum → retinol         11   \n",
      "13                cleanser → sunscreen         11   \n",
      "14                    peptides → serum         10   \n",
      "15                 toner → moisturizer         10   \n",
      "16               exfoliator → cleanser         10   \n",
      "\n",
      "                                       ExampleComment  \n",
      "0   Should you use both a toner and a serum? And e...  \n",
      "1              I only use cleanser and moisturizer 😭💀  \n",
      "2   So I can use the moisturizer and just put suns...  \n",
      "3   I’m an esthetician. You should only be doing a...  \n",
      "4   Das Niacinamid Serum lieb ich, genau wie die T...  \n",
      "5   is the anua oil cleanser pore control ok for u...  \n",
      "6   I’ve researched to use retinol before the seru...  \n",
      "7   Cleanser > Moisturizer > Sunscreen that's what...  \n",
      "8   ANUA TONER BROKE ME OUTTTTT BUT I LOVE THEIR F...  \n",
      "9   I thought sunscreen would go before the moistu...  \n",
      "10  I second this! Korean skincare has changed my ...  \n",
      "11    I use cleanser toner serum and spit treatment 😅  \n",
      "12  Woah this is actually my routine! Though I add...  \n",
      "13  Was hältst du von la roche posay effaclar clea...  \n",
      "14  For someone in their 30's do you suggest skipp...  \n",
      "15  try doing toner, serums, oils, and then moistu...  \n",
      "16  darf man den Liqiud refiner mit den no cosmeti...  \n"
     ]
    }
   ],
   "source": [
    "# Helper function to remove consecutive duplicates from a routine\n",
    "def remove_consecutive_duplicates(seq):\n",
    "    return [x for i, x in enumerate(seq) if i == 0 or x != seq[i - 1]]\n",
    "\n",
    "# Extract routine sequences from the DataFrame\n",
    "routine_sequences = results_df['routine_sequence'].dropna().tolist()\n",
    "\n",
    "# Clean each sequence and filter out short ones\n",
    "routine_sequences = [\n",
    "    tuple(remove_consecutive_duplicates(seq))\n",
    "    for seq in routine_sequences\n",
    "    if len(remove_consecutive_duplicates(seq)) > 1\n",
    "]\n",
    "\n",
    "# Count how often each cleaned routine occurs\n",
    "from collections import Counter\n",
    "routine_counts = Counter(routine_sequences)\n",
    "\n",
    "# Create a DataFrame from the routine counts\n",
    "routine_df = pd.DataFrame([\n",
    "    {\"Routine\": \" → \".join(routine), \"Frequency\": count}\n",
    "    for routine, count in routine_counts.items()\n",
    "])\n",
    "\n",
    "# Filter routines by minimum frequency (e.g. at least 10)\n",
    "routine_df = routine_df[routine_df['Frequency'] >= 10].sort_values(by='Frequency', ascending=False)\n",
    "\n",
    "# Find an example comment for each routine\n",
    "examples = []\n",
    "\n",
    "for i, seq in enumerate(results_df['routine_sequence']):\n",
    "    if not isinstance(seq, list) or len(seq) < 2:\n",
    "        continue\n",
    "\n",
    "    cleaned_seq = tuple(remove_consecutive_duplicates(seq))\n",
    "    \n",
    "    if cleaned_seq in routine_counts and routine_counts[cleaned_seq] >= 10:\n",
    "        examples.append({\n",
    "            \"Routine\": \" → \".join(cleaned_seq),\n",
    "            \"ExampleComment\": comments[i]\n",
    "        })\n",
    "\n",
    "# Create example DataFrame and remove duplicates per routine\n",
    "example_df = pd.DataFrame(examples).drop_duplicates(subset=\"Routine\")\n",
    "\n",
    "# Merge example comments with the routine frequency table\n",
    "routine_df = routine_df.merge(example_df, on=\"Routine\", how=\"left\")\n",
    "\n",
    "# Display routine with frequency and example comment\n",
    "print(routine_df[['Routine', 'Frequency', 'ExampleComment']])\n"
   ]
  }
 ],
 "metadata": {
  "kernelspec": {
   "display_name": ".venv",
   "language": "python",
   "name": "python3"
  },
  "language_info": {
   "codemirror_mode": {
    "name": "ipython",
    "version": 3
   },
   "file_extension": ".py",
   "mimetype": "text/x-python",
   "name": "python",
   "nbconvert_exporter": "python",
   "pygments_lexer": "ipython3",
   "version": "3.10.13"
  }
 },
 "nbformat": 4,
 "nbformat_minor": 2
}
