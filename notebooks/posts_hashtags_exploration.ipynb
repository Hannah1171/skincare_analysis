{
 "cells": [
  {
   "cell_type": "code",
   "execution_count": null,
   "id": "22f17527",
   "metadata": {},
   "outputs": [],
   "source": [
    "import pandas as pd\n",
    "import seaborn as sns\n",
    "import matplotlib.pyplot as plt\n",
    "import pytz\n",
    "import numpy as np"
   ]
  },
  {
   "cell_type": "code",
   "execution_count": null,
   "id": "2cdb8d12",
   "metadata": {},
   "outputs": [],
   "source": [
    "data_posts_hashtags_raw = pd.read_csv(\"../data/posts_hashtags_as_array.csv\")\n",
    "data_posts_hashtags = data_posts_hashtags_raw.drop(columns = ['id'])\n",
    "data_posts_hashtags['text'][0]"
   ]
  },
  {
   "cell_type": "markdown",
   "id": "2ec8e865",
   "metadata": {},
   "source": [
    "12271 rows"
   ]
  },
  {
   "cell_type": "markdown",
   "id": "5508db58",
   "metadata": {},
   "source": [
    "**Data preperation**"
   ]
  },
  {
   "cell_type": "code",
   "execution_count": null,
   "id": "656ea3d7",
   "metadata": {},
   "outputs": [],
   "source": [
    "# Count NaNs per column\n",
    "nan_counts = data_posts_hashtags.isna().sum()\n",
    "\n",
    "# Count unique values per column\n",
    "unique_counts = data_posts_hashtags.nunique()\n",
    "\n",
    "# Combine into one table\n",
    "summary = pd.DataFrame({\n",
    "    'NaNs': nan_counts,\n",
    "    'Unique Values': unique_counts\n",
    "})\n",
    "\n",
    "print(summary)"
   ]
  },
  {
   "cell_type": "markdown",
   "id": "719ae19b",
   "metadata": {},
   "source": [
    "isMuted, author_region, location_address, author_ttSeller have a lot of NaNs. author_region is always empty\n"
   ]
  },
  {
   "cell_type": "code",
   "execution_count": null,
   "id": "ca2b82c4",
   "metadata": {},
   "outputs": [],
   "source": [
    "#Drop author region\n",
    "data_posts_hashtags = data_posts_hashtags_raw.drop(columns = ['author_region'])"
   ]
  },
  {
   "cell_type": "code",
   "execution_count": null,
   "id": "ba755ca0",
   "metadata": {},
   "outputs": [],
   "source": [
    "data_posts_hashtags[\"createTimeISO\"] = pd.to_datetime(data_posts_hashtags[\"createTimeISO\"])\n",
    "data_posts_hashtags[\"country\"] = data_posts_hashtags[\"location_address\"].str.extract(r',\\s*([^,]+)$')\n"
   ]
  },
  {
   "cell_type": "markdown",
   "id": "9a79b1ac",
   "metadata": {},
   "source": [
    "**Language distribution**"
   ]
  },
  {
   "cell_type": "code",
   "execution_count": null,
   "id": "0f1b92f2",
   "metadata": {},
   "outputs": [],
   "source": [
    "# Count languages\n",
    "lang_counts = data_posts_hashtags['textLanguage'].value_counts()\n",
    "\n",
    "# Convert to DataFrame and calculate percentage\n",
    "lang_dist = lang_counts.reset_index()\n",
    "lang_dist.columns = ['Language', 'Count']\n",
    "lang_dist['Percentage'] = (lang_dist['Count'] / lang_dist['Count'].sum()) * 100\n",
    "\n",
    "# Sort by most common\n",
    "lang_dist = lang_dist.sort_values(by='Count', ascending=False).reset_index(drop=True)\n",
    "\n",
    "# Display top 5\n",
    "lang_dist.head(5)"
   ]
  },
  {
   "cell_type": "markdown",
   "id": "ec758c9b",
   "metadata": {},
   "source": [
    "75% of all posts are in German in English therefore we will from know on limit our analysis to those two languages"
   ]
  },
  {
   "cell_type": "code",
   "execution_count": null,
   "id": "af06b37a",
   "metadata": {},
   "outputs": [],
   "source": [
    "data_english = data_posts_hashtags[data_posts_hashtags.textLanguage.isin(['en'])]\n",
    "data_german = data_posts_hashtags[data_posts_hashtags.textLanguage.isin(['de'])]"
   ]
  },
  {
   "cell_type": "markdown",
   "id": "707ef7f1",
   "metadata": {},
   "source": [
    "**Content with advertisements**"
   ]
  },
  {
   "cell_type": "code",
   "execution_count": null,
   "id": "8796327c",
   "metadata": {},
   "outputs": [],
   "source": [
    "cols = [\"isAd\", \"isSponsored\"]\n",
    "\n",
    "plt.figure(figsize=(10, 4))\n",
    "for i, col in enumerate(cols, 1):\n",
    "    plt.subplot(1, 2, i)\n",
    "    sns.countplot(x=col, data=data_posts_hashtags)\n",
    "    plt.title(col)\n",
    "\n",
    "plt.tight_layout()\n",
    "plt.show()"
   ]
  },
  {
   "cell_type": "code",
   "execution_count": null,
   "id": "6c59a88e",
   "metadata": {},
   "outputs": [],
   "source": [
    "(data_posts_hashtags[\"isAd\"] == data_posts_hashtags[\"isSponsored\"]).sum()\n",
    "\n",
    "(data_posts_hashtags[\"isAd\"] != data_posts_hashtags[\"isSponsored\"]).sum()"
   ]
  },
  {
   "cell_type": "markdown",
   "id": "ebb41c64",
   "metadata": {},
   "source": [
    "Nearly all of the data are not ads nor sponsored. 582 rows is_ad and is_sponsred is different. This makes only 5.5%. Meaning for 95% of the data is_ad equals to is_sponsored"
   ]
  },
  {
   "cell_type": "markdown",
   "id": "bce73626",
   "metadata": {},
   "source": [
    "**Success metrics**"
   ]
  },
  {
   "cell_type": "code",
   "execution_count": null,
   "id": "7883f267",
   "metadata": {},
   "outputs": [],
   "source": [
    "metrics = [\"playCount\", \"diggCount\", \"commentCount\", \"collectCount\", \"shareCount\"]"
   ]
  },
  {
   "cell_type": "code",
   "execution_count": null,
   "id": "2d1946b7",
   "metadata": {},
   "outputs": [],
   "source": [
    "# Create a melted DataFrame with a new column \"is_zero\"\n",
    "metrics_is_zero = data_posts_hashtags[metrics].melt(var_name=\"metric\", value_name=\"value\")\n",
    "metrics_is_zero[\"is_zero\"] = metrics_is_zero[\"value\"] == 0\n",
    "\n",
    "plt.figure(figsize=(12, 6))\n",
    "sns.countplot(data=metrics_is_zero, x=\"metric\", hue=\"is_zero\")\n",
    "plt.title(\"Share of post with 0 play_counts, comments etc\")\n",
    "plt.legend(title=\"Is Zero\")\n",
    "plt.tight_layout()\n",
    "plt.show()"
   ]
  },
  {
   "cell_type": "code",
   "execution_count": null,
   "id": "629a056c",
   "metadata": {},
   "outputs": [],
   "source": [
    "(data_posts_hashtags[\"playCount\"] == 0).sum()"
   ]
  },
  {
   "cell_type": "markdown",
   "id": "a1136ea3",
   "metadata": {},
   "source": [
    "We can see that there is a quite high share of posts which have no comments etc"
   ]
  },
  {
   "cell_type": "code",
   "execution_count": null,
   "id": "39bd8d4d",
   "metadata": {},
   "outputs": [],
   "source": [
    "plt.figure(figsize=(20, 20))\n",
    "for i, col in enumerate(metrics, 1):\n",
    "    plt.subplot(3, 3, i)\n",
    "    q99 = data_posts_hashtags[col].quantile(0.99)\n",
    "    filtered = data_posts_hashtags[(data_posts_hashtags[col] > 0) & (data_posts_hashtags[col] < q99)]\n",
    "    sns.histplot(filtered[col], bins=50, kde=True)\n",
    "    plt.title(f\"{col} (<99th percentile)\")\n",
    "\n",
    "plt.tight_layout()\n",
    "plt.show()"
   ]
  },
  {
   "cell_type": "markdown",
   "id": "8723a184",
   "metadata": {},
   "source": [
    "The success metrics are gighly skweded "
   ]
  },
  {
   "cell_type": "code",
   "execution_count": null,
   "id": "213f6329",
   "metadata": {},
   "outputs": [],
   "source": [
    "for col in metrics:\n",
    "    q99 = data_posts_hashtags[col].quantile(0.99)\n",
    "    max_val = data_posts_hashtags[col].max()\n",
    "    print(f\"{col}: 99th perc.:{q99:.0f}, max: {max_val}\")"
   ]
  },
  {
   "cell_type": "markdown",
   "id": "f7aef3a2",
   "metadata": {},
   "source": [
    "**Video duration**"
   ]
  },
  {
   "cell_type": "code",
   "execution_count": null,
   "id": "f54b277c",
   "metadata": {},
   "outputs": [],
   "source": [
    "sns.boxplot(x=data_posts_hashtags[\"video_duration\"])\n",
    "plt.title(\"Video Duration Spread\")\n",
    "plt.xlabel(\"Video Duration (seconds)\")\n",
    "plt.show()"
   ]
  },
  {
   "cell_type": "code",
   "execution_count": null,
   "id": "4ce2448f",
   "metadata": {},
   "outputs": [],
   "source": [
    "filtered = data_posts_hashtags[data_posts_hashtags[\"video_duration\"] <= 120]\n",
    "sns.histplot(filtered[\"video_duration\"], bins=50, kde=True)\n",
    "plt.title(\"Distribution of Video Durations ≤ 120s\")\n",
    "plt.xlabel(\"Video Duration (seconds)\")\n",
    "plt.ylabel(\"Count\")\n",
    "plt.show()"
   ]
  },
  {
   "cell_type": "markdown",
   "id": "762c2e09",
   "metadata": {},
   "source": [
    "**From where are our posts**"
   ]
  },
  {
   "cell_type": "code",
   "execution_count": null,
   "id": "4ce07e2f",
   "metadata": {},
   "outputs": [],
   "source": [
    "data_german[\"country\"].unique()"
   ]
  },
  {
   "cell_type": "code",
   "execution_count": null,
   "id": "41b354b1",
   "metadata": {},
   "outputs": [],
   "source": [
    "data_english[\"country\"].unique()"
   ]
  },
  {
   "cell_type": "code",
   "execution_count": null,
   "id": "3e73fa42",
   "metadata": {},
   "outputs": [],
   "source": [
    "data_posts_hashtags[\"country\"].unique()"
   ]
  },
  {
   "cell_type": "code",
   "execution_count": null,
   "id": "a53b5303",
   "metadata": {},
   "outputs": [],
   "source": [
    "country_fix = {\n",
    "    \"Deutschland\": \"Germany\",\n",
    "    \"Österreich\": \"Austria\",\n",
    "    \"UK\": \"United Kingdom\",\n",
    "    \"USA\": \"United States\",\n",
    "    \"Brasil\": \"Brazil\",\n",
    "    \"Italia\": \"Italy\",\n",
    "    \"مصر\": \"Egypt\",\n",
    "    \"المملكة العربية السعودية\": \"Saudi Arabia\",\n",
    "    \"Turkey\": \"Türkiye\",\n",
    "    \"Bangkok 10300 Thailand\": \"Thailand\",\n",
    "    \"Mandarin Oriental Hotel Mandarin Oriental\": None,  # unclear\n",
    "}\n",
    "\n",
    "# Apply the fixes\n",
    "data_posts_hashtags[\"country_clean\"] = data_posts_hashtags[\"country\"].replace(country_fix)"
   ]
  },
  {
   "cell_type": "code",
   "execution_count": null,
   "id": "2f4a0554",
   "metadata": {},
   "outputs": [],
   "source": [
    "timezone_map = {\n",
    "    \"Germany\": \"Europe/Berlin\",\n",
    "    \"France\": \"Europe/Paris\",\n",
    "    \"Türkiye\": \"Europe/Istanbul\",\n",
    "    \"Saudi Arabia\": \"Asia/Riyadh\",\n",
    "    \"United States\": \"America/New_York\",  # default — or map by state later\n",
    "    \"Canada\": \"America/Toronto\",\n",
    "    \"Switzerland\": \"Europe/Zurich\",\n",
    "    \"South Korea\": \"Asia/Seoul\",\n",
    "    \"Pakistan\": \"Asia/Karachi\",\n",
    "    \"Indonesia\": \"Asia/Jakarta\",\n",
    "    \"Greece\": \"Europe/Athens\",\n",
    "    \"Philippines\": \"Asia/Manila\",\n",
    "    \"Sweden\": \"Europe/Stockholm\",\n",
    "    \"Kenya\": \"Africa/Nairobi\",\n",
    "    \"Egypt\": \"Africa/Cairo\",\n",
    "    \"South Africa\": \"Africa/Johannesburg\",\n",
    "    \"Austria\": \"Europe/Vienna\",\n",
    "    \"United Kingdom\": \"Europe/London\",\n",
    "    \"Nigeria\": \"Africa/Lagos\",\n",
    "    \"Poland\": \"Europe/Warsaw\",\n",
    "    \"Bangladesh\": \"Asia/Dhaka\",\n",
    "    \"Australia\": \"Australia/Sydney\",\n",
    "    \"Brazil\": \"America/Sao_Paulo\",\n",
    "    \"Colombia\": \"America/Bogota\",\n",
    "    \"United Arab Emirates\": \"Asia/Dubai\",\n",
    "    \"Italy\": \"Europe/Rome\",\n",
    "    \"Czechia\": \"Europe/Prague\",\n",
    "    \"Thailand\": \"Asia/Bangkok\",\n",
    "    \"Mexico\": \"America/Mexico_City\",\n",
    "    \"Nederland\": \"Europe/Amsterdam\",\n",
    "    \"Japan\": \"Asia/Tokyo\",\n",
    "    \"Algeria\": \"Africa/Algiers\"\n",
    "}\n"
   ]
  },
  {
   "cell_type": "code",
   "execution_count": null,
   "id": "64fa7a6a",
   "metadata": {},
   "outputs": [],
   "source": [
    "# Convert createTimeISO to UTC datetime\n",
    "data_posts_hashtags['utc_time'] = pd.to_datetime(data_posts_hashtags['createTimeISO'], utc=True)\n",
    "\n",
    "# Nur für gültige Länder die lokale Zeit berechnen\n",
    "data_posts_hashtags['local_time'] = [\n",
    "    utc.astimezone(pytz.timezone(timezone_map[country])) if pd.notna(country) and country in timezone_map else pd.NaT\n",
    "    for utc, country in zip(data_posts_hashtags['utc_time'], data_posts_hashtags['country'])\n",
    "]\n",
    "\n",
    "# Stunde extrahieren\n",
    "data_posts_hashtags['hour'] = data_posts_hashtags['local_time'].astype(str).str.extract(r'(\\d{2}):')[0].astype('Int64')\n"
   ]
  },
  {
   "cell_type": "markdown",
   "id": "652912f0",
   "metadata": {},
   "source": [
    "**From when are our posts**"
   ]
  },
  {
   "cell_type": "code",
   "execution_count": null,
   "id": "863b1a22",
   "metadata": {},
   "outputs": [],
   "source": [
    "mask = data_posts_hashtags[\"createTimeISO\"].dt.date >= pd.to_datetime(\"2024-10-01\").date()\n",
    "posts_per_day = data_posts_hashtags.loc[mask, \"createTimeISO\"].dt.date.value_counts().sort_index()\n",
    "\n",
    "plt.figure(figsize=(12, 5))\n",
    "posts_per_day.plot()\n",
    "plt.title(\"Number of Posts Per Day\")\n",
    "plt.xlabel(\"Date\")\n",
    "plt.ylabel(\"Post Count\")\n",
    "plt.xticks(rotation=45)\n",
    "plt.tight_layout()\n",
    "plt.show()\n"
   ]
  },
  {
   "cell_type": "code",
   "execution_count": null,
   "id": "943c6c37",
   "metadata": {},
   "outputs": [],
   "source": [
    "posts_per_day = data_posts_hashtags[\"createTimeISO\"].dt.date.value_counts().sort_index()\n",
    "\n",
    "plt.figure(figsize=(12, 5))\n",
    "posts_per_day.plot()\n",
    "plt.title(\"Number of Posts Per Day\")\n",
    "plt.xlabel(\"Date\")\n",
    "plt.ylabel(\"Post Count\")\n",
    "plt.xticks(rotation=45)\n",
    "plt.tight_layout()\n",
    "plt.show()"
   ]
  },
  {
   "cell_type": "markdown",
   "id": "4c0b3b1d",
   "metadata": {},
   "source": [
    "Are posts from before 2025 even relevant for us?"
   ]
  },
  {
   "cell_type": "code",
   "execution_count": null,
   "id": "1184c6e6",
   "metadata": {},
   "outputs": [],
   "source": [
    "sns.countplot(x=\"hour\", data=data_posts_hashtags)\n",
    "plt.title(\"Posts by Hour of Day\")\n",
    "plt.xlabel(\"Hour\")\n",
    "plt.ylabel(\"Post Count\")\n",
    "plt.show()"
   ]
  },
  {
   "cell_type": "markdown",
   "id": "bdcf9a30",
   "metadata": {},
   "source": [
    "People post most often in the evening between 20:00 to 22:00. During the night there are the least posts."
   ]
  },
  {
   "cell_type": "markdown",
   "id": "27c4e149",
   "metadata": {},
   "source": [
    "Need to double check that this is correct!"
   ]
  },
  {
   "cell_type": "code",
   "execution_count": null,
   "id": "c70f071b",
   "metadata": {},
   "outputs": [],
   "source": [
    "data_posts_hashtags[\"weekday\"] = data_posts_hashtags[\"createTimeISO\"].dt.day_name()\n",
    "\n",
    "sns.countplot(x=\"weekday\", data=data_posts_hashtags,\n",
    "              order=[\"Monday\", \"Tuesday\", \"Wednesday\", \"Thursday\", \"Friday\", \"Saturday\", \"Sunday\"])\n",
    "plt.title(\"Posts by Weekday\")\n",
    "plt.xlabel(\"Day\")\n",
    "plt.ylabel(\"Post Count\")\n",
    "plt.xticks(rotation=45)\n",
    "plt.show()\n"
   ]
  },
  {
   "cell_type": "markdown",
   "id": "8ad0c65d",
   "metadata": {},
   "source": [
    "**Influencer analysis**"
   ]
  },
  {
   "cell_type": "code",
   "execution_count": null,
   "id": "851eeea2",
   "metadata": {},
   "outputs": [],
   "source": [
    "bins = [0, 1_000, 10_000, 100_000,500_000, 1_000_000, np.inf]\n",
    "labels = ['<1k', '1k–10k', '10k–100k', '100k–500k', '500k–1M', '1M+']\n",
    "data_posts_hashtags['fans_bin'] = pd.cut(data_posts_hashtags['author_fans'], bins=bins, labels=labels)\n",
    "\n",
    "sns.countplot(x='fans_bin', data=data_posts_hashtags)\n",
    "plt.title(\"Authors Grouped by Follower Count\")\n",
    "plt.xlabel(\"Follower Range\")\n",
    "plt.ylabel(\"Count\")\n",
    "plt.show()"
   ]
  },
  {
   "cell_type": "markdown",
   "id": "7c46140c",
   "metadata": {},
   "source": [
    "### Hashtags Exploration"
   ]
  },
  {
   "cell_type": "markdown",
   "id": "729454a8",
   "metadata": {},
   "source": [
    "**Hashtags that were searched for**"
   ]
  },
  {
   "cell_type": "code",
   "execution_count": null,
   "id": "16df2e9f",
   "metadata": {},
   "outputs": [],
   "source": [
    "unique_searchhashtags = data_posts_hashtags['searchHashtag_name'].unique() \n",
    "\n",
    "search_hashtag_counts = data_posts_hashtags.searchHashtag_name.value_counts()\n",
    "\n",
    "# Plot\n",
    "plt.figure(figsize=(10, 6))\n",
    "sns.barplot(x=search_hashtag_counts.values, y=search_hashtag_counts.index, palette=\"pastel\")\n",
    "plt.title(\"Search Hashtags\")\n",
    "plt.xlabel(\"Count\")\n",
    "plt.ylabel(\"Hashtag\")\n",
    "plt.show()"
   ]
  },
  {
   "cell_type": "markdown",
   "id": "07094fa5",
   "metadata": {},
   "source": [
    "**Most common and engaging hashtags**"
   ]
  },
  {
   "cell_type": "markdown",
   "id": "53937635",
   "metadata": {},
   "source": [
    "Sidenote: Looking in Bigquery found out that search_hashtag is actually not always part of the hashtags"
   ]
  },
  {
   "cell_type": "code",
   "execution_count": null,
   "id": "4fc45e54",
   "metadata": {},
   "outputs": [],
   "source": [
    "data_hashtags = pd.read_csv(\"../data/posts_hashtags_selected_columns.csv\")\n",
    "data_hashtags = data_hashtags.drop(columns = ['bucketUrl'])\n",
    "data_hashtags"
   ]
  },
  {
   "cell_type": "code",
   "execution_count": null,
   "id": "0838d102",
   "metadata": {},
   "outputs": [],
   "source": [
    "(data_hashtags['searchHashtag_name'] == data_hashtags['hashtag_name']).sum()"
   ]
  },
  {
   "cell_type": "code",
   "execution_count": null,
   "id": "88380683",
   "metadata": {},
   "outputs": [],
   "source": [
    "unique_hashtags = data_hashtags['hashtag_name'].unique() #4545 unique hashtags\n",
    "\n",
    "hashtag_counts = data_hashtags.hashtag_name.value_counts().head(30)  # top 30\n",
    "\n",
    "# Plot\n",
    "plt.figure(figsize=(10, 6))\n",
    "sns.barplot(x=hashtag_counts.values, y=hashtag_counts.index, palette=\"pastel\")\n",
    "plt.title(\"Top 30 Hashtags\")\n",
    "plt.xlabel(\"Count\")\n",
    "plt.ylabel(\"Hashtag\")\n",
    "plt.tight_layout()\n",
    "plt.show()"
   ]
  },
  {
   "cell_type": "code",
   "execution_count": null,
   "id": "b1f05898",
   "metadata": {},
   "outputs": [],
   "source": [
    "hashtag_post_counts = (\n",
    "    data_hashtags.groupby('hashtag_name')['id']\n",
    "    .nunique()\n",
    "    .sort_values(ascending=False)\n",
    ")\n",
    "\n",
    "quantiles = hashtag_post_counts.quantile([0.25, 0.5, 0.75, 0.9, 0.95, 0.975, 0.99])\n",
    "print(\"Quantile der Postanzahl pro Hashtag:\")\n",
    "print(quantiles)"
   ]
  },
  {
   "cell_type": "code",
   "execution_count": null,
   "id": "288bf03c",
   "metadata": {},
   "outputs": [],
   "source": [
    "#Let's look at the number of views for each Hashtag\n",
    "\n",
    "# number of hashtags per post\n",
    "data_hashtags['hashtag_count'] = data_hashtags.groupby('id')['hashtag_name'].transform('count')\n",
    "\n",
    "# Distribute metric\n",
    "for metric in ['playCount', 'diggCount', 'shareCount', 'commentCount']:\n",
    "    data_hashtags[f'{metric}_per_hashtag'] = data_hashtags[metric] / data_hashtags['hashtag_count']\n",
    "\n",
    "def plot_sum_and_avg_by_metric(data):\n",
    "    metrics = ['playCount', 'diggCount', 'shareCount', 'commentCount']\n",
    "    \n",
    "    # Calculate fair share per hashtag\n",
    "    data['hashtag_count'] = data.groupby('id')['hashtag_name'].transform('count')\n",
    "    for metric in metrics:\n",
    "        data[f'{metric}_per_hashtag'] = data[metric] / data['hashtag_count']\n",
    "    \n",
    "    for metric in metrics:\n",
    "        metric_col = f'{metric}_per_hashtag'\n",
    "        \n",
    "        agg = (\n",
    "            data.groupby('hashtag_name')\n",
    "            .agg(\n",
    "                post_count=('id', 'nunique'),\n",
    "                total_metric=(metric_col, 'sum')\n",
    "            )\n",
    "            .assign(avg_metric_per_post=lambda x: x['total_metric'] / x['post_count'])\n",
    "        )\n",
    "\n",
    "        # Filter: only hashtags with at least 30 posts\n",
    "        agg = agg[agg['post_count'] >= 20]\n",
    "\n",
    "        # Top 30 by total and by average\n",
    "        top_total = agg.sort_values('total_metric', ascending=False).head(30)\n",
    "        top_avg = agg.sort_values('avg_metric_per_post', ascending=False).head(30)\n",
    "\n",
    "        # Plot\n",
    "        fig, axes = plt.subplots(1, 2, figsize=(22, 10))\n",
    "\n",
    "        sns.barplot(\n",
    "            x=top_total['total_metric'],\n",
    "            y=top_total.index,\n",
    "            hue=top_total.index,\n",
    "            palette='pastel',\n",
    "            legend=False,\n",
    "            ax=axes[0]\n",
    "        )\n",
    "        axes[0].set_title(f\"Top 30 Hashtags by Total {metric}\")\n",
    "        axes[0].set_xlabel(\"Estimated Total (split across hashtags)\")\n",
    "\n",
    "        sns.barplot(\n",
    "            x=top_avg['avg_metric_per_post'],\n",
    "            y=top_avg.index,\n",
    "            hue=top_avg.index,\n",
    "            palette='pastel',\n",
    "            legend=False,\n",
    "            ax=axes[1]\n",
    "        )\n",
    "        axes[1].set_title(f\"Top 30 Hashtags by Avg {metric} per Post\")\n",
    "        axes[1].set_xlabel(\"Average per Post (adjusted)\")\n",
    "\n",
    "        plt.tight_layout()\n",
    "        plt.show()\n",
    "\n",
    "\n",
    "plot_sum_and_avg_by_metric(data_hashtags)"
   ]
  },
  {
   "cell_type": "code",
   "execution_count": 5,
   "id": "5c48715d",
   "metadata": {},
   "outputs": [],
   "source": [
    "import pandas as pd\n",
    "df = pd.read_csv('../data/posts_transcripts.csv')"
   ]
  },
  {
   "cell_type": "code",
   "execution_count": 6,
   "id": "38739532",
   "metadata": {},
   "outputs": [
    {
     "data": {
      "text/html": [
       "<div>\n",
       "<style scoped>\n",
       "    .dataframe tbody tr th:only-of-type {\n",
       "        vertical-align: middle;\n",
       "    }\n",
       "\n",
       "    .dataframe tbody tr th {\n",
       "        vertical-align: top;\n",
       "    }\n",
       "\n",
       "    .dataframe thead th {\n",
       "        text-align: right;\n",
       "    }\n",
       "</style>\n",
       "<table border=\"1\" class=\"dataframe\">\n",
       "  <thead>\n",
       "    <tr style=\"text-align: right;\">\n",
       "      <th></th>\n",
       "      <th>post_id</th>\n",
       "      <th>text</th>\n",
       "      <th>textLanguage</th>\n",
       "      <th>createTimeISO</th>\n",
       "      <th>isAd</th>\n",
       "      <th>author_nickName</th>\n",
       "      <th>author_signature</th>\n",
       "      <th>author_fans</th>\n",
       "      <th>video_duration</th>\n",
       "      <th>diggCount</th>\n",
       "      <th>...</th>\n",
       "      <th>collectCount</th>\n",
       "      <th>commentCount</th>\n",
       "      <th>isSponsored</th>\n",
       "      <th>searchHashtag_name</th>\n",
       "      <th>searchHashtag_views</th>\n",
       "      <th>location_address</th>\n",
       "      <th>detected_language</th>\n",
       "      <th>transcribed_text</th>\n",
       "      <th>video_description</th>\n",
       "      <th>date</th>\n",
       "    </tr>\n",
       "  </thead>\n",
       "  <tbody>\n",
       "    <tr>\n",
       "      <th>0</th>\n",
       "      <td>7472533937667968278</td>\n",
       "      <td>Aquafacial🫧 Boost für deine Haut💆🏻‍♀️ Tief ger...</td>\n",
       "      <td>de</td>\n",
       "      <td>2025-02-17 23:28:17+00:00</td>\n",
       "      <td>False</td>\n",
       "      <td>SKINID_STUDIO</td>\n",
       "      <td>all about ✨Aquafacial &amp; Microneedling✨ \\nat @k...</td>\n",
       "      <td>32</td>\n",
       "      <td>10</td>\n",
       "      <td>17</td>\n",
       "      <td>...</td>\n",
       "      <td>2</td>\n",
       "      <td>2</td>\n",
       "      <td>False</td>\n",
       "      <td>hautpflege</td>\n",
       "      <td>2700000000</td>\n",
       "      <td>Nurnberg, Bavaria, Germany</td>\n",
       "      <td>NaN</td>\n",
       "      <td>NaN</td>\n",
       "      <td>Here’s a close-up clip of a woman getting a fa...</td>\n",
       "      <td>2025-02-17</td>\n",
       "    </tr>\n",
       "    <tr>\n",
       "      <th>1</th>\n",
       "      <td>7472855983593721090</td>\n",
       "      <td>Hautpflege und Enzym–Peeling bei empfindlicher...</td>\n",
       "      <td>de</td>\n",
       "      <td>2025-02-18 20:17:53+00:00</td>\n",
       "      <td>False</td>\n",
       "      <td>Sabi_шка🩵🤹‍♂️</td>\n",
       "      <td>🍃Bio-Nature-Beauty-Skincare\\nGermanistik/Lingu...</td>\n",
       "      <td>10300</td>\n",
       "      <td>137</td>\n",
       "      <td>21</td>\n",
       "      <td>...</td>\n",
       "      <td>5</td>\n",
       "      <td>10</td>\n",
       "      <td>False</td>\n",
       "      <td>hautpflege</td>\n",
       "      <td>2700000000</td>\n",
       "      <td>Nordrhein-Westfalen, Deutschland</td>\n",
       "      <td>German</td>\n",
       "      <td>Hey, meine lieben Mädels, ich leide seit meine...</td>\n",
       "      <td>A beauty influencer shares her secret to perfe...</td>\n",
       "      <td>2025-02-18</td>\n",
       "    </tr>\n",
       "    <tr>\n",
       "      <th>2</th>\n",
       "      <td>7472768498637327638</td>\n",
       "      <td>SkinGlow - Aqua Facial☁️✨ Instagram: Asli.Beau...</td>\n",
       "      <td>en</td>\n",
       "      <td>2025-02-18 14:38:26+00:00</td>\n",
       "      <td>False</td>\n",
       "      <td>𝐀𝐬𝐥𝐢 🪬</td>\n",
       "      <td>𝐊𝐃𝐇 | 𝐍𝐢𝐂𝐨🦁𝟏𝐱🥈𝟓𝐱🥉\\n𝐈𝐆:𝐀𝐬𝐥𝐢.𝐁𝐞𝐚𝐮𝐭𝐞𝐞📍𝐒𝐭𝐮𝐭𝐭𝐠𝐚𝐫𝐭</td>\n",
       "      <td>13700</td>\n",
       "      <td>9</td>\n",
       "      <td>379</td>\n",
       "      <td>...</td>\n",
       "      <td>2</td>\n",
       "      <td>5</td>\n",
       "      <td>False</td>\n",
       "      <td>hautpflege</td>\n",
       "      <td>2700000000</td>\n",
       "      <td>Stuttgart, Baden Wurttemberg, Germany</td>\n",
       "      <td>English</td>\n",
       "      <td>I got so tight all over her body. She just wan...</td>\n",
       "      <td>Watch this lady get an Aqua Facial, and see ho...</td>\n",
       "      <td>2025-02-18</td>\n",
       "    </tr>\n",
       "    <tr>\n",
       "      <th>3</th>\n",
       "      <td>7472518128191212822</td>\n",
       "      <td>Verjüngung ohne Chirurgie ist möglich. 💉 Mit B...</td>\n",
       "      <td>de</td>\n",
       "      <td>2025-02-17 22:26:52+00:00</td>\n",
       "      <td>False</td>\n",
       "      <td>MKG Rothenbaum</td>\n",
       "      <td>MKG Rothenbaum J.C.Castillo Duque\\nFacharzt fü...</td>\n",
       "      <td>228</td>\n",
       "      <td>12</td>\n",
       "      <td>6</td>\n",
       "      <td>...</td>\n",
       "      <td>2</td>\n",
       "      <td>1</td>\n",
       "      <td>False</td>\n",
       "      <td>hautpflege</td>\n",
       "      <td>2700000000</td>\n",
       "      <td>Rothenbaumchaussee 5, 20148 Hamburg, Germany</td>\n",
       "      <td>English</td>\n",
       "      <td>Game start. Appart apartment. Appart apartment...</td>\n",
       "      <td>A man drinks from a mug as text appears on the...</td>\n",
       "      <td>2025-02-17</td>\n",
       "    </tr>\n",
       "    <tr>\n",
       "      <th>4</th>\n",
       "      <td>7472508255441276182</td>\n",
       "      <td>☞𝕎𝕖𝕣𝕓𝕦𝕟𝕘☜ 🔻Produktvorstellung🔻 ᗰᗩᒪ Gᗩᑎᘔ EᕼᖇᒪIᑕ...</td>\n",
       "      <td>de</td>\n",
       "      <td>2025-02-17 21:48:32+00:00</td>\n",
       "      <td>False</td>\n",
       "      <td>Nicki.sally.testet</td>\n",
       "      <td>NaN</td>\n",
       "      <td>1145</td>\n",
       "      <td>36</td>\n",
       "      <td>26</td>\n",
       "      <td>...</td>\n",
       "      <td>4</td>\n",
       "      <td>4</td>\n",
       "      <td>False</td>\n",
       "      <td>hautpflege</td>\n",
       "      <td>2700000000</td>\n",
       "      <td>Mulheim, North Rhine Westphalia, Germany</td>\n",
       "      <td>German</td>\n",
       "      <td>Mal ganz ehrlich, wer hat keinen Schrank bei s...</td>\n",
       "      <td>This video promotes two Lancome products for a...</td>\n",
       "      <td>2025-02-17</td>\n",
       "    </tr>\n",
       "    <tr>\n",
       "      <th>...</th>\n",
       "      <td>...</td>\n",
       "      <td>...</td>\n",
       "      <td>...</td>\n",
       "      <td>...</td>\n",
       "      <td>...</td>\n",
       "      <td>...</td>\n",
       "      <td>...</td>\n",
       "      <td>...</td>\n",
       "      <td>...</td>\n",
       "      <td>...</td>\n",
       "      <td>...</td>\n",
       "      <td>...</td>\n",
       "      <td>...</td>\n",
       "      <td>...</td>\n",
       "      <td>...</td>\n",
       "      <td>...</td>\n",
       "      <td>...</td>\n",
       "      <td>...</td>\n",
       "      <td>...</td>\n",
       "      <td>...</td>\n",
       "      <td>...</td>\n",
       "    </tr>\n",
       "    <tr>\n",
       "      <th>6506</th>\n",
       "      <td>7472467511544466710</td>\n",
       "      <td>Ihr habt keinen Haarausfall ok 😭 Bitte tik tok...</td>\n",
       "      <td>de</td>\n",
       "      <td>2025-02-17 19:10:24+00:00</td>\n",
       "      <td>False</td>\n",
       "      <td>xskincare | Leon</td>\n",
       "      <td>Kosmetik Entwickler \\nHautpflege auf wissensch...</td>\n",
       "      <td>945300</td>\n",
       "      <td>64</td>\n",
       "      <td>102000</td>\n",
       "      <td>...</td>\n",
       "      <td>7302</td>\n",
       "      <td>947</td>\n",
       "      <td>False</td>\n",
       "      <td>hautpflege</td>\n",
       "      <td>3100000000</td>\n",
       "      <td>Berlin, Berlin, Germany</td>\n",
       "      <td>German</td>\n",
       "      <td>falls euch das betrifft, ist dieses Video für ...</td>\n",
       "      <td>A creator is reacting to a video of hair loss....</td>\n",
       "      <td>2025-02-17</td>\n",
       "    </tr>\n",
       "    <tr>\n",
       "      <th>6507</th>\n",
       "      <td>7517319980791172374</td>\n",
       "      <td>Wie aus Stahl Präzision wird – die Kunst der p...</td>\n",
       "      <td>de</td>\n",
       "      <td>2025-06-18 16:00:54+00:00</td>\n",
       "      <td>False</td>\n",
       "      <td>Syber Secrets</td>\n",
       "      <td>✨Faktenliebhaber &amp; Geschichtenerzähler.📚\\n🔍 En...</td>\n",
       "      <td>16900</td>\n",
       "      <td>62</td>\n",
       "      <td>3114</td>\n",
       "      <td>...</td>\n",
       "      <td>381</td>\n",
       "      <td>15</td>\n",
       "      <td>False</td>\n",
       "      <td>hautpflege</td>\n",
       "      <td>3100000000</td>\n",
       "      <td>Berlin, Berlin, Germany</td>\n",
       "      <td>German</td>\n",
       "      <td>Wenn du dich mit einem herkömmlichen Rasierer ...</td>\n",
       "      <td>In diesem Video wird erklärt, wie sich die Ras...</td>\n",
       "      <td>2025-06-18</td>\n",
       "    </tr>\n",
       "    <tr>\n",
       "      <th>6508</th>\n",
       "      <td>7519028281006378262</td>\n",
       "      <td>Verwöhne deine Haut mit der Kraft der Schnecke...</td>\n",
       "      <td>de</td>\n",
       "      <td>2025-06-23 06:30:06+00:00</td>\n",
       "      <td>False</td>\n",
       "      <td>Tiyad DE3</td>\n",
       "      <td>zIUj</td>\n",
       "      <td>2505</td>\n",
       "      <td>30</td>\n",
       "      <td>3</td>\n",
       "      <td>...</td>\n",
       "      <td>0</td>\n",
       "      <td>0</td>\n",
       "      <td>True</td>\n",
       "      <td>hautpflegeroutine</td>\n",
       "      <td>267400000</td>\n",
       "      <td>Berlin, Berlin, Germany</td>\n",
       "      <td>NaN</td>\n",
       "      <td>NaN</td>\n",
       "      <td>NaN</td>\n",
       "      <td>2025-06-23</td>\n",
       "    </tr>\n",
       "    <tr>\n",
       "      <th>6509</th>\n",
       "      <td>7517847677955034390</td>\n",
       "      <td>Wer braucht Filter, wenn deine Haut von allein...</td>\n",
       "      <td>de</td>\n",
       "      <td>2025-06-20 02:09:03+00:00</td>\n",
       "      <td>True</td>\n",
       "      <td>Tiyad DE3</td>\n",
       "      <td>zIUj</td>\n",
       "      <td>2506</td>\n",
       "      <td>30</td>\n",
       "      <td>6</td>\n",
       "      <td>...</td>\n",
       "      <td>0</td>\n",
       "      <td>1</td>\n",
       "      <td>True</td>\n",
       "      <td>hautpflegeroutine</td>\n",
       "      <td>266000000</td>\n",
       "      <td>Berlin, Berlin, Germany</td>\n",
       "      <td>NaN</td>\n",
       "      <td>NaN</td>\n",
       "      <td>NaN</td>\n",
       "      <td>2025-06-20</td>\n",
       "    </tr>\n",
       "    <tr>\n",
       "      <th>6510</th>\n",
       "      <td>7490189634429881622</td>\n",
       "      <td>% Unbezahlte werbung Ich benutze die L'Oréal P...</td>\n",
       "      <td>de</td>\n",
       "      <td>2025-04-06 13:21:17+00:00</td>\n",
       "      <td>False</td>\n",
       "      <td>Svetlanaphoto</td>\n",
       "      <td>🌷UGC Creator💋test product💄Beauty</td>\n",
       "      <td>2498</td>\n",
       "      <td>24</td>\n",
       "      <td>542</td>\n",
       "      <td>...</td>\n",
       "      <td>97</td>\n",
       "      <td>23</td>\n",
       "      <td>False</td>\n",
       "      <td>hautpflegeroutine</td>\n",
       "      <td>266000000</td>\n",
       "      <td>Berlin, Berlin, Germany</td>\n",
       "      <td>English</td>\n",
       "      <td>Your body speak. Bye. The window seat, little ...</td>\n",
       "      <td>The video showcases the unboxing and applicati...</td>\n",
       "      <td>2025-04-06</td>\n",
       "    </tr>\n",
       "  </tbody>\n",
       "</table>\n",
       "<p>6511 rows × 22 columns</p>\n",
       "</div>"
      ],
      "text/plain": [
       "                  post_id                                               text  \\\n",
       "0     7472533937667968278  Aquafacial🫧 Boost für deine Haut💆🏻‍♀️ Tief ger...   \n",
       "1     7472855983593721090  Hautpflege und Enzym–Peeling bei empfindlicher...   \n",
       "2     7472768498637327638  SkinGlow - Aqua Facial☁️✨ Instagram: Asli.Beau...   \n",
       "3     7472518128191212822  Verjüngung ohne Chirurgie ist möglich. 💉 Mit B...   \n",
       "4     7472508255441276182  ☞𝕎𝕖𝕣𝕓𝕦𝕟𝕘☜ 🔻Produktvorstellung🔻 ᗰᗩᒪ Gᗩᑎᘔ EᕼᖇᒪIᑕ...   \n",
       "...                   ...                                                ...   \n",
       "6506  7472467511544466710  Ihr habt keinen Haarausfall ok 😭 Bitte tik tok...   \n",
       "6507  7517319980791172374  Wie aus Stahl Präzision wird – die Kunst der p...   \n",
       "6508  7519028281006378262  Verwöhne deine Haut mit der Kraft der Schnecke...   \n",
       "6509  7517847677955034390  Wer braucht Filter, wenn deine Haut von allein...   \n",
       "6510  7490189634429881622  % Unbezahlte werbung Ich benutze die L'Oréal P...   \n",
       "\n",
       "     textLanguage              createTimeISO   isAd     author_nickName  \\\n",
       "0              de  2025-02-17 23:28:17+00:00  False       SKINID_STUDIO   \n",
       "1              de  2025-02-18 20:17:53+00:00  False       Sabi_шка🩵🤹‍♂️   \n",
       "2              en  2025-02-18 14:38:26+00:00  False              𝐀𝐬𝐥𝐢 🪬   \n",
       "3              de  2025-02-17 22:26:52+00:00  False      MKG Rothenbaum   \n",
       "4              de  2025-02-17 21:48:32+00:00  False  Nicki.sally.testet   \n",
       "...           ...                        ...    ...                 ...   \n",
       "6506           de  2025-02-17 19:10:24+00:00  False    xskincare | Leon   \n",
       "6507           de  2025-06-18 16:00:54+00:00  False       Syber Secrets   \n",
       "6508           de  2025-06-23 06:30:06+00:00  False           Tiyad DE3   \n",
       "6509           de  2025-06-20 02:09:03+00:00   True           Tiyad DE3   \n",
       "6510           de  2025-04-06 13:21:17+00:00  False       Svetlanaphoto   \n",
       "\n",
       "                                       author_signature  author_fans  \\\n",
       "0     all about ✨Aquafacial & Microneedling✨ \\nat @k...           32   \n",
       "1     🍃Bio-Nature-Beauty-Skincare\\nGermanistik/Lingu...        10300   \n",
       "2          𝐊𝐃𝐇 | 𝐍𝐢𝐂𝐨🦁𝟏𝐱🥈𝟓𝐱🥉\\n𝐈𝐆:𝐀𝐬𝐥𝐢.𝐁𝐞𝐚𝐮𝐭𝐞𝐞📍𝐒𝐭𝐮𝐭𝐭𝐠𝐚𝐫𝐭        13700   \n",
       "3     MKG Rothenbaum J.C.Castillo Duque\\nFacharzt fü...          228   \n",
       "4                                                   NaN         1145   \n",
       "...                                                 ...          ...   \n",
       "6506  Kosmetik Entwickler \\nHautpflege auf wissensch...       945300   \n",
       "6507  ✨Faktenliebhaber & Geschichtenerzähler.📚\\n🔍 En...        16900   \n",
       "6508                                               zIUj         2505   \n",
       "6509                                               zIUj         2506   \n",
       "6510                   🌷UGC Creator💋test product💄Beauty         2498   \n",
       "\n",
       "      video_duration  diggCount  ...  collectCount  commentCount  isSponsored  \\\n",
       "0                 10         17  ...             2             2        False   \n",
       "1                137         21  ...             5            10        False   \n",
       "2                  9        379  ...             2             5        False   \n",
       "3                 12          6  ...             2             1        False   \n",
       "4                 36         26  ...             4             4        False   \n",
       "...              ...        ...  ...           ...           ...          ...   \n",
       "6506              64     102000  ...          7302           947        False   \n",
       "6507              62       3114  ...           381            15        False   \n",
       "6508              30          3  ...             0             0         True   \n",
       "6509              30          6  ...             0             1         True   \n",
       "6510              24        542  ...            97            23        False   \n",
       "\n",
       "      searchHashtag_name  searchHashtag_views  \\\n",
       "0             hautpflege           2700000000   \n",
       "1             hautpflege           2700000000   \n",
       "2             hautpflege           2700000000   \n",
       "3             hautpflege           2700000000   \n",
       "4             hautpflege           2700000000   \n",
       "...                  ...                  ...   \n",
       "6506          hautpflege           3100000000   \n",
       "6507          hautpflege           3100000000   \n",
       "6508   hautpflegeroutine            267400000   \n",
       "6509   hautpflegeroutine            266000000   \n",
       "6510   hautpflegeroutine            266000000   \n",
       "\n",
       "                                  location_address  detected_language  \\\n",
       "0                       Nurnberg, Bavaria, Germany                NaN   \n",
       "1                 Nordrhein-Westfalen, Deutschland             German   \n",
       "2            Stuttgart, Baden Wurttemberg, Germany            English   \n",
       "3     Rothenbaumchaussee 5, 20148 Hamburg, Germany            English   \n",
       "4         Mulheim, North Rhine Westphalia, Germany             German   \n",
       "...                                            ...                ...   \n",
       "6506                       Berlin, Berlin, Germany             German   \n",
       "6507                       Berlin, Berlin, Germany             German   \n",
       "6508                       Berlin, Berlin, Germany                NaN   \n",
       "6509                       Berlin, Berlin, Germany                NaN   \n",
       "6510                       Berlin, Berlin, Germany            English   \n",
       "\n",
       "                                       transcribed_text  \\\n",
       "0                                                   NaN   \n",
       "1     Hey, meine lieben Mädels, ich leide seit meine...   \n",
       "2     I got so tight all over her body. She just wan...   \n",
       "3     Game start. Appart apartment. Appart apartment...   \n",
       "4     Mal ganz ehrlich, wer hat keinen Schrank bei s...   \n",
       "...                                                 ...   \n",
       "6506  falls euch das betrifft, ist dieses Video für ...   \n",
       "6507  Wenn du dich mit einem herkömmlichen Rasierer ...   \n",
       "6508                                                NaN   \n",
       "6509                                                NaN   \n",
       "6510  Your body speak. Bye. The window seat, little ...   \n",
       "\n",
       "                                      video_description        date  \n",
       "0     Here’s a close-up clip of a woman getting a fa...  2025-02-17  \n",
       "1     A beauty influencer shares her secret to perfe...  2025-02-18  \n",
       "2     Watch this lady get an Aqua Facial, and see ho...  2025-02-18  \n",
       "3     A man drinks from a mug as text appears on the...  2025-02-17  \n",
       "4     This video promotes two Lancome products for a...  2025-02-17  \n",
       "...                                                 ...         ...  \n",
       "6506  A creator is reacting to a video of hair loss....  2025-02-17  \n",
       "6507  In diesem Video wird erklärt, wie sich die Ras...  2025-06-18  \n",
       "6508                                                NaN  2025-06-23  \n",
       "6509                                                NaN  2025-06-20  \n",
       "6510  The video showcases the unboxing and applicati...  2025-04-06  \n",
       "\n",
       "[6511 rows x 22 columns]"
      ]
     },
     "execution_count": 6,
     "metadata": {},
     "output_type": "execute_result"
    }
   ],
   "source": [
    "df"
   ]
  }
 ],
 "metadata": {
  "kernelspec": {
   "display_name": "skincare-analysis-pFfgqJ8c-py3.10",
   "language": "python",
   "name": "python3"
  },
  "language_info": {
   "codemirror_mode": {
    "name": "ipython",
    "version": 3
   },
   "file_extension": ".py",
   "mimetype": "text/x-python",
   "name": "python",
   "nbconvert_exporter": "python",
   "pygments_lexer": "ipython3",
   "version": "3.10.13"
  }
 },
 "nbformat": 4,
 "nbformat_minor": 5
}
