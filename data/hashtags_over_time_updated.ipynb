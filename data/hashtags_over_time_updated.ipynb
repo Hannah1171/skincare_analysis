{
 "cells": [
  {
   "cell_type": "code",
   "execution_count": 52,
   "metadata": {},
   "outputs": [],
   "source": [
    "import pandas as pd\n",
    "\n"
   ]
  },
  {
   "cell_type": "code",
   "execution_count": 54,
   "metadata": {},
   "outputs": [
    {
     "name": "stderr",
     "output_type": "stream",
     "text": [
      "/var/folders/5k/b8_r8jw502n4zztm42zd76m80000gn/T/ipykernel_31121/1593890676.py:1: DtypeWarning: Columns (12,34) have mixed types. Specify dtype option on import or set low_memory=False.\n",
      "  comments_posts= pd.read_csv('/Users/ritushetkar/Downloads/comments_post.csv')\n"
     ]
    }
   ],
   "source": [
    "\n",
    "comments_posts= pd.read_csv('/Users/ritushetkar/Downloads/comments_post.csv')"
   ]
  },
  {
   "cell_type": "code",
   "execution_count": 55,
   "metadata": {},
   "outputs": [
    {
     "data": {
      "text/plain": [
       "Index(['Unnamed: 0', 'post_id', 'comment_id', 'comment_createTimeISO_comment',\n",
       "       'text_comment', 'diggCount_comment', 'replyCommentTotal_comment',\n",
       "       'uniqueId_comment', 'id', 'text', 'textLanguage', 'createTimeISO',\n",
       "       'isAd', 'isMuted', 'diggCount', 'shareCount', 'playCount',\n",
       "       'collectCount', 'commentCount', 'isSlideshow', 'isPinned',\n",
       "       'isSponsored', 'hashtags', 'searchHashtag_name', 'searchHashtag_views',\n",
       "       'author_nickName', 'author_verified', 'author_signature',\n",
       "       'author_privateAccount', 'author_ttSeller', 'author_fans',\n",
       "       'author_heart', 'author_video', 'author_digg', 'author_region',\n",
       "       'music_name', 'music_author', 'video_duration', 'video_definition',\n",
       "       'effect_sticker_names', 'effect_sticker_useCounts',\n",
       "       'detailed_mentions_nicknames', 'location_address', 'sentiment',\n",
       "       'confidence'],\n",
       "      dtype='object')"
      ]
     },
     "execution_count": 55,
     "metadata": {},
     "output_type": "execute_result"
    }
   ],
   "source": [
    "comments_posts.columns"
   ]
  },
  {
   "cell_type": "code",
   "execution_count": 56,
   "metadata": {},
   "outputs": [
    {
     "data": {
      "text/plain": [
       "1561"
      ]
     },
     "execution_count": 56,
     "metadata": {},
     "output_type": "execute_result"
    }
   ],
   "source": [
    "len(comments_posts['post_id'].unique())"
   ]
  },
  {
   "cell_type": "code",
   "execution_count": 57,
   "metadata": {},
   "outputs": [
    {
     "data": {
      "text/plain": [
       "54237"
      ]
     },
     "execution_count": 57,
     "metadata": {},
     "output_type": "execute_result"
    }
   ],
   "source": [
    "len(comments_posts['comment_id'].unique())"
   ]
  },
  {
   "cell_type": "code",
   "execution_count": 58,
   "metadata": {},
   "outputs": [
    {
     "data": {
      "text/plain": [
       "searchHashtag_name\n",
       "hautpflege            11871830283\n",
       "hautpflegeroutine     31037468390\n",
       "skincare             133436851539\n",
       "skincareroutine       49066202302\n",
       "Name: playCount, dtype: int64"
      ]
     },
     "execution_count": 58,
     "metadata": {},
     "output_type": "execute_result"
    }
   ],
   "source": [
    "comments_posts.groupby('searchHashtag_name')['playCount'].sum() "
   ]
  },
  {
   "cell_type": "code",
   "execution_count": 59,
   "metadata": {},
   "outputs": [
    {
     "name": "stdout",
     "output_type": "stream",
     "text": [
      "<class 'pandas.core.frame.DataFrame'>\n",
      "RangeIndex: 54237 entries, 0 to 54236\n",
      "Data columns (total 45 columns):\n",
      " #   Column                         Non-Null Count  Dtype  \n",
      "---  ------                         --------------  -----  \n",
      " 0   Unnamed: 0                     54237 non-null  int64  \n",
      " 1   post_id                        54237 non-null  int64  \n",
      " 2   comment_id                     54237 non-null  int64  \n",
      " 3   comment_createTimeISO_comment  54237 non-null  object \n",
      " 4   text_comment                   54237 non-null  object \n",
      " 5   diggCount_comment              54237 non-null  int64  \n",
      " 6   replyCommentTotal_comment      54237 non-null  int64  \n",
      " 7   uniqueId_comment               54235 non-null  object \n",
      " 8   id                             54237 non-null  int64  \n",
      " 9   text                           54237 non-null  object \n",
      " 10  textLanguage                   54237 non-null  object \n",
      " 11  createTimeISO                  54237 non-null  object \n",
      " 12  isAd                           53835 non-null  object \n",
      " 13  isMuted                        26533 non-null  object \n",
      " 14  diggCount                      54237 non-null  int64  \n",
      " 15  shareCount                     54237 non-null  int64  \n",
      " 16  playCount                      54237 non-null  int64  \n",
      " 17  collectCount                   54237 non-null  int64  \n",
      " 18  commentCount                   54237 non-null  int64  \n",
      " 19  isSlideshow                    54237 non-null  bool   \n",
      " 20  isPinned                       54237 non-null  bool   \n",
      " 21  isSponsored                    54237 non-null  bool   \n",
      " 22  hashtags                       54237 non-null  object \n",
      " 23  searchHashtag_name             53706 non-null  object \n",
      " 24  searchHashtag_views            53706 non-null  float64\n",
      " 25  author_nickName                54237 non-null  object \n",
      " 26  author_verified                54237 non-null  bool   \n",
      " 27  author_signature               53604 non-null  object \n",
      " 28  author_privateAccount          54237 non-null  bool   \n",
      " 29  author_ttSeller                26756 non-null  object \n",
      " 30  author_fans                    54237 non-null  int64  \n",
      " 31  author_heart                   54237 non-null  int64  \n",
      " 32  author_video                   54237 non-null  int64  \n",
      " 33  author_digg                    54237 non-null  int64  \n",
      " 34  author_region                  531 non-null    object \n",
      " 35  music_name                     54187 non-null  object \n",
      " 36  music_author                   54042 non-null  object \n",
      " 37  video_duration                 54237 non-null  int64  \n",
      " 38  video_definition               54232 non-null  object \n",
      " 39  effect_sticker_names           54237 non-null  object \n",
      " 40  effect_sticker_useCounts       54237 non-null  object \n",
      " 41  detailed_mentions_nicknames    54237 non-null  object \n",
      " 42  location_address               2077 non-null   object \n",
      " 43  sentiment                      54237 non-null  object \n",
      " 44  confidence                     54237 non-null  float64\n",
      "dtypes: bool(5), float64(2), int64(16), object(22)\n",
      "memory usage: 16.8+ MB\n"
     ]
    }
   ],
   "source": [
    "comments_posts.info()"
   ]
  },
  {
   "cell_type": "code",
   "execution_count": 60,
   "metadata": {},
   "outputs": [
    {
     "data": {
      "text/plain": [
       "0    [vlog,stdwm,roadtrip,skincareroutine,travel,da...\n",
       "1    [vlog,stdwm,roadtrip,skincareroutine,travel,da...\n",
       "2    [vlog,stdwm,roadtrip,skincareroutine,travel,da...\n",
       "3    [vlog,stdwm,roadtrip,skincareroutine,travel,da...\n",
       "4    [vlog,stdwm,roadtrip,skincareroutine,travel,da...\n",
       "5    [skincare,skintok,kbeauty,koreanskincare,skinc...\n",
       "6    [skincareroutine,skincaretips,reinehautbekomme...\n",
       "7    [beautytipps,skincaretipp,skincareprodukte,hau...\n",
       "8    [beautytipps,skincaretipp,skincareprodukte,hau...\n",
       "9    [beautytipps,skincaretipp,skincareprodukte,hau...\n",
       "Name: hashtags, dtype: object"
      ]
     },
     "execution_count": 60,
     "metadata": {},
     "output_type": "execute_result"
    }
   ],
   "source": [
    "comments_posts['hashtags'].head(10)\n"
   ]
  },
  {
   "cell_type": "code",
   "execution_count": null,
   "metadata": {},
   "outputs": [],
   "source": []
  },
  {
   "cell_type": "code",
   "execution_count": null,
   "metadata": {},
   "outputs": [
    {
     "data": {
      "text/plain": [
       "array([nan], dtype=object)"
      ]
     },
     "execution_count": 62,
     "metadata": {},
     "output_type": "execute_result"
    }
   ],
   "source": []
  },
  {
   "cell_type": "code",
   "execution_count": null,
   "metadata": {},
   "outputs": [],
   "source": []
  }
 ],
 "metadata": {
  "kernelspec": {
   "display_name": "env_capstone",
   "language": "python",
   "name": "python3"
  },
  "language_info": {
   "codemirror_mode": {
    "name": "ipython",
    "version": 3
   },
   "file_extension": ".py",
   "mimetype": "text/x-python",
   "name": "python",
   "nbconvert_exporter": "python",
   "pygments_lexer": "ipython3",
   "version": "3.9.6"
  }
 },
 "nbformat": 4,
 "nbformat_minor": 2
}
