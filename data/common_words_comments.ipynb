{
 "cells": [
  {
   "cell_type": "code",
   "execution_count": 1,
   "id": "6578d19d",
   "metadata": {},
   "outputs": [
    {
     "name": "stderr",
     "output_type": "stream",
     "text": [
      "[nltk_data] Downloading package punkt to C:\\Users\\Surface/nltk_data...\n",
      "[nltk_data]   Package punkt is already up-to-date!\n",
      "[nltk_data] Downloading package punkt_tab to\n",
      "[nltk_data]     C:\\Users\\Surface/nltk_data...\n",
      "[nltk_data]   Package punkt_tab is already up-to-date!\n",
      "[nltk_data] Downloading package stopwords to\n",
      "[nltk_data]     C:\\Users\\Surface/nltk_data...\n",
      "[nltk_data]   Package stopwords is already up-to-date!\n"
     ]
    }
   ],
   "source": [
    "import pandas as pd\n",
    "import re\n",
    "from nltk.corpus import stopwords\n",
    "from nltk.tokenize import word_tokenize\n",
    "from nltk.util import ngrams\n",
    "from collections import Counter\n",
    "import matplotlib.pyplot as plt\n",
    "import nltk\n",
    "import plotly.express as px\n",
    "from datetime import datetime, timedelta\n",
    "\n",
    "# Download NLTK resources (only needs to be run once)\n",
    "nltk.download(\"punkt\")\n",
    "nltk.download(\"punkt_tab\")\n",
    "nltk.download(\"stopwords\")\n",
    "\n",
    "# Load CSV file\n",
    "df = pd.read_csv(\"../data/post_comments.csv\")\n",
    "\n",
    "# Remove empty comments and hashtags\n",
    "df = df[df[\"text\"].notna()]\n",
    "df[\"text\"] = df[\"text\"].astype(str).apply(lambda x: re.sub(r\"#\\w+\", \"\", x).strip())\n",
    "\n",
    "# Convert timestamp column to datetime\n",
    "df[\"createTimeISO\"] = pd.to_datetime(df[\"createTimeISO\"])"
   ]
  },
  {
   "cell_type": "markdown",
   "id": "870f8fd6",
   "metadata": {},
   "source": [
    "Filtering and outliers"
   ]
  },
  {
   "cell_type": "code",
   "execution_count": 2,
   "id": "f7ac77da",
   "metadata": {},
   "outputs": [],
   "source": [
    "# Filter to last 6 months\n",
    "from datetime import datetime\n",
    "six_months_ago = pd.Timestamp(datetime.today() - pd.DateOffset(months=6), tz=\"UTC\")\n",
    "df = df[df[\"createTimeISO\"] >= six_months_ago]\n",
    "\n",
    "# Remove very long comments (e.g. spam or repeated text blocks)\n",
    "df = df[df[\"text\"].str.split().str.len() < 100]\n",
    "\n",
    "# Remove comments with excessive repetition of a single word\n",
    "def has_repeated_word(text, threshold=5):\n",
    "    words = text.lower().split()\n",
    "    word_counts = Counter(words)\n",
    "    return any(count >= threshold for count in word_counts.values())\n",
    "\n",
    "df = df[~df[\"text\"].apply(has_repeated_word)]"
   ]
  },
  {
   "cell_type": "markdown",
   "id": "3a3d7138",
   "metadata": {},
   "source": [
    "Stopwords and tokenization"
   ]
  },
  {
   "cell_type": "code",
   "execution_count": 3,
   "id": "44cec17f",
   "metadata": {},
   "outputs": [],
   "source": [
    "# Define standard and custom stopwords\n",
    "standard_stopwords = set(stopwords.words(\"german\")) | set(stopwords.words(\"english\"))\n",
    "custom_stopwords = {\n",
    "    \"i\", \"you\", \"it\", \"me\", \"this\", \"that\", \"we\", \"she\", \"he\", \"they\", \"u\", \"ur\",\n",
    "    \"my\", \"your\", \"yours\", \"ours\", \"their\", \"its\", \"use\", \"like\", \"get\", \"need\", \n",
    "    \"please\", \"one\", \"would\", \"watch\", \"want\", \"que\", \"tbh\", \"idk\", \"fr\", \n",
    "    \"literally\", \"actually\", \"honestly\", \"kinda\", \"thing\", \"stuff\", \"good\", \"bad\", \n",
    "    \"😭\", \"😂\", \"✨\", \"💀\", \"💅\", \"🥰\", \"😩\", \"😅\", \"🥺\", \"😳\"\n",
    "}\n",
    "\n",
    "# Unigram-specific stopwords (standard + custom)\n",
    "combined_stopwords = standard_stopwords | custom_stopwords\n",
    "\n",
    "# Clean + tokenize for unigram analysis\n",
    "def clean_tokens_unigrams(text):\n",
    "    text = str(text).lower()\n",
    "    text = re.sub(r\"[^a-zA-Zäöüß]\", \" \", text)\n",
    "    tokens = word_tokenize(text)\n",
    "    return [w for w in tokens if w not in combined_stopwords and len(w) > 2]\n",
    "\n",
    "# Clean + tokenize for n-gram analysis (no custom stopwords)\n",
    "def clean_tokens_ngrams(text):\n",
    "    text = str(text).lower()\n",
    "    text = re.sub(r\"[^a-zA-Zäöüß]\", \" \", text)\n",
    "    tokens = word_tokenize(text)\n",
    "    return [w for w in tokens if w not in standard_stopwords and len(w) > 2]\n",
    "\n",
    "# Apply both tokenizations\n",
    "df[\"unigram_tokens\"] = df[\"text\"].apply(clean_tokens_unigrams)\n",
    "df[\"ngram_tokens\"] = df[\"text\"].apply(clean_tokens_ngrams)\n",
    "\n",
    "# Recompute flattened ngram lists from tokenized columns\n",
    "all_unigrams = [word for tokens in df[\"unigram_tokens\"] for word in tokens]\n",
    "all_bigrams = [\" \".join(bg) for tokens in df[\"ngram_tokens\"] for bg in ngrams(tokens, 2)]\n",
    "all_trigrams = [\" \".join(tg) for tokens in df[\"ngram_tokens\"] for tg in ngrams(tokens, 3)]\n"
   ]
  },
  {
   "cell_type": "markdown",
   "id": "6b36e77d",
   "metadata": {},
   "source": [
    "Most common words"
   ]
  },
  {
   "cell_type": "code",
   "execution_count": 4,
   "id": "b83c26b9",
   "metadata": {},
   "outputs": [
    {
     "data": {
      "application/vnd.microsoft.datawrangler.viewer.v0+json": {
       "columns": [
        {
         "name": "index",
         "rawType": "int64",
         "type": "integer"
        },
        {
         "name": "Unigram",
         "rawType": "object",
         "type": "string"
        },
        {
         "name": "Unigram Count",
         "rawType": "int64",
         "type": "integer"
        },
        {
         "name": "Bigram",
         "rawType": "object",
         "type": "string"
        },
        {
         "name": "Bigram Count",
         "rawType": "int64",
         "type": "integer"
        },
        {
         "name": "Trigram",
         "rawType": "object",
         "type": "string"
        },
        {
         "name": "Trigram Count",
         "rawType": "int64",
         "type": "integer"
        }
       ],
       "conversionMethod": "pd.DataFrame",
       "ref": "09f4d576-89db-42fa-9824-f0583e9065ca",
       "rows": [
        [
         "0",
         "skin",
         "6424",
         "skin care",
         "767",
         "acne prone skin",
         "145"
        ],
        [
         "1",
         "love",
         "3566",
         "skincare routine",
         "339",
         "skin care routine",
         "136"
        ],
        [
         "2",
         "skincare",
         "2590",
         "cleansing oil",
         "328",
         "instagram sagajewels official",
         "72"
        ],
        [
         "3",
         "face",
         "1813",
         "cleaning fyp",
         "314",
         "korean skin care",
         "68"
        ],
        [
         "4",
         "routine",
         "1424",
         "look like",
         "297",
         "would anyone watch",
         "67"
        ],
        [
         "5",
         "acne",
         "1409",
         "oily skin",
         "284",
         "anua cleansing oil",
         "62"
        ],
        [
         "6",
         "products",
         "1397",
         "sensitive skin",
         "265",
         "anyone watch grwm",
         "59"
        ],
        [
         "7",
         "serum",
         "1219",
         "korean skincare",
         "261",
         "izin ambil post",
         "55"
        ],
        [
         "8",
         "girl",
         "1158",
         "commenting stay",
         "250",
         "oily acne prone",
         "50"
        ],
        [
         "9",
         "much",
         "1113",
         "dry skin",
         "227",
         "skin looks amazing",
         "49"
        ]
       ],
       "shape": {
        "columns": 6,
        "rows": 10
       }
      },
      "text/html": [
       "<div>\n",
       "<style scoped>\n",
       "    .dataframe tbody tr th:only-of-type {\n",
       "        vertical-align: middle;\n",
       "    }\n",
       "\n",
       "    .dataframe tbody tr th {\n",
       "        vertical-align: top;\n",
       "    }\n",
       "\n",
       "    .dataframe thead th {\n",
       "        text-align: right;\n",
       "    }\n",
       "</style>\n",
       "<table border=\"1\" class=\"dataframe\">\n",
       "  <thead>\n",
       "    <tr style=\"text-align: right;\">\n",
       "      <th></th>\n",
       "      <th>Unigram</th>\n",
       "      <th>Unigram Count</th>\n",
       "      <th>Bigram</th>\n",
       "      <th>Bigram Count</th>\n",
       "      <th>Trigram</th>\n",
       "      <th>Trigram Count</th>\n",
       "    </tr>\n",
       "  </thead>\n",
       "  <tbody>\n",
       "    <tr>\n",
       "      <th>0</th>\n",
       "      <td>skin</td>\n",
       "      <td>6424</td>\n",
       "      <td>skin care</td>\n",
       "      <td>767</td>\n",
       "      <td>acne prone skin</td>\n",
       "      <td>145</td>\n",
       "    </tr>\n",
       "    <tr>\n",
       "      <th>1</th>\n",
       "      <td>love</td>\n",
       "      <td>3566</td>\n",
       "      <td>skincare routine</td>\n",
       "      <td>339</td>\n",
       "      <td>skin care routine</td>\n",
       "      <td>136</td>\n",
       "    </tr>\n",
       "    <tr>\n",
       "      <th>2</th>\n",
       "      <td>skincare</td>\n",
       "      <td>2590</td>\n",
       "      <td>cleansing oil</td>\n",
       "      <td>328</td>\n",
       "      <td>instagram sagajewels official</td>\n",
       "      <td>72</td>\n",
       "    </tr>\n",
       "    <tr>\n",
       "      <th>3</th>\n",
       "      <td>face</td>\n",
       "      <td>1813</td>\n",
       "      <td>cleaning fyp</td>\n",
       "      <td>314</td>\n",
       "      <td>korean skin care</td>\n",
       "      <td>68</td>\n",
       "    </tr>\n",
       "    <tr>\n",
       "      <th>4</th>\n",
       "      <td>routine</td>\n",
       "      <td>1424</td>\n",
       "      <td>look like</td>\n",
       "      <td>297</td>\n",
       "      <td>would anyone watch</td>\n",
       "      <td>67</td>\n",
       "    </tr>\n",
       "    <tr>\n",
       "      <th>5</th>\n",
       "      <td>acne</td>\n",
       "      <td>1409</td>\n",
       "      <td>oily skin</td>\n",
       "      <td>284</td>\n",
       "      <td>anua cleansing oil</td>\n",
       "      <td>62</td>\n",
       "    </tr>\n",
       "    <tr>\n",
       "      <th>6</th>\n",
       "      <td>products</td>\n",
       "      <td>1397</td>\n",
       "      <td>sensitive skin</td>\n",
       "      <td>265</td>\n",
       "      <td>anyone watch grwm</td>\n",
       "      <td>59</td>\n",
       "    </tr>\n",
       "    <tr>\n",
       "      <th>7</th>\n",
       "      <td>serum</td>\n",
       "      <td>1219</td>\n",
       "      <td>korean skincare</td>\n",
       "      <td>261</td>\n",
       "      <td>izin ambil post</td>\n",
       "      <td>55</td>\n",
       "    </tr>\n",
       "    <tr>\n",
       "      <th>8</th>\n",
       "      <td>girl</td>\n",
       "      <td>1158</td>\n",
       "      <td>commenting stay</td>\n",
       "      <td>250</td>\n",
       "      <td>oily acne prone</td>\n",
       "      <td>50</td>\n",
       "    </tr>\n",
       "    <tr>\n",
       "      <th>9</th>\n",
       "      <td>much</td>\n",
       "      <td>1113</td>\n",
       "      <td>dry skin</td>\n",
       "      <td>227</td>\n",
       "      <td>skin looks amazing</td>\n",
       "      <td>49</td>\n",
       "    </tr>\n",
       "  </tbody>\n",
       "</table>\n",
       "</div>"
      ],
      "text/plain": [
       "    Unigram  Unigram Count            Bigram  Bigram Count  \\\n",
       "0      skin           6424         skin care           767   \n",
       "1      love           3566  skincare routine           339   \n",
       "2  skincare           2590     cleansing oil           328   \n",
       "3      face           1813      cleaning fyp           314   \n",
       "4   routine           1424         look like           297   \n",
       "5      acne           1409         oily skin           284   \n",
       "6  products           1397    sensitive skin           265   \n",
       "7     serum           1219   korean skincare           261   \n",
       "8      girl           1158   commenting stay           250   \n",
       "9      much           1113          dry skin           227   \n",
       "\n",
       "                         Trigram  Trigram Count  \n",
       "0                acne prone skin            145  \n",
       "1              skin care routine            136  \n",
       "2  instagram sagajewels official             72  \n",
       "3               korean skin care             68  \n",
       "4             would anyone watch             67  \n",
       "5             anua cleansing oil             62  \n",
       "6              anyone watch grwm             59  \n",
       "7                izin ambil post             55  \n",
       "8                oily acne prone             50  \n",
       "9             skin looks amazing             49  "
      ]
     },
     "execution_count": 4,
     "metadata": {},
     "output_type": "execute_result"
    }
   ],
   "source": [
    "# Get top 10 of each ngram type\n",
    "top10_unigrams = Counter(all_unigrams).most_common(10)\n",
    "top10_bigrams = Counter(all_bigrams).most_common(10)\n",
    "top10_trigrams = Counter(all_trigrams).most_common(10)\n",
    "\n",
    "# Convert to separate DataFrames\n",
    "df_uni = pd.DataFrame(top10_unigrams, columns=[\"Unigram\", \"Unigram Count\"])\n",
    "df_bi = pd.DataFrame(top10_bigrams, columns=[\"Bigram\", \"Bigram Count\"])\n",
    "df_tri = pd.DataFrame(top10_trigrams, columns=[\"Trigram\", \"Trigram Count\"])\n",
    "\n",
    "# Combine side-by-side\n",
    "df_side_by_side = pd.concat([df_uni, df_bi, df_tri], axis=1)\n",
    "\n",
    "# Display the result\n",
    "df_side_by_side\n"
   ]
  },
  {
   "cell_type": "markdown",
   "id": "cae71564",
   "metadata": {},
   "source": [
    "Most common words this week"
   ]
  },
  {
   "cell_type": "code",
   "execution_count": 5,
   "id": "2708f24b",
   "metadata": {},
   "outputs": [
    {
     "name": "stdout",
     "output_type": "stream",
     "text": [
      "Top 10 Ngrams (Relative Frequencies) – Latest Week\n",
      "Week starting: 2025-04-07\n",
      "\n"
     ]
    },
    {
     "name": "stderr",
     "output_type": "stream",
     "text": [
      "C:\\Users\\Surface\\AppData\\Local\\Temp\\ipykernel_20836\\3785980428.py:2: UserWarning: Converting to PeriodArray/Index representation will drop timezone information.\n",
      "  latest_week = df[\"createTimeISO\"].dt.to_period(\"W\").max().start_time\n",
      "C:\\Users\\Surface\\AppData\\Local\\Temp\\ipykernel_20836\\3785980428.py:5: UserWarning: Converting to PeriodArray/Index representation will drop timezone information.\n",
      "  df_latest = df[df[\"createTimeISO\"].dt.to_period(\"W\").dt.start_time == latest_week]\n"
     ]
    },
    {
     "data": {
      "application/vnd.microsoft.datawrangler.viewer.v0+json": {
       "columns": [
        {
         "name": "index",
         "rawType": "int64",
         "type": "integer"
        },
        {
         "name": "Unigram",
         "rawType": "object",
         "type": "string"
        },
        {
         "name": "Unigram %",
         "rawType": "float64",
         "type": "float"
        },
        {
         "name": "Bigram",
         "rawType": "object",
         "type": "string"
        },
        {
         "name": "Bigram %",
         "rawType": "float64",
         "type": "float"
        },
        {
         "name": "Trigram",
         "rawType": "object",
         "type": "string"
        },
        {
         "name": "Trigram %",
         "rawType": "float64",
         "type": "float"
        }
       ],
       "conversionMethod": "pd.DataFrame",
       "ref": "7ce758d5-73eb-4378-8dda-43979e06b646",
       "rows": [
        [
         "0",
         "skin",
         "1.81",
         "izin ambil",
         "0.58",
         "izin ambil post",
         "0.33"
        ],
        [
         "1",
         "fyp",
         "1.55",
         "skin care",
         "0.42",
         "first time seeing",
         "0.3"
        ],
        [
         "2",
         "love",
         "0.96",
         "first time",
         "0.39",
         "skin care routine",
         "0.19"
        ],
        [
         "3",
         "skincare",
         "0.94",
         "fyp fam",
         "0.36",
         "hello beauty cute",
         "0.15"
        ],
        [
         "4",
         "face",
         "0.78",
         "cleaning fyp",
         "0.36",
         "beauty cute wow",
         "0.15"
        ],
        [
         "5",
         "aku",
         "0.71",
         "andrea fyp",
         "0.31",
         "time andrea fyp",
         "0.15"
        ],
        [
         "6",
         "izin",
         "0.66",
         "ambil post",
         "0.25",
         "time seeing andrea",
         "0.15"
        ],
        [
         "7",
         "kak",
         "0.59",
         "time seeing",
         "0.22",
         "seeing andrea fyp",
         "0.15"
        ],
        [
         "8",
         "ambil",
         "0.57",
         "care routine",
         "0.19",
         "first time andrea",
         "0.11"
        ],
        [
         "9",
         "time",
         "0.57",
         "commenting stay",
         "0.17",
         "izin ambil kak",
         "0.11"
        ]
       ],
       "shape": {
        "columns": 6,
        "rows": 10
       }
      },
      "text/html": [
       "<div>\n",
       "<style scoped>\n",
       "    .dataframe tbody tr th:only-of-type {\n",
       "        vertical-align: middle;\n",
       "    }\n",
       "\n",
       "    .dataframe tbody tr th {\n",
       "        vertical-align: top;\n",
       "    }\n",
       "\n",
       "    .dataframe thead th {\n",
       "        text-align: right;\n",
       "    }\n",
       "</style>\n",
       "<table border=\"1\" class=\"dataframe\">\n",
       "  <thead>\n",
       "    <tr style=\"text-align: right;\">\n",
       "      <th></th>\n",
       "      <th>Unigram</th>\n",
       "      <th>Unigram %</th>\n",
       "      <th>Bigram</th>\n",
       "      <th>Bigram %</th>\n",
       "      <th>Trigram</th>\n",
       "      <th>Trigram %</th>\n",
       "    </tr>\n",
       "  </thead>\n",
       "  <tbody>\n",
       "    <tr>\n",
       "      <th>0</th>\n",
       "      <td>skin</td>\n",
       "      <td>1.81</td>\n",
       "      <td>izin ambil</td>\n",
       "      <td>0.58</td>\n",
       "      <td>izin ambil post</td>\n",
       "      <td>0.33</td>\n",
       "    </tr>\n",
       "    <tr>\n",
       "      <th>1</th>\n",
       "      <td>fyp</td>\n",
       "      <td>1.55</td>\n",
       "      <td>skin care</td>\n",
       "      <td>0.42</td>\n",
       "      <td>first time seeing</td>\n",
       "      <td>0.30</td>\n",
       "    </tr>\n",
       "    <tr>\n",
       "      <th>2</th>\n",
       "      <td>love</td>\n",
       "      <td>0.96</td>\n",
       "      <td>first time</td>\n",
       "      <td>0.39</td>\n",
       "      <td>skin care routine</td>\n",
       "      <td>0.19</td>\n",
       "    </tr>\n",
       "    <tr>\n",
       "      <th>3</th>\n",
       "      <td>skincare</td>\n",
       "      <td>0.94</td>\n",
       "      <td>fyp fam</td>\n",
       "      <td>0.36</td>\n",
       "      <td>hello beauty cute</td>\n",
       "      <td>0.15</td>\n",
       "    </tr>\n",
       "    <tr>\n",
       "      <th>4</th>\n",
       "      <td>face</td>\n",
       "      <td>0.78</td>\n",
       "      <td>cleaning fyp</td>\n",
       "      <td>0.36</td>\n",
       "      <td>beauty cute wow</td>\n",
       "      <td>0.15</td>\n",
       "    </tr>\n",
       "    <tr>\n",
       "      <th>5</th>\n",
       "      <td>aku</td>\n",
       "      <td>0.71</td>\n",
       "      <td>andrea fyp</td>\n",
       "      <td>0.31</td>\n",
       "      <td>time andrea fyp</td>\n",
       "      <td>0.15</td>\n",
       "    </tr>\n",
       "    <tr>\n",
       "      <th>6</th>\n",
       "      <td>izin</td>\n",
       "      <td>0.66</td>\n",
       "      <td>ambil post</td>\n",
       "      <td>0.25</td>\n",
       "      <td>time seeing andrea</td>\n",
       "      <td>0.15</td>\n",
       "    </tr>\n",
       "    <tr>\n",
       "      <th>7</th>\n",
       "      <td>kak</td>\n",
       "      <td>0.59</td>\n",
       "      <td>time seeing</td>\n",
       "      <td>0.22</td>\n",
       "      <td>seeing andrea fyp</td>\n",
       "      <td>0.15</td>\n",
       "    </tr>\n",
       "    <tr>\n",
       "      <th>8</th>\n",
       "      <td>ambil</td>\n",
       "      <td>0.57</td>\n",
       "      <td>care routine</td>\n",
       "      <td>0.19</td>\n",
       "      <td>first time andrea</td>\n",
       "      <td>0.11</td>\n",
       "    </tr>\n",
       "    <tr>\n",
       "      <th>9</th>\n",
       "      <td>time</td>\n",
       "      <td>0.57</td>\n",
       "      <td>commenting stay</td>\n",
       "      <td>0.17</td>\n",
       "      <td>izin ambil kak</td>\n",
       "      <td>0.11</td>\n",
       "    </tr>\n",
       "  </tbody>\n",
       "</table>\n",
       "</div>"
      ],
      "text/plain": [
       "    Unigram  Unigram %           Bigram  Bigram %             Trigram  \\\n",
       "0      skin       1.81       izin ambil      0.58     izin ambil post   \n",
       "1       fyp       1.55        skin care      0.42   first time seeing   \n",
       "2      love       0.96       first time      0.39   skin care routine   \n",
       "3  skincare       0.94          fyp fam      0.36   hello beauty cute   \n",
       "4      face       0.78     cleaning fyp      0.36     beauty cute wow   \n",
       "5       aku       0.71       andrea fyp      0.31     time andrea fyp   \n",
       "6      izin       0.66       ambil post      0.25  time seeing andrea   \n",
       "7       kak       0.59      time seeing      0.22   seeing andrea fyp   \n",
       "8     ambil       0.57     care routine      0.19   first time andrea   \n",
       "9      time       0.57  commenting stay      0.17      izin ambil kak   \n",
       "\n",
       "   Trigram %  \n",
       "0       0.33  \n",
       "1       0.30  \n",
       "2       0.19  \n",
       "3       0.15  \n",
       "4       0.15  \n",
       "5       0.15  \n",
       "6       0.15  \n",
       "7       0.15  \n",
       "8       0.11  \n",
       "9       0.11  "
      ]
     },
     "execution_count": 5,
     "metadata": {},
     "output_type": "execute_result"
    }
   ],
   "source": [
    "# Get most recent week\n",
    "latest_week = df[\"createTimeISO\"].dt.to_period(\"W\").max().start_time\n",
    "\n",
    "# Filter DataFrame to only the latest week\n",
    "df_latest = df[df[\"createTimeISO\"].dt.to_period(\"W\").dt.start_time == latest_week]\n",
    "\n",
    "# Extract tokens\n",
    "unigrams_latest = [word for tokens in df_latest[\"unigram_tokens\"] for word in tokens]\n",
    "bigrams_latest = [\" \".join(bg) for tokens in df_latest[\"ngram_tokens\"] for bg in ngrams(tokens, 2)]\n",
    "trigrams_latest = [\" \".join(tg) for tokens in df_latest[\"ngram_tokens\"] for tg in ngrams(tokens, 3)]\n",
    "\n",
    "# Count top 10\n",
    "top10_unigrams = Counter(unigrams_latest).most_common(10)\n",
    "top10_bigrams = Counter(bigrams_latest).most_common(10)\n",
    "top10_trigrams = Counter(trigrams_latest).most_common(10)\n",
    "\n",
    "# Total counts for relative frequency\n",
    "total_unigrams = sum(Counter(unigrams_latest).values())\n",
    "total_bigrams = sum(Counter(bigrams_latest).values())\n",
    "total_trigrams = sum(Counter(trigrams_latest).values())\n",
    "\n",
    "# Convert to DataFrames with percentages\n",
    "df_uni = pd.DataFrame(top10_unigrams, columns=[\"Unigram\", \"Unigram Count\"])\n",
    "df_uni[\"Unigram %\"] = (df_uni[\"Unigram Count\"] / total_unigrams) * 100\n",
    "\n",
    "df_bi = pd.DataFrame(top10_bigrams, columns=[\"Bigram\", \"Bigram Count\"])\n",
    "df_bi[\"Bigram %\"] = (df_bi[\"Bigram Count\"] / total_bigrams) * 100\n",
    "\n",
    "df_tri = pd.DataFrame(top10_trigrams, columns=[\"Trigram\", \"Trigram Count\"])\n",
    "df_tri[\"Trigram %\"] = (df_tri[\"Trigram Count\"] / total_trigrams) * 100\n",
    "\n",
    "# Keep only relevant columns\n",
    "df_uni = df_uni[[\"Unigram\", \"Unigram %\"]]\n",
    "df_bi = df_bi[[\"Bigram\", \"Bigram %\"]]\n",
    "df_tri = df_tri[[\"Trigram\", \"Trigram %\"]]\n",
    "\n",
    "# Combine side-by-side and round percentages\n",
    "df_relative_latest_week = pd.concat([df_uni, df_bi, df_tri], axis=1).round(2)\n",
    "\n",
    "# Display headline and info\n",
    "print(\"Top 10 Ngrams (Relative Frequencies) – Latest Week\")\n",
    "print(f\"Week starting: {latest_week.strftime('%Y-%m-%d')}\\n\")\n",
    "\n",
    "# Show the table\n",
    "df_relative_latest_week\n"
   ]
  },
  {
   "cell_type": "markdown",
   "id": "08f56c08",
   "metadata": {},
   "source": [
    "Trends over time"
   ]
  },
  {
   "cell_type": "code",
   "execution_count": 6,
   "id": "4ee4fc52",
   "metadata": {},
   "outputs": [
    {
     "name": "stderr",
     "output_type": "stream",
     "text": [
      "C:\\Users\\Surface\\AppData\\Local\\Temp\\ipykernel_20836\\2807557589.py:2: UserWarning: Converting to PeriodArray/Index representation will drop timezone information.\n",
      "  df[\"week\"] = df[\"createTimeISO\"].dt.to_period(\"W\").dt.start_time\n"
     ]
    }
   ],
   "source": [
    "# Convert datetime to week (if not already present)\n",
    "df[\"week\"] = df[\"createTimeISO\"].dt.to_period(\"W\").dt.start_time\n",
    "\n",
    "# Generate bigrams and trigrams from ngram_tokens\n",
    "df[\"bigrams\"] = df[\"ngram_tokens\"].apply(lambda tokens: [\" \".join(g) for g in ngrams(tokens, 2)])\n",
    "df[\"trigrams\"] = df[\"ngram_tokens\"].apply(lambda tokens: [\" \".join(g) for g in ngrams(tokens, 3)])\n",
    "\n",
    "# Combine unigrams, bigrams, and trigrams into one list per comment\n",
    "df[\"all_ngrams\"] = df[\"unigram_tokens\"] + df[\"bigrams\"] + df[\"trigrams\"]\n",
    "\n",
    "# Create flat list of (week, ngram) pairs\n",
    "records = [\n",
    "    (row[\"week\"], ngram)\n",
    "    for _, row in df.iterrows()\n",
    "    for ngram in row[\"all_ngrams\"]\n",
    "]\n",
    "\n",
    "df_all = pd.DataFrame(records, columns=[\"week\", \"ngram\"])\n",
    "\n",
    "# Count ngram mentions per week\n",
    "weekly_counts = df_all.groupby([\"week\", \"ngram\"]).size().reset_index(name=\"count\")\n",
    "\n",
    "# Total number of comments per week\n",
    "comments_per_week = df.groupby(\"week\")[\"text\"].count().reset_index(name=\"total_comments\")\n",
    "\n",
    "# Merge and normalize counts\n",
    "weekly_counts = weekly_counts.merge(comments_per_week, on=\"week\", how=\"left\")\n",
    "weekly_counts[\"mention_percent\"] = (weekly_counts[\"count\"] / weekly_counts[\"total_comments\"]) * 100"
   ]
  },
  {
   "cell_type": "code",
   "execution_count": 7,
   "id": "3302d5ff",
   "metadata": {},
   "outputs": [
    {
     "data": {
      "image/png": "[encoded data removed]",
      "text/plain": [
       "<Figure size 2000x500 with 3 Axes>"
      ]
     },
     "metadata": {},
     "output_type": "display_data"
    }
   ],
   "source": [
    "# Helper function: classify ngram by type based on number of words\n",
    "def get_ngram_type(ngram):\n",
    "    if len(ngram.split()) == 1:\n",
    "        return \"Unigram\"\n",
    "    elif len(ngram.split()) == 2:\n",
    "        return \"Bigram\"\n",
    "    else:\n",
    "        return \"Trigram\"\n",
    "\n",
    "# Assign ngram type to each row\n",
    "weekly_counts[\"type\"] = weekly_counts[\"ngram\"].apply(get_ngram_type)\n",
    "\n",
    "# Get top 5 ngrams per type based on total percentage over time\n",
    "top_ngrams_by_type = (\n",
    "    weekly_counts.groupby([\"type\", \"ngram\"])[\"mention_percent\"]\n",
    "    .sum()\n",
    "    .reset_index()\n",
    "    .sort_values([\"type\", \"mention_percent\"], ascending=[True, False])\n",
    "    .groupby(\"type\")\n",
    "    .head(5)\n",
    ")\n",
    "\n",
    "# Filter weekly_counts to include only top 5 ngrams per type\n",
    "top_weekly = weekly_counts.merge(top_ngrams_by_type[[\"type\", \"ngram\"]], on=[\"type\", \"ngram\"])\n",
    "\n",
    "# Create pivot tables for each ngram type\n",
    "df_uni = top_weekly[top_weekly[\"type\"] == \"Unigram\"].pivot(index=\"week\", columns=\"ngram\", values=\"mention_percent\").fillna(0)\n",
    "df_bi = top_weekly[top_weekly[\"type\"] == \"Bigram\"].pivot(index=\"week\", columns=\"ngram\", values=\"mention_percent\").fillna(0)\n",
    "df_tri = top_weekly[top_weekly[\"type\"] == \"Trigram\"].pivot(index=\"week\", columns=\"ngram\", values=\"mention_percent\").fillna(0)\n",
    "\n",
    "# Create subplots: one for each ngram type\n",
    "fig, axes = plt.subplots(1, 3, figsize=(20, 5))\n",
    "\n",
    "# Plot Unigrams\n",
    "df_uni.plot(ax=axes[0], marker=\"o\")\n",
    "axes[0].set_title(\"Top 5 Unigrams\")\n",
    "axes[0].set_xlabel(\"Week\")\n",
    "axes[0].set_ylabel(\"Mentions (%)\")\n",
    "axes[0].grid(True, linestyle=\"--\", alpha=0.5)\n",
    "\n",
    "# Plot Bigrams\n",
    "df_bi.plot(ax=axes[1], marker=\"o\")\n",
    "axes[1].set_title(\"Top 5 Bigrams\")\n",
    "axes[1].set_xlabel(\"Week\")\n",
    "axes[1].grid(True, linestyle=\"--\", alpha=0.5)\n",
    "\n",
    "# Plot Trigrams\n",
    "df_tri.plot(ax=axes[2], marker=\"o\")\n",
    "axes[2].set_title(\"Top 5 Trigrams\")\n",
    "axes[2].set_xlabel(\"Week\")\n",
    "axes[2].grid(True, linestyle=\"--\", alpha=0.5)\n",
    "\n",
    "# Adjust layout to prevent overlapping\n",
    "plt.tight_layout()\n",
    "plt.show()\n"
   ]
  },
  {
   "cell_type": "markdown",
   "id": "1ae30750",
   "metadata": {},
   "source": [
    "Note: percentage of comments per week that mention each of the top 5 ngrams (unigrams, bigrams, or trigrams). Values represent the share of total weekly comments containing the respective term, not total mention counts."
   ]
  },
  {
   "cell_type": "markdown",
   "id": "de23e698",
   "metadata": {},
   "source": [
    "Top used emojis"
   ]
  },
  {
   "cell_type": "code",
   "execution_count": 8,
   "id": "96c81751",
   "metadata": {},
   "outputs": [
    {
     "name": "stdout",
     "output_type": "stream",
     "text": [
      "Top 5 Emojis by total percentage over all weeks:\n",
      "Index(['❤', '😭', '🥰', '😍', '😂'], dtype='object', name='emojis')\n"
     ]
    },
    {
     "data": {
      "application/vnd.plotly.v1+json": {
       "config": {
        "plotlyServerURL": "https://plot.ly"
       },
       "data": [
        {
         "hovertemplate": "Emoji=❤<br>Week=%{x}<br>Mentions (%)=%{y}<extra></extra>",
         "legendgroup": "❤",
         "line": {
          "color": "#636efa",
          "dash": "solid"
         },
         "marker": {
          "symbol": "circle"
         },
         "mode": "lines+markers",
         "name": "❤",
         "orientation": "v",
         "showlegend": true,
         "type": "scatter",
         "x": [
          "2024-11-04T00:00:00.000000000",
          "2024-11-11T00:00:00.000000000",
          "2024-11-18T00:00:00.000000000",
          "2024-11-25T00:00:00.000000000",
          "2024-12-02T00:00:00.000000000",
          "2024-12-09T00:00:00.000000000",
          "2024-12-16T00:00:00.000000000",
          "2024-12-23T00:00:00.000000000",
          "2024-12-30T00:00:00.000000000",
          "2025-01-06T00:00:00.000000000",
          "2025-01-13T00:00:00.000000000",
          "2025-01-20T00:00:00.000000000",
          "2025-01-27T00:00:00.000000000",
          "2025-02-03T00:00:00.000000000",
          "2025-02-10T00:00:00.000000000",
          "2025-02-17T00:00:00.000000000",
          "2025-02-24T00:00:00.000000000",
          "2025-03-03T00:00:00.000000000",
          "2025-03-10T00:00:00.000000000",
          "2025-03-17T00:00:00.000000000",
          "2025-03-24T00:00:00.000000000",
          "2025-03-31T00:00:00.000000000",
          "2025-04-07T00:00:00.000000000"
         ],
         "xaxis": "x",
         "y": {
          "bdata": "pXiBTIoXAEDAOBlEHrjyP2X9ddzrSfA/2oXFSChtDEDWjsR6NtsQQBV2TXIJqhRAl97AYmNlBkCX97y+AgMKQAEZA8pjWQxAFTN54QpkC0BlvteVp6waQOk0lCzCERNAHbO90YAeEkC1Ff5SnogKQHFIY5iQDRNAFSF5/lQvE0CAhqgqpjUPQM/hwU64lhBAEWvP1GV0G0Bj99pXnfEWQM/YxeufNxhAshS7GxD+DEDWNDRb6XsNQA==",
          "dtype": "f8"
         },
         "yaxis": "y"
        },
        {
         "hovertemplate": "Emoji=😂<br>Week=%{x}<br>Mentions (%)=%{y}<extra></extra>",
         "legendgroup": "😂",
         "line": {
          "color": "#EF553B",
          "dash": "solid"
         },
         "marker": {
          "symbol": "circle"
         },
         "mode": "lines+markers",
         "name": "😂",
         "orientation": "v",
         "showlegend": true,
         "type": "scatter",
         "x": [
          "2024-11-04T00:00:00.000000000",
          "2024-11-11T00:00:00.000000000",
          "2024-11-18T00:00:00.000000000",
          "2024-11-25T00:00:00.000000000",
          "2024-12-02T00:00:00.000000000",
          "2024-12-09T00:00:00.000000000",
          "2024-12-16T00:00:00.000000000",
          "2024-12-23T00:00:00.000000000",
          "2024-12-30T00:00:00.000000000",
          "2025-01-06T00:00:00.000000000",
          "2025-01-13T00:00:00.000000000",
          "2025-01-20T00:00:00.000000000",
          "2025-01-27T00:00:00.000000000",
          "2025-02-03T00:00:00.000000000",
          "2025-02-10T00:00:00.000000000",
          "2025-02-17T00:00:00.000000000",
          "2025-02-24T00:00:00.000000000",
          "2025-03-03T00:00:00.000000000",
          "2025-03-10T00:00:00.000000000",
          "2025-03-17T00:00:00.000000000",
          "2025-03-24T00:00:00.000000000",
          "2025-03-31T00:00:00.000000000",
          "2025-04-07T00:00:00.000000000"
         ],
         "xaxis": "x",
         "y": {
          "bdata": "GmG5pxGW+z+2UEDH5rvxPyj9l00BxfE/ka6DMHDz8j/NER9gQTr0PzSDcpvR9fY/YbPiTSEU9T+5NgJVwAzwP/qEOxdrbO4/7B1TA3vH9D+c9qKvjhfqP3isuC99YfY/+OzYKYzY9j9wwUGJGVj2PyGpeiHUJ/o/720YsAqt9D9hgMqRY0DxP7W82B73Kfc/R4iY5jRU+z+J4i9yhgX3P79NMWr42/Q/eXGp3ggH9T/3LqA0QTX6Pw==",
          "dtype": "f8"
         },
         "yaxis": "y"
        },
        {
         "hovertemplate": "Emoji=😍<br>Week=%{x}<br>Mentions (%)=%{y}<extra></extra>",
         "legendgroup": "😍",
         "line": {
          "color": "#00cc96",
          "dash": "solid"
         },
         "marker": {
          "symbol": "circle"
         },
         "mode": "lines+markers",
         "name": "😍",
         "orientation": "v",
         "showlegend": true,
         "type": "scatter",
         "x": [
          "2024-11-04T00:00:00.000000000",
          "2024-11-11T00:00:00.000000000",
          "2024-11-18T00:00:00.000000000",
          "2024-11-25T00:00:00.000000000",
          "2024-12-02T00:00:00.000000000",
          "2024-12-09T00:00:00.000000000",
          "2024-12-16T00:00:00.000000000",
          "2024-12-23T00:00:00.000000000",
          "2024-12-30T00:00:00.000000000",
          "2025-01-06T00:00:00.000000000",
          "2025-01-13T00:00:00.000000000",
          "2025-01-20T00:00:00.000000000",
          "2025-01-27T00:00:00.000000000",
          "2025-02-03T00:00:00.000000000",
          "2025-02-10T00:00:00.000000000",
          "2025-02-17T00:00:00.000000000",
          "2025-02-24T00:00:00.000000000",
          "2025-03-03T00:00:00.000000000",
          "2025-03-10T00:00:00.000000000",
          "2025-03-17T00:00:00.000000000",
          "2025-03-24T00:00:00.000000000",
          "2025-03-31T00:00:00.000000000",
          "2025-04-07T00:00:00.000000000"
         ],
         "xaxis": "x",
         "y": {
          "bdata": "pXiBTIoXAEDAOBlEHrjyP9r70jv36fk/dHstOcRV9j+0mi4QYlf+P/ZoKElBXgJAprYXy637/D+7F1zQDaz7P+OqXVZDIQNAR/0m0fRKAEDMGedqRz0BQOsIWtAzNfg/XyxgS/aC/z80P02XYyT3P3qvYBeJQwJAI12/uNOg/D++unM2b7j5P+cZdxUMIfg/tykrEYDW/D8I+VN/TkEAQPdVmBMdCgBAHdee9uN8+T/RX8u+yuX4Pw==",
          "dtype": "f8"
         },
         "yaxis": "y"
        },
        {
         "hovertemplate": "Emoji=😭<br>Week=%{x}<br>Mentions (%)=%{y}<extra></extra>",
         "legendgroup": "😭",
         "line": {
          "color": "#ab63fa",
          "dash": "solid"
         },
         "marker": {
          "symbol": "circle"
         },
         "mode": "lines+markers",
         "name": "😭",
         "orientation": "v",
         "showlegend": true,
         "type": "scatter",
         "x": [
          "2024-11-04T00:00:00.000000000",
          "2024-11-11T00:00:00.000000000",
          "2024-11-18T00:00:00.000000000",
          "2024-11-25T00:00:00.000000000",
          "2024-12-02T00:00:00.000000000",
          "2024-12-09T00:00:00.000000000",
          "2024-12-16T00:00:00.000000000",
          "2024-12-23T00:00:00.000000000",
          "2024-12-30T00:00:00.000000000",
          "2025-01-06T00:00:00.000000000",
          "2025-01-13T00:00:00.000000000",
          "2025-01-20T00:00:00.000000000",
          "2025-01-27T00:00:00.000000000",
          "2025-02-03T00:00:00.000000000",
          "2025-02-10T00:00:00.000000000",
          "2025-02-17T00:00:00.000000000",
          "2025-02-24T00:00:00.000000000",
          "2025-03-03T00:00:00.000000000",
          "2025-03-10T00:00:00.000000000",
          "2025-03-17T00:00:00.000000000",
          "2025-03-24T00:00:00.000000000",
          "2025-03-31T00:00:00.000000000",
          "2025-04-07T00:00:00.000000000"
         ],
         "xaxis": "x",
         "y": {
          "bdata": "4Gwd+s3WBUAW7Uzp9RcLQFT8jlnM8wZA51QEKrFpEEBoWnIsFAEOQNAuLngB/gRAJvfjUYNKEUCC0QY59G4RQPqEOxdrbA5AkD5/NQFECUBdJximzv4HQLR631IOhA9AWGXk1AluEUAux0iuf7gPQLViJh39xQZA9VJL9OBqDkDI+gfFEnILQNx+RnIQOhBAB34qsF/nCUBC6Cquc/QHQOrW/LBIGQhALv936ZJxCkA++OCDDz4IQA==",
          "dtype": "f8"
         },
         "yaxis": "y"
        },
        {
         "hovertemplate": "Emoji=🥰<br>Week=%{x}<br>Mentions (%)=%{y}<extra></extra>",
         "legendgroup": "🥰",
         "line": {
          "color": "#FFA15A",
          "dash": "solid"
         },
         "marker": {
          "symbol": "circle"
         },
         "mode": "lines+markers",
         "name": "🥰",
         "orientation": "v",
         "showlegend": true,
         "type": "scatter",
         "x": [
          "2024-11-04T00:00:00.000000000",
          "2024-11-11T00:00:00.000000000",
          "2024-11-18T00:00:00.000000000",
          "2024-11-25T00:00:00.000000000",
          "2024-12-02T00:00:00.000000000",
          "2024-12-09T00:00:00.000000000",
          "2024-12-16T00:00:00.000000000",
          "2024-12-23T00:00:00.000000000",
          "2024-12-30T00:00:00.000000000",
          "2025-01-06T00:00:00.000000000",
          "2025-01-13T00:00:00.000000000",
          "2025-01-20T00:00:00.000000000",
          "2025-01-27T00:00:00.000000000",
          "2025-02-03T00:00:00.000000000",
          "2025-02-10T00:00:00.000000000",
          "2025-02-17T00:00:00.000000000",
          "2025-02-24T00:00:00.000000000",
          "2025-03-03T00:00:00.000000000",
          "2025-03-10T00:00:00.000000000",
          "2025-03-17T00:00:00.000000000",
          "2025-03-24T00:00:00.000000000",
          "2025-03-31T00:00:00.000000000",
          "2025-04-07T00:00:00.000000000"
         ],
         "xaxis": "x",
         "y": {
          "bdata": "4Gwd+s3WBUA0pddfnAwOQCT7OI83Ww5Aka6DMHDzAkAZUttDj5AEQGWtFK258QdAYbPiTSEUBUAol9+J4QcFQGsGR3NLbwVAupfWpqiOCEDaxS25TjAMQM4555xzzglAgoiLI3o5CEB5kwlh6FQLQOb1tBtgpQVAEgTIgcdIA0D+kc84ZJ8IQFECnDHNOwVAQbqX2NrOB0BiiYifPWYGQF9CewntJQRAOvzKd0dNBkCrkPZIVJYHQA==",
          "dtype": "f8"
         },
         "yaxis": "y"
        }
       ],
       "layout": {
        "legend": {
         "title": {
          "text": "Emoji"
         },
         "tracegroupgap": 0
        },
        "template": {
         "data": {
          "bar": [
           {
            "error_x": {
             "color": "rgb(36,36,36)"
            },
            "error_y": {
             "color": "rgb(36,36,36)"
            },
            "marker": {
             "line": {
              "color": "white",
              "width": 0.5
             },
             "pattern": {
              "fillmode": "overlay",
              "size": 10,
              "solidity": 0.2
             }
            },
            "type": "bar"
           }
          ],
          "barpolar": [
           {
            "marker": {
             "line": {
              "color": "white",
              "width": 0.5
             },
             "pattern": {
              "fillmode": "overlay",
              "size": 10,
              "solidity": 0.2
             }
            },
            "type": "barpolar"
           }
          ],
          "carpet": [
           {
            "aaxis": {
             "endlinecolor": "rgb(36,36,36)",
             "gridcolor": "white",
             "linecolor": "white",
             "minorgridcolor": "white",
             "startlinecolor": "rgb(36,36,36)"
            },
            "baxis": {
             "endlinecolor": "rgb(36,36,36)",
             "gridcolor": "white",
             "linecolor": "white",
             "minorgridcolor": "white",
             "startlinecolor": "rgb(36,36,36)"
            },
            "type": "carpet"
           }
          ],
          "choropleth": [
           {
            "colorbar": {
             "outlinewidth": 1,
             "tickcolor": "rgb(36,36,36)",
             "ticks": "outside"
            },
            "type": "choropleth"
           }
          ],
          "contour": [
           {
            "colorbar": {
             "outlinewidth": 1,
             "tickcolor": "rgb(36,36,36)",
             "ticks": "outside"
            },
            "colorscale": [
             [
              0,
              "#440154"
             ],
             [
              0.1111111111111111,
              "#482878"
             ],
             [
              0.2222222222222222,
              "#3e4989"
             ],
             [
              0.3333333333333333,
              "#31688e"
             ],
             [
              0.4444444444444444,
              "#26828e"
             ],
             [
              0.5555555555555556,
              "#1f9e89"
             ],
             [
              0.6666666666666666,
              "#35b779"
             ],
             [
              0.7777777777777778,
              "#6ece58"
             ],
             [
              0.8888888888888888,
              "#b5de2b"
             ],
             [
              1,
              "#fde725"
             ]
            ],
            "type": "contour"
           }
          ],
          "contourcarpet": [
           {
            "colorbar": {
             "outlinewidth": 1,
             "tickcolor": "rgb(36,36,36)",
             "ticks": "outside"
            },
            "type": "contourcarpet"
           }
          ],
          "heatmap": [
           {
            "colorbar": {
             "outlinewidth": 1,
             "tickcolor": "rgb(36,36,36)",
             "ticks": "outside"
            },
            "colorscale": [
             [
              0,
              "#440154"
             ],
             [
              0.1111111111111111,
              "#482878"
             ],
             [
              0.2222222222222222,
              "#3e4989"
             ],
             [
              0.3333333333333333,
              "#31688e"
             ],
             [
              0.4444444444444444,
              "#26828e"
             ],
             [
              0.5555555555555556,
              "#1f9e89"
             ],
             [
              0.6666666666666666,
              "#35b779"
             ],
             [
              0.7777777777777778,
              "#6ece58"
             ],
             [
              0.8888888888888888,
              "#b5de2b"
             ],
             [
              1,
              "#fde725"
             ]
            ],
            "type": "heatmap"
           }
          ],
          "histogram": [
           {
            "marker": {
             "line": {
              "color": "white",
              "width": 0.6
             }
            },
            "type": "histogram"
           }
          ],
          "histogram2d": [
           {
            "colorbar": {
             "outlinewidth": 1,
             "tickcolor": "rgb(36,36,36)",
             "ticks": "outside"
            },
            "colorscale": [
             [
              0,
              "#440154"
             ],
             [
              0.1111111111111111,
              "#482878"
             ],
             [
              0.2222222222222222,
              "#3e4989"
             ],
             [
              0.3333333333333333,
              "#31688e"
             ],
             [
              0.4444444444444444,
              "#26828e"
             ],
             [
              0.5555555555555556,
              "#1f9e89"
             ],
             [
              0.6666666666666666,
              "#35b779"
             ],
             [
              0.7777777777777778,
              "#6ece58"
             ],
             [
              0.8888888888888888,
              "#b5de2b"
             ],
             [
              1,
              "#fde725"
             ]
            ],
            "type": "histogram2d"
           }
          ],
          "histogram2dcontour": [
           {
            "colorbar": {
             "outlinewidth": 1,
             "tickcolor": "rgb(36,36,36)",
             "ticks": "outside"
            },
            "colorscale": [
             [
              0,
              "#440154"
             ],
             [
              0.1111111111111111,
              "#482878"
             ],
             [
              0.2222222222222222,
              "#3e4989"
             ],
             [
              0.3333333333333333,
              "#31688e"
             ],
             [
              0.4444444444444444,
              "#26828e"
             ],
             [
              0.5555555555555556,
              "#1f9e89"
             ],
             [
              0.6666666666666666,
              "#35b779"
             ],
             [
              0.7777777777777778,
              "#6ece58"
             ],
             [
              0.8888888888888888,
              "#b5de2b"
             ],
             [
              1,
              "#fde725"
             ]
            ],
            "type": "histogram2dcontour"
           }
          ],
          "mesh3d": [
           {
            "colorbar": {
             "outlinewidth": 1,
             "tickcolor": "rgb(36,36,36)",
             "ticks": "outside"
            },
            "type": "mesh3d"
           }
          ],
          "parcoords": [
           {
            "line": {
             "colorbar": {
              "outlinewidth": 1,
              "tickcolor": "rgb(36,36,36)",
              "ticks": "outside"
             }
            },
            "type": "parcoords"
           }
          ],
          "pie": [
           {
            "automargin": true,
            "type": "pie"
           }
          ],
          "scatter": [
           {
            "fillpattern": {
             "fillmode": "overlay",
             "size": 10,
             "solidity": 0.2
            },
            "type": "scatter"
           }
          ],
          "scatter3d": [
           {
            "line": {
             "colorbar": {
              "outlinewidth": 1,
              "tickcolor": "rgb(36,36,36)",
              "ticks": "outside"
             }
            },
            "marker": {
             "colorbar": {
              "outlinewidth": 1,
              "tickcolor": "rgb(36,36,36)",
              "ticks": "outside"
             }
            },
            "type": "scatter3d"
           }
          ],
          "scattercarpet": [
           {
            "marker": {
             "colorbar": {
              "outlinewidth": 1,
              "tickcolor": "rgb(36,36,36)",
              "ticks": "outside"
             }
            },
            "type": "scattercarpet"
           }
          ],
          "scattergeo": [
           {
            "marker": {
             "colorbar": {
              "outlinewidth": 1,
              "tickcolor": "rgb(36,36,36)",
              "ticks": "outside"
             }
            },
            "type": "scattergeo"
           }
          ],
          "scattergl": [
           {
            "marker": {
             "colorbar": {
              "outlinewidth": 1,
              "tickcolor": "rgb(36,36,36)",
              "ticks": "outside"
             }
            },
            "type": "scattergl"
           }
          ],
          "scattermap": [
           {
            "marker": {
             "colorbar": {
              "outlinewidth": 1,
              "tickcolor": "rgb(36,36,36)",
              "ticks": "outside"
             }
            },
            "type": "scattermap"
           }
          ],
          "scattermapbox": [
           {
            "marker": {
             "colorbar": {
              "outlinewidth": 1,
              "tickcolor": "rgb(36,36,36)",
              "ticks": "outside"
             }
            },
            "type": "scattermapbox"
           }
          ],
          "scatterpolar": [
           {
            "marker": {
             "colorbar": {
              "outlinewidth": 1,
              "tickcolor": "rgb(36,36,36)",
              "ticks": "outside"
             }
            },
            "type": "scatterpolar"
           }
          ],
          "scatterpolargl": [
           {
            "marker": {
             "colorbar": {
              "outlinewidth": 1,
              "tickcolor": "rgb(36,36,36)",
              "ticks": "outside"
             }
            },
            "type": "scatterpolargl"
           }
          ],
          "scatterternary": [
           {
            "marker": {
             "colorbar": {
              "outlinewidth": 1,
              "tickcolor": "rgb(36,36,36)",
              "ticks": "outside"
             }
            },
            "type": "scatterternary"
           }
          ],
          "surface": [
           {
            "colorbar": {
             "outlinewidth": 1,
             "tickcolor": "rgb(36,36,36)",
             "ticks": "outside"
            },
            "colorscale": [
             [
              0,
              "#440154"
             ],
             [
              0.1111111111111111,
              "#482878"
             ],
             [
              0.2222222222222222,
              "#3e4989"
             ],
             [
              0.3333333333333333,
              "#31688e"
             ],
             [
              0.4444444444444444,
              "#26828e"
             ],
             [
              0.5555555555555556,
              "#1f9e89"
             ],
             [
              0.6666666666666666,
              "#35b779"
             ],
             [
              0.7777777777777778,
              "#6ece58"
             ],
             [
              0.8888888888888888,
              "#b5de2b"
             ],
             [
              1,
              "#fde725"
             ]
            ],
            "type": "surface"
           }
          ],
          "table": [
           {
            "cells": {
             "fill": {
              "color": "rgb(237,237,237)"
             },
             "line": {
              "color": "white"
             }
            },
            "header": {
             "fill": {
              "color": "rgb(217,217,217)"
             },
             "line": {
              "color": "white"
             }
            },
            "type": "table"
           }
          ]
         },
         "layout": {
          "annotationdefaults": {
           "arrowhead": 0,
           "arrowwidth": 1
          },
          "autotypenumbers": "strict",
          "coloraxis": {
           "colorbar": {
            "outlinewidth": 1,
            "tickcolor": "rgb(36,36,36)",
            "ticks": "outside"
           }
          },
          "colorscale": {
           "diverging": [
            [
             0,
             "rgb(103,0,31)"
            ],
            [
             0.1,
             "rgb(178,24,43)"
            ],
            [
             0.2,
             "rgb(214,96,77)"
            ],
            [
             0.3,
             "rgb(244,165,130)"
            ],
            [
             0.4,
             "rgb(253,219,199)"
            ],
            [
             0.5,
             "rgb(247,247,247)"
            ],
            [
             0.6,
             "rgb(209,229,240)"
            ],
            [
             0.7,
             "rgb(146,197,222)"
            ],
            [
             0.8,
             "rgb(67,147,195)"
            ],
            [
             0.9,
             "rgb(33,102,172)"
            ],
            [
             1,
             "rgb(5,48,97)"
            ]
           ],
           "sequential": [
            [
             0,
             "#440154"
            ],
            [
             0.1111111111111111,
             "#482878"
            ],
            [
             0.2222222222222222,
             "#3e4989"
            ],
            [
             0.3333333333333333,
             "#31688e"
            ],
            [
             0.4444444444444444,
             "#26828e"
            ],
            [
             0.5555555555555556,
             "#1f9e89"
            ],
            [
             0.6666666666666666,
             "#35b779"
            ],
            [
             0.7777777777777778,
             "#6ece58"
            ],
            [
             0.8888888888888888,
             "#b5de2b"
            ],
            [
             1,
             "#fde725"
            ]
           ],
           "sequentialminus": [
            [
             0,
             "#440154"
            ],
            [
             0.1111111111111111,
             "#482878"
            ],
            [
             0.2222222222222222,
             "#3e4989"
            ],
            [
             0.3333333333333333,
             "#31688e"
            ],
            [
             0.4444444444444444,
             "#26828e"
            ],
            [
             0.5555555555555556,
             "#1f9e89"
            ],
            [
             0.6666666666666666,
             "#35b779"
            ],
            [
             0.7777777777777778,
             "#6ece58"
            ],
            [
             0.8888888888888888,
             "#b5de2b"
            ],
            [
             1,
             "#fde725"
            ]
           ]
          },
          "colorway": [
           "#1F77B4",
           "#FF7F0E",
           "#2CA02C",
           "#D62728",
           "#9467BD",
           "#8C564B",
           "#E377C2",
           "#7F7F7F",
           "#BCBD22",
           "#17BECF"
          ],
          "font": {
           "color": "rgb(36,36,36)"
          },
          "geo": {
           "bgcolor": "white",
           "lakecolor": "white",
           "landcolor": "white",
           "showlakes": true,
           "showland": true,
           "subunitcolor": "white"
          },
          "hoverlabel": {
           "align": "left"
          },
          "hovermode": "closest",
          "mapbox": {
           "style": "light"
          },
          "paper_bgcolor": "white",
          "plot_bgcolor": "white",
          "polar": {
           "angularaxis": {
            "gridcolor": "rgb(232,232,232)",
            "linecolor": "rgb(36,36,36)",
            "showgrid": false,
            "showline": true,
            "ticks": "outside"
           },
           "bgcolor": "white",
           "radialaxis": {
            "gridcolor": "rgb(232,232,232)",
            "linecolor": "rgb(36,36,36)",
            "showgrid": false,
            "showline": true,
            "ticks": "outside"
           }
          },
          "scene": {
           "xaxis": {
            "backgroundcolor": "white",
            "gridcolor": "rgb(232,232,232)",
            "gridwidth": 2,
            "linecolor": "rgb(36,36,36)",
            "showbackground": true,
            "showgrid": false,
            "showline": true,
            "ticks": "outside",
            "zeroline": false,
            "zerolinecolor": "rgb(36,36,36)"
           },
           "yaxis": {
            "backgroundcolor": "white",
            "gridcolor": "rgb(232,232,232)",
            "gridwidth": 2,
            "linecolor": "rgb(36,36,36)",
            "showbackground": true,
            "showgrid": false,
            "showline": true,
            "ticks": "outside",
            "zeroline": false,
            "zerolinecolor": "rgb(36,36,36)"
           },
           "zaxis": {
            "backgroundcolor": "white",
            "gridcolor": "rgb(232,232,232)",
            "gridwidth": 2,
            "linecolor": "rgb(36,36,36)",
            "showbackground": true,
            "showgrid": false,
            "showline": true,
            "ticks": "outside",
            "zeroline": false,
            "zerolinecolor": "rgb(36,36,36)"
           }
          },
          "shapedefaults": {
           "fillcolor": "black",
           "line": {
            "width": 0
           },
           "opacity": 0.3
          },
          "ternary": {
           "aaxis": {
            "gridcolor": "rgb(232,232,232)",
            "linecolor": "rgb(36,36,36)",
            "showgrid": false,
            "showline": true,
            "ticks": "outside"
           },
           "baxis": {
            "gridcolor": "rgb(232,232,232)",
            "linecolor": "rgb(36,36,36)",
            "showgrid": false,
            "showline": true,
            "ticks": "outside"
           },
           "bgcolor": "white",
           "caxis": {
            "gridcolor": "rgb(232,232,232)",
            "linecolor": "rgb(36,36,36)",
            "showgrid": false,
            "showline": true,
            "ticks": "outside"
           }
          },
          "title": {
           "x": 0.05
          },
          "xaxis": {
           "automargin": true,
           "gridcolor": "rgb(232,232,232)",
           "linecolor": "rgb(36,36,36)",
           "showgrid": false,
           "showline": true,
           "ticks": "outside",
           "title": {
            "standoff": 15
           },
           "zeroline": false,
           "zerolinecolor": "rgb(36,36,36)"
          },
          "yaxis": {
           "automargin": true,
           "gridcolor": "rgb(232,232,232)",
           "linecolor": "rgb(36,36,36)",
           "showgrid": false,
           "showline": true,
           "ticks": "outside",
           "title": {
            "standoff": 15
           },
           "zeroline": false,
           "zerolinecolor": "rgb(36,36,36)"
          }
         }
        },
        "title": {
         "text": "Top 5 Emojis in Comments (% of Weekly Comments)"
        },
        "xaxis": {
         "anchor": "y",
         "domain": [
          0,
          1
         ],
         "title": {
          "text": "Week"
         }
        },
        "yaxis": {
         "anchor": "x",
         "domain": [
          0,
          1
         ],
         "ticksuffix": "%",
         "title": {
          "text": "Mentions (%)"
         }
        }
       }
      }
     },
     "metadata": {},
     "output_type": "display_data"
    }
   ],
   "source": [
    "# Emoji pattern (covers most common Unicode emoji ranges)\n",
    "emoji_pattern = re.compile(\n",
    "    \"[\"  \n",
    "    \"\\U0001F600-\\U0001F64F\"  # Emoticons\n",
    "    \"\\U0001F300-\\U0001F5FF\"  # Symbols & pictographs\n",
    "    \"\\U0001F680-\\U0001F6FF\"  # Transport & map\n",
    "    \"\\U0001F1E0-\\U0001F1FF\"  # Flags\n",
    "    \"\\U00002700-\\U000027BF\"  # Dingbats\n",
    "    \"\\U0001F900-\\U0001F9FF\"  # Supplemental symbols\n",
    "    \"\\U00002600-\\U000026FF\"  # Misc symbols\n",
    "    \"]+\", flags=re.UNICODE\n",
    ")\n",
    "\n",
    "# Extract emojis from comment text\n",
    "df[\"emojis\"] = df[\"text\"].apply(lambda x: emoji_pattern.findall(str(x)))\n",
    "\n",
    "# Explode emojis to one row per emoji\n",
    "df_exploded = df.explode(\"emojis\").dropna(subset=[\"emojis\"])\n",
    "\n",
    "# Count emoji mentions per week\n",
    "emoji_weekly = (\n",
    "    df_exploded.groupby([\"week\", \"emojis\"])\n",
    "    .size()\n",
    "    .reset_index(name=\"count\")\n",
    ")\n",
    "\n",
    "# Count total comments per week\n",
    "comments_per_week = df.groupby(\"week\")[\"text\"].count().reset_index(name=\"total_comments\")\n",
    "\n",
    "# Merge and calculate relative mention percentage\n",
    "emoji_weekly = emoji_weekly.merge(comments_per_week, on=\"week\", how=\"left\")\n",
    "emoji_weekly[\"mention_percent\"] = (emoji_weekly[\"count\"] / emoji_weekly[\"total_comments\"]) * 100\n",
    "\n",
    "# Identify top 5 emojis by total percentage over all weeks\n",
    "top_emojis = (\n",
    "    emoji_weekly.groupby(\"emojis\")[\"mention_percent\"]\n",
    "    .sum()\n",
    "    .sort_values(ascending=False)\n",
    "    .head(5)\n",
    "    .index\n",
    ")\n",
    "\n",
    "# Filter to only include top 5 emojis\n",
    "emoji_weekly_top = emoji_weekly[emoji_weekly[\"emojis\"].isin(top_emojis)]\n",
    "\n",
    "# Print the top 5 emojis\n",
    "print(\"Top 5 Emojis by total percentage over all weeks:\")\n",
    "print(top_emojis)\n",
    "\n",
    "# Pivot to wide format for plotting\n",
    "df_emoji_trend = emoji_weekly_top.pivot(index=\"week\", columns=\"emojis\", values=\"mention_percent\").fillna(0)\n",
    "\n",
    "# Convert to long format for Plotly\n",
    "df_emoji_long = df_emoji_trend.reset_index().melt(\n",
    "    id_vars=\"week\", var_name=\"emoji\", value_name=\"mention_percent\"\n",
    ")\n",
    "\n",
    "# Plot with Plotly\n",
    "fig = px.line(\n",
    "    df_emoji_long,\n",
    "    x=\"week\",\n",
    "    y=\"mention_percent\",\n",
    "    color=\"emoji\",\n",
    "    markers=True,\n",
    "    title=\"Top 5 Emojis in Comments (% of Weekly Comments)\",\n",
    "    labels={\n",
    "        \"week\": \"Week\",\n",
    "        \"mention_percent\": \"Mentions (%)\",\n",
    "        \"emoji\": \"Emoji\"\n",
    "    }\n",
    ")\n",
    "\n",
    "fig.update_layout(\n",
    "    template=\"simple_white\",\n",
    "    legend_title_text=\"Emoji\",\n",
    "    yaxis=dict(ticksuffix=\"%\")\n",
    ")\n",
    "\n",
    "fig.show()\n"
   ]
  },
  {
   "cell_type": "code",
   "execution_count": 9,
   "id": "61b94717",
   "metadata": {},
   "outputs": [
    {
     "name": "stdout",
     "output_type": "stream",
     "text": [
      "Top 10 Emojis from the last 90 days:\n",
      "emojis\n",
      "❤      2830\n",
      "😭      1740\n",
      "🥰      1459\n",
      "😍       978\n",
      "😂       757\n",
      "🥰🥰🥰     574\n",
      "✨       514\n",
      "😁       466\n",
      "💗       444\n",
      "♥       435\n",
      "Name: count, dtype: int64\n"
     ]
    },
    {
     "name": "stderr",
     "output_type": "stream",
     "text": [
      "C:\\Users\\Surface\\AppData\\Local\\Temp\\ipykernel_20836\\4127360829.py:27: SettingWithCopyWarning:\n",
      "\n",
      "\n",
      "A value is trying to be set on a copy of a slice from a DataFrame.\n",
      "Try using .loc[row_indexer,col_indexer] = value instead\n",
      "\n",
      "See the caveats in the documentation: https://pandas.pydata.org/pandas-docs/stable/user_guide/indexing.html#returning-a-view-versus-a-copy\n",
      "\n"
     ]
    }
   ],
   "source": [
    "# Emoji pattern for extracting emojis from text\n",
    "emoji_pattern = re.compile(\n",
    "    \"[\"  \n",
    "    \"\\U0001F600-\\U0001F64F\"  # Emoticons\n",
    "    \"\\U0001F300-\\U0001F5FF\"  # Symbols & pictographs\n",
    "    \"\\U0001F680-\\U0001F6FF\"  # Transport & map\n",
    "    \"\\U0001F1E0-\\U0001F1FF\"  # Flags\n",
    "    \"\\U00002700-\\U000027BF\"  # Dingbats\n",
    "    \"\\U0001F900-\\U0001F9FF\"  # Supplemental symbols\n",
    "    \"\\U00002600-\\U000026FF\"  # Misc symbols\n",
    "    \"]+\", flags=re.UNICODE\n",
    ")\n",
    "\n",
    "# Function to extract emojis from text\n",
    "def extract_emojis(text):\n",
    "    return emoji_pattern.findall(str(text))\n",
    "\n",
    "# Convert timestamps to datetime format\n",
    "df['week'] = pd.to_datetime(df['week'])\n",
    "\n",
    "# Filter data to include only the last 90 days\n",
    "today = datetime.now()\n",
    "start_date = today - timedelta(days=90)\n",
    "df_last_90_days = df[df['week'] >= start_date]\n",
    "\n",
    "# Extract emojis from the comments\n",
    "df_last_90_days['emojis'] = df_last_90_days['text'].apply(extract_emojis)\n",
    "\n",
    "# Explode emojis into separate rows so each emoji gets its own row\n",
    "df_exploded = df_last_90_days.explode('emojis').dropna(subset=['emojis'])\n",
    "\n",
    "# Count the frequency of each emoji\n",
    "emoji_counts = df_exploded['emojis'].value_counts().head(10)\n",
    "\n",
    "# Output the top 10 emojis\n",
    "print(\"Top 10 Emojis from the last 90 days:\")\n",
    "print(emoji_counts)"
   ]
  },
  {
   "cell_type": "markdown",
   "id": "0ca703cb",
   "metadata": {},
   "source": [
    "Most common chunks in comments"
   ]
  },
  {
   "cell_type": "code",
   "execution_count": 10,
   "id": "348168ae",
   "metadata": {},
   "outputs": [],
   "source": [
    "#import spacy\n",
    "#from collections import Counter\n",
    "#from langdetect import detect, DetectorFactory\n",
    "#DetectorFactory.seed = 0  # For reproducibility\n",
    "#import re\n",
    "\n",
    "# Load spaCy models\n",
    "#nlp_de = spacy.load(\"de_core_news_sm\")\n",
    "#nlp_en = spacy.load(\"en_core_web_sm\")\n",
    "\n",
    "# Emoji pattern\n",
    "#emoji_pattern = re.compile(\"[\\U00010000-\\U0010ffff]\", flags=re.UNICODE)\n",
    "\n",
    "# Normalize stopwords\n",
    "#combined_stopwords = {w.lower().strip() for w in combined_stopwords}\n",
    "\n",
    "# Function to extract valid multi-word noun chunks\n",
    "#def extract_chunks(text, nlp_model):\n",
    "#    doc = nlp_model(text)\n",
    "#    chunks = []\n",
    "#    for chunk in doc.noun_chunks:\n",
    "#        chunk_text = chunk.text.lower().strip()\n",
    "#        if emoji_pattern.search(chunk_text):\n",
    "#            continue\n",
    "#        words = chunk_text.split()\n",
    "#        if len(words) < 2:\n",
    "#            continue\n",
    "#        if all(word in combined_stopwords for word in words):\n",
    "#            continue\n",
    "#        chunks.append(chunk_text)\n",
    "#    return chunks\n",
    "\n",
    "# Collect chunks\n",
    "#all_chunks = []\n",
    "\n",
    "# Analyze first 1000 comments\n",
    "#for text in df[\"text\"].dropna().head(5000):\n",
    "#    text = text.strip()\n",
    "#    if not text:\n",
    "#        continue\n",
    "#    try:\n",
    "#        lang = detect(text)\n",
    "#        if lang not in [\"en\", \"de\"]:\n",
    "#            continue  # Skip non-English and non-German comments\n",
    "#    except:\n",
    "#        continue\n",
    "#    model = nlp_de if lang == \"de\" else nlp_en\n",
    "#    chunks = extract_chunks(text, model)\n",
    "#    all_chunks.extend(chunks)\n",
    "\n",
    "# Count and display top 20\n",
    "#chunk_counter = Counter(all_chunks)\n",
    "\n",
    "#print(\"\\nTop 20 Chunks:\")\n",
    "#for chunk, count in chunk_counter.most_common(20):\n",
    "#    print(f\"{chunk}: {count}\")\n",
    "\n"
   ]
  },
  {
   "cell_type": "markdown",
   "id": "58ff961c",
   "metadata": {},
   "source": [
    "Note: chunk analysis doesn't provide significant insights compared to uni-,bi-,trigrams"
   ]
  }
 ],
 "metadata": {
  "kernelspec": {
   "display_name": "skincare-analysis-6rggZTBS-py3.10",
   "language": "python",
   "name": "python3"
  },
  "language_info": {
   "codemirror_mode": {
    "name": "ipython",
    "version": 3
   },
   "file_extension": ".py",
   "mimetype": "text/x-python",
   "name": "python",
   "nbconvert_exporter": "python",
   "pygments_lexer": "ipython3",
   "version": "3.10.0"
  }
 },
 "nbformat": 4,
 "nbformat_minor": 5
}
