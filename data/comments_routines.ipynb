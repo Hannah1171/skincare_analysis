{
 "cells": [
  {
   "cell_type": "code",
   "execution_count": 47,
   "id": "71d6d9f6",
   "metadata": {},
   "outputs": [
    {
     "name": "stderr",
     "output_type": "stream",
     "text": [
      "C:\\Users\\Surface\\AppData\\Local\\Temp\\ipykernel_13756\\2911404079.py:11: DtypeWarning:\n",
      "\n",
      "Columns (12,34) have mixed types. Specify dtype option on import or set low_memory=False.\n",
      "\n"
     ]
    }
   ],
   "source": [
    "# Import libraries\n",
    "import pandas as pd\n",
    "import spacy\n",
    "from spacy.matcher import PhraseMatcher\n",
    "from collections import Counter\n",
    "from itertools import chain\n",
    "import plotly.graph_objects as go\n",
    "from tqdm import tqdm\n",
    "\n",
    "# Load csv file with comments\n",
    "df = pd.read_csv(\"../data/comments_post.csv\")\n",
    "comments = df['text_comment'].dropna().tolist()\n",
    "\n",
    "#SAMPLE_SIZE = 500  # Speed up for test\n",
    "#comments = comments[:SAMPLE_SIZE]"
   ]
  },
  {
   "cell_type": "markdown",
   "id": "4361512b",
   "metadata": {},
   "source": [
    "Define product and ingredient synonyms"
   ]
  },
  {
   "cell_type": "code",
   "execution_count": 48,
   "id": "5c80a3a4",
   "metadata": {},
   "outputs": [],
   "source": [
    "# Ingredient synonym groups (EN/DE) mapped to unified names\n",
    "ingredient_map = {\n",
    "    \"hyaluronic acid\": [\"hyaluronic acid\", \"hyaluronsäure\"],\n",
    "    \"glycerin\": [\"glycerin\"],\n",
    "    \"panthenol\": [\"panthenol\"],\n",
    "    \"squalane\": [\"squalane\", \"squalan\"],\n",
    "    \"aloe vera\": [\"aloe vera\"],\n",
    "    \"niacinamide\": [\"niacinamide\", \"niacinamid\"],\n",
    "    \"vitamin c\": [\"vitamin c\"],\n",
    "    \"alpha arbutin\": [\"alpha arbutin\", \"alpha-arbutin\"],\n",
    "    \"licorice root\": [\"licorice root\", \"lakritzextrakt\"],\n",
    "    \"kojic acid\": [\"kojic acid\", \"kojicsäure\"],\n",
    "    \"retinol\": [\"retinol\"],\n",
    "    \"peptides\": [\"peptides\", \"peptide\"],\n",
    "    \"bakuchiol\": [\"bakuchiol\"],\n",
    "    \"coenzyme q10\": [\"coenzyme q10\", \"coenzym q10\"],\n",
    "    \"ceramides\": [\"ceramides\", \"ceramide\"],\n",
    "    \"salicylic acid\": [\"salicylic acid\", \"salicylsäure\"],\n",
    "    \"glycolic acid\": [\"glycolic acid\", \"glycolsäure\"],\n",
    "    \"lactic acid\": [\"lactic acid\", \"milchsäure\"],\n",
    "    \"pha\": [\"pha\"],\n",
    "    \"benzoyl peroxide\": [\"benzoyl peroxide\", \"benzoylperoxid\"],\n",
    "    \"centella asiatica\": [\"centella asiatica\", \"tigergras\"],\n",
    "    \"green tea\": [\"green tea\", \"grüner tee\"],\n",
    "    \"allantoin\": [\"allantoin\"],\n",
    "    \"calendula\": [\"calendula\", \"ringelblume\"],\n",
    "    \"chamomile\": [\"chamomile\", \"kamille\"]\n",
    "}\n",
    "\n",
    "# Product synonym groups (EN/DE) mapped to unified names\n",
    "product_map = {\n",
    "    \"cleanser\": [\"cleanser\", \"reiniger\", \"gesichtsreinigung\", \"face wash\"],\n",
    "    \"toner\": [\"toner\", \"gesichtswasser\"],\n",
    "    \"serum\": [\"serum\"],\n",
    "    \"essence\": [\"essence\", \"essenz\"],\n",
    "    \"moisturizer\": [\"moisturizer\", \"feuchtigkeitscreme\"],\n",
    "    \"sunscreen\": [\"sunscreen\", \"sonnencreme\"],\n",
    "    \"eye cream\": [\"eye cream\", \"augencreme\"],\n",
    "    \"exfoliator\": [\"exfoliator\", \"peeling\"],\n",
    "    \"spot treatment\": [\"spot treatment\", \"punktbehandlung\"],\n",
    "    \"micellar water\": [\"micellar water\", \"mizellenwasser\"],\n",
    "    \"night cream\": [\"night cream\", \"nachtcreme\"],\n",
    "    \"face oil\": [\"face oil\", \"gesichtsöl\"],\n",
    "    \"mask\": [\"mask\", \"maske\"]\n",
    "}"
   ]
  },
  {
   "cell_type": "code",
   "execution_count": 49,
   "id": "528ea503",
   "metadata": {},
   "outputs": [
    {
     "name": "stderr",
     "output_type": "stream",
     "text": [
      "100%|██████████| 54237/54237 [00:17<00:00, 3097.69it/s]\n"
     ]
    },
    {
     "data": {
      "application/vnd.microsoft.datawrangler.viewer.v0+json": {
       "columns": [
        {
         "name": "index",
         "rawType": "int64",
         "type": "integer"
        },
        {
         "name": "Item",
         "rawType": "object",
         "type": "string"
        },
        {
         "name": "Frequency",
         "rawType": "int64",
         "type": "integer"
        }
       ],
       "conversionMethod": "pd.DataFrame",
       "ref": "18f0711c-5742-4892-aed6-fbaaca179ebb",
       "rows": [
        [
         "0",
         "cleanser",
         "1151"
        ],
        [
         "1",
         "serum",
         "980"
        ],
        [
         "2",
         "toner",
         "943"
        ],
        [
         "3",
         "moisturizer",
         "626"
        ],
        [
         "4",
         "sunscreen",
         "594"
        ],
        [
         "5",
         "mask",
         "579"
        ],
        [
         "6",
         "vitamin c",
         "379"
        ],
        [
         "7",
         "retinol",
         "321"
        ],
        [
         "8",
         "exfoliator",
         "152"
        ],
        [
         "9",
         "niacinamide",
         "140"
        ],
        [
         "10",
         "eye cream",
         "126"
        ],
        [
         "11",
         "essence",
         "106"
        ],
        [
         "12",
         "micellar water",
         "97"
        ],
        [
         "13",
         "salicylic acid",
         "82"
        ],
        [
         "14",
         "hyaluronic acid",
         "73"
        ],
        [
         "15",
         "aloe vera",
         "67"
        ],
        [
         "16",
         "glycolic acid",
         "42"
        ],
        [
         "17",
         "peptides",
         "41"
        ],
        [
         "18",
         "spot treatment",
         "28"
        ],
        [
         "19",
         "panthenol",
         "21"
        ],
        [
         "20",
         "ceramides",
         "20"
        ],
        [
         "21",
         "benzoyl peroxide",
         "20"
        ],
        [
         "22",
         "night cream",
         "16"
        ],
        [
         "23",
         "glycerin",
         "13"
        ],
        [
         "24",
         "bakuchiol",
         "10"
        ],
        [
         "25",
         "green tea",
         "8"
        ],
        [
         "26",
         "squalane",
         "8"
        ],
        [
         "27",
         "kojic acid",
         "8"
        ],
        [
         "28",
         "face oil",
         "7"
        ],
        [
         "29",
         "pha",
         "6"
        ]
       ],
       "shape": {
        "columns": 2,
        "rows": 30
       }
      },
      "text/html": [
       "<div>\n",
       "<style scoped>\n",
       "    .dataframe tbody tr th:only-of-type {\n",
       "        vertical-align: middle;\n",
       "    }\n",
       "\n",
       "    .dataframe tbody tr th {\n",
       "        vertical-align: top;\n",
       "    }\n",
       "\n",
       "    .dataframe thead th {\n",
       "        text-align: right;\n",
       "    }\n",
       "</style>\n",
       "<table border=\"1\" class=\"dataframe\">\n",
       "  <thead>\n",
       "    <tr style=\"text-align: right;\">\n",
       "      <th></th>\n",
       "      <th>Item</th>\n",
       "      <th>Frequency</th>\n",
       "    </tr>\n",
       "  </thead>\n",
       "  <tbody>\n",
       "    <tr>\n",
       "      <th>0</th>\n",
       "      <td>cleanser</td>\n",
       "      <td>1151</td>\n",
       "    </tr>\n",
       "    <tr>\n",
       "      <th>1</th>\n",
       "      <td>serum</td>\n",
       "      <td>980</td>\n",
       "    </tr>\n",
       "    <tr>\n",
       "      <th>2</th>\n",
       "      <td>toner</td>\n",
       "      <td>943</td>\n",
       "    </tr>\n",
       "    <tr>\n",
       "      <th>3</th>\n",
       "      <td>moisturizer</td>\n",
       "      <td>626</td>\n",
       "    </tr>\n",
       "    <tr>\n",
       "      <th>4</th>\n",
       "      <td>sunscreen</td>\n",
       "      <td>594</td>\n",
       "    </tr>\n",
       "    <tr>\n",
       "      <th>5</th>\n",
       "      <td>mask</td>\n",
       "      <td>579</td>\n",
       "    </tr>\n",
       "    <tr>\n",
       "      <th>6</th>\n",
       "      <td>vitamin c</td>\n",
       "      <td>379</td>\n",
       "    </tr>\n",
       "    <tr>\n",
       "      <th>7</th>\n",
       "      <td>retinol</td>\n",
       "      <td>321</td>\n",
       "    </tr>\n",
       "    <tr>\n",
       "      <th>8</th>\n",
       "      <td>exfoliator</td>\n",
       "      <td>152</td>\n",
       "    </tr>\n",
       "    <tr>\n",
       "      <th>9</th>\n",
       "      <td>niacinamide</td>\n",
       "      <td>140</td>\n",
       "    </tr>\n",
       "    <tr>\n",
       "      <th>10</th>\n",
       "      <td>eye cream</td>\n",
       "      <td>126</td>\n",
       "    </tr>\n",
       "    <tr>\n",
       "      <th>11</th>\n",
       "      <td>essence</td>\n",
       "      <td>106</td>\n",
       "    </tr>\n",
       "    <tr>\n",
       "      <th>12</th>\n",
       "      <td>micellar water</td>\n",
       "      <td>97</td>\n",
       "    </tr>\n",
       "    <tr>\n",
       "      <th>13</th>\n",
       "      <td>salicylic acid</td>\n",
       "      <td>82</td>\n",
       "    </tr>\n",
       "    <tr>\n",
       "      <th>14</th>\n",
       "      <td>hyaluronic acid</td>\n",
       "      <td>73</td>\n",
       "    </tr>\n",
       "    <tr>\n",
       "      <th>15</th>\n",
       "      <td>aloe vera</td>\n",
       "      <td>67</td>\n",
       "    </tr>\n",
       "    <tr>\n",
       "      <th>16</th>\n",
       "      <td>glycolic acid</td>\n",
       "      <td>42</td>\n",
       "    </tr>\n",
       "    <tr>\n",
       "      <th>17</th>\n",
       "      <td>peptides</td>\n",
       "      <td>41</td>\n",
       "    </tr>\n",
       "    <tr>\n",
       "      <th>18</th>\n",
       "      <td>spot treatment</td>\n",
       "      <td>28</td>\n",
       "    </tr>\n",
       "    <tr>\n",
       "      <th>19</th>\n",
       "      <td>panthenol</td>\n",
       "      <td>21</td>\n",
       "    </tr>\n",
       "    <tr>\n",
       "      <th>20</th>\n",
       "      <td>ceramides</td>\n",
       "      <td>20</td>\n",
       "    </tr>\n",
       "    <tr>\n",
       "      <th>21</th>\n",
       "      <td>benzoyl peroxide</td>\n",
       "      <td>20</td>\n",
       "    </tr>\n",
       "    <tr>\n",
       "      <th>22</th>\n",
       "      <td>night cream</td>\n",
       "      <td>16</td>\n",
       "    </tr>\n",
       "    <tr>\n",
       "      <th>23</th>\n",
       "      <td>glycerin</td>\n",
       "      <td>13</td>\n",
       "    </tr>\n",
       "    <tr>\n",
       "      <th>24</th>\n",
       "      <td>bakuchiol</td>\n",
       "      <td>10</td>\n",
       "    </tr>\n",
       "    <tr>\n",
       "      <th>25</th>\n",
       "      <td>green tea</td>\n",
       "      <td>8</td>\n",
       "    </tr>\n",
       "    <tr>\n",
       "      <th>26</th>\n",
       "      <td>squalane</td>\n",
       "      <td>8</td>\n",
       "    </tr>\n",
       "    <tr>\n",
       "      <th>27</th>\n",
       "      <td>kojic acid</td>\n",
       "      <td>8</td>\n",
       "    </tr>\n",
       "    <tr>\n",
       "      <th>28</th>\n",
       "      <td>face oil</td>\n",
       "      <td>7</td>\n",
       "    </tr>\n",
       "    <tr>\n",
       "      <th>29</th>\n",
       "      <td>pha</td>\n",
       "      <td>6</td>\n",
       "    </tr>\n",
       "  </tbody>\n",
       "</table>\n",
       "</div>"
      ],
      "text/plain": [
       "                Item  Frequency\n",
       "0           cleanser       1151\n",
       "1              serum        980\n",
       "2              toner        943\n",
       "3        moisturizer        626\n",
       "4          sunscreen        594\n",
       "5               mask        579\n",
       "6          vitamin c        379\n",
       "7            retinol        321\n",
       "8         exfoliator        152\n",
       "9        niacinamide        140\n",
       "10         eye cream        126\n",
       "11           essence        106\n",
       "12    micellar water         97\n",
       "13    salicylic acid         82\n",
       "14   hyaluronic acid         73\n",
       "15         aloe vera         67\n",
       "16     glycolic acid         42\n",
       "17          peptides         41\n",
       "18    spot treatment         28\n",
       "19         panthenol         21\n",
       "20         ceramides         20\n",
       "21  benzoyl peroxide         20\n",
       "22       night cream         16\n",
       "23          glycerin         13\n",
       "24         bakuchiol         10\n",
       "25         green tea          8\n",
       "26          squalane          8\n",
       "27        kojic acid          8\n",
       "28          face oil          7\n",
       "29               pha          6"
      ]
     },
     "execution_count": 49,
     "metadata": {},
     "output_type": "execute_result"
    }
   ],
   "source": [
    "# build a list of all terms for matching\n",
    "all_ingredient_terms = [term for group in ingredient_map.values() for term in group]\n",
    "all_product_terms = [term for group in product_map.values() for term in group]\n",
    "all_keywords = list(set(all_ingredient_terms + all_product_terms))\n",
    "\n",
    "nlp = spacy.blank(\"xx\")  # multilingual pipeline\n",
    "matcher = PhraseMatcher(nlp.vocab, attr=\"LOWER\")\n",
    "patterns = [nlp.make_doc(term) for term in all_keywords]\n",
    "matcher.add(\"SKINCARE\", patterns)\n",
    "\n",
    "# Normalize Matched Terms to Unified Names\n",
    "def normalize_term(term):\n",
    "    term_lower = term.lower()\n",
    "    for name, synonyms in {**ingredient_map, **product_map}.items():\n",
    "        if term_lower in synonyms:\n",
    "            return name\n",
    "    return term_lower\n",
    "\n",
    "# process all comments in batch (pipe)\n",
    "results = []\n",
    "\n",
    "for doc in tqdm(nlp.pipe(comments, batch_size=50), total=len(comments)):\n",
    "    matches = matcher(doc)\n",
    "    matched = [doc[start:end].text for _, start, end in matches]\n",
    "    normalized = [normalize_term(t) for t in matched]\n",
    "\n",
    "    sequence = [token.text for token in doc if token.text.lower() in all_keywords]\n",
    "    normalized_sequence = [normalize_term(t) for t in sequence]\n",
    "\n",
    "    results.append({\n",
    "        \"normalized_items\": normalized,\n",
    "        \"routine_sequence\": normalized_sequence\n",
    "    })\n",
    "\n",
    "results_df = pd.DataFrame(results)\n",
    "\n",
    "# Frequency analysis\n",
    "all_normalized = list(chain.from_iterable(results_df['normalized_items']))\n",
    "freq = Counter(all_normalized)\n",
    "top_items_df = pd.DataFrame(freq.most_common(30), columns=['Item', 'Frequency'])\n",
    "top_items_df.head(30)"
   ]
  },
  {
   "cell_type": "markdown",
   "id": "dd315536",
   "metadata": {},
   "source": [
    "Sankey diagramm (common routines)"
   ]
  },
  {
   "cell_type": "code",
   "execution_count": 50,
   "id": "d67e323d",
   "metadata": {},
   "outputs": [
    {
     "data": {
      "application/vnd.plotly.v1+json": {
       "config": {
        "plotlyServerURL": "https://plot.ly"
       },
       "data": [
        {
         "link": {
          "source": [
           6,
           22,
           18,
           5,
           4,
           15,
           12,
           6,
           19,
           5,
           5,
           15,
           13,
           14,
           13,
           22,
           7,
           5,
           22,
           11,
           6,
           18,
           5,
           22,
           4,
           5,
           24,
           13,
           22,
           4,
           22,
           4,
           5,
           4,
           22,
           22,
           2,
           20,
           18,
           21,
           14,
           20,
           24,
           23,
           24,
           18,
           5,
           4,
           24,
           24,
           24,
           5,
           13,
           6,
           24,
           4,
           13,
           5,
           20,
           7,
           2,
           18,
           23,
           2,
           0,
           10,
           16,
           16,
           15,
           24,
           7,
           4,
           24,
           12,
           4,
           13,
           18,
           23,
           7,
           4,
           12,
           12,
           5,
           18,
           5,
           23,
           1,
           2,
           6,
           20,
           12,
           6,
           8,
           23,
           4,
           24,
           13,
           18,
           13,
           18,
           11,
           5,
           23,
           2,
           1,
           6,
           19,
           19,
           24,
           9,
           20,
           22,
           20,
           22,
           4,
           18,
           7,
           22,
           7,
           3,
           23,
           10,
           1,
           2,
           0,
           12,
           24,
           20,
           2,
           2,
           10,
           4,
           20,
           5,
           0,
           5,
           11
          ],
          "target": [
           6,
           18,
           6,
           4,
           18,
           22,
           20,
           4,
           22,
           5,
           15,
           4,
           15,
           5,
           6,
           6,
           5,
           22,
           5,
           11,
           18,
           23,
           18,
           4,
           6,
           24,
           13,
           4,
           24,
           5,
           22,
           4,
           6,
           23,
           3,
           2,
           22,
           5,
           5,
           0,
           2,
           4,
           23,
           2,
           6,
           22,
           14,
           24,
           18,
           24,
           5,
           13,
           22,
           23,
           4,
           13,
           18,
           2,
           24,
           6,
           4,
           18,
           5,
           23,
           1,
           24,
           24,
           4,
           15,
           15,
           4,
           20,
           22,
           24,
           19,
           5,
           24,
           18,
           20,
           7,
           4,
           12,
           23,
           4,
           20,
           23,
           18,
           24,
           22,
           15,
           22,
           24,
           4,
           6,
           22,
           20,
           24,
           2,
           13,
           20,
           20,
           16,
           22,
           5,
           1,
           5,
           19,
           18,
           2,
           2,
           20,
           15,
           23,
           23,
           10,
           7,
           18,
           20,
           7,
           4,
           4,
           3,
           5,
           20,
           4,
           17,
           17,
           18,
           2,
           14,
           10,
           2,
           7,
           1,
           22,
           11,
           24
          ],
          "value": [
           26,
           52,
           68,
           74,
           49,
           1,
           1,
           5,
           4,
           44,
           2,
           7,
           1,
           1,
           2,
           17,
           1,
           16,
           63,
           1,
           23,
           4,
           28,
           18,
           13,
           4,
           1,
           10,
           4,
           20,
           80,
           51,
           10,
           6,
           1,
           5,
           12,
           6,
           7,
           1,
           1,
           27,
           1,
           1,
           2,
           2,
           1,
           15,
           6,
           12,
           2,
           12,
           5,
           4,
           23,
           6,
           3,
           14,
           4,
           1,
           6,
           15,
           4,
           3,
           1,
           1,
           1,
           5,
           1,
           1,
           11,
           10,
           2,
           1,
           1,
           7,
           4,
           5,
           1,
           1,
           1,
           1,
           3,
           5,
           2,
           8,
           1,
           2,
           5,
           1,
           1,
           2,
           1,
           1,
           8,
           6,
           1,
           2,
           5,
           2,
           1,
           1,
           2,
           10,
           2,
           5,
           1,
           1,
           1,
           1,
           4,
           1,
           1,
           2,
           1,
           2,
           1,
           2,
           2,
           1,
           2,
           1,
           1,
           1,
           2,
           1,
           1,
           1,
           3,
           1,
           1,
           2,
           1,
           1,
           1,
           1,
           1
          ]
         },
         "node": {
          "label": [
           "glycerin",
           "panthenol",
           "exfoliator",
           "eye cream",
           "serum",
           "toner",
           "sunscreen",
           "peptides",
           "face oil",
           "micellar water",
           "night cream",
           "hyaluronic acid",
           "salicylic acid",
           "essence",
           "pha",
           "ceramides",
           "bakuchiol",
           "benzoyl peroxide",
           "moisturizer",
           "squalane",
           "niacinamide",
           "chamomile",
           "cleanser",
           "mask",
           "retinol"
          ],
          "line": {
           "color": "gray",
           "width": 0.5
          },
          "pad": 15,
          "thickness": 20
         },
         "type": "sankey"
        }
       ],
       "layout": {
        "font": {
         "size": 12
        },
        "template": {
         "data": {
          "bar": [
           {
            "error_x": {
             "color": "#2a3f5f"
            },
            "error_y": {
             "color": "#2a3f5f"
            },
            "marker": {
             "line": {
              "color": "#E5ECF6",
              "width": 0.5
             },
             "pattern": {
              "fillmode": "overlay",
              "size": 10,
              "solidity": 0.2
             }
            },
            "type": "bar"
           }
          ],
          "barpolar": [
           {
            "marker": {
             "line": {
              "color": "#E5ECF6",
              "width": 0.5
             },
             "pattern": {
              "fillmode": "overlay",
              "size": 10,
              "solidity": 0.2
             }
            },
            "type": "barpolar"
           }
          ],
          "carpet": [
           {
            "aaxis": {
             "endlinecolor": "#2a3f5f",
             "gridcolor": "white",
             "linecolor": "white",
             "minorgridcolor": "white",
             "startlinecolor": "#2a3f5f"
            },
            "baxis": {
             "endlinecolor": "#2a3f5f",
             "gridcolor": "white",
             "linecolor": "white",
             "minorgridcolor": "white",
             "startlinecolor": "#2a3f5f"
            },
            "type": "carpet"
           }
          ],
          "choropleth": [
           {
            "colorbar": {
             "outlinewidth": 0,
             "ticks": ""
            },
            "type": "choropleth"
           }
          ],
          "contour": [
           {
            "colorbar": {
             "outlinewidth": 0,
             "ticks": ""
            },
            "colorscale": [
             [
              0,
              "#0d0887"
             ],
             [
              0.1111111111111111,
              "#46039f"
             ],
             [
              0.2222222222222222,
              "#7201a8"
             ],
             [
              0.3333333333333333,
              "#9c179e"
             ],
             [
              0.4444444444444444,
              "#bd3786"
             ],
             [
              0.5555555555555556,
              "#d8576b"
             ],
             [
              0.6666666666666666,
              "#ed7953"
             ],
             [
              0.7777777777777778,
              "#fb9f3a"
             ],
             [
              0.8888888888888888,
              "#fdca26"
             ],
             [
              1,
              "#f0f921"
             ]
            ],
            "type": "contour"
           }
          ],
          "contourcarpet": [
           {
            "colorbar": {
             "outlinewidth": 0,
             "ticks": ""
            },
            "type": "contourcarpet"
           }
          ],
          "heatmap": [
           {
            "colorbar": {
             "outlinewidth": 0,
             "ticks": ""
            },
            "colorscale": [
             [
              0,
              "#0d0887"
             ],
             [
              0.1111111111111111,
              "#46039f"
             ],
             [
              0.2222222222222222,
              "#7201a8"
             ],
             [
              0.3333333333333333,
              "#9c179e"
             ],
             [
              0.4444444444444444,
              "#bd3786"
             ],
             [
              0.5555555555555556,
              "#d8576b"
             ],
             [
              0.6666666666666666,
              "#ed7953"
             ],
             [
              0.7777777777777778,
              "#fb9f3a"
             ],
             [
              0.8888888888888888,
              "#fdca26"
             ],
             [
              1,
              "#f0f921"
             ]
            ],
            "type": "heatmap"
           }
          ],
          "histogram": [
           {
            "marker": {
             "pattern": {
              "fillmode": "overlay",
              "size": 10,
              "solidity": 0.2
             }
            },
            "type": "histogram"
           }
          ],
          "histogram2d": [
           {
            "colorbar": {
             "outlinewidth": 0,
             "ticks": ""
            },
            "colorscale": [
             [
              0,
              "#0d0887"
             ],
             [
              0.1111111111111111,
              "#46039f"
             ],
             [
              0.2222222222222222,
              "#7201a8"
             ],
             [
              0.3333333333333333,
              "#9c179e"
             ],
             [
              0.4444444444444444,
              "#bd3786"
             ],
             [
              0.5555555555555556,
              "#d8576b"
             ],
             [
              0.6666666666666666,
              "#ed7953"
             ],
             [
              0.7777777777777778,
              "#fb9f3a"
             ],
             [
              0.8888888888888888,
              "#fdca26"
             ],
             [
              1,
              "#f0f921"
             ]
            ],
            "type": "histogram2d"
           }
          ],
          "histogram2dcontour": [
           {
            "colorbar": {
             "outlinewidth": 0,
             "ticks": ""
            },
            "colorscale": [
             [
              0,
              "#0d0887"
             ],
             [
              0.1111111111111111,
              "#46039f"
             ],
             [
              0.2222222222222222,
              "#7201a8"
             ],
             [
              0.3333333333333333,
              "#9c179e"
             ],
             [
              0.4444444444444444,
              "#bd3786"
             ],
             [
              0.5555555555555556,
              "#d8576b"
             ],
             [
              0.6666666666666666,
              "#ed7953"
             ],
             [
              0.7777777777777778,
              "#fb9f3a"
             ],
             [
              0.8888888888888888,
              "#fdca26"
             ],
             [
              1,
              "#f0f921"
             ]
            ],
            "type": "histogram2dcontour"
           }
          ],
          "mesh3d": [
           {
            "colorbar": {
             "outlinewidth": 0,
             "ticks": ""
            },
            "type": "mesh3d"
           }
          ],
          "parcoords": [
           {
            "line": {
             "colorbar": {
              "outlinewidth": 0,
              "ticks": ""
             }
            },
            "type": "parcoords"
           }
          ],
          "pie": [
           {
            "automargin": true,
            "type": "pie"
           }
          ],
          "scatter": [
           {
            "fillpattern": {
             "fillmode": "overlay",
             "size": 10,
             "solidity": 0.2
            },
            "type": "scatter"
           }
          ],
          "scatter3d": [
           {
            "line": {
             "colorbar": {
              "outlinewidth": 0,
              "ticks": ""
             }
            },
            "marker": {
             "colorbar": {
              "outlinewidth": 0,
              "ticks": ""
             }
            },
            "type": "scatter3d"
           }
          ],
          "scattercarpet": [
           {
            "marker": {
             "colorbar": {
              "outlinewidth": 0,
              "ticks": ""
             }
            },
            "type": "scattercarpet"
           }
          ],
          "scattergeo": [
           {
            "marker": {
             "colorbar": {
              "outlinewidth": 0,
              "ticks": ""
             }
            },
            "type": "scattergeo"
           }
          ],
          "scattergl": [
           {
            "marker": {
             "colorbar": {
              "outlinewidth": 0,
              "ticks": ""
             }
            },
            "type": "scattergl"
           }
          ],
          "scattermap": [
           {
            "marker": {
             "colorbar": {
              "outlinewidth": 0,
              "ticks": ""
             }
            },
            "type": "scattermap"
           }
          ],
          "scattermapbox": [
           {
            "marker": {
             "colorbar": {
              "outlinewidth": 0,
              "ticks": ""
             }
            },
            "type": "scattermapbox"
           }
          ],
          "scatterpolar": [
           {
            "marker": {
             "colorbar": {
              "outlinewidth": 0,
              "ticks": ""
             }
            },
            "type": "scatterpolar"
           }
          ],
          "scatterpolargl": [
           {
            "marker": {
             "colorbar": {
              "outlinewidth": 0,
              "ticks": ""
             }
            },
            "type": "scatterpolargl"
           }
          ],
          "scatterternary": [
           {
            "marker": {
             "colorbar": {
              "outlinewidth": 0,
              "ticks": ""
             }
            },
            "type": "scatterternary"
           }
          ],
          "surface": [
           {
            "colorbar": {
             "outlinewidth": 0,
             "ticks": ""
            },
            "colorscale": [
             [
              0,
              "#0d0887"
             ],
             [
              0.1111111111111111,
              "#46039f"
             ],
             [
              0.2222222222222222,
              "#7201a8"
             ],
             [
              0.3333333333333333,
              "#9c179e"
             ],
             [
              0.4444444444444444,
              "#bd3786"
             ],
             [
              0.5555555555555556,
              "#d8576b"
             ],
             [
              0.6666666666666666,
              "#ed7953"
             ],
             [
              0.7777777777777778,
              "#fb9f3a"
             ],
             [
              0.8888888888888888,
              "#fdca26"
             ],
             [
              1,
              "#f0f921"
             ]
            ],
            "type": "surface"
           }
          ],
          "table": [
           {
            "cells": {
             "fill": {
              "color": "#EBF0F8"
             },
             "line": {
              "color": "white"
             }
            },
            "header": {
             "fill": {
              "color": "#C8D4E3"
             },
             "line": {
              "color": "white"
             }
            },
            "type": "table"
           }
          ]
         },
         "layout": {
          "annotationdefaults": {
           "arrowcolor": "#2a3f5f",
           "arrowhead": 0,
           "arrowwidth": 1
          },
          "autotypenumbers": "strict",
          "coloraxis": {
           "colorbar": {
            "outlinewidth": 0,
            "ticks": ""
           }
          },
          "colorscale": {
           "diverging": [
            [
             0,
             "#8e0152"
            ],
            [
             0.1,
             "#c51b7d"
            ],
            [
             0.2,
             "#de77ae"
            ],
            [
             0.3,
             "#f1b6da"
            ],
            [
             0.4,
             "#fde0ef"
            ],
            [
             0.5,
             "#f7f7f7"
            ],
            [
             0.6,
             "#e6f5d0"
            ],
            [
             0.7,
             "#b8e186"
            ],
            [
             0.8,
             "#7fbc41"
            ],
            [
             0.9,
             "#4d9221"
            ],
            [
             1,
             "#276419"
            ]
           ],
           "sequential": [
            [
             0,
             "#0d0887"
            ],
            [
             0.1111111111111111,
             "#46039f"
            ],
            [
             0.2222222222222222,
             "#7201a8"
            ],
            [
             0.3333333333333333,
             "#9c179e"
            ],
            [
             0.4444444444444444,
             "#bd3786"
            ],
            [
             0.5555555555555556,
             "#d8576b"
            ],
            [
             0.6666666666666666,
             "#ed7953"
            ],
            [
             0.7777777777777778,
             "#fb9f3a"
            ],
            [
             0.8888888888888888,
             "#fdca26"
            ],
            [
             1,
             "#f0f921"
            ]
           ],
           "sequentialminus": [
            [
             0,
             "#0d0887"
            ],
            [
             0.1111111111111111,
             "#46039f"
            ],
            [
             0.2222222222222222,
             "#7201a8"
            ],
            [
             0.3333333333333333,
             "#9c179e"
            ],
            [
             0.4444444444444444,
             "#bd3786"
            ],
            [
             0.5555555555555556,
             "#d8576b"
            ],
            [
             0.6666666666666666,
             "#ed7953"
            ],
            [
             0.7777777777777778,
             "#fb9f3a"
            ],
            [
             0.8888888888888888,
             "#fdca26"
            ],
            [
             1,
             "#f0f921"
            ]
           ]
          },
          "colorway": [
           "#636efa",
           "#EF553B",
           "#00cc96",
           "#ab63fa",
           "#FFA15A",
           "#19d3f3",
           "#FF6692",
           "#B6E880",
           "#FF97FF",
           "#FECB52"
          ],
          "font": {
           "color": "#2a3f5f"
          },
          "geo": {
           "bgcolor": "white",
           "lakecolor": "white",
           "landcolor": "#E5ECF6",
           "showlakes": true,
           "showland": true,
           "subunitcolor": "white"
          },
          "hoverlabel": {
           "align": "left"
          },
          "hovermode": "closest",
          "mapbox": {
           "style": "light"
          },
          "paper_bgcolor": "white",
          "plot_bgcolor": "#E5ECF6",
          "polar": {
           "angularaxis": {
            "gridcolor": "white",
            "linecolor": "white",
            "ticks": ""
           },
           "bgcolor": "#E5ECF6",
           "radialaxis": {
            "gridcolor": "white",
            "linecolor": "white",
            "ticks": ""
           }
          },
          "scene": {
           "xaxis": {
            "backgroundcolor": "#E5ECF6",
            "gridcolor": "white",
            "gridwidth": 2,
            "linecolor": "white",
            "showbackground": true,
            "ticks": "",
            "zerolinecolor": "white"
           },
           "yaxis": {
            "backgroundcolor": "#E5ECF6",
            "gridcolor": "white",
            "gridwidth": 2,
            "linecolor": "white",
            "showbackground": true,
            "ticks": "",
            "zerolinecolor": "white"
           },
           "zaxis": {
            "backgroundcolor": "#E5ECF6",
            "gridcolor": "white",
            "gridwidth": 2,
            "linecolor": "white",
            "showbackground": true,
            "ticks": "",
            "zerolinecolor": "white"
           }
          },
          "shapedefaults": {
           "line": {
            "color": "#2a3f5f"
           }
          },
          "ternary": {
           "aaxis": {
            "gridcolor": "white",
            "linecolor": "white",
            "ticks": ""
           },
           "baxis": {
            "gridcolor": "white",
            "linecolor": "white",
            "ticks": ""
           },
           "bgcolor": "#E5ECF6",
           "caxis": {
            "gridcolor": "white",
            "linecolor": "white",
            "ticks": ""
           }
          },
          "title": {
           "x": 0.05
          },
          "xaxis": {
           "automargin": true,
           "gridcolor": "white",
           "linecolor": "white",
           "ticks": "",
           "title": {
            "standoff": 15
           },
           "zerolinecolor": "white",
           "zerolinewidth": 2
          },
          "yaxis": {
           "automargin": true,
           "gridcolor": "white",
           "linecolor": "white",
           "ticks": "",
           "title": {
            "standoff": 15
           },
           "zerolinecolor": "white",
           "zerolinewidth": 2
          }
         }
        },
        "title": {
         "text": "Skincare Routine Flow (All Comments)"
        }
       }
      }
     },
     "metadata": {},
     "output_type": "display_data"
    }
   ],
   "source": [
    "# Extract 2-step transitions\n",
    "routine_sequences = results_df['routine_sequence'].dropna().tolist()\n",
    "routine_sequences = [tuple(seq) for seq in routine_sequences if len(seq) > 1]\n",
    "\n",
    "edges = []\n",
    "for routine in routine_sequences:\n",
    "    for i in range(len(routine) - 1):\n",
    "        edges.append((routine[i], routine[i + 1]))\n",
    "\n",
    "edge_counts = Counter(edges)\n",
    "\n",
    "# Sankey input\n",
    "labels = list(set([e[0] for e in edge_counts] + [e[1] for e in edge_counts]))\n",
    "label_to_index = {label: i for i, label in enumerate(labels)}\n",
    "source_indices = [label_to_index[src] for (src, tgt) in edge_counts]\n",
    "target_indices = [label_to_index[tgt] for (src, tgt) in edge_counts]\n",
    "values = list(edge_counts.values())\n",
    "\n",
    "# Plot Sankey\n",
    "fig = go.Figure(data=[go.Sankey(\n",
    "    node=dict(pad=15, thickness=20, line=dict(color=\"gray\", width=0.5), label=labels),\n",
    "    link=dict(source=source_indices, target=target_indices, value=values)\n",
    ")])\n",
    "fig.update_layout(title_text=\"Skincare Routine Flow (All Comments)\", font_size=12)\n",
    "fig.show()\n"
   ]
  },
  {
   "cell_type": "markdown",
   "id": "8ef043d1",
   "metadata": {},
   "source": [
    "Common routines and example comment"
   ]
  },
  {
   "cell_type": "code",
   "execution_count": 51,
   "id": "c4578b69",
   "metadata": {},
   "outputs": [
    {
     "name": "stdout",
     "output_type": "stream",
     "text": [
      "                               Routine  Frequency  \\\n",
      "0                        toner → serum         37   \n",
      "1               cleanser → moisturizer         27   \n",
      "2              moisturizer → sunscreen         25   \n",
      "3                  serum → moisturizer         24   \n",
      "4                  niacinamide → serum         21   \n",
      "5                     cleanser → toner         19   \n",
      "6                      retinol → serum         19   \n",
      "7   cleanser → moisturizer → sunscreen         15   \n",
      "8                     toner → cleanser         14   \n",
      "9              sunscreen → moisturizer         13   \n",
      "10                       serum → toner         12   \n",
      "11            cleanser → toner → serum         11   \n",
      "12                     serum → retinol         11   \n",
      "13                cleanser → sunscreen         11   \n",
      "14                    peptides → serum         10   \n",
      "15                 toner → moisturizer         10   \n",
      "16               exfoliator → cleanser         10   \n",
      "\n",
      "                                       ExampleComment  \n",
      "0   Should you use both a toner and a serum? And e...  \n",
      "1              I only use cleanser and moisturizer 😭💀  \n",
      "2   So I can use the moisturizer and just put suns...  \n",
      "3   I’m an esthetician. You should only be doing a...  \n",
      "4   Das Niacinamid Serum lieb ich, genau wie die T...  \n",
      "5   is the anua oil cleanser pore control ok for u...  \n",
      "6   I’ve researched to use retinol before the seru...  \n",
      "7   Cleanser > Moisturizer > Sunscreen that's what...  \n",
      "8   ANUA TONER BROKE ME OUTTTTT BUT I LOVE THEIR F...  \n",
      "9   I thought sunscreen would go before the moistu...  \n",
      "10  I second this! Korean skincare has changed my ...  \n",
      "11    I use cleanser toner serum and spit treatment 😅  \n",
      "12  Woah this is actually my routine! Though I add...  \n",
      "13  Was hältst du von la roche posay effaclar clea...  \n",
      "14  For someone in their 30's do you suggest skipp...  \n",
      "15  try doing toner, serums, oils, and then moistu...  \n",
      "16  darf man den Liqiud refiner mit den no cosmeti...  \n"
     ]
    }
   ],
   "source": [
    "# Helper function to remove consecutive duplicates from a routine\n",
    "def remove_consecutive_duplicates(seq):\n",
    "    return [x for i, x in enumerate(seq) if i == 0 or x != seq[i - 1]]\n",
    "\n",
    "# Extract routine sequences from the DataFrame\n",
    "routine_sequences = results_df['routine_sequence'].dropna().tolist()\n",
    "\n",
    "# Clean each sequence and filter out short ones\n",
    "routine_sequences = [\n",
    "    tuple(remove_consecutive_duplicates(seq))\n",
    "    for seq in routine_sequences\n",
    "    if len(remove_consecutive_duplicates(seq)) > 1\n",
    "]\n",
    "\n",
    "# Count how often each cleaned routine occurs\n",
    "from collections import Counter\n",
    "routine_counts = Counter(routine_sequences)\n",
    "\n",
    "# Create a DataFrame from the routine counts\n",
    "routine_df = pd.DataFrame([\n",
    "    {\"Routine\": \" → \".join(routine), \"Frequency\": count}\n",
    "    for routine, count in routine_counts.items()\n",
    "])\n",
    "\n",
    "# Filter routines by minimum frequency (e.g. at least 10)\n",
    "routine_df = routine_df[routine_df['Frequency'] >= 10].sort_values(by='Frequency', ascending=False)\n",
    "\n",
    "# Find an example comment for each routine\n",
    "examples = []\n",
    "\n",
    "for i, seq in enumerate(results_df['routine_sequence']):\n",
    "    if not isinstance(seq, list) or len(seq) < 2:\n",
    "        continue\n",
    "\n",
    "    cleaned_seq = tuple(remove_consecutive_duplicates(seq))\n",
    "    \n",
    "    if cleaned_seq in routine_counts and routine_counts[cleaned_seq] >= 10:\n",
    "        examples.append({\n",
    "            \"Routine\": \" → \".join(cleaned_seq),\n",
    "            \"ExampleComment\": comments[i]\n",
    "        })\n",
    "\n",
    "# Create example DataFrame and remove duplicates per routine\n",
    "example_df = pd.DataFrame(examples).drop_duplicates(subset=\"Routine\")\n",
    "\n",
    "# Merge example comments with the routine frequency table\n",
    "routine_df = routine_df.merge(example_df, on=\"Routine\", how=\"left\")\n",
    "\n",
    "# Display routine with frequency and example comment\n",
    "print(routine_df[['Routine', 'Frequency', 'ExampleComment']])\n"
   ]
  }
 ],
 "metadata": {
  "kernelspec": {
   "display_name": "skincare-analysis-6rggZTBS-py3.10",
   "language": "python",
   "name": "python3"
  },
  "language_info": {
   "codemirror_mode": {
    "name": "ipython",
    "version": 3
   },
   "file_extension": ".py",
   "mimetype": "text/x-python",
   "name": "python",
   "nbconvert_exporter": "python",
   "pygments_lexer": "ipython3",
   "version": "3.10.0"
  }
 },
 "nbformat": 4,
 "nbformat_minor": 5
}
